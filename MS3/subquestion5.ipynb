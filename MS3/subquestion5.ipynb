{
 "cells": [
  {
   "cell_type": "markdown",
   "metadata": {},
   "source": [
    "### Lets implement the sub question 5\n"
   ]
  },
  {
   "cell_type": "code",
   "execution_count": 172,
   "metadata": {},
   "outputs": [],
   "source": [
    "import pandas as pd\n",
    "import re\n",
    "from statsmodels.distributions.empirical_distribution import ECDF\n",
    "import statsmodels.formula.api as smf\n",
    "import numpy as np\n",
    "import matplotlib.pyplot as plt\n",
    "from scipy.stats import bootstrap\n"
   ]
  },
  {
   "cell_type": "code",
   "execution_count": null,
   "metadata": {},
   "outputs": [],
   "source": [
    "channels_df = pd.read_csv(\n",
    "    \"../data/df_channels_en.tsv.gz\", compression=\"infer\", sep=\"\\t\"\n",
    ")\n"
   ]
  },
  {
   "cell_type": "code",
   "execution_count": null,
   "metadata": {},
   "outputs": [],
   "source": [
    "metadatas_df = pd.read_feather(\n",
    "    \"../data/yt_metadata_helper.feather\",\n",
    "    columns=[\n",
    "        \"categories\",\n",
    "        \"upload_date\",\n",
    "        \"duration\",\n",
    "        \"like_count\",\n",
    "        \"dislike_count\",\n",
    "        \"view_count\",\n",
    "        \"channel_id\",\n",
    "    ],\n",
    ")\n"
   ]
  },
  {
   "cell_type": "code",
   "execution_count": 143,
   "metadata": {},
   "outputs": [
    {
     "data": {
      "text/html": [
       "<div>\n",
       "<style scoped>\n",
       "    .dataframe tbody tr th:only-of-type {\n",
       "        vertical-align: middle;\n",
       "    }\n",
       "\n",
       "    .dataframe tbody tr th {\n",
       "        vertical-align: top;\n",
       "    }\n",
       "\n",
       "    .dataframe thead th {\n",
       "        text-align: right;\n",
       "    }\n",
       "</style>\n",
       "<table border=\"1\" class=\"dataframe\">\n",
       "  <thead>\n",
       "    <tr style=\"text-align: right;\">\n",
       "      <th></th>\n",
       "      <th>category_cc</th>\n",
       "      <th>join_date</th>\n",
       "      <th>channel</th>\n",
       "      <th>name_cc</th>\n",
       "      <th>subscribers_cc</th>\n",
       "      <th>videos_cc</th>\n",
       "      <th>subscriber_rank_sb</th>\n",
       "      <th>weights</th>\n",
       "    </tr>\n",
       "  </thead>\n",
       "  <tbody>\n",
       "    <tr>\n",
       "      <th>0</th>\n",
       "      <td>Gaming</td>\n",
       "      <td>2010-04-29</td>\n",
       "      <td>UC-lHJZR3Gqxm24_Vd_AJ5Yw</td>\n",
       "      <td>PewDiePie</td>\n",
       "      <td>101000000</td>\n",
       "      <td>3956</td>\n",
       "      <td>3.0</td>\n",
       "      <td>2.087</td>\n",
       "    </tr>\n",
       "    <tr>\n",
       "      <th>1</th>\n",
       "      <td>Education</td>\n",
       "      <td>2006-09-01</td>\n",
       "      <td>UCbCmjCuTUZos6Inko4u57UQ</td>\n",
       "      <td>Cocomelon - Nursery ...</td>\n",
       "      <td>60100000</td>\n",
       "      <td>458</td>\n",
       "      <td>7.0</td>\n",
       "      <td>2.087</td>\n",
       "    </tr>\n",
       "    <tr>\n",
       "      <th>2</th>\n",
       "      <td>Entertainment</td>\n",
       "      <td>2006-09-20</td>\n",
       "      <td>UCpEhnqL0y41EpW2TvWAHD7Q</td>\n",
       "      <td>SET India</td>\n",
       "      <td>56018869</td>\n",
       "      <td>32661</td>\n",
       "      <td>8.0</td>\n",
       "      <td>2.087</td>\n",
       "    </tr>\n",
       "    <tr>\n",
       "      <th>3</th>\n",
       "      <td>Howto &amp; Style</td>\n",
       "      <td>2016-11-15</td>\n",
       "      <td>UC295-Dw_tDNtZXFeAPAW6Aw</td>\n",
       "      <td>5-Minute Crafts</td>\n",
       "      <td>60600000</td>\n",
       "      <td>3591</td>\n",
       "      <td>9.0</td>\n",
       "      <td>2.087</td>\n",
       "    </tr>\n",
       "    <tr>\n",
       "      <th>4</th>\n",
       "      <td>Sports</td>\n",
       "      <td>2007-05-11</td>\n",
       "      <td>UCJ5v_MCY6GNUBTO8-D3XoAg</td>\n",
       "      <td>WWE</td>\n",
       "      <td>48400000</td>\n",
       "      <td>43421</td>\n",
       "      <td>11.0</td>\n",
       "      <td>2.087</td>\n",
       "    </tr>\n",
       "  </tbody>\n",
       "</table>\n",
       "</div>"
      ],
      "text/plain": [
       "     category_cc   join_date                   channel  \\\n",
       "0         Gaming  2010-04-29  UC-lHJZR3Gqxm24_Vd_AJ5Yw   \n",
       "1      Education  2006-09-01  UCbCmjCuTUZos6Inko4u57UQ   \n",
       "2  Entertainment  2006-09-20  UCpEhnqL0y41EpW2TvWAHD7Q   \n",
       "3  Howto & Style  2016-11-15  UC295-Dw_tDNtZXFeAPAW6Aw   \n",
       "4         Sports  2007-05-11  UCJ5v_MCY6GNUBTO8-D3XoAg   \n",
       "\n",
       "                   name_cc  subscribers_cc  videos_cc  subscriber_rank_sb  \\\n",
       "0                PewDiePie       101000000       3956                 3.0   \n",
       "1  Cocomelon - Nursery ...        60100000        458                 7.0   \n",
       "2                SET India        56018869      32661                 8.0   \n",
       "3          5-Minute Crafts        60600000       3591                 9.0   \n",
       "4                      WWE        48400000      43421                11.0   \n",
       "\n",
       "   weights  \n",
       "0    2.087  \n",
       "1    2.087  \n",
       "2    2.087  \n",
       "3    2.087  \n",
       "4    2.087  "
      ]
     },
     "execution_count": 143,
     "metadata": {},
     "output_type": "execute_result"
    }
   ],
   "source": [
    "channels_df.head()\n"
   ]
  },
  {
   "cell_type": "code",
   "execution_count": 132,
   "metadata": {},
   "outputs": [
    {
     "data": {
      "text/html": [
       "<div>\n",
       "<style scoped>\n",
       "    .dataframe tbody tr th:only-of-type {\n",
       "        vertical-align: middle;\n",
       "    }\n",
       "\n",
       "    .dataframe tbody tr th {\n",
       "        vertical-align: top;\n",
       "    }\n",
       "\n",
       "    .dataframe thead th {\n",
       "        text-align: right;\n",
       "    }\n",
       "</style>\n",
       "<table border=\"1\" class=\"dataframe\">\n",
       "  <thead>\n",
       "    <tr style=\"text-align: right;\">\n",
       "      <th></th>\n",
       "      <th>categories</th>\n",
       "      <th>upload_date</th>\n",
       "      <th>duration</th>\n",
       "      <th>like_count</th>\n",
       "      <th>dislike_count</th>\n",
       "      <th>view_count</th>\n",
       "      <th>channel_id</th>\n",
       "    </tr>\n",
       "  </thead>\n",
       "  <tbody>\n",
       "    <tr>\n",
       "      <th>0</th>\n",
       "      <td>Film &amp; Animation</td>\n",
       "      <td>2016-09-28</td>\n",
       "      <td>1159</td>\n",
       "      <td>8.0</td>\n",
       "      <td>1.0</td>\n",
       "      <td>1057.0</td>\n",
       "      <td>UCzWrhkg9eK5I8Bm3HfV-unA</td>\n",
       "    </tr>\n",
       "    <tr>\n",
       "      <th>1</th>\n",
       "      <td>Film &amp; Animation</td>\n",
       "      <td>2016-09-28</td>\n",
       "      <td>2681</td>\n",
       "      <td>23.0</td>\n",
       "      <td>1.0</td>\n",
       "      <td>12894.0</td>\n",
       "      <td>UCzWrhkg9eK5I8Bm3HfV-unA</td>\n",
       "    </tr>\n",
       "    <tr>\n",
       "      <th>2</th>\n",
       "      <td>Film &amp; Animation</td>\n",
       "      <td>2016-09-28</td>\n",
       "      <td>1394</td>\n",
       "      <td>1607.0</td>\n",
       "      <td>779.0</td>\n",
       "      <td>1800602.0</td>\n",
       "      <td>UCzWrhkg9eK5I8Bm3HfV-unA</td>\n",
       "    </tr>\n",
       "    <tr>\n",
       "      <th>3</th>\n",
       "      <td>Film &amp; Animation</td>\n",
       "      <td>2016-09-28</td>\n",
       "      <td>5064</td>\n",
       "      <td>227.0</td>\n",
       "      <td>24.0</td>\n",
       "      <td>57640.0</td>\n",
       "      <td>UCzWrhkg9eK5I8Bm3HfV-unA</td>\n",
       "    </tr>\n",
       "    <tr>\n",
       "      <th>4</th>\n",
       "      <td>Film &amp; Animation</td>\n",
       "      <td>2016-09-28</td>\n",
       "      <td>3554</td>\n",
       "      <td>105.0</td>\n",
       "      <td>13.0</td>\n",
       "      <td>86368.0</td>\n",
       "      <td>UCzWrhkg9eK5I8Bm3HfV-unA</td>\n",
       "    </tr>\n",
       "  </tbody>\n",
       "</table>\n",
       "</div>"
      ],
      "text/plain": [
       "         categories upload_date  duration  like_count  dislike_count  \\\n",
       "0  Film & Animation  2016-09-28      1159         8.0            1.0   \n",
       "1  Film & Animation  2016-09-28      2681        23.0            1.0   \n",
       "2  Film & Animation  2016-09-28      1394      1607.0          779.0   \n",
       "3  Film & Animation  2016-09-28      5064       227.0           24.0   \n",
       "4  Film & Animation  2016-09-28      3554       105.0           13.0   \n",
       "\n",
       "   view_count                channel_id  \n",
       "0      1057.0  UCzWrhkg9eK5I8Bm3HfV-unA  \n",
       "1     12894.0  UCzWrhkg9eK5I8Bm3HfV-unA  \n",
       "2   1800602.0  UCzWrhkg9eK5I8Bm3HfV-unA  \n",
       "3     57640.0  UCzWrhkg9eK5I8Bm3HfV-unA  \n",
       "4     86368.0  UCzWrhkg9eK5I8Bm3HfV-unA  "
      ]
     },
     "execution_count": 132,
     "metadata": {},
     "output_type": "execute_result"
    }
   ],
   "source": [
    "metadatas_df.head()\n"
   ]
  },
  {
   "cell_type": "code",
   "execution_count": null,
   "metadata": {},
   "outputs": [],
   "source": [
    "metadatas_df.shape\n"
   ]
  },
  {
   "cell_type": "markdown",
   "metadata": {},
   "source": [
    "Use the metadatas to notice if channels changed their content (category) sometimes.\n"
   ]
  },
  {
   "cell_type": "code",
   "execution_count": null,
   "metadata": {},
   "outputs": [],
   "source": [
    "INTERESTING_CAT = [\"Gaming\", \"People & Blogs\", \"Comedy\"]\n",
    "INTERESTING_CAT_IDS = channels_df[channels_df.category_cc.isin(INTERESTING_CAT)].channel\n"
   ]
  },
  {
   "cell_type": "code",
   "execution_count": null,
   "metadata": {},
   "outputs": [],
   "source": [
    "# select the channels as main topic \"Gaming\" and which are present in the channels df\n",
    "comedy_ids = channels_df[channels_df.category_cc == \"Gaming\"].channel\n",
    "# select these channels in the metadatas\n",
    "metadatas_gaming = metadatas_df[metadatas_df.channel_id.isin(comedy_ids)]\n",
    "metadatas_gaming.categories.value_counts().plot(kind=\"bar\")\n",
    "plt.title(\"Number of videos per categories for channels with Gaming topic\")\n",
    "plt.xlabel(\"Categories\")\n",
    "plt.ylabel(\"Number of videos\")\n"
   ]
  },
  {
   "cell_type": "code",
   "execution_count": null,
   "metadata": {},
   "outputs": [],
   "source": [
    "# select the channels as main topic \"People & Blogs\" and which are present in the channels df\n",
    "comedy_ids = channels_df[channels_df.category_cc == \"People & Blogs\"].channel\n",
    "# select these channels in the metadatas\n",
    "metadatas_people_blogs = metadatas_df[metadatas_df.channel_id.isin(comedy_ids)]\n",
    "metadatas_people_blogs.categories.value_counts().plot(kind=\"bar\")\n",
    "plt.title(\"Number of videos per categories for channels with People and Blogs topic\")\n",
    "plt.xlabel(\"Categories\")\n",
    "plt.ylabel(\"Number of videos\")\n"
   ]
  },
  {
   "cell_type": "code",
   "execution_count": null,
   "metadata": {},
   "outputs": [],
   "source": [
    "# select the channels as main topic \"Comedy\" and which are present in the channels df\n",
    "comedy_ids = channels_df[channels_df.category_cc == \"Comedy\"].channel\n",
    "# select these channels in the metadatas\n",
    "metadatas_comedy = metadatas_df[metadatas_df.channel_id.isin(comedy_ids)]\n",
    "metadatas_comedy.categories.value_counts().plot(kind=\"bar\")\n",
    "plt.title(\"Number of videos per categories for channels with Comedy topic\")\n",
    "plt.xlabel(\"Categories\")\n",
    "plt.ylabel(\"Number of videos\")\n"
   ]
  },
  {
   "cell_type": "markdown",
   "metadata": {},
   "source": [
    "Find channels with unique topic\n"
   ]
  },
  {
   "cell_type": "code",
   "execution_count": 156,
   "metadata": {},
   "outputs": [
    {
     "name": "stdout",
     "output_type": "stream",
     "text": [
      "nb of channels with unique topic Comedy :  (536,)\n",
      "nb of channels without unique topic Comedy :  (3231,)\n"
     ]
    }
   ],
   "source": [
    "comedy_channels_with_categories = metadatas_comedy.groupby(\"channel_id\").apply(\n",
    "    lambda group: group.categories.unique()\n",
    ")\n",
    "unique_topic_comedy = comedy_channels_with_categories.loc[\n",
    "    comedy_channels_with_categories.str.len() == 1\n",
    "]\n",
    "non_unique_topic_comedy = comedy_channels_with_categories.loc[\n",
    "    comedy_channels_with_categories.str.len() > 1\n",
    "]\n",
    "print(\"nb of channels with unique topic Comedy : \", unique_topic_comedy.shape)\n",
    "print(\"nb of channels without unique topic Comedy : \", non_unique_topic_comedy.shape)\n"
   ]
  },
  {
   "cell_type": "code",
   "execution_count": 157,
   "metadata": {},
   "outputs": [
    {
     "name": "stdout",
     "output_type": "stream",
     "text": [
      "nb of channels with unique topic People & Blogs :  (8723,)\n",
      "nb of channels without unique topic People & Blogs :  (9690,)\n"
     ]
    }
   ],
   "source": [
    "blogs_channels_with_categories = metadatas_people_blogs.groupby(\"channel_id\").apply(\n",
    "    lambda group: group.categories.unique()\n",
    ")\n",
    "unique_topic_blog = blogs_channels_with_categories.loc[\n",
    "    blogs_channels_with_categories.str.len() == 1\n",
    "]\n",
    "non_unique_topic_blog = blogs_channels_with_categories.loc[\n",
    "    blogs_channels_with_categories.str.len() > 1\n",
    "]\n",
    "print(\"nb of channels with unique topic People & Blogs : \", unique_topic_blog.shape)\n",
    "print(\n",
    "    \"nb of channels without unique topic People & Blogs : \", non_unique_topic_blog.shape\n",
    ")\n"
   ]
  },
  {
   "cell_type": "code",
   "execution_count": 158,
   "metadata": {},
   "outputs": [
    {
     "name": "stdout",
     "output_type": "stream",
     "text": [
      "nb of channels with unique topic Gaming :  (5952,)\n",
      "nb of channels without unique topic Gaming :  (14191,)\n"
     ]
    }
   ],
   "source": [
    "gaming_channels_with_categories = metadatas_gaming.groupby(\"channel_id\").apply(\n",
    "    lambda group: group.categories.unique()\n",
    ")\n",
    "unique_topic_gaming = gaming_channels_with_categories.loc[\n",
    "    gaming_channels_with_categories.str.len() == 1\n",
    "]\n",
    "non_unique_topic_gaming = gaming_channels_with_categories.loc[\n",
    "    gaming_channels_with_categories.str.len() > 1\n",
    "]\n",
    "print(\"nb of channels with unique topic Gaming : \", unique_topic_gaming.shape)\n",
    "print(\"nb of channels without unique topic Gaming : \", non_unique_topic_gaming.shape)\n"
   ]
  },
  {
   "cell_type": "code",
   "execution_count": 159,
   "metadata": {},
   "outputs": [],
   "source": [
    "unique_topic_comedy_channels_descript = channels_df[\n",
    "    channels_df.channel.isin(unique_topic_comedy.index.values)\n",
    "]\n",
    "non_unique_topic_comedy_channels_descript = channels_df[\n",
    "    channels_df.channel.isin(non_unique_topic_comedy.index.values)\n",
    "]\n"
   ]
  },
  {
   "cell_type": "code",
   "execution_count": 160,
   "metadata": {},
   "outputs": [],
   "source": [
    "unique_topic_blogs_channels_descript = channels_df[\n",
    "    channels_df.channel.isin(unique_topic_blog.index.values)\n",
    "]\n",
    "non_unique_topic_blogs_channels_descript = channels_df[\n",
    "    channels_df.channel.isin(non_unique_topic_blog.index.values)\n",
    "]\n"
   ]
  },
  {
   "cell_type": "code",
   "execution_count": 161,
   "metadata": {},
   "outputs": [],
   "source": [
    "unique_topic_gaming_channels_descript = channels_df[\n",
    "    channels_df.channel.isin(unique_topic_gaming.index.values)\n",
    "]\n",
    "non_unique_topic_gaming_channels_descript = channels_df[\n",
    "    channels_df.channel.isin(non_unique_topic_gaming.index.values)\n",
    "]\n"
   ]
  },
  {
   "cell_type": "markdown",
   "metadata": {},
   "source": [
    "### Now we have the dataset to check the different between unique and non unique categories channels\n"
   ]
  },
  {
   "cell_type": "code",
   "execution_count": 200,
   "metadata": {},
   "outputs": [],
   "source": [
    "def get_confidence_interval(data):\n",
    "    rng = np.random.default_rng()\n",
    "    return bootstrap(\n",
    "        (data,),\n",
    "        np.mean,\n",
    "        confidence_level=0.95,\n",
    "        random_state=rng,\n",
    "    ).confidence_interval\n"
   ]
  },
  {
   "cell_type": "code",
   "execution_count": 201,
   "metadata": {},
   "outputs": [
    {
     "name": "stdout",
     "output_type": "stream",
     "text": [
      "95% confidence interval of number of subs for unique Comedy channels [320_024, 504_812]\n",
      "95% confidence interval of number of subs for non unique Comedy channels [394_339, 495_778]\n"
     ]
    }
   ],
   "source": [
    "conf1 = get_confidence_interval(unique_topic_comedy_channels_descript.subscribers_cc)\n",
    "print(\n",
    "    \"95% confidence interval of number of subs for unique Comedy channels [{:_}, {:_}]\".format(\n",
    "        int(conf1[0]), int(conf1[1])\n",
    "    )\n",
    ")\n",
    "conf2 = get_confidence_interval(\n",
    "    non_unique_topic_comedy_channels_descript.subscribers_cc\n",
    ")\n",
    "print(\n",
    "    \"95% confidence interval of number of subs for non unique Comedy channels [{:_}, {:_}]\".format(\n",
    "        int(conf2[0]), int(conf2[1])\n",
    "    )\n",
    ")\n"
   ]
  },
  {
   "cell_type": "code",
   "execution_count": 202,
   "metadata": {},
   "outputs": [
    {
     "name": "stdout",
     "output_type": "stream",
     "text": [
      "95% confidence interval of number of subs for unique Blogs channels [111_597, 129_930]\n",
      "95% confidence interval of number of subs for non unique Blogs channels [175_958, 204_530]\n"
     ]
    }
   ],
   "source": [
    "conf1 = get_confidence_interval(unique_topic_blogs_channels_descript.subscribers_cc)\n",
    "print(\n",
    "    \"95% confidence interval of number of subs for unique Blogs channels [{:_}, {:_}]\".format(\n",
    "        int(conf1[0]), int(conf1[1])\n",
    "    )\n",
    ")\n",
    "conf2 = get_confidence_interval(non_unique_topic_blogs_channels_descript.subscribers_cc)\n",
    "print(\n",
    "    \"95% confidence interval of number of subs for non unique Blogs channels [{:_}, {:_}]\".format(\n",
    "        int(conf2[0]), int(conf2[1])\n",
    "    )\n",
    ")\n"
   ]
  },
  {
   "cell_type": "code",
   "execution_count": 203,
   "metadata": {},
   "outputs": [
    {
     "name": "stdout",
     "output_type": "stream",
     "text": [
      "95% confidence interval of number of subs for unique Gaming channels [158_822, 185_439]\n",
      "95% confidence interval of number of subs for non unique Gaming channels [199_496, 242_447]\n"
     ]
    }
   ],
   "source": [
    "conf1 = get_confidence_interval(unique_topic_gaming_channels_descript.subscribers_cc)\n",
    "print(\n",
    "    \"95% confidence interval of number of subs for unique Gaming channels [{:_}, {:_}]\".format(\n",
    "        int(conf1[0]), int(conf1[1])\n",
    "    )\n",
    ")\n",
    "conf2 = get_confidence_interval(\n",
    "    non_unique_topic_gaming_channels_descript.subscribers_cc\n",
    ")\n",
    "print(\n",
    "    \"95% confidence interval of number of subs for non unique Gaming channels [{:_}, {:_}]\".format(\n",
    "        int(conf2[0]), int(conf2[1])\n",
    "    )\n",
    ")\n"
   ]
  },
  {
   "cell_type": "code",
   "execution_count": null,
   "metadata": {},
   "outputs": [],
   "source": []
  }
 ],
 "metadata": {
  "kernelspec": {
   "display_name": "Python 3.9.13 ('ada')",
   "language": "python",
   "name": "python3"
  },
  "language_info": {
   "codemirror_mode": {
    "name": "ipython",
    "version": 3
   },
   "file_extension": ".py",
   "mimetype": "text/x-python",
   "name": "python",
   "nbconvert_exporter": "python",
   "pygments_lexer": "ipython3",
   "version": "3.9.13"
  },
  "orig_nbformat": 4,
  "vscode": {
   "interpreter": {
    "hash": "e2552cbddfdf66195580a0cc7030164c04fc13f4bfb78773728a78bbf4f04323"
   }
  }
 },
 "nbformat": 4,
 "nbformat_minor": 2
}
