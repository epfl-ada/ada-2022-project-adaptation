{
 "cells": [
  {
   "cell_type": "markdown",
   "metadata": {},
   "source": [
    "# Create dataset of videos metadata with title & tags\n"
   ]
  },
  {
   "cell_type": "code",
   "execution_count": 2,
   "metadata": {},
   "outputs": [],
   "source": [
    "import pandas as pd\n"
   ]
  },
  {
   "cell_type": "code",
   "execution_count": 3,
   "metadata": {},
   "outputs": [],
   "source": [
    "DIR = \"../data/\"\n",
    "PATH_METADATA_DST = DIR + \"yt_metadata_en.jsonl.gz\"\n",
    "PATH_METADATA_TITLE_HELPER = DIR + \"yt_metadata_title_helper.feather\"\n",
    "PATH_METADATA_TAGS_HELPER = DIR + \"yt_metadata_tags_helper.feather\"\n",
    "PATH_METADATA_TITLE_FILTER_CAT = DIR + \"yt_metadata_title_filter_cat_sample.feather\"\n"
   ]
  },
  {
   "cell_type": "markdown",
   "metadata": {},
   "source": [
    "### create dataset with titles for the only interesting categories (Gaming, People & Blogs, Comedy)\n"
   ]
  },
  {
   "cell_type": "code",
   "execution_count": 4,
   "metadata": {},
   "outputs": [
    {
     "name": "stdout",
     "output_type": "stream",
     "text": [
      "500000\n",
      "1000000\n",
      "1500000\n",
      "2000000\n",
      "2500000\n"
     ]
    }
   ],
   "source": [
    "dfs = []\n",
    "\n",
    "OUR_CAT = [\"Gaming\", \"Comedy\", \"People & Blogs\"]\n",
    "\n",
    "i = 0\n",
    "for df_json in pd.read_json(\n",
    "    PATH_METADATA_DST, compression=\"infer\", chunksize=500_000, lines=True\n",
    "):\n",
    "    df_json.drop(\n",
    "        [\n",
    "            \"display_id\",\n",
    "            \"duration\",\n",
    "            \"description\",\n",
    "            \"tags\",\n",
    "            \"crawl_date\",\n",
    "        ],\n",
    "        inplace=True,\n",
    "        axis=1,\n",
    "    )\n",
    "    new_df = df_json[df_json.categories.isin(OUR_CAT)]\n",
    "    dfs.append(new_df)\n",
    "    i += 500_000\n",
    "    print(i)\n",
    "    if i >= 5 * 500_000:\n",
    "        break\n",
    "\n",
    "df_final = pd.concat(dfs)\n",
    "df_final.reset_index().to_feather(PATH_METADATA_TITLE_FILTER_CAT)\n"
   ]
  },
  {
   "cell_type": "code",
   "execution_count": null,
   "metadata": {},
   "outputs": [],
   "source": [
    "dfs = []\n",
    "\n",
    "for df_json in pd.read_json(\n",
    "    PATH_METADATA_DST, compression=\"infer\", chunksize=10000, lines=True\n",
    "):\n",
    "    df_json.drop(\n",
    "        [\n",
    "            \"channel_id\",\n",
    "            \"dislike_count\",\n",
    "            \"display_id\",\n",
    "            \"duration\",\n",
    "            \"like_count\",\n",
    "            \"description\",\n",
    "            \"upload_date\",\n",
    "            \"tags\",\n",
    "            \"view_count\",\n",
    "            \"crawl_date\",\n",
    "        ],\n",
    "        inplace=True,\n",
    "        axis=1,\n",
    "    )\n",
    "    dfs.append(df_json)\n",
    "\n",
    "df_final = pd.concat(dfs)\n",
    "df_final.to_feather(PATH_METADATA_TITLE_HELPER)\n"
   ]
  },
  {
   "cell_type": "code",
   "execution_count": null,
   "metadata": {},
   "outputs": [],
   "source": [
    "dfs = []\n",
    "\n",
    "for df_json in pd.read_json(\n",
    "    PATH_METADATA_DST, compression=\"infer\", chunksize=10000, lines=True\n",
    "):\n",
    "    df_json.drop(\n",
    "        [\n",
    "            \"channel_id\",\n",
    "            \"dislike_count\",\n",
    "            \"display_id\",\n",
    "            \"duration\",\n",
    "            \"like_count\",\n",
    "            \"description\",\n",
    "            \"upload_date\",\n",
    "            \"view_count\",\n",
    "            \"title\",\n",
    "            \"crawl_date\",\n",
    "        ],\n",
    "        inplace=True,\n",
    "        axis=1,\n",
    "    )\n",
    "    df_json[\"tags\"] = df_json[\"tags\"].apply(lambda x: x.split(\",\"))\n",
    "    dfs.append(df_json)\n",
    "\n",
    "df_final = pd.concat(dfs)\n",
    "df_final.to_feather(PATH_METADATA_TAGS_HELPER)\n"
   ]
  },
  {
   "cell_type": "code",
   "execution_count": null,
   "metadata": {},
   "outputs": [],
   "source": [
    "video_metadatas = pd.read_feather(\n",
    "    \"./data/yt_metadata_tags_helper.feather\",\n",
    "    columns=[\"display_id\", \"tags\"],\n",
    ")\n"
   ]
  },
  {
   "cell_type": "code",
   "execution_count": null,
   "metadata": {},
   "outputs": [],
   "source": [
    "video_metadatas.head()\n"
   ]
  }
 ],
 "metadata": {
  "kernelspec": {
   "display_name": "Python 3 (ipykernel)",
   "language": "python",
   "name": "python3"
  },
  "language_info": {
   "codemirror_mode": {
    "name": "ipython",
    "version": 3
   },
   "file_extension": ".py",
   "mimetype": "text/x-python",
   "name": "python",
   "nbconvert_exporter": "python",
   "pygments_lexer": "ipython3",
   "version": "3.9.13"
  },
  "vscode": {
   "interpreter": {
    "hash": "e2552cbddfdf66195580a0cc7030164c04fc13f4bfb78773728a78bbf4f04323"
   }
  }
 },
 "nbformat": 4,
 "nbformat_minor": 2
}
