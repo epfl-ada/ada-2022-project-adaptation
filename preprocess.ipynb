{
 "cells": [
  {
   "cell_type": "markdown",
   "metadata": {},
   "source": [
    "# Create dataset of videos metadata with title & tags"
   ]
  },
  {
   "cell_type": "code",
   "execution_count": 1,
   "metadata": {},
   "outputs": [],
   "source": [
    "import pandas as pd"
   ]
  },
  {
   "cell_type": "code",
   "execution_count": 2,
   "metadata": {},
   "outputs": [],
   "source": [
    "DIR = \"./data/\"\n",
    "PATH_METADATA_DST = DIR + \"yt_metadata_en.jsonl.gz\"\n",
    "PATH_METADATA_TITLE_HELPER = DIR + \"yt_metadata_title_helper.feather\"\n",
    "PATH_METADATA_TAGS_HELPER = DIR + \"yt_metadata_tags_helper.feather\""
   ]
  },
  {
   "cell_type": "code",
   "execution_count": null,
   "metadata": {},
   "outputs": [],
   "source": [
    "dfs = []\n",
    "\n",
    "for df_json in pd.read_json(PATH_METADATA_DST, compression=\"infer\", chunksize=10000, lines=True):\n",
    "    df_json.drop([\"channel_id\", \"dislike_count\", \"display_id\", \"duration\", \"like_count\", \"description\", \"upload_date\", \"tags\", \"view_count\", \"crawl_date\"], inplace=True, axis=1)\n",
    "    dfs.append(df_json)\n",
    "\n",
    "df_final = pd.concat(dfs)\n",
    "df_final.to_feather(PATH_METADATA_TITLE_HELPER)"
   ]
  },
  {
   "cell_type": "code",
   "execution_count": 7,
   "metadata": {},
   "outputs": [],
   "source": [
    "dfs = []\n",
    "\n",
    "for df_json in pd.read_json(PATH_METADATA_DST, compression=\"infer\", chunksize=10000, lines=True):\n",
    "    df_json.drop([\"channel_id\", \"dislike_count\", \"display_id\", \"duration\", \"like_count\", \"description\", \"upload_date\", \"view_count\", \"title\", \"crawl_date\"], inplace=True, axis=1)\n",
    "    df_json[\"tags\"] = df_json[\"tags\"].apply(lambda x : x.split(\",\"))\n",
    "    dfs.append(df_json)\n",
    "\n",
    "df_final = pd.concat(dfs)\n",
    "df_final.to_feather(PATH_METADATA_TAGS_HELPER)"
   ]
  },
  {
   "cell_type": "code",
   "execution_count": null,
   "metadata": {},
   "outputs": [],
   "source": []
  }
 ],
 "metadata": {
  "kernelspec": {
   "display_name": "Python 3.9.13 ('ada')",
   "language": "python",
   "name": "python3"
  },
  "language_info": {
   "codemirror_mode": {
    "name": "ipython",
    "version": 3
   },
   "file_extension": ".py",
   "mimetype": "text/x-python",
   "name": "python",
   "nbconvert_exporter": "python",
   "pygments_lexer": "ipython3",
   "version": "3.9.13"
  },
  "orig_nbformat": 4,
  "vscode": {
   "interpreter": {
    "hash": "e2552cbddfdf66195580a0cc7030164c04fc13f4bfb78773728a78bbf4f04323"
   }
  }
 },
 "nbformat": 4,
 "nbformat_minor": 2
}
