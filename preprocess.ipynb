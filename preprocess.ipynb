{
 "cells": [
  {
   "cell_type": "markdown",
   "metadata": {},
   "source": [
    "# Create dataset of videos metadata with tags"
   ]
  },
  {
   "cell_type": "code",
   "execution_count": null,
   "metadata": {},
   "outputs": [],
   "source": [
    "import pandas as pd"
   ]
  },
  {
   "cell_type": "code",
   "execution_count": null,
   "metadata": {},
   "outputs": [],
   "source": [
    "DIR = \"./data/\"\n",
    "PATH_METADATA_DST = DIR + \"yt_metadata_en.jsonl.gz\"\n",
    "PATH_METADATA_HELPER = DIR + \"yt_metadata_helper.feather\""
   ]
  },
  {
   "cell_type": "code",
   "execution_count": null,
   "metadata": {},
   "outputs": [],
   "source": [
    "dfs = []\n",
    "\n",
    "for df_json in pd.read_json(PATH_METADATA_DST, compression=\"infer\", chunksize=5000000, lines=True):\n",
    "    df_json.drop([\"channel_id\", \"dislike_count\", \"display_id\", \"duration\", \"like_count\", \"description\", \"upload_date\", \"view_count\", \"title\", \"crawl_date\"], inplace=True, axis=1)\n",
    "    dfs.append(df_json)\n",
    "\n",
    "df_final = pd.concat(dfs)\n",
    "df_final.to_feather(PATH_METADATA_HELPER)"
   ]
  }
 ],
 "metadata": {
  "kernelspec": {
   "display_name": "Python 3.9.13 64-bit (microsoft store)",
   "language": "python",
   "name": "python3"
  },
  "language_info": {
   "codemirror_mode": {
    "name": "ipython",
    "version": 3
   },
   "file_extension": ".py",
   "mimetype": "text/x-python",
   "name": "python",
   "nbconvert_exporter": "python",
   "pygments_lexer": "ipython3",
   "version": "3.9.13"
  },
  "orig_nbformat": 4,
  "vscode": {
   "interpreter": {
    "hash": "e22c46614c12b51e434b1987d6d67df3c07a865fc0708b93ab6cef9973e51d54"
   }
  }
 },
 "nbformat": 4,
 "nbformat_minor": 2
}
