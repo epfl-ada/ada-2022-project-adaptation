{
 "cells": [
  {
   "cell_type": "markdown",
   "metadata": {},
   "source": [
    "# Create dataset of videos metadata with title & tags"
   ]
  },
  {
   "cell_type": "code",
   "execution_count": 1,
   "metadata": {},
   "outputs": [],
   "source": [
    "import pandas as pd"
   ]
  },
  {
   "cell_type": "code",
   "execution_count": 2,
   "metadata": {},
   "outputs": [],
   "source": [
    "DIR = \"./data/\"\n",
    "PATH_METADATA_DST = DIR + \"yt_metadata_en.jsonl.gz\"\n",
    "PATH_METADATA_TITLE_HELPER = DIR + \"yt_metadata_title_helper.feather\"\n",
    "PATH_METADATA_TAGS_HELPER = DIR + \"yt_metadata_tags_helper.feather\"\n"
   ]
  },
  {
   "cell_type": "code",
   "execution_count": null,
   "metadata": {},
   "outputs": [],
   "source": [
    "dfs = []\n",
    "\n",
    "for df_json in pd.read_json(PATH_METADATA_DST, compression=\"infer\", chunksize=10000, lines=True):\n",
    "    df_json.drop([\"channel_id\", \"dislike_count\", \"display_id\", \"duration\", \"like_count\", \"description\", \"upload_date\", \"tags\", \"view_count\", \"crawl_date\"], inplace=True, axis=1)\n",
    "    dfs.append(df_json)\n",
    "\n",
    "df_final = pd.concat(dfs)\n",
    "df_final.to_feather(PATH_METADATA_TITLE_HELPER)"
   ]
  },
  {
   "cell_type": "code",
   "execution_count": 7,
   "metadata": {},
   "outputs": [],
   "source": [
    "dfs = []\n",
    "\n",
    "for df_json in pd.read_json(PATH_METADATA_DST, compression=\"infer\", chunksize=10000, lines=True):\n",
    "    df_json.drop([\"channel_id\", \"dislike_count\", \"display_id\", \"duration\", \"like_count\", \"description\", \"upload_date\", \"view_count\", \"title\", \"crawl_date\"], inplace=True, axis=1)\n",
    "    df_json[\"tags\"] = df_json[\"tags\"].apply(lambda x : x.split(\",\"))\n",
    "    dfs.append(df_json)\n",
    "\n",
    "df_final = pd.concat(dfs)\n",
    "df_final.to_feather(PATH_METADATA_TAGS_HELPER)"
   ]
  },
  {
   "cell_type": "code",
   "execution_count": 2,
   "metadata": {},
   "outputs": [],
   "source": [
    "video_metadatas = pd.read_feather(\n",
    "    \"./data/yt_metadata_tags_helper.feather\",\n",
    "    columns=[\n",
    "        \"display_id\",\n",
    "        \"tags\"\n",
    "    ],\n",
    ")\n"
   ]
  },
  {
   "cell_type": "code",
   "execution_count": 3,
   "metadata": {},
   "outputs": [
    {
     "data": {
      "text/html": [
       "<div>\n",
       "<style scoped>\n",
       "    .dataframe tbody tr th:only-of-type {\n",
       "        vertical-align: middle;\n",
       "    }\n",
       "\n",
       "    .dataframe tbody tr th {\n",
       "        vertical-align: top;\n",
       "    }\n",
       "\n",
       "    .dataframe thead th {\n",
       "        text-align: right;\n",
       "    }\n",
       "</style>\n",
       "<table border=\"1\" class=\"dataframe\">\n",
       "  <thead>\n",
       "    <tr style=\"text-align: right;\">\n",
       "      <th></th>\n",
       "      <th>categories</th>\n",
       "      <th>tags</th>\n",
       "    </tr>\n",
       "  </thead>\n",
       "  <tbody>\n",
       "    <tr>\n",
       "      <th>0</th>\n",
       "      <td>Film &amp; Animation</td>\n",
       "      <td>lego city,lego police,lego city police,lego ci...</td>\n",
       "    </tr>\n",
       "    <tr>\n",
       "      <th>1</th>\n",
       "      <td>Film &amp; Animation</td>\n",
       "      <td>Lego superheroes,lego hulk,hulk smash,lego mar...</td>\n",
       "    </tr>\n",
       "    <tr>\n",
       "      <th>2</th>\n",
       "      <td>Film &amp; Animation</td>\n",
       "      <td>lego city,lego police,lego city police,lego fi...</td>\n",
       "    </tr>\n",
       "    <tr>\n",
       "      <th>3</th>\n",
       "      <td>Film &amp; Animation</td>\n",
       "      <td>Lego harry potter,new harry potter,harry potte...</td>\n",
       "    </tr>\n",
       "    <tr>\n",
       "      <th>4</th>\n",
       "      <td>Film &amp; Animation</td>\n",
       "      <td>lego city,lego police,lego city police,lego fi...</td>\n",
       "    </tr>\n",
       "  </tbody>\n",
       "</table>\n",
       "</div>"
      ],
      "text/plain": [
       "         categories                                               tags\n",
       "0  Film & Animation  lego city,lego police,lego city police,lego ci...\n",
       "1  Film & Animation  Lego superheroes,lego hulk,hulk smash,lego mar...\n",
       "2  Film & Animation  lego city,lego police,lego city police,lego fi...\n",
       "3  Film & Animation  Lego harry potter,new harry potter,harry potte...\n",
       "4  Film & Animation  lego city,lego police,lego city police,lego fi..."
      ]
     },
     "execution_count": 3,
     "metadata": {},
     "output_type": "execute_result"
    }
   ],
   "source": [
    "video_metadatas.head()"
   ]
  }
 ],
 "metadata": {
  "kernelspec": {
   "display_name": "Python 3 (ipykernel)",
   "language": "python",
   "name": "python3"
  },
  "language_info": {
   "codemirror_mode": {
    "name": "ipython",
    "version": 3
   },
   "file_extension": ".py",
   "mimetype": "text/x-python",
   "name": "python",
   "nbconvert_exporter": "python",
   "pygments_lexer": "ipython3",
   "version": "3.9.13"
  },
  "vscode": {
   "interpreter": {
    "hash": "e2552cbddfdf66195580a0cc7030164c04fc13f4bfb78773728a78bbf4f04323"
   }
  }
 },
 "nbformat": 4,
 "nbformat_minor": 2
}
