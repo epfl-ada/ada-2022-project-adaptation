{
   "cells": [
      {
         "attachments": {},
         "cell_type": "markdown",
         "id": "e2af5202-cd4d-4fe2-9e7e-48869ec70229",
         "metadata": {},
         "source": [
            "# Part 0: Initialising\n"
         ]
      },
      {
         "cell_type": "code",
         "execution_count": null,
         "id": "b347be5c-381b-4203-a676-ae35909a42cc",
         "metadata": {},
         "outputs": [],
         "source": [
            "# Initializing\n",
            "import matplotlib.font_manager as font_manager\n",
            "from matplotlib.lines import Line2D\n",
            "import matplotlib as mpl\n",
            "import matplotlib.ticker as mtick\n",
            "import matplotlib.pyplot as plt\n",
            "import pandas as pd\n",
            "import numpy as np\n",
            "import seaborn as sns\n",
            "import os\n",
            "import re\n",
            "from scipy.stats import bootstrap\n",
            "import statsmodels.api as sm\n",
            "import statsmodels.formula.api as smf\n",
            "import requests\n",
            "import random\n",
            "\n",
            "params = {\n",
            "    \"axes.titlesize\": 14,\n",
            "    \"axes.labelsize\": 12,\n",
            "    \"font.size\": 12,\n",
            "    \"legend.fontsize\": 12,\n",
            "    \"xtick.labelsize\": 12,\n",
            "    \"ytick.labelsize\": 12,\n",
            "    \"text.usetex\": False,\n",
            "}\n",
            "\n",
            "NUM_COLORS = 15\n",
            "cm = plt.get_cmap(\"nipy_spectral\")\n",
            "\n",
            "mpl.rcParams.update(params)\n",
            "\n",
            "import warnings\n",
            "\n",
            "warnings.filterwarnings(\"ignore\")\n"
         ]
      },
      {
         "attachments": {},
         "cell_type": "markdown",
         "id": "9c4e5555-b4fc-4cd9-acea-f54ff5aef1ad",
         "metadata": {},
         "source": [
            "To start with, we import three datasets that are available from YouNiverse:\n",
            "\n",
            "` ` df_channels_en.tsv.gz ` `\n",
            "\n",
            "` ` df_timeseries_en.tsv.gz ` `\n",
            "\n",
            "` ` yt_metadata_helper.feather ` `\n",
            "\n",
            "We will filter the channels that have been identified as Gaming, as it is our target category. We will do this by identifying the channel IDs with label ` ` Gaming `  ` in `  ` Category `  ` from `  ` df_channels_en.tsv.gz ` ` .\n"
         ]
      },
      {
         "cell_type": "code",
         "execution_count": null,
         "id": "df97ef38",
         "metadata": {},
         "outputs": [],
         "source": [
            "df_channels = pd.read_csv(\"./data/df_channels_en.tsv.gz\", compression=\"infer\", sep=\"\\t\")\n",
            "df_channels[\"join_date\"] = pd.to_datetime(df_channels[\"join_date\"])\n",
            "\n",
            "df_channels = df_channels[df_channels[\"category_cc\"] == \"Gaming\"]\n",
            "channel_id_gaming = df_channels.channel\n"
         ]
      },
      {
         "attachments": {},
         "cell_type": "markdown",
         "id": "d5ca7894",
         "metadata": {},
         "source": [
            "` ` channel_id_gaming `  ` contains all channel IDs that are identified as Gaming. We will use this list to do initial filtering of both `  ` df_time_series `  ` and `  ` video_metadatas ` ` .\n"
         ]
      },
      {
         "cell_type": "code",
         "execution_count": null,
         "id": "2c93da3e-46e0-4e9b-98dc-c725a9d981fa",
         "metadata": {},
         "outputs": [],
         "source": [
            "df_time_series = pd.read_csv(\n",
            "    \"./data/df_timeseries_en.tsv.gz\", compression=\"infer\", sep=\"\\t\"\n",
            ")\n",
            "df_time_series[\"datetime\"] = pd.to_datetime(df_time_series[\"datetime\"])\n",
            "# round the total number of subscribers, it is easier to consider 1 person and instead half of a person...\n",
            "df_time_series.subs = df_time_series.subs.round(0)\n",
            "\n",
            "# we filter the channels being labeled as \"Gaming\" in df_channels_en.tsv.gz\n",
            "df_time_series = df_time_series[df_time_series[\"channel\"].isin(channel_id_gaming)]\n"
         ]
      },
      {
         "cell_type": "code",
         "execution_count": null,
         "id": "bfb8de83-f104-4db7-a03d-45eedff3600d",
         "metadata": {},
         "outputs": [],
         "source": [
            "video_metadatas = pd.read_feather(\n",
            "    \"./data/yt_metadata_helper.feather\",\n",
            "    columns=[\n",
            "        \"categories\",\n",
            "        \"upload_date\",\n",
            "        \"duration\",\n",
            "        \"like_count\",\n",
            "        \"dislike_count\",\n",
            "        \"view_count\",\n",
            "        \"channel_id\",\n",
            "        \"display_id\",\n",
            "    ],\n",
            ")\n",
            "\n",
            "# we added these two columns for analysis later on.\n",
            "video_metadatas[\"yearNumber\"] = video_metadatas[\"upload_date\"].dt.year\n",
            "video_metadatas[\"weekNumber\"] = video_metadatas[\"upload_date\"].dt.weekday\n",
            "\n",
            "# we filter the channels being labeled as \"Gaming\" in df_channels_en.tsv.gz\n",
            "video_metadatas = video_metadatas[video_metadatas[\"channel_id\"].isin(channel_id_gaming)]\n"
         ]
      },
      {
         "attachments": {},
         "cell_type": "markdown",
         "id": "3c27b9e8",
         "metadata": {},
         "source": [
            "We now have filtered ` ` df_channels `  ` , `  ` df_time_series `  ` and `  ` video_metadatas `  ` . However, they have different numbers of channels. `  ` df_channels `  ` and `  ` video_metadatas `  ` both have 20143 channels, whereas `  ` df_time_series ` ` has 19698 channels. \n",
            "\n",
            "When we look closer to the data, we can observe that `df_time_series` only has data from early January 2015 to end September 2019, which could be one reason causing the inconsistency. Therefore, we will then filter videos in ` ` video_metadatas ` ` that are being uploaded from early January 2015 to end September 2019 to keep consistency across three dataframes.\n"
         ]
      },
      {
         "cell_type": "code",
         "execution_count": null,
         "id": "e3c22581",
         "metadata": {},
         "outputs": [],
         "source": [
            "video_metadatas = video_metadatas[\n",
            "    (video_metadatas[\"upload_date\"] > df_time_series.datetime.min())\n",
            "    & (video_metadatas[\"upload_date\"] < df_time_series.datetime.max())\n",
            "]\n"
         ]
      },
      {
         "attachments": {},
         "cell_type": "markdown",
         "id": "81392b16",
         "metadata": {},
         "source": [
            "We now have a list of Gaming channels and the information about their videos. Now, we will proceed to filter out the channels that fit the following conditions:\n",
            "\n",
            "* The channel has more than 60 % of gaming videos\n",
            "* The YouTuber uploaded with an average frequency of \"every 2 days or less\" AND \"every 90 days or more\"\n",
            "\n",
            "The reasoning behind these filtering criteria is that we want to have channels that are mainly focusing on gaming, and upload videos not too often but also not too infrequent. Channels with high frequency of upload rate is not likely to be achieved by a single person, and channels that upload too infrequent is likely to be abandoned.\n",
            "\n",
            "We will achieve this filtering by looking at ` ` video_metadatas ` ` , and calculate:\n",
            "\n",
            "* The number of videos being labelled as \"Gaming\" in each channel\n",
            "* The number of videos being uploaded to each channel\n",
            "* The time frame within which the YouTuber is active (corresponding to the number of days between the first and last uploads)\n"
         ]
      },
      {
         "cell_type": "code",
         "execution_count": null,
         "id": "4c1e1626",
         "metadata": {},
         "outputs": [],
         "source": [
            "# The number of videos being labelled as \"Gaming\" in each channel\n",
            "video_metadatas[\"is_gaming\"] = video_metadatas.categories == \"Gaming\"\n",
            "\n",
            "# The number of videos being uploaded to each channel\n",
            "count_per_channel = (\n",
            "    pd.DataFrame(video_metadatas.groupby(\"channel_id\").count().categories)\n",
            "    .reset_index()\n",
            "    .rename(columns={\"categories\": \"nr_videos\"})\n",
            ")\n",
            "game_video_count_per_channel = pd.DataFrame(\n",
            "    video_metadatas.groupby(\"channel_id\").sum().is_gaming\n",
            ").reset_index()\n",
            "\n",
            "# merge these two datasets\n",
            "channel_selection = count_per_channel.merge(game_video_count_per_channel)\n",
            "\n",
            "# The percentage of gaming videos within each channel\n",
            "channel_selection[\"pct_gaming\"] = (\n",
            "    channel_selection.is_gaming / channel_selection.nr_videos\n",
            ")\n"
         ]
      },
      {
         "cell_type": "code",
         "execution_count": null,
         "id": "609a1a0f",
         "metadata": {},
         "outputs": [],
         "source": [
            "pct_level = 0.6  # adjust the percentage of videos being labelled as \"Gaming\" here\n",
            "selected_channels = list(\n",
            "    channel_selection[channel_selection[\"pct_gaming\"] >= pct_level].channel_id\n",
            ")\n",
            "channel_selection = channel_selection[\n",
            "    channel_selection[\"channel_id\"].isin(selected_channels)\n",
            "]\n"
         ]
      },
      {
         "attachments": {},
         "cell_type": "markdown",
         "id": "8760cb7c",
         "metadata": {},
         "source": [
            "After performing the filtering over percentage of videos being labelled as \"Gaming\", we have 18230 channels. \n",
            "\n",
            "We now want to filter out the channels that upload videos too frequently or too infrequent:\n"
         ]
      },
      {
         "cell_type": "code",
         "execution_count": null,
         "id": "758656d4",
         "metadata": {},
         "outputs": [],
         "source": [
            "# The time frame within which the YouTuber is active\n",
            "last_vid_date = (\n",
            "    pd.DataFrame(video_metadatas.groupby(\"channel_id\").max().upload_date)\n",
            "    .reset_index()\n",
            "    .rename(columns={\"upload_date\": \"last_vid_date\"})\n",
            ")\n",
            "first_vid_date = (\n",
            "    pd.DataFrame(video_metadatas.groupby(\"channel_id\").min().upload_date)\n",
            "    .reset_index()\n",
            "    .rename(columns={\"upload_date\": \"first_vid_date\"})\n",
            ")\n",
            "total_vids = (\n",
            "    pd.DataFrame(video_metadatas.groupby(\"channel_id\").count().display_id)\n",
            "    .reset_index()\n",
            "    .rename(columns={\"display_id\": \"total_vids\"})\n",
            ")\n"
         ]
      },
      {
         "cell_type": "code",
         "execution_count": null,
         "id": "003b816e",
         "metadata": {},
         "outputs": [],
         "source": [
            "channel_selection = first_vid_date.merge(last_vid_date)\n",
            "channel_selection = channel_selection.merge(total_vids)\n",
            "channel_selection[\"active_days\"] = (\n",
            "    channel_selection.last_vid_date - channel_selection.first_vid_date\n",
            ").dt.days\n",
            "channel_selection[\"upload_interval\"] = (\n",
            "    channel_selection.active_days / channel_selection.total_vids\n",
            ")\n"
         ]
      },
      {
         "cell_type": "code",
         "execution_count": null,
         "id": "0fb8882b",
         "metadata": {},
         "outputs": [],
         "source": [
            "min_upload_interval = 2  # in days, the channel upload videos on average every x days\n",
            "max_upload_interval = 90\n",
            "selected_channels = list(\n",
            "    channel_selection[\n",
            "        (channel_selection[\"upload_interval\"] > min_upload_interval)\n",
            "        & (channel_selection[\"upload_interval\"] < max_upload_interval)\n",
            "    ].channel_id\n",
            ")\n"
         ]
      },
      {
         "attachments": {},
         "cell_type": "markdown",
         "id": "c4e1889c",
         "metadata": {},
         "source": [
            "Here, we filtered out channels that uploaded videos every 2 days or more often, and those who uploaded videos every 90 days or less frequent. Now we have 14730 channels.\n",
            "\n",
            "Note that `df_time_series` contains less channels than `df_channels` and `video_metadatas` . In order to keep consistency, we will take the channels that can be found across three dataframes.\n"
         ]
      },
      {
         "cell_type": "code",
         "execution_count": null,
         "id": "1e138332",
         "metadata": {},
         "outputs": [],
         "source": [
            "df_time_series = df_time_series[df_time_series[\"channel\"].isin(selected_channels)]\n",
            "\n",
            "selected_channels = list(\n",
            "    df_time_series.groupby(\"channel\").count().reset_index().channel\n",
            ")\n"
         ]
      },
      {
         "cell_type": "code",
         "execution_count": null,
         "id": "f085ddf6",
         "metadata": {},
         "outputs": [],
         "source": [
            "df_channels = df_channels[df_channels[\"channel\"].isin(selected_channels)]\n",
            "\n",
            "video_metadatas = video_metadatas[video_metadatas[\"channel_id\"].isin(selected_channels)]\n"
         ]
      },
      {
         "attachments": {},
         "cell_type": "markdown",
         "id": "b697ca12",
         "metadata": {},
         "source": [
            "After applying the filtering over upload frequency, we now have 14380 channels over all ` ` df_time_series `  ` , `  ` df_channels `  ` , and `  ` video_metadatas ` ` . The filtering is now complete, and we have a list of channels that we are interested in.\n"
         ]
      },
      {
         "attachments": {},
         "cell_type": "markdown",
         "id": "c191d301",
         "metadata": {},
         "source": [
            "We also import two datasets that are created by us, as a complementary to ` ` video_metadatas ` ` :  \n",
            "* ``title_metadatas``: with three columns (``categories``, ``display_id``, ``title``), containing information about the title names of each video in ``video_metadatas``.\n",
            "* ``tag_metadatas``: with three columns (``categories``, ``display_id``, ``tags``), containing information about the tags of each video in ``video_metadatas``.\n",
            "\n",
            "We will filter videos from channels that we selected so far.\n"
         ]
      },
      {
         "cell_type": "code",
         "execution_count": null,
         "id": "f6dc9dc4",
         "metadata": {},
         "outputs": [],
         "source": [
            "title_metadatas = pd.read_feather(\"./data/yt_metadata_title_helper.feather\")\n",
            "\n",
            "title_metadatas = title_metadatas[\n",
            "    title_metadatas[\"display_id\"].isin(video_metadatas.display_id)\n",
            "]\n"
         ]
      },
      {
         "cell_type": "code",
         "execution_count": null,
         "id": "e7c20891",
         "metadata": {},
         "outputs": [],
         "source": [
            "title_metadatas.head()\n"
         ]
      },
      {
         "cell_type": "code",
         "execution_count": null,
         "id": "333d7f10",
         "metadata": {},
         "outputs": [],
         "source": [
            "tag_metadatas = pd.read_feather(\"./data/yt_metadata_tags_helper.feather\")\n",
            "\n",
            "tag_metadatas = tag_metadatas[\n",
            "    tag_metadatas[\"display_id\"].isin(video_metadatas.display_id)\n",
            "]\n"
         ]
      },
      {
         "cell_type": "code",
         "execution_count": null,
         "id": "99b37b20",
         "metadata": {},
         "outputs": [],
         "source": [
            "tag_metadatas.head()\n"
         ]
      },
      {
         "attachments": {},
         "cell_type": "markdown",
         "id": "38ee79b8",
         "metadata": {},
         "source": [
            "# Part 1: Milestone 3 Analysis\n",
            "\n",
            "Given the results in Milestone 2, we decided to focus on the categories of Gaming. The reason behind this choice is because we are trying to help our little brother to succeed, and since he is just a single person without a big team behind him it seems more reasonable than e.g. Movies or Film & Entertainment. Therefore, we decided to eliminate Music, How-to & Style, Education, Science & Technology, Entertainment, Film & Entertainment, People & Blogs, Comedy, Movies and Shows.\n",
            "\n",
            "## Key Questions:\n",
            "\n",
            " - Which factors help a YouTuber in Gaming gain more subscribers?\n",
            " - How do sentiments in titles and tags affect views and how do these relationships change over time?\n"
         ]
      },
      {
         "attachments": {},
         "cell_type": "markdown",
         "id": "ac192b0a",
         "metadata": {},
         "source": [
            "### Sub-Question 1 \n",
            "\n",
            "**Description:** How does the video upload frequency, time of the week, and video length affect the subscription rate of the channels?  \n",
            "**Method:** Model this using a linear regression model.  \n",
            "**Timeline:** By 13/12/2022  \n",
            "**Organization:** Wenxiu  \n"
         ]
      },
      {
         "cell_type": "code",
         "execution_count": null,
         "id": "6555e2c3",
         "metadata": {},
         "outputs": [],
         "source": [
            "# calculate which weekday each channel usually upload videos\n",
            "avg_upload_weekday = (\n",
            "    pd.DataFrame(video_metadatas.groupby(\"channel_id\").mean().weekNumber)\n",
            "    .reset_index()\n",
            "    .rename(columns={\"weekNumber\": \"avg_upload_weekday\"})\n",
            ")\n",
            "\n",
            "# calculate the average video duration of videos uploaded for each channel\n",
            "avg_video_duration = (\n",
            "    pd.DataFrame(video_metadatas.groupby(\"channel_id\").mean().duration)\n",
            "    .reset_index()\n",
            "    .rename(columns={\"duration\": \"avg_video_duration\"})\n",
            ")\n"
         ]
      },
      {
         "cell_type": "code",
         "execution_count": null,
         "id": "0974b1c0",
         "metadata": {},
         "outputs": [],
         "source": [
            "# merge the two dataframes from above, and merge with\n",
            "channel_selection = channel_selection.merge(avg_upload_weekday)\n",
            "channel_selection = channel_selection.merge(avg_video_duration)\n",
            "channel_selection = channel_selection.merge(\n",
            "    df_channels.loc[:, [\"channel\", \"subscribers_cc\"]].rename(\n",
            "        columns={\"channel\": \"channel_id\"}\n",
            "    )\n",
            ")\n"
         ]
      },
      {
         "cell_type": "code",
         "execution_count": null,
         "id": "2091ce77",
         "metadata": {},
         "outputs": [],
         "source": [
            "# select the columns from channel_selection for statistical model\n",
            "model_data = channel_selection.loc[\n",
            "    :, [\"upload_interval\", \"avg_video_duration\", \"subscribers_cc\"]\n",
            "]\n",
            "\n",
            "# normalise the data\n",
            "xmean = np.mean(model_data, axis=0)\n",
            "xstd = np.std(model_data, axis=0)\n",
            "Xbzs = (model_data - xmean) / xstd\n",
            "\n",
            "# add weekday information\n",
            "Xbzs = Xbzs.join(\n",
            "    pd.get_dummies(\n",
            "        round(channel_selection.avg_upload_weekday).apply(lambda x: int(x)),\n",
            "        prefix=\"day\",\n",
            "    )\n",
            ")\n"
         ]
      },
      {
         "cell_type": "code",
         "execution_count": null,
         "id": "970b5047",
         "metadata": {},
         "outputs": [],
         "source": [
            "import statsmodels.formula.api as smf\n",
            "\n",
            "# Declares the model\n",
            "mod = smf.ols(\n",
            "    formula=\"subscribers_cc ~ \\\n",
            "              upload_interval + avg_video_duration + \\\n",
            "              C(day_1) + C(day_2) + C(day_3) + C(day_4) + C(day_5) + C(day_6)\",\n",
            "    data=Xbzs,\n",
            ")\n",
            "\n",
            "# Fits the model (find the optimal coefficients, adding a random seed ensures consistency)\n",
            "np.random.seed(2)\n",
            "res = mod.fit()\n",
            "\n",
            "# Print thes summary output provided by the library.\n",
            "print(res.summary())\n"
         ]
      },
      {
         "attachments": {},
         "cell_type": "markdown",
         "id": "3e8e3805",
         "metadata": {},
         "source": [
            "The results from the linear model indicate two statistically significant terms (with significance level of 0.005): upload interval and average video duration. The coefficients of these two terms suggest that:\n",
            "\n",
            "* the higher the upload interval, the lower the subcription rate  \n",
            "* the higher the average video duration, the lower the subscription rate\n",
            "\n",
            "On the other hand, it seems that time of upload during the week doesn't have a strong influence on the subscription rate of the channels. However, it should be noted that the average upload date of videos is highly concentrated on Thursday for the selected channels (as seen from the table below), and this would be the reason why the time of upload during the week is not as important.\n",
            "\n",
            "| Weekday | Number of Channels |\n",
            "| --- | --- |\n",
            "| Monday | 6 |\n",
            "| Tuesday | 40 |\n",
            "| Wednesday | 1332 |\n",
            "| Thursday | 11394 |\n",
            "| Friday | 1501 |\n",
            "| Saturday | 101 |\n",
            "| Sunday | 6 |\n"
         ]
      },
      {
         "attachments": {},
         "cell_type": "markdown",
         "id": "f180a346",
         "metadata": {},
         "source": [
            "### Sub-Question 2\n",
            "\n",
            "**Description:** How does the language used in titles affect subscription number?  \n",
            "**Method:** We will classify the sentiments of titles and tags using packages such as NLTK and try to see if this factor affects subscription number of the channels using relevant skills we learned in observational studies.  \n",
            "**Timeline:** By 15/12/2022  \n",
            "**Organization:** Wenxiu  \n"
         ]
      },
      {
         "cell_type": "code",
         "execution_count": null,
         "id": "441cce77",
         "metadata": {},
         "outputs": [],
         "source": [
            "# NLP libraries\n",
            "import spacy, nltk, sklearn\n",
            "\n",
            "# Vader\n",
            "import vaderSentiment\n",
            "from vaderSentiment.vaderSentiment import SentimentIntensityAnalyzer\n",
            "\n",
            "# Initialise the Spacy analyzer in English\n",
            "nlp = spacy.load(\"en_core_web_sm\")\n"
         ]
      },
      {
         "attachments": {},
         "cell_type": "markdown",
         "id": "77bb961f",
         "metadata": {},
         "source": [
            "We will then move on to determine the sentiments of titles, and their effect on the view counts.\n"
         ]
      },
      {
         "cell_type": "code",
         "execution_count": null,
         "id": "2915df36",
         "metadata": {},
         "outputs": [],
         "source": [
            "positive_sent = []\n",
            "negative_sent = []\n",
            "neutral_sent = []\n",
            "compound_sent = []\n",
            "\n",
            "# iterate through the sentences, get polarity scores, choose a value\n",
            "analyzer = SentimentIntensityAnalyzer()\n",
            "for title in title_metadatas.title:\n",
            "    score = analyzer.polarity_scores(title)\n",
            "    positive_sent.append(score[\"pos\"])\n",
            "    negative_sent.append(score[\"neg\"])\n",
            "    neutral_sent.append(score[\"neu\"])\n",
            "    compound_sent.append(score[\"compound\"])\n",
            "\n",
            "video_metadatas[\"title_pos_scr\"] = positive_sent\n",
            "video_metadatas[\"title_neg_scr\"] = negative_sent\n",
            "video_metadatas[\"title_neu_scr\"] = neutral_sent\n",
            "video_metadatas[\"title_com_scr\"] = compound_sent\n"
         ]
      },
      {
         "cell_type": "code",
         "execution_count": null,
         "id": "dd8c8b7b",
         "metadata": {},
         "outputs": [],
         "source": [
            "# select the data for the model\n",
            "model_data = video_metadatas.loc[\n",
            "    :, [\"title_pos_scr\", \"title_neg_scr\", \"duration\", \"view_count\"]\n",
            "]\n",
            "\n",
            "# normalise the data\n",
            "xmean = np.mean(model_data, axis=0)\n",
            "xstd = np.std(model_data, axis=0)\n",
            "Xbzs = (model_data - xmean) / xstd\n",
            "\n",
            "# add weekday information\n",
            "Xbzs = Xbzs.join(pd.get_dummies(video_metadatas.weekNumber, prefix=\"day\"))\n",
            "\n",
            "# Declares the model\n",
            "mod = smf.ols(\n",
            "    formula=\"view_count ~ title_pos_scr + title_neg_scr + duration + \\\n",
            "              C(day_1) + C(day_2) + C(day_3) + C(day_4) + C(day_5) + C(day_6)\",\n",
            "    data=Xbzs,\n",
            ")\n",
            "\n",
            "# Fits the model (find the optimal coefficients, adding a random seed ensures consistency)\n",
            "np.random.seed(2)\n",
            "res = mod.fit()\n",
            "\n",
            "# Print thes summary output provided by the library.\n",
            "print(res.summary())\n"
         ]
      },
      {
         "attachments": {},
         "cell_type": "markdown",
         "id": "623737ab",
         "metadata": {},
         "source": [
            "The result shows title sentiment, duration and upload time of the week are all statistically significant when determining view counts of the video. More specifically:\n",
            "* Videos uploaded between Thursday and Saturday are more likely to have higher view counts  \n",
            "* Showing positive or negative sentiments would increase view counts\n",
            "* Having longer video duration would decrease view counts.\n",
            "\n",
            "However, from graphs below, we can see that the majority of the videos were classified as \"neutral\". This suggests that the result of the model might be biased. In order to gain a better and fairer idea over the effect of sentiments in titles, we select the videos such that the number of positive, neutral and negative videos are the same.\n"
         ]
      },
      {
         "cell_type": "code",
         "execution_count": null,
         "id": "cf2f1de4",
         "metadata": {},
         "outputs": [],
         "source": [
            "# visualise the result\n",
            "video_metadatas[\"title_com_scr\"].hist(bins=20)\n",
            "plt.xlabel(\"compound score\")\n",
            "plt.ylabel(\"Number of videos\")\n",
            "plt.title(\"Sentimental Analysis: Distribution\")\n"
         ]
      },
      {
         "attachments": {},
         "cell_type": "markdown",
         "id": "87101baf",
         "metadata": {},
         "source": [
            "The histogram above shows that the majority of the video titles are neutral. Let's now look closer at this by category of videos, since many channels also have videos from categories other than \"Gaming\".\n"
         ]
      },
      {
         "cell_type": "code",
         "execution_count": null,
         "id": "2fc59bbe",
         "metadata": {},
         "outputs": [],
         "source": [
            "# get category list\n",
            "categories_list = np.unique(video_metadatas.categories)\n",
            "\n",
            "# get bin interval\n",
            "bin_step = np.arange(-1, 1.1, 0.1)\n",
            "\n",
            "# calculate how many videos of each category fall in the corresponding bin\n",
            "by_category_data = np.zeros((len(categories_list), len(bin_step) - 1), dtype=int)\n",
            "\n",
            "for i in np.arange(len(categories_list)):\n",
            "    by_category_data[i,] = np.histogram(\n",
            "        video_metadatas[\n",
            "            video_metadatas[\"categories\"] == categories_list[i]\n",
            "        ].title_com_scr,\n",
            "        bins=bin_step,\n",
            "    )[0]\n",
            "\n",
            "bin_mid_pt = (bin_step[0:-1] + bin_step[1:]) / 2\n",
            "bin_mid_pt = [round(item, 2) for item in list(bin_mid_pt)]\n",
            "\n",
            "# get\n",
            "data = by_category_data.T / (np.sum(by_category_data, axis=1))\n"
         ]
      },
      {
         "cell_type": "code",
         "execution_count": null,
         "id": "5edfe7f8",
         "metadata": {},
         "outputs": [],
         "source": [
            "fig, ax = plt.subplots(figsize=(10, 15))\n",
            "im = ax.imshow(data)\n",
            "\n",
            "# Show all ticks and label them with the respective list entries\n",
            "ax.set_xticks(np.arange(len(categories_list)), labels=categories_list)\n",
            "ax.set_yticks(np.arange(len(bin_mid_pt)), labels=bin_mid_pt)\n",
            "\n",
            "# Rotate the tick labels and set their alignment.\n",
            "plt.setp(ax.get_xticklabels(), rotation=45, ha=\"right\", rotation_mode=\"anchor\")\n",
            "\n",
            "# Loop over data dimensions and create text annotations.\n",
            "for i in range(len(bin_mid_pt)):\n",
            "    for j in range(len(categories_list)):\n",
            "        text = ax.text(j, i, round(data[i, j], 2), ha=\"center\", va=\"center\", color=\"w\")\n",
            "\n",
            "ax.set_title(\"Sentiment Analysis for Videos: Classified by Category\")\n",
            "ax.set_xlabel(\"Category\")\n",
            "ax.set_ylabel(\"Compound Sentiment Score\")\n",
            "\n",
            "fig.tight_layout()\n",
            "plt.show()\n"
         ]
      },
      {
         "attachments": {},
         "cell_type": "markdown",
         "id": "884675cf",
         "metadata": {},
         "source": [
            "The heat map plot above shows similar information as the histogram, but for all categories of videos in our data sample. It seems that \"Gaming\" videos are already among the categories with lowest share of neutral titles.\n",
            "\n",
            "Now, we will further filter a data sample for the purpose of this analysis, such that the share between videos with positive, negative and neutral titles is more or less the same.\n"
         ]
      },
      {
         "cell_type": "code",
         "execution_count": null,
         "id": "40bd3cd9",
         "metadata": {},
         "outputs": [],
         "source": [
            "random.sample(range(1, 100), 4)\n",
            "\n",
            "filtered_metadatas = video_metadatas\n",
            "filtered_metadatas[\"pos_vid\"] = filtered_metadatas[\"title_pos_scr\"] > 0.6\n",
            "filtered_metadatas[\"neg_vid\"] = filtered_metadatas[\"title_neg_scr\"] > 0.6\n",
            "filtered_metadatas[\"neu_vid\"] = filtered_metadatas[\"title_neu_scr\"] > 0.6\n",
            "\n",
            "pos_vid_ind = np.where(filtered_metadatas[\"title_pos_scr\"] > 0.7)[0]\n",
            "neg_vid_ind = np.where(filtered_metadatas[\"title_neg_scr\"] > 0.7)[0]\n",
            "neu_vid_ind = np.where(filtered_metadatas[\"title_neu_scr\"] > 0.7)[0]\n",
            "\n",
            "sample_size = min(\n",
            "    [np.shape(neg_vid_ind), np.shape(neu_vid_ind), np.shape(pos_vid_ind)]\n",
            ")[0]\n",
            "selected_index = list(random.choices(pos_vid_ind, k=sample_size))\n",
            "selected_index += list(random.choices(neg_vid_ind, k=sample_size))\n",
            "selected_index += list(random.choices(neu_vid_ind, k=sample_size))\n",
            "filtered_metadatas = filtered_metadatas.iloc[selected_index]\n"
         ]
      },
      {
         "attachments": {},
         "cell_type": "markdown",
         "id": "6d1a8c41",
         "metadata": {},
         "source": [
            "After filtering, the data sample seems more balanced, for both sentiments and days of the week:\n",
            "\n",
            "| Weekday | Number of Videos |\n",
            "| --- | --- |\n",
            "| positive titles | 7852 |\n",
            "| neutral titles | 7852 |\n",
            "| negative titles | 7852 |\n",
            "| Monday | 5922 |\n",
            "| Tuesday | 5306 |\n",
            "| Wednesday | 5662 |\n",
            "| Thursday | 5177 |\n",
            "| Friday | 5926 |\n",
            "| Saturday | 5564 |\n",
            "| Sunday | 5793 |\n",
            "\n",
            "With this, we will proceed with the modelling:\n"
         ]
      },
      {
         "cell_type": "code",
         "execution_count": null,
         "id": "5b9d6886",
         "metadata": {},
         "outputs": [],
         "source": [
            "model_data = filtered_metadatas.loc[\n",
            "    :,\n",
            "    [\n",
            "        \"title_pos_scr\",\n",
            "        \"title_neg_scr\",\n",
            "        \"title_neu_scr\",\n",
            "        \"duration\",\n",
            "        \"view_count\",\n",
            "        \"like_count\",\n",
            "        \"dislike_count\",\n",
            "    ],\n",
            "]\n",
            "# normalise the data\n",
            "xmean = np.mean(model_data, axis=0)\n",
            "xstd = np.std(model_data, axis=0)\n",
            "Xbzs = (model_data - xmean) / xstd\n",
            "\n",
            "Xbzs = Xbzs.join(pd.get_dummies(filtered_metadatas[\"weekNumber\"], prefix=\"day\"))\n"
         ]
      },
      {
         "cell_type": "code",
         "execution_count": null,
         "id": "1035326b",
         "metadata": {},
         "outputs": [],
         "source": [
            "# Declares the model\n",
            "mod = smf.ols(\n",
            "    formula=\"view_count ~ title_pos_scr + title_neg_scr + duration + \\\n",
            "C(day_1) + C(day_2) + C(day_3) + C(day_4) + C(day_5) + C(day_6)\",\n",
            "    data=Xbzs,\n",
            ")\n",
            "\n",
            "# Fits the model (find the optimal coefficients, adding a random seed ensures consistency)\n",
            "np.random.seed(2)\n",
            "res = mod.fit()\n",
            "\n",
            "# Print thes summary output provided by the library.\n",
            "print(res.summary())\n"
         ]
      },
      {
         "attachments": {},
         "cell_type": "markdown",
         "id": "04533460",
         "metadata": {},
         "source": [
            "The model suggests that positive and negative score do not affect the view counts significantly. As for the duration, it can be seen that shorter duration seems to have a positive effect on view counts, although not by a significant magnitude. As for the time of weekday for uploading the video, the model shows that uploading on Tuesday and Thursday seem to attract more views that the rest of the week.\n"
         ]
      },
      {
         "cell_type": "code",
         "execution_count": null,
         "id": "57f03ed9",
         "metadata": {},
         "outputs": [],
         "source": [
            "# Declares the model\n",
            "mod = smf.ols(\n",
            "    formula=\"like_count ~ title_pos_scr + title_neg_scr + duration + \\\n",
            "C(day_1) + C(day_2) + C(day_3) + C(day_4) + C(day_5) + C(day_6)\",\n",
            "    data=Xbzs,\n",
            ")\n",
            "\n",
            "# Fits the model (find the optimal coefficients, adding a random seed ensures consistency)\n",
            "np.random.seed(2)\n",
            "res = mod.fit()\n",
            "\n",
            "# Print thes summary output provided by the library.\n",
            "print(res.summary())\n"
         ]
      },
      {
         "attachments": {},
         "cell_type": "markdown",
         "id": "7c7ed986",
         "metadata": {},
         "source": [
            "In terms of like count, it seems that videos with negative titles attract more likes, duration of videos does not matter, and videos uploaded on Fridays and Saturdays also attract more likes.\n"
         ]
      },
      {
         "cell_type": "code",
         "execution_count": null,
         "id": "0bf7ebbd",
         "metadata": {
            "scrolled": true
         },
         "outputs": [],
         "source": [
            "# Declares the model\n",
            "mod = smf.ols(\n",
            "    formula=\"dislike_count ~ title_pos_scr + title_neg_scr + duration + \\\n",
            "C(day_1) + C(day_2) + C(day_3) + C(day_4) + C(day_5) + C(day_6)\",\n",
            "    data=Xbzs,\n",
            ")\n",
            "\n",
            "# Fits the model (find the optimal coefficients, adding a random seed ensures consistency)\n",
            "np.random.seed(2)\n",
            "res = mod.fit()\n",
            "\n",
            "# Print thes summary output provided by the library.\n",
            "print(res.summary())\n"
         ]
      },
      {
         "attachments": {},
         "cell_type": "markdown",
         "id": "1f38aeb0",
         "metadata": {},
         "source": [
            "In terms of dislikes, it seems videos uploaded on Tuesday attract more dislikes than other weekdays, whereas the title sentiments and duration do not seem to matter too much.\n"
         ]
      },
      {
         "attachments": {},
         "cell_type": "markdown",
         "id": "65e28dae",
         "metadata": {},
         "source": [
            "### Analyze the effect of the Capitalize words in title\n"
         ]
      },
      {
         "cell_type": "markdown",
         "id": "8e0c50ee",
         "metadata": {},
         "source": [
            "Lets implement the sub question 2, the goal is to find a relation btw the number of views and the titles (length, sentiment, casefold, etc...). For that an observational studies would be highly recommended to compare what is comparable. For that we will keep the channel id to see the number of subs of the channel and compare pairwise similar nb of subs. \n"
         ]
      },
      {
         "cell_type": "code",
         "execution_count": null,
         "id": "cb21aab4",
         "metadata": {},
         "outputs": [],
         "source": [
            "title_metadatas = pd.read_feather(\"./data/yt_metadata_title_filtered.feather\")\n"
         ]
      },
      {
         "cell_type": "code",
         "execution_count": null,
         "id": "e14e378a",
         "metadata": {},
         "outputs": [],
         "source": [
            "title_metadatas.drop([\"index\", \"categories\"], axis=1, inplace=True)\n",
            "title_metadatas.head(2)\n"
         ]
      },
      {
         "cell_type": "code",
         "execution_count": null,
         "id": "3ed5e616",
         "metadata": {},
         "outputs": [],
         "source": [
            "metadatas = pd.merge(video_metadatas, title_metadatas, on=\"display_id\")\n"
         ]
      },
      {
         "cell_type": "code",
         "execution_count": null,
         "id": "06046b85",
         "metadata": {},
         "outputs": [],
         "source": [
            "metadatas.head(2)\n"
         ]
      },
      {
         "attachments": {},
         "cell_type": "markdown",
         "id": "c742874b",
         "metadata": {},
         "source": [
            "Distribution of weekdays upload dates\n"
         ]
      },
      {
         "cell_type": "code",
         "execution_count": null,
         "id": "53ed18a0",
         "metadata": {},
         "outputs": [],
         "source": [
            "metadatas.weekNumber.value_counts().plot(kind=\"bar\")\n",
            "plt.title(\"Distribution of the weekdays upload dates\")\n",
            "plt.xlabel(\"Week day\")\n",
            "plt.ylabel(\"Number of videos\")\n"
         ]
      },
      {
         "cell_type": "code",
         "execution_count": null,
         "id": "67ed8e45",
         "metadata": {},
         "outputs": [],
         "source": [
            "# we need to improve the hw1 method a bit because we want to make sure that titles with a lot of spaces\n",
            "# don't have too many words and if there is a typo (e.g \"Welcome,in my video\" should be counted as 4 words and not 3)\n",
            "def count_words(x: str):\n",
            "    new_x = x.replace(\",\", \" \")\n",
            "    # change anything that isn’t an alphanumeric character or whitespace, and replaces it with a space\n",
            "    new_x = re.sub(r\"[^\\w\\s]\", \" \", new_x)\n",
            "    # Change many consecutive spaces into a single space\n",
            "    new_x = re.sub(\" +\", \" \", new_x)\n",
            "    # delete begin/end spaces\n",
            "    new_x = new_x.strip()\n",
            "    return len(new_x.split(\" \"))\n",
            "\n",
            "\n",
            "def get_freq_capital_words(sentence: str):\n",
            "    new_x = sentence.replace(\",\", \" \")\n",
            "    # change anything that isn’t an alphanumeric character or whitespace, and replaces it with a space\n",
            "    new_x = re.sub(r\"[^\\w\\s]\", \" \", new_x)\n",
            "    # Change many consecutive spaces into a single space\n",
            "    new_x = re.sub(\" +\", \" \", new_x)\n",
            "    # delete begin/end spaces\n",
            "    new_x = new_x.strip().split(\" \")\n",
            "    nb_capital_words = 0\n",
            "    for word in new_x:\n",
            "        if word.isupper():\n",
            "            nb_capital_words += 1\n",
            "    return nb_capital_words / len(new_x)\n"
         ]
      },
      {
         "cell_type": "code",
         "execution_count": null,
         "id": "c873c6c7",
         "metadata": {},
         "outputs": [],
         "source": [
            "# test the function\n",
            "print(count_words(\"Salut     je suis la\"))\n",
            "print(count_words(\"Salut,je suis la\"))\n",
            "print(count_words(\"#FuckCancer | I'VE GOT SOME GREAT NEWS!\"))\n",
            "print(count_words(\"DISNEY CHRISTMAS VLOG! || Zak Longo\"))\n",
            "print(count_words(\"Sims 4 - SHOOTING SIMS WITH A GUN - The Sims 4\"))\n",
            "print(count_words(\"###ADA#ada##\"))\n",
            "\n",
            "# test capitalize words function\n",
            "print(get_freq_capital_words(\"Sims 4 - SHOOTING SIMS WITH A GUN - The Sims 4\"))\n",
            "print(get_freq_capital_words(\"###ADA###salut|||test&SALUT\"))\n"
         ]
      },
      {
         "cell_type": "code",
         "execution_count": null,
         "id": "9b871896",
         "metadata": {},
         "outputs": [],
         "source": [
            "metadatas[\"title_nb_words\"] = metadatas.title.apply(lambda title: count_words(title))\n"
         ]
      },
      {
         "cell_type": "code",
         "execution_count": null,
         "id": "698cbe9f",
         "metadata": {},
         "outputs": [],
         "source": [
            "metadatas[\"freq_capitalize_words\"] = metadatas.title.apply(\n",
            "    lambda title: get_freq_capital_words(title)\n",
            ")\n"
         ]
      },
      {
         "cell_type": "code",
         "execution_count": null,
         "id": "bfe861c1",
         "metadata": {},
         "outputs": [],
         "source": [
            "metadatas.head()\n"
         ]
      },
      {
         "cell_type": "code",
         "execution_count": null,
         "id": "515269aa",
         "metadata": {},
         "outputs": [],
         "source": [
            "# distrib of the freq capitalize words.\n",
            "# process for the plot\n",
            "freq_capit_words = round(metadatas.freq_capitalize_words, 1)\n",
            "values_counts = freq_capit_words.value_counts().sort_index()\n",
            "values_counts.plot(kind=\"bar\")\n",
            "plt.title(\"distrib. of the freq. of capitalize words\")\n",
            "plt.xlabel(\"frequencies of upper word\")\n",
            "plt.ylabel(\"nb of titles\")\n"
         ]
      },
      {
         "cell_type": "code",
         "execution_count": null,
         "id": "6cd749fa",
         "metadata": {},
         "outputs": [],
         "source": [
            "lower_title_df = metadatas[metadatas[\"freq_capitalize_words\"] < 0.3]\n",
            "upper_title_df = metadatas[metadatas[\"freq_capitalize_words\"] >= 0.3]\n",
            "\n",
            "print(\"# of upper words title\", upper_title_df.shape)\n",
            "print(\"# of lower words title\", lower_title_df.shape)\n"
         ]
      },
      {
         "cell_type": "code",
         "execution_count": null,
         "id": "b7c61f8c",
         "metadata": {},
         "outputs": [],
         "source": [
            "metadatas[\"view_count_log\"] = np.log(\n",
            "    metadatas.view_count, where=metadatas.view_count != 0\n",
            ")\n",
            "mod = smf.ols(\n",
            "    formula=\"view_count_log ~ title_nb_words + freq_capitalize_words\", data=metadatas\n",
            ")\n",
            "res = mod.fit()\n",
            "print(res.summary())\n"
         ]
      },
      {
         "attachments": {},
         "cell_type": "markdown",
         "id": "5e0c9571",
         "metadata": {},
         "source": [
            "The frequence of capitalize words in the titles is significant and it increases the number of views on the video.\n",
            "The number of words in the title is significant, however it doesnt seem to have a real impact on the number of views.\n",
            "\n",
            "Now match and compare the channels with ~ the same nb of subscribers\n"
         ]
      },
      {
         "cell_type": "code",
         "execution_count": null,
         "id": "de7fcc84",
         "metadata": {},
         "outputs": [],
         "source": [
            "sample_channels = df_channels[\n",
            "    (df_channels.subscribers_cc > 0) & (df_channels.subscribers_cc < 100_000)\n",
            "]\n",
            "sample_channels.shape\n"
         ]
      },
      {
         "cell_type": "code",
         "execution_count": null,
         "id": "3e397b06",
         "metadata": {},
         "outputs": [],
         "source": [
            "sample_metadatas = metadatas[metadatas.channel_id.isin(sample_channels.channel)]\n",
            "\n",
            "print(sample_metadatas.shape)\n",
            "len(sample_metadatas.groupby(\"channel_id\").count())\n"
         ]
      },
      {
         "cell_type": "code",
         "execution_count": null,
         "id": "47f7ebe3",
         "metadata": {},
         "outputs": [],
         "source": [
            "freq_capit_words = round(sample_metadatas.freq_capitalize_words, 1)\n",
            "values_counts = freq_capit_words.value_counts().sort_index()\n",
            "values_counts.plot(kind=\"bar\")\n",
            "plt.title(\"distrib. of the freq. of capitalize words\")\n",
            "plt.xlabel(\"frequencies of upper word\")\n",
            "plt.ylabel(\"nb of titles\")\n"
         ]
      },
      {
         "cell_type": "code",
         "execution_count": null,
         "id": "8fc6126f",
         "metadata": {},
         "outputs": [],
         "source": [
            "binary_freq_df = sample_metadatas[\n",
            "    (sample_metadatas.freq_capitalize_words == 0)\n",
            "    | (sample_metadatas.freq_capitalize_words == 1)\n",
            "]\n",
            "\n",
            "full_upper_word_df = binary_freq_df[binary_freq_df[\"freq_capitalize_words\"] == 1]\n",
            "no_upper_word_df = binary_freq_df[binary_freq_df[\"freq_capitalize_words\"] == 0]\n",
            "\n",
            "print(\"# of full upper words title\", full_upper_word_df.shape)\n",
            "print(\"# of full lower words title\", no_upper_word_df.shape)\n"
         ]
      },
      {
         "cell_type": "code",
         "execution_count": null,
         "id": "d2b42c68",
         "metadata": {},
         "outputs": [],
         "source": [
            "mod = smf.ols(\n",
            "    formula=\"view_count_log ~ title_nb_words + freq_capitalize_words\",\n",
            "    data=sample_metadatas,\n",
            ")\n",
            "res = mod.fit()\n",
            "print(res.summary())\n"
         ]
      },
      {
         "attachments": {},
         "cell_type": "markdown",
         "id": "eb43090b",
         "metadata": {},
         "source": [
            "The impact is less important if we filter the channels on the number of subscribers but still it helps to get more views.  \n"
         ]
      },
      {
         "attachments": {},
         "cell_type": "markdown",
         "id": "f3ed751e",
         "metadata": {},
         "source": [
            "Lets plot the upper and lowers title for big channels (> 100 000 subs) and others.\n"
         ]
      },
      {
         "cell_type": "code",
         "execution_count": null,
         "id": "09011ab8",
         "metadata": {},
         "outputs": [],
         "source": [
            "big_channels = df_channels[df_channels.subscribers_cc > 50_000]\n",
            "little_channels = df_channels[df_channels.subscribers_cc <= 50_000]\n",
            "\n",
            "print(big_channels.shape)\n",
            "print(little_channels.shape)\n",
            "print(len(metadatas.groupby(\"channel_id\").count()))\n",
            "big_channels.sample()\n"
         ]
      },
      {
         "cell_type": "code",
         "execution_count": null,
         "id": "03c66b14",
         "metadata": {},
         "outputs": [],
         "source": [
            "big_videos_meta = metadatas[metadatas.channel_id.isin(big_channels.channel)]\n",
            "little_videos_meta = metadatas[metadatas.channel_id.isin(little_channels.channel)]\n"
         ]
      },
      {
         "attachments": {},
         "cell_type": "markdown",
         "id": "53e887c6",
         "metadata": {},
         "source": [
            "What is the proportion of capitalize title for big ( > 50 000 subs) vs small (< 50 000 subs) channels\n"
         ]
      },
      {
         "cell_type": "code",
         "execution_count": null,
         "id": "2c23fde0",
         "metadata": {},
         "outputs": [],
         "source": [
            "freq_capit_words = round(big_videos_meta.freq_capitalize_words, 1)\n",
            "values_counts = freq_capit_words.value_counts().sort_index()\n",
            "values_counts.plot(kind=\"bar\")\n",
            "plt.title(\"distrib. of the freq. of capitalize words\")\n",
            "plt.xlabel(\"frequencies of upper word\")\n",
            "plt.ylabel(\"nb of titles\")\n"
         ]
      },
      {
         "cell_type": "code",
         "execution_count": null,
         "id": "ef5fcdb5",
         "metadata": {},
         "outputs": [],
         "source": [
            "percentage_upper_titles = (\n",
            "    freq_capit_words.value_counts().sort_index().iloc[-6:].sum()\n",
            "    / freq_capit_words.value_counts().sum()\n",
            "    * 100\n",
            ")\n",
            "\n",
            "print(\"Big channels have {:.2f}% of upper titles \".format(percentage_upper_titles))\n"
         ]
      },
      {
         "cell_type": "code",
         "execution_count": null,
         "id": "2c23fde0",
         "metadata": {},
         "outputs": [],
         "source": [
            "freq_capit_words = round(little_videos_meta.freq_capitalize_words, 1)\n",
            "values_counts = freq_capit_words.value_counts().sort_index()\n",
            "values_counts.plot(kind=\"bar\")\n",
            "plt.title(\"distrib. of the freq. of capitalize words\")\n",
            "plt.xlabel(\"frequencies of upper word\")\n",
            "plt.ylabel(\"nb of titles\")\n"
         ]
      },
      {
         "cell_type": "code",
         "execution_count": null,
         "id": "ef5fcdb5",
         "metadata": {},
         "outputs": [],
         "source": [
            "percentage_upper_titles = (\n",
            "    freq_capit_words.value_counts().sort_index().iloc[-6:].sum()\n",
            "    / freq_capit_words.value_counts().sum()\n",
            "    * 100\n",
            ")\n",
            "\n",
            "print(\"Small channels have {:.2f}% of upper titles \".format(percentage_upper_titles))\n"
         ]
      },
      {
         "attachments": {},
         "cell_type": "markdown",
         "id": "5894abc1",
         "metadata": {},
         "source": [
            "### Sub-Question 3\n",
            "\n",
            "**Description:** Can we predict the channel's success based on channel information, including average video length, upload frequency, usual time of uploads, categories of videos uploaded, positive/negative sentiments of the title, person pronouns to address the viewers, the number of words in the title, and the number of tags used?  \n",
            "**Method:** We can implement kNN method or Random Forests to train the dataset.  \n",
            "**Timeline:** By 13/12/2022  \n",
            "**Organization:** Dorothee  \n"
         ]
      },
      {
         "cell_type": "code",
         "execution_count": null,
         "id": "3e74633d",
         "metadata": {},
         "outputs": [],
         "source": [
            "video_metadatas[\"duration_min\"] = video_metadatas[\"duration\"] / 60\n"
         ]
      },
      {
         "attachments": {},
         "cell_type": "markdown",
         "id": "41828307",
         "metadata": {},
         "source": [
            "Add a column to know the day of the week of the upload date for the video\n"
         ]
      },
      {
         "cell_type": "code",
         "execution_count": null,
         "id": "82f9c15b",
         "metadata": {},
         "outputs": [],
         "source": [
            "video_metadatas[\"week_number_mean\"] = video_metadatas.groupby(\"channel_id\")[\n",
            "    \"weekNumber\"\n",
            "].transform(\"mean\")\n",
            "\n",
            "video_metadatas[\"week_number_mean\"] = video_metadatas[\"week_number_mean\"].astype(\"int\")\n",
            "video_metadatas[\"mean_duration_min\"] = video_metadatas.groupby(\"channel_id\")[\n",
            "    \"duration_min\"\n",
            "].transform(\"mean\")\n"
         ]
      },
      {
         "cell_type": "code",
         "execution_count": null,
         "id": "a59ae35e",
         "metadata": {},
         "outputs": [],
         "source": [
            "def get_nb_unique_cat(x):\n",
            "    return x.nunique()\n",
            "\n",
            "\n",
            "def get_cat(x):\n",
            "    return list(x.unique())\n"
         ]
      },
      {
         "cell_type": "code",
         "execution_count": null,
         "id": "bb774e71",
         "metadata": {},
         "outputs": [],
         "source": [
            "video_metadatas[\"nb_diff_cat\"] = video_metadatas.groupby(\"channel_id\")[\n",
            "    \"categories\"\n",
            "].transform(get_nb_unique_cat)\n",
            "\n",
            "cat_per_channels = (\n",
            "    video_metadatas.groupby(\"channel_id\")[\"categories\"].unique().to_frame()\n",
            ")\n"
         ]
      },
      {
         "cell_type": "code",
         "execution_count": null,
         "id": "62ce45a6",
         "metadata": {},
         "outputs": [],
         "source": [
            "cat_per_channels = cat_per_channels.reset_index()\n",
            "cat_per_channels = cat_per_channels.rename({\"categories\": \"covered_categories\"}, axis=1)\n",
            "cat_per_channels.head(2)\n"
         ]
      },
      {
         "cell_type": "code",
         "execution_count": null,
         "id": "2baa467a",
         "metadata": {},
         "outputs": [],
         "source": [
            "video_metadatas = pd.merge(video_metadatas, cat_per_channels, on=\"channel_id\")\n"
         ]
      },
      {
         "cell_type": "code",
         "execution_count": null,
         "id": "6c72bc0d",
         "metadata": {},
         "outputs": [],
         "source": [
            "# group by channels and week of upload date to calculate the mean upload frequencies of the channels\n",
            "grouped = video_metadatas.groupby(\n",
            "    [\"channel_id\", pd.Grouper(key=\"upload_date\", freq=\"W\")]\n",
            ").size()\n"
         ]
      },
      {
         "cell_type": "code",
         "execution_count": null,
         "id": "9c767283",
         "metadata": {},
         "outputs": [],
         "source": [
            "week_frequency_mean = (\n",
            "    grouped.groupby(level=\"channel_id\").mean().to_frame().reset_index()\n",
            ")\n",
            "week_frequency_mean = week_frequency_mean.rename(columns={0: \"week_frequency_mean\"})\n",
            "video_metadatas = pd.merge(video_metadatas, week_frequency_mean, on=\"channel_id\")\n",
            "week_frequency_mean\n"
         ]
      },
      {
         "cell_type": "code",
         "execution_count": null,
         "id": "07624e87",
         "metadata": {},
         "outputs": [],
         "source": [
            "video_metadatas[\"title_com_scr_mean\"] = video_metadatas.groupby(\"channel_id\")[\n",
            "    \"title_com_scr\"\n",
            "].transform(\"mean\")\n"
         ]
      },
      {
         "cell_type": "code",
         "execution_count": null,
         "id": "4d6b2080",
         "metadata": {},
         "outputs": [],
         "source": [
            "video_metadatas[\"title_nb_words_mean\"] = video_metadatas.groupby(\"channel_id\")[\n",
            "    \"title_nb_words\"\n",
            "].transform(\"mean\")\n"
         ]
      },
      {
         "cell_type": "code",
         "execution_count": null,
         "id": "b00005c4",
         "metadata": {},
         "outputs": [],
         "source": [
            "video_metadatas = pd.read_feather(\"./data/videos_metadatas_sub_quest_3_v2\")\n",
            "\n",
            "print(video_metadatas.shape)\n",
            "video_metadatas.head()\n"
         ]
      },
      {
         "attachments": {},
         "cell_type": "markdown",
         "id": "5a263ae6",
         "metadata": {},
         "source": [
            "Now find the pronouns in the title\n"
         ]
      },
      {
         "cell_type": "code",
         "execution_count": null,
         "id": "df961bf4",
         "metadata": {},
         "outputs": [],
         "source": [
            "feature_wordsets = dict(\n",
            "    [\n",
            "        # https://en.wikipedia.org/wiki/English_personal_pronouns\n",
            "        (\n",
            "            \"first_person_singular\",\n",
            "            [\n",
            "                \"i\",\n",
            "                \"me\",\n",
            "                \"my\",\n",
            "                \"mine\",\n",
            "                \"myself\",\n",
            "                \"i'd\",\n",
            "                \"i'll\",\n",
            "                \"i'm\",\n",
            "                \"i've\",\n",
            "                \"id\",\n",
            "                \"im\",\n",
            "                \"ive\",\n",
            "            ],\n",
            "        ),\n",
            "        (\n",
            "            \"first_person_plural\",\n",
            "            [\n",
            "                \"we\",\n",
            "                \"us\",\n",
            "                \"our\",\n",
            "                \"ours\",\n",
            "                \"ourselves\",\n",
            "                \"we'd\",\n",
            "                \"we'll\",\n",
            "                \"we're\",\n",
            "                \"we've\",\n",
            "            ],\n",
            "        ),\n",
            "        (\n",
            "            \"second_person\",\n",
            "            [\n",
            "                \"you\",\n",
            "                \"your\",\n",
            "                \"yours\",\n",
            "                \"yourself\",\n",
            "                \"ya\",\n",
            "                \"you'd\",\n",
            "                \"you'll\",\n",
            "                \"you're\",\n",
            "                \"you've\",\n",
            "                \"youll\",\n",
            "                \"youre\",\n",
            "                \"youve\",\n",
            "                \"yourselves\",\n",
            "            ],\n",
            "        ),\n",
            "        (\n",
            "            \"third_person_singular\",\n",
            "            [\n",
            "                \"he\",\n",
            "                \"him\",\n",
            "                \"his\",\n",
            "                \"himself\",\n",
            "                \"he'd\",\n",
            "                \"he's\",\n",
            "                \"hes\",\n",
            "                \"she\",\n",
            "                \"her\",\n",
            "                \"hers\",\n",
            "                \"herself\",\n",
            "                \"she'll\",\n",
            "                \"she's\",\n",
            "                \"shes\",\n",
            "                \"it\",\n",
            "                \"its\",\n",
            "                \"itself\",\n",
            "                \"themself\",\n",
            "            ],\n",
            "        ),\n",
            "        (\n",
            "            \"third_person_plural\",\n",
            "            [\n",
            "                \"they\",\n",
            "                \"them\",\n",
            "                \"their\",\n",
            "                \"theirs\",\n",
            "                \"themselves\",\n",
            "                \"they'd\",\n",
            "                \"they'll\",\n",
            "                \"they've\",\n",
            "                \"theyll\",\n",
            "                \"theyve\",\n",
            "            ],\n",
            "        ),\n",
            "    ]\n",
            ")\n"
         ]
      },
      {
         "cell_type": "code",
         "execution_count": null,
         "id": "75a69ecc",
         "metadata": {},
         "outputs": [],
         "source": [
            "def get_new_columns_pronouns(feature_wordsets, df, colname):\n",
            "    dict_pronoun_list = dict(\n",
            "        [\n",
            "            (\"first_person_singular\", []),\n",
            "            (\"first_person_plural\", []),\n",
            "            (\"second_person\", []),\n",
            "            (\"third_person_singular\", []),\n",
            "            (\"third_person_plural\", []),\n",
            "        ]\n",
            "    )\n",
            "    for headline in df[colname]:\n",
            "        headline = headline.lower()\n",
            "        for key in feature_wordsets.keys():\n",
            "            # if a word corresponding to a pronoun is present in the headline,\n",
            "            # then add 1 to this pronoun list (column) otherwise add 0\n",
            "            if any(\n",
            "                re.search(r\"\\b\" + pronoun + r\"\\b\", headline)\n",
            "                for pronoun in feature_wordsets[key]\n",
            "            ):\n",
            "                dict_pronoun_list[key].append(1)\n",
            "            else:\n",
            "                dict_pronoun_list[key].append(0)\n",
            "    return dict_pronoun_list\n",
            "\n",
            "\n",
            "dict_pronoun_list = get_new_columns_pronouns(feature_wordsets, title_metadatas, \"title\")\n",
            "\n",
            "# create the new columns in our dataframe\n",
            "for col in dict_pronoun_list.keys():\n",
            "    title_metadatas[col] = dict_pronoun_list[col]\n",
            "title_metadatas.head(3)\n"
         ]
      },
      {
         "cell_type": "code",
         "execution_count": null,
         "id": "5a373408",
         "metadata": {},
         "outputs": [],
         "source": [
            "title_metadatas_without_titles = title_metadatas.drop(\"title\", axis=1)\n",
            "title_metadatas_without_titles\n",
            "\n",
            "video_metadatas = pd.merge(\n",
            "    video_metadatas, title_metadatas_without_titles, on=\"display_id\"\n",
            ")\n"
         ]
      },
      {
         "cell_type": "code",
         "execution_count": null,
         "id": "957f100f",
         "metadata": {},
         "outputs": [],
         "source": [
            "df_channels_filtered = df_channels[[\"channel\", \"subscriber_rank_sb\", \"videos_cc\"]]\n",
            "\n",
            "df_channels_filtered = df_channels_filtered.rename({\"channel\": \"channel_id\"}, axis=1)\n",
            "df_channels_filtered.head(2)\n"
         ]
      },
      {
         "cell_type": "code",
         "execution_count": null,
         "id": "f6fbead3",
         "metadata": {},
         "outputs": [],
         "source": [
            "full_metadatas = pd.read_feather(\"./data/videos_metadatas_sub_quest_3_v2\")\n",
            "pd.options.display.max_columns = None\n",
            "full_metadatas.head()\n"
         ]
      },
      {
         "cell_type": "code",
         "execution_count": null,
         "id": "f4b93625",
         "metadata": {},
         "outputs": [],
         "source": [
            "full_metadatas = pd.merge(df_channels_filtered, full_metadatas, on=\"channel_id\")\n"
         ]
      },
      {
         "cell_type": "code",
         "execution_count": null,
         "id": "c0f11aae",
         "metadata": {},
         "outputs": [],
         "source": [
            "full_metadatas.head(2)\n"
         ]
      },
      {
         "cell_type": "code",
         "execution_count": null,
         "id": "f60b7190",
         "metadata": {},
         "outputs": [],
         "source": [
            "dataset = full_metadatas.groupby(\"channel_id\").apply(\n",
            "    lambda group: pd.DataFrame(\n",
            "        {\n",
            "            \"subscriber_rank_sb\": group.subscriber_rank_sb.mean(),\n",
            "            \"videos_cc\": group.videos_cc.mean(),\n",
            "            \"week_number_mean\": group.week_number_mean.values[0],\n",
            "            \"mean_duration_min\": group.mean_duration_min.values[0],\n",
            "            \"nb_diff_cat\": group.nb_diff_cat.values[0],\n",
            "            \"covered_categories\": group.covered_categories.to_frame().values[0],\n",
            "            \"week_frequency_mean\": group.week_frequency_mean.values[0],\n",
            "            \"title_com_scr_mean\": group.title_com_scr_mean.values[0],\n",
            "            \"title_nb_words_mean\": group.title_nb_words_mean.values[0],\n",
            "            \"first_person_singular_mean\": group.first_person_singular.mean(),\n",
            "            \"first_person_plural_mean\": group.first_person_plural.mean(),\n",
            "            \"second_person_mean\": group.second_person.mean(),\n",
            "            \"third_person_singular_mean\": group.third_person_singular.mean(),\n",
            "            \"third_person_plural_mean\": group.third_person_plural.mean(),\n",
            "        }\n",
            "    )\n",
            ")\n"
         ]
      },
      {
         "cell_type": "code",
         "execution_count": null,
         "id": "d213906c",
         "metadata": {},
         "outputs": [],
         "source": [
            "dataset.to_feather(\"./data/videos_metadatas_sub_quest_3_v3\")\n"
         ]
      },
      {
         "cell_type": "code",
         "execution_count": null,
         "id": "0bd3f2dd",
         "metadata": {},
         "outputs": [],
         "source": [
            "dataset = pd.read_feather(\"./data/videos_metadatas_sub_quest_3_v3\")\n",
            "dataset.drop(\"level_1\", axis=1, inplace=True)\n"
         ]
      },
      {
         "attachments": {},
         "cell_type": "markdown",
         "id": "2628ecd5",
         "metadata": {},
         "source": [
            "Most of the upload date are on Thursday or Wednesday in average\n"
         ]
      },
      {
         "cell_type": "code",
         "execution_count": null,
         "id": "9ad62ce6",
         "metadata": {},
         "outputs": [],
         "source": [
            "dataset.week_number_mean.value_counts().plot(kind=\"bar\")\n"
         ]
      },
      {
         "cell_type": "code",
         "execution_count": null,
         "id": "13d71a81",
         "metadata": {},
         "outputs": [],
         "source": [
            "print(dataset.videos_cc.value_counts().head())\n",
            "print(dataset.nb_diff_cat.value_counts().head())\n",
            "print(dataset.week_frequency_mean.value_counts().head())\n",
            "print(dataset.title_nb_words_mean.value_counts().head())\n"
         ]
      },
      {
         "attachments": {},
         "cell_type": "markdown",
         "id": "9a77eb5d",
         "metadata": {},
         "source": [
            "### Try to find meaningful features for well ranked channels (rank < 30 000)\n"
         ]
      },
      {
         "cell_type": "code",
         "execution_count": 339,
         "id": "6b7d53db",
         "metadata": {},
         "outputs": [
            {
               "data": {
                  "text/plain": [
                     "364596.0"
                  ]
               },
               "execution_count": 339,
               "metadata": {},
               "output_type": "execute_result"
            }
         ],
         "source": [
            "dataset.subscriber_rank_sb.median()\n"
         ]
      },
      {
         "cell_type": "code",
         "execution_count": 340,
         "id": "25667ba9",
         "metadata": {},
         "outputs": [],
         "source": [
            "dataset[\"well_ranked\"] = np.where(dataset.subscriber_rank_sb < 30_000, 1, 0)\n"
         ]
      },
      {
         "cell_type": "code",
         "execution_count": 341,
         "id": "93af0665",
         "metadata": {},
         "outputs": [
            {
               "data": {
                  "text/html": [
                     "<div>\n",
                     "<style scoped>\n",
                     "    .dataframe tbody tr th:only-of-type {\n",
                     "        vertical-align: middle;\n",
                     "    }\n",
                     "\n",
                     "    .dataframe tbody tr th {\n",
                     "        vertical-align: top;\n",
                     "    }\n",
                     "\n",
                     "    .dataframe thead th {\n",
                     "        text-align: right;\n",
                     "    }\n",
                     "</style>\n",
                     "<table border=\"1\" class=\"dataframe\">\n",
                     "  <thead>\n",
                     "    <tr style=\"text-align: right;\">\n",
                     "      <th></th>\n",
                     "      <th>channel_id</th>\n",
                     "      <th>subscriber_rank_sb</th>\n",
                     "      <th>videos_cc</th>\n",
                     "      <th>week_number_mean</th>\n",
                     "      <th>mean_duration_min</th>\n",
                     "      <th>nb_diff_cat</th>\n",
                     "      <th>covered_categories</th>\n",
                     "      <th>week_frequency_mean</th>\n",
                     "      <th>title_com_scr_mean</th>\n",
                     "      <th>title_nb_words_mean</th>\n",
                     "      <th>first_person_singular_mean</th>\n",
                     "      <th>first_person_plural_mean</th>\n",
                     "      <th>second_person_mean</th>\n",
                     "      <th>third_person_singular_mean</th>\n",
                     "      <th>third_person_plural_mean</th>\n",
                     "      <th>well_ranked</th>\n",
                     "    </tr>\n",
                     "  </thead>\n",
                     "  <tbody>\n",
                     "    <tr>\n",
                     "      <th>4804</th>\n",
                     "      <td>UCKhSoRVvj76lfETluFZWjMw</td>\n",
                     "      <td>753847.0</td>\n",
                     "      <td>477.0</td>\n",
                     "      <td>2</td>\n",
                     "      <td>62.337302</td>\n",
                     "      <td>3</td>\n",
                     "      <td>[Gaming, Entertainment, People &amp; Blogs]</td>\n",
                     "      <td>2.44186</td>\n",
                     "      <td>0.467023</td>\n",
                     "      <td>10.552381</td>\n",
                     "      <td>0.07619</td>\n",
                     "      <td>0.003175</td>\n",
                     "      <td>0.009524</td>\n",
                     "      <td>0.015873</td>\n",
                     "      <td>0.003175</td>\n",
                     "      <td>0</td>\n",
                     "    </tr>\n",
                     "  </tbody>\n",
                     "</table>\n",
                     "</div>"
                  ],
                  "text/plain": [
                     "                    channel_id  subscriber_rank_sb  videos_cc  \\\n",
                     "4804  UCKhSoRVvj76lfETluFZWjMw            753847.0      477.0   \n",
                     "\n",
                     "      week_number_mean  mean_duration_min  nb_diff_cat  \\\n",
                     "4804                 2          62.337302            3   \n",
                     "\n",
                     "                           covered_categories  week_frequency_mean  \\\n",
                     "4804  [Gaming, Entertainment, People & Blogs]              2.44186   \n",
                     "\n",
                     "      title_com_scr_mean  title_nb_words_mean  first_person_singular_mean  \\\n",
                     "4804            0.467023            10.552381                     0.07619   \n",
                     "\n",
                     "      first_person_plural_mean  second_person_mean  \\\n",
                     "4804                  0.003175            0.009524   \n",
                     "\n",
                     "      third_person_singular_mean  third_person_plural_mean  well_ranked  \n",
                     "4804                    0.015873                  0.003175            0  "
                  ]
               },
               "execution_count": 341,
               "metadata": {},
               "output_type": "execute_result"
            }
         ],
         "source": [
            "dataset.sample()\n"
         ]
      },
      {
         "attachments": {},
         "cell_type": "markdown",
         "id": "3ce5f699",
         "metadata": {},
         "source": [
            "### Using random forest tree with over sampling\n"
         ]
      },
      {
         "cell_type": "code",
         "execution_count": 342,
         "id": "a08ffd91",
         "metadata": {},
         "outputs": [],
         "source": [
            "# Use over sampling technique\n",
            "from imblearn.over_sampling import SMOTE\n",
            "\n",
            "X = dataset.loc[\n",
            "    :,\n",
            "    [\n",
            "        \"videos_cc\",\n",
            "        \"week_number_mean\",\n",
            "        \"nb_diff_cat\",\n",
            "        \"title_com_scr_mean\",\n",
            "        \"title_nb_words_mean\",\n",
            "        \"week_frequency_mean\",\n",
            "        \"mean_duration_min\",\n",
            "    ],\n",
            "]\n",
            "y = dataset.loc[:, [\"well_ranked\"]]\n",
            "\n",
            "sm = SMOTE(random_state=42)\n",
            "X_res, y_res = sm.fit_resample(X, y)\n"
         ]
      },
      {
         "cell_type": "code",
         "execution_count": 343,
         "id": "5f27cd12",
         "metadata": {},
         "outputs": [],
         "source": [
            "from sklearn.model_selection import train_test_split\n",
            "from sklearn.neighbors import KNeighborsClassifier\n",
            "from sklearn import metrics\n",
            "\n",
            "X_train, X_test, y_train, y_test = train_test_split(\n",
            "    X_res, y_res, test_size=0.2, random_state=42\n",
            ")\n"
         ]
      },
      {
         "cell_type": "code",
         "execution_count": 344,
         "id": "f66d7c13",
         "metadata": {},
         "outputs": [
            {
               "name": "stdout",
               "output_type": "stream",
               "text": [
                  "The test set has an accuracy of 0.900, a precision of 0.879 and a F1 score of 0.903.\n"
               ]
            }
         ],
         "source": [
            "from sklearn.ensemble import RandomForestClassifier\n",
            "\n",
            "rft = RandomForestClassifier(class_weight=\"balanced_subsample\")\n",
            "rft.fit(X_train, y_train)\n",
            "prediction = rft.predict(X_test)\n",
            "test_acc = metrics.accuracy_score(y_test, prediction)\n",
            "test_precision = metrics.precision_score(y_test, prediction)\n",
            "f1_score = metrics.f1_score(y_test, prediction)\n",
            "print(\n",
            "    \"The test set has an accuracy of {:.3f}, a precision of {:.3f} and a F1 score of {:.3f}.\".format(\n",
            "        test_acc, test_precision, f1_score\n",
            "    )\n",
            ")\n"
         ]
      },
      {
         "cell_type": "code",
         "execution_count": 345,
         "id": "f41a4455",
         "metadata": {},
         "outputs": [],
         "source": [
            "# rft.predict(np.array([30, 4, 1.3, 10]).reshape(1, -1))\n"
         ]
      },
      {
         "attachments": {},
         "cell_type": "markdown",
         "id": "3ce5f699",
         "metadata": {},
         "source": [
            "### Using k nearest neighbour\n"
         ]
      },
      {
         "cell_type": "code",
         "execution_count": 346,
         "id": "42f36e39",
         "metadata": {},
         "outputs": [
            {
               "name": "stdout",
               "output_type": "stream",
               "text": [
                  "Accuracy : 0.885\n",
                  "Precision : 0.838\n",
                  "F1 Score : 0.893\n"
               ]
            }
         ],
         "source": [
            "neigh = KNeighborsClassifier(n_neighbors=1)\n",
            "neigh.fit(X_train, y_train)\n",
            "y_pred = neigh.predict(X_test)\n",
            "print(\"Accuracy : {:.3f}\".format(metrics.accuracy_score(y_test, y_pred)))\n",
            "print(\"Precision : {:.3f}\".format(metrics.precision_score(y_test, y_pred)))\n",
            "print(\"F1 Score : {:.3f}\".format(metrics.f1_score(y_test, y_pred)))\n"
         ]
      },
      {
         "cell_type": "code",
         "execution_count": null,
         "id": "da75026a",
         "metadata": {},
         "outputs": [],
         "source": [
            "### Lets plot the differences between well ranked channels and less ranked\n"
         ]
      },
      {
         "cell_type": "code",
         "execution_count": null,
         "id": "4586ffb9",
         "metadata": {},
         "outputs": [],
         "source": []
      },
      {
         "cell_type": "code",
         "execution_count": null,
         "id": "6b4bdbda",
         "metadata": {},
         "outputs": [],
         "source": [
            "big_channels = dataset[\n",
            "    dataset.subscriber_rank_sb <= dataset.subscriber_rank_sb.median()\n",
            "]\n",
            "small_channels = dataset[\n",
            "    dataset.subscriber_rank_sb > dataset.subscriber_rank_sb.median()\n",
            "]\n",
            "\n",
            "big_channels.mean_duration_min = round(big_channels.mean_duration_min, 0)\n",
            "small_channels.mean_duration_min = round(small_channels.mean_duration_min, 0)\n"
         ]
      },
      {
         "cell_type": "code",
         "execution_count": null,
         "id": "2978f23e",
         "metadata": {},
         "outputs": [],
         "source": [
            "big_channels.head(2)\n"
         ]
      },
      {
         "cell_type": "code",
         "execution_count": null,
         "id": "897c49b8",
         "metadata": {},
         "outputs": [],
         "source": [
            "big_channels.title_com_scr_mean.value_counts().plot(kind=\"hist\")\n"
         ]
      },
      {
         "cell_type": "code",
         "execution_count": null,
         "id": "05017f76",
         "metadata": {},
         "outputs": [],
         "source": [
            "small_channels.nb_diff_cat.value_counts()\n"
         ]
      },
      {
         "attachments": {},
         "cell_type": "markdown",
         "id": "5d89b4e0",
         "metadata": {},
         "source": [
            "### Sub-Question 4\n",
            "\n",
            "**Description:** What are the most common topics in each of the chosen categories?  \n",
            "**Method:** The yt_metadata_en.jsonl.gz dataset will be used to get a list of tags of each video according to its category. It is further split and classified according to the topics that occur most frequently. This way, we get the most used keywords in each video category and therefore the most popular topics.  \n",
            "**Timeline:** By 15/12/2022  \n",
            "**Organization:** Jules  \n"
         ]
      },
      {
         "attachments": {},
         "cell_type": "markdown",
         "id": "d05fe80c",
         "metadata": {},
         "source": [
            "To start with, we will try to determine the common topics across all videos. This is done by performining topic detection using titles and tags of all selected videos.\n"
         ]
      },
      {
         "cell_type": "code",
         "execution_count": null,
         "id": "25585b7f",
         "metadata": {},
         "outputs": [],
         "source": [
            "import gensim\n",
            "from gensim.models.phrases import Phrases\n",
            "from gensim.corpora import Dictionary\n",
            "from gensim.models import LdaMulticore\n",
            "import pyLDAvis.gensim_models\n"
         ]
      },
      {
         "cell_type": "code",
         "execution_count": null,
         "id": "4e8e5caa",
         "metadata": {},
         "outputs": [],
         "source": [
            "def topic_detection(dataset, datatype):\n",
            "    if datatype == \"title\":\n",
            "        new_list = []\n",
            "        # replace all underslash to space\n",
            "        for x in dataset:\n",
            "            new_text = x.replace(\"_\", \" \")\n",
            "            new_text = new_text.replace(\"__\", \" \")\n",
            "            new_text = new_text.replace(\"•\", \" \")\n",
            "            new_list.append(new_text.lower())\n",
            "\n",
            "    if datatype == \"tag\":\n",
            "        new_list = []\n",
            "        for x in dataset:\n",
            "            step1 = x.replace(\",\", \", \")\n",
            "            new_list.append(step1.lower())\n",
            "\n",
            "    STOPWORDS = spacy.lang.en.stop_words.STOP_WORDS\n",
            "\n",
            "    processed_docs = list()\n",
            "    for doc in nlp.pipe(new_list, n_process=5, batch_size=10):\n",
            "\n",
            "        # Process document using Spacy NLP pipeline.\n",
            "        ents = doc.ents  # Named entities\n",
            "\n",
            "        # Keep only words (no numbers, no punctuation).\n",
            "        # Lemmatize tokens, to lowercase, remove punctuation and remove stopwords.\n",
            "        doc = [token.lemma_ for token in doc if token.is_alpha and not token.is_stop]\n",
            "\n",
            "        # Remove common words from a stopword list and keep only words of length 2 or more.\n",
            "        doc = [token for token in doc if token not in STOPWORDS and len(token) > 1]\n",
            "\n",
            "        # Add named entities, but only if they are a compound of more than word.\n",
            "        doc.extend([str(entity) for entity in ents if len(entity) > 1])\n",
            "\n",
            "        processed_docs.append(doc)\n",
            "\n",
            "    docs = processed_docs\n",
            "    del processed_docs\n",
            "\n",
            "    # Add bigrams to docs (only ones that appear 15 times or more).\n",
            "    bigram = Phrases(docs, min_count=15)\n",
            "\n",
            "    for idx in range(len(docs)):\n",
            "        for token in bigram[docs[idx]]:\n",
            "            if \"_\" in token:\n",
            "                # Token is a bigram, add to document.\n",
            "                docs[idx].append(token)\n",
            "\n",
            "    # Create a dictionary representation of the documents, and filter out frequent and rare words.\n",
            "    dictionary = Dictionary(docs)\n",
            "\n",
            "    # Remove rare and common tokens.\n",
            "    # Filter out words that occur too frequently or too rarely.\n",
            "    max_freq = 0.5\n",
            "    min_wordcount = 5\n",
            "    dictionary.filter_extremes(no_below=min_wordcount, no_above=max_freq)\n",
            "\n",
            "    # Bag-of-words representation of the documents.\n",
            "    corpus = [dictionary.doc2bow(doc) for doc in docs]\n",
            "\n",
            "    seed = 42\n",
            "    # models\n",
            "    params = {\"passes\": 10, \"random_state\": seed}\n",
            "    base_models = dict()\n",
            "    return corpus, dictionary\n"
         ]
      },
      {
         "cell_type": "code",
         "execution_count": null,
         "id": "8d20975f",
         "metadata": {},
         "outputs": [],
         "source": [
            "corpus_title, dictionary_title = topic_detection(title_metadatas.title, \"title\")\n"
         ]
      },
      {
         "cell_type": "code",
         "execution_count": null,
         "id": "28d387f0",
         "metadata": {},
         "outputs": [],
         "source": [
            "model_title = LdaMulticore(\n",
            "    corpus=corpus_title,\n",
            "    num_topics=8,\n",
            "    id2word=dictionary_title,\n",
            "    workers=6,\n",
            "    passes=params[\"passes\"],\n",
            "    random_state=params[\"random_state\"],\n",
            ")\n",
            "\n",
            "data = pyLDAvis.gensim_models.prepare(model_title, corpus_title, dictionary_title)\n",
            "pyLDAvis.prepare(data)\n"
         ]
      },
      {
         "cell_type": "code",
         "execution_count": null,
         "id": "9dfda984",
         "metadata": {},
         "outputs": [],
         "source": [
            "pyLDAvis.enable_notebook()\n",
            "pyLDAvis.enable_notebook(data)\n"
         ]
      },
      {
         "cell_type": "code",
         "execution_count": null,
         "id": "11240a1a",
         "metadata": {},
         "outputs": [],
         "source": []
      },
      {
         "cell_type": "code",
         "execution_count": null,
         "id": "7de4f7cb",
         "metadata": {},
         "outputs": [],
         "source": [
            "corpus_tag, dictionary_tag = topic_detection(tag_metadatas.tags, \"tag\")\n"
         ]
      },
      {
         "cell_type": "code",
         "execution_count": null,
         "id": "edd745d9",
         "metadata": {},
         "outputs": [],
         "source": [
            "pyLDAvis.enable_notebook()\n",
            "model_tag = LdaMulticore(\n",
            "    corpus=corpus_tag,\n",
            "    num_topics=8,\n",
            "    id2word=dictionary_tag,\n",
            "    workers=6,\n",
            "    passes=params[\"passes\"],\n",
            "    random_state=params[\"random_state\"],\n",
            ")\n",
            "\n",
            "data = pyLDAvis.gensim_models.prepare(model_tag, corpus_tag, dictionary_tag)\n",
            "pyLDAvis.prepare(data)\n"
         ]
      },
      {
         "cell_type": "code",
         "execution_count": null,
         "id": "b525ca43",
         "metadata": {},
         "outputs": [],
         "source": [
            "pyLDAvis.enable_notebook()\n",
            "pyLDAvis.enable_notebook(data)\n"
         ]
      },
      {
         "cell_type": "code",
         "execution_count": null,
         "id": "9dacff20",
         "metadata": {},
         "outputs": [],
         "source": []
      },
      {
         "cell_type": "code",
         "execution_count": null,
         "id": "4640ed6f",
         "metadata": {},
         "outputs": [],
         "source": []
      },
      {
         "attachments": {},
         "cell_type": "markdown",
         "id": "2600e95a",
         "metadata": {},
         "source": [
            "### Sub-Question 5\n",
            "\n",
            "**Description:** Does a channel's success increase with a greater variety of categories?  \n",
            "**Method:** For this question, we will determine whether the filtered channels use multiple categories in their videos, and if they showed clear shifts from one category to another. Ultimately, we want to use this information and methods such as A/B testing and observational studies to determine whether a greater variety of categories can aid to a channels’ success.  \n",
            "**Timeline:** By 18/12/2022  \n",
            "**Organization:** Paul  \n"
         ]
      },
      {
         "cell_type": "code",
         "execution_count": 347,
         "id": "0e534ce3",
         "metadata": {},
         "outputs": [
            {
               "data": {
                  "text/plain": [
                     "Text(0, 0.5, 'Number of videos')"
                  ]
               },
               "execution_count": 347,
               "metadata": {},
               "output_type": "execute_result"
            },
            {
               "data": {
                  "image/png": "[encoded data removed]",
                  "text/plain": [
                     "<Figure size 640x480 with 1 Axes>"
                  ]
               },
               "metadata": {},
               "output_type": "display_data"
            }
         ],
         "source": [
            "video_metadatas.categories.value_counts().plot(kind=\"bar\")\n",
            "plt.title(\"Number of videos per categories for channels with Gaming topic\")\n",
            "plt.xlabel(\"Categories\")\n",
            "plt.ylabel(\"Number of videos\")\n"
         ]
      },
      {
         "cell_type": "markdown",
         "id": "63be44ea",
         "metadata": {},
         "source": [
            "Find channels with unique topic\n"
         ]
      },
      {
         "cell_type": "code",
         "execution_count": 348,
         "id": "530d6927",
         "metadata": {},
         "outputs": [
            {
               "name": "stdout",
               "output_type": "stream",
               "text": [
                  "nb of channels with unique topic Gaming :  (5598,)\n",
                  "nb of channels without unique topic Gaming :  (8782,)\n"
               ]
            },
            {
               "data": {
                  "text/plain": [
                     "[Gaming]              5576\n",
                     "[Entertainment]          8\n",
                     "[People & Blogs]         5\n",
                     "[Film & Animation]       4\n",
                     "[Education]              2\n",
                     "[Music]                  2\n",
                     "[Howto & Style]          1\n",
                     "dtype: int64"
                  ]
               },
               "execution_count": 348,
               "metadata": {},
               "output_type": "execute_result"
            }
         ],
         "source": [
            "gaming_channels_with_categories = video_metadatas.groupby(\"channel_id\").apply(\n",
            "    lambda group: group.categories.unique()\n",
            ")\n",
            "unique_topic_gaming = gaming_channels_with_categories.loc[\n",
            "    gaming_channels_with_categories.str.len() == 1\n",
            "]\n",
            "non_unique_topic_gaming = gaming_channels_with_categories.loc[\n",
            "    gaming_channels_with_categories.str.len() > 1\n",
            "]\n",
            "print(\"nb of channels with unique topic Gaming : \", unique_topic_gaming.shape)\n",
            "print(\"nb of channels without unique topic Gaming : \", non_unique_topic_gaming.shape)\n",
            "unique_topic_gaming.value_counts()\n"
         ]
      },
      {
         "cell_type": "code",
         "execution_count": 349,
         "id": "153bc452",
         "metadata": {},
         "outputs": [],
         "source": [
            "unique_topic_gaming_channels_descript = df_channels[\n",
            "    df_channels.channel.isin(unique_topic_gaming.index.values)\n",
            "]\n",
            "non_unique_topic_gaming_channels_descript = df_channels[\n",
            "    df_channels.channel.isin(non_unique_topic_gaming.index.values)\n",
            "]\n"
         ]
      },
      {
         "cell_type": "markdown",
         "id": "93b03f1f",
         "metadata": {},
         "source": [
            "### Now we have the dataset to check the differences between unique and non unique categories channels\n"
         ]
      },
      {
         "cell_type": "code",
         "execution_count": 350,
         "id": "52a7f632",
         "metadata": {},
         "outputs": [],
         "source": [
            "def get_confidence_interval(data):\n",
            "    rng = np.random.default_rng()\n",
            "    return bootstrap(\n",
            "        (data,),\n",
            "        np.mean,\n",
            "        confidence_level=0.95,\n",
            "        random_state=rng,\n",
            "    ).confidence_interval\n"
         ]
      },
      {
         "cell_type": "code",
         "execution_count": 351,
         "id": "0a1c47d2",
         "metadata": {},
         "outputs": [
            {
               "name": "stdout",
               "output_type": "stream",
               "text": [
                  "95% confidence interval of number of subs for unique Gaming channels [137_250, 161_484]\n",
                  "95% confidence interval of number of subs for non unique Gaming channels [131_238, 163_315]\n"
               ]
            }
         ],
         "source": [
            "conf1 = get_confidence_interval(unique_topic_gaming_channels_descript.subscribers_cc)\n",
            "print(\n",
            "    \"95% confidence interval of number of subs for unique Gaming channels [{:_}, {:_}]\".format(\n",
            "        int(conf1[0]), int(conf1[1])\n",
            "    )\n",
            ")\n",
            "conf2 = get_confidence_interval(\n",
            "    non_unique_topic_gaming_channels_descript.subscribers_cc\n",
            ")\n",
            "print(\n",
            "    \"95% confidence interval of number of subs for non unique Gaming channels [{:_}, {:_}]\".format(\n",
            "        int(conf2[0]), int(conf2[1])\n",
            "    )\n",
            ")\n"
         ]
      },
      {
         "cell_type": "markdown",
         "id": "15286dd9",
         "metadata": {},
         "source": [
            "From these statistics, we can notice that diverse channels have no more subs in general. \n"
         ]
      },
      {
         "cell_type": "code",
         "execution_count": 364,
         "id": "6872c1d5",
         "metadata": {},
         "outputs": [
            {
               "name": "stdout",
               "output_type": "stream",
               "text": [
                  "(5598, 9)\n",
                  "(8782, 9)\n"
               ]
            }
         ],
         "source": [
            "unique_topic_gaming_channels_descript[\"only_gaming\"] = 1\n",
            "print(unique_topic_gaming_channels_descript.shape)\n",
            "non_unique_topic_gaming_channels_descript[\"only_gaming\"] = 0\n",
            "print(non_unique_topic_gaming_channels_descript.shape)\n"
         ]
      },
      {
         "cell_type": "code",
         "execution_count": 365,
         "id": "be657b02",
         "metadata": {},
         "outputs": [
            {
               "data": {
                  "text/html": [
                     "<div>\n",
                     "<style scoped>\n",
                     "    .dataframe tbody tr th:only-of-type {\n",
                     "        vertical-align: middle;\n",
                     "    }\n",
                     "\n",
                     "    .dataframe tbody tr th {\n",
                     "        vertical-align: top;\n",
                     "    }\n",
                     "\n",
                     "    .dataframe thead th {\n",
                     "        text-align: right;\n",
                     "    }\n",
                     "</style>\n",
                     "<table border=\"1\" class=\"dataframe\">\n",
                     "  <thead>\n",
                     "    <tr style=\"text-align: right;\">\n",
                     "      <th></th>\n",
                     "      <th>category_cc</th>\n",
                     "      <th>join_date</th>\n",
                     "      <th>channel</th>\n",
                     "      <th>name_cc</th>\n",
                     "      <th>subscribers_cc</th>\n",
                     "      <th>videos_cc</th>\n",
                     "      <th>subscriber_rank_sb</th>\n",
                     "      <th>weights</th>\n",
                     "      <th>only_gaming</th>\n",
                     "    </tr>\n",
                     "  </thead>\n",
                     "  <tbody>\n",
                     "    <tr>\n",
                     "      <th>152</th>\n",
                     "      <td>Gaming</td>\n",
                     "      <td>2013-01-31</td>\n",
                     "      <td>UCD1Em4q90ZUK2R5HKesszJg</td>\n",
                     "      <td>Clash of Clans</td>\n",
                     "      <td>14600000</td>\n",
                     "      <td>343</td>\n",
                     "      <td>234.0</td>\n",
                     "      <td>2.087</td>\n",
                     "      <td>1</td>\n",
                     "    </tr>\n",
                     "    <tr>\n",
                     "      <th>233</th>\n",
                     "      <td>Gaming</td>\n",
                     "      <td>2013-05-24</td>\n",
                     "      <td>UCC-RHF_77zQdKcA75hr5oTQ</td>\n",
                     "      <td>FGTeeV</td>\n",
                     "      <td>12100000</td>\n",
                     "      <td>1276</td>\n",
                     "      <td>378.0</td>\n",
                     "      <td>2.087</td>\n",
                     "      <td>1</td>\n",
                     "    </tr>\n",
                     "  </tbody>\n",
                     "</table>\n",
                     "</div>"
                  ],
                  "text/plain": [
                     "    category_cc  join_date                   channel         name_cc  \\\n",
                     "152      Gaming 2013-01-31  UCD1Em4q90ZUK2R5HKesszJg  Clash of Clans   \n",
                     "233      Gaming 2013-05-24  UCC-RHF_77zQdKcA75hr5oTQ          FGTeeV   \n",
                     "\n",
                     "     subscribers_cc  videos_cc  subscriber_rank_sb  weights  only_gaming  \n",
                     "152        14600000        343               234.0    2.087            1  \n",
                     "233        12100000       1276               378.0    2.087            1  "
                  ]
               },
               "execution_count": 365,
               "metadata": {},
               "output_type": "execute_result"
            }
         ],
         "source": [
            "unique_and_non_unique = unique_topic_gaming_channels_descript.append(\n",
            "    non_unique_topic_gaming_channels_descript\n",
            ")\n",
            "unique_and_non_unique.head(2)\n"
         ]
      },
      {
         "cell_type": "code",
         "execution_count": 366,
         "id": "0566ac8c",
         "metadata": {},
         "outputs": [
            {
               "name": "stdout",
               "output_type": "stream",
               "text": [
                  "                            OLS Regression Results                            \n",
                  "==============================================================================\n",
                  "Dep. Variable:     subscribers_cc_log   R-squared:                       0.003\n",
                  "Model:                            OLS   Adj. R-squared:                  0.003\n",
                  "Method:                 Least Squares   F-statistic:                     45.88\n",
                  "Date:                Wed, 21 Dec 2022   Prob (F-statistic):           1.30e-11\n",
                  "Time:                        00:34:16   Log-Likelihood:                -23569.\n",
                  "No. Observations:               14380   AIC:                         4.714e+04\n",
                  "Df Residuals:                   14378   BIC:                         4.716e+04\n",
                  "Df Model:                           1                                         \n",
                  "Covariance Type:            nonrobust                                         \n",
                  "===============================================================================\n",
                  "                  coef    std err          t      P>|t|      [0.025      0.975]\n",
                  "-------------------------------------------------------------------------------\n",
                  "Intercept      10.6935      0.013    804.093      0.000      10.667      10.720\n",
                  "only_gaming     0.1444      0.021      6.774      0.000       0.103       0.186\n",
                  "==============================================================================\n",
                  "Omnibus:                     1926.234   Durbin-Watson:                   0.022\n",
                  "Prob(Omnibus):                  0.000   Jarque-Bera (JB):             2803.400\n",
                  "Skew:                           1.017   Prob(JB):                         0.00\n",
                  "Kurtosis:                       3.734   Cond. No.                         2.44\n",
                  "==============================================================================\n",
                  "\n",
                  "Notes:\n",
                  "[1] Standard Errors assume that the covariance matrix of the errors is correctly specified.\n"
               ]
            }
         ],
         "source": [
            "unique_and_non_unique[\"subscribers_cc_log\"] = np.log(\n",
            "    unique_and_non_unique.subscribers_cc,\n",
            "    where=unique_and_non_unique.subscribers_cc != 0,\n",
            ")\n",
            "mod = smf.ols(\n",
            "    formula=\"subscribers_cc_log ~ only_gaming\",\n",
            "    data=unique_and_non_unique,\n",
            ")\n",
            "\n",
            "# Fits the model (find the optimal coefficients, adding a random seed ensures consistency)\n",
            "np.random.seed(2)\n",
            "res = mod.fit()\n",
            "\n",
            "# Print thes summary output provided by the library.\n",
            "print(res.summary())\n"
         ]
      },
      {
         "attachments": {},
         "cell_type": "markdown",
         "id": "c7eb1b5a",
         "metadata": {},
         "source": [
            "Channel with only gaming have more subscribers than ones with diverse categories and the coefficient is meaningful\n"
         ]
      },
      {
         "cell_type": "markdown",
         "id": "7a568a99",
         "metadata": {},
         "source": []
      }
   ],
   "metadata": {
      "kernelspec": {
         "display_name": "Python 3 (ipykernel)",
         "language": "python",
         "name": "python3"
      },
      "language_info": {
         "codemirror_mode": {
            "name": "ipython",
            "version": 3
         },
         "file_extension": ".py",
         "mimetype": "text/x-python",
         "name": "python",
         "nbconvert_exporter": "python",
         "pygments_lexer": "ipython3",
         "version": "3.9.12"
      },
      "vscode": {
         "interpreter": {
            "hash": "e2552cbddfdf66195580a0cc7030164c04fc13f4bfb78773728a78bbf4f04323"
         }
      }
   },
   "nbformat": 4,
   "nbformat_minor": 5
}
