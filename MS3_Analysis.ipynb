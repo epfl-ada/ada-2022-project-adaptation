{
 "cells": [
  {
   "cell_type": "markdown",
   "id": "e2af5202-cd4d-4fe2-9e7e-48869ec70229",
   "metadata": {},
   "source": [
    "# Part 0: Initializing\n"
   ]
  },
  {
   "cell_type": "code",
   "execution_count": 1,
   "id": "b347be5c-381b-4203-a676-ae35909a42cc",
   "metadata": {},
   "outputs": [],
   "source": [
    "# Initializing\n",
    "import matplotlib.font_manager as font_manager\n",
    "\n",
    "# from matplotlib.lines import Line2D\n",
    "import matplotlib as mpl\n",
    "\n",
    "# import matplotlib.ticker as mtick\n",
    "import matplotlib.pyplot as plt\n",
    "import pandas as pd\n",
    "import numpy as np\n",
    "import seaborn as sns\n",
    "\n",
    "# import os\n",
    "import re\n",
    "from scipy.stats import bootstrap\n",
    "import statsmodels.api as sm\n",
    "import statsmodels.formula.api as smf\n",
    "\n",
    "# import requests\n",
    "import random\n",
    "from sklearn.model_selection import train_test_split\n",
    "from sklearn.neighbors import KNeighborsClassifier\n",
    "from sklearn import metrics\n",
    "from sklearn.ensemble import RandomForestClassifier\n",
    "\n",
    "params = {\n",
    "    \"axes.titlesize\": 14,\n",
    "    \"axes.labelsize\": 12,\n",
    "    \"font.size\": 12,\n",
    "    \"legend.fontsize\": 12,\n",
    "    \"xtick.labelsize\": 12,\n",
    "    \"ytick.labelsize\": 12,\n",
    "    \"text.usetex\": False,\n",
    "}\n",
    "\n",
    "NUM_COLORS = 15\n",
    "cm = plt.get_cmap(\"nipy_spectral\")\n",
    "\n",
    "mpl.rcParams.update(params)\n",
    "\n",
    "\n",
    "import warnings\n",
    "\n",
    "warnings.filterwarnings(\"ignore\")\n"
   ]
  },
  {
   "cell_type": "markdown",
   "id": "9c4e5555-b4fc-4cd9-acea-f54ff5aef1ad",
   "metadata": {},
   "source": [
    "To start with, we import three datasets that are available from YouNiverse:\n",
    "\n",
    "` ` df_channels_en.tsv.gz ` `\n",
    "\n",
    "` ` df_timeseries_en.tsv.gz ` `\n",
    "\n",
    "` ` yt_metadata_helper.feather ` `\n",
    "\n",
    "We filter the channels that have been identified as Gaming, as it is our target category. We do this by identifying the channel IDs with label ` ` Gaming `  ` in `  ` Category `  ` from `  ` df_channels_en.tsv.gz ` ` .\n"
   ]
  },
  {
   "cell_type": "code",
   "execution_count": 2,
   "id": "df97ef38",
   "metadata": {},
   "outputs": [],
   "source": [
    "df_channels = pd.read_csv(\"./data/df_channels_en.tsv.gz\", compression=\"infer\", sep=\"\\t\")\n",
    "df_channels[\"join_date\"] = pd.to_datetime(df_channels[\"join_date\"])\n",
    "\n",
    "df_channels = df_channels[df_channels[\"category_cc\"] == \"Gaming\"]\n",
    "channel_id_gaming = df_channels.channel\n"
   ]
  },
  {
   "cell_type": "markdown",
   "id": "d5ca7894",
   "metadata": {},
   "source": [
    "` ` channel_id_gaming `  ` contains all channel IDs that are identified as Gaming. We use this list to do initial filtering of both `  `df_time_series `  ` and `  ` video_metadatas ` ` .\n"
   ]
  },
  {
   "cell_type": "code",
   "execution_count": 3,
   "id": "2c93da3e-46e0-4e9b-98dc-c725a9d981fa",
   "metadata": {},
   "outputs": [],
   "source": [
    "df_time_series = pd.read_csv(\n",
    "    \"./data/df_timeseries_en.tsv.gz\", compression=\"infer\", sep=\"\\t\"\n",
    ")\n",
    "df_time_series[\"datetime\"] = pd.to_datetime(df_time_series[\"datetime\"])\n",
    "# round the total number of subscribers, it is easier to consider 1 person and instead half of a person...\n",
    "df_time_series.subs = df_time_series.subs.round(0)\n",
    "\n",
    "# we filter the channels being labeled as \"Gaming\" in df_channels_en.tsv.gz\n",
    "df_time_series = df_time_series[df_time_series[\"channel\"].isin(channel_id_gaming)]\n"
   ]
  },
  {
   "cell_type": "code",
   "execution_count": 4,
   "id": "bfb8de83-f104-4db7-a03d-45eedff3600d",
   "metadata": {},
   "outputs": [],
   "source": [
    "video_metadatas = pd.read_feather(\n",
    "    \"./data/yt_metadata_helper.feather\",\n",
    "    columns=[\n",
    "        \"categories\",\n",
    "        \"upload_date\",\n",
    "        \"duration\",\n",
    "        \"like_count\",\n",
    "        \"dislike_count\",\n",
    "        \"view_count\",\n",
    "        \"channel_id\",\n",
    "        \"display_id\",\n",
    "    ],\n",
    ")\n",
    "\n",
    "# we added these two columns for analysis later on\n",
    "video_metadatas[\"yearNumber\"] = video_metadatas[\"upload_date\"].dt.year\n",
    "video_metadatas[\"weekNumber\"] = video_metadatas[\"upload_date\"].dt.weekday\n",
    "\n",
    "# we filter the channels being labeled as \"Gaming\" in df_channels_en.tsv.gz\n",
    "video_metadatas = video_metadatas[video_metadatas[\"channel_id\"].isin(channel_id_gaming)]\n"
   ]
  },
  {
   "cell_type": "markdown",
   "id": "3c27b9e8",
   "metadata": {},
   "source": [
    "We now have filtered ` ` df_channels `  ` , `  ` df_time_series `  ` and `  ` video_metadatas `  ` . However, they have a different amount of channels. `  ` df_channels `  ` and `  ` video_metadatas `  ` both have 20143 channels, whereas `  ` df_time_series ` ` has 19698 channels. \n",
    "\n",
    "When we take a closer look at the data, we can observe that `df_time_series` only has data from early January 2015 to end September 2019, which could be one reason causing this inconsistency. Therefore, we filter videos in ` ` video_metadatas ` ` that are being uploaded from early January 2015 to end September 2019 to keep consistency across all three dataframes.\n"
   ]
  },
  {
   "cell_type": "code",
   "execution_count": 5,
   "id": "e3c22581",
   "metadata": {},
   "outputs": [],
   "source": [
    "video_metadatas = video_metadatas[\n",
    "    (video_metadatas[\"upload_date\"] > df_time_series.datetime.min())\n",
    "    & (video_metadatas[\"upload_date\"] < df_time_series.datetime.max())\n",
    "]\n"
   ]
  },
  {
   "cell_type": "markdown",
   "id": "81392b16",
   "metadata": {},
   "source": [
    "We now have a list of Gaming channels and the information about their videos. Now, we proceed to filter out the channels that fit the following conditions:\n",
    "\n",
    "* The channel uploads more than 60 % of gaming videos\n",
    "* The YouTuber uploaded with an average frequency of \"every 2 days or less\" AND \"every 90 days or more\"\n",
    "\n",
    "The justification for these filtering requirements is that we want to have gaming-focused channels that publish videos moderately frequently but not infrequently enough. A single person is unlikely to run a channel with a very high upload frequency, whereas channels with too few uploads are likely to be discontinued. \n",
    "\n",
    "We accomplish this filtering by looking at ` ` video_metadatas ` ` , and calculate:\n",
    "\n",
    "* The number of videos being labelled as \"Gaming\" in each channel\n",
    "* The number of videos being uploaded to each channel\n",
    "* The time frame within which the YouTuber is active (corresponding to the number of days between the first and last upload)\n"
   ]
  },
  {
   "cell_type": "code",
   "execution_count": 6,
   "id": "4c1e1626",
   "metadata": {},
   "outputs": [],
   "source": [
    "# The number of videos being labelled as \"Gaming\" in each channel\n",
    "video_metadatas[\"is_gaming\"] = video_metadatas.categories == \"Gaming\"\n",
    "\n",
    "# The number of videos being uploaded to each channel\n",
    "count_per_channel = (\n",
    "    pd.DataFrame(video_metadatas.groupby(\"channel_id\").count().categories)\n",
    "    .reset_index()\n",
    "    .rename(columns={\"categories\": \"nr_videos\"})\n",
    ")\n",
    "game_video_count_per_channel = pd.DataFrame(\n",
    "    video_metadatas.groupby(\"channel_id\").sum().is_gaming\n",
    ").reset_index()\n",
    "\n",
    "# merge these two datasets\n",
    "channel_selection = count_per_channel.merge(game_video_count_per_channel)\n",
    "\n",
    "# The percentage of gaming videos within each channel\n",
    "channel_selection[\"pct_gaming\"] = (\n",
    "    channel_selection.is_gaming / channel_selection.nr_videos\n",
    ")\n"
   ]
  },
  {
   "cell_type": "code",
   "execution_count": 7,
   "id": "609a1a0f",
   "metadata": {},
   "outputs": [],
   "source": [
    "pct_level = 0.6  # adjust the percentage of videos being labelled as \"Gaming\" here\n",
    "selected_channels = list(\n",
    "    channel_selection[channel_selection[\"pct_gaming\"] >= pct_level].channel_id\n",
    ")\n",
    "channel_selection = channel_selection[\n",
    "    channel_selection[\"channel_id\"].isin(selected_channels)\n",
    "]\n"
   ]
  },
  {
   "cell_type": "markdown",
   "id": "8760cb7c",
   "metadata": {},
   "source": [
    "After performing the filtering over percentage of videos being labelled as \"Gaming\", we have 18230 channels. \n",
    "\n",
    "We now want to filter out the channels that upload videos too frequently or too infrequent:\n"
   ]
  },
  {
   "cell_type": "code",
   "execution_count": 8,
   "id": "758656d4",
   "metadata": {},
   "outputs": [],
   "source": [
    "# The time frame within which the YouTuber is active\n",
    "last_vid_date = (\n",
    "    pd.DataFrame(video_metadatas.groupby(\"channel_id\").max().upload_date)\n",
    "    .reset_index()\n",
    "    .rename(columns={\"upload_date\": \"last_vid_date\"})\n",
    ")\n",
    "first_vid_date = (\n",
    "    pd.DataFrame(video_metadatas.groupby(\"channel_id\").min().upload_date)\n",
    "    .reset_index()\n",
    "    .rename(columns={\"upload_date\": \"first_vid_date\"})\n",
    ")\n",
    "total_vids = (\n",
    "    pd.DataFrame(video_metadatas.groupby(\"channel_id\").count().display_id)\n",
    "    .reset_index()\n",
    "    .rename(columns={\"display_id\": \"total_vids\"})\n",
    ")\n"
   ]
  },
  {
   "cell_type": "code",
   "execution_count": 9,
   "id": "003b816e",
   "metadata": {},
   "outputs": [],
   "source": [
    "channel_selection = first_vid_date.merge(last_vid_date)\n",
    "channel_selection = channel_selection.merge(total_vids)\n",
    "channel_selection[\"active_days\"] = (\n",
    "    channel_selection.last_vid_date - channel_selection.first_vid_date\n",
    ").dt.days\n",
    "channel_selection[\"upload_interval\"] = (\n",
    "    channel_selection.active_days / channel_selection.total_vids\n",
    ")\n"
   ]
  },
  {
   "cell_type": "code",
   "execution_count": 10,
   "id": "0fb8882b",
   "metadata": {},
   "outputs": [],
   "source": [
    "min_upload_interval = 2  # in days, the channel upload videos on average every x days\n",
    "max_upload_interval = 90\n",
    "selected_channels = list(\n",
    "    channel_selection[\n",
    "        (channel_selection[\"upload_interval\"] > min_upload_interval)\n",
    "        & (channel_selection[\"upload_interval\"] < max_upload_interval)\n",
    "    ].channel_id\n",
    ")\n"
   ]
  },
  {
   "cell_type": "markdown",
   "id": "c4e1889c",
   "metadata": {},
   "source": [
    "Here, we filtered out channels that uploaded videos every 2 days or more often, and those who uploaded videos every 90 days or less frequent. Now we have 14730 channels.\n",
    "\n",
    "Note that `df_time_series` contains less channels than `df_channels` and `video_metadatas` . In order to keep consistency, we will only look at the channels that can be found across three dataframes.\n"
   ]
  },
  {
   "cell_type": "code",
   "execution_count": 11,
   "id": "1e138332",
   "metadata": {},
   "outputs": [],
   "source": [
    "df_time_series = df_time_series[df_time_series[\"channel\"].isin(selected_channels)]\n",
    "\n",
    "selected_channels = list(\n",
    "    df_time_series.groupby(\"channel\").count().reset_index().channel\n",
    ")\n"
   ]
  },
  {
   "cell_type": "code",
   "execution_count": 12,
   "id": "f085ddf6",
   "metadata": {},
   "outputs": [],
   "source": [
    "df_channels = df_channels[df_channels[\"channel\"].isin(selected_channels)]\n",
    "\n",
    "video_metadatas = video_metadatas[video_metadatas[\"channel_id\"].isin(selected_channels)]\n"
   ]
  },
  {
   "cell_type": "markdown",
   "id": "b697ca12",
   "metadata": {},
   "source": [
    "After applying the filtering over upload frequency, we now have 14380 channels over all ` `df_time_series `  ` , `  ` df_channels `  ` , and `  `video_metadatas` ` . The filtering is now complete, and we have a final list of channels that we are interested in.\n"
   ]
  },
  {
   "cell_type": "markdown",
   "id": "c191d301",
   "metadata": {},
   "source": [
    "We also import two datasets that are created by us, as a complementary to ` ` video_metadatas ` ` :  \n",
    "* ``title_metadatas``: with three columns (``categories``, ``display_id``, ``title``), containing information about the title names of each video in ``video_metadatas``.\n",
    "* ``tag_metadatas``: with three columns (``categories``, ``display_id``, ``tags``), containing information about the tags of each video in ``video_metadatas``.\n",
    "\n",
    "We filter videos from channels that we selected so far.\n"
   ]
  },
  {
   "cell_type": "code",
   "execution_count": 13,
   "id": "f6dc9dc4",
   "metadata": {},
   "outputs": [],
   "source": [
    "title_metadatas = pd.read_feather(\"./data/yt_metadata_title_helper.feather\")\n",
    "\n",
    "title_metadatas = title_metadatas[\n",
    "    title_metadatas[\"display_id\"].isin(video_metadatas.display_id)\n",
    "]\n"
   ]
  },
  {
   "cell_type": "code",
   "execution_count": 14,
   "id": "e7c20891",
   "metadata": {},
   "outputs": [
    {
     "data": {
      "text/html": [
       "<div>\n",
       "<style scoped>\n",
       "    .dataframe tbody tr th:only-of-type {\n",
       "        vertical-align: middle;\n",
       "    }\n",
       "\n",
       "    .dataframe tbody tr th {\n",
       "        vertical-align: top;\n",
       "    }\n",
       "\n",
       "    .dataframe thead th {\n",
       "        text-align: right;\n",
       "    }\n",
       "</style>\n",
       "<table border=\"1\" class=\"dataframe\">\n",
       "  <thead>\n",
       "    <tr style=\"text-align: right;\">\n",
       "      <th></th>\n",
       "      <th>categories</th>\n",
       "      <th>display_id</th>\n",
       "      <th>title</th>\n",
       "    </tr>\n",
       "  </thead>\n",
       "  <tbody>\n",
       "    <tr>\n",
       "      <th>1792</th>\n",
       "      <td>Gaming</td>\n",
       "      <td>M0x6TJmMwL4</td>\n",
       "      <td>Blasphemous is Amazing!</td>\n",
       "    </tr>\n",
       "    <tr>\n",
       "      <th>1793</th>\n",
       "      <td>Gaming</td>\n",
       "      <td>ofAIp6dad00</td>\n",
       "      <td>I review all 42 Genesis Mini games</td>\n",
       "    </tr>\n",
       "    <tr>\n",
       "      <th>1794</th>\n",
       "      <td>Gaming</td>\n",
       "      <td>cXHRNThI27A</td>\n",
       "      <td>Disenchantment Jester Season 2</td>\n",
       "    </tr>\n",
       "    <tr>\n",
       "      <th>1795</th>\n",
       "      <td>Gaming</td>\n",
       "      <td>cDSo3mUNEEM</td>\n",
       "      <td>💀 Death Stranding is boring as Hell</td>\n",
       "    </tr>\n",
       "    <tr>\n",
       "      <th>1796</th>\n",
       "      <td>Gaming</td>\n",
       "      <td>rJmT1Rq24qE</td>\n",
       "      <td>Happy Friday the 13th. I'm going to try and fi...</td>\n",
       "    </tr>\n",
       "  </tbody>\n",
       "</table>\n",
       "</div>"
      ],
      "text/plain": [
       "     categories   display_id  \\\n",
       "1792     Gaming  M0x6TJmMwL4   \n",
       "1793     Gaming  ofAIp6dad00   \n",
       "1794     Gaming  cXHRNThI27A   \n",
       "1795     Gaming  cDSo3mUNEEM   \n",
       "1796     Gaming  rJmT1Rq24qE   \n",
       "\n",
       "                                                  title  \n",
       "1792                            Blasphemous is Amazing!  \n",
       "1793                 I review all 42 Genesis Mini games  \n",
       "1794                     Disenchantment Jester Season 2  \n",
       "1795                💀 Death Stranding is boring as Hell  \n",
       "1796  Happy Friday the 13th. I'm going to try and fi...  "
      ]
     },
     "execution_count": 14,
     "metadata": {},
     "output_type": "execute_result"
    }
   ],
   "source": [
    "title_metadatas.head()\n"
   ]
  },
  {
   "cell_type": "code",
   "execution_count": 15,
   "id": "333d7f10",
   "metadata": {},
   "outputs": [],
   "source": [
    "tag_metadatas = pd.read_feather(\"./data/yt_metadata_tags_helper.feather\")\n",
    "\n",
    "tag_metadatas = tag_metadatas[\n",
    "    tag_metadatas[\"display_id\"].isin(video_metadatas.display_id)\n",
    "]\n"
   ]
  },
  {
   "cell_type": "code",
   "execution_count": 16,
   "id": "99b37b20",
   "metadata": {},
   "outputs": [
    {
     "data": {
      "text/html": [
       "<div>\n",
       "<style scoped>\n",
       "    .dataframe tbody tr th:only-of-type {\n",
       "        vertical-align: middle;\n",
       "    }\n",
       "\n",
       "    .dataframe tbody tr th {\n",
       "        vertical-align: top;\n",
       "    }\n",
       "\n",
       "    .dataframe thead th {\n",
       "        text-align: right;\n",
       "    }\n",
       "</style>\n",
       "<table border=\"1\" class=\"dataframe\">\n",
       "  <thead>\n",
       "    <tr style=\"text-align: right;\">\n",
       "      <th></th>\n",
       "      <th>categories</th>\n",
       "      <th>display_id</th>\n",
       "      <th>tags</th>\n",
       "    </tr>\n",
       "  </thead>\n",
       "  <tbody>\n",
       "    <tr>\n",
       "      <th>1792</th>\n",
       "      <td>Gaming</td>\n",
       "      <td>M0x6TJmMwL4</td>\n",
       "      <td>video,games,retrogamer3,ed,findlay,Blasphemous...</td>\n",
       "    </tr>\n",
       "    <tr>\n",
       "      <th>1793</th>\n",
       "      <td>Gaming</td>\n",
       "      <td>ofAIp6dad00</td>\n",
       "      <td>video,games,retrogamer3,ed,findlay,Sega,Genesi...</td>\n",
       "    </tr>\n",
       "    <tr>\n",
       "      <th>1794</th>\n",
       "      <td>Gaming</td>\n",
       "      <td>cXHRNThI27A</td>\n",
       "      <td>video,games,retrogamer3,ed,findlay,Disenchantm...</td>\n",
       "    </tr>\n",
       "    <tr>\n",
       "      <th>1795</th>\n",
       "      <td>Gaming</td>\n",
       "      <td>cDSo3mUNEEM</td>\n",
       "      <td>video,games,retrogamer3,ed,findlay,Death Stran...</td>\n",
       "    </tr>\n",
       "    <tr>\n",
       "      <th>1796</th>\n",
       "      <td>Gaming</td>\n",
       "      <td>rJmT1Rq24qE</td>\n",
       "      <td>video,games,retrogamer3,ed,findlay,Friday the ...</td>\n",
       "    </tr>\n",
       "  </tbody>\n",
       "</table>\n",
       "</div>"
      ],
      "text/plain": [
       "     categories   display_id  \\\n",
       "1792     Gaming  M0x6TJmMwL4   \n",
       "1793     Gaming  ofAIp6dad00   \n",
       "1794     Gaming  cXHRNThI27A   \n",
       "1795     Gaming  cDSo3mUNEEM   \n",
       "1796     Gaming  rJmT1Rq24qE   \n",
       "\n",
       "                                                   tags  \n",
       "1792  video,games,retrogamer3,ed,findlay,Blasphemous...  \n",
       "1793  video,games,retrogamer3,ed,findlay,Sega,Genesi...  \n",
       "1794  video,games,retrogamer3,ed,findlay,Disenchantm...  \n",
       "1795  video,games,retrogamer3,ed,findlay,Death Stran...  \n",
       "1796  video,games,retrogamer3,ed,findlay,Friday the ...  "
      ]
     },
     "execution_count": 16,
     "metadata": {},
     "output_type": "execute_result"
    }
   ],
   "source": [
    "tag_metadatas.head()\n"
   ]
  },
  {
   "cell_type": "markdown",
   "id": "38ee79b8",
   "metadata": {},
   "source": [
    "# Part 1: Milestone 3 Analysis\n",
    "\n",
    "Given the results in Milestone 2, we decided to focus on the category of Gaming. The reason behind this choice is because we are trying to help our little brother to succeed, and since he is just a single person without a big team behind him it seems more reasonable than e.g. Movies or Film & Entertainment. Therefore, we decided to eliminate Music, How-to & Style, Education, Science & Technology, Entertainment, Film & Entertainment, People & Blogs, Comedy, Movies and Shows.\n",
    "\n",
    "## Key Questions:\n",
    "\n",
    " - Which factors help a YouTuber in Gaming gain popularity?\n",
    " - How does language in titles and tags affect views and how do these relationships change over time?\n"
   ]
  },
  {
   "cell_type": "markdown",
   "id": "ac192b0a",
   "metadata": {},
   "source": [
    "## Sub-Question 1 \n",
    "\n",
    "**Description:** How does the video upload frequency, time of the week, and video length affect the subscription rate of the channels?\n",
    "**Method:** Model this using a linear regression model.  \n",
    "**Timeline:** By 13/12/2022 \n"
   ]
  },
  {
   "cell_type": "code",
   "execution_count": 17,
   "id": "6555e2c3",
   "metadata": {},
   "outputs": [],
   "source": [
    "# calculate which weekday each channel usually upload videos\n",
    "avg_upload_weekday = (\n",
    "    pd.DataFrame(video_metadatas.groupby(\"channel_id\").mean().weekNumber)\n",
    "    .reset_index()\n",
    "    .rename(columns={\"weekNumber\": \"avg_upload_weekday\"})\n",
    ")\n",
    "\n",
    "# calculate the average video duration of videos uploaded for each channel\n",
    "avg_video_duration = (\n",
    "    pd.DataFrame(video_metadatas.groupby(\"channel_id\").mean().duration)\n",
    "    .reset_index()\n",
    "    .rename(columns={\"duration\": \"avg_video_duration\"})\n",
    ")\n"
   ]
  },
  {
   "cell_type": "code",
   "execution_count": 18,
   "id": "0974b1c0",
   "metadata": {},
   "outputs": [],
   "source": [
    "# merge the two dataframes from above, and merge with\n",
    "channel_selection = channel_selection.merge(avg_upload_weekday)\n",
    "channel_selection = channel_selection.merge(avg_video_duration)\n",
    "channel_selection = channel_selection.merge(\n",
    "    df_channels.loc[:, [\"channel\", \"subscribers_cc\"]].rename(\n",
    "        columns={\"channel\": \"channel_id\"}\n",
    "    )\n",
    ")\n"
   ]
  },
  {
   "cell_type": "code",
   "execution_count": 19,
   "id": "2091ce77",
   "metadata": {},
   "outputs": [],
   "source": [
    "# select the columns from channel_selection for statistical model\n",
    "model_data = channel_selection.loc[\n",
    "    :, [\"upload_interval\", \"avg_video_duration\", \"subscribers_cc\"]\n",
    "]\n",
    "\n",
    "# normalise the data\n",
    "xmean = np.mean(model_data, axis=0)\n",
    "xstd = np.std(model_data, axis=0)\n",
    "Xbzs = (model_data - xmean) / xstd\n",
    "\n",
    "# add weekday information\n",
    "Xbzs = Xbzs.join(\n",
    "    pd.get_dummies(\n",
    "        round(channel_selection.avg_upload_weekday).apply(lambda x: int(x)),\n",
    "        prefix=\"day\",\n",
    "    )\n",
    ")\n"
   ]
  },
  {
   "cell_type": "code",
   "execution_count": 20,
   "id": "970b5047",
   "metadata": {},
   "outputs": [
    {
     "name": "stdout",
     "output_type": "stream",
     "text": [
      "                            OLS Regression Results                            \n",
      "==============================================================================\n",
      "Dep. Variable:         subscribers_cc   R-squared:                       0.003\n",
      "Model:                            OLS   Adj. R-squared:                  0.002\n",
      "Method:                 Least Squares   F-statistic:                     5.293\n",
      "Date:                Fri, 23 Dec 2022   Prob (F-statistic):           1.19e-06\n",
      "Time:                        16:02:33   Log-Likelihood:                -20383.\n",
      "No. Observations:               14380   AIC:                         4.078e+04\n",
      "Df Residuals:                   14371   BIC:                         4.085e+04\n",
      "Df Model:                           8                                         \n",
      "Covariance Type:            nonrobust                                         \n",
      "======================================================================================\n",
      "                         coef    std err          t      P>|t|      [0.025      0.975]\n",
      "--------------------------------------------------------------------------------------\n",
      "Intercept             -0.1583      0.408     -0.388      0.698      -0.958       0.641\n",
      "C(day_1)[T.1]          0.0872      0.437      0.199      0.842      -0.770       0.945\n",
      "C(day_2)[T.1]          0.1919      0.409      0.470      0.639      -0.609       0.993\n",
      "C(day_3)[T.1]          0.1545      0.408      0.379      0.705      -0.645       0.954\n",
      "C(day_4)[T.1]          0.1534      0.409      0.375      0.707      -0.648       0.954\n",
      "C(day_5)[T.1]          0.2544      0.420      0.606      0.545      -0.568       1.077\n",
      "C(day_6)[T.1]          0.1731      0.577      0.300      0.764      -0.957       1.304\n",
      "upload_interval       -0.0497      0.009     -5.810      0.000      -0.067      -0.033\n",
      "avg_video_duration    -0.0263      0.008     -3.137      0.002      -0.043      -0.010\n",
      "==============================================================================\n",
      "Omnibus:                    36888.787   Durbin-Watson:                   1.926\n",
      "Prob(Omnibus):                  0.000   Jarque-Bera (JB):       1098885603.053\n",
      "Skew:                          28.926   Prob(JB):                         0.00\n",
      "Kurtosis:                    1356.025   Cond. No.                         172.\n",
      "==============================================================================\n",
      "\n",
      "Notes:\n",
      "[1] Standard Errors assume that the covariance matrix of the errors is correctly specified.\n"
     ]
    }
   ],
   "source": [
    "import statsmodels.formula.api as smf\n",
    "\n",
    "# Declares the model\n",
    "mod = smf.ols(\n",
    "    formula=\"subscribers_cc ~ \\\n",
    "              upload_interval + avg_video_duration + \\\n",
    "              C(day_1) + C(day_2) + C(day_3) + C(day_4) + C(day_5) + C(day_6)\",\n",
    "    data=Xbzs,\n",
    ")\n",
    "\n",
    "# Fits the model (find the optimal coefficients, adding a random seed ensures consistency)\n",
    "np.random.seed(2)\n",
    "res = mod.fit()\n",
    "\n",
    "# Print thes summary output provided by the library.\n",
    "print(res.summary())\n"
   ]
  },
  {
   "cell_type": "markdown",
   "id": "3e8e3805",
   "metadata": {},
   "source": [
    "The baseline of the model is: A channel with median upload interval, median average video duration and upload videos usually on Mondays.\n",
    "\n",
    "| | Number of Subscribers|\n",
    "| :--- | :---: |\n",
    "| Intercept | -0.1583 (0.698) |\n",
    "| Tuesday | 0.0872 (0.842) |\n",
    "| Wednesday | 0.1919 (0.639) |\n",
    "| Thursday | 0.1545 (0.705) |\n",
    "| Friday | 0.1534 (0.707) |\n",
    "| Saturday | 0.2544 (0.545) |\n",
    "| Sunday | 0.1731 (0.764) |\n",
    "| Upload interval | -0.0497 (0.000***) |\n",
    "| Average video duration | -0.0263 (0.002**) |\n",
    "| $R^2$ | 0.003 |\n",
    "| Adj. $R^2$ | 0.002 |\n",
    "| No. obs. | 14380 |\n",
    "\n",
    "SEs of coefficients are in parentheses. $^{***}P <0.001$, $^{**}P<0.01$, and $^{*}P<0.05$.\n",
    "\n",
    "The results from the linear model indicate two statistically significant terms (with significance level of 0.005): upload interval and average video duration. The coefficients of these two terms suggest that:\n",
    "\n",
    "* the higher the upload interval, the lower the subscription rate\n",
    "* the higher the average video duration, the lower the subscription rate\n",
    "\n",
    "On the other hand, it seems that time of upload during the week doesn't have a strong influence on the subscription rate of the channels. However, it should be noted that the average upload date of videos is highly concentrated on Thursday for the selected channels (as seen from the table below), and this would be the reason why the time of upload during the week is not as important.\n",
    "\n",
    "| Weekday | Number of Channels |\n",
    "| --- | --- |\n",
    "| Monday | 6 |\n",
    "| Tuesday | 40 |\n",
    "| Wednesday | 1332 |\n",
    "| Thursday | 11394 |\n",
    "| Friday | 1501 |\n",
    "| Saturday | 101 |\n",
    "| Sunday | 6 |\n"
   ]
  },
  {
   "cell_type": "markdown",
   "id": "f180a346",
   "metadata": {},
   "source": [
    "## Sub-Question 2\n",
    "\n",
    "**Description:** How does the language used in titles and tags affect video's popularity?  \n",
    "**Method:** We classify the sentiments of titles and tags using the package spacy and vaderSentiment and try to see if this factor affects view counts of videos using relevant skills we learned in observational studies.  \n",
    "**Timeline:** By 15/12/2022\n"
   ]
  },
  {
   "cell_type": "code",
   "execution_count": 21,
   "id": "441cce77",
   "metadata": {},
   "outputs": [],
   "source": [
    "# NLP libraries\n",
    "import spacy, nltk, sklearn\n",
    "\n",
    "# Vader\n",
    "import vaderSentiment\n",
    "from vaderSentiment.vaderSentiment import SentimentIntensityAnalyzer\n",
    "\n",
    "# Initialize the Spacy analyzer in English\n",
    "nlp = spacy.load(\"en_core_web_sm\")\n"
   ]
  },
  {
   "cell_type": "markdown",
   "id": "77bb961f",
   "metadata": {},
   "source": [
    "We then move on to determine the sentiments of titles, and their effect on the view counts.\n"
   ]
  },
  {
   "cell_type": "code",
   "execution_count": 22,
   "id": "9d030aa3",
   "metadata": {},
   "outputs": [],
   "source": [
    "positive_sent = []\n",
    "negative_sent = []\n",
    "neutral_sent = []\n",
    "compound_sent = []\n",
    "\n",
    "# iterate through the sentences, get polarity scores, choose a value\n",
    "analyzer = SentimentIntensityAnalyzer()\n",
    "for title in title_metadatas.title:\n",
    "    score = analyzer.polarity_scores(title)\n",
    "    positive_sent.append(score[\"pos\"])\n",
    "    negative_sent.append(score[\"neg\"])\n",
    "    neutral_sent.append(score[\"neu\"])\n",
    "    compound_sent.append(score[\"compound\"])\n",
    "\n",
    "video_metadatas[\"title_pos_scr\"] = positive_sent\n",
    "video_metadatas[\"title_neg_scr\"] = negative_sent\n",
    "video_metadatas[\"title_neu_scr\"] = neutral_sent\n",
    "video_metadatas[\"title_com_scr\"] = compound_sent\n"
   ]
  },
  {
   "cell_type": "code",
   "execution_count": 23,
   "id": "a0fe7f64",
   "metadata": {},
   "outputs": [],
   "source": [
    "# assign each title either as positive, negative or neutral\n",
    "video_metadatas[\"pos_vid\"] = video_metadatas[\"title_com_scr\"] > (1 - 2 / 3)\n",
    "video_metadatas[\"neu_vid\"] = (video_metadatas[\"title_com_scr\"] < (1 - 2 / 3)) & (\n",
    "    video_metadatas[\"title_com_scr\"] > -(1 - 2 / 3)\n",
    ")\n",
    "video_metadatas[\"neg_vid\"] = video_metadatas[\"title_com_scr\"] < -(1 - 2 / 3)\n"
   ]
  },
  {
   "cell_type": "code",
   "execution_count": 24,
   "id": "dd8c8b7b",
   "metadata": {},
   "outputs": [
    {
     "name": "stdout",
     "output_type": "stream",
     "text": [
      "                            OLS Regression Results                            \n",
      "==============================================================================\n",
      "Dep. Variable:             view_count   R-squared:                       0.000\n",
      "Model:                            OLS   Adj. R-squared:                  0.000\n",
      "Method:                 Least Squares   F-statistic:                     82.12\n",
      "Date:                Fri, 23 Dec 2022   Prob (F-statistic):          2.91e-153\n",
      "Time:                        16:45:22   Log-Likelihood:            -4.4539e+06\n",
      "No. Observations:             3139185   AIC:                         8.908e+06\n",
      "Df Residuals:                 3139175   BIC:                         8.908e+06\n",
      "Df Model:                           9                                         \n",
      "Covariance Type:            nonrobust                                         \n",
      "======================================================================================\n",
      "                         coef    std err          t      P>|t|      [0.025      0.975]\n",
      "--------------------------------------------------------------------------------------\n",
      "Intercept             -0.0074      0.001     -7.307      0.000      -0.009      -0.005\n",
      "C(pos_vid)[T.True]     0.0105      0.001      7.676      0.000       0.008       0.013\n",
      "C(neg_vid)[T.True]     0.0099      0.001      6.742      0.000       0.007       0.013\n",
      "C(day_1)[T.1]         -0.0055      0.002     -3.325      0.001      -0.009      -0.002\n",
      "C(day_2)[T.1]          0.0006      0.002      0.359      0.720      -0.003       0.004\n",
      "C(day_3)[T.1]          0.0092      0.002      5.650      0.000       0.006       0.012\n",
      "C(day_4)[T.1]          0.0037      0.002      2.226      0.026       0.000       0.007\n",
      "C(day_5)[T.1]          0.0157      0.002      9.023      0.000       0.012       0.019\n",
      "C(day_6)[T.1]         -0.0023      0.002     -1.188      0.235      -0.006       0.001\n",
      "duration              -0.0129      0.001    -22.782      0.000      -0.014      -0.012\n",
      "=================================================================================\n",
      "Omnibus:                 19059359.620   Durbin-Watson:                      1.712\n",
      "Prob(Omnibus):                  0.000   Jarque-Bera (JB):   18444698792506824.000\n",
      "Skew:                         442.097   Prob(JB):                            0.00\n",
      "Kurtosis:                  375521.853   Cond. No.                            5.47\n",
      "=================================================================================\n",
      "\n",
      "Notes:\n",
      "[1] Standard Errors assume that the covariance matrix of the errors is correctly specified.\n"
     ]
    }
   ],
   "source": [
    "# select the data for the model\n",
    "model_data = video_metadatas.loc[:, [\"duration\", \"view_count\"]]\n",
    "\n",
    "# normalize the data\n",
    "xmean = np.mean(model_data, axis=0)\n",
    "xstd = np.std(model_data, axis=0)\n",
    "Xbzs = (model_data - xmean) / xstd\n",
    "\n",
    "# add weekday information\n",
    "Xbzs = Xbzs.join(pd.get_dummies(video_metadatas.weekNumber, prefix=\"day\"))\n",
    "Xbzs = Xbzs.join(video_metadatas.loc[:, [\"pos_vid\", \"neg_vid\"]])\n",
    "\n",
    "# Declares the model\n",
    "mod = smf.ols(\n",
    "    formula=\"view_count ~ C(pos_vid) + C(neg_vid) + duration + \\\n",
    "              C(day_1) + C(day_2) + C(day_3) + C(day_4) + C(day_5) + C(day_6)\",\n",
    "    data=Xbzs,\n",
    ")\n",
    "\n",
    "# Fits the model (find the optimal coefficients, adding a random seed ensures consistency)\n",
    "np.random.seed(2)\n",
    "res = mod.fit()\n",
    "\n",
    "# Print thes summary output provided by the library.\n",
    "print(res.summary())\n"
   ]
  },
  {
   "cell_type": "markdown",
   "id": "623737ab",
   "metadata": {},
   "source": [
    "The baseline of the model is: A video with median duration, being uploaded on Mondays, and with neutral titles.\n",
    "\n",
    "The result shows title sentiment, duration and upload time of the week are all statistically significant when determining view counts of the video. More specifically:\n",
    "* Videos uploaded between Thursday and Saturday are more likely to have higher view counts\n",
    "* Showing positive or negative sentiments would increase view counts\n",
    "* Having longer video duration would decrease view counts\n",
    "\n",
    "However, from graphs below, we can see that the majority of the videos were classified as \"neutral\". This suggests that the result of the model will be biased if we run it like this. In order to gain a more balanced idea over the effect of sentiments in titles, we select the videos such that the number of positive, neutral and negative videos are the same.\n"
   ]
  },
  {
   "cell_type": "code",
   "execution_count": 25,
   "id": "cf2f1de4",
   "metadata": {},
   "outputs": [
    {
     "data": {
      "text/plain": [
       "Text(0.5, 1.0, 'Sentimental Analysis: Distribution')"
      ]
     },
     "execution_count": 25,
     "metadata": {},
     "output_type": "execute_result"
    },
    {
     "data": {
      "image/png": "[encoded data removed]",
      "text/plain": [
       "<Figure size 432x288 with 1 Axes>"
      ]
     },
     "metadata": {
      "needs_background": "light"
     },
     "output_type": "display_data"
    }
   ],
   "source": [
    "# visualize the result\n",
    "video_metadatas[\"title_com_scr\"].hist(bins=20)\n",
    "plt.xlabel(\"compound score\")\n",
    "plt.ylabel(\"Number of videos\")\n",
    "plt.title(\"Sentimental Analysis: Distribution\")\n"
   ]
  },
  {
   "cell_type": "markdown",
   "id": "87101baf",
   "metadata": {},
   "source": [
    "The histogram above shows that the majority of the video titles are neutral. Let's now look closer at this by category of videos, since many channels also have videos from categories other than \"Gaming\".\n"
   ]
  },
  {
   "cell_type": "code",
   "execution_count": 26,
   "id": "2fc59bbe",
   "metadata": {},
   "outputs": [],
   "source": [
    "# get category list\n",
    "categories_list = np.unique(video_metadatas.categories)\n",
    "categories_list = categories_list[1:]\n",
    "\n",
    "# get bin interval\n",
    "bin_step = np.arange(-1, 1.1, 0.2)\n",
    "\n",
    "# calculate how many videos of each category fall in the corresponding bin\n",
    "by_category_data = np.zeros((len(categories_list), len(bin_step) - 1), dtype=int)\n",
    "\n",
    "for i in np.arange(len(categories_list)):\n",
    "    by_category_data[i,] = np.histogram(\n",
    "        video_metadatas[\n",
    "            video_metadatas[\"categories\"] == categories_list[i]\n",
    "        ].title_com_scr,\n",
    "        bins=bin_step,\n",
    "    )[0]\n",
    "\n",
    "bin_mid_pt = (bin_step[0:-1] + bin_step[1:]) / 2\n",
    "bin_mid_pt = [round(item, 2) for item in list(bin_mid_pt)]\n",
    "\n",
    "# get\n",
    "data = by_category_data.T / (np.sum(by_category_data, axis=1))\n"
   ]
  },
  {
   "cell_type": "code",
   "execution_count": 27,
   "id": "5edfe7f8",
   "metadata": {},
   "outputs": [
    {
     "data": {
      "image/png": "[encoded data removed]",
      "text/plain": [
       "<Figure size 720x1080 with 1 Axes>"
      ]
     },
     "metadata": {
      "needs_background": "light"
     },
     "output_type": "display_data"
    }
   ],
   "source": [
    "fig, ax = plt.subplots(figsize=(10, 15))\n",
    "im = ax.imshow(data)\n",
    "\n",
    "# Show all ticks and label them with the respective list entries\n",
    "ax.set_xticks(np.arange(len(categories_list)), labels=categories_list)\n",
    "ax.set_yticks(np.arange(len(bin_mid_pt)), labels=bin_mid_pt)\n",
    "\n",
    "# Rotate the tick labels and set their alignment.\n",
    "plt.setp(ax.get_xticklabels(), rotation=45, ha=\"right\", rotation_mode=\"anchor\")\n",
    "\n",
    "# Loop over data dimensions and create text annotations.\n",
    "for i in range(len(bin_mid_pt)):\n",
    "    for j in range(len(categories_list)):\n",
    "        text = ax.text(j, i, round(data[i, j], 2), ha=\"center\", va=\"center\", color=\"w\")\n",
    "\n",
    "ax.set_title(\"Sentiment Analysis for Videos: Classified by Category\")\n",
    "ax.set_xlabel(\"Category\")\n",
    "ax.set_ylabel(\"Compound Sentiment Score\")\n",
    "\n",
    "fig.tight_layout()\n",
    "plt.show()\n"
   ]
  },
  {
   "cell_type": "markdown",
   "id": "884675cf",
   "metadata": {},
   "source": [
    "The heat map above shows similar information as the histogram, but for all categories of videos in our data sample. It seems that \"Gaming\" videos are amongst the categories with the lowest share of neutral titles.\n",
    "\n",
    "We further filter a data sample for the purpose of this analysis, such that the share between videos with positive, negative and neutral titles is more or less the same.\n"
   ]
  },
  {
   "cell_type": "code",
   "execution_count": 28,
   "id": "40bd3cd9",
   "metadata": {},
   "outputs": [],
   "source": [
    "# we will filter the data such that the number of positiv\n",
    "filtered_metadatas = video_metadatas\n",
    "pos_vid_ind = np.where(filtered_metadatas[\"pos_vid\"] == True)[0]\n",
    "neg_vid_ind = np.where(filtered_metadatas[\"neg_vid\"] == True)[0]\n",
    "neu_vid_ind = np.where(filtered_metadatas[\"neu_vid\"] == True)[0]\n",
    "\n",
    "sample_size = min(\n",
    "    [np.shape(neg_vid_ind), np.shape(neu_vid_ind), np.shape(pos_vid_ind)]\n",
    ")[0]\n",
    "selected_index = list(random.choices(pos_vid_ind, k=sample_size))\n",
    "selected_index += list(random.choices(neg_vid_ind, k=sample_size))\n",
    "selected_index += list(random.choices(neu_vid_ind, k=sample_size))\n",
    "filtered_metadatas = filtered_metadatas.iloc[selected_index]\n"
   ]
  },
  {
   "cell_type": "markdown",
   "id": "6d1a8c41",
   "metadata": {},
   "source": [
    "After filtering, the data sample seems more balanced, for both sentiments and days of the week:\n",
    "\n",
    "| Weekday | Number of Videos |\n",
    "| --- | --- |\n",
    "| positive titles | 615479 |\n",
    "| neutral titles | 615479 |\n",
    "| negative titles | 615479 |\n",
    "| Monday | 258922 |\n",
    "| Tuesday | 265411 |\n",
    "| Wednesday | 270010 |\n",
    "| Thursday | 268505 |\n",
    "| Friday | 277740 |\n",
    "| Saturday | 259516 |\n",
    "| Sunday | 246333 |\n",
    "\n",
    "With this, we will proceed with the modelling:\n"
   ]
  },
  {
   "cell_type": "code",
   "execution_count": 29,
   "id": "5b9d6886",
   "metadata": {},
   "outputs": [],
   "source": [
    "model_data = filtered_metadatas.loc[\n",
    "    :,\n",
    "    [\n",
    "        \"duration\",\n",
    "        \"view_count\",\n",
    "        \"like_count\",\n",
    "        \"dislike_count\",\n",
    "    ],\n",
    "]\n",
    "# normalise the data\n",
    "xmean = np.mean(model_data, axis=0)\n",
    "xstd = np.std(model_data, axis=0)\n",
    "Xbzs = (model_data - xmean) / xstd\n",
    "\n",
    "Xbzs = Xbzs.join(pd.get_dummies(filtered_metadatas[\"weekNumber\"], prefix=\"day\"))\n",
    "Xbzs = Xbzs.join(filtered_metadatas.loc[:, [\"pos_vid\", \"neg_vid\"]])\n"
   ]
  },
  {
   "cell_type": "code",
   "execution_count": 30,
   "id": "1035326b",
   "metadata": {},
   "outputs": [
    {
     "name": "stdout",
     "output_type": "stream",
     "text": [
      "                            OLS Regression Results                            \n",
      "==============================================================================\n",
      "Dep. Variable:             view_count   R-squared:                       0.000\n",
      "Model:                            OLS   Adj. R-squared:                  0.000\n",
      "Method:                 Least Squares   F-statistic:                     286.8\n",
      "Date:                Fri, 23 Dec 2022   Prob (F-statistic):               0.00\n",
      "Time:                        16:47:07   Log-Likelihood:            -1.0688e+07\n",
      "No. Observations:             7034990   AIC:                         2.138e+07\n",
      "Df Residuals:                 7034980   BIC:                         2.138e+07\n",
      "Df Model:                           9                                         \n",
      "Covariance Type:            nonrobust                                         \n",
      "======================================================================================\n",
      "                         coef    std err          t      P>|t|      [0.025      0.975]\n",
      "--------------------------------------------------------------------------------------\n",
      "Intercept             -0.0101      0.001     -7.572      0.000      -0.013      -0.008\n",
      "C(pos_vid)[T.True]     0.0150      0.001     12.799      0.000       0.013       0.017\n",
      "C(neg_vid)[T.True]     0.0043      0.001      3.746      0.000       0.002       0.007\n",
      "C(day_1)[T.1]         -0.0025      0.001     -1.731      0.083      -0.005       0.000\n",
      "C(day_2)[T.1]          0.0025      0.002      1.687      0.092      -0.000       0.005\n",
      "C(day_3)[T.1]          0.0268      0.001     18.663      0.000       0.024       0.030\n",
      "C(day_4)[T.1]          0.0038      0.002      2.499      0.012       0.001       0.007\n",
      "C(day_5)[T.1]          0.0133      0.001      8.904      0.000       0.010       0.016\n",
      "C(day_6)[T.1]         -0.0050      0.002     -3.154      0.002      -0.008      -0.002\n",
      "duration              -0.0177      0.000    -42.040      0.000      -0.019      -0.017\n",
      "===============================================================================\n",
      "Omnibus:                 32543794.751   Durbin-Watson:                    0.219\n",
      "Prob(Omnibus):                  0.000   Jarque-Bera (JB):   711561502325864.500\n",
      "Skew:                         164.541   Prob(JB):                          0.00\n",
      "Kurtosis:                   49271.622   Cond. No.                          8.44\n",
      "===============================================================================\n",
      "\n",
      "Notes:\n",
      "[1] Standard Errors assume that the covariance matrix of the errors is correctly specified.\n"
     ]
    }
   ],
   "source": [
    "# Declares the model\n",
    "mod = smf.ols(\n",
    "    formula=\"view_count ~ C(pos_vid) + C(neg_vid) + duration + \\\n",
    "    C(day_1) + C(day_2) + C(day_3) + C(day_4) + C(day_5) + C(day_6)\",\n",
    "    data=Xbzs,\n",
    ")\n",
    "\n",
    "# Fits the model (find the optimal coefficients, adding a random seed ensures consistency)\n",
    "np.random.seed(2)\n",
    "res = mod.fit()\n",
    "\n",
    "# Print thes summary output provided by the library.\n",
    "print(res.summary())\n"
   ]
  },
  {
   "cell_type": "code",
   "execution_count": 31,
   "id": "57f03ed9",
   "metadata": {},
   "outputs": [
    {
     "name": "stdout",
     "output_type": "stream",
     "text": [
      "                            OLS Regression Results                            \n",
      "==============================================================================\n",
      "Dep. Variable:             like_count   R-squared:                       0.001\n",
      "Model:                            OLS   Adj. R-squared:                  0.001\n",
      "Method:                 Least Squares   F-statistic:                     569.7\n",
      "Date:                Fri, 23 Dec 2022   Prob (F-statistic):               0.00\n",
      "Time:                        16:48:42   Log-Likelihood:            -9.9106e+06\n",
      "No. Observations:             6987891   AIC:                         1.982e+07\n",
      "Df Residuals:                 6987881   BIC:                         1.982e+07\n",
      "Df Model:                           9                                         \n",
      "Covariance Type:            nonrobust                                         \n",
      "======================================================================================\n",
      "                         coef    std err          t      P>|t|      [0.025      0.975]\n",
      "--------------------------------------------------------------------------------------\n",
      "Intercept             -0.0151      0.001    -12.841      0.000      -0.017      -0.013\n",
      "C(pos_vid)[T.True]     0.0142      0.001     13.386      0.000       0.012       0.016\n",
      "C(neg_vid)[T.True]     0.0167      0.001     15.958      0.000       0.015       0.019\n",
      "C(day_1)[T.1]         -0.0026      0.001     -2.100      0.036      -0.005      -0.000\n",
      "C(day_2)[T.1]         -0.0004      0.001     -0.301      0.764      -0.003       0.002\n",
      "C(day_3)[T.1]          0.0106      0.001      8.305      0.000       0.008       0.013\n",
      "C(day_4)[T.1]          0.0014      0.001      1.100      0.271      -0.001       0.004\n",
      "C(day_5)[T.1]          0.0224      0.001     16.662      0.000       0.020       0.025\n",
      "C(day_6)[T.1]          0.0013      0.001      0.887      0.375      -0.002       0.004\n",
      "duration              -0.0254      0.000    -66.527      0.000      -0.026      -0.025\n",
      "===============================================================================\n",
      "Omnibus:                 27799442.253   Durbin-Watson:                    0.220\n",
      "Prob(Omnibus):                  0.000   Jarque-Bera (JB):   191687019294942.719\n",
      "Skew:                          99.833   Prob(JB):                          0.00\n",
      "Kurtosis:                   25660.584   Cond. No.                          7.99\n",
      "===============================================================================\n",
      "\n",
      "Notes:\n",
      "[1] Standard Errors assume that the covariance matrix of the errors is correctly specified.\n"
     ]
    }
   ],
   "source": [
    "# Declares the model\n",
    "mod = smf.ols(\n",
    "    formula=\"like_count ~ C(pos_vid) + C(neg_vid) + duration + \\\n",
    "C(day_1) + C(day_2) + C(day_3) + C(day_4) + C(day_5) + C(day_6)\",\n",
    "    data=Xbzs,\n",
    ")\n",
    "\n",
    "# Fits the model (find the optimal coefficients, adding a random seed ensures consistency)\n",
    "np.random.seed(2)\n",
    "res = mod.fit()\n",
    "\n",
    "# Print thes summary output provided by the library.\n",
    "print(res.summary())\n"
   ]
  },
  {
   "cell_type": "code",
   "execution_count": 32,
   "id": "0bf7ebbd",
   "metadata": {
    "scrolled": true
   },
   "outputs": [
    {
     "name": "stdout",
     "output_type": "stream",
     "text": [
      "                            OLS Regression Results                            \n",
      "==============================================================================\n",
      "Dep. Variable:          dislike_count   R-squared:                       0.001\n",
      "Model:                            OLS   Adj. R-squared:                  0.001\n",
      "Method:                 Least Squares   F-statistic:                     422.4\n",
      "Date:                Fri, 23 Dec 2022   Prob (F-statistic):               0.00\n",
      "Time:                        16:50:15   Log-Likelihood:            -9.8560e+06\n",
      "No. Observations:             6987891   AIC:                         1.971e+07\n",
      "Df Residuals:                 6987881   BIC:                         1.971e+07\n",
      "Df Model:                           9                                         \n",
      "Covariance Type:            nonrobust                                         \n",
      "======================================================================================\n",
      "                         coef    std err          t      P>|t|      [0.025      0.975]\n",
      "--------------------------------------------------------------------------------------\n",
      "Intercept             -0.0099      0.001     -8.509      0.000      -0.012      -0.008\n",
      "C(pos_vid)[T.True]     0.0098      0.001      9.285      0.000       0.008       0.012\n",
      "C(neg_vid)[T.True]     0.0171      0.001     16.485      0.000       0.015       0.019\n",
      "C(day_1)[T.1]         -0.0034      0.001     -2.741      0.006      -0.006      -0.001\n",
      "C(day_2)[T.1]         -0.0062      0.001     -4.948      0.000      -0.009      -0.004\n",
      "C(day_3)[T.1]          0.0102      0.001      8.061      0.000       0.008       0.013\n",
      "C(day_4)[T.1]         -0.0008      0.001     -0.646      0.518      -0.003       0.002\n",
      "C(day_5)[T.1]          0.0186      0.001     13.938      0.000       0.016       0.021\n",
      "C(day_6)[T.1]         -0.0011      0.001     -0.777      0.437      -0.004       0.002\n",
      "duration              -0.0211      0.000    -55.569      0.000      -0.022      -0.020\n",
      "==============================================================================\n",
      "Omnibus:                 22977843.635   Durbin-Watson:                   0.315\n",
      "Prob(Omnibus):                  0.000   Jarque-Bera (JB):   12836901310877.770\n",
      "Skew:                          56.325   Prob(JB):                         0.00\n",
      "Kurtosis:                    6641.961   Cond. No.                         7.99\n",
      "==============================================================================\n",
      "\n",
      "Notes:\n",
      "[1] Standard Errors assume that the covariance matrix of the errors is correctly specified.\n"
     ]
    }
   ],
   "source": [
    "# Declares the model\n",
    "mod = smf.ols(\n",
    "    formula=\"dislike_count ~ C(pos_vid) + C(neg_vid) + duration + \\\n",
    "C(day_1) + C(day_2) + C(day_3) + C(day_4) + C(day_5) + C(day_6)\",\n",
    "    data=Xbzs,\n",
    ")\n",
    "\n",
    "# Fits the model (find the optimal coefficients, adding a random seed ensures consistency)\n",
    "np.random.seed(2)\n",
    "res = mod.fit()\n",
    "\n",
    "# Print thes summary output provided by the library.\n",
    "print(res.summary())\n"
   ]
  },
  {
   "cell_type": "markdown",
   "id": "23f07254",
   "metadata": {},
   "source": [
    "The baseline of the model is: A video that is being uploaded on Monday, with neutral titles, and median duration.\n",
    "\n",
    "|  | View Counts | Like Counts | Dislike Counts |\n",
    "| :--- | :---: | :---: | :---: |\n",
    "| Intercept | -0.0204 (0.000***) | -0.0229 (0.000***) | -0.0194 (0.000***) |\n",
    "| Tuesday | -0.0010 (0.439) | -0.0009 (0.453) | -0.0085 (0.969) |\n",
    "| Wednesday | 0.0122 (0.000***) | 0.0017 (0.178) | 9.058e-05 (0.953) |\n",
    "| Thursday |  0.0068 (0.000***) | 0.0013 (0.286) | -0.0030 (0.053) |\n",
    "| Friday |  0.0101 (0.000***) | 0.0068 (0.000***) | 0.0026 (0.094) |\n",
    "| Saturday | 0.0260 (0.000***) | 0.0320 (0.000***) | 0.0213 (0.000***) |\n",
    "| Sunday |  0.0059 (0.000***) | 0.0165 (0.000***) | 0.0150 (0.000***) |\n",
    "| Positive title | 0.0132 (0.000***) | 0.0140 (0.000***) | 0.0133 (0.000***) |\n",
    "| Negative title | 0.0157 (0.000***) | 0.0240 (0.000***) | 0.0285 (0.000***) |\n",
    "| Duration | -0.0178 (0.000***) | -0.0257 (0.000***) | -0.0176 (0.000***) |\n",
    "| $R^2$ | 0.000 | 0.001 | 0.000 |\n",
    "| Adj. $R^2$ | 0.000 | 0.001 | 0.000 |\n",
    "| No. obs. | 7040768 | 6994858 | 6994858 |\n",
    "\n",
    "SEs of coefficients are in parentheses. $^{***}P <0.001$, $^{**}P<0.01$, and $^{*}P<0.05$.\n"
   ]
  },
  {
   "cell_type": "markdown",
   "id": "f0290d5e",
   "metadata": {},
   "source": [
    "The result shows title sentiment, duration and upload time of the week are all statistically significant when determining view counts of the video. This alligns with the result from previous model. More specifically:\n",
    "* Videos uploaded on Wednesdays, Fridays and Saturdays are more likely to have higher view counts  \n",
    "* Showing positive or negative sentiments would increase view counts compared with neutral sentiments, like counts and dislike counts. Comparing to positive sentiments, showing negative sentiments seems to attract more view counts, more likes and dislikes.\n",
    "* Having longer video duration would decrease view counts, like counts and dislike counts.\n"
   ]
  },
  {
   "cell_type": "markdown",
   "id": "914ba2e1",
   "metadata": {},
   "source": [
    "---\n"
   ]
  },
  {
   "cell_type": "markdown",
   "id": "65e28dae",
   "metadata": {},
   "source": [
    "### Analysis of the effect of casefolding in titles and tags\n"
   ]
  },
  {
   "cell_type": "markdown",
   "id": "8e0c50ee",
   "metadata": {},
   "source": [
    "To go one step further, we investigate the relationship between the number of views and the titles (length, sentiment, casefold, etc...). For this purpose we use an observational study approach in order to be able to compare among channels. We keep the channel id to see the number of subscriptions of the channel and compare pairwise similar to the number of subscriptions.\n"
   ]
  },
  {
   "cell_type": "code",
   "execution_count": 33,
   "id": "cb21aab4",
   "metadata": {},
   "outputs": [],
   "source": [
    "title_metadatas = pd.read_feather(\"./data/yt_metadata_title_filtered.feather\")\n"
   ]
  },
  {
   "cell_type": "code",
   "execution_count": 34,
   "id": "e14e378a",
   "metadata": {},
   "outputs": [],
   "source": [
    "title_metadatas.drop([\"index\", \"categories\"], axis=1, inplace=True)\n"
   ]
  },
  {
   "cell_type": "code",
   "execution_count": 35,
   "id": "3ed5e616",
   "metadata": {},
   "outputs": [],
   "source": [
    "metadatas = pd.merge(video_metadatas, title_metadatas, on=\"display_id\")\n"
   ]
  },
  {
   "cell_type": "code",
   "execution_count": 36,
   "id": "06046b85",
   "metadata": {},
   "outputs": [
    {
     "data": {
      "text/html": [
       "<div>\n",
       "<style scoped>\n",
       "    .dataframe tbody tr th:only-of-type {\n",
       "        vertical-align: middle;\n",
       "    }\n",
       "\n",
       "    .dataframe tbody tr th {\n",
       "        vertical-align: top;\n",
       "    }\n",
       "\n",
       "    .dataframe thead th {\n",
       "        text-align: right;\n",
       "    }\n",
       "</style>\n",
       "<table border=\"1\" class=\"dataframe\">\n",
       "  <thead>\n",
       "    <tr style=\"text-align: right;\">\n",
       "      <th></th>\n",
       "      <th>categories</th>\n",
       "      <th>upload_date</th>\n",
       "      <th>duration</th>\n",
       "      <th>like_count</th>\n",
       "      <th>dislike_count</th>\n",
       "      <th>view_count</th>\n",
       "      <th>channel_id</th>\n",
       "      <th>display_id</th>\n",
       "      <th>yearNumber</th>\n",
       "      <th>weekNumber</th>\n",
       "      <th>is_gaming</th>\n",
       "      <th>title_pos_scr</th>\n",
       "      <th>title_neg_scr</th>\n",
       "      <th>title_neu_scr</th>\n",
       "      <th>title_com_scr</th>\n",
       "      <th>pos_vid</th>\n",
       "      <th>neu_vid</th>\n",
       "      <th>neg_vid</th>\n",
       "      <th>title</th>\n",
       "    </tr>\n",
       "  </thead>\n",
       "  <tbody>\n",
       "    <tr>\n",
       "      <th>0</th>\n",
       "      <td>Gaming</td>\n",
       "      <td>2019-09-29</td>\n",
       "      <td>892</td>\n",
       "      <td>58.0</td>\n",
       "      <td>3.0</td>\n",
       "      <td>584.0</td>\n",
       "      <td>UCzWm1-4XF7AHxVUTkHCM1uw</td>\n",
       "      <td>M0x6TJmMwL4</td>\n",
       "      <td>2019</td>\n",
       "      <td>6</td>\n",
       "      <td>True</td>\n",
       "      <td>0.672</td>\n",
       "      <td>0.0</td>\n",
       "      <td>0.328</td>\n",
       "      <td>0.6239</td>\n",
       "      <td>True</td>\n",
       "      <td>False</td>\n",
       "      <td>False</td>\n",
       "      <td>Blasphemous is Amazing!</td>\n",
       "    </tr>\n",
       "    <tr>\n",
       "      <th>1</th>\n",
       "      <td>Gaming</td>\n",
       "      <td>2019-09-22</td>\n",
       "      <td>2428</td>\n",
       "      <td>60.0</td>\n",
       "      <td>11.0</td>\n",
       "      <td>1023.0</td>\n",
       "      <td>UCzWm1-4XF7AHxVUTkHCM1uw</td>\n",
       "      <td>ofAIp6dad00</td>\n",
       "      <td>2019</td>\n",
       "      <td>6</td>\n",
       "      <td>True</td>\n",
       "      <td>0.000</td>\n",
       "      <td>0.0</td>\n",
       "      <td>1.000</td>\n",
       "      <td>0.0000</td>\n",
       "      <td>False</td>\n",
       "      <td>True</td>\n",
       "      <td>False</td>\n",
       "      <td>I review all 42 Genesis Mini games</td>\n",
       "    </tr>\n",
       "  </tbody>\n",
       "</table>\n",
       "</div>"
      ],
      "text/plain": [
       "  categories upload_date  duration  like_count  dislike_count  view_count  \\\n",
       "0     Gaming  2019-09-29       892        58.0            3.0       584.0   \n",
       "1     Gaming  2019-09-22      2428        60.0           11.0      1023.0   \n",
       "\n",
       "                 channel_id   display_id  yearNumber  weekNumber  is_gaming  \\\n",
       "0  UCzWm1-4XF7AHxVUTkHCM1uw  M0x6TJmMwL4        2019           6       True   \n",
       "1  UCzWm1-4XF7AHxVUTkHCM1uw  ofAIp6dad00        2019           6       True   \n",
       "\n",
       "   title_pos_scr  title_neg_scr  title_neu_scr  title_com_scr  pos_vid  \\\n",
       "0          0.672            0.0          0.328         0.6239     True   \n",
       "1          0.000            0.0          1.000         0.0000    False   \n",
       "\n",
       "   neu_vid  neg_vid                               title  \n",
       "0    False    False             Blasphemous is Amazing!  \n",
       "1     True    False  I review all 42 Genesis Mini games  "
      ]
     },
     "execution_count": 36,
     "metadata": {},
     "output_type": "execute_result"
    }
   ],
   "source": [
    "metadatas.head(2)\n"
   ]
  },
  {
   "cell_type": "markdown",
   "id": "c742874b",
   "metadata": {},
   "source": [
    "Distribution of weekdays upload dates\n"
   ]
  },
  {
   "cell_type": "code",
   "execution_count": 37,
   "id": "53ed18a0",
   "metadata": {},
   "outputs": [
    {
     "data": {
      "text/plain": [
       "Text(0, 0.5, 'Number of videos')"
      ]
     },
     "execution_count": 37,
     "metadata": {},
     "output_type": "execute_result"
    },
    {
     "data": {
      "image/png": "[encoded data removed]",
      "text/plain": [
       "<Figure size 432x288 with 1 Axes>"
      ]
     },
     "metadata": {
      "needs_background": "light"
     },
     "output_type": "display_data"
    }
   ],
   "source": [
    "metadatas.weekNumber.value_counts().plot(kind=\"bar\")\n",
    "plt.title(\"Distribution of the weekdays upload dates\")\n",
    "plt.xlabel(\"Week day\")\n",
    "plt.ylabel(\"Number of videos\")\n"
   ]
  },
  {
   "cell_type": "code",
   "execution_count": 38,
   "id": "67ed8e45",
   "metadata": {},
   "outputs": [],
   "source": [
    "# we need to improve the hw1 method a bit because we want to make sure that titles with a lot of spaces\n",
    "# don't have too many words and if there is a typo (e.g \"Welcome,in my video\" should be counted as 4 words and not 3)\n",
    "def count_words(x: str):\n",
    "    new_x = x.replace(\",\", \" \")\n",
    "    # change anything that isn’t an alphanumeric character or whitespace, and replaces it with a space\n",
    "    new_x = re.sub(r\"[^\\w\\s]\", \" \", new_x)\n",
    "    # Change many consecutive spaces into a single space\n",
    "    new_x = re.sub(\" +\", \" \", new_x)\n",
    "    # delete begin/end spaces\n",
    "    new_x = new_x.strip()\n",
    "    return len(new_x.split(\" \"))\n",
    "\n",
    "\n",
    "def get_freq_capital_words(sentence: str):\n",
    "    new_x = sentence.replace(\",\", \" \")\n",
    "    # change anything that isn’t an alphanumeric character or whitespace, and replaces it with a space\n",
    "    new_x = re.sub(r\"[^\\w\\s]\", \" \", new_x)\n",
    "    # Change many consecutive spaces into a single space\n",
    "    new_x = re.sub(\" +\", \" \", new_x)\n",
    "    # delete begin/end spaces\n",
    "    new_x = new_x.strip().split(\" \")\n",
    "    nb_capital_words = 0\n",
    "    for word in new_x:\n",
    "        if word.isupper():\n",
    "            nb_capital_words += 1\n",
    "    return nb_capital_words / len(new_x)\n"
   ]
  },
  {
   "cell_type": "code",
   "execution_count": 39,
   "id": "c873c6c7",
   "metadata": {},
   "outputs": [
    {
     "name": "stdout",
     "output_type": "stream",
     "text": [
      "4\n",
      "4\n",
      "7\n",
      "5\n",
      "10\n",
      "2\n",
      "0.5\n",
      "0.5\n"
     ]
    }
   ],
   "source": [
    "# test the function\n",
    "print(count_words(\"Salut     je suis la\"))\n",
    "print(count_words(\"Salut,je suis la\"))\n",
    "print(count_words(\"#FuckCancer | I'VE GOT SOME GREAT NEWS!\"))\n",
    "print(count_words(\"DISNEY CHRISTMAS VLOG! || Zak Longo\"))\n",
    "print(count_words(\"Sims 4 - SHOOTING SIMS WITH A GUN - The Sims 4\"))\n",
    "print(count_words(\"###ADA#ada##\"))\n",
    "\n",
    "# test capitalize words function\n",
    "print(get_freq_capital_words(\"Sims 4 - SHOOTING SIMS WITH A GUN - The Sims 4\"))\n",
    "print(get_freq_capital_words(\"###ADA###salut|||test&SALUT\"))\n"
   ]
  },
  {
   "cell_type": "code",
   "execution_count": 40,
   "id": "9b871896",
   "metadata": {},
   "outputs": [],
   "source": [
    "metadatas[\"title_nb_words\"] = metadatas.title.apply(lambda title: count_words(title))\n"
   ]
  },
  {
   "cell_type": "code",
   "execution_count": 41,
   "id": "698cbe9f",
   "metadata": {},
   "outputs": [],
   "source": [
    "metadatas[\"freq_capitalize_words\"] = metadatas.title.apply(\n",
    "    lambda title: get_freq_capital_words(title)\n",
    ")\n"
   ]
  },
  {
   "cell_type": "code",
   "execution_count": 42,
   "id": "bfe861c1",
   "metadata": {},
   "outputs": [
    {
     "data": {
      "text/html": [
       "<div>\n",
       "<style scoped>\n",
       "    .dataframe tbody tr th:only-of-type {\n",
       "        vertical-align: middle;\n",
       "    }\n",
       "\n",
       "    .dataframe tbody tr th {\n",
       "        vertical-align: top;\n",
       "    }\n",
       "\n",
       "    .dataframe thead th {\n",
       "        text-align: right;\n",
       "    }\n",
       "</style>\n",
       "<table border=\"1\" class=\"dataframe\">\n",
       "  <thead>\n",
       "    <tr style=\"text-align: right;\">\n",
       "      <th></th>\n",
       "      <th>categories</th>\n",
       "      <th>upload_date</th>\n",
       "      <th>duration</th>\n",
       "      <th>like_count</th>\n",
       "      <th>dislike_count</th>\n",
       "      <th>view_count</th>\n",
       "      <th>channel_id</th>\n",
       "      <th>display_id</th>\n",
       "      <th>yearNumber</th>\n",
       "      <th>weekNumber</th>\n",
       "      <th>...</th>\n",
       "      <th>title_pos_scr</th>\n",
       "      <th>title_neg_scr</th>\n",
       "      <th>title_neu_scr</th>\n",
       "      <th>title_com_scr</th>\n",
       "      <th>pos_vid</th>\n",
       "      <th>neu_vid</th>\n",
       "      <th>neg_vid</th>\n",
       "      <th>title</th>\n",
       "      <th>title_nb_words</th>\n",
       "      <th>freq_capitalize_words</th>\n",
       "    </tr>\n",
       "  </thead>\n",
       "  <tbody>\n",
       "    <tr>\n",
       "      <th>0</th>\n",
       "      <td>Gaming</td>\n",
       "      <td>2019-09-29</td>\n",
       "      <td>892</td>\n",
       "      <td>58.0</td>\n",
       "      <td>3.0</td>\n",
       "      <td>584.0</td>\n",
       "      <td>UCzWm1-4XF7AHxVUTkHCM1uw</td>\n",
       "      <td>M0x6TJmMwL4</td>\n",
       "      <td>2019</td>\n",
       "      <td>6</td>\n",
       "      <td>...</td>\n",
       "      <td>0.672</td>\n",
       "      <td>0.00</td>\n",
       "      <td>0.328</td>\n",
       "      <td>0.6239</td>\n",
       "      <td>True</td>\n",
       "      <td>False</td>\n",
       "      <td>False</td>\n",
       "      <td>Blasphemous is Amazing!</td>\n",
       "      <td>3</td>\n",
       "      <td>0.000000</td>\n",
       "    </tr>\n",
       "    <tr>\n",
       "      <th>1</th>\n",
       "      <td>Gaming</td>\n",
       "      <td>2019-09-22</td>\n",
       "      <td>2428</td>\n",
       "      <td>60.0</td>\n",
       "      <td>11.0</td>\n",
       "      <td>1023.0</td>\n",
       "      <td>UCzWm1-4XF7AHxVUTkHCM1uw</td>\n",
       "      <td>ofAIp6dad00</td>\n",
       "      <td>2019</td>\n",
       "      <td>6</td>\n",
       "      <td>...</td>\n",
       "      <td>0.000</td>\n",
       "      <td>0.00</td>\n",
       "      <td>1.000</td>\n",
       "      <td>0.0000</td>\n",
       "      <td>False</td>\n",
       "      <td>True</td>\n",
       "      <td>False</td>\n",
       "      <td>I review all 42 Genesis Mini games</td>\n",
       "      <td>7</td>\n",
       "      <td>0.142857</td>\n",
       "    </tr>\n",
       "    <tr>\n",
       "      <th>2</th>\n",
       "      <td>Gaming</td>\n",
       "      <td>2019-09-20</td>\n",
       "      <td>18</td>\n",
       "      <td>32.0</td>\n",
       "      <td>0.0</td>\n",
       "      <td>2000.0</td>\n",
       "      <td>UCzWm1-4XF7AHxVUTkHCM1uw</td>\n",
       "      <td>cXHRNThI27A</td>\n",
       "      <td>2019</td>\n",
       "      <td>4</td>\n",
       "      <td>...</td>\n",
       "      <td>0.000</td>\n",
       "      <td>0.00</td>\n",
       "      <td>1.000</td>\n",
       "      <td>0.0000</td>\n",
       "      <td>False</td>\n",
       "      <td>True</td>\n",
       "      <td>False</td>\n",
       "      <td>Disenchantment Jester Season 2</td>\n",
       "      <td>4</td>\n",
       "      <td>0.000000</td>\n",
       "    </tr>\n",
       "    <tr>\n",
       "      <th>3</th>\n",
       "      <td>Gaming</td>\n",
       "      <td>2019-09-17</td>\n",
       "      <td>587</td>\n",
       "      <td>311.0</td>\n",
       "      <td>116.0</td>\n",
       "      <td>5102.0</td>\n",
       "      <td>UCzWm1-4XF7AHxVUTkHCM1uw</td>\n",
       "      <td>cDSo3mUNEEM</td>\n",
       "      <td>2019</td>\n",
       "      <td>1</td>\n",
       "      <td>...</td>\n",
       "      <td>0.000</td>\n",
       "      <td>0.73</td>\n",
       "      <td>0.270</td>\n",
       "      <td>-0.8957</td>\n",
       "      <td>False</td>\n",
       "      <td>False</td>\n",
       "      <td>True</td>\n",
       "      <td>💀 Death Stranding is boring as Hell</td>\n",
       "      <td>6</td>\n",
       "      <td>0.000000</td>\n",
       "    </tr>\n",
       "    <tr>\n",
       "      <th>4</th>\n",
       "      <td>Gaming</td>\n",
       "      <td>2019-09-13</td>\n",
       "      <td>220</td>\n",
       "      <td>35.0</td>\n",
       "      <td>3.0</td>\n",
       "      <td>300.0</td>\n",
       "      <td>UCzWm1-4XF7AHxVUTkHCM1uw</td>\n",
       "      <td>rJmT1Rq24qE</td>\n",
       "      <td>2019</td>\n",
       "      <td>4</td>\n",
       "      <td>...</td>\n",
       "      <td>0.198</td>\n",
       "      <td>0.00</td>\n",
       "      <td>0.802</td>\n",
       "      <td>0.5719</td>\n",
       "      <td>True</td>\n",
       "      <td>False</td>\n",
       "      <td>False</td>\n",
       "      <td>Happy Friday the 13th. I'm going to try and fi...</td>\n",
       "      <td>17</td>\n",
       "      <td>0.058824</td>\n",
       "    </tr>\n",
       "  </tbody>\n",
       "</table>\n",
       "<p>5 rows × 21 columns</p>\n",
       "</div>"
      ],
      "text/plain": [
       "  categories upload_date  duration  like_count  dislike_count  view_count  \\\n",
       "0     Gaming  2019-09-29       892        58.0            3.0       584.0   \n",
       "1     Gaming  2019-09-22      2428        60.0           11.0      1023.0   \n",
       "2     Gaming  2019-09-20        18        32.0            0.0      2000.0   \n",
       "3     Gaming  2019-09-17       587       311.0          116.0      5102.0   \n",
       "4     Gaming  2019-09-13       220        35.0            3.0       300.0   \n",
       "\n",
       "                 channel_id   display_id  yearNumber  weekNumber  ...  \\\n",
       "0  UCzWm1-4XF7AHxVUTkHCM1uw  M0x6TJmMwL4        2019           6  ...   \n",
       "1  UCzWm1-4XF7AHxVUTkHCM1uw  ofAIp6dad00        2019           6  ...   \n",
       "2  UCzWm1-4XF7AHxVUTkHCM1uw  cXHRNThI27A        2019           4  ...   \n",
       "3  UCzWm1-4XF7AHxVUTkHCM1uw  cDSo3mUNEEM        2019           1  ...   \n",
       "4  UCzWm1-4XF7AHxVUTkHCM1uw  rJmT1Rq24qE        2019           4  ...   \n",
       "\n",
       "   title_pos_scr  title_neg_scr  title_neu_scr  title_com_scr  pos_vid  \\\n",
       "0          0.672           0.00          0.328         0.6239     True   \n",
       "1          0.000           0.00          1.000         0.0000    False   \n",
       "2          0.000           0.00          1.000         0.0000    False   \n",
       "3          0.000           0.73          0.270        -0.8957    False   \n",
       "4          0.198           0.00          0.802         0.5719     True   \n",
       "\n",
       "   neu_vid  neg_vid                                              title  \\\n",
       "0    False    False                            Blasphemous is Amazing!   \n",
       "1     True    False                 I review all 42 Genesis Mini games   \n",
       "2     True    False                     Disenchantment Jester Season 2   \n",
       "3    False     True                💀 Death Stranding is boring as Hell   \n",
       "4    False    False  Happy Friday the 13th. I'm going to try and fi...   \n",
       "\n",
       "  title_nb_words  freq_capitalize_words  \n",
       "0              3               0.000000  \n",
       "1              7               0.142857  \n",
       "2              4               0.000000  \n",
       "3              6               0.000000  \n",
       "4             17               0.058824  \n",
       "\n",
       "[5 rows x 21 columns]"
      ]
     },
     "execution_count": 42,
     "metadata": {},
     "output_type": "execute_result"
    }
   ],
   "source": [
    "metadatas.head()\n"
   ]
  },
  {
   "cell_type": "code",
   "execution_count": 43,
   "id": "515269aa",
   "metadata": {},
   "outputs": [
    {
     "data": {
      "text/plain": [
       "Text(0, 0.5, 'nb of titles')"
      ]
     },
     "execution_count": 43,
     "metadata": {},
     "output_type": "execute_result"
    },
    {
     "data": {
      "image/png": "[encoded data removed]",
      "text/plain": [
       "<Figure size 432x288 with 1 Axes>"
      ]
     },
     "metadata": {
      "needs_background": "light"
     },
     "output_type": "display_data"
    }
   ],
   "source": [
    "# distrib of the freq capitalize words\n",
    "# process for the plot\n",
    "freq_capit_words = round(metadatas.freq_capitalize_words, 1)\n",
    "values_counts = freq_capit_words.value_counts().sort_index()\n",
    "values_counts.plot(kind=\"bar\")\n",
    "plt.title(\"distrib. of the freq. of capitalize words\")\n",
    "plt.xlabel(\"frequencies of upper word\")\n",
    "plt.ylabel(\"nb of titles\")\n"
   ]
  },
  {
   "cell_type": "code",
   "execution_count": 44,
   "id": "3308c882",
   "metadata": {},
   "outputs": [
    {
     "data": {
      "text/plain": [
       "0.0    1137147\n",
       "0.1     493490\n",
       "0.2     420310\n",
       "0.3     209233\n",
       "0.4     170436\n",
       "0.5     127063\n",
       "0.6     105146\n",
       "0.7      80171\n",
       "0.8     110418\n",
       "0.9     101999\n",
       "1.0     183773\n",
       "Name: freq_capitalize_words, dtype: int64"
      ]
     },
     "execution_count": 44,
     "metadata": {},
     "output_type": "execute_result"
    }
   ],
   "source": [
    "freq_capit_words.value_counts().sort_index()"
   ]
  },
  {
   "cell_type": "code",
   "execution_count": 45,
   "id": "b7c61f8c",
   "metadata": {},
   "outputs": [
    {
     "name": "stdout",
     "output_type": "stream",
     "text": [
      "                            OLS Regression Results                            \n",
      "==============================================================================\n",
      "Dep. Variable:         view_count_log   R-squared:                       0.007\n",
      "Model:                            OLS   Adj. R-squared:                  0.007\n",
      "Method:                 Least Squares   F-statistic:                 1.040e+04\n",
      "Date:                Fri, 23 Dec 2022   Prob (F-statistic):               0.00\n",
      "Time:                        16:51:46   Log-Likelihood:            -7.2584e+06\n",
      "No. Observations:             3139185   AIC:                         1.452e+07\n",
      "Df Residuals:                 3139182   BIC:                         1.452e+07\n",
      "Df Model:                           2                                         \n",
      "Covariance Type:            nonrobust                                         \n",
      "=========================================================================================\n",
      "                            coef    std err          t      P>|t|      [0.025      0.975]\n",
      "-----------------------------------------------------------------------------------------\n",
      "Intercept                 8.2126      0.004   2154.267      0.000       8.205       8.220\n",
      "title_nb_words            0.0358      0.000     91.092      0.000       0.035       0.037\n",
      "freq_capitalize_words     0.4580      0.004    102.680      0.000       0.449       0.467\n",
      "==============================================================================\n",
      "Omnibus:                     2652.673   Durbin-Watson:                   0.432\n",
      "Prob(Omnibus):                  0.000   Jarque-Bera (JB):             2403.866\n",
      "Skew:                           0.032   Prob(JB):                         0.00\n",
      "Kurtosis:                       2.880   Cond. No.                         32.5\n",
      "==============================================================================\n",
      "\n",
      "Notes:\n",
      "[1] Standard Errors assume that the covariance matrix of the errors is correctly specified.\n"
     ]
    }
   ],
   "source": [
    "# Calculate the log of the view count, ignoring records where the view count is 0\n",
    "metadatas[\"view_count_log\"] = np.log(\n",
    "    metadatas.view_count, where=metadatas.view_count != 0\n",
    ")\n",
    "\n",
    "# Create a model using the OLS (Ordinary Least Squares) method to predict the view count\n",
    "# given the nb of words and frequence of capitalized words in title.\n",
    "mod = smf.ols(\n",
    "    formula=\"view_count_log ~ title_nb_words + freq_capitalize_words\", data=metadatas\n",
    ")\n",
    "\n",
    "# Fit the model to the data\n",
    "res = mod.fit()\n",
    "\n",
    "# Print a summary of the model's results\n",
    "print(res.summary())\n"
   ]
  },
  {
   "cell_type": "markdown",
   "id": "5e0c9571",
   "metadata": {},
   "source": [
    "The frequency of capitalized words in the titles is significant and it increases the number of views on the video. The number of words in the title is significant as well, but the effect size on the number of views is small.\n"
   ]
  },
  {
   "cell_type": "code",
   "execution_count": 46,
   "id": "6cd749fa",
   "metadata": {},
   "outputs": [
    {
     "name": "stdout",
     "output_type": "stream",
     "text": [
      "# of upper words title (1009630, 22)\n",
      "# of lower words title (2129556, 22)\n"
     ]
    }
   ],
   "source": [
    "# use a threshold (0.3) to differentiate lower to upper titles\n",
    "# less than 0.3 is considered as lower title.\n",
    "lower_title_df = metadatas[metadatas[\"freq_capitalize_words\"] < 0.3]\n",
    "upper_title_df = metadatas[metadatas[\"freq_capitalize_words\"] >= 0.3]\n",
    "\n",
    "print(\"# of upper words title\", upper_title_df.shape)\n",
    "print(\"# of lower words title\", lower_title_df.shape)\n"
   ]
  },
  {
   "cell_type": "markdown",
   "id": "aab12150",
   "metadata": {},
   "source": [
    "For more readability, 1st => Take videos with less than 200 000 views\n"
   ]
  },
  {
   "cell_type": "code",
   "execution_count": 47,
   "id": "8fbdbabd",
   "metadata": {},
   "outputs": [],
   "source": [
    "# round the view count to create bins\n",
    "lower_title_df.view_count = round(lower_title_df.view_count, -4)\n",
    "lower_title_count = lower_title_df.view_count.value_counts().sort_index().iloc[150:180]\n",
    "upper_title_df.view_count = round(upper_title_df.view_count, -4)\n",
    "upper_title_count = upper_title_df.view_count.value_counts().sort_index().iloc[150:180]\n"
   ]
  },
  {
   "cell_type": "code",
   "execution_count": 48,
   "id": "f717b5d3",
   "metadata": {},
   "outputs": [
    {
     "data": {
      "image/png": "[encoded data removed]",
      "text/plain": [
       "<Figure size 432x288 with 1 Axes>"
      ]
     },
     "metadata": {
      "needs_background": "light"
     },
     "output_type": "display_data"
    }
   ],
   "source": [
    "X_axis = np.arange(len(lower_title_count.index))\n",
    "\n",
    "plt.bar(X_axis - 0.2, lower_title_count.values, 0.4, label=\"Lower Title\")\n",
    "plt.bar(X_axis + 0.2, upper_title_count.values, 0.4, label=\"Upper Title\")\n",
    "\n",
    "# plt.xticks(X_axis, lower_title_count.index)\n",
    "positions = lower_title_count.index\n",
    "labels = [str(int(pos)) for pos in positions]\n",
    "plt.xticks(X_axis, labels, rotation=\"vertical\")\n",
    "plt.title(\n",
    "    \"Number of videos per view range for \\n videos with less than 1,000,000 views\",\n",
    "    wrap=True,\n",
    ")\n",
    "plt.xlabel(\"View count\")\n",
    "plt.ylabel(\"Number of videos\")\n",
    "plt.legend()\n",
    "plt.show()\n"
   ]
  },
  {
   "cell_type": "markdown",
   "id": "c40821ba",
   "metadata": {},
   "source": [
    "### Now match and compare the channels with ~ the same number of subscribers\n"
   ]
  },
  {
   "cell_type": "code",
   "execution_count": 49,
   "id": "1f5b7375",
   "metadata": {},
   "outputs": [],
   "source": [
    "# retrieve channels with lower < nb of subs < upper\n",
    "def get_sample_meta(lower, upper):\n",
    "    return df_channels[\n",
    "        (df_channels.subscribers_cc > lower) & (df_channels.subscribers_cc < upper)\n",
    "    ]\n"
   ]
  },
  {
   "cell_type": "markdown",
   "id": "6db324d8",
   "metadata": {},
   "source": [
    "### Impact of capitalized words in title for channels with more than 1 M of subscribers\n"
   ]
  },
  {
   "cell_type": "code",
   "execution_count": 50,
   "id": "de7fcc84",
   "metadata": {},
   "outputs": [
    {
     "data": {
      "text/plain": [
       "(303, 8)"
      ]
     },
     "execution_count": 50,
     "metadata": {},
     "output_type": "execute_result"
    }
   ],
   "source": [
    "sample_channels = get_sample_meta(1_000_000, 10_000_000)\n",
    "sample_channels.shape\n"
   ]
  },
  {
   "cell_type": "code",
   "execution_count": 51,
   "id": "3e397b06",
   "metadata": {},
   "outputs": [
    {
     "name": "stdout",
     "output_type": "stream",
     "text": [
      "(94390, 22)\n"
     ]
    },
    {
     "data": {
      "text/plain": [
       "303"
      ]
     },
     "execution_count": 51,
     "metadata": {},
     "output_type": "execute_result"
    }
   ],
   "source": [
    "sample_metadatas = metadatas[metadatas.channel_id.isin(sample_channels.channel)]\n",
    "\n",
    "print(sample_metadatas.shape)\n",
    "len(sample_metadatas.groupby(\"channel_id\").count())\n"
   ]
  },
  {
   "cell_type": "code",
   "execution_count": 52,
   "id": "47f7ebe3",
   "metadata": {},
   "outputs": [
    {
     "data": {
      "text/plain": [
       "Text(0, 0.5, 'nb of titles')"
      ]
     },
     "execution_count": 52,
     "metadata": {},
     "output_type": "execute_result"
    },
    {
     "data": {
      "image/png": "[encoded data removed]",
      "text/plain": [
       "<Figure size 432x288 with 1 Axes>"
      ]
     },
     "metadata": {
      "needs_background": "light"
     },
     "output_type": "display_data"
    }
   ],
   "source": [
    "# plot the distrib of the frequ of capitalize words for channels with more than 1M subs\n",
    "freq_capit_words = round(sample_metadatas.freq_capitalize_words, 1)\n",
    "values_counts = freq_capit_words.value_counts().sort_index()\n",
    "values_counts.plot(kind=\"bar\")\n",
    "plt.title(\"distrib. of the freq. of capitalize words\")\n",
    "plt.xlabel(\"frequencies of upper word\")\n",
    "plt.ylabel(\"nb of titles\")\n"
   ]
  },
  {
   "cell_type": "code",
   "execution_count": 53,
   "id": "8fc6126f",
   "metadata": {},
   "outputs": [
    {
     "name": "stdout",
     "output_type": "stream",
     "text": [
      "# of full upper words title (8852, 22)\n",
      "# of full lower words title (27363, 22)\n"
     ]
    }
   ],
   "source": [
    "# check the full upper titles and full lowers ones\n",
    "binary_freq_df = sample_metadatas[\n",
    "    (sample_metadatas.freq_capitalize_words == 0)\n",
    "    | (sample_metadatas.freq_capitalize_words == 1)\n",
    "]\n",
    "\n",
    "full_upper_word_df = binary_freq_df[binary_freq_df[\"freq_capitalize_words\"] == 1]\n",
    "no_upper_word_df = binary_freq_df[binary_freq_df[\"freq_capitalize_words\"] == 0]\n",
    "\n",
    "print(\"# of full upper words title\", full_upper_word_df.shape)\n",
    "print(\"# of full lower words title\", no_upper_word_df.shape)\n"
   ]
  },
  {
   "cell_type": "code",
   "execution_count": 54,
   "id": "d2b42c68",
   "metadata": {},
   "outputs": [
    {
     "name": "stdout",
     "output_type": "stream",
     "text": [
      "                            OLS Regression Results                            \n",
      "==============================================================================\n",
      "Dep. Variable:         view_count_log   R-squared:                       0.004\n",
      "Model:                            OLS   Adj. R-squared:                  0.004\n",
      "Method:                 Least Squares   F-statistic:                     174.4\n",
      "Date:                Fri, 23 Dec 2022   Prob (F-statistic):           2.39e-76\n",
      "Time:                        16:51:59   Log-Likelihood:            -1.8555e+05\n",
      "No. Observations:               94390   AIC:                         3.711e+05\n",
      "Df Residuals:                   94387   BIC:                         3.711e+05\n",
      "Df Model:                           2                                         \n",
      "Covariance Type:            nonrobust                                         \n",
      "=========================================================================================\n",
      "                            coef    std err          t      P>|t|      [0.025      0.975]\n",
      "-----------------------------------------------------------------------------------------\n",
      "Intercept                12.6505      0.017    758.858      0.000      12.618      12.683\n",
      "title_nb_words           -0.0255      0.002    -14.697      0.000      -0.029      -0.022\n",
      "freq_capitalize_words     0.1743      0.017     10.373      0.000       0.141       0.207\n",
      "==============================================================================\n",
      "Omnibus:                     4846.200   Durbin-Watson:                   0.587\n",
      "Prob(Omnibus):                  0.000   Jarque-Bera (JB):             6152.785\n",
      "Skew:                          -0.519   Prob(JB):                         0.00\n",
      "Kurtosis:                       3.697   Cond. No.                         31.3\n",
      "==============================================================================\n",
      "\n",
      "Notes:\n",
      "[1] Standard Errors assume that the covariance matrix of the errors is correctly specified.\n"
     ]
    }
   ],
   "source": [
    "# create model to predict view count given the nb of words in the title and the frequencies of capitalize words\n",
    "mod = smf.ols(\n",
    "    formula=\"view_count_log ~ title_nb_words + freq_capitalize_words\",\n",
    "    data=sample_metadatas,\n",
    ")\n",
    "res = mod.fit()\n",
    "print(res.summary())\n"
   ]
  },
  {
   "cell_type": "markdown",
   "id": "13c5bb22",
   "metadata": {},
   "source": [
    "The impact is less important if we filter the channels on the number of subscribers but it still it helps to get more views.\n"
   ]
  },
  {
   "cell_type": "code",
   "execution_count": 55,
   "id": "95204f76",
   "metadata": {},
   "outputs": [
    {
     "name": "stdout",
     "output_type": "stream",
     "text": [
      "                            OLS Regression Results                            \n",
      "==============================================================================\n",
      "Dep. Variable:         view_count_log   R-squared:                       0.009\n",
      "Model:                            OLS   Adj. R-squared:                  0.009\n",
      "Method:                 Least Squares   F-statistic:                     7697.\n",
      "Date:                Fri, 23 Dec 2022   Prob (F-statistic):               0.00\n",
      "Time:                        16:52:02   Log-Likelihood:            -3.7336e+06\n",
      "No. Observations:             1735396   AIC:                         7.467e+06\n",
      "Df Residuals:                 1735393   BIC:                         7.467e+06\n",
      "Df Model:                           2                                         \n",
      "Covariance Type:            nonrobust                                         \n",
      "=========================================================================================\n",
      "                            coef    std err          t      P>|t|      [0.025      0.975]\n",
      "-----------------------------------------------------------------------------------------\n",
      "Intercept                 7.0673      0.004   1630.598      0.000       7.059       7.076\n",
      "title_nb_words            0.0545      0.000    121.090      0.000       0.054       0.055\n",
      "freq_capitalize_words     0.0844      0.005     16.009      0.000       0.074       0.095\n",
      "==============================================================================\n",
      "Omnibus:                      874.254   Durbin-Watson:                   0.628\n",
      "Prob(Omnibus):                  0.000   Jarque-Bera (JB):              969.595\n",
      "Skew:                          -0.012   Prob(JB):                    2.85e-211\n",
      "Kurtosis:                       3.113   Cond. No.                         32.9\n",
      "==============================================================================\n",
      "\n",
      "Notes:\n",
      "[1] Standard Errors assume that the covariance matrix of the errors is correctly specified.\n"
     ]
    }
   ],
   "source": [
    "# create model to predict view count but for smaller channels now\n",
    "sample_channels = get_sample_meta(0, 50_000)\n",
    "sample_metadatas = metadatas[metadatas.channel_id.isin(sample_channels.channel)]\n",
    "mod = smf.ols(\n",
    "    formula=\"view_count_log ~ title_nb_words + freq_capitalize_words\",\n",
    "    data=sample_metadatas,\n",
    ")\n",
    "res = mod.fit()\n",
    "print(res.summary())\n"
   ]
  },
  {
   "cell_type": "markdown",
   "id": "554c5530",
   "metadata": {},
   "source": [
    "The impact of capitalized words is more important for channels with more than 1M subscribers compared to channels with less than 50K subscribers. However the effect size on the number of views is still positive.  \n"
   ]
  },
  {
   "cell_type": "markdown",
   "id": "eb43090b",
   "metadata": {},
   "source": [
    "Let's plot the upper and lower case titles for big channels (> 100 000 subs) together with the smaller channels."
   ]
  },
  {
   "cell_type": "code",
   "execution_count": 56,
   "id": "09011ab8",
   "metadata": {},
   "outputs": [
    {
     "name": "stdout",
     "output_type": "stream",
     "text": [
      "(3586, 8)\n",
      "(10794, 8)\n"
     ]
    }
   ],
   "source": [
    "# split 'big' and 'small' channels\n",
    "big_channels = df_channels[df_channels.subscribers_cc > 100_000]\n",
    "little_channels = df_channels[df_channels.subscribers_cc <= 100_000]\n",
    "\n",
    "print(big_channels.shape)\n",
    "print(little_channels.shape)\n"
   ]
  },
  {
   "cell_type": "code",
   "execution_count": 57,
   "id": "03c66b14",
   "metadata": {},
   "outputs": [],
   "source": [
    "big_videos_meta = metadatas[metadatas.channel_id.isin(big_channels.channel)]\n",
    "little_videos_meta = metadatas[metadatas.channel_id.isin(little_channels.channel)]\n"
   ]
  },
  {
   "cell_type": "markdown",
   "id": "53e887c6",
   "metadata": {},
   "source": [
    "#### What is the proportion of capitalized titles for big ( > 100 000 subs) vs small (< 100 000 subs) channels\n"
   ]
  },
  {
   "cell_type": "code",
   "execution_count": 58,
   "id": "2c23fde0",
   "metadata": {},
   "outputs": [
    {
     "data": {
      "text/plain": [
       "Text(0, 0.5, 'nb of titles')"
      ]
     },
     "execution_count": 58,
     "metadata": {},
     "output_type": "execute_result"
    },
    {
     "data": {
      "image/png": "[encoded data removed]",
      "text/plain": [
       "<Figure size 432x288 with 1 Axes>"
      ]
     },
     "metadata": {
      "needs_background": "light"
     },
     "output_type": "display_data"
    }
   ],
   "source": [
    "# plot the distrib of the frequ of capitalize words for big channels\n",
    "freq_capit_words = round(big_videos_meta.freq_capitalize_words, 1)\n",
    "values_counts = freq_capit_words.value_counts().sort_index()\n",
    "values_counts.plot(kind=\"bar\")\n",
    "plt.title(\"distrib. of the freq. of capitalize words\")\n",
    "plt.xlabel(\"frequencies of upper word\")\n",
    "plt.ylabel(\"nb of titles\")\n"
   ]
  },
  {
   "cell_type": "code",
   "execution_count": 59,
   "id": "ef5fcdb5",
   "metadata": {},
   "outputs": [
    {
     "name": "stdout",
     "output_type": "stream",
     "text": [
      "Big channels have 27.25% of upper titles \n",
      "Big channels have 72.75% of lower titles \n"
     ]
    }
   ],
   "source": [
    "# for big channels, calculate the number of titles with more than 0.5 as freq capitalized words (considered as upper titles)\n",
    "# and divide by the total number of videos\n",
    "percentage_upper_titles = (\n",
    "    freq_capit_words.value_counts().sort_index().iloc[-6:].sum()\n",
    "    / freq_capit_words.value_counts().sum()\n",
    "    * 100\n",
    ")\n",
    "\n",
    "print(\"Big channels have {:.2f}% of upper titles \".format(percentage_upper_titles))\n",
    "print(\n",
    "    \"Big channels have {:.2f}% of lower titles \".format(100 - percentage_upper_titles)\n",
    ")\n"
   ]
  },
  {
   "cell_type": "code",
   "execution_count": 60,
   "id": "29fe544d",
   "metadata": {},
   "outputs": [
    {
     "data": {
      "text/plain": [
       "Text(0, 0.5, 'nb of titles')"
      ]
     },
     "execution_count": 60,
     "metadata": {},
     "output_type": "execute_result"
    },
    {
     "data": {
      "image/png": "[encoded data removed]",
      "text/plain": [
       "<Figure size 432x288 with 1 Axes>"
      ]
     },
     "metadata": {
      "needs_background": "light"
     },
     "output_type": "display_data"
    }
   ],
   "source": [
    "# plot the distrib of the frequ of capitalize words for small channels\n",
    "freq_capit_words = round(little_videos_meta.freq_capitalize_words, 1)\n",
    "values_counts = freq_capit_words.value_counts().sort_index()\n",
    "values_counts.plot(kind=\"bar\")\n",
    "plt.title(\"distrib. of the freq. of capitalize words\")\n",
    "plt.xlabel(\"frequencies of upper word\")\n",
    "plt.ylabel(\"nb of titles\")\n"
   ]
  },
  {
   "cell_type": "code",
   "execution_count": 61,
   "id": "ee460a5e",
   "metadata": {},
   "outputs": [
    {
     "name": "stdout",
     "output_type": "stream",
     "text": [
      "Small channels have 20.60% of upper titles \n",
      "Small channels have 79.40% of lower titles \n"
     ]
    }
   ],
   "source": [
    "# for smaller channels, calculate the number of titles with more than 0.5 as freq capitalized words (considered as upper titles)\n",
    "# and divide by the total number of videos\n",
    "percentage_upper_titles = (\n",
    "    freq_capit_words.value_counts().sort_index().iloc[-6:].sum()\n",
    "    / freq_capit_words.value_counts().sum()\n",
    "    * 100\n",
    ")\n",
    "\n",
    "print(\"Small channels have {:.2f}% of upper titles \".format(percentage_upper_titles))\n",
    "print(\n",
    "    \"Small channels have {:.2f}% of lower titles \".format(100 - percentage_upper_titles)\n",
    ")\n"
   ]
  },
  {
   "cell_type": "markdown",
   "id": "5894abc1",
   "metadata": {},
   "source": [
    "## Sub-Question 3\n",
    "\n",
    "**Description:** Can we predict the channel's success based on channel information, including average video length, upload frequency, usual time of uploads, categories of videos uploaded, positive/negative sentiments of the title, person pronouns to address the viewers, the number of words in the title, and the number of tags used?\n",
    "\n",
    "**Method:** We implement kNN method or Random Forests to train the dataset.  \n",
    "**Timeline:** By 13/12/2022  \n"
   ]
  },
  {
   "cell_type": "code",
   "execution_count": 62,
   "id": "3e74633d",
   "metadata": {},
   "outputs": [],
   "source": [
    "video_metadatas[\"duration_min\"] = video_metadatas[\"duration\"] / 60\n"
   ]
  },
  {
   "cell_type": "markdown",
   "id": "41828307",
   "metadata": {},
   "source": [
    "Add a column for the day of the week of the upload date for the video\n"
   ]
  },
  {
   "cell_type": "code",
   "execution_count": 63,
   "id": "82f9c15b",
   "metadata": {},
   "outputs": [],
   "source": [
    "video_metadatas[\"week_number_mean\"] = video_metadatas.groupby(\"channel_id\")[\n",
    "    \"weekNumber\"\n",
    "].transform(\"mean\")\n",
    "\n",
    "video_metadatas[\"week_number_mean\"] = video_metadatas[\"week_number_mean\"].astype(\"int\")\n",
    "video_metadatas[\"mean_duration_min\"] = video_metadatas.groupby(\"channel_id\")[\n",
    "    \"duration_min\"\n",
    "].transform(\"mean\")\n"
   ]
  },
  {
   "cell_type": "markdown",
   "id": "34e34d43",
   "metadata": {},
   "source": [
    "### Process the dataset and combine them to get all the necessaries informations \n"
   ]
  },
  {
   "cell_type": "code",
   "execution_count": 64,
   "id": "a59ae35e",
   "metadata": {},
   "outputs": [],
   "source": [
    "def get_nb_unique_cat(x):\n",
    "    return x.nunique()\n",
    "\n",
    "\n",
    "def get_cat(x):\n",
    "    return list(x.unique())\n"
   ]
  },
  {
   "cell_type": "code",
   "execution_count": 65,
   "id": "bb774e71",
   "metadata": {},
   "outputs": [],
   "source": [
    "video_metadatas[\"nb_diff_cat\"] = video_metadatas.groupby(\"channel_id\")[\n",
    "    \"categories\"\n",
    "].transform(get_nb_unique_cat)\n",
    "\n",
    "cat_per_channels = (\n",
    "    video_metadatas.groupby(\"channel_id\")[\"categories\"].unique().to_frame()\n",
    ")\n"
   ]
  },
  {
   "cell_type": "code",
   "execution_count": 66,
   "id": "62ce45a6",
   "metadata": {},
   "outputs": [
    {
     "data": {
      "text/html": [
       "<div>\n",
       "<style scoped>\n",
       "    .dataframe tbody tr th:only-of-type {\n",
       "        vertical-align: middle;\n",
       "    }\n",
       "\n",
       "    .dataframe tbody tr th {\n",
       "        vertical-align: top;\n",
       "    }\n",
       "\n",
       "    .dataframe thead th {\n",
       "        text-align: right;\n",
       "    }\n",
       "</style>\n",
       "<table border=\"1\" class=\"dataframe\">\n",
       "  <thead>\n",
       "    <tr style=\"text-align: right;\">\n",
       "      <th></th>\n",
       "      <th>channel_id</th>\n",
       "      <th>covered_categories</th>\n",
       "    </tr>\n",
       "  </thead>\n",
       "  <tbody>\n",
       "    <tr>\n",
       "      <th>0</th>\n",
       "      <td>UC--7oyGW0N7fMf164-ZXljQ</td>\n",
       "      <td>[Gaming, Education, Music, People &amp; Blogs]</td>\n",
       "    </tr>\n",
       "    <tr>\n",
       "      <th>1</th>\n",
       "      <td>UC--b720KocplK9zh0peruqg</td>\n",
       "      <td>[Gaming, People &amp; Blogs]</td>\n",
       "    </tr>\n",
       "  </tbody>\n",
       "</table>\n",
       "</div>"
      ],
      "text/plain": [
       "                 channel_id                          covered_categories\n",
       "0  UC--7oyGW0N7fMf164-ZXljQ  [Gaming, Education, Music, People & Blogs]\n",
       "1  UC--b720KocplK9zh0peruqg                    [Gaming, People & Blogs]"
      ]
     },
     "execution_count": 66,
     "metadata": {},
     "output_type": "execute_result"
    }
   ],
   "source": [
    "cat_per_channels = cat_per_channels.reset_index()\n",
    "cat_per_channels = cat_per_channels.rename({\"categories\": \"covered_categories\"}, axis=1)\n",
    "cat_per_channels.head(2)\n"
   ]
  },
  {
   "cell_type": "code",
   "execution_count": 67,
   "id": "2baa467a",
   "metadata": {},
   "outputs": [],
   "source": [
    "video_metadatas = pd.merge(video_metadatas, cat_per_channels, on=\"channel_id\")\n"
   ]
  },
  {
   "cell_type": "code",
   "execution_count": 68,
   "id": "6c72bc0d",
   "metadata": {},
   "outputs": [],
   "source": [
    "# group by channels and week of upload date to calculate the mean upload frequencies of the channels\n",
    "grouped = video_metadatas.groupby(\n",
    "    [\"channel_id\", pd.Grouper(key=\"upload_date\", freq=\"W\")]\n",
    ").size()\n"
   ]
  },
  {
   "cell_type": "code",
   "execution_count": 69,
   "id": "9c767283",
   "metadata": {},
   "outputs": [
    {
     "data": {
      "text/html": [
       "<div>\n",
       "<style scoped>\n",
       "    .dataframe tbody tr th:only-of-type {\n",
       "        vertical-align: middle;\n",
       "    }\n",
       "\n",
       "    .dataframe tbody tr th {\n",
       "        vertical-align: top;\n",
       "    }\n",
       "\n",
       "    .dataframe thead th {\n",
       "        text-align: right;\n",
       "    }\n",
       "</style>\n",
       "<table border=\"1\" class=\"dataframe\">\n",
       "  <thead>\n",
       "    <tr style=\"text-align: right;\">\n",
       "      <th></th>\n",
       "      <th>channel_id</th>\n",
       "      <th>week_frequency_mean</th>\n",
       "    </tr>\n",
       "  </thead>\n",
       "  <tbody>\n",
       "    <tr>\n",
       "      <th>0</th>\n",
       "      <td>UC--7oyGW0N7fMf164-ZXljQ</td>\n",
       "      <td>5.911765</td>\n",
       "    </tr>\n",
       "    <tr>\n",
       "      <th>1</th>\n",
       "      <td>UC--b720KocplK9zh0peruqg</td>\n",
       "      <td>1.187500</td>\n",
       "    </tr>\n",
       "    <tr>\n",
       "      <th>2</th>\n",
       "      <td>UC--vL4ZYLa0bi3TQcuwrhoA</td>\n",
       "      <td>1.533333</td>\n",
       "    </tr>\n",
       "    <tr>\n",
       "      <th>3</th>\n",
       "      <td>UC-05oNebNywp5jy7iXZWZzA</td>\n",
       "      <td>2.137097</td>\n",
       "    </tr>\n",
       "    <tr>\n",
       "      <th>4</th>\n",
       "      <td>UC-0xJTkutOCoRoBi3YOkHRg</td>\n",
       "      <td>2.511111</td>\n",
       "    </tr>\n",
       "    <tr>\n",
       "      <th>...</th>\n",
       "      <td>...</td>\n",
       "      <td>...</td>\n",
       "    </tr>\n",
       "    <tr>\n",
       "      <th>14375</th>\n",
       "      <td>UCzyfkcDsgePLd09B-8LxX0g</td>\n",
       "      <td>1.511111</td>\n",
       "    </tr>\n",
       "    <tr>\n",
       "      <th>14376</th>\n",
       "      <td>UCzyu0YDMQB_5iSGPOXECcHQ</td>\n",
       "      <td>1.428571</td>\n",
       "    </tr>\n",
       "    <tr>\n",
       "      <th>14377</th>\n",
       "      <td>UCzz9_nzdbrxnErTZPZdZ-cw</td>\n",
       "      <td>4.116883</td>\n",
       "    </tr>\n",
       "    <tr>\n",
       "      <th>14378</th>\n",
       "      <td>UCzzHicLcWJP2jagxpqebzsA</td>\n",
       "      <td>1.954545</td>\n",
       "    </tr>\n",
       "    <tr>\n",
       "      <th>14379</th>\n",
       "      <td>UCzzSPRyMYUw6IGueHr1K0Jg</td>\n",
       "      <td>3.523810</td>\n",
       "    </tr>\n",
       "  </tbody>\n",
       "</table>\n",
       "<p>14380 rows × 2 columns</p>\n",
       "</div>"
      ],
      "text/plain": [
       "                     channel_id  week_frequency_mean\n",
       "0      UC--7oyGW0N7fMf164-ZXljQ             5.911765\n",
       "1      UC--b720KocplK9zh0peruqg             1.187500\n",
       "2      UC--vL4ZYLa0bi3TQcuwrhoA             1.533333\n",
       "3      UC-05oNebNywp5jy7iXZWZzA             2.137097\n",
       "4      UC-0xJTkutOCoRoBi3YOkHRg             2.511111\n",
       "...                         ...                  ...\n",
       "14375  UCzyfkcDsgePLd09B-8LxX0g             1.511111\n",
       "14376  UCzyu0YDMQB_5iSGPOXECcHQ             1.428571\n",
       "14377  UCzz9_nzdbrxnErTZPZdZ-cw             4.116883\n",
       "14378  UCzzHicLcWJP2jagxpqebzsA             1.954545\n",
       "14379  UCzzSPRyMYUw6IGueHr1K0Jg             3.523810\n",
       "\n",
       "[14380 rows x 2 columns]"
      ]
     },
     "execution_count": 69,
     "metadata": {},
     "output_type": "execute_result"
    }
   ],
   "source": [
    "week_frequency_mean = (\n",
    "    grouped.groupby(level=\"channel_id\").mean().to_frame().reset_index()\n",
    ")\n",
    "week_frequency_mean = week_frequency_mean.rename(columns={0: \"week_frequency_mean\"})\n",
    "video_metadatas = pd.merge(video_metadatas, week_frequency_mean, on=\"channel_id\")\n",
    "week_frequency_mean\n"
   ]
  },
  {
   "cell_type": "code",
   "execution_count": 70,
   "id": "07624e87",
   "metadata": {},
   "outputs": [],
   "source": [
    "video_metadatas[\"title_com_scr_mean\"] = video_metadatas.groupby(\"channel_id\")[\n",
    "    \"title_com_scr\"\n",
    "].transform(\"mean\")\n"
   ]
  },
  {
   "cell_type": "code",
   "execution_count": 72,
   "id": "4d6b2080",
   "metadata": {},
   "outputs": [],
   "source": [
    "video_metadatas[\"title_nb_words_mean\"] = metadatas.groupby(\"channel_id\")[\n",
    "    \"title_nb_words\"\n",
    "].transform(\"mean\")\n"
   ]
  },
  {
   "cell_type": "markdown",
   "id": "5a263ae6",
   "metadata": {},
   "source": [
    "Now find the pronouns in the title\n"
   ]
  },
  {
   "cell_type": "code",
   "execution_count": 74,
   "id": "df961bf4",
   "metadata": {},
   "outputs": [],
   "source": [
    "feature_wordsets = dict(\n",
    "    [\n",
    "        # https://en.wikipedia.org/wiki/English_personal_pronouns\n",
    "        (\n",
    "            \"first_person_singular\",\n",
    "            [\n",
    "                \"i\",\n",
    "                \"me\",\n",
    "                \"my\",\n",
    "                \"mine\",\n",
    "                \"myself\",\n",
    "                \"i'd\",\n",
    "                \"i'll\",\n",
    "                \"i'm\",\n",
    "                \"i've\",\n",
    "                \"id\",\n",
    "                \"im\",\n",
    "                \"ive\",\n",
    "            ],\n",
    "        ),\n",
    "        (\n",
    "            \"first_person_plural\",\n",
    "            [\n",
    "                \"we\",\n",
    "                \"us\",\n",
    "                \"our\",\n",
    "                \"ours\",\n",
    "                \"ourselves\",\n",
    "                \"we'd\",\n",
    "                \"we'll\",\n",
    "                \"we're\",\n",
    "                \"we've\",\n",
    "            ],\n",
    "        ),\n",
    "        (\n",
    "            \"second_person\",\n",
    "            [\n",
    "                \"you\",\n",
    "                \"your\",\n",
    "                \"yours\",\n",
    "                \"yourself\",\n",
    "                \"ya\",\n",
    "                \"you'd\",\n",
    "                \"you'll\",\n",
    "                \"you're\",\n",
    "                \"you've\",\n",
    "                \"youll\",\n",
    "                \"youre\",\n",
    "                \"youve\",\n",
    "                \"yourselves\",\n",
    "            ],\n",
    "        ),\n",
    "        (\n",
    "            \"third_person_singular\",\n",
    "            [\n",
    "                \"he\",\n",
    "                \"him\",\n",
    "                \"his\",\n",
    "                \"himself\",\n",
    "                \"he'd\",\n",
    "                \"he's\",\n",
    "                \"hes\",\n",
    "                \"she\",\n",
    "                \"her\",\n",
    "                \"hers\",\n",
    "                \"herself\",\n",
    "                \"she'll\",\n",
    "                \"she's\",\n",
    "                \"shes\",\n",
    "                \"it\",\n",
    "                \"its\",\n",
    "                \"itself\",\n",
    "                \"themself\",\n",
    "            ],\n",
    "        ),\n",
    "        (\n",
    "            \"third_person_plural\",\n",
    "            [\n",
    "                \"they\",\n",
    "                \"them\",\n",
    "                \"their\",\n",
    "                \"theirs\",\n",
    "                \"themselves\",\n",
    "                \"they'd\",\n",
    "                \"they'll\",\n",
    "                \"they've\",\n",
    "                \"theyll\",\n",
    "                \"theyve\",\n",
    "            ],\n",
    "        ),\n",
    "    ]\n",
    ")\n"
   ]
  },
  {
   "cell_type": "code",
   "execution_count": 75,
   "id": "78a20ced",
   "metadata": {},
   "outputs": [
    {
     "data": {
      "text/html": [
       "<div>\n",
       "<style scoped>\n",
       "    .dataframe tbody tr th:only-of-type {\n",
       "        vertical-align: middle;\n",
       "    }\n",
       "\n",
       "    .dataframe tbody tr th {\n",
       "        vertical-align: top;\n",
       "    }\n",
       "\n",
       "    .dataframe thead th {\n",
       "        text-align: right;\n",
       "    }\n",
       "</style>\n",
       "<table border=\"1\" class=\"dataframe\">\n",
       "  <thead>\n",
       "    <tr style=\"text-align: right;\">\n",
       "      <th></th>\n",
       "      <th>display_id</th>\n",
       "      <th>title</th>\n",
       "      <th>first_person_singular</th>\n",
       "      <th>first_person_plural</th>\n",
       "      <th>second_person</th>\n",
       "      <th>third_person_singular</th>\n",
       "      <th>third_person_plural</th>\n",
       "    </tr>\n",
       "  </thead>\n",
       "  <tbody>\n",
       "    <tr>\n",
       "      <th>0</th>\n",
       "      <td>M0x6TJmMwL4</td>\n",
       "      <td>Blasphemous is Amazing!</td>\n",
       "      <td>0</td>\n",
       "      <td>0</td>\n",
       "      <td>0</td>\n",
       "      <td>0</td>\n",
       "      <td>0</td>\n",
       "    </tr>\n",
       "    <tr>\n",
       "      <th>1</th>\n",
       "      <td>ofAIp6dad00</td>\n",
       "      <td>I review all 42 Genesis Mini games</td>\n",
       "      <td>1</td>\n",
       "      <td>0</td>\n",
       "      <td>0</td>\n",
       "      <td>0</td>\n",
       "      <td>0</td>\n",
       "    </tr>\n",
       "    <tr>\n",
       "      <th>2</th>\n",
       "      <td>cXHRNThI27A</td>\n",
       "      <td>Disenchantment Jester Season 2</td>\n",
       "      <td>0</td>\n",
       "      <td>0</td>\n",
       "      <td>0</td>\n",
       "      <td>0</td>\n",
       "      <td>0</td>\n",
       "    </tr>\n",
       "  </tbody>\n",
       "</table>\n",
       "</div>"
      ],
      "text/plain": [
       "    display_id                               title  first_person_singular  \\\n",
       "0  M0x6TJmMwL4             Blasphemous is Amazing!                      0   \n",
       "1  ofAIp6dad00  I review all 42 Genesis Mini games                      1   \n",
       "2  cXHRNThI27A      Disenchantment Jester Season 2                      0   \n",
       "\n",
       "   first_person_plural  second_person  third_person_singular  \\\n",
       "0                    0              0                      0   \n",
       "1                    0              0                      0   \n",
       "2                    0              0                      0   \n",
       "\n",
       "   third_person_plural  \n",
       "0                    0  \n",
       "1                    0  \n",
       "2                    0  "
      ]
     },
     "execution_count": 75,
     "metadata": {},
     "output_type": "execute_result"
    }
   ],
   "source": [
    "def get_new_columns_pronouns(feature_wordsets, df, colname):\n",
    "    dict_pronoun_list = dict(\n",
    "        [\n",
    "            (\"first_person_singular\", []),\n",
    "            (\"first_person_plural\", []),\n",
    "            (\"second_person\", []),\n",
    "            (\"third_person_singular\", []),\n",
    "            (\"third_person_plural\", []),\n",
    "        ]\n",
    "    )\n",
    "    for headline in df[colname]:\n",
    "        headline = headline.lower()\n",
    "        for key in feature_wordsets.keys():\n",
    "            # if a word corresponding to a pronoun is present in the headline,\n",
    "            # then add 1 to this pronoun list (column) otherwise add 0\n",
    "            if any(\n",
    "                re.search(r\"\\b\" + pronoun + r\"\\b\", headline)\n",
    "                for pronoun in feature_wordsets[key]\n",
    "            ):\n",
    "                dict_pronoun_list[key].append(1)\n",
    "            else:\n",
    "                dict_pronoun_list[key].append(0)\n",
    "    return dict_pronoun_list\n",
    "\n",
    "\n",
    "dict_pronoun_list = get_new_columns_pronouns(feature_wordsets, title_metadatas, \"title\")\n",
    "\n",
    "# create the new columns in our dataframe\n",
    "for col in dict_pronoun_list.keys():\n",
    "    title_metadatas[col] = dict_pronoun_list[col]\n",
    "title_metadatas.head(3)\n"
   ]
  },
  {
   "cell_type": "code",
   "execution_count": 76,
   "id": "5a373408",
   "metadata": {},
   "outputs": [],
   "source": [
    "title_metadatas_without_titles = title_metadatas.drop(\"title\", axis=1)\n",
    "title_metadatas_without_titles\n",
    "\n",
    "video_metadatas = pd.merge(\n",
    "    video_metadatas, title_metadatas_without_titles, on=\"display_id\"\n",
    ")\n"
   ]
  },
  {
   "cell_type": "code",
   "execution_count": 77,
   "id": "957f100f",
   "metadata": {},
   "outputs": [
    {
     "data": {
      "text/html": [
       "<div>\n",
       "<style scoped>\n",
       "    .dataframe tbody tr th:only-of-type {\n",
       "        vertical-align: middle;\n",
       "    }\n",
       "\n",
       "    .dataframe tbody tr th {\n",
       "        vertical-align: top;\n",
       "    }\n",
       "\n",
       "    .dataframe thead th {\n",
       "        text-align: right;\n",
       "    }\n",
       "</style>\n",
       "<table border=\"1\" class=\"dataframe\">\n",
       "  <thead>\n",
       "    <tr style=\"text-align: right;\">\n",
       "      <th></th>\n",
       "      <th>channel_id</th>\n",
       "      <th>subscriber_rank_sb</th>\n",
       "      <th>videos_cc</th>\n",
       "    </tr>\n",
       "  </thead>\n",
       "  <tbody>\n",
       "    <tr>\n",
       "      <th>10</th>\n",
       "      <td>UCEdvpU2pFRCVqU6yIPyTpMQ</td>\n",
       "      <td>18.0</td>\n",
       "      <td>366</td>\n",
       "    </tr>\n",
       "    <tr>\n",
       "      <th>42</th>\n",
       "      <td>UCKqH_9mk1waLgBiL2vT5b9g</td>\n",
       "      <td>87.0</td>\n",
       "      <td>1079</td>\n",
       "    </tr>\n",
       "  </tbody>\n",
       "</table>\n",
       "</div>"
      ],
      "text/plain": [
       "                  channel_id  subscriber_rank_sb  videos_cc\n",
       "10  UCEdvpU2pFRCVqU6yIPyTpMQ                18.0        366\n",
       "42  UCKqH_9mk1waLgBiL2vT5b9g                87.0       1079"
      ]
     },
     "execution_count": 77,
     "metadata": {},
     "output_type": "execute_result"
    }
   ],
   "source": [
    "df_channels_filtered = df_channels[[\"channel\", \"subscriber_rank_sb\", \"videos_cc\"]]\n",
    "\n",
    "df_channels_filtered = df_channels_filtered.rename({\"channel\": \"channel_id\"}, axis=1)\n",
    "df_channels_filtered.head(2)\n"
   ]
  },
  {
   "cell_type": "code",
   "execution_count": 80,
   "id": "f6fbead3",
   "metadata": {},
   "outputs": [
    {
     "data": {
      "text/html": [
       "<div>\n",
       "<style scoped>\n",
       "    .dataframe tbody tr th:only-of-type {\n",
       "        vertical-align: middle;\n",
       "    }\n",
       "\n",
       "    .dataframe tbody tr th {\n",
       "        vertical-align: top;\n",
       "    }\n",
       "\n",
       "    .dataframe thead th {\n",
       "        text-align: right;\n",
       "    }\n",
       "</style>\n",
       "<table border=\"1\" class=\"dataframe\">\n",
       "  <thead>\n",
       "    <tr style=\"text-align: right;\">\n",
       "      <th></th>\n",
       "      <th>categories</th>\n",
       "      <th>upload_date</th>\n",
       "      <th>duration</th>\n",
       "      <th>like_count</th>\n",
       "      <th>dislike_count</th>\n",
       "      <th>view_count</th>\n",
       "      <th>channel_id</th>\n",
       "      <th>display_id</th>\n",
       "      <th>yearNumber</th>\n",
       "      <th>weekNumber</th>\n",
       "      <th>is_gaming</th>\n",
       "      <th>title_pos_scr</th>\n",
       "      <th>title_neg_scr</th>\n",
       "      <th>title_neu_scr</th>\n",
       "      <th>title_com_scr</th>\n",
       "      <th>pos_vid</th>\n",
       "      <th>neu_vid</th>\n",
       "      <th>neg_vid</th>\n",
       "      <th>duration_min</th>\n",
       "      <th>week_number_mean</th>\n",
       "      <th>mean_duration_min</th>\n",
       "      <th>nb_diff_cat</th>\n",
       "      <th>covered_categories</th>\n",
       "      <th>week_frequency_mean</th>\n",
       "      <th>title_com_scr_mean</th>\n",
       "      <th>title_nb_words_mean</th>\n",
       "      <th>first_person_singular</th>\n",
       "      <th>first_person_plural</th>\n",
       "      <th>second_person</th>\n",
       "      <th>third_person_singular</th>\n",
       "      <th>third_person_plural</th>\n",
       "    </tr>\n",
       "  </thead>\n",
       "  <tbody>\n",
       "    <tr>\n",
       "      <th>0</th>\n",
       "      <td>Gaming</td>\n",
       "      <td>2019-09-29</td>\n",
       "      <td>892</td>\n",
       "      <td>58.0</td>\n",
       "      <td>3.0</td>\n",
       "      <td>584.0</td>\n",
       "      <td>UCzWm1-4XF7AHxVUTkHCM1uw</td>\n",
       "      <td>M0x6TJmMwL4</td>\n",
       "      <td>2019</td>\n",
       "      <td>6</td>\n",
       "      <td>True</td>\n",
       "      <td>0.672</td>\n",
       "      <td>0.00</td>\n",
       "      <td>0.328</td>\n",
       "      <td>0.6239</td>\n",
       "      <td>True</td>\n",
       "      <td>False</td>\n",
       "      <td>False</td>\n",
       "      <td>14.866667</td>\n",
       "      <td>3</td>\n",
       "      <td>32.436631</td>\n",
       "      <td>2</td>\n",
       "      <td>[Gaming, News &amp; Politics]</td>\n",
       "      <td>1.472441</td>\n",
       "      <td>-0.019817</td>\n",
       "      <td>6.090909</td>\n",
       "      <td>0</td>\n",
       "      <td>0</td>\n",
       "      <td>0</td>\n",
       "      <td>0</td>\n",
       "      <td>0</td>\n",
       "    </tr>\n",
       "    <tr>\n",
       "      <th>1</th>\n",
       "      <td>Gaming</td>\n",
       "      <td>2019-09-22</td>\n",
       "      <td>2428</td>\n",
       "      <td>60.0</td>\n",
       "      <td>11.0</td>\n",
       "      <td>1023.0</td>\n",
       "      <td>UCzWm1-4XF7AHxVUTkHCM1uw</td>\n",
       "      <td>ofAIp6dad00</td>\n",
       "      <td>2019</td>\n",
       "      <td>6</td>\n",
       "      <td>True</td>\n",
       "      <td>0.000</td>\n",
       "      <td>0.00</td>\n",
       "      <td>1.000</td>\n",
       "      <td>0.0000</td>\n",
       "      <td>False</td>\n",
       "      <td>True</td>\n",
       "      <td>False</td>\n",
       "      <td>40.466667</td>\n",
       "      <td>3</td>\n",
       "      <td>32.436631</td>\n",
       "      <td>2</td>\n",
       "      <td>[Gaming, News &amp; Politics]</td>\n",
       "      <td>1.472441</td>\n",
       "      <td>-0.019817</td>\n",
       "      <td>6.090909</td>\n",
       "      <td>1</td>\n",
       "      <td>0</td>\n",
       "      <td>0</td>\n",
       "      <td>0</td>\n",
       "      <td>0</td>\n",
       "    </tr>\n",
       "    <tr>\n",
       "      <th>2</th>\n",
       "      <td>Gaming</td>\n",
       "      <td>2019-09-20</td>\n",
       "      <td>18</td>\n",
       "      <td>32.0</td>\n",
       "      <td>0.0</td>\n",
       "      <td>2000.0</td>\n",
       "      <td>UCzWm1-4XF7AHxVUTkHCM1uw</td>\n",
       "      <td>cXHRNThI27A</td>\n",
       "      <td>2019</td>\n",
       "      <td>4</td>\n",
       "      <td>True</td>\n",
       "      <td>0.000</td>\n",
       "      <td>0.00</td>\n",
       "      <td>1.000</td>\n",
       "      <td>0.0000</td>\n",
       "      <td>False</td>\n",
       "      <td>True</td>\n",
       "      <td>False</td>\n",
       "      <td>0.300000</td>\n",
       "      <td>3</td>\n",
       "      <td>32.436631</td>\n",
       "      <td>2</td>\n",
       "      <td>[Gaming, News &amp; Politics]</td>\n",
       "      <td>1.472441</td>\n",
       "      <td>-0.019817</td>\n",
       "      <td>6.090909</td>\n",
       "      <td>0</td>\n",
       "      <td>0</td>\n",
       "      <td>0</td>\n",
       "      <td>0</td>\n",
       "      <td>0</td>\n",
       "    </tr>\n",
       "    <tr>\n",
       "      <th>3</th>\n",
       "      <td>Gaming</td>\n",
       "      <td>2019-09-17</td>\n",
       "      <td>587</td>\n",
       "      <td>311.0</td>\n",
       "      <td>116.0</td>\n",
       "      <td>5102.0</td>\n",
       "      <td>UCzWm1-4XF7AHxVUTkHCM1uw</td>\n",
       "      <td>cDSo3mUNEEM</td>\n",
       "      <td>2019</td>\n",
       "      <td>1</td>\n",
       "      <td>True</td>\n",
       "      <td>0.000</td>\n",
       "      <td>0.73</td>\n",
       "      <td>0.270</td>\n",
       "      <td>-0.8957</td>\n",
       "      <td>False</td>\n",
       "      <td>False</td>\n",
       "      <td>True</td>\n",
       "      <td>9.783333</td>\n",
       "      <td>3</td>\n",
       "      <td>32.436631</td>\n",
       "      <td>2</td>\n",
       "      <td>[Gaming, News &amp; Politics]</td>\n",
       "      <td>1.472441</td>\n",
       "      <td>-0.019817</td>\n",
       "      <td>6.090909</td>\n",
       "      <td>0</td>\n",
       "      <td>0</td>\n",
       "      <td>0</td>\n",
       "      <td>0</td>\n",
       "      <td>0</td>\n",
       "    </tr>\n",
       "    <tr>\n",
       "      <th>4</th>\n",
       "      <td>Gaming</td>\n",
       "      <td>2019-09-13</td>\n",
       "      <td>220</td>\n",
       "      <td>35.0</td>\n",
       "      <td>3.0</td>\n",
       "      <td>300.0</td>\n",
       "      <td>UCzWm1-4XF7AHxVUTkHCM1uw</td>\n",
       "      <td>rJmT1Rq24qE</td>\n",
       "      <td>2019</td>\n",
       "      <td>4</td>\n",
       "      <td>True</td>\n",
       "      <td>0.198</td>\n",
       "      <td>0.00</td>\n",
       "      <td>0.802</td>\n",
       "      <td>0.5719</td>\n",
       "      <td>True</td>\n",
       "      <td>False</td>\n",
       "      <td>False</td>\n",
       "      <td>3.666667</td>\n",
       "      <td>3</td>\n",
       "      <td>32.436631</td>\n",
       "      <td>2</td>\n",
       "      <td>[Gaming, News &amp; Politics]</td>\n",
       "      <td>1.472441</td>\n",
       "      <td>-0.019817</td>\n",
       "      <td>6.090909</td>\n",
       "      <td>1</td>\n",
       "      <td>0</td>\n",
       "      <td>0</td>\n",
       "      <td>0</td>\n",
       "      <td>0</td>\n",
       "    </tr>\n",
       "  </tbody>\n",
       "</table>\n",
       "</div>"
      ],
      "text/plain": [
       "  categories upload_date  duration  like_count  dislike_count  view_count  \\\n",
       "0     Gaming  2019-09-29       892        58.0            3.0       584.0   \n",
       "1     Gaming  2019-09-22      2428        60.0           11.0      1023.0   \n",
       "2     Gaming  2019-09-20        18        32.0            0.0      2000.0   \n",
       "3     Gaming  2019-09-17       587       311.0          116.0      5102.0   \n",
       "4     Gaming  2019-09-13       220        35.0            3.0       300.0   \n",
       "\n",
       "                 channel_id   display_id  yearNumber  weekNumber  is_gaming  \\\n",
       "0  UCzWm1-4XF7AHxVUTkHCM1uw  M0x6TJmMwL4        2019           6       True   \n",
       "1  UCzWm1-4XF7AHxVUTkHCM1uw  ofAIp6dad00        2019           6       True   \n",
       "2  UCzWm1-4XF7AHxVUTkHCM1uw  cXHRNThI27A        2019           4       True   \n",
       "3  UCzWm1-4XF7AHxVUTkHCM1uw  cDSo3mUNEEM        2019           1       True   \n",
       "4  UCzWm1-4XF7AHxVUTkHCM1uw  rJmT1Rq24qE        2019           4       True   \n",
       "\n",
       "   title_pos_scr  title_neg_scr  title_neu_scr  title_com_scr  pos_vid  \\\n",
       "0          0.672           0.00          0.328         0.6239     True   \n",
       "1          0.000           0.00          1.000         0.0000    False   \n",
       "2          0.000           0.00          1.000         0.0000    False   \n",
       "3          0.000           0.73          0.270        -0.8957    False   \n",
       "4          0.198           0.00          0.802         0.5719     True   \n",
       "\n",
       "   neu_vid  neg_vid  duration_min  week_number_mean  mean_duration_min  \\\n",
       "0    False    False     14.866667                 3          32.436631   \n",
       "1     True    False     40.466667                 3          32.436631   \n",
       "2     True    False      0.300000                 3          32.436631   \n",
       "3    False     True      9.783333                 3          32.436631   \n",
       "4    False    False      3.666667                 3          32.436631   \n",
       "\n",
       "   nb_diff_cat         covered_categories  week_frequency_mean  \\\n",
       "0            2  [Gaming, News & Politics]             1.472441   \n",
       "1            2  [Gaming, News & Politics]             1.472441   \n",
       "2            2  [Gaming, News & Politics]             1.472441   \n",
       "3            2  [Gaming, News & Politics]             1.472441   \n",
       "4            2  [Gaming, News & Politics]             1.472441   \n",
       "\n",
       "   title_com_scr_mean  title_nb_words_mean  first_person_singular  \\\n",
       "0           -0.019817             6.090909                      0   \n",
       "1           -0.019817             6.090909                      1   \n",
       "2           -0.019817             6.090909                      0   \n",
       "3           -0.019817             6.090909                      0   \n",
       "4           -0.019817             6.090909                      1   \n",
       "\n",
       "   first_person_plural  second_person  third_person_singular  \\\n",
       "0                    0              0                      0   \n",
       "1                    0              0                      0   \n",
       "2                    0              0                      0   \n",
       "3                    0              0                      0   \n",
       "4                    0              0                      0   \n",
       "\n",
       "   third_person_plural  \n",
       "0                    0  \n",
       "1                    0  \n",
       "2                    0  \n",
       "3                    0  \n",
       "4                    0  "
      ]
     },
     "execution_count": 80,
     "metadata": {},
     "output_type": "execute_result"
    }
   ],
   "source": [
    "full_metadatas = video_metadatas\n",
    "pd.options.display.max_columns = None\n",
    "full_metadatas.head()\n"
   ]
  },
  {
   "cell_type": "code",
   "execution_count": 81,
   "id": "f4b93625",
   "metadata": {},
   "outputs": [],
   "source": [
    "full_metadatas = pd.merge(df_channels_filtered, full_metadatas, on=\"channel_id\")\n"
   ]
  },
  {
   "cell_type": "code",
   "execution_count": 82,
   "id": "c0f11aae",
   "metadata": {},
   "outputs": [
    {
     "data": {
      "text/html": [
       "<div>\n",
       "<style scoped>\n",
       "    .dataframe tbody tr th:only-of-type {\n",
       "        vertical-align: middle;\n",
       "    }\n",
       "\n",
       "    .dataframe tbody tr th {\n",
       "        vertical-align: top;\n",
       "    }\n",
       "\n",
       "    .dataframe thead th {\n",
       "        text-align: right;\n",
       "    }\n",
       "</style>\n",
       "<table border=\"1\" class=\"dataframe\">\n",
       "  <thead>\n",
       "    <tr style=\"text-align: right;\">\n",
       "      <th></th>\n",
       "      <th>channel_id</th>\n",
       "      <th>subscriber_rank_sb</th>\n",
       "      <th>videos_cc</th>\n",
       "      <th>categories</th>\n",
       "      <th>upload_date</th>\n",
       "      <th>duration</th>\n",
       "      <th>like_count</th>\n",
       "      <th>dislike_count</th>\n",
       "      <th>view_count</th>\n",
       "      <th>display_id</th>\n",
       "      <th>yearNumber</th>\n",
       "      <th>weekNumber</th>\n",
       "      <th>is_gaming</th>\n",
       "      <th>title_pos_scr</th>\n",
       "      <th>title_neg_scr</th>\n",
       "      <th>title_neu_scr</th>\n",
       "      <th>title_com_scr</th>\n",
       "      <th>pos_vid</th>\n",
       "      <th>neu_vid</th>\n",
       "      <th>neg_vid</th>\n",
       "      <th>duration_min</th>\n",
       "      <th>week_number_mean</th>\n",
       "      <th>mean_duration_min</th>\n",
       "      <th>nb_diff_cat</th>\n",
       "      <th>covered_categories</th>\n",
       "      <th>week_frequency_mean</th>\n",
       "      <th>title_com_scr_mean</th>\n",
       "      <th>title_nb_words_mean</th>\n",
       "      <th>first_person_singular</th>\n",
       "      <th>first_person_plural</th>\n",
       "      <th>second_person</th>\n",
       "      <th>third_person_singular</th>\n",
       "      <th>third_person_plural</th>\n",
       "    </tr>\n",
       "  </thead>\n",
       "  <tbody>\n",
       "    <tr>\n",
       "      <th>0</th>\n",
       "      <td>UCEdvpU2pFRCVqU6yIPyTpMQ</td>\n",
       "      <td>18.0</td>\n",
       "      <td>366</td>\n",
       "      <td>Music</td>\n",
       "      <td>2019-09-25</td>\n",
       "      <td>67</td>\n",
       "      <td>19158.0</td>\n",
       "      <td>406.0</td>\n",
       "      <td>356370.0</td>\n",
       "      <td>j8vXlZcWydI</td>\n",
       "      <td>2019</td>\n",
       "      <td>2</td>\n",
       "      <td>False</td>\n",
       "      <td>0.355</td>\n",
       "      <td>0.0</td>\n",
       "      <td>0.645</td>\n",
       "      <td>0.6705</td>\n",
       "      <td>True</td>\n",
       "      <td>False</td>\n",
       "      <td>False</td>\n",
       "      <td>1.116667</td>\n",
       "      <td>2</td>\n",
       "      <td>3.623577</td>\n",
       "      <td>8</td>\n",
       "      <td>[Music, Entertainment, Howto &amp; Style, Gaming, ...</td>\n",
       "      <td>2.58042</td>\n",
       "      <td>0.105691</td>\n",
       "      <td>8.663957</td>\n",
       "      <td>0</td>\n",
       "      <td>0</td>\n",
       "      <td>0</td>\n",
       "      <td>0</td>\n",
       "      <td>0</td>\n",
       "    </tr>\n",
       "    <tr>\n",
       "      <th>1</th>\n",
       "      <td>UCEdvpU2pFRCVqU6yIPyTpMQ</td>\n",
       "      <td>18.0</td>\n",
       "      <td>366</td>\n",
       "      <td>Music</td>\n",
       "      <td>2019-09-24</td>\n",
       "      <td>109</td>\n",
       "      <td>14922.0</td>\n",
       "      <td>354.0</td>\n",
       "      <td>292894.0</td>\n",
       "      <td>IkzyCx9hlFs</td>\n",
       "      <td>2019</td>\n",
       "      <td>1</td>\n",
       "      <td>False</td>\n",
       "      <td>0.000</td>\n",
       "      <td>0.0</td>\n",
       "      <td>1.000</td>\n",
       "      <td>0.0000</td>\n",
       "      <td>False</td>\n",
       "      <td>True</td>\n",
       "      <td>False</td>\n",
       "      <td>1.816667</td>\n",
       "      <td>2</td>\n",
       "      <td>3.623577</td>\n",
       "      <td>8</td>\n",
       "      <td>[Music, Entertainment, Howto &amp; Style, Gaming, ...</td>\n",
       "      <td>2.58042</td>\n",
       "      <td>0.105691</td>\n",
       "      <td>8.663957</td>\n",
       "      <td>0</td>\n",
       "      <td>0</td>\n",
       "      <td>0</td>\n",
       "      <td>0</td>\n",
       "      <td>0</td>\n",
       "    </tr>\n",
       "  </tbody>\n",
       "</table>\n",
       "</div>"
      ],
      "text/plain": [
       "                 channel_id  subscriber_rank_sb  videos_cc categories  \\\n",
       "0  UCEdvpU2pFRCVqU6yIPyTpMQ                18.0        366      Music   \n",
       "1  UCEdvpU2pFRCVqU6yIPyTpMQ                18.0        366      Music   \n",
       "\n",
       "  upload_date  duration  like_count  dislike_count  view_count   display_id  \\\n",
       "0  2019-09-25        67     19158.0          406.0    356370.0  j8vXlZcWydI   \n",
       "1  2019-09-24       109     14922.0          354.0    292894.0  IkzyCx9hlFs   \n",
       "\n",
       "   yearNumber  weekNumber  is_gaming  title_pos_scr  title_neg_scr  \\\n",
       "0        2019           2      False          0.355            0.0   \n",
       "1        2019           1      False          0.000            0.0   \n",
       "\n",
       "   title_neu_scr  title_com_scr  pos_vid  neu_vid  neg_vid  duration_min  \\\n",
       "0          0.645         0.6705     True    False    False      1.116667   \n",
       "1          1.000         0.0000    False     True    False      1.816667   \n",
       "\n",
       "   week_number_mean  mean_duration_min  nb_diff_cat  \\\n",
       "0                 2           3.623577            8   \n",
       "1                 2           3.623577            8   \n",
       "\n",
       "                                  covered_categories  week_frequency_mean  \\\n",
       "0  [Music, Entertainment, Howto & Style, Gaming, ...              2.58042   \n",
       "1  [Music, Entertainment, Howto & Style, Gaming, ...              2.58042   \n",
       "\n",
       "   title_com_scr_mean  title_nb_words_mean  first_person_singular  \\\n",
       "0            0.105691             8.663957                      0   \n",
       "1            0.105691             8.663957                      0   \n",
       "\n",
       "   first_person_plural  second_person  third_person_singular  \\\n",
       "0                    0              0                      0   \n",
       "1                    0              0                      0   \n",
       "\n",
       "   third_person_plural  \n",
       "0                    0  \n",
       "1                    0  "
      ]
     },
     "execution_count": 82,
     "metadata": {},
     "output_type": "execute_result"
    }
   ],
   "source": [
    "full_metadatas.head(2)\n"
   ]
  },
  {
   "cell_type": "code",
   "execution_count": 83,
   "id": "f60b7190",
   "metadata": {},
   "outputs": [],
   "source": [
    "dataset = full_metadatas.groupby(\"channel_id\").apply(\n",
    "    lambda group: pd.DataFrame(\n",
    "        {\n",
    "            \"subscriber_rank_sb\": group.subscriber_rank_sb.mean(),\n",
    "            \"videos_cc\": group.videos_cc.mean(),\n",
    "            \"week_number_mean\": group.week_number_mean.values[0],\n",
    "            \"mean_duration_min\": group.mean_duration_min.values[0],\n",
    "            \"nb_diff_cat\": group.nb_diff_cat.values[0],\n",
    "            \"covered_categories\": group.covered_categories.to_frame().values[0],\n",
    "            \"week_frequency_mean\": group.week_frequency_mean.values[0],\n",
    "            \"title_com_scr_mean\": group.title_com_scr_mean.values[0],\n",
    "            \"title_nb_words_mean\": group.title_nb_words_mean.values[0],\n",
    "            \"first_person_singular_mean\": group.first_person_singular.mean(),\n",
    "            \"first_person_plural_mean\": group.first_person_plural.mean(),\n",
    "            \"second_person_mean\": group.second_person.mean(),\n",
    "            \"third_person_singular_mean\": group.third_person_singular.mean(),\n",
    "            \"third_person_plural_mean\": group.third_person_plural.mean(),\n",
    "        }\n",
    "    )\n",
    ")\n"
   ]
  },
  {
   "cell_type": "code",
   "execution_count": 85,
   "id": "ceda8c52",
   "metadata": {},
   "outputs": [],
   "source": [
    "data = pd.get_dummies(video_metadatas[\"weekNumber\"], prefix=\"day\").sum()\n",
    "day = [\"Mon\", \"Tue\", \"Wed\", \"Thu\", \"Fri\", \"Sat\", \"Sun\"]\n"
   ]
  },
  {
   "cell_type": "code",
   "execution_count": 86,
   "id": "663fa251",
   "metadata": {},
   "outputs": [
    {
     "data": {
      "text/plain": [
       "Text(0.5, 1.0, 'The Number of Videos Uploaded on each Weekday')"
      ]
     },
     "execution_count": 86,
     "metadata": {},
     "output_type": "execute_result"
    },
    {
     "data": {
      "image/png": "[encoded data removed]",
      "text/plain": [
       "<Figure size 720x360 with 1 Axes>"
      ]
     },
     "metadata": {
      "needs_background": "light"
     },
     "output_type": "display_data"
    }
   ],
   "source": [
    "plt.figure(figsize=(10, 5))\n",
    "plt.bar(day, list(data))\n",
    "plt.xlabel(\"Weekday\")\n",
    "plt.ylabel(\"Number of Videos\")\n",
    "plt.title(\"The Number of Videos Uploaded on each Weekday\")\n"
   ]
  },
  {
   "cell_type": "markdown",
   "id": "2628ecd5",
   "metadata": {},
   "source": [
    "on average most of the upload dates are on Thursday or Wednesday \n"
   ]
  },
  {
   "cell_type": "code",
   "execution_count": 87,
   "id": "9ad62ce6",
   "metadata": {},
   "outputs": [
    {
     "data": {
      "text/plain": [
       "<AxesSubplot:>"
      ]
     },
     "execution_count": 87,
     "metadata": {},
     "output_type": "execute_result"
    },
    {
     "data": {
      "image/png": "[encoded data removed]",
      "text/plain": [
       "<Figure size 432x288 with 1 Axes>"
      ]
     },
     "metadata": {
      "needs_background": "light"
     },
     "output_type": "display_data"
    }
   ],
   "source": [
    "dataset.week_number_mean.value_counts().plot(kind=\"bar\")\n"
   ]
  },
  {
   "cell_type": "markdown",
   "id": "9a77eb5d",
   "metadata": {},
   "source": [
    "### Try to find meaningful features for well ranked channels (rank < 30 000)\n"
   ]
  },
  {
   "cell_type": "code",
   "execution_count": 88,
   "id": "6b7d53db",
   "metadata": {},
   "outputs": [
    {
     "data": {
      "text/plain": [
       "364596.0"
      ]
     },
     "execution_count": 88,
     "metadata": {},
     "output_type": "execute_result"
    }
   ],
   "source": [
    "dataset.subscriber_rank_sb.median()\n"
   ]
  },
  {
   "cell_type": "code",
   "execution_count": 89,
   "id": "25667ba9",
   "metadata": {},
   "outputs": [],
   "source": [
    "dataset[\"well_ranked\"] = np.where(dataset.subscriber_rank_sb < 30_000, 1, 0)\n"
   ]
  },
  {
   "cell_type": "code",
   "execution_count": 90,
   "id": "93af0665",
   "metadata": {},
   "outputs": [
    {
     "data": {
      "text/html": [
       "<div>\n",
       "<style scoped>\n",
       "    .dataframe tbody tr th:only-of-type {\n",
       "        vertical-align: middle;\n",
       "    }\n",
       "\n",
       "    .dataframe tbody tr th {\n",
       "        vertical-align: top;\n",
       "    }\n",
       "\n",
       "    .dataframe thead th {\n",
       "        text-align: right;\n",
       "    }\n",
       "</style>\n",
       "<table border=\"1\" class=\"dataframe\">\n",
       "  <thead>\n",
       "    <tr style=\"text-align: right;\">\n",
       "      <th></th>\n",
       "      <th></th>\n",
       "      <th>subscriber_rank_sb</th>\n",
       "      <th>videos_cc</th>\n",
       "      <th>week_number_mean</th>\n",
       "      <th>mean_duration_min</th>\n",
       "      <th>nb_diff_cat</th>\n",
       "      <th>covered_categories</th>\n",
       "      <th>week_frequency_mean</th>\n",
       "      <th>title_com_scr_mean</th>\n",
       "      <th>title_nb_words_mean</th>\n",
       "      <th>first_person_singular_mean</th>\n",
       "      <th>first_person_plural_mean</th>\n",
       "      <th>second_person_mean</th>\n",
       "      <th>third_person_singular_mean</th>\n",
       "      <th>third_person_plural_mean</th>\n",
       "      <th>well_ranked</th>\n",
       "    </tr>\n",
       "    <tr>\n",
       "      <th>channel_id</th>\n",
       "      <th></th>\n",
       "      <th></th>\n",
       "      <th></th>\n",
       "      <th></th>\n",
       "      <th></th>\n",
       "      <th></th>\n",
       "      <th></th>\n",
       "      <th></th>\n",
       "      <th></th>\n",
       "      <th></th>\n",
       "      <th></th>\n",
       "      <th></th>\n",
       "      <th></th>\n",
       "      <th></th>\n",
       "      <th></th>\n",
       "      <th></th>\n",
       "    </tr>\n",
       "  </thead>\n",
       "  <tbody>\n",
       "    <tr>\n",
       "      <th>UCutLak8iD_JjUotNmPfInVw</th>\n",
       "      <th>0</th>\n",
       "      <td>540008.0</td>\n",
       "      <td>338.0</td>\n",
       "      <td>3</td>\n",
       "      <td>8.619753</td>\n",
       "      <td>1</td>\n",
       "      <td>[Gaming]</td>\n",
       "      <td>1.588235</td>\n",
       "      <td>0.044727</td>\n",
       "      <td>9.422222</td>\n",
       "      <td>0.003704</td>\n",
       "      <td>0.003704</td>\n",
       "      <td>0.003704</td>\n",
       "      <td>0.0</td>\n",
       "      <td>0.0</td>\n",
       "      <td>0</td>\n",
       "    </tr>\n",
       "  </tbody>\n",
       "</table>\n",
       "</div>"
      ],
      "text/plain": [
       "                            subscriber_rank_sb  videos_cc  week_number_mean  \\\n",
       "channel_id                                                                    \n",
       "UCutLak8iD_JjUotNmPfInVw 0            540008.0      338.0                 3   \n",
       "\n",
       "                            mean_duration_min  nb_diff_cat covered_categories  \\\n",
       "channel_id                                                                      \n",
       "UCutLak8iD_JjUotNmPfInVw 0           8.619753            1           [Gaming]   \n",
       "\n",
       "                            week_frequency_mean  title_com_scr_mean  \\\n",
       "channel_id                                                            \n",
       "UCutLak8iD_JjUotNmPfInVw 0             1.588235            0.044727   \n",
       "\n",
       "                            title_nb_words_mean  first_person_singular_mean  \\\n",
       "channel_id                                                                    \n",
       "UCutLak8iD_JjUotNmPfInVw 0             9.422222                    0.003704   \n",
       "\n",
       "                            first_person_plural_mean  second_person_mean  \\\n",
       "channel_id                                                                 \n",
       "UCutLak8iD_JjUotNmPfInVw 0                  0.003704            0.003704   \n",
       "\n",
       "                            third_person_singular_mean  \\\n",
       "channel_id                                               \n",
       "UCutLak8iD_JjUotNmPfInVw 0                         0.0   \n",
       "\n",
       "                            third_person_plural_mean  well_ranked  \n",
       "channel_id                                                         \n",
       "UCutLak8iD_JjUotNmPfInVw 0                       0.0            0  "
      ]
     },
     "execution_count": 90,
     "metadata": {},
     "output_type": "execute_result"
    }
   ],
   "source": [
    "dataset.sample()\n"
   ]
  },
  {
   "cell_type": "markdown",
   "id": "3ce5f699",
   "metadata": {},
   "source": [
    "### Using random forest tree with over sampling\n"
   ]
  },
  {
   "cell_type": "code",
   "execution_count": 91,
   "id": "a08ffd91",
   "metadata": {},
   "outputs": [],
   "source": [
    "# Use over sampling technique\n",
    "from imblearn.over_sampling import SMOTE\n",
    "\n",
    "X = dataset.loc[\n",
    "    :,\n",
    "    [\n",
    "        \"videos_cc\",\n",
    "        \"week_number_mean\",\n",
    "        \"nb_diff_cat\",\n",
    "        \"title_com_scr_mean\",\n",
    "        \"title_nb_words_mean\",\n",
    "        \"week_frequency_mean\",\n",
    "        \"mean_duration_min\",\n",
    "    ],\n",
    "]\n",
    "y = dataset.loc[:, [\"well_ranked\"]]\n",
    "\n",
    "sm = SMOTE(random_state=42)\n",
    "X_res, y_res = sm.fit_resample(X, y)\n"
   ]
  },
  {
   "cell_type": "code",
   "execution_count": 92,
   "id": "5f27cd12",
   "metadata": {},
   "outputs": [],
   "source": [
    "X_train, X_test, y_train, y_test = train_test_split(\n",
    "    X_res, y_res, test_size=0.2, random_state=42\n",
    ")\n"
   ]
  },
  {
   "cell_type": "code",
   "execution_count": 93,
   "id": "f66d7c13",
   "metadata": {},
   "outputs": [
    {
     "name": "stdout",
     "output_type": "stream",
     "text": [
      "The test set has an accuracy of 0.902, a precision of 0.882 and a F1 score of 0.905.\n"
     ]
    }
   ],
   "source": [
    "rft = RandomForestClassifier(class_weight=\"balanced_subsample\")\n",
    "rft.fit(X_train, y_train)\n",
    "prediction = rft.predict(X_test)\n",
    "test_acc = metrics.accuracy_score(y_test, prediction)\n",
    "test_precision = metrics.precision_score(y_test, prediction)\n",
    "f1_score = metrics.f1_score(y_test, prediction)\n",
    "print(\n",
    "    \"The test set has an accuracy of {:.3f}, a precision of {:.3f} and a F1 score of {:.3f}.\".format(\n",
    "        test_acc, test_precision, f1_score\n",
    "    )\n",
    ")\n"
   ]
  },
  {
   "cell_type": "markdown",
   "id": "eb0cca75",
   "metadata": {},
   "source": [
    "### Using k nearest neighbour\n"
   ]
  },
  {
   "cell_type": "code",
   "execution_count": 94,
   "id": "42f36e39",
   "metadata": {},
   "outputs": [
    {
     "name": "stdout",
     "output_type": "stream",
     "text": [
      "Accuracy : 0.886\n",
      "Precision : 0.839\n",
      "F1 Score : 0.894\n"
     ]
    }
   ],
   "source": [
    "neigh = KNeighborsClassifier(n_neighbors=1)\n",
    "neigh.fit(X_train, y_train)\n",
    "y_pred = neigh.predict(X_test)\n",
    "print(\"Accuracy : {:.3f}\".format(metrics.accuracy_score(y_test, y_pred)))\n",
    "print(\"Precision : {:.3f}\".format(metrics.precision_score(y_test, y_pred)))\n",
    "print(\"F1 Score : {:.3f}\".format(metrics.f1_score(y_test, y_pred)))\n"
   ]
  },
  {
   "cell_type": "code",
   "execution_count": 98,
   "id": "6b4bdbda",
   "metadata": {},
   "outputs": [],
   "source": [
    "# divide the dataset into 2 parts, the ones with subs ranking less than the\n",
    "# median of the subs ranking column and the ones with more than this value\n",
    "big_channels = dataset[\n",
    "    dataset.subscriber_rank_sb <= dataset.subscriber_rank_sb.median()\n",
    "]\n",
    "small_channels = dataset[\n",
    "    dataset.subscriber_rank_sb > dataset.subscriber_rank_sb.median()\n",
    "]\n",
    "\n",
    "big_channels.mean_duration_min = round(big_channels.mean_duration_min, 0)\n",
    "small_channels.mean_duration_min = round(small_channels.mean_duration_min, 0)\n"
   ]
  },
  {
   "cell_type": "code",
   "execution_count": 99,
   "id": "2978f23e",
   "metadata": {},
   "outputs": [
    {
     "data": {
      "text/html": [
       "<div>\n",
       "<style scoped>\n",
       "    .dataframe tbody tr th:only-of-type {\n",
       "        vertical-align: middle;\n",
       "    }\n",
       "\n",
       "    .dataframe tbody tr th {\n",
       "        vertical-align: top;\n",
       "    }\n",
       "\n",
       "    .dataframe thead th {\n",
       "        text-align: right;\n",
       "    }\n",
       "</style>\n",
       "<table border=\"1\" class=\"dataframe\">\n",
       "  <thead>\n",
       "    <tr style=\"text-align: right;\">\n",
       "      <th></th>\n",
       "      <th></th>\n",
       "      <th>subscriber_rank_sb</th>\n",
       "      <th>videos_cc</th>\n",
       "      <th>week_number_mean</th>\n",
       "      <th>mean_duration_min</th>\n",
       "      <th>nb_diff_cat</th>\n",
       "      <th>covered_categories</th>\n",
       "      <th>week_frequency_mean</th>\n",
       "      <th>title_com_scr_mean</th>\n",
       "      <th>title_nb_words_mean</th>\n",
       "      <th>first_person_singular_mean</th>\n",
       "      <th>first_person_plural_mean</th>\n",
       "      <th>second_person_mean</th>\n",
       "      <th>third_person_singular_mean</th>\n",
       "      <th>third_person_plural_mean</th>\n",
       "      <th>well_ranked</th>\n",
       "    </tr>\n",
       "    <tr>\n",
       "      <th>channel_id</th>\n",
       "      <th></th>\n",
       "      <th></th>\n",
       "      <th></th>\n",
       "      <th></th>\n",
       "      <th></th>\n",
       "      <th></th>\n",
       "      <th></th>\n",
       "      <th></th>\n",
       "      <th></th>\n",
       "      <th></th>\n",
       "      <th></th>\n",
       "      <th></th>\n",
       "      <th></th>\n",
       "      <th></th>\n",
       "      <th></th>\n",
       "      <th></th>\n",
       "    </tr>\n",
       "  </thead>\n",
       "  <tbody>\n",
       "    <tr>\n",
       "      <th>UC-0xJTkutOCoRoBi3YOkHRg</th>\n",
       "      <th>0</th>\n",
       "      <td>195085.0</td>\n",
       "      <td>111.0</td>\n",
       "      <td>3</td>\n",
       "      <td>6.0</td>\n",
       "      <td>4</td>\n",
       "      <td>[Gaming, Film &amp; Animation, Music, Entertainment]</td>\n",
       "      <td>2.511111</td>\n",
       "      <td>0.067984</td>\n",
       "      <td>8.884956</td>\n",
       "      <td>0.097345</td>\n",
       "      <td>0.000000</td>\n",
       "      <td>0.088496</td>\n",
       "      <td>0.008850</td>\n",
       "      <td>0.008850</td>\n",
       "      <td>0</td>\n",
       "    </tr>\n",
       "    <tr>\n",
       "      <th>UC-10uJUkzxSXa9sEtV67YcA</th>\n",
       "      <th>0</th>\n",
       "      <td>154349.0</td>\n",
       "      <td>562.0</td>\n",
       "      <td>2</td>\n",
       "      <td>25.0</td>\n",
       "      <td>7</td>\n",
       "      <td>[Gaming, Entertainment, People &amp; Blogs, Travel...</td>\n",
       "      <td>3.760000</td>\n",
       "      <td>0.100178</td>\n",
       "      <td>9.418440</td>\n",
       "      <td>0.092199</td>\n",
       "      <td>0.008865</td>\n",
       "      <td>0.023050</td>\n",
       "      <td>0.008865</td>\n",
       "      <td>0.003546</td>\n",
       "      <td>0</td>\n",
       "    </tr>\n",
       "  </tbody>\n",
       "</table>\n",
       "</div>"
      ],
      "text/plain": [
       "                            subscriber_rank_sb  videos_cc  week_number_mean  \\\n",
       "channel_id                                                                    \n",
       "UC-0xJTkutOCoRoBi3YOkHRg 0            195085.0      111.0                 3   \n",
       "UC-10uJUkzxSXa9sEtV67YcA 0            154349.0      562.0                 2   \n",
       "\n",
       "                            mean_duration_min  nb_diff_cat  \\\n",
       "channel_id                                                   \n",
       "UC-0xJTkutOCoRoBi3YOkHRg 0                6.0            4   \n",
       "UC-10uJUkzxSXa9sEtV67YcA 0               25.0            7   \n",
       "\n",
       "                                                           covered_categories  \\\n",
       "channel_id                                                                      \n",
       "UC-0xJTkutOCoRoBi3YOkHRg 0   [Gaming, Film & Animation, Music, Entertainment]   \n",
       "UC-10uJUkzxSXa9sEtV67YcA 0  [Gaming, Entertainment, People & Blogs, Travel...   \n",
       "\n",
       "                            week_frequency_mean  title_com_scr_mean  \\\n",
       "channel_id                                                            \n",
       "UC-0xJTkutOCoRoBi3YOkHRg 0             2.511111            0.067984   \n",
       "UC-10uJUkzxSXa9sEtV67YcA 0             3.760000            0.100178   \n",
       "\n",
       "                            title_nb_words_mean  first_person_singular_mean  \\\n",
       "channel_id                                                                    \n",
       "UC-0xJTkutOCoRoBi3YOkHRg 0             8.884956                    0.097345   \n",
       "UC-10uJUkzxSXa9sEtV67YcA 0             9.418440                    0.092199   \n",
       "\n",
       "                            first_person_plural_mean  second_person_mean  \\\n",
       "channel_id                                                                 \n",
       "UC-0xJTkutOCoRoBi3YOkHRg 0                  0.000000            0.088496   \n",
       "UC-10uJUkzxSXa9sEtV67YcA 0                  0.008865            0.023050   \n",
       "\n",
       "                            third_person_singular_mean  \\\n",
       "channel_id                                               \n",
       "UC-0xJTkutOCoRoBi3YOkHRg 0                    0.008850   \n",
       "UC-10uJUkzxSXa9sEtV67YcA 0                    0.008865   \n",
       "\n",
       "                            third_person_plural_mean  well_ranked  \n",
       "channel_id                                                         \n",
       "UC-0xJTkutOCoRoBi3YOkHRg 0                  0.008850            0  \n",
       "UC-10uJUkzxSXa9sEtV67YcA 0                  0.003546            0  "
      ]
     },
     "execution_count": 99,
     "metadata": {},
     "output_type": "execute_result"
    }
   ],
   "source": [
    "big_channels.head(2)\n"
   ]
  },
  {
   "cell_type": "markdown",
   "id": "5d89b4e0",
   "metadata": {},
   "source": [
    "## Sub-Question 4\n",
    "\n",
    "**Description:** What are the most common topics in the category?\n",
    "**Method:** The yt_metadata_en.jsonl.gz dataset will be used to get a list of tags of each video according to its category. It is further split and classified according to the topics that occur most frequently. This way, we get the most used keywords in each video category and therefore the most popular topics.  \n",
    "**Timeline:** By 15/12/2022\n"
   ]
  },
  {
   "cell_type": "markdown",
   "id": "d05fe80c",
   "metadata": {},
   "source": [
    "To start with, we will try to determine the common topics across all videos. This is done by performining topic detection using titles and tags of all selected videos.\n"
   ]
  },
  {
   "cell_type": "code",
   "execution_count": 100,
   "id": "25585b7f",
   "metadata": {},
   "outputs": [],
   "source": [
    "import gensim\n",
    "from gensim.models.phrases import Phrases\n",
    "from gensim.corpora import Dictionary\n",
    "from gensim.models import LdaMulticore\n",
    "import pyLDAvis.gensim_models\n"
   ]
  },
  {
   "cell_type": "code",
   "execution_count": 101,
   "id": "4e8e5caa",
   "metadata": {},
   "outputs": [],
   "source": [
    "# in the topic_detection function, we will perform:\n",
    "# - initial data cleaning\n",
    "# - lemmatization\n",
    "# - stop words removal\n",
    "# - adding bigrams\n",
    "# - filter out frequent and rare words\n",
    "# - bag-of-words representation of the documents\n",
    "\n",
    "\n",
    "def topic_detection(dataset, datatype):\n",
    "    if datatype == \"title\":\n",
    "        new_list = []\n",
    "        # replace all underslash to space\n",
    "        for x in dataset:\n",
    "            new_text = x.replace(\"_\", \" \")\n",
    "            new_text = new_text.replace(\"__\", \" \")\n",
    "            new_text = new_text.replace(\"•\", \" \")\n",
    "            new_list.append(new_text.lower())\n",
    "\n",
    "    if datatype == \"tag\":\n",
    "        new_list = []\n",
    "        for x in dataset:\n",
    "            step1 = x.replace(\",\", \", \")\n",
    "            new_list.append(step1.lower())\n",
    "\n",
    "    STOPWORDS = spacy.lang.en.stop_words.STOP_WORDS\n",
    "\n",
    "    processed_docs = list()\n",
    "    for doc in nlp.pipe(new_list, n_process=5, batch_size=10):\n",
    "\n",
    "        # Process document using Spacy NLP pipeline.\n",
    "        ents = doc.ents  # Named entities\n",
    "\n",
    "        # Keep only words (no numbers, no punctuation).\n",
    "        # Lemmatize tokens, to lowercase, remove punctuation and remove stopwords.\n",
    "        doc = [token.lemma_ for token in doc if token.is_alpha and not token.is_stop]\n",
    "\n",
    "        # Remove common words from a stopword list and keep only words of length 2 or more.\n",
    "        doc = [token for token in doc if token not in STOPWORDS and len(token) > 1]\n",
    "\n",
    "        # Add named entities, but only if they are a compound of more than word.\n",
    "        doc.extend([str(entity) for entity in ents if len(entity) > 1])\n",
    "\n",
    "        processed_docs.append(doc)\n",
    "\n",
    "    docs = processed_docs\n",
    "    del processed_docs\n",
    "\n",
    "    # Add bigrams to docs (only ones that appear 15 times or more).\n",
    "    bigram = Phrases(docs, min_count=15)\n",
    "\n",
    "    for idx in range(len(docs)):\n",
    "        for token in bigram[docs[idx]]:\n",
    "            if \"_\" in token:\n",
    "                # Token is a bigram, add to document.\n",
    "                docs[idx].append(token)\n",
    "\n",
    "    # Create a dictionary representation of the documents, and filter out frequent and rare words.\n",
    "    dictionary = Dictionary(docs)\n",
    "\n",
    "    # Remove rare and common tokens.\n",
    "    # Filter out words that occur too frequently or too rarely.\n",
    "    max_freq = 0.5\n",
    "    min_wordcount = 5\n",
    "    dictionary.filter_extremes(no_below=min_wordcount, no_above=max_freq)\n",
    "\n",
    "    # Bag-of-words representation of the documents.\n",
    "    corpus = [dictionary.doc2bow(doc) for doc in docs]\n",
    "    return corpus, dictionary\n"
   ]
  },
  {
   "cell_type": "code",
   "execution_count": 102,
   "id": "8d20975f",
   "metadata": {},
   "outputs": [],
   "source": [
    "corpus_title, dictionary_title = topic_detection(title_metadatas.title, \"title\")\n"
   ]
  },
  {
   "cell_type": "code",
   "execution_count": null,
   "id": "99e2e0a2",
   "metadata": {},
   "outputs": [],
   "source": [
    "# models\n",
    "seed = 42\n",
    "params = {\"passes\": 10, \"random_state\": seed}\n",
    "base_models = dict()\n",
    "\n",
    "model_title = LdaMulticore(\n",
    "    corpus=corpus_title,\n",
    "    num_topics=8,\n",
    "    id2word=dictionary_title,\n",
    "    workers=None,\n",
    "    passes=params[\"passes\"],\n",
    "    random_state=params[\"random_state\"],\n",
    ")\n"
   ]
  },
  {
   "cell_type": "code",
   "execution_count": null,
   "id": "11240a1a",
   "metadata": {},
   "outputs": [],
   "source": [
    "pyLDAvis.enable_notebook(local=True)\n",
    "data = pyLDAvis.gensim_models.prepare(model_title, corpus_title, dictionary_title)\n",
    "pyLDAvis.display(data, template_type=\"notebook\")\n"
   ]
  },
  {
   "cell_type": "code",
   "execution_count": null,
   "id": "70f1a4aa",
   "metadata": {},
   "outputs": [],
   "source": [
    "pyLDAvis.save_html(data, 'title.html')"
   ]
  },
  {
   "cell_type": "code",
   "execution_count": null,
   "id": "7de4f7cb",
   "metadata": {},
   "outputs": [],
   "source": [
    "corpus_tag, dictionary_tag = topic_detection(tag_metadatas.tags, \"tag\")\n"
   ]
  },
  {
   "cell_type": "code",
   "execution_count": null,
   "id": "edd745d9",
   "metadata": {},
   "outputs": [],
   "source": [
    "# models\n",
    "seed = 42\n",
    "params = {\"passes\": 10, \"random_state\": seed}\n",
    "base_models = dict()\n",
    "\n",
    "model_tag = LdaMulticore(\n",
    "    corpus=corpus_tag,\n",
    "    num_topics=8,\n",
    "    id2word=dictionary_tag,\n",
    "    workers=None,\n",
    "    passes=params[\"passes\"],\n",
    "    random_state=params[\"random_state\"],\n",
    ")\n"
   ]
  },
  {
   "cell_type": "code",
   "execution_count": null,
   "id": "9dacff20",
   "metadata": {},
   "outputs": [],
   "source": [
    "pyLDAvis.enable_notebook(local=True)\n",
    "data = pyLDAvis.gensim_models.prepare(model_tag, corpus_tag, dictionary_tag)\n",
    "pyLDAvis.display(data, template_type=\"notebook\")\n"
   ]
  },
  {
   "cell_type": "code",
   "execution_count": null,
   "id": "cbfd993f",
   "metadata": {},
   "outputs": [],
   "source": [
    "pyLDAvis.save_html(data, 'tags.html')"
   ]
  },
  {
   "cell_type": "markdown",
   "id": "2600e95a",
   "metadata": {},
   "source": [
    "## Sub-Question 5\n",
    "\n",
    "**Description:** Does a channel's success increase with a greater variety of categories?  \n",
    "**Method:** For this question, we will determine whether the filtered channels use multiple categories in their videos, and if they showed clear shifts from one category to another. Ultimately, we want to use this information to determine whether a greater variety of categories can aid to a channels’ success.  \n",
    "**Timeline:** By 18/12/2022  \n"
   ]
  },
  {
   "cell_type": "code",
   "execution_count": null,
   "id": "0e534ce3",
   "metadata": {},
   "outputs": [],
   "source": [
    "video_metadatas.categories.value_counts().iloc[1:].plot(kind=\"bar\")\n",
    "plt.title(\"Number of videos per categories \\n (except Gaming topic) for Gaming channels\")\n",
    "plt.xlabel(\"Category\")\n",
    "plt.ylabel(\"Number of videos\")\n"
   ]
  },
  {
   "cell_type": "markdown",
   "id": "63be44ea",
   "metadata": {},
   "source": [
    "Find channels with unique topic\n"
   ]
  },
  {
   "cell_type": "code",
   "execution_count": null,
   "id": "530d6927",
   "metadata": {},
   "outputs": [],
   "source": [
    "# get the unique values in the categories for each channel\n",
    "# (i.e., the categories of videos they have already uploaded once)\n",
    "gaming_channels_with_categories = video_metadatas.groupby(\"channel_id\").apply(\n",
    "    lambda group: group.categories.unique()\n",
    ")\n",
    "\n",
    "# split the dataset in 2 and the one with only 1 category value mean they uploaded only gaming\n",
    "# videos and the ones with more than 1 video means they have diverse content\n",
    "unique_topic_gaming = gaming_channels_with_categories.loc[\n",
    "    gaming_channels_with_categories.str.len() == 1\n",
    "]\n",
    "non_unique_topic_gaming = gaming_channels_with_categories.loc[\n",
    "    gaming_channels_with_categories.str.len() > 1\n",
    "]\n",
    "print(\"nb of channels with unique topic Gaming : \", unique_topic_gaming.shape)\n",
    "print(\"nb of channels without unique topic Gaming : \", non_unique_topic_gaming.shape)\n"
   ]
  },
  {
   "cell_type": "code",
   "execution_count": null,
   "id": "153bc452",
   "metadata": {},
   "outputs": [],
   "source": [
    "unique_topic_gaming_channels_descript = df_channels[\n",
    "    df_channels.channel.isin(unique_topic_gaming.index.values)\n",
    "]\n",
    "non_unique_topic_gaming_channels_descript = df_channels[\n",
    "    df_channels.channel.isin(non_unique_topic_gaming.index.values)\n",
    "]\n"
   ]
  },
  {
   "cell_type": "code",
   "execution_count": null,
   "id": "2562ac36",
   "metadata": {},
   "outputs": [],
   "source": [
    "describe_unique = unique_topic_gaming_channels_descript.subscribers_cc.describe()\n",
    "plt.boxplot(describe_unique, showfliers=False)\n",
    "plt.show()"
   ]
  },
  {
   "cell_type": "code",
   "execution_count": null,
   "id": "c0037658",
   "metadata": {},
   "outputs": [],
   "source": [
    "describe_non_unique = non_unique_topic_gaming_channels_descript.subscribers_cc.describe()\n",
    "plt.boxplot(describe_non_unique, showfliers=False)\n",
    "plt.show()"
   ]
  },
  {
   "cell_type": "markdown",
   "id": "93b03f1f",
   "metadata": {},
   "source": [
    "### Now we have the dataset to check the differences between unique and non unique categories channels\n"
   ]
  },
  {
   "cell_type": "markdown",
   "id": "083719b7",
   "metadata": {},
   "source": [
    "Try a bootstrap approach\n"
   ]
  },
  {
   "cell_type": "code",
   "execution_count": null,
   "id": "52a7f632",
   "metadata": {},
   "outputs": [],
   "source": [
    "def get_confidence_interval(data):\n",
    "    rng = np.random.default_rng()\n",
    "    return bootstrap(\n",
    "        (data,),\n",
    "        np.mean,\n",
    "        confidence_level=0.95,\n",
    "        random_state=rng,\n",
    "    ).confidence_interval\n"
   ]
  },
  {
   "cell_type": "code",
   "execution_count": null,
   "id": "0a1c47d2",
   "metadata": {},
   "outputs": [],
   "source": [
    "conf1 = get_confidence_interval(unique_topic_gaming_channels_descript.subscribers_cc)\n",
    "print(\n",
    "    \"95% confidence interval of number of subs for unique Gaming channels [{:_}, {:_}]\".format(\n",
    "        int(conf1[0]), int(conf1[1])\n",
    "    )\n",
    ")\n",
    "conf2 = get_confidence_interval(\n",
    "    non_unique_topic_gaming_channels_descript.subscribers_cc\n",
    ")\n",
    "print(\n",
    "    \"95% confidence interval of number of subs for non unique Gaming channels [{:_}, {:_}]\".format(\n",
    "        int(conf2[0]), int(conf2[1])\n",
    "    )\n",
    ")\n"
   ]
  },
  {
   "cell_type": "markdown",
   "id": "15286dd9",
   "metadata": {},
   "source": [
    "From these statistics, we notice that diverse channels have no more subscriptions compared to channels that focus primarily on gaming.\n"
   ]
  },
  {
   "cell_type": "code",
   "execution_count": null,
   "id": "6872c1d5",
   "metadata": {},
   "outputs": [],
   "source": [
    "# create binary column\n",
    "unique_topic_gaming_channels_descript[\"only_gaming\"] = 1\n",
    "print(unique_topic_gaming_channels_descript.shape)\n",
    "non_unique_topic_gaming_channels_descript[\"only_gaming\"] = 0\n",
    "print(non_unique_topic_gaming_channels_descript.shape)\n"
   ]
  },
  {
   "cell_type": "code",
   "execution_count": null,
   "id": "be657b02",
   "metadata": {},
   "outputs": [],
   "source": [
    "unique_and_non_unique = unique_topic_gaming_channels_descript.append(\n",
    "    non_unique_topic_gaming_channels_descript\n",
    ")\n",
    "unique_and_non_unique.head(2)\n"
   ]
  },
  {
   "cell_type": "code",
   "execution_count": null,
   "id": "0566ac8c",
   "metadata": {},
   "outputs": [],
   "source": [
    "# apply the log to the number of subscribers (because can become too big)\n",
    "unique_and_non_unique[\"subscribers_cc_log\"] = np.log(\n",
    "    unique_and_non_unique.subscribers_cc,\n",
    "    where=unique_and_non_unique.subscribers_cc != 0,\n",
    ")\n",
    "\n",
    "# model to predict the number of subscribers given if we have a diversed channel or no.\n",
    "mod = smf.ols(\n",
    "    formula=\"subscribers_cc_log ~ only_gaming\",\n",
    "    data=unique_and_non_unique,\n",
    ")\n",
    "\n",
    "# Fits the model (find the optimal coefficients, adding a random seed ensures consistency)\n",
    "np.random.seed(2)\n",
    "res = mod.fit()\n",
    "\n",
    "# Print thes summary output provided by the library.\n",
    "print(res.summary())\n"
   ]
  },
  {
   "cell_type": "markdown",
   "id": "c7eb1b5a",
   "metadata": {},
   "source": [
    "Channels with only gaming content have more subscribers than the ones with a variety of categories. The results of the model show a meaninful coefficient for this relationship.\n"
   ]
  }
 ],
 "metadata": {
  "kernelspec": {
   "display_name": "Python 3 (ipykernel)",
   "language": "python",
   "name": "python3"
  },
  "language_info": {
   "codemirror_mode": {
    "name": "ipython",
    "version": 3
   },
   "file_extension": ".py",
   "mimetype": "text/x-python",
   "name": "python",
   "nbconvert_exporter": "python",
   "pygments_lexer": "ipython3",
   "version": "3.9.12"
  },
  "vscode": {
   "interpreter": {
    "hash": "f8cc0e3d8506d0e0d1503ea89400fd398a038f9e28e3673a3041501c80962045"
   }
  }
 },
 "nbformat": 4,
 "nbformat_minor": 5
}
