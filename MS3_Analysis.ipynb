{
 "cells": [
  {
   "cell_type": "markdown",
   "id": "e2af5202-cd4d-4fe2-9e7e-48869ec70229",
   "metadata": {},
   "source": [
    "# Part 0: Initialising\n"
   ]
  },
  {
   "cell_type": "code",
<<<<<<< Updated upstream
   "execution_count": 4,
=======
   "execution_count": 1,
>>>>>>> Stashed changes
   "id": "b347be5c-381b-4203-a676-ae35909a42cc",
   "metadata": {},
   "outputs": [],
   "source": [
    "# Initializing\n",
    "import matplotlib.font_manager as font_manager\n",
    "#from matplotlib.lines import Line2D\n",
    "import matplotlib as mpl\n",
    "#import matplotlib.ticker as mtick\n",
    "import matplotlib.pyplot as plt\n",
    "import pandas as pd\n",
    "import numpy as np\n",
    "#import seaborn as sns\n",
    "#import os\n",
    "import re\n",
    "from scipy.stats import bootstrap\n",
    "import statsmodels.api as sm\n",
    "import statsmodels.formula.api as smf\n",
    "#import requests\n",
    "import random\n",
    "\n",
    "params = {\n",
    "    \"axes.titlesize\": 14,\n",
    "    \"axes.labelsize\": 12,\n",
    "    \"font.size\": 12,\n",
    "    \"legend.fontsize\": 12,\n",
    "    \"xtick.labelsize\": 12,\n",
    "    \"ytick.labelsize\": 12,\n",
    "    \"text.usetex\": False,\n",
    "}\n",
    "\n",
    "NUM_COLORS = 15\n",
    "cm = plt.get_cmap(\"nipy_spectral\")\n",
    "\n",
    "mpl.rcParams.update(params)\n",
    "\n",
    "\n",
    "import warnings\n",
    "\n",
    "warnings.filterwarnings(\"ignore\")\n"
   ]
  },
  {
   "cell_type": "markdown",
   "id": "9c4e5555-b4fc-4cd9-acea-f54ff5aef1ad",
   "metadata": {},
   "source": [
    "To start with, we import three datasets that are available from YouNiverse:\n",
    "\n",
    "`` df_channels_en.tsv.gz ``\n",
    "\n",
    "`` df_timeseries_en.tsv.gz ``\n",
    "\n",
    "`` yt_metadata_helper.feather ``\n",
    "\n",
    "We will filter the channels that have been identified as Gaming, as it is our target category. We will do this by identifying the channel IDs with label `` Gaming `` in `` Category `` from `` df_channels_en.tsv.gz `` .\n"
   ]
  },
  {
   "cell_type": "code",
<<<<<<< Updated upstream
   "execution_count": 5,
=======
   "execution_count": 2,
>>>>>>> Stashed changes
   "id": "df97ef38",
   "metadata": {},
   "outputs": [],
   "source": [
    "df_channels = pd.read_csv(\"./data/df_channels_en.tsv.gz\", compression=\"infer\", sep=\"\\t\")\n",
    "df_channels[\"join_date\"] = pd.to_datetime(df_channels[\"join_date\"])\n",
    "\n",
    "df_channels = df_channels[df_channels[\"category_cc\"] == \"Gaming\"]\n",
    "channel_id_gaming = df_channels.channel\n"
   ]
  },
  {
   "cell_type": "markdown",
   "id": "d5ca7894",
   "metadata": {},
   "source": [
    "`` channel_id_gaming `` ontains all channel IDs that are identified as Gaming. We will use this list to do initial filtering of both ``df_time_series `` and `` video_metadatas `` .\n"
   ]
  },
  {
   "cell_type": "code",
<<<<<<< Updated upstream
   "execution_count": 6,
=======
   "execution_count": 3,
>>>>>>> Stashed changes
   "id": "2c93da3e-46e0-4e9b-98dc-c725a9d981fa",
   "metadata": {},
   "outputs": [],
   "source": [
    "df_time_series = pd.read_csv(\n",
    "    \"./data/df_timeseries_en.tsv.gz\", compression=\"infer\", sep=\"\\t\"\n",
    ")\n",
    "df_time_series[\"datetime\"] = pd.to_datetime(df_time_series[\"datetime\"])\n",
    "# round the total number of subscribers, it is easier to consider 1 person and instead half of a person...\n",
    "df_time_series.subs = df_time_series.subs.round(0)\n",
    "\n",
    "# we filter the channels being labeled as \"Gaming\" in df_channels_en.tsv.gz\n",
    "df_time_series = df_time_series[df_time_series[\"channel\"].isin(channel_id_gaming)]\n"
   ]
  },
  {
   "cell_type": "code",
<<<<<<< Updated upstream
   "execution_count": 7,
=======
   "execution_count": 4,
>>>>>>> Stashed changes
   "id": "bfb8de83-f104-4db7-a03d-45eedff3600d",
   "metadata": {},
   "outputs": [],
   "source": [
    "video_metadatas = pd.read_feather(\n",
    "    \"./data/yt_metadata_helper.feather\",\n",
    "    columns=[\n",
    "        \"categories\",\n",
    "        \"upload_date\",\n",
    "        \"duration\",\n",
    "        \"like_count\",\n",
    "        \"dislike_count\",\n",
    "        \"view_count\",\n",
    "        \"channel_id\",\n",
    "        \"display_id\",\n",
    "    ],\n",
    ")\n",
    "\n",
    "# we added these two columns for analysis later on.\n",
    "video_metadatas[\"yearNumber\"] = video_metadatas[\"upload_date\"].dt.year\n",
    "video_metadatas[\"weekNumber\"] = video_metadatas[\"upload_date\"].dt.weekday\n",
    "\n",
    "# we filter the channels being labeled as \"Gaming\" in df_channels_en.tsv.gz\n",
    "video_metadatas = video_metadatas[video_metadatas[\"channel_id\"].isin(channel_id_gaming)]\n"
   ]
  },
  {
   "cell_type": "markdown",
   "id": "3c27b9e8",
   "metadata": {},
   "source": [
    "We now have filtered `` df_channels `` , `` df_time_series `` and `` video_metadatas `` . However, they have different numbers of channels. `` df_channels `` and `` video_metadatas `` both have 20143 channels, whereas `` df_time_series `` has 19698 channels. \n",
    "\n",
    "When we look closer to the data, we can observe that `df_time_series` only has data from early January 2015 to end September 2019, which could be one reason causing the inconsistency. Therefore, we will then filter videos in `` video_metadatas `` that are being uploaded from early January 2015 to end September 2019 to keep consistency across three dataframes.\n"
   ]
  },
  {
   "cell_type": "code",
<<<<<<< Updated upstream
   "execution_count": 8,
=======
   "execution_count": 5,
>>>>>>> Stashed changes
   "id": "e3c22581",
   "metadata": {},
   "outputs": [],
   "source": [
    "video_metadatas = video_metadatas[\n",
    "    (video_metadatas[\"upload_date\"] > df_time_series.datetime.min())\n",
    "    & (video_metadatas[\"upload_date\"] < df_time_series.datetime.max())\n",
    "]\n"
   ]
  },
  {
   "cell_type": "markdown",
   "id": "81392b16",
   "metadata": {},
   "source": [
    "We now have a list of Gaming channels and the information about their videos. Now, we will proceed to filter out the channels that fit the following conditions:\n",
    "\n",
    "* The channel has more than 60 % of gaming videos\n",
    "* The YouTuber uploaded with an average frequency of \"every 2 days or less\" AND \"every 90 days or more\"\n",
    "\n",
    "The reasoning behind these filtering criteria is that we want to have channels that are mainly focusing on gaming, and upload videos not too often but also not too infrequent. Channels with high frequency of upload rate is not likely to be achieved by a single person, and channels that upload too infrequent is likely to be abandoned.\n",
    "\n",
    "We will achieve this filtering by looking at `` video_metadatas `` , and calculate:\n",
    "\n",
    "* The number of videos being labelled as \"Gaming\" in each channel\n",
    "* The number of videos being uploaded to each channel\n",
    "* The time frame within which the YouTuber is active (corresponding to the number of days between the first and last uploads)\n"
   ]
  },
  {
   "cell_type": "code",
<<<<<<< Updated upstream
   "execution_count": 9,
=======
   "execution_count": 6,
>>>>>>> Stashed changes
   "id": "4c1e1626",
   "metadata": {},
   "outputs": [],
   "source": [
    "# The number of videos being labelled as \"Gaming\" in each channel\n",
    "video_metadatas[\"is_gaming\"] = video_metadatas.categories == \"Gaming\"\n",
    "\n",
    "# The number of videos being uploaded to each channel\n",
    "count_per_channel = (\n",
    "    pd.DataFrame(video_metadatas.groupby(\"channel_id\").count().categories)\n",
    "    .reset_index()\n",
    "    .rename(columns={\"categories\": \"nr_videos\"})\n",
    ")\n",
    "game_video_count_per_channel = pd.DataFrame(\n",
    "    video_metadatas.groupby(\"channel_id\").sum().is_gaming\n",
    ").reset_index()\n",
    "\n",
    "# merge these two datasets\n",
    "channel_selection = count_per_channel.merge(game_video_count_per_channel)\n",
    "\n",
    "# The percentage of gaming videos within each channel\n",
    "channel_selection[\"pct_gaming\"] = (\n",
    "    channel_selection.is_gaming / channel_selection.nr_videos\n",
    ")\n"
   ]
  },
  {
   "cell_type": "code",
<<<<<<< Updated upstream
   "execution_count": 10,
=======
   "execution_count": 7,
>>>>>>> Stashed changes
   "id": "609a1a0f",
   "metadata": {},
   "outputs": [],
   "source": [
    "pct_level = 0.6  # adjust the percentage of videos being labelled as \"Gaming\" here\n",
    "selected_channels = list(\n",
    "    channel_selection[channel_selection[\"pct_gaming\"] >= pct_level].channel_id\n",
    ")\n",
    "channel_selection = channel_selection[\n",
    "    channel_selection[\"channel_id\"].isin(selected_channels)\n",
    "]\n"
   ]
  },
  {
   "cell_type": "markdown",
   "id": "8760cb7c",
   "metadata": {},
   "source": [
    "After performing the filtering over percentage of videos being labelled as \"Gaming\", we have 18230 channels. \n",
    "\n",
    "We now want to filter out the channels that upload videos too frequently or too infrequent:\n"
   ]
  },
  {
   "cell_type": "code",
<<<<<<< Updated upstream
   "execution_count": 11,
=======
   "execution_count": 8,
>>>>>>> Stashed changes
   "id": "758656d4",
   "metadata": {},
   "outputs": [],
   "source": [
    "# The time frame within which the YouTuber is active\n",
    "last_vid_date = (\n",
    "    pd.DataFrame(video_metadatas.groupby(\"channel_id\").max().upload_date)\n",
    "    .reset_index()\n",
    "    .rename(columns={\"upload_date\": \"last_vid_date\"})\n",
    ")\n",
    "first_vid_date = (\n",
    "    pd.DataFrame(video_metadatas.groupby(\"channel_id\").min().upload_date)\n",
    "    .reset_index()\n",
    "    .rename(columns={\"upload_date\": \"first_vid_date\"})\n",
    ")\n",
    "total_vids = (\n",
    "    pd.DataFrame(video_metadatas.groupby(\"channel_id\").count().display_id)\n",
    "    .reset_index()\n",
    "    .rename(columns={\"display_id\": \"total_vids\"})\n",
    ")\n"
   ]
  },
  {
   "cell_type": "code",
<<<<<<< Updated upstream
   "execution_count": 12,
=======
   "execution_count": 9,
>>>>>>> Stashed changes
   "id": "003b816e",
   "metadata": {},
   "outputs": [],
   "source": [
    "channel_selection = first_vid_date.merge(last_vid_date)\n",
    "channel_selection = channel_selection.merge(total_vids)\n",
    "channel_selection[\"active_days\"] = (\n",
    "    channel_selection.last_vid_date - channel_selection.first_vid_date\n",
    ").dt.days\n",
    "channel_selection[\"upload_interval\"] = (\n",
    "    channel_selection.active_days / channel_selection.total_vids\n",
    ")\n"
   ]
  },
  {
   "cell_type": "code",
<<<<<<< Updated upstream
   "execution_count": 13,
=======
   "execution_count": 10,
>>>>>>> Stashed changes
   "id": "0fb8882b",
   "metadata": {},
   "outputs": [],
   "source": [
    "min_upload_interval = 2  # in days, the channel upload videos on average every x days\n",
    "max_upload_interval = 90\n",
    "selected_channels = list(\n",
    "    channel_selection[\n",
    "        (channel_selection[\"upload_interval\"] > min_upload_interval)\n",
    "        & (channel_selection[\"upload_interval\"] < max_upload_interval)\n",
    "    ].channel_id\n",
    ")\n"
   ]
  },
  {
   "cell_type": "markdown",
   "id": "c4e1889c",
   "metadata": {},
   "source": [
    "Here, we filtered out channels that uploaded videos every 2 days or more often, and those who uploaded videos every 90 days or less frequent. Now we have 14730 channels.\n",
    "\n",
    "Note that `df_time_series` contains less channels than `df_channels` and `video_metadatas` . In order to keep consistency, we will take the channels that can be found across three dataframes.\n"
   ]
  },
  {
   "cell_type": "code",
<<<<<<< Updated upstream
   "execution_count": 14,
=======
   "execution_count": 11,
>>>>>>> Stashed changes
   "id": "1e138332",
   "metadata": {},
   "outputs": [],
   "source": [
    "df_time_series = df_time_series[df_time_series[\"channel\"].isin(selected_channels)]\n",
    "\n",
    "selected_channels = list(\n",
    "    df_time_series.groupby(\"channel\").count().reset_index().channel\n",
    ")\n"
   ]
  },
  {
   "cell_type": "code",
<<<<<<< Updated upstream
   "execution_count": 15,
=======
   "execution_count": 12,
>>>>>>> Stashed changes
   "id": "f085ddf6",
   "metadata": {},
   "outputs": [],
   "source": [
    "df_channels = df_channels[df_channels[\"channel\"].isin(selected_channels)]\n",
    "\n",
    "video_metadatas = video_metadatas[video_metadatas[\"channel_id\"].isin(selected_channels)]\n"
   ]
  },
  {
   "cell_type": "markdown",
   "id": "3b9aa19d",
   "metadata": {},
   "source": [
    "After applying the filtering over upload frequency, we now have 14380 channels over all ``df_time_series `` , `` df_channels `` , and ``video_metadatas`` . The filtering is now complete, and we have a list of channels that we are interested in.\n"
   ]
  },
  {
   "cell_type": "markdown",
   "id": "c191d301",
   "metadata": {},
   "source": [
    "We also import two datasets that are created by us, as a complementary to ` ` video_metadatas ` ` :  \n",
    "* ``title_metadatas``: with three columns (``categories``, ``display_id``, ``title``), containing information about the title names of each video in ``video_metadatas``.\n",
    "* ``tag_metadatas``: with three columns (``categories``, ``display_id``, ``tags``), containing information about the tags of each video in ``video_metadatas``.\n",
    "\n",
    "We will filter videos from channels that we selected so far.\n"
   ]
  },
  {
   "cell_type": "code",
<<<<<<< Updated upstream
   "execution_count": 16,
=======
   "execution_count": 13,
>>>>>>> Stashed changes
   "id": "f6dc9dc4",
   "metadata": {},
   "outputs": [],
   "source": [
    "title_metadatas = pd.read_feather(\"./data/yt_metadata_title_helper.feather\")\n",
    "\n",
    "title_metadatas = title_metadatas[\n",
    "    title_metadatas[\"display_id\"].isin(video_metadatas.display_id)\n",
    "]\n"
   ]
  },
  {
   "cell_type": "code",
<<<<<<< Updated upstream
   "execution_count": 17,
=======
   "execution_count": 14,
>>>>>>> Stashed changes
   "id": "e7c20891",
   "metadata": {},
   "outputs": [
    {
     "data": {
      "text/html": [
       "<div>\n",
       "<style scoped>\n",
       "    .dataframe tbody tr th:only-of-type {\n",
       "        vertical-align: middle;\n",
       "    }\n",
       "\n",
       "    .dataframe tbody tr th {\n",
       "        vertical-align: top;\n",
       "    }\n",
       "\n",
       "    .dataframe thead th {\n",
       "        text-align: right;\n",
       "    }\n",
       "</style>\n",
       "<table border=\"1\" class=\"dataframe\">\n",
       "  <thead>\n",
       "    <tr style=\"text-align: right;\">\n",
       "      <th></th>\n",
       "      <th>categories</th>\n",
       "      <th>display_id</th>\n",
       "      <th>title</th>\n",
       "    </tr>\n",
       "  </thead>\n",
       "  <tbody>\n",
       "    <tr>\n",
       "      <th>1792</th>\n",
       "      <td>Gaming</td>\n",
       "      <td>M0x6TJmMwL4</td>\n",
       "      <td>Blasphemous is Amazing!</td>\n",
       "    </tr>\n",
       "    <tr>\n",
       "      <th>1793</th>\n",
       "      <td>Gaming</td>\n",
       "      <td>ofAIp6dad00</td>\n",
       "      <td>I review all 42 Genesis Mini games</td>\n",
       "    </tr>\n",
       "    <tr>\n",
       "      <th>1794</th>\n",
       "      <td>Gaming</td>\n",
       "      <td>cXHRNThI27A</td>\n",
       "      <td>Disenchantment Jester Season 2</td>\n",
       "    </tr>\n",
       "    <tr>\n",
       "      <th>1795</th>\n",
       "      <td>Gaming</td>\n",
       "      <td>cDSo3mUNEEM</td>\n",
       "      <td>💀 Death Stranding is boring as Hell</td>\n",
       "    </tr>\n",
       "    <tr>\n",
       "      <th>1796</th>\n",
       "      <td>Gaming</td>\n",
       "      <td>rJmT1Rq24qE</td>\n",
       "      <td>Happy Friday the 13th. I'm going to try and fi...</td>\n",
       "    </tr>\n",
       "  </tbody>\n",
       "</table>\n",
       "</div>"
      ],
      "text/plain": [
       "     categories   display_id  \\\n",
       "1792     Gaming  M0x6TJmMwL4   \n",
       "1793     Gaming  ofAIp6dad00   \n",
       "1794     Gaming  cXHRNThI27A   \n",
       "1795     Gaming  cDSo3mUNEEM   \n",
       "1796     Gaming  rJmT1Rq24qE   \n",
       "\n",
       "                                                  title  \n",
       "1792                            Blasphemous is Amazing!  \n",
       "1793                 I review all 42 Genesis Mini games  \n",
       "1794                     Disenchantment Jester Season 2  \n",
       "1795                💀 Death Stranding is boring as Hell  \n",
       "1796  Happy Friday the 13th. I'm going to try and fi...  "
      ]
     },
<<<<<<< Updated upstream
     "execution_count": 17,
=======
     "execution_count": 14,
>>>>>>> Stashed changes
     "metadata": {},
     "output_type": "execute_result"
    }
   ],
   "source": [
    "title_metadatas.head()"
   ]
  },
  {
   "cell_type": "code",
<<<<<<< Updated upstream
   "execution_count": 18,
=======
   "execution_count": 15,
>>>>>>> Stashed changes
   "id": "333d7f10",
   "metadata": {},
   "outputs": [],
   "source": [
    "tag_metadatas = pd.read_feather(\"./data/yt_metadata_tags_helper.feather\")\n",
    "\n",
    "tag_metadatas = tag_metadatas[\n",
    "    tag_metadatas[\"display_id\"].isin(video_metadatas.display_id)\n",
    "]\n"
   ]
  },
  {
   "cell_type": "code",
<<<<<<< Updated upstream
   "execution_count": 19,
=======
   "execution_count": 16,
>>>>>>> Stashed changes
   "id": "99b37b20",
   "metadata": {},
   "outputs": [
    {
     "data": {
      "text/html": [
       "<div>\n",
       "<style scoped>\n",
       "    .dataframe tbody tr th:only-of-type {\n",
       "        vertical-align: middle;\n",
       "    }\n",
       "\n",
       "    .dataframe tbody tr th {\n",
       "        vertical-align: top;\n",
       "    }\n",
       "\n",
       "    .dataframe thead th {\n",
       "        text-align: right;\n",
       "    }\n",
       "</style>\n",
       "<table border=\"1\" class=\"dataframe\">\n",
       "  <thead>\n",
       "    <tr style=\"text-align: right;\">\n",
       "      <th></th>\n",
       "      <th>categories</th>\n",
       "      <th>display_id</th>\n",
       "      <th>tags</th>\n",
       "    </tr>\n",
       "  </thead>\n",
       "  <tbody>\n",
       "    <tr>\n",
       "      <th>1792</th>\n",
       "      <td>Gaming</td>\n",
       "      <td>M0x6TJmMwL4</td>\n",
       "      <td>video,games,retrogamer3,ed,findlay,Blasphemous...</td>\n",
       "    </tr>\n",
       "    <tr>\n",
       "      <th>1793</th>\n",
       "      <td>Gaming</td>\n",
       "      <td>ofAIp6dad00</td>\n",
       "      <td>video,games,retrogamer3,ed,findlay,Sega,Genesi...</td>\n",
       "    </tr>\n",
       "    <tr>\n",
       "      <th>1794</th>\n",
       "      <td>Gaming</td>\n",
       "      <td>cXHRNThI27A</td>\n",
       "      <td>video,games,retrogamer3,ed,findlay,Disenchantm...</td>\n",
       "    </tr>\n",
       "    <tr>\n",
       "      <th>1795</th>\n",
       "      <td>Gaming</td>\n",
       "      <td>cDSo3mUNEEM</td>\n",
       "      <td>video,games,retrogamer3,ed,findlay,Death Stran...</td>\n",
       "    </tr>\n",
       "    <tr>\n",
       "      <th>1796</th>\n",
       "      <td>Gaming</td>\n",
       "      <td>rJmT1Rq24qE</td>\n",
       "      <td>video,games,retrogamer3,ed,findlay,Friday the ...</td>\n",
       "    </tr>\n",
       "  </tbody>\n",
       "</table>\n",
       "</div>"
      ],
      "text/plain": [
       "     categories   display_id  \\\n",
       "1792     Gaming  M0x6TJmMwL4   \n",
       "1793     Gaming  ofAIp6dad00   \n",
       "1794     Gaming  cXHRNThI27A   \n",
       "1795     Gaming  cDSo3mUNEEM   \n",
       "1796     Gaming  rJmT1Rq24qE   \n",
       "\n",
       "                                                   tags  \n",
       "1792  video,games,retrogamer3,ed,findlay,Blasphemous...  \n",
       "1793  video,games,retrogamer3,ed,findlay,Sega,Genesi...  \n",
       "1794  video,games,retrogamer3,ed,findlay,Disenchantm...  \n",
       "1795  video,games,retrogamer3,ed,findlay,Death Stran...  \n",
       "1796  video,games,retrogamer3,ed,findlay,Friday the ...  "
      ]
     },
<<<<<<< Updated upstream
     "execution_count": 19,
=======
     "execution_count": 16,
>>>>>>> Stashed changes
     "metadata": {},
     "output_type": "execute_result"
    }
   ],
   "source": [
    "tag_metadatas.head()"
   ]
  },
  {
   "cell_type": "markdown",
   "id": "38ee79b8",
   "metadata": {},
   "source": [
    "# Part 1: Milestone 3 Analysis\n",
    "\n",
    "Given the results in Milestone 2, we decided to focus on the category of Gaming. The reason behind this choice is because we are trying to help our little brother to succeed, and since he is just a single person without a big team behind him it seems more reasonable than e.g. Movies or Film & Entertainment. Therefore, we decided to eliminate Music, How-to & Style, Education, Science & Technology, Entertainment, Film & Entertainment, People & Blogs, Comedy, Movies and Shows.\n",
    "\n",
    "## Key Questions:\n",
    "\n",
    " - Which factors help a YouTuber in Gaming gain more subscribers?\n",
    " - How do sentiments in titles and tags affect views and how do these relationships change over time?\n"
   ]
  },
  {
   "cell_type": "markdown",
   "id": "ac192b0a",
   "metadata": {},
   "source": [
    "### Sub-Question 1 \n",
    "\n",
    "**Description:** How does the video upload frequency, time of the week, and video length affect the subscription rate of the channels?\n",
    "**Method:** Model this using a linear regression model.  \n",
    "**Timeline:** By 13/12/2022  \n",
    "**Organization:** Wenxiu  \n"
   ]
  },
  {
   "cell_type": "code",
<<<<<<< Updated upstream
   "execution_count": 20,
=======
   "execution_count": 17,
>>>>>>> Stashed changes
   "id": "6555e2c3",
   "metadata": {},
   "outputs": [],
   "source": [
    "# calculate which weekday each channel usually upload videos\n",
    "avg_upload_weekday = (\n",
    "    pd.DataFrame(video_metadatas.groupby(\"channel_id\").mean().weekNumber)\n",
    "    .reset_index()\n",
    "    .rename(columns={\"weekNumber\": \"avg_upload_weekday\"})\n",
    ")\n",
    "\n",
    "# calculate the average video duration of videos uploaded for each channel\n",
    "avg_video_duration = (\n",
    "    pd.DataFrame(video_metadatas.groupby(\"channel_id\").mean().duration)\n",
    "    .reset_index()\n",
    "    .rename(columns={\"duration\": \"avg_video_duration\"})\n",
    ")\n"
   ]
  },
  {
   "cell_type": "code",
<<<<<<< Updated upstream
   "execution_count": 21,
=======
   "execution_count": 18,
>>>>>>> Stashed changes
   "id": "0974b1c0",
   "metadata": {},
   "outputs": [],
   "source": [
    "# merge the two dataframes from above, and merge with\n",
    "channel_selection = channel_selection.merge(avg_upload_weekday)\n",
    "channel_selection = channel_selection.merge(avg_video_duration)\n",
    "channel_selection = channel_selection.merge(\n",
    "    df_channels.loc[:, [\"channel\", \"subscribers_cc\"]].rename(\n",
    "        columns={\"channel\": \"channel_id\"}\n",
    "    )\n",
    ")\n"
   ]
  },
  {
   "cell_type": "code",
<<<<<<< Updated upstream
   "execution_count": 22,
=======
   "execution_count": 19,
>>>>>>> Stashed changes
   "id": "2091ce77",
   "metadata": {},
   "outputs": [],
   "source": [
    "# select the columns from channel_selection for statistical model\n",
    "model_data = channel_selection.loc[\n",
    "    :, [\"upload_interval\", \"avg_video_duration\", \"subscribers_cc\"]\n",
    "]\n",
    "\n",
    "# normalise the data\n",
    "xmean = np.mean(model_data, axis=0)\n",
    "xstd = np.std(model_data, axis=0)\n",
    "Xbzs = (model_data - xmean) / xstd\n",
    "\n",
    "# add weekday information\n",
    "Xbzs = Xbzs.join(\n",
    "    pd.get_dummies(\n",
    "        round(channel_selection.avg_upload_weekday).apply(lambda x: int(x)),\n",
    "        prefix=\"day\",\n",
    "    )\n",
    ")\n"
   ]
  },
  {
   "cell_type": "code",
<<<<<<< Updated upstream
   "execution_count": 23,
=======
   "execution_count": 20,
>>>>>>> Stashed changes
   "id": "970b5047",
   "metadata": {},
   "outputs": [
    {
     "name": "stdout",
     "output_type": "stream",
     "text": [
      "                            OLS Regression Results                            \n",
      "==============================================================================\n",
      "Dep. Variable:         subscribers_cc   R-squared:                       0.003\n",
      "Model:                            OLS   Adj. R-squared:                  0.002\n",
      "Method:                 Least Squares   F-statistic:                     5.293\n",
<<<<<<< Updated upstream
      "Date:                Wed, 21 Dec 2022   Prob (F-statistic):           1.19e-06\n",
      "Time:                        10:49:25   Log-Likelihood:                -20383.\n",
=======
      "Date:                Tue, 20 Dec 2022   Prob (F-statistic):           1.19e-06\n",
      "Time:                        19:36:52   Log-Likelihood:                -20383.\n",
>>>>>>> Stashed changes
      "No. Observations:               14380   AIC:                         4.078e+04\n",
      "Df Residuals:                   14371   BIC:                         4.085e+04\n",
      "Df Model:                           8                                         \n",
      "Covariance Type:            nonrobust                                         \n",
      "======================================================================================\n",
      "                         coef    std err          t      P>|t|      [0.025      0.975]\n",
      "--------------------------------------------------------------------------------------\n",
      "Intercept             -0.1583      0.408     -0.388      0.698      -0.958       0.641\n",
      "C(day_1)[T.1]          0.0872      0.437      0.199      0.842      -0.770       0.945\n",
      "C(day_2)[T.1]          0.1919      0.409      0.470      0.639      -0.609       0.993\n",
      "C(day_3)[T.1]          0.1545      0.408      0.379      0.705      -0.645       0.954\n",
      "C(day_4)[T.1]          0.1534      0.409      0.375      0.707      -0.648       0.954\n",
      "C(day_5)[T.1]          0.2544      0.420      0.606      0.545      -0.568       1.077\n",
      "C(day_6)[T.1]          0.1731      0.577      0.300      0.764      -0.957       1.304\n",
      "upload_interval       -0.0497      0.009     -5.810      0.000      -0.067      -0.033\n",
      "avg_video_duration    -0.0263      0.008     -3.137      0.002      -0.043      -0.010\n",
      "==============================================================================\n",
      "Omnibus:                    36888.787   Durbin-Watson:                   1.926\n",
      "Prob(Omnibus):                  0.000   Jarque-Bera (JB):       1098885603.053\n",
      "Skew:                          28.926   Prob(JB):                         0.00\n",
      "Kurtosis:                    1356.025   Cond. No.                         172.\n",
      "==============================================================================\n",
      "\n",
      "Notes:\n",
      "[1] Standard Errors assume that the covariance matrix of the errors is correctly specified.\n"
     ]
    }
   ],
   "source": [
    "import statsmodels.formula.api as smf\n",
    "\n",
    "# Declares the model\n",
    "mod = smf.ols(\n",
    "    formula=\"subscribers_cc ~ \\\n",
    "              upload_interval + avg_video_duration + \\\n",
    "              C(day_1) + C(day_2) + C(day_3) + C(day_4) + C(day_5) + C(day_6)\",\n",
    "    data=Xbzs,\n",
    ")\n",
    "\n",
    "# Fits the model (find the optimal coefficients, adding a random seed ensures consistency)\n",
    "np.random.seed(2)\n",
    "res = mod.fit()\n",
    "\n",
    "# Print thes summary output provided by the library.\n",
    "print(res.summary())\n"
   ]
  },
  {
   "cell_type": "markdown",
   "id": "3e8e3805",
   "metadata": {},
   "source": [
    "The baseline of the model is: A channel with median upload interval, median average video duration and upload videos usually on Mondays.\n",
    "\n",
    "| | Number of Subscribers|\n",
    "| :--- | :---: |\n",
    "| Intercept | -0.1583 (0.698) |\n",
    "| Tuesday | 0.0872 (0.842) |\n",
    "| Wednesday | 0.1919 (0.639) |\n",
    "| Thursday | 0.1545 (0.705) |\n",
    "| Friday | 0.1534 (0.707) |\n",
    "| Saturday | 0.2544 (0.545) |\n",
    "| Sunday | 0.1731 (0.764) |\n",
    "| Upload interval | -0.0497 (0.000***) |\n",
    "| Average video duration | -0.0263 (0.002**) |\n",
    "| $R^2$ | 0.003 |\n",
    "| Adj. $R^2$ | 0.002 |\n",
    "| No. obs. | 14380 |\n",
    "\n",
    "SEs of coefficients are in parentheses. $^{***}P <0.001$, $^{**}P<0.01$, and $^{*}P<0.05$.\n",
    "\n",
    "The results from the linear model indicate two statistically significant terms (with significance level of 0.005): upload interval and average video duration. The coefficients of these two terms suggest that:\n",
    "\n",
    "* the higher the upload interval, the lower the subscription rate\n",
    "* the higher the average video duration, the lower the subscription rate\n",
    "\n",
    "On the other hand, it seems that time of upload during the week doesn't have a strong influence on the subscription rate of the channels. However, it should be noted that the average upload date of videos is highly concentrated on Thursday for the selected channels (as seen from the table below), and this would be the reason why the time of upload during the week is not as important.\n",
    "\n",
    "| Weekday | Number of Channels |\n",
    "| --- | --- |\n",
    "| Monday | 6 |\n",
    "| Tuesday | 40 |\n",
    "| Wednesday | 1332 |\n",
    "| Thursday | 11394 |\n",
    "| Friday | 1501 |\n",
    "| Saturday | 101 |\n",
    "| Sunday | 6 |\n"
   ]
  },
  {
   "cell_type": "markdown",
   "id": "f180a346",
   "metadata": {},
   "source": [
    "### Sub-Question 2\n",
    "\n",
    "**Description:** How does the language used in titles affect subscription number?  \n",
    "**Method:** We will classify the sentiments of titles and tags using packages such as NLTK and try to see if this factor affects subscription number of the channels using relevant skills we learned in observational studies.  \n",
    "**Timeline:** By 15/12/2022  \n",
    "**Organization:** Wenxiu  \n"
   ]
  },
  {
   "cell_type": "code",
<<<<<<< Updated upstream
   "execution_count": 24,
=======
   "execution_count": 21,
>>>>>>> Stashed changes
   "id": "441cce77",
   "metadata": {},
   "outputs": [],
   "source": [
    "# NLP libraries\n",
    "import spacy, nltk, sklearn\n",
    "\n",
    "# Vader\n",
    "import vaderSentiment\n",
    "from vaderSentiment.vaderSentiment import SentimentIntensityAnalyzer\n",
    "\n",
    "# Initialise the Spacy analyzer in English\n",
    "nlp = spacy.load(\"en_core_web_sm\")\n"
   ]
  },
  {
   "cell_type": "markdown",
   "id": "77bb961f",
   "metadata": {},
   "source": [
    "We will then move on to determine the sentiments of titles, and their effect on the view counts."
   ]
  },
  {
   "cell_type": "code",
<<<<<<< Updated upstream
   "execution_count": null,
   "id": "9d030aa3",
=======
   "execution_count": 22,
   "id": "2915df36",
>>>>>>> Stashed changes
   "metadata": {},
   "outputs": [],
   "source": [
    "positive_sent = []\n",
    "negative_sent = []\n",
    "neutral_sent = []\n",
    "compound_sent = []\n",
    "\n",
    "# iterate through the sentences, get polarity scores, choose a value\n",
    "analyzer = SentimentIntensityAnalyzer()\n",
    "for title in title_metadatas.title:\n",
    "    score = analyzer.polarity_scores(title)\n",
    "    positive_sent.append(score[\"pos\"])\n",
    "    negative_sent.append(score[\"neg\"])\n",
    "    neutral_sent.append(score[\"neu\"])\n",
    "    compound_sent.append(score[\"compound\"])\n",
    "\n",
    "video_metadatas[\"title_pos_scr\"] = positive_sent\n",
    "video_metadatas[\"title_neg_scr\"] = negative_sent\n",
    "video_metadatas[\"title_neu_scr\"] = neutral_sent\n",
    "video_metadatas[\"title_com_scr\"] = compound_sent\n"
   ]
  },
  {
   "cell_type": "code",
   "execution_count": 75,
   "id": "a0fe7f64",
   "metadata": {},
   "outputs": [],
   "source": [
    "# assign each title either as positive, negative or neutral\n",
    "video_metadatas[\"pos_vid\"] = (video_metadatas[\"title_com_scr\"] > (1 - 2/3))\n",
    "video_metadatas[\"neu_vid\"] = (video_metadatas[\"title_com_scr\"] < (1 - 2/3)) & (video_metadatas[\"title_com_scr\"] > - (1 - 2/3))\n",
    "video_metadatas[\"neg_vid\"] = (video_metadatas[\"title_com_scr\"] < -(1 - 2/3))"
   ]
  },
  {
   "cell_type": "code",
<<<<<<< Updated upstream
   "execution_count": 76,
   "id": "dd8c8b7b",
=======
   "execution_count": 23,
   "id": "fc5c0d25",
>>>>>>> Stashed changes
   "metadata": {},
   "outputs": [
    {
     "name": "stdout",
     "output_type": "stream",
     "text": [
      "                            OLS Regression Results                            \n",
      "==============================================================================\n",
      "Dep. Variable:             view_count   R-squared:                       0.000\n",
      "Model:                            OLS   Adj. R-squared:                  0.000\n",
<<<<<<< Updated upstream
      "Method:                 Least Squares   F-statistic:                     83.36\n",
      "Date:                Wed, 21 Dec 2022   Prob (F-statistic):          1.12e-155\n",
      "Time:                        15:23:13   Log-Likelihood:            -4.4539e+06\n",
=======
      "Method:                 Least Squares   F-statistic:                     94.00\n",
      "Date:                Tue, 20 Dec 2022   Prob (F-statistic):          2.83e-176\n",
      "Time:                        19:39:41   Log-Likelihood:            -4.4539e+06\n",
>>>>>>> Stashed changes
      "No. Observations:             3139185   AIC:                         8.908e+06\n",
      "Df Residuals:                 3139175   BIC:                         8.908e+06\n",
      "Df Model:                           9                                         \n",
      "Covariance Type:            nonrobust                                         \n",
      "=================================================================================\n",
      "                    coef    std err          t      P>|t|      [0.025      0.975]\n",
      "---------------------------------------------------------------------------------\n",
      "Intercept        -0.0074      0.002     -4.936      0.000      -0.010      -0.004\n",
      "C(day_1)[T.1]  3.181e-05      0.002      0.015      0.988      -0.004       0.004\n",
      "C(day_2)[T.1]     0.0059      0.002      2.779      0.005       0.002       0.010\n",
      "C(day_3)[T.1]     0.0141      0.002      6.662      0.000       0.010       0.018\n",
      "C(day_4)[T.1]     0.0096      0.002      4.586      0.000       0.005       0.014\n",
      "C(day_5)[T.1]     0.0194      0.002      9.104      0.000       0.015       0.024\n",
      "C(day_6)[T.1]     0.0027      0.002      1.265      0.206      -0.001       0.007\n",
      "pos_vid           0.0047      0.001      8.009      0.000       0.004       0.006\n",
      "neg_vid           0.0040      0.001      6.827      0.000       0.003       0.005\n",
      "duration         -0.0129      0.001    -22.785      0.000      -0.014      -0.012\n",
      "=================================================================================\n",
      "Omnibus:                 19059391.208   Durbin-Watson:                      1.712\n",
      "Prob(Omnibus):                  0.000   Jarque-Bera (JB):   18445053755468416.000\n",
      "Skew:                         442.100   Prob(JB):                            0.00\n",
      "Kurtosis:                  375525.466   Cond. No.                            8.43\n",
      "=================================================================================\n",
      "\n",
      "Notes:\n",
      "[1] Standard Errors assume that the covariance matrix of the errors is correctly specified.\n"
     ]
    }
   ],
   "source": [
    "# select the data for the model\n",
    "model_data = video_metadatas.loc[\n",
    "    :, [\"pos_vid\", \"neg_vid\", \"duration\", \"view_count\"]\n",
    "]\n",
    "\n",
    "# normalise the data\n",
    "xmean = np.mean(model_data, axis=0)\n",
    "xstd = np.std(model_data, axis=0)\n",
    "Xbzs = (model_data - xmean) / xstd\n",
    "\n",
    "# add weekday information\n",
    "Xbzs = Xbzs.join(pd.get_dummies(video_metadatas.weekNumber, prefix=\"day\"))\n",
    "\n",
    "# Declares the model\n",
    "mod = smf.ols(\n",
    "    formula=\"view_count ~ C(pos_vid) + C(neg_vid) + duration + \\\n",
    "              C(day_1) + C(day_2) + C(day_3) + C(day_4) + C(day_5) + C(day_6)\",\n",
    "    data=Xbzs,\n",
    ")\n",
    "\n",
    "# Fits the model (find the optimal coefficients, adding a random seed ensures consistency)\n",
    "np.random.seed(2)\n",
    "res = mod.fit()\n",
    "\n",
    "# Print thes summary output provided by the library.\n",
    "print(res.summary())\n"
   ]
  },
  {
   "cell_type": "markdown",
   "id": "b7ef0b84",
   "metadata": {},
   "source": [
    "The baseline of the model is: A video with median duration, being uploaded on Mondays, and with neutral titles.\n",
    "\n",
    "The result shows title sentiment, duration and upload time of the week are all statistically significant when determining view counts of the video. More specifically:\n",
    "* Videos uploaded between Thursday and Saturday are more likely to have higher view counts\n",
    "* Showing positive or negative sentiments would increase view counts\n",
    "* Having longer video duration would decrease view counts\n",
    "\n",
    "However, from graphs below, we can see that the majority of the videos were classified as \"neutral\". This suggests that the result of the model might be biased. In order to gain a better and fairer idea over the effect of sentiments in titles, we select the videos such that the number of positive, neutral and negative videos are the same.\n"
   ]
  },
  {
   "cell_type": "code",
<<<<<<< Updated upstream
   "execution_count": 69,
   "id": "cf2f1de4",
=======
   "execution_count": 24,
   "id": "f6d4aa62",
>>>>>>> Stashed changes
   "metadata": {},
   "outputs": [
    {
     "data": {
      "text/plain": [
       "Text(0.5, 1.0, 'Sentimental Analysis: Distribution')"
      ]
     },
<<<<<<< Updated upstream
     "execution_count": 69,
=======
     "execution_count": 24,
>>>>>>> Stashed changes
     "metadata": {},
     "output_type": "execute_result"
    },
    {
     "data": {
      "image/png": "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\n",
      "text/plain": [
       "<Figure size 432x288 with 1 Axes>"
      ]
     },
     "metadata": {
      "needs_background": "light"
     },
     "output_type": "display_data"
    }
   ],
   "source": [
    "# visualise the result\n",
    "video_metadatas[\"title_com_scr\"].hist(bins=20)\n",
    "plt.xlabel(\"compound score\")\n",
    "plt.ylabel(\"Number of videos\")\n",
    "plt.title(\"Sentimental Analysis: Distribution\")\n"
   ]
  },
  {
   "cell_type": "markdown",
   "id": "34d3a3df",
   "metadata": {},
   "source": [
    "The histogram above shows that the majority of the video titles are neutral. Let's now look closer at this by category of videos, since many channels also have videos from categories other than \"Gaming\"."
   ]
  },
  {
   "cell_type": "code",
<<<<<<< Updated upstream
   "execution_count": 70,
   "id": "2fc59bbe",
=======
   "execution_count": 25,
   "id": "b5ac9a1d",
>>>>>>> Stashed changes
   "metadata": {},
   "outputs": [],
   "source": [
    "# get category list\n",
    "categories_list = np.unique(video_metadatas.categories)\n",
    "categories_list = categories_list[1:]\n",
    "\n",
    "# get bin interval\n",
<<<<<<< Updated upstream
    "bin_step = np.arange(-1, 1.1, 0.2)\n",
=======
    "bin_step = np.arange(0, 1.1, 0.1)\n",
>>>>>>> Stashed changes
    "\n",
    "# calculate how many videos of each category fall in the corresponding bin\n",
    "by_category_data = np.zeros((len(categories_list), len(bin_step) - 1), dtype=int)\n",
    "\n",
    "for i in np.arange(len(categories_list)):\n",
    "    by_category_data[i,] = np.histogram(\n",
    "        video_metadatas[\n",
    "            video_metadatas[\"categories\"] == categories_list[i]\n",
    "        ].title_com_scr,\n",
    "        bins=bin_step,\n",
    "    )[0]\n",
    "\n",
    "bin_mid_pt = (bin_step[0:-1] + bin_step[1:]) / 2\n",
    "bin_mid_pt = [round(item, 2) for item in list(bin_mid_pt)]\n",
    "\n",
    "# get\n",
    "data = by_category_data.T / (np.sum(by_category_data, axis=1))\n"
   ]
  },
  {
   "cell_type": "code",
<<<<<<< Updated upstream
   "execution_count": 71,
   "id": "5edfe7f8",
=======
   "execution_count": 26,
   "id": "a34a67e4",
>>>>>>> Stashed changes
   "metadata": {},
   "outputs": [
    {
     "data": {
      "image/png": "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\n",
      "text/plain": [
       "<Figure size 720x1080 with 1 Axes>"
      ]
     },
     "metadata": {
      "needs_background": "light"
     },
     "output_type": "display_data"
    }
   ],
   "source": [
    "fig, ax = plt.subplots(figsize=(10, 15))\n",
    "im = ax.imshow(data)\n",
    "\n",
    "# Show all ticks and label them with the respective list entries\n",
    "ax.set_xticks(np.arange(len(categories_list)), labels=categories_list)\n",
    "ax.set_yticks(np.arange(len(bin_mid_pt)), labels=bin_mid_pt)\n",
    "\n",
    "# Rotate the tick labels and set their alignment.\n",
    "plt.setp(ax.get_xticklabels(), rotation=45, ha=\"right\", rotation_mode=\"anchor\")\n",
    "\n",
    "# Loop over data dimensions and create text annotations.\n",
    "for i in range(len(bin_mid_pt)):\n",
    "    for j in range(len(categories_list)):\n",
    "        text = ax.text(j, i, round(data[i, j], 2), ha=\"center\", va=\"center\", color=\"w\")\n",
    "\n",
    "ax.set_title(\"Sentiment Analysis for Videos: Classified by Category\")\n",
    "ax.set_xlabel(\"Category\")\n",
    "ax.set_ylabel(\"Compound Sentiment Score\")\n",
    "\n",
    "fig.tight_layout()\n",
    "plt.show()\n"
   ]
  },
  {
   "cell_type": "markdown",
   "id": "884675cf",
   "metadata": {},
   "source": [
    "The heat map plot above shows similar information as the histogram, but for all categories of videos in our data sample. It seems that \"Gaming\" videos are already among the categories with lowest share of neutral titles.\n",
    "\n",
    "Now, we will further filter a data sample for the purpose of this analysis, such that the share between videos with positive, negative and neutral titles is more or less the same."
   ]
  },
  {
   "cell_type": "code",
<<<<<<< Updated upstream
   "execution_count": 83,
=======
   "execution_count": 27,
>>>>>>> Stashed changes
   "id": "40bd3cd9",
   "metadata": {},
   "outputs": [],
   "source": [
    "# we will filter the data such that the number of positiv\n",
    "filtered_metadatas = video_metadatas\n",
    "pos_vid_ind = np.where(filtered_metadatas[\"pos_vid\"] == True)[0]\n",
    "neg_vid_ind = np.where(filtered_metadatas[\"neg_vid\"] == True)[0]\n",
    "neu_vid_ind = np.where(filtered_metadatas[\"neu_vid\"] == True)[0]\n",
    "\n",
    "sample_size = min(\n",
    "    [np.shape(neg_vid_ind), np.shape(neu_vid_ind), np.shape(pos_vid_ind)]\n",
    ")[0]\n",
    "selected_index = list(random.choices(pos_vid_ind, k=sample_size))\n",
    "selected_index += list(random.choices(neg_vid_ind, k=sample_size))\n",
    "selected_index += list(random.choices(neu_vid_ind, k=sample_size))\n",
    "filtered_metadatas = filtered_metadatas.iloc[selected_index]\n"
   ]
  },
  {
   "cell_type": "markdown",
   "id": "f7414d3a",
   "metadata": {},
   "source": [
    "After filtering, the data sample seems more balanced, for both sentiments and days of the week:\n",
    "\n",
    "| Weekday | Number of Videos |\n",
    "| --- | --- |\n",
    "| positive titles | 615479 |\n",
    "| neutral titles | 615479 |\n",
    "| negative titles | 615479 |\n",
    "| Monday | 258809 |\n",
    "| Tuesday | 266007 |\n",
    "| Wednesday | 270417 |\n",
    "| Thursday | 267633 |\n",
    "| Friday | 277600 |\n",
    "| Saturday | 259746 |\n",
    "| Sunday | 246225 |\n",
    "\n",
    "With this, we will proceed with the modelling:\n"
   ]
  },
  {
   "cell_type": "code",
<<<<<<< Updated upstream
   "execution_count": 91,
   "id": "5b9d6886",
=======
   "execution_count": 28,
   "id": "f42d5f47",
>>>>>>> Stashed changes
   "metadata": {},
   "outputs": [],
   "source": [
    "model_data = filtered_metadatas.loc[\n",
    "    :,\n",
    "    [\n",
    "        \"duration\",\n",
    "        \"view_count\",\n",
    "        \"like_count\",\n",
    "        \"dislike_count\",\n",
    "    ],\n",
    "]\n",
    "# normalise the data\n",
    "xmean = np.mean(model_data, axis=0)\n",
    "xstd = np.std(model_data, axis=0)\n",
    "Xbzs = (model_data - xmean) / xstd\n",
    "\n",
    "Xbzs = Xbzs.join(pd.get_dummies(filtered_metadatas[\"weekNumber\"], prefix=\"day\"))\n",
    "Xbzs = Xbzs.join( filtered_metadatas.loc[:, ['pos_vid', 'neg_vid']] )"
   ]
  },
  {
   "cell_type": "code",
<<<<<<< Updated upstream
   "execution_count": 92,
=======
   "execution_count": 29,
>>>>>>> Stashed changes
   "id": "1035326b",
   "metadata": {},
   "outputs": [
    {
     "name": "stdout",
     "output_type": "stream",
     "text": [
      "                            OLS Regression Results                            \n",
      "==============================================================================\n",
<<<<<<< Updated upstream
      "Dep. Variable:             view_count   R-squared:                       0.000\n",
      "Model:                            OLS   Adj. R-squared:                  0.000\n",
      "Method:                 Least Squares   F-statistic:                     301.9\n",
      "Date:                Wed, 21 Dec 2022   Prob (F-statistic):               0.00\n",
      "Time:                        15:39:44   Log-Likelihood:            -9.6330e+06\n",
      "No. Observations:             7040768   AIC:                         1.927e+07\n",
      "Df Residuals:                 7040758   BIC:                         1.927e+07\n",
      "Df Model:                           9                                         \n",
      "Covariance Type:            nonrobust                                         \n",
      "===================================================================================\n",
      "                      coef    std err          t      P>|t|      [0.025      0.975]\n",
      "-----------------------------------------------------------------------------------\n",
      "Intercept          -0.0211      0.001    -17.364      0.000      -0.023      -0.019\n",
      "pos_vid[T.True]     0.0167      0.001     16.431      0.000       0.015       0.019\n",
      "neg_vid[T.True]     0.0137      0.001     13.806      0.000       0.012       0.016\n",
      "C(day_1)[T.1]       0.0015      0.001      1.103      0.270      -0.001       0.004\n",
      "C(day_2)[T.1]       0.0095      0.001      7.132      0.000       0.007       0.012\n",
      "C(day_3)[T.1]       0.0141      0.001     10.554      0.000       0.012       0.017\n",
      "C(day_4)[T.1]       0.0223      0.001     16.760      0.000       0.020       0.025\n",
      "C(day_5)[T.1]       0.0237      0.001     17.551      0.000       0.021       0.026\n",
      "C(day_6)[T.1]   -2.911e-05      0.001     -0.021      0.983      -0.003       0.003\n",
      "duration           -0.0150      0.000    -41.712      0.000      -0.016      -0.014\n",
      "================================================================================\n",
      "Omnibus:                 34473183.026   Durbin-Watson:                     0.320\n",
      "Prob(Omnibus):                  0.000   Jarque-Bera (JB):   1814117739648701.750\n",
      "Skew:                         200.032   Prob(JB):                           0.00\n",
      "Kurtosis:                   78639.236   Cond. No.                           9.13\n",
      "================================================================================\n",
=======
      "Dep. Variable:             view_count   R-squared:                       0.002\n",
      "Model:                            OLS   Adj. R-squared:                  0.002\n",
      "Method:                 Least Squares   F-statistic:                     10.73\n",
      "Date:                Tue, 20 Dec 2022   Prob (F-statistic):           8.13e-17\n",
      "Time:                        19:39:47   Log-Likelihood:                -49845.\n",
      "No. Observations:               38772   AIC:                         9.971e+04\n",
      "Df Residuals:                   38762   BIC:                         9.980e+04\n",
      "Df Model:                           9                                         \n",
      "Covariance Type:            nonrobust                                         \n",
      "=================================================================================\n",
      "                    coef    std err          t      P>|t|      [0.025      0.975]\n",
      "---------------------------------------------------------------------------------\n",
      "Intercept        -0.0214      0.012     -1.824      0.068      -0.044       0.002\n",
      "C(day_1)[T.1]     0.0142      0.017      0.848      0.397      -0.019       0.047\n",
      "C(day_2)[T.1]     0.0186      0.017      1.126      0.260      -0.014       0.051\n",
      "C(day_3)[T.1]     0.0113      0.017      0.676      0.499      -0.021       0.044\n",
      "C(day_4)[T.1]     0.0699      0.016      4.278      0.000       0.038       0.102\n",
      "C(day_5)[T.1]     0.0367      0.017      2.200      0.028       0.004       0.069\n",
      "C(day_6)[T.1]    -0.0064      0.016     -0.389      0.697      -0.039       0.026\n",
      "title_pos_scr    -0.0386      0.006     -6.516      0.000      -0.050      -0.027\n",
      "title_neg_scr    -0.0144      0.006     -2.412      0.016      -0.026      -0.003\n",
      "duration         -0.0207      0.005     -4.422      0.000      -0.030      -0.012\n",
      "==============================================================================\n",
      "Omnibus:                   100320.113   Durbin-Watson:                   1.001\n",
      "Prob(Omnibus):                  0.000   Jarque-Bera (JB):       4109577880.254\n",
      "Skew:                          29.557   Prob(JB):                         0.00\n",
      "Kurtosis:                    1596.847   Cond. No.                         9.97\n",
      "==============================================================================\n",
>>>>>>> Stashed changes
      "\n",
      "Notes:\n",
      "[1] Standard Errors assume that the covariance matrix of the errors is correctly specified.\n"
     ]
    }
   ],
   "source": [
    "# Declares the model\n",
    "mod = smf.ols(\n",
    "    formula=\"view_count ~ C(pos_vid) + C(neg_vid) + duration + \\\n",
    "    C(day_1) + C(day_2) + C(day_3) + C(day_4) + C(day_5) + C(day_6)\",\n",
    "    data=Xbzs,\n",
    ")\n",
    "\n",
    "# Fits the model (find the optimal coefficients, adding a random seed ensures consistency)\n",
    "np.random.seed(2)\n",
    "res = mod.fit()\n",
    "\n",
    "# Print thes summary output provided by the library.\n",
<<<<<<< Updated upstream
    "print(res.summary())\n"
=======
    "print(res.summary())"
   ]
  },
  {
   "cell_type": "markdown",
   "id": "29d05cc5",
   "metadata": {},
   "source": [
    "The model suggests that positive and negative score do not affect the view counts significantly. As for the duration, it can be seen that shorter duration seems to have a positive effect on view counts, although not by a significant magnitude. As for the time of weekday for uploading the video, the model shows that uploading on Tuesday and Thursday seem to attract more views that the rest of the week."
>>>>>>> Stashed changes
   ]
  },
  {
   "cell_type": "code",
<<<<<<< Updated upstream
   "execution_count": 93,
=======
   "execution_count": 30,
>>>>>>> Stashed changes
   "id": "57f03ed9",
   "metadata": {},
   "outputs": [
    {
     "name": "stdout",
     "output_type": "stream",
     "text": [
      "                            OLS Regression Results                            \n",
      "==============================================================================\n",
<<<<<<< Updated upstream
      "Dep. Variable:             like_count   R-squared:                       0.001\n",
      "Model:                            OLS   Adj. R-squared:                  0.001\n",
      "Method:                 Least Squares   F-statistic:                     524.8\n",
      "Date:                Wed, 21 Dec 2022   Prob (F-statistic):               0.00\n",
      "Time:                        15:41:28   Log-Likelihood:            -9.6244e+06\n",
      "No. Observations:             6991028   AIC:                         1.925e+07\n",
      "Df Residuals:                 6991018   BIC:                         1.925e+07\n",
      "Df Model:                           9                                         \n",
      "Covariance Type:            nonrobust                                         \n",
      "===================================================================================\n",
      "                      coef    std err          t      P>|t|      [0.025      0.975]\n",
      "-----------------------------------------------------------------------------------\n",
      "Intercept          -0.0185      0.001    -15.060      0.000      -0.021      -0.016\n",
      "pos_vid[T.True]     0.0137      0.001     13.336      0.000       0.012       0.016\n",
      "neg_vid[T.True]     0.0179      0.001     17.842      0.000       0.016       0.020\n",
      "C(day_1)[T.1]       0.0007      0.001      0.550      0.582      -0.002       0.003\n",
      "C(day_2)[T.1]       0.0017      0.001      1.233      0.218      -0.001       0.004\n",
      "C(day_3)[T.1]       0.0047      0.001      3.450      0.001       0.002       0.007\n",
      "C(day_4)[T.1]       0.0117      0.001      8.743      0.000       0.009       0.014\n",
      "C(day_5)[T.1]       0.0288      0.001     21.038      0.000       0.026       0.031\n",
      "C(day_6)[T.1]       0.0047      0.001      3.358      0.001       0.002       0.007\n",
      "duration           -0.0223      0.000    -61.325      0.000      -0.023      -0.022\n",
      "================================================================================\n",
      "Omnibus:                 34924335.607   Durbin-Watson:                     0.253\n",
      "Prob(Omnibus):                  0.000   Jarque-Bera (JB):   3174822470170318.000\n",
      "Skew:                         214.452   Prob(JB):                           0.00\n",
      "Kurtosis:                  104400.755   Cond. No.                           9.13\n",
      "================================================================================\n",
=======
      "Dep. Variable:             like_count   R-squared:                       0.002\n",
      "Model:                            OLS   Adj. R-squared:                  0.002\n",
      "Method:                 Least Squares   F-statistic:                     9.299\n",
      "Date:                Tue, 20 Dec 2022   Prob (F-statistic):           3.09e-14\n",
      "Time:                        19:39:47   Log-Likelihood:                -53429.\n",
      "No. Observations:               38467   AIC:                         1.069e+05\n",
      "Df Residuals:                   38457   BIC:                         1.070e+05\n",
      "Df Model:                           9                                         \n",
      "Covariance Type:            nonrobust                                         \n",
      "=================================================================================\n",
      "                    coef    std err          t      P>|t|      [0.025      0.975]\n",
      "---------------------------------------------------------------------------------\n",
      "Intercept         0.0142      0.013      1.092      0.275      -0.011       0.040\n",
      "C(day_1)[T.1]    -0.0247      0.019     -1.325      0.185      -0.061       0.012\n",
      "C(day_2)[T.1]    -0.0434      0.018     -2.360      0.018      -0.079      -0.007\n",
      "C(day_3)[T.1]    -0.0314      0.019     -1.692      0.091      -0.068       0.005\n",
      "C(day_4)[T.1]    -0.0050      0.018     -0.273      0.785      -0.041       0.031\n",
      "C(day_5)[T.1]     0.0164      0.019      0.882      0.378      -0.020       0.053\n",
      "C(day_6)[T.1]    -0.0412      0.018     -2.251      0.024      -0.077      -0.005\n",
      "title_pos_scr    -0.0093      0.007     -1.406      0.160      -0.022       0.004\n",
      "title_neg_scr     0.0218      0.007      3.286      0.001       0.009       0.035\n",
      "duration         -0.0282      0.005     -5.408      0.000      -0.038      -0.018\n",
      "==============================================================================\n",
      "Omnibus:                    69389.383   Durbin-Watson:                   0.685\n",
      "Prob(Omnibus):                  0.000   Jarque-Bera (JB):         97420367.660\n",
      "Skew:                          13.293   Prob(JB):                         0.00\n",
      "Kurtosis:                     248.102   Cond. No.                         9.96\n",
      "==============================================================================\n",
>>>>>>> Stashed changes
      "\n",
      "Notes:\n",
      "[1] Standard Errors assume that the covariance matrix of the errors is correctly specified.\n"
     ]
    }
   ],
   "source": [
    "# Declares the model\n",
    "mod = smf.ols(\n",
    "    formula=\"like_count ~ C(pos_vid) + C(neg_vid) + duration + \\\n",
    "C(day_1) + C(day_2) + C(day_3) + C(day_4) + C(day_5) + C(day_6)\",\n",
    "    data=Xbzs,\n",
    ")\n",
    "\n",
    "# Fits the model (find the optimal coefficients, adding a random seed ensures consistency)\n",
    "np.random.seed(2)\n",
    "res = mod.fit()\n",
    "\n",
    "# Print thes summary output provided by the library.\n",
<<<<<<< Updated upstream
    "print(res.summary())\n"
=======
    "print(res.summary())"
   ]
  },
  {
   "cell_type": "markdown",
   "id": "f1ff74f8",
   "metadata": {},
   "source": [
    "In terms of like count, it seems that videos with negative titles attract more likes, duration of videos does not matter, and videos uploaded on Fridays and Saturdays also attract more likes."
>>>>>>> Stashed changes
   ]
  },
  {
   "cell_type": "code",
<<<<<<< Updated upstream
   "execution_count": 95,
=======
   "execution_count": 31,
>>>>>>> Stashed changes
   "id": "0bf7ebbd",
   "metadata": {
    "scrolled": true
   },
   "outputs": [
    {
     "name": "stdout",
     "output_type": "stream",
     "text": [
      "                            OLS Regression Results                            \n",
      "==============================================================================\n",
<<<<<<< Updated upstream
      "Dep. Variable:          dislike_count   R-squared:                       0.001\n",
      "Model:                            OLS   Adj. R-squared:                  0.001\n",
      "Method:                 Least Squares   F-statistic:                     441.8\n",
      "Date:                Wed, 21 Dec 2022   Prob (F-statistic):               0.00\n",
      "Time:                        15:48:07   Log-Likelihood:            -9.4687e+06\n",
      "No. Observations:             6991028   AIC:                         1.894e+07\n",
      "Df Residuals:                 6991018   BIC:                         1.894e+07\n",
      "Df Model:                           9                                         \n",
      "Covariance Type:            nonrobust                                         \n",
      "======================================================================================\n",
      "                         coef    std err          t      P>|t|      [0.025      0.975]\n",
      "--------------------------------------------------------------------------------------\n",
      "Intercept             -0.0243      0.001    -20.272      0.000      -0.027      -0.022\n",
      "C(pos_vid)[T.True]     0.0143      0.001     14.220      0.000       0.012       0.016\n",
      "C(neg_vid)[T.True]     0.0242      0.001     24.702      0.000       0.022       0.026\n",
      "C(day_1)[T.1]       5.229e-05      0.001      0.039      0.969      -0.003       0.003\n",
      "C(day_2)[T.1]          0.0048      0.001      3.621      0.000       0.002       0.007\n",
      "C(day_3)[T.1]          0.0093      0.001      7.033      0.000       0.007       0.012\n",
      "C(day_4)[T.1]          0.0246      0.001     18.693      0.000       0.022       0.027\n",
      "C(day_5)[T.1]          0.0313      0.001     23.394      0.000       0.029       0.034\n",
      "C(day_6)[T.1]          0.0058      0.001      4.250      0.000       0.003       0.008\n",
      "duration              -0.0172      0.000    -48.380      0.000      -0.018      -0.016\n",
      "===============================================================================\n",
      "Omnibus:                 27976936.228   Durbin-Watson:                    0.351\n",
      "Prob(Omnibus):                  0.000   Jarque-Bera (JB):   149663541960044.750\n",
      "Skew:                         101.944   Prob(JB):                          0.00\n",
      "Kurtosis:                   22669.034   Cond. No.                          9.13\n",
      "===============================================================================\n",
=======
      "Dep. Variable:          dislike_count   R-squared:                       0.002\n",
      "Model:                            OLS   Adj. R-squared:                  0.002\n",
      "Method:                 Least Squares   F-statistic:                     7.644\n",
      "Date:                Tue, 20 Dec 2022   Prob (F-statistic):           2.69e-11\n",
      "Time:                        19:39:48   Log-Likelihood:                -48797.\n",
      "No. Observations:               38467   AIC:                         9.761e+04\n",
      "Df Residuals:                   38457   BIC:                         9.770e+04\n",
      "Df Model:                           9                                         \n",
      "Covariance Type:            nonrobust                                         \n",
      "=================================================================================\n",
      "                    coef    std err          t      P>|t|      [0.025      0.975]\n",
      "---------------------------------------------------------------------------------\n",
      "Intercept        -0.0294      0.012     -2.543      0.011      -0.052      -0.007\n",
      "C(day_1)[T.1]     0.0244      0.017      1.474      0.141      -0.008       0.057\n",
      "C(day_2)[T.1]     0.0209      0.016      1.282      0.200      -0.011       0.053\n",
      "C(day_3)[T.1]     0.0257      0.016      1.564      0.118      -0.007       0.058\n",
      "C(day_4)[T.1]     0.0510      0.016      3.158      0.002       0.019       0.083\n",
      "C(day_5)[T.1]     0.0522      0.016      3.171      0.002       0.020       0.084\n",
      "C(day_6)[T.1]     0.0309      0.016      1.908      0.056      -0.001       0.063\n",
      "title_pos_scr    -0.0372      0.006     -6.373      0.000      -0.049      -0.026\n",
      "title_neg_scr    -0.0174      0.006     -2.954      0.003      -0.029      -0.006\n",
      "duration         -0.0168      0.005     -3.644      0.000      -0.026      -0.008\n",
      "==============================================================================\n",
      "Omnibus:                   114249.248   Durbin-Watson:                   1.344\n",
      "Prob(Omnibus):                  0.000   Jarque-Bera (JB):      15419684446.159\n",
      "Skew:                          42.466   Prob(JB):                         0.00\n",
      "Kurtosis:                    3103.533   Cond. No.                         9.96\n",
      "==============================================================================\n",
>>>>>>> Stashed changes
      "\n",
      "Notes:\n",
      "[1] Standard Errors assume that the covariance matrix of the errors is correctly specified.\n"
     ]
    }
   ],
   "source": [
    "# Declares the model\n",
    "mod = smf.ols(\n",
    "    formula=\"dislike_count ~ C(pos_vid) + C(neg_vid) + duration + \\\n",
    "C(day_1) + C(day_2) + C(day_3) + C(day_4) + C(day_5) + C(day_6)\",\n",
    "    data=Xbzs,\n",
    ")\n",
    "\n",
    "# Fits the model (find the optimal coefficients, adding a random seed ensures consistency)\n",
    "np.random.seed(2)\n",
    "res = mod.fit()\n",
    "\n",
    "# Print thes summary output provided by the library.\n",
    "print(res.summary())\n"
   ]
  },
  {
   "cell_type": "markdown",
   "id": "f73a8a4d",
   "metadata": {},
   "source": [
    "The baseline of the model is: A video that is being uploaded on Monday, with neutral titles, and median duration.\n",
    "\n",
    "|  | View Counts | Like Counts | Dislike Counts |\n",
    "| :--- | :---: | :---: | :---: |\n",
    "| Intercept | -0.0211 (0.000***) | -0.0185 (0.000***) | -0.0243 (0.000***) |\n",
    "| Tuesday | 0.0015 (0.270) | 0.0007 (0.582) | 5.229e-05 (0.969) |\n",
    "| Wednesday | 0.0095 (0.000***) | 0.0017 (0.218) | 0.0048 (0.000***) |\n",
    "| Thursday |  0.0141 (0.000***) | 0.0047 (0.001***) | 0.0093 (0.000***) |\n",
    "| Friday |  0.0223 (0.000***) | 0.0117 (0.000***) | 0.0246 (0.000***) |\n",
    "| Saturday | 0.0237 (0.000***) | 0.0288 (0.000***) | 0.0313 (0.000***) |\n",
    "| Sunday |  -2.911e-05 (0.983) | 0.0047 (0.001***) | 0.0058 (0.000***) |\n",
    "| Positive title | 0.0167 (0.000***) | 0.0137 (0.000***) | 0.0143 (0.000***) |\n",
    "| Negative title | 0.0137 (0.000***) | 0.0179 (0.000***) | 0.0242 (0.000***) |\n",
    "| Duration | -0.0150 (0.000***) | -0.0223 (0.000***) | -0.0172 (0.000***) |\n",
    "| $R^2$ | 0.000 | 0.001 | 0.001 |\n",
    "| Adj. $R^2$ | 0.000 | 0.001 | 0.001 |\n",
    "| No. obs. | 7040768 | 6991028 | 6991028 |\n",
    "\n",
    "SEs of coefficients are in parentheses. $^{***}P <0.001$, $^{**}P<0.01$, and $^{*}P<0.05$.\n"
   ]
  },
  {
   "cell_type": "markdown",
<<<<<<< Updated upstream
   "id": "23f07254",
=======
   "id": "5a8ed8b8",
>>>>>>> Stashed changes
   "metadata": {},
   "source": [
    "The result shows title sentiment, duration and upload time of the week are all statistically significant when determining view counts of the video. This alligns with the result from previous model. More specifically:\n",
    "* Videos uploaded between Wednesday and Saturday are more likely to have higher view counts  \n",
    "* Showing positive or negative sentiments would increase view counts compared with neutral sentiments, like counts and dislike counts. Comparing to positive sentiments, showing negative sentiments seems to attract less view counts, but more likes and dislikes.\n",
    "* Having longer video duration would decrease view counts, like counts and dislike counts."
   ]
  },
  {
   "cell_type": "markdown",
   "id": "65e28dae",
   "metadata": {},
   "source": [
    "### Analyze the effect of the Capitalize words in title\n"
   ]
  },
  {
   "cell_type": "markdown",
   "id": "8e0c50ee",
   "metadata": {},
   "source": [
    "Lets implement the sub question 2, the goal is to find a relation btw the number of views and the titles (length, sentiment, casefold, etc...). For that an observational studies would be highly recommended to compare what is comparable. For that we will keep the channel id to see the number of subs of the channel and compare pairwise similar nb of subs."
   ]
  },
  {
   "cell_type": "code",
   "execution_count": 32,
   "id": "cb21aab4",
   "metadata": {},
   "outputs": [],
   "source": [
    "title_metadatas = pd.read_feather(\"./data/yt_metadata_title_filtered.feather\")\n"
   ]
  },
  {
   "cell_type": "code",
   "execution_count": 33,
   "id": "e14e378a",
   "metadata": {},
   "outputs": [
    {
     "data": {
      "text/html": [
       "<div>\n",
       "<style scoped>\n",
       "    .dataframe tbody tr th:only-of-type {\n",
       "        vertical-align: middle;\n",
       "    }\n",
       "\n",
       "    .dataframe tbody tr th {\n",
       "        vertical-align: top;\n",
       "    }\n",
       "\n",
       "    .dataframe thead th {\n",
       "        text-align: right;\n",
       "    }\n",
       "</style>\n",
       "<table border=\"1\" class=\"dataframe\">\n",
       "  <thead>\n",
       "    <tr style=\"text-align: right;\">\n",
       "      <th></th>\n",
       "      <th>display_id</th>\n",
       "      <th>title</th>\n",
       "    </tr>\n",
       "  </thead>\n",
       "  <tbody>\n",
       "    <tr>\n",
       "      <th>0</th>\n",
       "      <td>M0x6TJmMwL4</td>\n",
       "      <td>Blasphemous is Amazing!</td>\n",
       "    </tr>\n",
       "    <tr>\n",
       "      <th>1</th>\n",
       "      <td>ofAIp6dad00</td>\n",
       "      <td>I review all 42 Genesis Mini games</td>\n",
       "    </tr>\n",
       "  </tbody>\n",
       "</table>\n",
       "</div>"
      ],
      "text/plain": [
       "    display_id                               title\n",
       "0  M0x6TJmMwL4             Blasphemous is Amazing!\n",
       "1  ofAIp6dad00  I review all 42 Genesis Mini games"
      ]
     },
     "execution_count": 33,
     "metadata": {},
     "output_type": "execute_result"
    }
   ],
   "source": [
    "title_metadatas.drop([\"index\", \"categories\"], axis=1, inplace=True)\n",
    "title_metadatas.head(2)\n"
   ]
  },
  {
   "cell_type": "code",
   "execution_count": 34,
   "id": "199f8a20",
   "metadata": {},
   "outputs": [],
   "source": [
    "metadatas = pd.merge(video_metadatas, title_metadatas, on=\"display_id\")\n"
   ]
  },
  {
   "cell_type": "code",
   "execution_count": null,
   "id": "06046b85",
   "metadata": {},
   "outputs": [],
   "source": [
    "metadatas.head(2)\n"
   ]
  },
  {
   "cell_type": "markdown",
   "id": "21a9f2d3",
   "metadata": {},
   "source": [
    "Distribution of weekdays upload dates"
   ]
  },
  {
   "cell_type": "code",
   "execution_count": 35,
   "id": "a986ccd6",
   "metadata": {},
   "outputs": [
    {
     "data": {
      "text/plain": [
       "Text(0, 0.5, 'Number of videos')"
      ]
     },
     "execution_count": 35,
     "metadata": {},
     "output_type": "execute_result"
    },
    {
     "data": {
      "image/png": "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\n",
      "text/plain": [
       "<Figure size 432x288 with 1 Axes>"
      ]
     },
     "metadata": {
      "needs_background": "light"
     },
     "output_type": "display_data"
    }
   ],
   "source": [
    "metadatas.weekNumber.value_counts().plot(kind=\"bar\")\n",
    "plt.title(\"Distribution of the weekdays upload dates\")\n",
    "plt.xlabel(\"Week day\")\n",
    "plt.ylabel(\"Number of videos\")\n"
   ]
  },
  {
   "cell_type": "code",
   "execution_count": 36,
   "id": "67ed8e45",
   "metadata": {},
   "outputs": [],
   "source": [
    "# we need to improve the hw1 method a bit because we want to make sure that titles with a lot of spaces\n",
    "# don't have too many words and if there is a typo (e.g \"Welcome,in my video\" should be counted as 4 words and not 3)\n",
    "def count_words(x: str):\n",
    "    new_x = x.replace(\",\", \" \")\n",
    "    # change anything that isn’t an alphanumeric character or whitespace, and replaces it with a space\n",
    "    new_x = re.sub(r\"[^\\w\\s]\", \" \", new_x)\n",
    "    # Change many consecutive spaces into a single space\n",
    "    new_x = re.sub(\" +\", \" \", new_x)\n",
    "    # delete begin/end spaces\n",
    "    new_x = new_x.strip()\n",
    "    return len(new_x.split(\" \"))\n",
    "\n",
    "\n",
    "def get_freq_capital_words(sentence: str):\n",
    "    new_x = sentence.replace(\",\", \" \")\n",
    "    # change anything that isn’t an alphanumeric character or whitespace, and replaces it with a space\n",
    "    new_x = re.sub(r\"[^\\w\\s]\", \" \", new_x)\n",
    "    # Change many consecutive spaces into a single space\n",
    "    new_x = re.sub(\" +\", \" \", new_x)\n",
    "    # delete begin/end spaces\n",
    "    new_x = new_x.strip().split(\" \")\n",
    "    nb_capital_words = 0\n",
    "    for word in new_x:\n",
    "        if word.isupper():\n",
    "            nb_capital_words += 1\n",
    "    return nb_capital_words / len(new_x)\n"
   ]
  },
  {
   "cell_type": "code",
   "execution_count": 37,
   "id": "6c9d21a9",
   "metadata": {},
   "outputs": [
    {
     "name": "stdout",
     "output_type": "stream",
     "text": [
      "4\n",
      "4\n",
      "7\n",
      "5\n",
      "10\n",
      "2\n",
      "0.5\n",
      "0.5\n"
     ]
    }
   ],
   "source": [
    "# test the function\n",
    "print(count_words(\"Salut     je suis la\"))\n",
    "print(count_words(\"Salut,je suis la\"))\n",
    "print(count_words(\"#FuckCancer | I'VE GOT SOME GREAT NEWS!\"))\n",
    "print(count_words(\"DISNEY CHRISTMAS VLOG! || Zak Longo\"))\n",
    "print(count_words(\"Sims 4 - SHOOTING SIMS WITH A GUN - The Sims 4\"))\n",
    "print(count_words(\"###ADA#ada##\"))\n",
    "\n",
    "# test capitalize words function\n",
    "print(get_freq_capital_words(\"Sims 4 - SHOOTING SIMS WITH A GUN - The Sims 4\"))\n",
<<<<<<< Updated upstream
    "print(get_freq_capital_words(\"###ADA###salut|||test&SALUT\"))\n"
=======
    "print(get_freq_capital_words(\"###ADA###salut|||test&SALUT\"))"
   ]
  },
  {
   "cell_type": "code",
   "execution_count": 38,
   "id": "a5128965",
   "metadata": {},
   "outputs": [],
   "source": [
    "video_metadatas[\"title_nb_words\"] = title_metadatas.title.apply(\n",
    "    lambda title: count_words(title)\n",
    ")\n",
    "\n",
    "\n",
    "video_metadatas[\"freq_capitalize_words\"] = title_metadatas.title.apply(\n",
    "    lambda title: get_freq_capital_words(title)\n",
    ")"
   ]
  },
  {
   "cell_type": "code",
   "execution_count": 39,
   "id": "bce87c54",
   "metadata": {},
   "outputs": [
    {
     "data": {
      "text/plain": [
       "Text(0, 0.5, 'nb of titles')"
      ]
     },
     "execution_count": 39,
     "metadata": {},
     "output_type": "execute_result"
    },
    {
     "data": {
      "image/png": "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\n",
      "text/plain": [
       "<Figure size 432x288 with 1 Axes>"
      ]
     },
     "metadata": {
      "needs_background": "light"
     },
     "output_type": "display_data"
    }
   ],
   "source": [
    "# distrib of the freq capitalize words.\n",
    "# process for the plot\n",
    "freq_capit_words = round(video_metadatas.freq_capitalize_words, 1)\n",
    "values_counts = freq_capit_words.value_counts().sort_index()\n",
    "values_counts.plot(kind=\"bar\")\n",
    "plt.title(\"distrib. of the freq. of capitalize words\")\n",
    "plt.xlabel(\"frequencies of upper word\")\n",
    "plt.ylabel(\"nb of titles\")"
   ]
  },
  {
   "cell_type": "code",
   "execution_count": 40,
   "id": "873301e1",
   "metadata": {},
   "outputs": [],
   "source": [
    "binary_freq_df = video_metadatas[\n",
    "    (video_metadatas.freq_capitalize_words == 0)\n",
    "    | (video_metadatas.freq_capitalize_words == 1)\n",
    "]\n",
    "\n",
    "no_upper_word_df = binary_freq_df[binary_freq_df[\"freq_capitalize_words\"] == 0]\n",
    "full_upper_word_df = binary_freq_df[binary_freq_df[\"freq_capitalize_words\"] == 1]"
   ]
  },
  {
   "cell_type": "code",
   "execution_count": 41,
   "id": "889f721e",
   "metadata": {},
   "outputs": [
    {
     "name": "stdout",
     "output_type": "stream",
     "text": [
      "                            OLS Regression Results                            \n",
      "==============================================================================\n",
      "Dep. Variable:         view_count_log   R-squared:                       0.002\n",
      "Model:                            OLS   Adj. R-squared:                  0.002\n",
      "Method:                 Least Squares   F-statistic:                     152.5\n",
      "Date:                Tue, 20 Dec 2022   Prob (F-statistic):           7.28e-67\n",
      "Time:                        19:40:27   Log-Likelihood:            -3.0283e+05\n",
      "No. Observations:              129754   AIC:                         6.057e+05\n",
      "Df Residuals:                  129751   BIC:                         6.057e+05\n",
      "Df Model:                           2                                         \n",
      "Covariance Type:            nonrobust                                         \n",
      "=========================================================================================\n",
      "                            coef    std err          t      P>|t|      [0.025      0.975]\n",
      "-----------------------------------------------------------------------------------------\n",
      "Intercept                 8.4218      0.019    439.777      0.000       8.384       8.459\n",
      "title_nb_words            0.0346      0.002     17.450      0.000       0.031       0.039\n",
      "freq_capitalize_words    -0.0262      0.023     -1.165      0.244      -0.070       0.018\n",
      "==============================================================================\n",
      "Omnibus:                       40.128   Durbin-Watson:                   0.411\n",
      "Prob(Omnibus):                  0.000   Jarque-Bera (JB):               37.355\n",
      "Skew:                          -0.012   Prob(JB):                     7.74e-09\n",
      "Kurtosis:                       2.921   Cond. No.                         32.4\n",
      "==============================================================================\n",
      "\n",
      "Notes:\n",
      "[1] Standard Errors assume that the covariance matrix of the errors is correctly specified.\n"
     ]
    }
   ],
   "source": [
    "video_metadatas[\"view_count_log\"] = np.log(\n",
    "    video_metadatas.view_count, where=video_metadatas.view_count != 0\n",
    ")\n",
    "mod = smf.ols(\n",
    "    formula=\"view_count_log ~ title_nb_words + freq_capitalize_words\",\n",
    "    data=video_metadatas,\n",
    ")\n",
    "res = mod.fit()\n",
    "print(res.summary())"
>>>>>>> Stashed changes
   ]
  },
  {
   "cell_type": "code",
   "execution_count": 42,
   "id": "9b871896",
   "metadata": {},
   "outputs": [],
   "source": [
    "metadatas[\"title_nb_words\"] = metadatas.title.apply(lambda title: count_words(title))\n"
   ]
  },
  {
   "cell_type": "code",
   "execution_count": 43,
   "id": "98ac6a6a",
   "metadata": {},
   "outputs": [],
   "source": [
    "metadatas[\"freq_capitalize_words\"] = metadatas.title.apply(\n",
    "    lambda title: get_freq_capital_words(title)\n",
    ")\n"
   ]
  },
  {
   "cell_type": "code",
   "execution_count": 44,
   "id": "bfe861c1",
   "metadata": {},
   "outputs": [
    {
     "data": {
      "text/html": [
       "<div>\n",
       "<style scoped>\n",
       "    .dataframe tbody tr th:only-of-type {\n",
       "        vertical-align: middle;\n",
       "    }\n",
       "\n",
       "    .dataframe tbody tr th {\n",
       "        vertical-align: top;\n",
       "    }\n",
       "\n",
       "    .dataframe thead th {\n",
       "        text-align: right;\n",
       "    }\n",
       "</style>\n",
       "<table border=\"1\" class=\"dataframe\">\n",
       "  <thead>\n",
       "    <tr style=\"text-align: right;\">\n",
       "      <th></th>\n",
       "      <th>categories</th>\n",
       "      <th>upload_date</th>\n",
       "      <th>duration</th>\n",
       "      <th>like_count</th>\n",
       "      <th>dislike_count</th>\n",
       "      <th>view_count</th>\n",
       "      <th>channel_id</th>\n",
       "      <th>display_id</th>\n",
       "      <th>yearNumber</th>\n",
       "      <th>weekNumber</th>\n",
       "      <th>...</th>\n",
       "      <th>title_pos_scr</th>\n",
       "      <th>title_neg_scr</th>\n",
       "      <th>title_neu_scr</th>\n",
       "      <th>title_com_scr</th>\n",
       "      <th>pos_vid</th>\n",
       "      <th>neg_vid</th>\n",
       "      <th>neu_vid</th>\n",
       "      <th>title</th>\n",
       "      <th>title_nb_words</th>\n",
       "      <th>freq_capitalize_words</th>\n",
       "    </tr>\n",
       "  </thead>\n",
       "  <tbody>\n",
       "    <tr>\n",
       "      <th>1503412</th>\n",
       "      <td>Gaming</td>\n",
       "      <td>2019-01-03</td>\n",
       "      <td>300</td>\n",
       "      <td>33.0</td>\n",
       "      <td>1.0</td>\n",
       "      <td>170.0</td>\n",
       "      <td>UCRNYGUtlicoxsleopw9HUeQ</td>\n",
       "      <td>GFUyeBr10hg</td>\n",
       "      <td>2019</td>\n",
       "      <td>3</td>\n",
       "      <td>...</td>\n",
       "      <td>0.0</td>\n",
       "      <td>0.0</td>\n",
       "      <td>1.0</td>\n",
       "      <td>0.0</td>\n",
       "      <td>False</td>\n",
       "      <td>False</td>\n",
       "      <td>True</td>\n",
       "      <td>Apuntale a la cabeza #LaQueTeGusta</td>\n",
       "      <td>5</td>\n",
       "      <td>0.0</td>\n",
       "    </tr>\n",
       "  </tbody>\n",
       "</table>\n",
       "<p>1 rows × 21 columns</p>\n",
       "</div>"
      ],
      "text/plain": [
       "        categories upload_date  duration  like_count  dislike_count  \\\n",
       "1503412     Gaming  2019-01-03       300        33.0            1.0   \n",
       "\n",
       "         view_count                channel_id   display_id  yearNumber  \\\n",
       "1503412       170.0  UCRNYGUtlicoxsleopw9HUeQ  GFUyeBr10hg        2019   \n",
       "\n",
       "         weekNumber  ...  title_pos_scr  title_neg_scr  title_neu_scr  \\\n",
       "1503412           3  ...            0.0            0.0            1.0   \n",
       "\n",
       "         title_com_scr  pos_vid  neg_vid  neu_vid  \\\n",
       "1503412            0.0    False    False     True   \n",
       "\n",
       "                                      title title_nb_words  \\\n",
       "1503412  Apuntale a la cabeza #LaQueTeGusta              5   \n",
       "\n",
       "         freq_capitalize_words  \n",
       "1503412                    0.0  \n",
       "\n",
       "[1 rows x 21 columns]"
      ]
     },
     "execution_count": 44,
     "metadata": {},
     "output_type": "execute_result"
    }
   ],
   "source": [
    "metadatas.head()\n"
   ]
  },
  {
   "cell_type": "code",
   "execution_count": 45,
   "id": "b5a5a64f",
   "metadata": {},
   "outputs": [
    {
     "data": {
      "text/plain": [
       "Text(0, 0.5, 'nb of titles')"
      ]
     },
     "execution_count": 45,
     "metadata": {},
     "output_type": "execute_result"
    },
    {
     "data": {
      "image/png": "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\n",
      "text/plain": [
       "<Figure size 432x288 with 1 Axes>"
      ]
     },
     "metadata": {
      "needs_background": "light"
     },
     "output_type": "display_data"
    }
   ],
   "source": [
    "# distrib of the freq capitalize words.\n",
    "# process for the plot\n",
    "freq_capit_words = round(metadatas.freq_capitalize_words, 1)\n",
    "values_counts = freq_capit_words.value_counts().sort_index()\n",
    "values_counts.plot(kind=\"bar\")\n",
    "plt.title(\"distrib. of the freq. of capitalize words\")\n",
    "plt.xlabel(\"frequencies of upper word\")\n",
    "plt.ylabel(\"nb of titles\")\n"
   ]
  },
  {
   "cell_type": "code",
   "execution_count": 46,
   "id": "d40e75bf",
   "metadata": {},
   "outputs": [
    {
     "name": "stdout",
     "output_type": "stream",
     "text": [
      "# of full upper words title (183480, 21)\n",
      "# of full lower words title (1136521, 21)\n"
     ]
    }
   ],
   "source": [
    "lower_title_df = metadatas[metadatas[\"freq_capitalize_words\"] < 0.3]\n",
    "upper_title_df = metadatas[metadatas[\"freq_capitalize_words\"] >= 0.3]\n",
    "\n",
<<<<<<< Updated upstream
    "print(\"# of upper words title\", upper_title_df.shape)\n",
    "print(\"# of lower words title\", lower_title_df.shape)\n"
=======
    "no_upper_word_df = binary_freq_df[binary_freq_df[\"freq_capitalize_words\"] == 0]\n",
    "full_upper_word_df = binary_freq_df[binary_freq_df[\"freq_capitalize_words\"] == 1]\n",
    "\n",
    "print(\"# of full upper words title\", full_upper_word_df.shape)\n",
    "print(\"# of full lower words title\", no_upper_word_df.shape)"
   ]
  },
  {
   "cell_type": "code",
   "execution_count": 47,
   "id": "78c961be",
   "metadata": {},
   "outputs": [
    {
     "data": {
      "text/html": [
       "<div>\n",
       "<style scoped>\n",
       "    .dataframe tbody tr th:only-of-type {\n",
       "        vertical-align: middle;\n",
       "    }\n",
       "\n",
       "    .dataframe tbody tr th {\n",
       "        vertical-align: top;\n",
       "    }\n",
       "\n",
       "    .dataframe thead th {\n",
       "        text-align: right;\n",
       "    }\n",
       "</style>\n",
       "<table border=\"1\" class=\"dataframe\">\n",
       "  <thead>\n",
       "    <tr style=\"text-align: right;\">\n",
       "      <th></th>\n",
       "      <th>categories</th>\n",
       "      <th>upload_date</th>\n",
       "      <th>duration</th>\n",
       "      <th>like_count</th>\n",
       "      <th>dislike_count</th>\n",
       "      <th>view_count</th>\n",
       "      <th>channel_id</th>\n",
       "      <th>display_id</th>\n",
       "      <th>yearNumber</th>\n",
       "      <th>weekNumber</th>\n",
       "      <th>...</th>\n",
       "      <th>title_pos_scr</th>\n",
       "      <th>title_neg_scr</th>\n",
       "      <th>title_neu_scr</th>\n",
       "      <th>title_com_scr</th>\n",
       "      <th>pos_vid</th>\n",
       "      <th>neg_vid</th>\n",
       "      <th>neu_vid</th>\n",
       "      <th>title_nb_words</th>\n",
       "      <th>freq_capitalize_words</th>\n",
       "      <th>view_count_log</th>\n",
       "    </tr>\n",
       "  </thead>\n",
       "  <tbody>\n",
       "    <tr>\n",
       "      <th>1792</th>\n",
       "      <td>Gaming</td>\n",
       "      <td>2019-09-29</td>\n",
       "      <td>892</td>\n",
       "      <td>58.0</td>\n",
       "      <td>3.0</td>\n",
       "      <td>584.0</td>\n",
       "      <td>UCzWm1-4XF7AHxVUTkHCM1uw</td>\n",
       "      <td>M0x6TJmMwL4</td>\n",
       "      <td>2019</td>\n",
       "      <td>6</td>\n",
       "      <td>...</td>\n",
       "      <td>0.672</td>\n",
       "      <td>0.0</td>\n",
       "      <td>0.328</td>\n",
       "      <td>0.6239</td>\n",
       "      <td>True</td>\n",
       "      <td>False</td>\n",
       "      <td>False</td>\n",
       "      <td>8.0</td>\n",
       "      <td>0.0</td>\n",
       "      <td>6.369901</td>\n",
       "    </tr>\n",
       "    <tr>\n",
       "      <th>1793</th>\n",
       "      <td>Gaming</td>\n",
       "      <td>2019-09-22</td>\n",
       "      <td>2428</td>\n",
       "      <td>60.0</td>\n",
       "      <td>11.0</td>\n",
       "      <td>1023.0</td>\n",
       "      <td>UCzWm1-4XF7AHxVUTkHCM1uw</td>\n",
       "      <td>ofAIp6dad00</td>\n",
       "      <td>2019</td>\n",
       "      <td>6</td>\n",
       "      <td>...</td>\n",
       "      <td>0.000</td>\n",
       "      <td>0.0</td>\n",
       "      <td>1.000</td>\n",
       "      <td>0.0000</td>\n",
       "      <td>False</td>\n",
       "      <td>False</td>\n",
       "      <td>True</td>\n",
       "      <td>8.0</td>\n",
       "      <td>0.0</td>\n",
       "      <td>6.930495</td>\n",
       "    </tr>\n",
       "  </tbody>\n",
       "</table>\n",
       "<p>2 rows × 21 columns</p>\n",
       "</div>"
      ],
      "text/plain": [
       "     categories upload_date  duration  like_count  dislike_count  view_count  \\\n",
       "1792     Gaming  2019-09-29       892        58.0            3.0       584.0   \n",
       "1793     Gaming  2019-09-22      2428        60.0           11.0      1023.0   \n",
       "\n",
       "                    channel_id   display_id  yearNumber  weekNumber  ...  \\\n",
       "1792  UCzWm1-4XF7AHxVUTkHCM1uw  M0x6TJmMwL4        2019           6  ...   \n",
       "1793  UCzWm1-4XF7AHxVUTkHCM1uw  ofAIp6dad00        2019           6  ...   \n",
       "\n",
       "      title_pos_scr  title_neg_scr  title_neu_scr  title_com_scr  pos_vid  \\\n",
       "1792          0.672            0.0          0.328         0.6239     True   \n",
       "1793          0.000            0.0          1.000         0.0000    False   \n",
       "\n",
       "      neg_vid  neu_vid  title_nb_words  freq_capitalize_words  view_count_log  \n",
       "1792    False    False             8.0                    0.0        6.369901  \n",
       "1793    False     True             8.0                    0.0        6.930495  \n",
       "\n",
       "[2 rows x 21 columns]"
      ]
     },
     "execution_count": 47,
     "metadata": {},
     "output_type": "execute_result"
    }
   ],
   "source": [
    "# get the\n",
    "video_metadatas.head(2)"
>>>>>>> Stashed changes
   ]
  },
  {
   "cell_type": "code",
   "execution_count": 48,
   "id": "6fd725af",
   "metadata": {},
   "outputs": [
    {
     "name": "stdout",
     "output_type": "stream",
     "text": [
      "                            OLS Regression Results                            \n",
      "==============================================================================\n",
      "Dep. Variable:         view_count_log   R-squared:                       0.007\n",
      "Model:                            OLS   Adj. R-squared:                  0.007\n",
      "Method:                 Least Squares   F-statistic:                 1.040e+04\n",
      "Date:                Tue, 20 Dec 2022   Prob (F-statistic):               0.00\n",
      "Time:                        19:41:00   Log-Likelihood:            -7.2584e+06\n",
      "No. Observations:             3139185   AIC:                         1.452e+07\n",
      "Df Residuals:                 3139182   BIC:                         1.452e+07\n",
      "Df Model:                           2                                         \n",
      "Covariance Type:            nonrobust                                         \n",
      "=========================================================================================\n",
      "                            coef    std err          t      P>|t|      [0.025      0.975]\n",
      "-----------------------------------------------------------------------------------------\n",
      "Intercept                 8.2089      0.004   2142.871      0.000       8.201       8.216\n",
      "title_nb_words            0.0360      0.000     91.747      0.000       0.035       0.037\n",
      "freq_capitalize_words     0.4656      0.004    104.397      0.000       0.457       0.474\n",
      "==============================================================================\n",
      "Omnibus:                     2657.604   Durbin-Watson:                   0.432\n",
      "Prob(Omnibus):                  0.000   Jarque-Bera (JB):             2408.839\n",
      "Skew:                           0.032   Prob(JB):                         0.00\n",
      "Kurtosis:                       2.880   Cond. No.                         32.6\n",
      "==============================================================================\n",
      "\n",
      "Notes:\n",
      "[1] Standard Errors assume that the covariance matrix of the errors is correctly specified.\n"
     ]
    }
   ],
   "source": [
    "metadatas[\"view_count_log\"] = np.log(\n",
    "    metadatas.view_count, where=metadatas.view_count != 0\n",
    ")\n",
    "mod = smf.ols(\n",
    "    formula=\"view_count_log ~ title_nb_words + freq_capitalize_words\", data=metadatas\n",
    ")\n",
    "res = mod.fit()\n",
    "print(res.summary())\n"
   ]
  },
  {
   "cell_type": "markdown",
   "id": "25968963",
   "metadata": {},
   "source": [
    "The frequence of capitalize words in the titles is significant and it increases the number of views on the video. The number of words in the title is significant, however it doesnt seem to have a real impact on the number of views.\n",
    "\n",
    "Now match and compare the channels with ~ the same nb of subscribers\n"
   ]
  },
  {
   "cell_type": "code",
   "execution_count": 49,
   "id": "8be33cdc",
   "metadata": {},
   "outputs": [
    {
     "data": {
      "text/plain": [
       "(2812, 8)"
      ]
     },
     "execution_count": 49,
     "metadata": {},
     "output_type": "execute_result"
    }
   ],
   "source": [
    "sample_channels = df_channels[\n",
    "    (df_channels.subscribers_cc > 0) & (df_channels.subscribers_cc < 100_000)\n",
    "]\n",
    "sample_channels.shape\n"
   ]
  },
  {
   "cell_type": "code",
   "execution_count": 50,
   "id": "4bf8374f",
   "metadata": {},
   "outputs": [
    {
     "name": "stdout",
     "output_type": "stream",
     "text": [
      "(694617, 22)\n"
     ]
    },
    {
     "data": {
      "text/plain": [
       "2812"
      ]
     },
     "execution_count": 50,
     "metadata": {},
     "output_type": "execute_result"
    }
   ],
   "source": [
    "sample_metadatas = metadatas[metadatas.channel_id.isin(sample_channels.channel)]\n",
    "\n",
    "print(sample_metadatas.shape)\n",
    "len(sample_metadatas.groupby(\"channel_id\").count())\n"
   ]
  },
  {
   "cell_type": "code",
   "execution_count": 51,
   "id": "a3d9d425",
   "metadata": {},
   "outputs": [
    {
     "data": {
      "text/plain": [
       "Text(0, 0.5, 'nb of titles')"
      ]
     },
     "execution_count": 51,
     "metadata": {},
     "output_type": "execute_result"
    },
    {
     "data": {
      "image/png": "iVBORw0KGgoAAAANSUhEUgAAAaIAAAEjCAYAAABw5wUSAAAAOXRFWHRTb2Z0d2FyZQBNYXRwbG90bGliIHZlcnNpb24zLjUuMSwgaHR0cHM6Ly9tYXRwbG90bGliLm9yZy/YYfK9AAAACXBIWXMAAAsTAAALEwEAmpwYAAAqPUlEQVR4nO3debxVdb3/8dcbRUEBE+E6C2KSimkpqf1yTLtZ2c3UW045VA7dvHXTMrtioOWs3TLLMEXE6Zo5lNptMAQzh0RzQpFEQQUHFAQOOObn98f3u2Wx3eewD+x91oH9fj4e+3H2Wt+1vsNa++zPXt/1XWspIjAzMytLj7IrYGZmrc2ByMzMSuVAZGZmpXIgMjOzUjkQmZlZqRyIzMysVA5EKyFJt0gaW5ieIOnCJpQzWFJIGp6nd8/TAxpdVo2y15D0a0nzcpmDO7HudEnf7k51KpOkz0n6h6S3i5+bEuoxVtItDchnlKRH25temUi6UNKEsuuxvByIWsN+wPfqWbCT/7TPAusDDy5jvZbHl4FdgZ1zHZ6tXkDSEZLaulOduqlLgOuBQcA3S6zHN4FDKxMN/AF1HrBbA/KxJlm17ApY80XEnEbnKWm1iHgTeKHRedfp/cDjEfFISeXXstQ6FbZbtyDpfcAA4A8RMbPMukTEvCbl2wZ05Q+ShpPUMyLeKrsezeIjohVc7g4aK6lN0ouS/rvGMkv8spS0n6SHJb0maY6kiZLWlXQEMBIYlruWIs8jv/+6pBskLQTOqO6aK9hJ0oOSXpd0v6Ttl6Fd+0l6RNIbkp6VdLIkVdpD+vW8ay5/Qo31dwcuA9YstGVUYZFekkZLmi/pOUnfqVp/LUkXS3pJ0oK8jarbWVy+Zp1yN+AoSWMkvQpclef/v5znIkkzJV0kqV8hv/fs1+ou1zq349qSLpc0N+/v2yQNK2yjuXnR8bneu7eTz2qSzpA0I++TpyR9I6etIulSSU/nMv4h6URJPQrrj831H5Hb0ybpMkm9q5epvCcdxXy9sP8G11NWjbq/e5Rf+MxWv6YXlt9K0q15v78k6RpJ63WQ/7WSLipMn57z3LEw7zlJh+T3PSSdkj/Xb+TP+ecKy1bqeJCk8ZJeA47JbT8v78u5kn4MrFJVl10l3ZO37zxJ90raur26dxsR4dcK/AJ+DswEPglsDVwHzAfGFpaZAFyY368HvAmcAAzO63wVWBfoTerGmJKXWw/ondcL4KW87BBg07x+AMPzMrvn6SlV9XkBWKMTbdoe+CdwKjAUOIT0i/Y/c3p/YAxwV65j/xp5rEYKDAsLbemT06YDrwDHkY5i/jPX+6M5XcCdwK3ADnmZH+Ttun47da5Zp1zWfODEnM/mwAdze07I0zsCdwO/7sx+rXNb/ibvj11zub8ldRn2zttoq9z2/XK9V2snn2uA54D98/7fAzgsp/UETgM+kj8TXwBeBb5SWH8ssCC3Y+vcrpnABVXL3JLfr5W35ZjC/lulzrJGAY/Wms55rFd4bZ730dicvj7wMnA2sCWwDXAz8DegRzvb5mvAlML0X4HZwEl5evO8jTfM09/K+/Jg0uf7NNLn/UM5fXBefjpwAOl/bSPSZ2hebvMWwE9zPhPyequSflicB2yWlzkY2LLs76mlfk7LroBfy7HzoA/wBnBI1bxXaT8QbZc/5IPayXOJf+LC/AB+WjWv8g9THYhq1eernWjXVcD4GvV6rjB9YeUfsIN8jgDaasyfDlxTNe8fwIj8/uOkQNG7apkHgRM7KO89dcpl3Vw1bxxwadW8D+Vt9y/17tc6tmPlC3DXwry18pfZV/P0gLzM7nXks3cnyj4LuK0wPTbXv09h3qG5nWsWlrml1ue2k2Ut8Rnu4DPdA7gFuAfoleedBvy5arm1c/t3aKf8LXP6+sAauU0nkbo7AY4C/lFYfibw/ao8JgBXVv1fnVC1zCzg5Kr6T2VxIOqf19ut3v3UXV7umluxbUb6VXt3ZUak/vCOzps8BNwGPCrpeklfkzSwzvIm1blcrfpsVee6kP6x/1o1705gw2L31XJ6uGp6FikIQDoiWwOYnbs42pQGPWxN2uadVb3dtgcOrcq70t7NWLb9WsuWwDtV+cyj8/vjwzmf29tbQNKxkiZJmp3b8y1gk6rFHs7tqLib1M5ObdM6y6rH2aQjnn0j4vU8b3tS92px31QGndSsZ0Q8DrxI+iH2MWAa8L/AxyT1zPMn5Lr3Azag9ue7ep+8+7mRtBYp0BX35TvAvYXpOaRg/ofctXi8pI2XthG6Aw9WWLGpsytExD8l/SuwE/CvwFeAMyXtFhEPLWX1hctQx2Uh0i+7Whp1u/jqE7/B4nOmPUhfLLvUWG/+MpRVvd16kEaq/U+NZWcCH1iGMmrp6PPRme3Y4edM0heBHwPfJnWnzQe+Dny+E2XUV5EGlSXpcOBYYOeIKA646UHqkq01vP/FDrKcSOqunA3cHhHTJb1M6kLcDfhu1fK1tn/1vE7/v0XEkfnc0d7AvwGnS9o3Iv7Q2by6ko+IVmxPkr5Qd6rMkLQm6Zd7uyK5OyJOJf2jzAK+mJPfpOoE6DKoVZ/HO7H+Y6Qh0EU7k7rmFnQin2VtywOkc2bvRMSTVa+XliG/WvkPq5H3kxHxGsu4X2t4jPQ//tFCPv1I54oe62R9e5C+aGvZGbg3Ii6MiAci4klqHz18MLejYifSPprWTr619l+9ZbVL0v8DLgIOrfHj6wFgGDCjxr7p6LM3gbR9ds/vIQWno4ENK/MiYj7p/63W57vdfZKPZJ9nyc+ESOcwq5d9KCLOjohKXQ7voN7dggPRCix3c1wKnC3pE3k01Bg6+PKVtFMeufQRSZuQfjVtzOJ/gunAIEnbSRogafVlqNqIqvq8CVydy99Q0hRJHf2CPR/YLY92GppHG50AnNPJekwnjY77RG7LGnWudxup6+Q3kj4laVNJH5V0qqRaR0mddTawg6RfSPqwpPdL2kfSaKh/v0o6U9Kf2yskIv5BGqwwWtIukj4IXEk6iri63srmfH4FXCJp/7w9dpH0pbzIVGC7vK02l3QKta/bWRUYI2mYpE+Qzu38MiLa++U/nbSdBuf9VzknUk9ZNSmNfruRNBjkXknr5Vele/pnpPNo10raUdIQSXspjaDs20HWE0iDUXZgcSCaQDoP9mQsOTT+XODbeVTcUEmnkY6+z19K9X8CnCjpAEkfIB0Zrl9o26aSzlIakTlI0h6krsfO/OgohQPRiu/bpL77G/PfR4E7Olh+Hqkf+xbSCfrzgR9ExJU5/Xrgd8CfSd0MBy1DnU7K+T5AOtG9T+HLpiep62mt9laOiAeAfyeN0HqU9IV1FmkwQN0i4i7gF6QRX7NJo47qWS+ATwPjgV8CT5C+iD9A+jW7XCLiYdIotsGkX80PAWeyZNdPPft1fZZ+NHAkacTXb/PfNUiDDl7rZLUPIwWvC0ij8MayeB+OJm2fq4H7crtqfalOBCazuF3j6XifnEf6EfMYaf9t0omy2rMF6VzgCaQjjMrrPoCImEX6/3gH+H2u789IAxDeaC/TfJ7oBeCJiJidZ99O+vEwoWrxC0jB6BzSfv08sH9EPLiUup9PuiThEtK5oR7kywGyRaRReNeRAvblOf3speRbOuXRFmbWzSldY/NyRBxRdl06S+m6oAERsU/ZdbHux0dEZmZWKgciMzMrlbvmzMysVD4iMjOzUvmC1mUwYMCAGDx4cNnVMDNbodx///0vR8R77uTiQLQMBg8ezKRJ9d7txszMACTNqDXfXXNmZlYqByIzMyuVA5GZmZXKgcjMzErlQGRmZqVyIDIzs1I5EJmZWakciMzMrFQORGZmVirfWaEJBp906zKvO/2szzSwJmZm3Z+PiMzMrFQORGZmVioHIjMzK5UDkZmZlcqByMzMSuVAZGZmpXIgMjOzUjkQmZlZqRyIzMysVA5EZmZWKgciMzMrlQORmZmVyoHIzMxK5UBkZmalciAyM7NSORCZmVmpHIjMzKxUDkRmZlYqByIzMyuVA5GZmZXKgcjMzErlQGRmZqVyIDIzs1I5EJmZWakciMzMrFQORGZmVioHIjMzK1WXBCJJq0u6VNIMSQsk/V3Spwrpe0qaImmRpNslDSqkSdLZkl7Jr3MkqZA+OK+zKOexV1XZB+dyF0q6SVL/qnqNkTRf0guSjm/2tjAzsyV11RHRqsCzwG7AWsApwK9yEBkA3JDn9QcmAdcW1j0a2BfYFtgG2Ac4ppB+DfB3YB3gZODXkgYCSBoGjAa+BKwLLAJ+Xlh3FLA5MAjYAzhR0t4NarOZmdWhSwJRRCyMiFERMT0i3omIW4Cnge2B/YDJEXFdRLxOCg7bStoir344cH5EPBcRM4HzgSMAJA0FtgNGRsRrEXE98Aiwf173EODmiLgjItpIwW4/SX1z+mHADyJibkQ8DvyykreZmXWNUs4RSVoXGApMBoYBD1XSImIhMC3Ppzo9vy+mPRURCzpIL+Y9DXgTGCppbWCDDvKurvPRkiZJmjR79uz6G2tmZh3q8kAkqSdwFXB5REwB+gDzqhabB1SOWqrT5wF98nmizq5bTO9TmK617hIi4uKIGB4RwwcOHNh+A83MrFO6NBBJ6gFcQToqOS7PbgP6VS3aD1jQTno/oC0iYhnWLaa3FaZrrWtmZl2gywJRPoK5lDRoYP+IeCsnTSYNRKgstyawWZ7/nvT8vpg2pHDOp1Z6Me8hwOrA1IiYCzzfQd5mZtYFuvKI6CJgS+CzEfFaYf6NwNaS9pfUC/g+8HDutgMYBxwvaUNJGwAnAGMBImIq8CAwUlIvSZ8njay7Pq97FfBZSbvkAHcacEPhnNI4YISktfPgiKMqeZuZWdfoquuIBpGGXH8IeEFSW34dEhGzSaPcTgfmAjsCBxZWHw3cTBoN9yhwa55XcSAwPK97FnBAzpOImAwcSwpIL5HO//xHYd2RpIERM4CJwLkR8fvGtdzMzJZm1a4oJCJmAOog/TZgi3bSAjgxv2qlTwd27yDvq4Gr20l7A/hyfpmZWQl8ix8zMyuVA5GZmZXKgcjMzErlQGRmZqVyIDIzs1I5EJmZWakciMzMrFQORGZmVioHIjMzK5UDkZmZlcqByMzMSuVAZGZmpXIgMjOzUjkQmZlZqRyIzMysVA5EZmZWKgciMzMrlQORmZmVyoHIzMxK5UBkZmalciAyM7NSORCZmVmpHIjMzKxUDkRmZlYqByIzMyuVA5GZmZXKgcjMzErlQGRmZqVyIDIzs1I5EJmZWanqCkSSDpK0ZX7/AUl3SBovaYvmVs/MzFZ29R4R/RCYk9+fB/wNuAP4eTMqZWZmrWPVOpcbGBEvSuoF7AwcALwFvNy0mpmZWUuoNxDNlvR+4IPAfRHxhqQ1ADWvamZm1grq7Zr7AXA/cClwbp63J/BQvQVJOk7SJElvSBpbmD9YUkhqK7xOKaRL0tmSXsmvcySpav3bJS2SNEXSXlXlHixphqSFkm6S1L+QtrqkMZLmS3pB0vH1tsfMzBqjriOiiBgr6Vf5/aI8+17gwE6UNYt0rumTQO8a6e+LiLdrzD8a2BfYFgjgT8BTwC9y+jXA3cCn8+vXkjaPiNmShgGjgc8ADwAXk85rVeo9CtgcGASsB9wu6bGI+H0n2mVmZsuhM8O3ewP7SzoxT69K/V17RMQNEXET8EonygQ4HDg/Ip6LiJnA+cARAJKGAtsBIyPitYi4HngE2D+vewhwc0TcERFtwCnAfpL65vTDgB9ExNyIeBz4ZSVvMzPrGvUO394NeIL0xV7pNtscuKiBdZkh6TlJl0kaUJg/jCW7AB/K8yppT0XEgg7S3103IqYBbwJDJa0NbNBB3kuQdHTuWpw0e/bszrfOzMxqqveI6MfAFyNib6DSfXYvsEMD6vAy8BFS99j2QF/gqkJ6H2BeYXoe0CefJ6pOq6T3bWfdYnqfwnStdZcQERdHxPCIGD5w4MA6mmVmZvWot2ttcET8Ob+P/PfNTqzfrtxlNilPvijpOOB5Sf0iYj7QBvQrrNIPaIuIkFSdVkmvHCF1lN5WmH69xrpmZtYF6j0iekzSJ6vm7UU6H9NolUBXGRk3mTRQoWLbPK+SNqRwzqdW+rvrShoCrA5MjYi5wPMd5G1mZl2g3kB0AnCVpMuB3pJGA2OB79RbkKRV8wWxqwCrSOqV5+2YbxvUQ9I6wAXAhIiodJmNA46XtKGkDXJdxgJExFTgQWBkzu/zwDbA9Xndq4DPStpF0prAacANhXNK44ARktbOtys6qpK3mZl1jboCUUTcw+KjhTHA08AOEXFfJ8oaAbwGnAQcmt+PAIYAvyd1iT0KvAEcVFhvNHAz6ejrUeDWPK/iQGA4MBc4CzggImbnek8GjiUFpJdI53/+o7DuSGAaMAOYCJzrodtmZl1LEbH0pWwJw4cPj0mTJrWbPvikW5c57+lnfWaZ1zUz684k3R8Rw6vntzvYQNIVLD5f066IOGw562ZmZi2so1FvT3ZZLczMrGW1G4gi4tTKe0nrRcQL1ctIWq9ZFTMzs9ZQ76i5qe3Mf6xRFTEzs9ZUbyB6z+MeJPUD3mlsdczMrNV0eGcESc+SBiz0lvRMVfI6pDtfm5mZLbOl3aLnUNLR0O+ALxXmB/BiRDzRrIqZmVlr6DAQRcREAEkDCs8hMjMza5iOriM6OSJOz5MnFR6KuoSI+H4zKmZmZq2hoyOijQrvN252RczMrDV1dB3R1wrvj+ya6piZWaup9wmtc9qZ/1Jjq2NmZq2m3uuIelbPkNST9EgHMzOzZba064j+Qhqq3UvSHVXJGwF3NatiZmbWGpZ2HdElpOuIPgJcWpgfwIvA+CbVy8zMWsTSriO6HEDSPRExpWuqZGZmraTeJ7Q6CJmZWVPUO1jBzMysKRyIzMysVO0GIkn3FN6P7JrqmJlZq+noiGiopF75/QldURkzM2s9HY2a+w0wVdJ00vOIqq8jAiAidm1GxczMrDV0dK+5IyXtDAzmvdcRmZmZNcTSriO6E7hT0mqVa4rMzMwaaWl3VgAgIsZI2oP0lNYNgZnAlRHhOyuYmdlyqffu218FrgVeAG4AngeulnRUE+tmZmYtoK4jIuBE4BMR8VBlhqRrgeuBXzajYmZm1hrqvaB1HeCxqnlPAP0bWx0zM2s19QaiO4EfSVoDQNKawLn4MRBmZrac6g1ExwLbAPMkvQi8CmwLHNOkepmZWYuod9Tc88BukjYCNgBmRcRzTa2ZmZm1hHoHKwCQg48DkJmZNYzvvm1mZqVyIDIzs1J1qmtueUg6DjgC+CBwTUQcUUjbE/gZsAlwL3BERMzIaQLOAr6aF78U+G5ERE4fDFwG7Ag8AxwXEbcV8j4YOBMYAPwJ+HJEzMlpqwMXAQcAi4BzIuJHjW991xh80q3LvO70sz7TwJqYmdWv7iMiSZtLOlnSz/LfoZ0saxbwQ2BMVb4DSHdrOIV0XdIk0l0cKo4G9iWN0tsG2IclR+tdA/yddK3TycCvJQ3MeQ8DRpNuTbQuKdj8vLDuKGBzYBCwB3CipL072S4zM1sO9d7i52DSl/02wELSUc39eX5dIuKGiLgJeKUqaT9gckRcFxGvk4LDtpK2yOmHA+dHxHMRMRM4n3RkRQ6G2wEjI+K1iLgeeATYP697CHBzRNwREW2kYLefpL45/TDgBxExNyIeJ90l4oh622RmZsuv3q65HwKfjoh3n0kkaRfgCuDq5azDMODdWwdFxEJJ0/L8KdXp+f2wwrpPRcSCDtLfveg2IqZJepP00L+nSEPRq/Pet1YlJR1NOjpjk0026VwLzcysXfV2zfUF7q6adw+wZgPq0AeYVzVvXi6zVvo8oE8+d9TZdYvpfQrTtdZdQkRcHBHDI2L4wIEDO2yQmZnVr95A9CPgjMqjwyX1Bk7P85dXG9Cval4/YEE76f2AtjxYobPrFtPbCtO11jUzsy7QbtecpGeBqEwC6wHflDQXWDvPe540Im15TCadB6qUuyawWZ5fSd8W+Fue3rYqbYikvoXuuW1Z3F1YWbeS9xBgdWBqRCyQ9HxO/1ONvM3MrAt0dI7o0EYWJGnVXN4qwCr56Opt4EbgXEn7A7cC3wcejogpedVxwPGSfkcKjCcAPwWIiKmSHgRGShoBfIo0oKIyWOEq4O58PusB4DTghkLQGgeMkDSJNKruKODIRrbbzMw61m4gioiJDS5rBDCyMH0ocGpEjMpB6ELgStJ1RAcWlhsNDCGNhgO4JM+rOBAYC8wlXUd0QETMzm2YLOlYUkBaB7iNJQPNSNJ1RDOA14CzI+L3y91SMzOrW12j5iStRhrW/CEWn+QHICIOqyePiBhFGppdK+02YIt20oL0YL4T20mfDuzeQblX087Ivoh4A/hyfpmZWQnqHb59Oen8yc3Ai82rjpmZtZp6A9HewKYR8WoT62IrqOW5tRD49kJmra7e4dvPkEabmZmZNVS9R0TjgN9I+glVXXMRMb7htTIzs5ZRbyA6Lv89o2p+kEa0mZmZLZN6HxW+abMrYmZmrckPxjMzs1I5EJmZWakciMzMrFQORGZmVioHIjMzK5UDkZmZlcqByMzMSuVAZGZmpXIgMjOzUjkQmZlZqRyIzMysVA5EZmZWKgciMzMrlQORmZmVyoHIzMxK5UBkZmalciAyM7NSORCZmVmpHIjMzKxUDkRmZlYqByIzMyuVA5GZmZXKgcjMzErlQGRmZqVyIDIzs1I5EJmZWakciMzMrFQORGZmVqpuE4gkTZD0uqS2/HqikLanpCmSFkm6XdKgQpoknS3plfw6R5IK6YPzOotyHntVlXuwpBmSFkq6SVL/rmmxmZlBNwpE2XER0Se/PgAgaQBwA3AK0B+YBFxbWOdoYF9gW2AbYB/gmEL6NcDfgXWAk4FfSxqY8x4GjAa+BKwLLAJ+3qzGmZnZe3W3QFTLfsDkiLguIl4HRgHbStoipx8OnB8Rz0XETOB84AgASUOB7YCREfFaRFwPPALsn9c9BLg5Iu6IiDZSsNtPUt8uapuZWcvrboHoTEkvS/qrpN3zvGHAQ5UFImIhMC3Pf096fl9MeyoiFnSQXsx7GvAmMLS6YpKOljRJ0qTZs2cvW+vMzOw9ulMg+i4wBNgQuBi4WdJmQB9gXtWy84DKUUt1+jygTz5P1Nl1q9PfFREXR8TwiBg+cODAzrTLzMw6sGrZFaiIiHsLk5dLOgj4NNAG9KtavB9QOcqpTu8HtEVESOrsutXp1s0NPunWZV53+lmfaWBNzGxZdacjomoBCJhMGogAgKQ1gc3yfKrT8/ti2pCqcz7V6cW8hwCrA1Mb1gozM+tQtzgikvQ+YEdgIvA28EVgV+C/gDnAuZL2B24Fvg88HBFT8urjgOMl/Y4UvE4AfgoQEVMlPQiMlDQC+BRpZF1lsMJVwN2SdgEeAE4Dbqg6p2Rm1jLK6GXoFoEI6An8ENgC+CcwBdg3Ip4AyEHoQuBK4F7gwMK6o0nnlh7J05fkeRUHAmOBucAzwAERMRsgIiZLOpYUkNYBbgOObHzzzMysPd0iEOXA8JEO0m8jBalaaQGcmF+10qcDu3eQ99XA1fXX1szMGqlbBCKzFc3ydF+AB0qYFXXnwQpmZtYCHIjMzKxUDkRmZlYqByIzMyuVA5GZmZXKgcjMzErlQGRmZqXydURmKxjf6NVWNj4iMjOzUjkQmZlZqRyIzMysVA5EZmZWKg9WMLO6tOIgiVZscxl8RGRmZqXyEZGZWTfTao8Z8RGRmZmVyoHIzMxK5UBkZmal8jkiM+v2PHpt5eYjIjMzK5UDkZmZlcqByMzMSuVAZGZmpXIgMjOzUjkQmZlZqRyIzMysVA5EZmZWKgciMzMrlQORmZmVyoHIzMxK5UBkZmalciAyM7NSORCZmVmpWj4QSeov6UZJCyXNkHRw2XUyM2slfh4R/Ax4E1gX+BBwq6SHImJyqbUyM2sRLX1EJGlNYH/glIhoi4g7gd8CXyq3ZmZmrUMRUXYdSiPpw8BdEdG7MO/bwG4R8dmqZY8Gjs6THwCeWMZiBwAvL+O6y6usslut3DLLdptbo+wVtc2DImJg9cxW75rrA8yrmjcP6Fu9YERcDFy8vAVKmhQRw5c3nxWp7FYrt8yy3ebWKHtla3NLd80BbUC/qnn9gAUl1MXMrCW1eiCaCqwqafPCvG0BD1QwM+siLR2IImIhcANwmqQ1JX0M+BxwRROLXe7uvRWw7FYrt8yy3ebWKHulanNLD1aAdB0RMAb4BPAKcFJEXF1urczMWkfLByIzMytXS3fNmZlZ+RyIzMysVA5EZmZWKgeiLiBpbUmbSFq77LpY15D0MUktccG4pFUlfTC/WqLNAJJ6SdpOUvW1iM0qr6+kdSWpK8rrSg5ETSKpp6QzJD1Puh3GdOBlSbMknS6pZ0n1Wk3SU03Ku4ekEyX9Jre9f1X6rc0oN+fdR9KPJd0iaU9Jm0u6X9JcSdc160dAbvN7XsB1wID8vikk7VpVj+9Kuk/SJEkjJK3SpHLPkrR1fr816XZXf8mvxyVt2aRy50m6RNLOzch/KWVvlT9PiyRdL2kQ8BjwZ2CmpE80qdxVJI2UNAN4FZgFvCbpr5L2bEaZ7dSjqT+mHYia5yLgo8AhwL8AqwEDgUOBnXJ6GQQMblLeZwJfACYAWwIPStqqkL5Lk8oF+CnpHlivADcBBwH/AXyWtN3PaFK5bwNv1XitR/rSeKtJ5QLcUnj/38BhwHnAucAXgRFNKvfLpIvBAS4ALoqI90XE+4Cfk+5o3wyrA6sAv5P0pKTvSxrcpLKqXQj8ARgOTAPGA6dGxNqkz9mZTSr3J8DewEmk/XsfMBK4HLhM0oFNKrdrf0xHhF9NeAFzgbXaSVsbeLWJZf+zg9c7wD+bVO4zwPqF6SOB54Ht8/SCJrb5BWAN0v0D36mqxyDgmSaVOx6YCOyQyxlECvQvkb60BjWxzQsK76cAwwrTWwBPNqnc+UCv/H42sGohrUezPtvA/Px3TdKX8m2kQD8BOBxYs4nbei6LL3fpSXp0TI88rSa2+RVgncL0epX9SvpB+3gT23wJcDvwcWAd0r1J++fpPwOXNKosHxE1z+vA+u2krZfTm2UOsC8wtMZr6yaWuxbpiwmAiLgM+BrpF+zOQDMvWusVEYsioo30hfV8oR4zSMG/4SLi48BoYBzprhzPRMR0UtB/JpfdLMXt2T8Kz9CKiCmkZ2w1w0TgmPz+PtIXU8XuFD4DzRARCyNiXETsBQwB/gh8j/RjpFkWApvk94NJX8qV7TsQWNSkcl8nHXVXvA30AoiIe4CNm1QupEfk7BsR4yPilYh4OyLmRMR44ID8aoiWObFYgnOA2yVdCjxEuqt3P9K97L4CnNXEsu8HBkTEtOoESauTfsE1wz+AHYG/VmZExE2SXid1l/VqUrkAL0jqHxFzgM8UEyRtTOpfb4qIuFrSLaTuv/slfZPmBt2KNSTdkd/3ljSoEvgk/Qvpy7MZvgH8SdJ+wAzgZkl3ktq8E6n7uRne87mNiGdJ2/0MSTs1qVyAscBfczvfT+qSvE7StcC/A9c3qdxfAb+VdAGp/d8k3ZYMSevT3KBf+TFd/YQCaPCPad9ZoYkkfZLUhTCM1GXURrqh6riI+EMTyx0GvBURU9tJH9SMX+qSDgN6R8ToGmkfB0bkI4iGk/RF4M6ImFkj7WBgq4ho1jmTYlnDSedItgc2iIiXmljW4VWzJuajMSTtDewZEd9pUtk9gSNIgWcj4DXgYeDK9j53DSjzooj4WjPyrrP8L5COhv6X1OU8CtiGdFR4dkS80YQyVyMd7e1DCkT/B5weEa9L2gDYLCL+0uhyc9nfAk4E2vsxfU5E/LghZTkQmTVWHl7bLyJq/ZI0W2F01Y9pB6KSSNooIp5rpbLd5tYou9XKLbPsMtvcSA5EJZE0PyK65EK47lK229waZbdauWWWXXKbGxYEPWquPMNasGy3uTXKbrVyyyy7zDY/3qiMPGquifIV5l8ifVj6kh5BPhm4IiIathO7U9lus9u8MpZbZtlltnkptlr6IvXxEVGTSDoIuJs0ougO4GrS9RcbAnflUV4rVdlus9u8MpZbZtlltnkp9VqFdMF6YzTrqtxWfwFPAx9rJ+1jwPSVrWy32W1eGctt1TYvpV6r08A7tHiwQpNIagMGRsRrNdLWAF6KiD4rU9luc9eVW2bZrVZumWWX3OYxHSSvChwSEQ25sa675prnT8AYSZsVZ+bpX+b0la1st7nryi2z7FYrt8yyy2zzwaQLlWfWeDV2yHgZh3Wt8CLd2+wa4A3SrVZmkS4Ge53Uz7v2yla22+w2r4zltnCb7wP+rZ20XsA7jSrLXXNNlg+fh7L4quSpEdGsGyR2i7LdZrd5ZSy3zLLLKFfS14GZEXFTjbRVSLfsOrUhZTkQmZlZmXyOyMzMSuVAZGZmpXIgsm5J0gck/V3SAknfKLs+jSDp/2o8uqGZ5UnSZZLmSvpbV5W7IpE0WFJI8l1mSuSNb93VicCEiPhw2RVplIj4VBcXuTPwCWCjiGjWQ/LMlpuPiKy7GkS6n1ZNedSOdWwQ6cr7bh2EuupoxEc93ZcDkXU7ksYDewAXSmqTNFTSWEkXSfqdpIXAHpI2kHS9pNmSni524UnqndeZK+kxSd+R9FwhPSS9vzA9VtIPC9P7SHpQ0quS7pK0TSFtuqRvS3pY0jxJ10rqVUj/XF53vqRpSk9LRdIESV8tLPdlSY/nOv5B0qA8X5L+R9JLOf+HJW3dzrbaQNJvJc2R9KSko/L8rwCXAB/N2/A9w2wljZJ0ZWF6iW6qXN8zJf0t1+M3kvpXLXu0pFmSnpd0QiGvHpJOyu1/RdKvaqz7FUnPAONr1G2ipP3z+53z8p/O03tJerBQzghJM/L2GidprfbKkbSKpPMkvSzpKaoeK2/lcCCybifS48T/AhwXEX1i8aOnDwZOJ92B+C7gZtIjjDcE9gT+S+mJkgAjgc3y65NA3edmJG0HjAGOAdYBRgO/lbR6YbEvAHsDm5IeF31EXncHYBzwHeB9wK7A9Bpl7Av8N7AfMDC395qc/K95vaE5jy8Cr7RT3WtIV7lvABwAnCFpz4i4FDgWuDtvw5H1tr/KYcCXc/5vAxdUpe8BbJ7rfJKkvfL8bwD7ArvldeeSHqFetBuwJWn/VJsI7J7f7wo8lZevTE/M74/Irz2AIaTrbC7soJyjSI/d/jAwnLTNrGQORLYi+U1E/DUi3gE+SLoH12kR8WZEPEW65cmBedkvAKdHxJyIeJb3foF25ChgdETcGxH/jIjLSVe271RY5oKImBURc0gB8UN5/leAMRHxp4h4JyJmRsSUGmUcA5wZEY9HxNvAGcCH8lHRW6RguwXpWr/HI+L56gwkbUw6D/TdiHg9Ih4kHQV9qRNtXZorIuLR3L13CvAFLdktempELIyIR4DLgIMK7Ts5Ip6LiDeAUcABWrJ7bFRe9z33USMFmmLgObMwvRuLA9EhwI8i4qmIaAO+BxzYQTlfAH4cEc/mfXdmZzeINZ4Dka1Ini28HwRskLvOXpX0KukIY92cvkHV8jM6Uc4g4ISqvDfOeVa8UHi/iPRLnLzctDrL+Ekh/zmAgA0jYjzpV/3PgBclXSyp1lM4NwDmRMSCwrwZpCPERqnehj2BAR2kV7bRIODGQvseB/7J4v1TvW61u4GhktYlBflxwMaSBgA7kB6JQC6vuG9nkAZhtVfO8nwurEkciGxFUrwNyLPA0xHxvsKrb0R8Oqc/TwoKFZtU5bUIWKMwvV5V3qdX5b1GRFzD0j1L6g6sZ7ljqsroHRF3AUTEBRGxPelhaENJXX3VZgH9JfUtzNuEdFPKeiyk/W1QUb0N3wJe7iB9Vn7/LPCpqvb1iohi3dq9rUu+fc39wDeBRyPiTVJ37PHAtIio1GEWKegV6/A28GI75Sztc2ElcCCyFdXfgPmSvqs0MGEVSVtL+khO/xXwPUlrS9oI+M+q9R8EDs7r7c3ibh9IXXzHStoxDxxYU9Jnqr7w23MpcKSkPfOJ9A0lbVFjuV/k+g0DkLSWpH/P7z+Sy+5JChavk44mlpC7HO8CzpTUS2lAxVeAq+qoZ2Ub7Cppk3yC/3s1ljlU0lZK9zo7Dfh1RBTrcoqkNXI7jgSuLbTvdC0egDFQ0ufqrFfFROA4FnfDTaiahnSO7FuSNpXUh9TFeW3u7qzlV8A3JG0kaW3gpE7WyZrAgchWSPnL8LOkbpunSb/SLwHWyoucSup2eRr4I3BFVRbfzOu/SjrPcFMh70mk80QXkk6yP0kejFBHvf5G+kL+H2Ae6UtzUI3lbgTOBv5X0nzgUaBynVE/UjCcm9vwCnBeO0UeBAwmHRncCIyMiLoeDZCXuxZ4mHT0cUuNxa4AxpK6InuRBiEUTSRtnz8D50XEH/P8nwC/Bf4oaQFwD7BjPfWqyrsvi7vhqqchDSq5Is97mhS0q390FP0S+ANpkMsDwA2drJM1gW96ai1B0u7AlRGxUclVWWFImkDaZpfUSBtM+uLv2cHRh1ldfERkZmalciAyM7NSuWvOzMxK5SMiMzMrlQORmZmVyoHIzMxK5UBkZmalciAyM7NS/X9I/gUwM3T8PAAAAABJRU5ErkJggg==\n",
      "text/plain": [
       "<Figure size 432x288 with 1 Axes>"
      ]
     },
     "metadata": {
      "needs_background": "light"
     },
     "output_type": "display_data"
    }
   ],
   "source": [
    "freq_capit_words = round(sample_metadatas.freq_capitalize_words, 1)\n",
    "values_counts = freq_capit_words.value_counts().sort_index()\n",
    "values_counts.plot(kind=\"bar\")\n",
    "plt.title(\"distrib. of the freq. of capitalize words\")\n",
    "plt.xlabel(\"frequencies of upper word\")\n",
    "plt.ylabel(\"nb of titles\")\n"
   ]
  },
  {
   "cell_type": "code",
   "execution_count": 52,
   "id": "44a67cab",
   "metadata": {},
   "outputs": [
    {
     "name": "stdout",
     "output_type": "stream",
     "text": [
      "# of full upper words title (45359, 22)\n",
      "# of full lower words title (235587, 22)\n"
     ]
    }
   ],
   "source": [
    "binary_freq_df = sample_metadatas[\n",
    "    (sample_metadatas.freq_capitalize_words == 0)\n",
    "    | (sample_metadatas.freq_capitalize_words == 1)\n",
    "]\n",
    "\n",
    "full_upper_word_df = binary_freq_df[binary_freq_df[\"freq_capitalize_words\"] == 1]\n",
    "no_upper_word_df = binary_freq_df[binary_freq_df[\"freq_capitalize_words\"] == 0]\n",
    "\n",
    "print(\"# of full upper words title\", full_upper_word_df.shape)\n",
<<<<<<< Updated upstream
    "print(\"# of full lower words title\", no_upper_word_df.shape)\n"
=======
    "print(\"# of full lower words title\", no_upper_word_df.shape)"
   ]
  },
  {
   "cell_type": "code",
   "execution_count": 53,
   "id": "0c42d8ec",
   "metadata": {},
   "outputs": [
    {
     "data": {
      "text/plain": [
       "(90718, 22)"
      ]
     },
     "execution_count": 53,
     "metadata": {},
     "output_type": "execute_result"
    }
   ],
   "source": [
    "# select random rows of full lower words title to get same size of dataset\n",
    "no_upper_word_df = no_upper_word_df.sample(n=full_upper_word_df.shape[0])\n",
    "\n",
    "no_upper_word_df.shape\n",
    "\n",
    "frames = [full_upper_word_df, no_upper_word_df]\n",
    "\n",
    "dffff = pd.concat(frames)\n",
    "\n",
    "dffff.shape"
>>>>>>> Stashed changes
   ]
  },
  {
   "cell_type": "code",
   "execution_count": 54,
   "id": "732378b3",
   "metadata": {},
   "outputs": [
    {
     "name": "stdout",
     "output_type": "stream",
     "text": [
      "                            OLS Regression Results                            \n",
      "==============================================================================\n",
      "Dep. Variable:         view_count_log   R-squared:                       0.001\n",
      "Model:                            OLS   Adj. R-squared:                  0.001\n",
      "Method:                 Least Squares   F-statistic:                     38.51\n",
      "Date:                Tue, 20 Dec 2022   Prob (F-statistic):           1.91e-17\n",
      "Time:                        19:41:01   Log-Likelihood:            -1.8757e+05\n",
      "No. Observations:               90718   AIC:                         3.751e+05\n",
      "Df Residuals:                   90715   BIC:                         3.752e+05\n",
      "Df Model:                           2                                         \n",
      "Covariance Type:            nonrobust                                         \n",
      "=========================================================================================\n",
      "                            coef    std err          t      P>|t|      [0.025      0.975]\n",
      "-----------------------------------------------------------------------------------------\n",
      "Intercept                10.1723      0.017    600.976      0.000      10.139      10.205\n",
      "title_nb_words           -0.0144      0.002     -7.722      0.000      -0.018      -0.011\n",
      "freq_capitalize_words     0.0459      0.013      3.604      0.000       0.021       0.071\n",
      "==============================================================================\n",
      "Omnibus:                     2425.679   Durbin-Watson:                   1.379\n",
      "Prob(Omnibus):                  0.000   Jarque-Bera (JB):             2806.089\n",
      "Skew:                          -0.365   Prob(JB):                         0.00\n",
      "Kurtosis:                       3.457   Cond. No.                         24.0\n",
      "==============================================================================\n",
      "\n",
      "Notes:\n",
      "[1] Standard Errors assume that the covariance matrix of the errors is correctly specified.\n"
     ]
    }
   ],
   "source": [
    "mod = smf.ols(\n",
    "    formula=\"view_count_log ~ title_nb_words + freq_capitalize_words\",\n",
    "    data=sample_metadatas,\n",
    ")\n",
    "res = mod.fit()\n",
    "print(res.summary())\n"
   ]
  },
  {
   "cell_type": "markdown",
<<<<<<< Updated upstream
   "id": "eb43090b",
=======
   "id": "7925bce7",
>>>>>>> Stashed changes
   "metadata": {},
   "source": [
    "The impact is less important if we filter the channels on the number of subscribers but still it helps to get more views.\n",
    "\n",
    "Lets plot the upper and lowers title for big channels (> 100 000 subs) and others."
   ]
  },
  {
   "cell_type": "code",
   "execution_count": 55,
   "id": "99208287",
   "metadata": {},
   "outputs": [
    {
     "name": "stdout",
     "output_type": "stream",
     "text": [
      "(3586, 8)\n",
      "(10794, 8)\n",
      "14380\n"
     ]
    },
    {
     "data": {
      "text/html": [
       "<div>\n",
       "<style scoped>\n",
       "    .dataframe tbody tr th:only-of-type {\n",
       "        vertical-align: middle;\n",
       "    }\n",
       "\n",
       "    .dataframe tbody tr th {\n",
       "        vertical-align: top;\n",
       "    }\n",
       "\n",
       "    .dataframe thead th {\n",
       "        text-align: right;\n",
       "    }\n",
       "</style>\n",
       "<table border=\"1\" class=\"dataframe\">\n",
       "  <thead>\n",
       "    <tr style=\"text-align: right;\">\n",
       "      <th></th>\n",
       "      <th>category_cc</th>\n",
       "      <th>join_date</th>\n",
       "      <th>channel</th>\n",
       "      <th>name_cc</th>\n",
       "      <th>subscribers_cc</th>\n",
       "      <th>videos_cc</th>\n",
       "      <th>subscriber_rank_sb</th>\n",
       "      <th>weights</th>\n",
       "    </tr>\n",
       "  </thead>\n",
       "  <tbody>\n",
       "    <tr>\n",
       "      <th>9420</th>\n",
       "      <td>Gaming</td>\n",
       "      <td>2010-05-22</td>\n",
       "      <td>UCZVLXxjh9FVu-lCkpOOF5ng</td>\n",
       "      <td>TheG18</td>\n",
       "      <td>665000</td>\n",
       "      <td>633</td>\n",
       "      <td>24507.0</td>\n",
       "      <td>2.9305</td>\n",
       "    </tr>\n",
       "  </tbody>\n",
       "</table>\n",
       "</div>"
      ],
      "text/plain": [
       "     category_cc  join_date                   channel name_cc  subscribers_cc  \\\n",
       "9420      Gaming 2010-05-22  UCZVLXxjh9FVu-lCkpOOF5ng  TheG18          665000   \n",
       "\n",
       "      videos_cc  subscriber_rank_sb  weights  \n",
       "9420        633             24507.0   2.9305  "
      ]
     },
     "execution_count": 55,
     "metadata": {},
     "output_type": "execute_result"
    }
   ],
   "source": [
    "big_channels = df_channels[df_channels.subscribers_cc > 50_000]\n",
    "little_channels = df_channels[df_channels.subscribers_cc <= 50_000]\n",
    "\n",
    "print(big_channels.shape)\n",
    "print(little_channels.shape)\n",
    "print(len(metadatas.groupby(\"channel_id\").count()))\n",
    "big_channels.sample()\n"
   ]
  },
  {
   "cell_type": "code",
   "execution_count": 56,
   "id": "b9875919",
   "metadata": {},
   "outputs": [],
   "source": [
    "big_videos_meta = metadatas[metadatas.channel_id.isin(big_channels.channel)]\n",
    "little_videos_meta = metadatas[metadatas.channel_id.isin(little_channels.channel)]\n"
   ]
  },
  {
   "cell_type": "markdown",
   "id": "53e887c6",
   "metadata": {},
   "source": [
    "What is the proportion of capitalize title for big ( > 50 000 subs) vs small (< 50 000 subs) channels"
   ]
  },
  {
   "cell_type": "code",
<<<<<<< Updated upstream
   "execution_count": null,
   "id": "2c23fde0",
=======
   "execution_count": 57,
   "id": "52afc018",
>>>>>>> Stashed changes
   "metadata": {},
   "outputs": [
    {
     "name": "stdout",
     "output_type": "stream",
     "text": [
      "0.29683035455315976\n",
      "0.24425000398013783\n"
     ]
    }
   ],
   "source": [
    "freq_capit_words = round(big_videos_meta.freq_capitalize_words, 1)\n",
    "values_counts = freq_capit_words.value_counts().sort_index()\n",
    "values_counts.plot(kind=\"bar\")\n",
    "plt.title(\"distrib. of the freq. of capitalize words\")\n",
    "plt.xlabel(\"frequencies of upper word\")\n",
    "plt.ylabel(\"nb of titles\")\n"
   ]
  },
  {
   "cell_type": "code",
   "execution_count": null,
<<<<<<< Updated upstream
   "id": "ef5fcdb5",
=======
   "id": "5fb4bbfd",
>>>>>>> Stashed changes
   "metadata": {},
   "outputs": [],
   "source": [
    "percentage_upper_titles = (\n",
    "    freq_capit_words.value_counts().sort_index().iloc[-6:].sum()\n",
    "    / freq_capit_words.value_counts().sum()\n",
    "    * 100\n",
    ")\n",
    "\n",
    "print(\"Big channels have {:.2f}% of upper titles \".format(percentage_upper_titles))\n"
   ]
  },
  {
   "cell_type": "code",
   "execution_count": null,
   "id": "29fe544d",
   "metadata": {},
   "outputs": [],
   "source": [
    "freq_capit_words = round(little_videos_meta.freq_capitalize_words, 1)\n",
    "values_counts = freq_capit_words.value_counts().sort_index()\n",
    "values_counts.plot(kind=\"bar\")\n",
    "plt.title(\"distrib. of the freq. of capitalize words\")\n",
    "plt.xlabel(\"frequencies of upper word\")\n",
    "plt.ylabel(\"nb of titles\")\n"
   ]
  },
  {
   "cell_type": "code",
   "execution_count": null,
   "id": "ee460a5e",
   "metadata": {},
   "outputs": [],
   "source": [
    "percentage_upper_titles = (\n",
    "    freq_capit_words.value_counts().sort_index().iloc[-6:].sum()\n",
    "    / freq_capit_words.value_counts().sum()\n",
    "    * 100\n",
    ")\n",
    "\n",
    "print(\"Small channels have {:.2f}% of upper titles \".format(percentage_upper_titles))\n"
   ]
  },
  {
   "cell_type": "markdown",
   "id": "5894abc1",
   "metadata": {},
   "source": [
    "### Sub-Question 3\n",
    "\n",
    "**Description:** Can we predict the channel's success based on channel information, including average video length, upload frequency, usual time of uploads, categories of videos uploaded, positive/negative sentiments of the title, person pronouns to address the viewers, the number of words in the title, and the number of tags used?\n",
    "\n",
    "**Method:** We can implement kNN method or Random Forests to train the dataset.  \n",
    "**Timeline:** By 13/12/2022  \n",
    "**Organization:** Dorothee  \n"
   ]
  },
  {
   "cell_type": "code",
   "execution_count": 58,
   "id": "9df5dce2",
   "metadata": {},
   "outputs": [],
   "source": [
    "video_metadatas[\"duration_min\"] = video_metadatas[\"duration\"] / 60\n"
   ]
  },
  {
   "cell_type": "markdown",
   "id": "9a1755fe",
   "metadata": {},
   "source": [
    "Add a column to know the day of the week of the upload date for the video\n",
    "\n"
   ]
  },
  {
   "cell_type": "code",
   "execution_count": 59,
   "id": "3c35ab48",
   "metadata": {},
   "outputs": [],
   "source": [
    "video_metadatas[\"week_number_mean\"] = video_metadatas.groupby(\"channel_id\")[\n",
    "    \"weekNumber\"\n",
    "].transform(\"mean\")\n",
    "\n",
    "video_metadatas[\"week_number_mean\"] = video_metadatas[\"week_number_mean\"].astype(\"int\")\n",
    "video_metadatas[\"mean_duration_min\"] = video_metadatas.groupby(\"channel_id\")[\n",
    "    \"duration_min\"\n",
    "].transform(\"mean\")\n"
   ]
  },
  {
   "cell_type": "code",
   "execution_count": 60,
   "id": "2d195593",
   "metadata": {},
   "outputs": [],
   "source": [
    "def get_nb_unique_cat(x):\n",
    "    return x.nunique()\n",
    "\n",
    "\n",
    "def get_cat(x):\n",
    "    return list(x.unique())\n"
   ]
  },
  {
   "cell_type": "code",
   "execution_count": 61,
   "id": "b2b273df",
   "metadata": {},
   "outputs": [],
   "source": [
    "video_metadatas[\"nb_diff_cat\"] = video_metadatas.groupby(\"channel_id\")[\n",
    "    \"categories\"\n",
    "].transform(get_nb_unique_cat)\n",
    "\n",
    "cat_per_channels = (\n",
    "    video_metadatas.groupby(\"channel_id\")[\"categories\"].unique().to_frame()\n",
    ")\n"
   ]
  },
  {
   "cell_type": "code",
   "execution_count": 62,
   "id": "23b0f8e1",
   "metadata": {},
   "outputs": [
    {
     "data": {
      "text/html": [
       "<div>\n",
       "<style scoped>\n",
       "    .dataframe tbody tr th:only-of-type {\n",
       "        vertical-align: middle;\n",
       "    }\n",
       "\n",
       "    .dataframe tbody tr th {\n",
       "        vertical-align: top;\n",
       "    }\n",
       "\n",
       "    .dataframe thead th {\n",
       "        text-align: right;\n",
       "    }\n",
       "</style>\n",
       "<table border=\"1\" class=\"dataframe\">\n",
       "  <thead>\n",
       "    <tr style=\"text-align: right;\">\n",
       "      <th></th>\n",
       "      <th>channel_id</th>\n",
       "      <th>covered_categories</th>\n",
       "    </tr>\n",
       "  </thead>\n",
       "  <tbody>\n",
       "    <tr>\n",
       "      <th>0</th>\n",
       "      <td>UC--7oyGW0N7fMf164-ZXljQ</td>\n",
       "      <td>[Gaming, Education, Music, People &amp; Blogs]</td>\n",
       "    </tr>\n",
       "    <tr>\n",
       "      <th>1</th>\n",
       "      <td>UC--b720KocplK9zh0peruqg</td>\n",
       "      <td>[Gaming, People &amp; Blogs]</td>\n",
       "    </tr>\n",
       "  </tbody>\n",
       "</table>\n",
       "</div>"
      ],
      "text/plain": [
       "                 channel_id                          covered_categories\n",
       "0  UC--7oyGW0N7fMf164-ZXljQ  [Gaming, Education, Music, People & Blogs]\n",
       "1  UC--b720KocplK9zh0peruqg                    [Gaming, People & Blogs]"
      ]
     },
     "execution_count": 62,
     "metadata": {},
     "output_type": "execute_result"
    }
   ],
   "source": [
    "cat_per_channels = cat_per_channels.reset_index()\n",
    "cat_per_channels = cat_per_channels.rename({\"categories\": \"covered_categories\"}, axis=1)\n",
    "cat_per_channels.head(2)\n"
   ]
  },
  {
   "cell_type": "code",
   "execution_count": 63,
   "id": "e4bc988a",
   "metadata": {},
   "outputs": [],
   "source": [
    "video_metadatas = pd.merge(video_metadatas, cat_per_channels, on=\"channel_id\")\n"
   ]
  },
  {
   "cell_type": "code",
   "execution_count": 64,
   "id": "754fd943",
   "metadata": {},
   "outputs": [],
   "source": [
    "# group by channels and week of upload date to calculate the mean upload frequencies of the channels\n",
    "grouped = video_metadatas.groupby(\n",
    "    [\"channel_id\", pd.Grouper(key=\"upload_date\", freq=\"W\")]\n",
    ").size()\n"
   ]
  },
  {
   "cell_type": "code",
   "execution_count": 65,
   "id": "7b17d340",
   "metadata": {},
   "outputs": [
    {
     "data": {
      "text/html": [
       "<div>\n",
       "<style scoped>\n",
       "    .dataframe tbody tr th:only-of-type {\n",
       "        vertical-align: middle;\n",
       "    }\n",
       "\n",
       "    .dataframe tbody tr th {\n",
       "        vertical-align: top;\n",
       "    }\n",
       "\n",
       "    .dataframe thead th {\n",
       "        text-align: right;\n",
       "    }\n",
       "</style>\n",
       "<table border=\"1\" class=\"dataframe\">\n",
       "  <thead>\n",
       "    <tr style=\"text-align: right;\">\n",
       "      <th></th>\n",
       "      <th>channel_id</th>\n",
       "      <th>week_frequency_mean</th>\n",
       "    </tr>\n",
       "  </thead>\n",
       "  <tbody>\n",
       "    <tr>\n",
       "      <th>0</th>\n",
       "      <td>UC--7oyGW0N7fMf164-ZXljQ</td>\n",
       "      <td>5.911765</td>\n",
       "    </tr>\n",
       "    <tr>\n",
       "      <th>1</th>\n",
       "      <td>UC--b720KocplK9zh0peruqg</td>\n",
       "      <td>1.187500</td>\n",
       "    </tr>\n",
       "    <tr>\n",
       "      <th>2</th>\n",
       "      <td>UC--vL4ZYLa0bi3TQcuwrhoA</td>\n",
       "      <td>1.533333</td>\n",
       "    </tr>\n",
       "    <tr>\n",
       "      <th>3</th>\n",
       "      <td>UC-05oNebNywp5jy7iXZWZzA</td>\n",
       "      <td>2.137097</td>\n",
       "    </tr>\n",
       "    <tr>\n",
       "      <th>4</th>\n",
       "      <td>UC-0xJTkutOCoRoBi3YOkHRg</td>\n",
       "      <td>2.511111</td>\n",
       "    </tr>\n",
       "    <tr>\n",
       "      <th>...</th>\n",
       "      <td>...</td>\n",
       "      <td>...</td>\n",
       "    </tr>\n",
       "    <tr>\n",
       "      <th>14375</th>\n",
       "      <td>UCzyfkcDsgePLd09B-8LxX0g</td>\n",
       "      <td>1.511111</td>\n",
       "    </tr>\n",
       "    <tr>\n",
       "      <th>14376</th>\n",
       "      <td>UCzyu0YDMQB_5iSGPOXECcHQ</td>\n",
       "      <td>1.428571</td>\n",
       "    </tr>\n",
       "    <tr>\n",
       "      <th>14377</th>\n",
       "      <td>UCzz9_nzdbrxnErTZPZdZ-cw</td>\n",
       "      <td>4.116883</td>\n",
       "    </tr>\n",
       "    <tr>\n",
       "      <th>14378</th>\n",
       "      <td>UCzzHicLcWJP2jagxpqebzsA</td>\n",
       "      <td>1.954545</td>\n",
       "    </tr>\n",
       "    <tr>\n",
       "      <th>14379</th>\n",
       "      <td>UCzzSPRyMYUw6IGueHr1K0Jg</td>\n",
       "      <td>3.523810</td>\n",
       "    </tr>\n",
       "  </tbody>\n",
       "</table>\n",
       "<p>14380 rows × 2 columns</p>\n",
       "</div>"
      ],
      "text/plain": [
       "                     channel_id  week_frequency_mean\n",
       "0      UC--7oyGW0N7fMf164-ZXljQ             5.911765\n",
       "1      UC--b720KocplK9zh0peruqg             1.187500\n",
       "2      UC--vL4ZYLa0bi3TQcuwrhoA             1.533333\n",
       "3      UC-05oNebNywp5jy7iXZWZzA             2.137097\n",
       "4      UC-0xJTkutOCoRoBi3YOkHRg             2.511111\n",
       "...                         ...                  ...\n",
       "14375  UCzyfkcDsgePLd09B-8LxX0g             1.511111\n",
       "14376  UCzyu0YDMQB_5iSGPOXECcHQ             1.428571\n",
       "14377  UCzz9_nzdbrxnErTZPZdZ-cw             4.116883\n",
       "14378  UCzzHicLcWJP2jagxpqebzsA             1.954545\n",
       "14379  UCzzSPRyMYUw6IGueHr1K0Jg             3.523810\n",
       "\n",
       "[14380 rows x 2 columns]"
      ]
     },
     "execution_count": 65,
     "metadata": {},
     "output_type": "execute_result"
    }
   ],
   "source": [
    "week_frequency_mean = (\n",
    "    grouped.groupby(level=\"channel_id\").mean().to_frame().reset_index()\n",
    ")\n",
    "week_frequency_mean = week_frequency_mean.rename(columns={0: \"week_frequency_mean\"})\n",
    "video_metadatas = pd.merge(video_metadatas, week_frequency_mean, on=\"channel_id\")\n",
    "week_frequency_mean\n"
   ]
  },
  {
   "cell_type": "code",
   "execution_count": 66,
   "id": "271e2d75",
   "metadata": {},
   "outputs": [],
   "source": [
    "video_metadatas[\"title_com_scr_mean\"] = video_metadatas.groupby(\"channel_id\")[\n",
    "    \"title_com_scr\"\n",
    "].transform(\"mean\")\n"
   ]
  },
  {
   "cell_type": "code",
   "execution_count": 67,
   "id": "4e6afb34",
   "metadata": {},
   "outputs": [],
   "source": [
    "video_metadatas[\"title_nb_words_mean\"] = video_metadatas.groupby(\"channel_id\")[\n",
    "    \"title_nb_words\"\n",
    "].transform(\"mean\")\n"
   ]
  },
  {
   "cell_type": "code",
   "execution_count": 68,
   "id": "21589789",
   "metadata": {},
   "outputs": [
    {
     "ename": "FileNotFoundError",
     "evalue": "[Errno 2] No such file or directory: './data/videos_metadatas_sub_quest_3_v2'",
     "output_type": "error",
     "traceback": [
      "\u001b[1;31m---------------------------------------------------------------------------\u001b[0m",
      "\u001b[1;31mFileNotFoundError\u001b[0m                         Traceback (most recent call last)",
      "Input \u001b[1;32mIn [68]\u001b[0m, in \u001b[0;36m<cell line: 1>\u001b[1;34m()\u001b[0m\n\u001b[1;32m----> 1\u001b[0m video_metadatas \u001b[38;5;241m=\u001b[39m \u001b[43mpd\u001b[49m\u001b[38;5;241;43m.\u001b[39;49m\u001b[43mread_feather\u001b[49m\u001b[43m(\u001b[49m\u001b[38;5;124;43m\"\u001b[39;49m\u001b[38;5;124;43m./data/videos_metadatas_sub_quest_3_v2\u001b[39;49m\u001b[38;5;124;43m\"\u001b[39;49m\u001b[43m)\u001b[49m\n\u001b[0;32m      3\u001b[0m \u001b[38;5;28mprint\u001b[39m(video_metadatas\u001b[38;5;241m.\u001b[39mshape)\n\u001b[0;32m      4\u001b[0m video_metadatas\u001b[38;5;241m.\u001b[39mhead()\n",
      "File \u001b[1;32m~\\Anaconda3\\lib\\site-packages\\pandas\\io\\feather_format.py:128\u001b[0m, in \u001b[0;36mread_feather\u001b[1;34m(path, columns, use_threads, storage_options)\u001b[0m\n\u001b[0;32m    125\u001b[0m import_optional_dependency(\u001b[38;5;124m\"\u001b[39m\u001b[38;5;124mpyarrow\u001b[39m\u001b[38;5;124m\"\u001b[39m)\n\u001b[0;32m    126\u001b[0m \u001b[38;5;28;01mfrom\u001b[39;00m \u001b[38;5;21;01mpyarrow\u001b[39;00m \u001b[38;5;28;01mimport\u001b[39;00m feather\n\u001b[1;32m--> 128\u001b[0m \u001b[38;5;28;01mwith\u001b[39;00m \u001b[43mget_handle\u001b[49m\u001b[43m(\u001b[49m\n\u001b[0;32m    129\u001b[0m \u001b[43m    \u001b[49m\u001b[43mpath\u001b[49m\u001b[43m,\u001b[49m\u001b[43m \u001b[49m\u001b[38;5;124;43m\"\u001b[39;49m\u001b[38;5;124;43mrb\u001b[39;49m\u001b[38;5;124;43m\"\u001b[39;49m\u001b[43m,\u001b[49m\u001b[43m \u001b[49m\u001b[43mstorage_options\u001b[49m\u001b[38;5;241;43m=\u001b[39;49m\u001b[43mstorage_options\u001b[49m\u001b[43m,\u001b[49m\u001b[43m \u001b[49m\u001b[43mis_text\u001b[49m\u001b[38;5;241;43m=\u001b[39;49m\u001b[38;5;28;43;01mFalse\u001b[39;49;00m\n\u001b[0;32m    130\u001b[0m \u001b[43m\u001b[49m\u001b[43m)\u001b[49m \u001b[38;5;28;01mas\u001b[39;00m handles:\n\u001b[0;32m    132\u001b[0m     \u001b[38;5;28;01mreturn\u001b[39;00m feather\u001b[38;5;241m.\u001b[39mread_feather(\n\u001b[0;32m    133\u001b[0m         handles\u001b[38;5;241m.\u001b[39mhandle, columns\u001b[38;5;241m=\u001b[39mcolumns, use_threads\u001b[38;5;241m=\u001b[39m\u001b[38;5;28mbool\u001b[39m(use_threads)\n\u001b[0;32m    134\u001b[0m     )\n",
      "File \u001b[1;32m~\\Anaconda3\\lib\\site-packages\\pandas\\io\\common.py:798\u001b[0m, in \u001b[0;36mget_handle\u001b[1;34m(path_or_buf, mode, encoding, compression, memory_map, is_text, errors, storage_options)\u001b[0m\n\u001b[0;32m    789\u001b[0m         handle \u001b[38;5;241m=\u001b[39m \u001b[38;5;28mopen\u001b[39m(\n\u001b[0;32m    790\u001b[0m             handle,\n\u001b[0;32m    791\u001b[0m             ioargs\u001b[38;5;241m.\u001b[39mmode,\n\u001b[1;32m   (...)\u001b[0m\n\u001b[0;32m    794\u001b[0m             newline\u001b[38;5;241m=\u001b[39m\u001b[38;5;124m\"\u001b[39m\u001b[38;5;124m\"\u001b[39m,\n\u001b[0;32m    795\u001b[0m         )\n\u001b[0;32m    796\u001b[0m     \u001b[38;5;28;01melse\u001b[39;00m:\n\u001b[0;32m    797\u001b[0m         \u001b[38;5;66;03m# Binary mode\u001b[39;00m\n\u001b[1;32m--> 798\u001b[0m         handle \u001b[38;5;241m=\u001b[39m \u001b[38;5;28;43mopen\u001b[39;49m\u001b[43m(\u001b[49m\u001b[43mhandle\u001b[49m\u001b[43m,\u001b[49m\u001b[43m \u001b[49m\u001b[43mioargs\u001b[49m\u001b[38;5;241;43m.\u001b[39;49m\u001b[43mmode\u001b[49m\u001b[43m)\u001b[49m\n\u001b[0;32m    799\u001b[0m     handles\u001b[38;5;241m.\u001b[39mappend(handle)\n\u001b[0;32m    801\u001b[0m \u001b[38;5;66;03m# Convert BytesIO or file objects passed with an encoding\u001b[39;00m\n",
      "\u001b[1;31mFileNotFoundError\u001b[0m: [Errno 2] No such file or directory: './data/videos_metadatas_sub_quest_3_v2'"
     ]
    }
   ],
   "source": [
    "video_metadatas = pd.read_feather(\"./data/videos_metadatas_sub_quest_3_v2\")\n",
    "\n",
    "print(video_metadatas.shape)\n",
    "video_metadatas.head()\n"
   ]
  },
  {
   "cell_type": "markdown",
   "id": "967f4dcc",
   "metadata": {},
   "source": [
    "Now find the pronouns in the title\n"
   ]
  },
  {
   "cell_type": "code",
   "execution_count": null,
   "id": "8528b8d3",
   "metadata": {},
   "outputs": [],
   "source": [
    "feature_wordsets = dict(\n",
    "    [\n",
    "        # https://en.wikipedia.org/wiki/English_personal_pronouns\n",
    "        (\n",
    "            \"first_person_singular\",\n",
    "            [\n",
    "                \"i\",\n",
    "                \"me\",\n",
    "                \"my\",\n",
    "                \"mine\",\n",
    "                \"myself\",\n",
    "                \"i'd\",\n",
    "                \"i'll\",\n",
    "                \"i'm\",\n",
    "                \"i've\",\n",
    "                \"id\",\n",
    "                \"im\",\n",
    "                \"ive\",\n",
    "            ],\n",
    "        ),\n",
    "        (\n",
    "            \"first_person_plural\",\n",
    "            [\n",
    "                \"we\",\n",
    "                \"us\",\n",
    "                \"our\",\n",
    "                \"ours\",\n",
    "                \"ourselves\",\n",
    "                \"we'd\",\n",
    "                \"we'll\",\n",
    "                \"we're\",\n",
    "                \"we've\",\n",
    "            ],\n",
    "        ),\n",
    "        (\n",
    "            \"second_person\",\n",
    "            [\n",
    "                \"you\",\n",
    "                \"your\",\n",
    "                \"yours\",\n",
    "                \"yourself\",\n",
    "                \"ya\",\n",
    "                \"you'd\",\n",
    "                \"you'll\",\n",
    "                \"you're\",\n",
    "                \"you've\",\n",
    "                \"youll\",\n",
    "                \"youre\",\n",
    "                \"youve\",\n",
    "                \"yourselves\",\n",
    "            ],\n",
    "        ),\n",
    "        (\n",
    "            \"third_person_singular\",\n",
    "            [\n",
    "                \"he\",\n",
    "                \"him\",\n",
    "                \"his\",\n",
    "                \"himself\",\n",
    "                \"he'd\",\n",
    "                \"he's\",\n",
    "                \"hes\",\n",
    "                \"she\",\n",
    "                \"her\",\n",
    "                \"hers\",\n",
    "                \"herself\",\n",
    "                \"she'll\",\n",
    "                \"she's\",\n",
    "                \"shes\",\n",
    "                \"it\",\n",
    "                \"its\",\n",
    "                \"itself\",\n",
    "                \"themself\",\n",
    "            ],\n",
    "        ),\n",
    "        (\n",
    "            \"third_person_plural\",\n",
    "            [\n",
    "                \"they\",\n",
    "                \"them\",\n",
    "                \"their\",\n",
    "                \"theirs\",\n",
    "                \"themselves\",\n",
    "                \"they'd\",\n",
    "                \"they'll\",\n",
    "                \"they've\",\n",
    "                \"theyll\",\n",
    "                \"theyve\",\n",
    "            ],\n",
    "        ),\n",
    "    ]\n",
    ")\n"
   ]
  },
  {
   "cell_type": "code",
   "execution_count": null,
   "id": "d9f737f0",
   "metadata": {},
   "outputs": [],
   "source": [
    "def get_new_columns_pronouns(feature_wordsets, df, colname):\n",
    "    dict_pronoun_list = dict(\n",
    "        [\n",
    "            (\"first_person_singular\", []),\n",
    "            (\"first_person_plural\", []),\n",
    "            (\"second_person\", []),\n",
    "            (\"third_person_singular\", []),\n",
    "            (\"third_person_plural\", []),\n",
    "        ]\n",
    "    )\n",
    "    for headline in df[colname]:\n",
    "        headline = headline.lower()\n",
    "        for key in feature_wordsets.keys():\n",
    "            # if a word corresponding to a pronoun is present in the headline,\n",
    "            # then add 1 to this pronoun list (column) otherwise add 0\n",
    "            if any(\n",
    "                re.search(r\"\\b\" + pronoun + r\"\\b\", headline)\n",
    "                for pronoun in feature_wordsets[key]\n",
    "            ):\n",
    "                dict_pronoun_list[key].append(1)\n",
    "            else:\n",
    "                dict_pronoun_list[key].append(0)\n",
    "    return dict_pronoun_list\n",
    "\n",
    "\n",
    "dict_pronoun_list = get_new_columns_pronouns(feature_wordsets, title_metadatas, \"title\")\n",
    "\n",
    "# create the new columns in our dataframe\n",
    "for col in dict_pronoun_list.keys():\n",
    "    title_metadatas[col] = dict_pronoun_list[col]\n",
    "title_metadatas.head(3)\n"
   ]
  },
  {
   "cell_type": "code",
   "execution_count": null,
   "id": "7f062eb6",
   "metadata": {},
   "outputs": [],
   "source": [
    "title_metadatas_without_titles = title_metadatas.drop(\"title\", axis=1)\n",
    "title_metadatas_without_titles\n",
    "\n",
    "video_metadatas = pd.merge(\n",
    "    video_metadatas, title_metadatas_without_titles, on=\"display_id\"\n",
    ")\n"
   ]
  },
  {
   "cell_type": "code",
   "execution_count": null,
<<<<<<< Updated upstream
   "id": "957f100f",
=======
   "id": "85685111",
   "metadata": {},
   "outputs": [],
   "source": []
  },
  {
   "cell_type": "code",
   "execution_count": null,
   "id": "e009e08a",
   "metadata": {},
   "outputs": [],
   "source": []
  },
  {
   "cell_type": "code",
   "execution_count": null,
   "id": "3401aa10",
   "metadata": {},
   "outputs": [],
   "source": []
  },
  {
   "cell_type": "code",
   "execution_count": null,
   "id": "15e5ade1",
   "metadata": {},
   "outputs": [],
   "source": []
  },
  {
   "cell_type": "code",
   "execution_count": null,
   "id": "4c34dce5",
   "metadata": {},
   "outputs": [],
   "source": []
  },
  {
   "cell_type": "code",
   "execution_count": null,
   "id": "a70d4576",
>>>>>>> Stashed changes
   "metadata": {},
   "outputs": [],
   "source": [
    "df_channels_filtered = df_channels[[\"channel\", \"subscriber_rank_sb\", \"videos_cc\"]]\n",
    "\n",
    "df_channels_filtered = df_channels_filtered.rename({\"channel\": \"channel_id\"}, axis=1)\n",
    "df_channels_filtered.head(2)\n"
   ]
  },
  {
   "cell_type": "code",
   "execution_count": null,
   "id": "0b0c2162",
   "metadata": {},
   "outputs": [],
   "source": [
    "full_metadatas = pd.read_feather(\"./data/videos_metadatas_sub_quest_3_v2\")\n",
    "pd.options.display.max_columns = None\n",
    "full_metadatas.head()\n"
   ]
  },
  {
   "cell_type": "code",
   "execution_count": null,
   "id": "5e63c1ba",
   "metadata": {},
   "outputs": [],
   "source": [
    "full_metadatas = pd.merge(df_channels_filtered, full_metadatas, on=\"channel_id\")\n"
   ]
  },
  {
   "cell_type": "code",
   "execution_count": null,
   "id": "0605bb2a",
   "metadata": {},
   "outputs": [],
   "source": [
    "full_metadatas.head(2)\n"
   ]
  },
  {
   "cell_type": "code",
   "execution_count": null,
   "id": "7fd4c9de",
   "metadata": {},
   "outputs": [],
   "source": [
    "dataset = full_metadatas.groupby(\"channel_id\").apply(\n",
    "    lambda group: pd.DataFrame(\n",
    "        {\n",
    "            \"subscriber_rank_sb\": group.subscriber_rank_sb.mean(),\n",
    "            \"videos_cc\": group.videos_cc.mean(),\n",
    "            \"week_number_mean\": group.week_number_mean.values[0],\n",
    "            \"mean_duration_min\": group.mean_duration_min.values[0],\n",
    "            \"nb_diff_cat\": group.nb_diff_cat.values[0],\n",
    "            \"covered_categories\": group.covered_categories.to_frame().values[0],\n",
    "            \"week_frequency_mean\": group.week_frequency_mean.values[0],\n",
    "            \"title_com_scr_mean\": group.title_com_scr_mean.values[0],\n",
    "            \"title_nb_words_mean\": group.title_nb_words_mean.values[0],\n",
    "            \"first_person_singular_mean\": group.first_person_singular.mean(),\n",
    "            \"first_person_plural_mean\": group.first_person_plural.mean(),\n",
    "            \"second_person_mean\": group.second_person.mean(),\n",
    "            \"third_person_singular_mean\": group.third_person_singular.mean(),\n",
    "            \"third_person_plural_mean\": group.third_person_plural.mean(),\n",
    "        }\n",
    "    )\n",
    ")\n"
   ]
  },
  {
   "cell_type": "code",
   "execution_count": null,
   "id": "b4584256",
   "metadata": {},
   "outputs": [],
   "source": [
    "dataset.to_feather(\"./data/videos_metadatas_sub_quest_3_v3\")\n"
   ]
  },
  {
   "cell_type": "code",
   "execution_count": null,
   "id": "1549dba3",
   "metadata": {},
   "outputs": [],
   "source": [
    "dataset = pd.read_feather(\"./data/videos_metadatas_sub_quest_3_v3\")\n",
    "dataset.drop(\"level_1\", axis=1, inplace=True)\n"
   ]
  },
  {
   "cell_type": "markdown",
   "id": "c613915e",
   "metadata": {},
   "source": [
    "Most of the upload date are on Thursday or Wednesday in average\n"
   ]
  },
  {
   "cell_type": "code",
   "execution_count": null,
   "id": "a1b177be",
   "metadata": {},
   "outputs": [],
   "source": [
    "dataset.week_number_mean.value_counts().plot(kind=\"bar\")\n"
   ]
  },
  {
   "cell_type": "code",
   "execution_count": null,
   "id": "47d295e5",
   "metadata": {},
   "outputs": [],
   "source": [
    "print(dataset.videos_cc.value_counts().head())\n",
    "print(dataset.nb_diff_cat.value_counts().head())\n",
    "print(dataset.week_frequency_mean.value_counts().head())\n",
    "print(dataset.title_nb_words_mean.value_counts().head())\n"
   ]
  },
  {
   "cell_type": "markdown",
   "id": "9a77eb5d",
   "metadata": {},
   "source": [
    "### Try to find meaningful features for well ranked channels (rank < 30 000)\n"
   ]
  },
  {
   "cell_type": "code",
<<<<<<< Updated upstream
   "execution_count": 339,
   "id": "6b7d53db",
=======
   "execution_count": null,
   "id": "406302e8",
>>>>>>> Stashed changes
   "metadata": {},
   "outputs": [
    {
     "data": {
      "text/plain": [
       "364596.0"
      ]
     },
     "execution_count": 339,
     "metadata": {},
     "output_type": "execute_result"
    }
   ],
   "source": [
    "dataset.subscriber_rank_sb.median()\n"
   ]
  },
  {
   "cell_type": "code",
<<<<<<< Updated upstream
   "execution_count": 340,
   "id": "25667ba9",
=======
   "execution_count": null,
   "id": "62575083",
>>>>>>> Stashed changes
   "metadata": {},
   "outputs": [],
   "source": [
    "dataset[\"well_ranked\"] = np.where(dataset.subscriber_rank_sb < 30_000, 1, 0)\n"
   ]
  },
  {
   "cell_type": "code",
<<<<<<< Updated upstream
   "execution_count": 341,
   "id": "93af0665",
=======
   "execution_count": null,
   "id": "6ce6a298",
>>>>>>> Stashed changes
   "metadata": {},
   "outputs": [
    {
     "data": {
      "text/html": [
       "<div>\n",
       "<style scoped>\n",
       "    .dataframe tbody tr th:only-of-type {\n",
       "        vertical-align: middle;\n",
       "    }\n",
       "\n",
       "    .dataframe tbody tr th {\n",
       "        vertical-align: top;\n",
       "    }\n",
       "\n",
       "    .dataframe thead th {\n",
       "        text-align: right;\n",
       "    }\n",
       "</style>\n",
       "<table border=\"1\" class=\"dataframe\">\n",
       "  <thead>\n",
       "    <tr style=\"text-align: right;\">\n",
       "      <th></th>\n",
       "      <th>channel_id</th>\n",
       "      <th>subscriber_rank_sb</th>\n",
       "      <th>videos_cc</th>\n",
       "      <th>week_number_mean</th>\n",
       "      <th>mean_duration_min</th>\n",
       "      <th>nb_diff_cat</th>\n",
       "      <th>covered_categories</th>\n",
       "      <th>week_frequency_mean</th>\n",
       "      <th>title_com_scr_mean</th>\n",
       "      <th>title_nb_words_mean</th>\n",
       "      <th>first_person_singular_mean</th>\n",
       "      <th>first_person_plural_mean</th>\n",
       "      <th>second_person_mean</th>\n",
       "      <th>third_person_singular_mean</th>\n",
       "      <th>third_person_plural_mean</th>\n",
       "      <th>well_ranked</th>\n",
       "    </tr>\n",
       "  </thead>\n",
       "  <tbody>\n",
       "    <tr>\n",
       "      <th>4804</th>\n",
       "      <td>UCKhSoRVvj76lfETluFZWjMw</td>\n",
       "      <td>753847.0</td>\n",
       "      <td>477.0</td>\n",
       "      <td>2</td>\n",
       "      <td>62.337302</td>\n",
       "      <td>3</td>\n",
       "      <td>[Gaming, Entertainment, People &amp; Blogs]</td>\n",
       "      <td>2.44186</td>\n",
       "      <td>0.467023</td>\n",
       "      <td>10.552381</td>\n",
       "      <td>0.07619</td>\n",
       "      <td>0.003175</td>\n",
       "      <td>0.009524</td>\n",
       "      <td>0.015873</td>\n",
       "      <td>0.003175</td>\n",
       "      <td>0</td>\n",
       "    </tr>\n",
       "  </tbody>\n",
       "</table>\n",
       "</div>"
      ],
      "text/plain": [
       "                    channel_id  subscriber_rank_sb  videos_cc  \\\n",
       "4804  UCKhSoRVvj76lfETluFZWjMw            753847.0      477.0   \n",
       "\n",
       "      week_number_mean  mean_duration_min  nb_diff_cat  \\\n",
       "4804                 2          62.337302            3   \n",
       "\n",
       "                           covered_categories  week_frequency_mean  \\\n",
       "4804  [Gaming, Entertainment, People & Blogs]              2.44186   \n",
       "\n",
       "      title_com_scr_mean  title_nb_words_mean  first_person_singular_mean  \\\n",
       "4804            0.467023            10.552381                     0.07619   \n",
       "\n",
       "      first_person_plural_mean  second_person_mean  \\\n",
       "4804                  0.003175            0.009524   \n",
       "\n",
       "      third_person_singular_mean  third_person_plural_mean  well_ranked  \n",
       "4804                    0.015873                  0.003175            0  "
      ]
     },
     "execution_count": 341,
     "metadata": {},
     "output_type": "execute_result"
    }
   ],
   "source": [
    "dataset.sample()\n"
   ]
  },
  {
   "cell_type": "markdown",
   "id": "3ce5f699",
   "metadata": {},
   "source": [
    "### Using random forest tree with over sampling\n"
   ]
  },
  {
   "cell_type": "code",
<<<<<<< Updated upstream
   "execution_count": 342,
   "id": "a08ffd91",
=======
   "execution_count": null,
   "id": "e0675e31",
>>>>>>> Stashed changes
   "metadata": {},
   "outputs": [],
   "source": [
    "# Use over sampling technique\n",
    "from imblearn.over_sampling import SMOTE\n",
    "\n",
    "X = dataset.loc[\n",
    "    :,\n",
    "    [\n",
    "        \"videos_cc\",\n",
    "        \"week_number_mean\",\n",
    "        \"nb_diff_cat\",\n",
    "        \"title_com_scr_mean\",\n",
    "        \"title_nb_words_mean\",\n",
    "        \"week_frequency_mean\",\n",
    "        \"mean_duration_min\",\n",
    "    ],\n",
    "]\n",
    "y = dataset.loc[:, [\"well_ranked\"]]\n",
    "\n",
    "sm = SMOTE(random_state=42)\n",
    "X_res, y_res = sm.fit_resample(X, y)\n"
   ]
  },
  {
   "cell_type": "code",
<<<<<<< Updated upstream
   "execution_count": 343,
   "id": "5f27cd12",
=======
   "execution_count": null,
   "id": "b3e307f5",
>>>>>>> Stashed changes
   "metadata": {},
   "outputs": [],
   "source": [
    "from sklearn.model_selection import train_test_split\n",
    "from sklearn.neighbors import KNeighborsClassifier\n",
    "from sklearn import metrics\n",
    "\n",
    "X_train, X_test, y_train, y_test = train_test_split(\n",
    "    X_res, y_res, test_size=0.2, random_state=42\n",
    ")\n"
   ]
  },
  {
   "cell_type": "code",
<<<<<<< Updated upstream
   "execution_count": 344,
   "id": "f66d7c13",
=======
   "execution_count": null,
   "id": "30cc4377",
>>>>>>> Stashed changes
   "metadata": {},
   "outputs": [
    {
     "name": "stdout",
     "output_type": "stream",
     "text": [
      "The test set has an accuracy of 0.900, a precision of 0.879 and a F1 score of 0.903.\n"
     ]
    }
   ],
   "source": [
    "from sklearn.ensemble import RandomForestClassifier\n",
    "\n",
    "rft = RandomForestClassifier(class_weight=\"balanced_subsample\")\n",
    "rft.fit(X_train, y_train)\n",
    "prediction = rft.predict(X_test)\n",
    "test_acc = metrics.accuracy_score(y_test, prediction)\n",
    "test_precision = metrics.precision_score(y_test, prediction)\n",
    "f1_score = metrics.f1_score(y_test, prediction)\n",
    "print(\n",
    "    \"The test set has an accuracy of {:.3f}, a precision of {:.3f} and a F1 score of {:.3f}.\".format(\n",
    "        test_acc, test_precision, f1_score\n",
    "    )\n",
    ")\n"
   ]
  },
  {
   "cell_type": "code",
   "execution_count": 345,
   "id": "f41a4455",
   "metadata": {},
   "outputs": [],
   "source": [
    "# rft.predict(np.array([30, 4, 1.3, 10]).reshape(1, -1))\n"
   ]
  },
  {
   "cell_type": "markdown",
   "id": "eb0cca75",
   "metadata": {},
   "source": [
    "### Using k nearest neighbour\n"
   ]
  },
  {
   "cell_type": "code",
<<<<<<< Updated upstream
   "execution_count": 346,
   "id": "42f36e39",
=======
   "execution_count": null,
   "id": "b5128234",
>>>>>>> Stashed changes
   "metadata": {},
   "outputs": [
    {
     "name": "stdout",
     "output_type": "stream",
     "text": [
      "Accuracy : 0.885\n",
      "Precision : 0.838\n",
      "F1 Score : 0.893\n"
     ]
    }
   ],
   "source": [
    "neigh = KNeighborsClassifier(n_neighbors=1)\n",
    "neigh.fit(X_train, y_train)\n",
    "y_pred = neigh.predict(X_test)\n",
    "print(\"Accuracy : {:.3f}\".format(metrics.accuracy_score(y_test, y_pred)))\n",
    "print(\"Precision : {:.3f}\".format(metrics.precision_score(y_test, y_pred)))\n",
    "print(\"F1 Score : {:.3f}\".format(metrics.f1_score(y_test, y_pred)))\n"
   ]
  },
  {
   "cell_type": "code",
   "execution_count": null,
   "id": "baf7517b",
   "metadata": {},
   "outputs": [],
   "source": [
    "### Lets plot the differences between well ranked channels and less ranked\n"
   ]
  },
  {
   "cell_type": "code",
   "execution_count": null,
   "id": "0a0e119d",
   "metadata": {},
   "outputs": [],
   "source": []
  },
  {
   "cell_type": "code",
   "execution_count": null,
   "id": "bf42c283",
   "metadata": {},
   "outputs": [],
   "source": [
    "big_channels = dataset[\n",
    "    dataset.subscriber_rank_sb <= dataset.subscriber_rank_sb.median()\n",
    "]\n",
    "small_channels = dataset[\n",
    "    dataset.subscriber_rank_sb > dataset.subscriber_rank_sb.median()\n",
    "]\n",
    "\n",
    "big_channels.mean_duration_min = round(big_channels.mean_duration_min, 0)\n",
    "small_channels.mean_duration_min = round(small_channels.mean_duration_min, 0)\n"
   ]
  },
  {
   "cell_type": "code",
   "execution_count": null,
   "id": "2c5338b3",
   "metadata": {},
   "outputs": [],
   "source": [
    "big_channels.head(2)\n"
   ]
  },
  {
   "cell_type": "code",
   "execution_count": null,
   "id": "c85456d6",
   "metadata": {},
   "outputs": [],
   "source": [
    "big_channels.title_com_scr_mean.value_counts().plot(kind=\"hist\")\n"
   ]
  },
  {
   "cell_type": "code",
   "execution_count": null,
   "id": "05017f76",
   "metadata": {},
   "outputs": [],
   "source": [
    "small_channels.nb_diff_cat.value_counts()\n"
   ]
  },
  {
   "cell_type": "markdown",
   "id": "5d89b4e0",
   "metadata": {},
   "source": [
    "### Sub-Question 4\n",
    "\n",
    "**Description:** What are the most common topics in each of the chosen category?\n",
    "**Method:** The yt_metadata_en.jsonl.gz dataset will be used to get a list of tags of each video according to its category. It is further split and classified according to the topics that occur most frequently. This way, we get the most used keywords in each video category and therefore the most popular topics.  \n",
    "**Timeline:** By 15/12/2022  \n",
    "**Organization:** Jules  \n"
   ]
  },
  {
   "cell_type": "markdown",
   "id": "76c5c34f",
   "metadata": {},
   "source": [
    "To start with, we will try to determine the common topics across all videos. This is done by performining topic detection using titles and tags of all selected videos.\n"
   ]
  },
  {
   "cell_type": "code",
<<<<<<< Updated upstream
   "execution_count": 53,
   "id": "25585b7f",
=======
   "execution_count": null,
   "id": "9e9ac465",
>>>>>>> Stashed changes
   "metadata": {},
   "outputs": [],
   "source": [
    "import gensim\n",
    "from gensim.models.phrases import Phrases\n",
    "from gensim.corpora import Dictionary\n",
    "from gensim.models import LdaMulticore\n",
    "import pyLDAvis.gensim_models"
   ]
  },
  {
   "cell_type": "code",
<<<<<<< Updated upstream
   "execution_count": 54,
   "id": "4e8e5caa",
=======
   "execution_count": null,
   "id": "8df2b359",
>>>>>>> Stashed changes
   "metadata": {},
   "outputs": [],
   "source": [
    "# in the topic_detection function, we will perform:\n",
    "# - initial data cleaning\n",
    "# - lemmatization\n",
    "# - stop words removal\n",
    "# - adding bigrams\n",
    "# - filter out frequent and rare words\n",
    "# - bag-of-words representation of the documents\n",
    "\n",
    "def topic_detection(dataset, datatype):\n",
    "    if datatype == \"title\":\n",
    "        new_list = []\n",
    "        # replace all underslash to space\n",
    "        for x in dataset:\n",
    "            new_text = x.replace(\"_\", \" \")\n",
    "            new_text = new_text.replace(\"__\", \" \")\n",
    "            new_text = new_text.replace(\"•\", \" \")\n",
    "            new_list.append(new_text.lower())\n",
    "\n",
    "    if datatype == \"tag\":\n",
    "        new_list = []\n",
    "        for x in dataset:\n",
    "            step1 = x.replace(\",\", \", \")\n",
    "            new_list.append(step1.lower())\n",
    "\n",
    "    STOPWORDS = spacy.lang.en.stop_words.STOP_WORDS\n",
    "\n",
    "    processed_docs = list()\n",
    "    for doc in nlp.pipe(new_list, n_process=5, batch_size=10):\n",
    "\n",
    "        # Process document using Spacy NLP pipeline.\n",
    "        ents = doc.ents  # Named entities\n",
    "\n",
    "        # Keep only words (no numbers, no punctuation).\n",
    "        # Lemmatize tokens, to lowercase, remove punctuation and remove stopwords.\n",
    "        doc = [token.lemma_ for token in doc if token.is_alpha and not token.is_stop]\n",
    "\n",
    "        # Remove common words from a stopword list and keep only words of length 2 or more.\n",
    "        doc = [token for token in doc if token not in STOPWORDS and len(token) > 1]\n",
    "\n",
    "        # Add named entities, but only if they are a compound of more than word.\n",
    "        doc.extend([str(entity) for entity in ents if len(entity) > 1])\n",
    "\n",
    "        processed_docs.append(doc)\n",
    "\n",
    "    docs = processed_docs\n",
    "    del processed_docs\n",
    "\n",
    "    # Add bigrams to docs (only ones that appear 15 times or more).\n",
    "    bigram = Phrases(docs, min_count=15)\n",
    "\n",
    "    for idx in range(len(docs)):\n",
    "        for token in bigram[docs[idx]]:\n",
    "            if \"_\" in token:\n",
    "                # Token is a bigram, add to document.\n",
    "                docs[idx].append(token)\n",
    "\n",
    "    # Create a dictionary representation of the documents, and filter out frequent and rare words.\n",
    "    dictionary = Dictionary(docs)\n",
    "\n",
    "    # Remove rare and common tokens.\n",
    "    # Filter out words that occur too frequently or too rarely.\n",
    "    max_freq = 0.5\n",
    "    min_wordcount = 5\n",
    "    dictionary.filter_extremes(no_below=min_wordcount, no_above=max_freq)\n",
    "\n",
    "    # Bag-of-words representation of the documents.\n",
    "    corpus = [dictionary.doc2bow(doc) for doc in docs]\n",
    "    return corpus, dictionary\n"
   ]
  },
  {
   "cell_type": "code",
<<<<<<< Updated upstream
   "execution_count": 55,
   "id": "8d20975f",
=======
   "execution_count": null,
   "id": "87795948",
>>>>>>> Stashed changes
   "metadata": {},
   "outputs": [],
   "source": [
    "corpus_title, dictionary_title = topic_detection(title_metadatas.title, \"title\")"
   ]
  },
  {
   "cell_type": "code",
   "execution_count": null,
<<<<<<< Updated upstream
   "id": "99e2e0a2",
=======
   "id": "09501e94",
>>>>>>> Stashed changes
   "metadata": {},
   "outputs": [],
   "source": [
    "# models\n",
    "seed = 42\n",
    "params = {\"passes\": 10, \"random_state\": seed}\n",
    "base_models = dict()\n",
    "    \n",
    "model_title = LdaMulticore(\n",
    "    corpus=corpus_title,\n",
    "    num_topics=8,\n",
    "    id2word=dictionary_title,\n",
    "    workers=None,\n",
    "    passes=params[\"passes\"],\n",
    "    random_state=params[\"random_state\"],\n",
    ")"
   ]
  },
  {
   "cell_type": "code",
<<<<<<< Updated upstream
   "execution_count": 106,
   "id": "4b0d661e",
   "metadata": {},
   "outputs": [
    {
     "data": {
      "text/html": [
       "\n",
       "<link rel=\"stylesheet\" type=\"text/css\" href=\"https://cdn.jsdelivr.net/gh/bmabey/pyLDAvis@3.3.1/pyLDAvis/js/ldavis.v1.0.0.css\">\n",
       "\n",
       "\n",
       "<div id=\"ldavis_el1814016027375058882937326985\"></div>\n",
       "<script type=\"text/javascript\">\n",
       "\n",
       "var ldavis_el1814016027375058882937326985_data = {\"mdsDat\": {\"x\": [-0.18855797879929634, -0.0745099440464629, 0.1814322217508833, 0.2564866608148117, 0.13862690175989806, -0.19508895190148695, -0.04127944022390928, -0.07710946935443747], \"y\": [0.0940101298708936, -0.1946852917333995, 0.21069254229322082, -0.007629910208837309, -0.05519544910506513, 0.16854778171174706, -0.25540792843583093, 0.03966812560727163], \"topics\": [1, 2, 3, 4, 5, 6, 7, 8], \"cluster\": [1, 1, 1, 1, 1, 1, 1, 1], \"Freq\": [13.82455101722224, 12.997028601670364, 12.45362625360494, 12.453414989608637, 12.381583981119626, 12.082957918514142, 11.981957177370477, 11.82488006088957]}, \"tinfo\": {\"Term\": [\"play\", \"fortnite\", \"minecraft\", \"gta\", \"battle\", \"op\", \"let\", \"online\", \"black\", \"moment\", \"update\", \"stream\", \"roblox\", \"episode\", \"fifa\", \"funny\", \"nba\", \"royale\", \"new\", \"let_play\", \"league\", \"kill\", \"win\", \"black_op\", \"day\", \"team\", \"star\", \"dragon\", \"legend\", \"video\", \"fortnite\", \"moment\", \"stream\", \"funny\", \"royale\", \"kill\", \"win\", \"funny_moment\", \"pubg\", \"skin\", \"fortnite_battle\", \"squad\", \"fail\", \"pubg_mobile\", \"live_stream\", \"trick\", \"soul\", \"clash_royale\", \"compilation\", \"music\", \"random\", \"twitch\", \"duo\", \"ninja\", \"clip\", \"wtf\", \"dark_soul\", \"stream_highlight\", \"shop\", \"na\", \"battle\", \"mobile\", \"highlight\", \"montage\", \"season\", \"overwatch\", \"live\", \"solo\", \"new\", \"good\", \"game\", \"gameplay\", \"vs\", \"epic\", \"gta\", \"online\", \"update\", \"gta_online\", \"car\", \"clan\", \"fallout\", \"money\", \"clash_clan\", \"change\", \"channel\", \"town\", \"sky\", \"fix\", \"block\", \"wow\", \"hall\", \"feature\", \"virtual\", \"career_mode\", \"rp\", \"garry\", \"combat\", \"garry_mod\", \"trophy\", \"farming\", \"legion\", \"warcraft\", \"weekly\", \"diablo\", \"news\", \"patch\", \"glitch\", \"build\", \"mod\", \"base\", \"division\", \"new\", \"race\", \"clash\", \"showcase\", \"weapon\", \"easy\", \"fast\", \"guide\", \"dlc\", \"career\", \"pvp\", \"map\", \"pc\", \"good\", \"gameplay\", \"mode\", \"video\", \"trailer\", \"sim\", \"halo\", \"grand\", \"fnaf\", \"love\", \"meet\", \"assassin\", \"vlog\", \"space\", \"auto\", \"song\", \"street\", \"cup\", \"dota\", \"meme\", \"fighter\", \"sims\", \"trial\", \"warframe\", \"lore\", \"launch\", \"theft\", \"splatoon\", \"grand_theft\", \"dog\", \"creed\", \"home\", \"sea\", \"beat\", \"gamer\", \"official\", \"destiny\", \"baby\", \"game\", \"girl\", \"kid\", \"vs\", \"watch\", \"gameplay\", \"review\", \"play\", \"let\", \"let_play\", \"walkthrough\", \"sonic\", \"fight\", \"boss\", \"playthrough\", \"smash\", \"ark\", \"evil\", \"shadow\", \"bro\", \"hunter\", \"ghost\", \"quest\", \"resident\", \"resident_evil\", \"chapter\", \"evolve\", \"pixel\", \"wii\", \"pt\", \"super_smash\", \"walk\", \"fifa_ultimate\", \"ark_survival\", \"dungeon\", \"arma\", \"far\", \"episode\", \"monster\", \"story\", \"mode\", \"commentary\", \"gameplay\", \"hd\", \"ultimate\", \"super\", \"dead\", \"ep\", \"adventure\", \"vs\", \"game\", \"minecraft\", \"roblox\", \"day\", \"dragon\", \"ball\", \"pe\", \"super_mario\", \"dragon_ball\", \"server\", \"rust\", \"roleplay\", \"kingdom\", \"heart\", \"christmas\", \"minecraft_pe\", \"faction\", \"xenoverse\", \"train\", \"date\", \"pocket\", \"maker\", \"metal\", \"jailbreak\", \"menu\", \"pet\", \"guild\", \"mcpe\", \"phantom\", \"daylight\", \"dead_daylight\", \"simulator\", \"super\", \"mario\", \"hack\", \"special\", \"raid\", \"subscriber\", \"thing\", \"house\", \"survival\", \"edition\", \"giveaway\", \"episode\", \"ep\", \"mod\", \"new\", \"game\", \"vs\", \"fifa\", \"league\", \"rainbow\", \"siege\", \"rainbow_siege\", \"night\", \"switch\", \"cs\", \"league_legend\", \"forza\", \"rocket\", \"battlefield\", \"horizon\", \"fantasy\", \"forza_horizon\", \"growtopia\", \"rocket_league\", \"nintendo_switch\", \"record\", \"freddy\", \"redemption\", \"final_fantasy\", \"red_dead\", \"apex\", \"five nights\", \"csgo\", \"ace\", \"forza horizon\", \"early\", \"goal\", \"team\", \"path\", \"pack\", \"rank\", \"legend\", \"nintendo\", \"red\", \"pro\", \"year\", \"road\", \"final\", \"player\", \"good\", \"vs\", \"world\", \"gameplay\", \"game\", \"new\", \"ultimate\", \"op\", \"black\", \"black_op\", \"star\", \"pokemon\", \"zombie\", \"duty\", \"warfare\", \"de\", \"pok\\u00e9mon\", \"cod\", \"moon\", \"dash\", \"egg\", \"battlefront\", \"geometry\", \"sun\", \"infinite\", \"geometry_dash\", \"animal\", \"demon\", \"emblem\", \"jam\", \"beamng\", \"easter\", \"lego\", \"star_war\", \"strike\", \"truck\", \"spider\", \"multiplayer\", \"ultra\", \"drive\", \"wwe\", \"war\", \"gameplay\", \"vs\", \"live\", \"new\", \"glitch\", \"nba\", \"android\", \"tank\", \"box\", \"school\", \"zelda\", \"link\", \"mortal\", \"save\", \"wild\", \"io\", \"kombat\", \"mortal_kombat\", \"madden\", \"oh\", \"world_tank\", \"gtx\", \"runescape\", \"pool\", \"daily\", \"gear_war\", \"app\", \"gb\", \"draw\", \"total\", \"breath\", \"need_speed\", \"jumpshot\", \"expose\", \"duel\", \"fall\", \"card\", \"speed\", \"download\", \"need\", \"gear\", \"fire\", \"free\", \"good\", \"high\", \"game\", \"gameplay\", \"world\", \"vs\", \"build\", \"new\", \"war\"], \"Freq\": [143413.0, 141226.0, 133252.0, 118174.0, 93805.0, 70763.0, 70542.0, 71025.0, 67082.0, 68399.0, 66313.0, 67383.0, 59912.0, 92333.0, 57664.0, 60987.0, 54735.0, 58171.0, 206600.0, 48415.0, 47631.0, 50049.0, 48065.0, 44020.0, 44378.0, 44309.0, 42566.0, 43219.0, 53777.0, 42668.0, 141226.03559228897, 68398.48535203165, 67382.12032924256, 60986.07107000356, 58170.31682172904, 50048.952208006565, 48064.89671562894, 39101.428704902275, 35592.72199621846, 30768.460087965374, 30741.029161006227, 25674.2575703649, 23915.926465403063, 19963.195462526986, 18523.794769809996, 18172.542156419957, 16765.93163550933, 16716.871777123662, 14853.45323653424, 14435.629694928348, 13915.089395415518, 12327.780550464273, 12143.530413171971, 11997.445104740647, 11547.456286283128, 10136.790253160669, 9587.010193983398, 9288.659982506728, 8545.699112401566, 7906.459595904112, 83704.15236932861, 40757.23780621437, 35894.804063551484, 22476.951710054327, 36244.09512327196, 18696.53899372052, 45536.21864911524, 21941.893111167166, 42934.54556611785, 29776.286626361107, 27165.974300559035, 25938.548905143933, 19350.58123487439, 16871.723829348193, 118173.5252271714, 71024.2580420172, 66313.00906002439, 38326.21129505526, 30872.54848053525, 23227.959504649323, 20186.23693157261, 16423.799186224223, 15211.874353789735, 12634.124851306327, 12535.059116830625, 9971.055022876397, 8359.643964118317, 7943.690909618081, 7689.105789872305, 7611.862784970432, 7219.671438611821, 6781.808058019578, 6417.048911500394, 6326.124384251773, 6192.942769737599, 6048.961097290435, 5996.525689784827, 5974.24851210917, 5764.3297131890695, 5738.02902326115, 5703.66089159514, 5547.011972274872, 5395.147601122319, 5299.722391114516, 14155.503813508507, 20596.542974442313, 37293.48918020042, 35803.11806819248, 44914.7471857108, 19090.180558213557, 8602.73813309224, 93549.35098824922, 18217.432078647133, 26698.530920391167, 15172.826065295343, 15793.756289573637, 12973.866300509708, 14998.397028646197, 20182.488064042755, 14326.601547985128, 11541.991221272612, 12575.864604652083, 15054.217745200198, 14834.21612600347, 17999.38656214957, 16582.638677119387, 13187.762508251451, 42668.017621695384, 41763.58886634836, 21281.27040903039, 20960.139686802446, 17982.960727061407, 12615.587631616185, 12490.601506784713, 12131.397505530853, 11723.140631210088, 11361.11821019608, 11177.239355401098, 10870.151507446066, 10352.377631706446, 9924.18861011642, 9511.984307313853, 9234.263307795618, 9225.488089084274, 8727.693691890676, 8349.184209471861, 8185.020409156733, 7713.318798215506, 7613.901029089901, 7288.18990143895, 7214.8851132438, 7033.849290472881, 6867.504464924643, 6747.897697467891, 6676.529074034079, 6676.113189882279, 6613.535562252064, 11191.683598900936, 9052.597663501943, 12266.91389281594, 15826.142602136968, 9828.470884666083, 44471.4831533409, 9743.342743536232, 10133.490040284849, 21464.009526680984, 9626.827023993766, 14927.15883686844, 10379.254854985656, 143413.02193145695, 70541.8531515623, 48414.939937741816, 35310.68164950629, 28196.545410549024, 26018.93720337402, 22665.662744892994, 22124.159211316583, 21881.79941809644, 20144.818990087795, 18819.56698499799, 16972.43781614655, 16180.737825029744, 14416.084846655245, 14095.530062084319, 12700.512938569316, 11881.868655310653, 11675.776626503864, 11403.583489019293, 11341.920085567797, 10362.26636536177, 10241.497297264541, 9941.757824010998, 9877.484933769016, 9689.23901788802, 9143.378556427322, 8693.167933992876, 8158.4086774007255, 7908.743583313194, 7600.967395603342, 69037.81438355465, 13497.975888179646, 23150.031454753953, 31020.077011590874, 13307.42718697858, 41793.8206328237, 17027.655440135408, 17449.5302544974, 19399.760341101875, 15452.798923964572, 19436.90655910951, 12609.555127182066, 18787.874499721525, 17862.60286287301, 133251.14227326645, 59911.78236415075, 44377.224672099976, 43218.140139424875, 26776.708400547046, 16839.496547816063, 16746.29263497697, 16511.57749006657, 15380.67348180954, 14965.888839084677, 12097.842538222205, 11589.851472926368, 11337.496677495204, 10321.377139083086, 9658.60651669771, 8543.166848854184, 8368.140657253207, 7874.222913476212, 7535.554046650378, 7514.254579615153, 7120.165813408301, 7051.38410149651, 6950.189202350509, 6910.231133651115, 6629.10602681001, 6525.149795162697, 6280.089535441655, 6180.189030512925, 5942.822981303944, 5725.655254267704, 22695.166579844343, 36753.90655646108, 24072.69064618603, 14680.474600460122, 17491.226232226985, 13107.285562399726, 13664.999435708272, 10444.01267768258, 13124.396914359682, 21496.03927501889, 16583.01700803961, 12972.333514597607, 16529.478152702883, 14571.36275209768, 14425.293846931727, 18860.35399056309, 14819.784797672399, 12713.626587777377, 57664.00680510945, 47630.9539259755, 32023.495661841396, 29638.18231939896, 24743.18766994235, 24101.345224608667, 19296.45177211665, 17626.24749065966, 17434.49099222138, 16821.17928635276, 15962.190703069726, 15000.621020431832, 14414.437886602418, 12382.611564517363, 11665.357003680305, 11050.161862439667, 10971.755599026936, 10673.113530926488, 10430.979422388047, 8843.845907160445, 8457.7502280995, 8122.822638678793, 8120.713876838342, 8069.33576823432, 7181.981154236251, 7025.870323423901, 6627.793154324064, 6621.4221708891355, 6411.8599830430985, 6289.953465218925, 43978.612707124594, 6978.876896451548, 31487.899544775744, 25047.694349223933, 45052.52355408157, 19388.697244332478, 20821.882573004546, 25169.351048572233, 13633.580031648431, 16373.994417738446, 18524.632692507825, 18122.09430425307, 25302.234884130325, 26740.682320600543, 18806.474468105862, 22273.01686932789, 19396.760013181218, 18493.66499830264, 14090.089007494566, 70762.66661357803, 67081.35126571663, 44019.548958423846, 42565.74151185613, 39521.464521901325, 37719.79764756434, 24431.21874143478, 20779.878754765963, 20731.28719331889, 19662.897024583806, 19492.51325360479, 16161.567423918812, 14185.394012793022, 13092.660703138057, 12491.875968349406, 12172.014917166422, 12133.337423486977, 11882.038149875349, 11717.94357009777, 11426.94430831131, 10614.58093227401, 9986.717701635718, 9805.107135395587, 9476.784395799466, 9386.847990127679, 9304.393281113946, 9157.318012919332, 8923.436362285544, 8870.213216509008, 8748.477474903471, 16120.995522385681, 11345.515129702986, 15002.489765372513, 15192.447869808953, 32868.75102570768, 30009.404673192996, 27788.422764082472, 16240.707526370596, 16231.965319871433, 12908.117447816738, 54734.49657616472, 36042.4345182772, 15141.939153982223, 14711.324919952338, 13017.086554248026, 12757.42441301016, 12691.034191941075, 11782.114829839693, 11753.753644548073, 11574.438807155804, 11443.06174333906, 11389.695016906106, 10954.863457245914, 10247.027475517445, 7997.614563368944, 7578.295667237791, 7523.268496172616, 7082.673617684306, 6556.325252935418, 6546.666390782119, 6541.447165684084, 6411.685005614665, 6240.78504515141, 5924.864930511815, 5692.7364487492205, 5632.383990261975, 5434.635281263407, 5360.653514526469, 5340.808474710541, 5287.208650853577, 9699.784832933496, 12377.263487224174, 20167.598712985568, 13890.724913442162, 13994.800216763306, 14282.351356223075, 13710.00549928413, 21477.850718572565, 36032.51139914707, 13505.528124542068, 37464.549318502686, 21170.368251304433, 14985.069980622355, 17592.53611582815, 12051.151202700254, 16530.121201182275, 11372.789761054697], \"Total\": [143413.0, 141226.0, 133252.0, 118174.0, 93805.0, 70763.0, 70542.0, 71025.0, 67082.0, 68399.0, 66313.0, 67383.0, 59912.0, 92333.0, 57664.0, 60987.0, 54735.0, 58171.0, 206600.0, 48415.0, 47631.0, 50049.0, 48065.0, 44020.0, 44378.0, 44309.0, 42566.0, 43219.0, 53777.0, 42668.0, 141226.96848076672, 68399.4183265585, 67383.05354537179, 60987.00408215364, 58171.249685106246, 50049.885558924674, 48065.8299870754, 39102.361618338, 35593.654873673426, 30769.393300018575, 30741.961884598284, 25675.19109543001, 23916.859742195, 19964.12824142199, 18524.727780603902, 18173.475684228775, 16766.864847045475, 16717.804840739165, 14854.38658138985, 14436.56330635052, 13916.022734008697, 12328.71385300142, 12144.463497378712, 11998.378232668625, 11548.389493912513, 10137.723755382865, 9587.943046789514, 9289.592805050323, 8546.632343218267, 7907.393022349094, 93805.64875916304, 51756.08148467612, 44989.31527761028, 29285.181426896597, 57713.26767746937, 24123.926993008885, 96576.05280364506, 35676.71055899862, 206600.27196584732, 122494.36592324718, 172350.13300257895, 176890.19297154289, 146232.36753901857, 28988.72967318488, 118174.46630518374, 71025.1993318039, 66313.9504051499, 38327.15208239839, 30873.489757579024, 23228.900554442404, 20187.177993490033, 16424.740376228154, 15212.815141973142, 12635.066197621396, 12536.000222440074, 9971.996547958892, 8360.585350176205, 7944.632187464966, 7690.047178499763, 7612.80389407908, 7220.612517228011, 6782.749542077616, 6417.9916756581615, 6327.066068311007, 6193.883909399267, 6049.901976811356, 5997.466985323052, 5975.189384648009, 5765.270900495368, 5738.970186322139, 5704.601910497575, 5547.952904582238, 5396.089229856933, 5300.663524589561, 14158.516039542865, 22117.831419045142, 50202.40852338295, 51302.28039705001, 69045.78473864745, 24520.49000935997, 9531.675197988608, 206600.27196584732, 25127.300807052663, 41710.208282713764, 20585.58448272426, 21858.075132265454, 17521.16770969392, 22750.334951804027, 42541.578402163184, 25163.923362848855, 17102.336394416787, 21007.49064963418, 38174.169708150526, 47379.51021897043, 122494.36592324718, 176890.19297154289, 52827.75756784304, 42668.94960800303, 41764.520609199244, 21282.201992867707, 20961.071336663994, 17983.892547221945, 12616.519198126238, 12491.549798516475, 12132.329571507886, 11724.072227399018, 11362.049952995076, 11178.17128872781, 10871.08334315597, 10353.309176973951, 9925.120258242336, 9512.916258508152, 9235.195119093161, 9226.419795669839, 8728.6252568388, 8350.11594438128, 8185.952349740634, 7714.2504234368525, 7614.832910598467, 7289.121675896758, 7215.816477177927, 7034.781041607935, 6868.435810171661, 6748.829360483023, 6677.460335616375, 6677.045122011175, 6614.467195817121, 11994.236612708157, 9712.540213608272, 17302.48667515493, 26632.408627361932, 12582.666491432503, 172350.13300257895, 12567.376922840427, 15733.267111051919, 146232.36753901857, 14896.864418417386, 176890.19297154289, 50388.57737940554, 143413.95381337195, 70542.78471862672, 48415.871319581, 35311.61346429649, 28197.476850676016, 26019.869068450145, 22666.594606285515, 22125.09100029654, 21882.730828646458, 20145.750586549795, 18820.49855534044, 16973.369612759012, 16181.669269929407, 14417.016524602439, 14096.462070866899, 12701.44488450567, 11882.799968188703, 11676.707936314695, 11404.515265251968, 11342.851629879742, 10363.19808030712, 10242.428853244119, 9942.689743551597, 9878.41620234429, 9690.170889036157, 9144.31166348053, 8694.099296862187, 8159.340515059706, 7909.675501251939, 7601.899221422443, 92333.52934943028, 15718.797805219436, 31731.773260785427, 52827.75756784304, 18574.47992279608, 176890.19297154289, 33567.47775782832, 39008.34051776699, 56154.46457335895, 32519.558072900316, 64352.488560727645, 18462.2664704382, 146232.36753901857, 172350.13300257895, 133252.07432382088, 59912.714448942475, 44378.15711777303, 43219.07247897635, 26777.64062771186, 16840.428697311356, 16747.22449349449, 16512.509281419378, 15381.605713295134, 14966.820884453457, 12098.774647229262, 11590.783530689108, 11338.428931664175, 10322.309534924838, 9659.538318016752, 8544.098817178594, 8369.072557200965, 7875.155379651072, 7536.486349454931, 7515.186486260103, 7121.097684390561, 7052.316311165865, 6951.121164927028, 6911.163293956787, 6630.038334534178, 6526.082236931603, 6281.021371339322, 6181.1211557453935, 5943.754866366522, 5726.587131116951, 30533.277173211536, 56154.46457335895, 34023.83091618236, 18326.348245185483, 22892.704839414437, 16223.091495160224, 18148.77906311841, 12474.996989960659, 17703.66066717498, 37549.10565919216, 29274.549889127098, 21973.354907064233, 92333.52934943028, 64352.488560727645, 69045.78473864745, 206600.27196584732, 172350.13300257895, 146232.36753901857, 57664.94328379017, 47631.89022516153, 32024.43190288465, 29639.118490853445, 24744.12378600464, 24102.281838998028, 19297.38838639129, 17627.18383550467, 17435.427104857063, 16822.115681009975, 15963.127136108202, 15001.557491180323, 14415.374318072507, 12383.547862520745, 11666.293222540919, 11051.09828997504, 10972.691730267255, 10674.049756959625, 10431.9160661976, 8844.78237696604, 8458.68652563692, 8123.758814810016, 8121.650074442037, 8070.272026115403, 7182.917387217613, 7026.8068748402375, 6628.729633557651, 6622.358396768311, 6412.796684004928, 6290.88988130375, 44309.96992801684, 6981.575433742362, 35360.41911797918, 28093.35504347894, 53777.009289470254, 22204.16507647036, 26127.161947175453, 42690.81696082455, 18265.83093595129, 27394.768311382548, 37071.011614751355, 42310.43929421107, 122494.36592324718, 146232.36753901857, 76380.50876960407, 176890.19297154289, 172350.13300257895, 206600.27196584732, 39008.34051776699, 70763.59346489994, 67082.27814212925, 44020.47562290449, 42566.66867171109, 39522.391364988645, 37720.72470630801, 24432.14555743558, 20780.805506248034, 20732.214340650145, 19663.823860256467, 19493.440145350007, 16162.49436684061, 14186.320765900726, 13093.587663889417, 12492.802647574774, 12172.941523773768, 12134.264165293738, 11882.96532817132, 11718.870171447039, 11427.871870032792, 10615.507925180545, 9987.644591648404, 9806.034466329716, 9477.711176218669, 9387.774846990465, 9305.320343041509, 9158.244690896852, 8924.363591447982, 8871.140220812083, 8749.404294707656, 17472.898537624806, 12460.260879388501, 18824.96727605097, 19353.948138836393, 67708.35494763192, 176890.19297154289, 146232.36753901857, 96576.05280364506, 206600.27196584732, 50202.40852338295, 54735.42760587126, 36043.36578085442, 15142.87050676602, 14712.256343771875, 13018.017963667085, 12758.355569403417, 12691.965908330234, 11783.045822249116, 11754.685257954845, 11575.370061109319, 11443.992857344205, 11390.625942553052, 10955.794377303098, 10247.958699437611, 7998.545723475655, 7579.22681934441, 7524.199716561657, 7083.604827082971, 6557.256512205861, 6547.598181811695, 6542.378310400145, 6412.616646250628, 6241.71627897212, 5925.796406205434, 5693.6678042138365, 5633.314966867216, 5435.566412334372, 5361.584406506424, 5341.739794782308, 5288.139878841805, 9709.143918912658, 13670.08683800062, 25886.105859811345, 17497.986789606482, 17884.07027243717, 19675.766934885523, 21476.690819949854, 47186.254723162696, 122494.36592324718, 23327.29555229217, 172350.13300257895, 176890.19297154289, 76380.50876960407, 146232.36753901857, 51302.28039705001, 206600.27196584732, 67708.35494763192], \"Category\": [\"Default\", \"Default\", \"Default\", \"Default\", \"Default\", \"Default\", \"Default\", \"Default\", \"Default\", \"Default\", \"Default\", \"Default\", \"Default\", \"Default\", \"Default\", \"Default\", \"Default\", \"Default\", \"Default\", \"Default\", \"Default\", \"Default\", \"Default\", \"Default\", \"Default\", \"Default\", \"Default\", \"Default\", \"Default\", \"Default\", \"Topic1\", \"Topic1\", \"Topic1\", \"Topic1\", \"Topic1\", \"Topic1\", \"Topic1\", \"Topic1\", \"Topic1\", \"Topic1\", \"Topic1\", \"Topic1\", \"Topic1\", \"Topic1\", \"Topic1\", \"Topic1\", \"Topic1\", \"Topic1\", \"Topic1\", \"Topic1\", \"Topic1\", \"Topic1\", \"Topic1\", \"Topic1\", \"Topic1\", \"Topic1\", \"Topic1\", \"Topic1\", \"Topic1\", \"Topic1\", \"Topic1\", \"Topic1\", \"Topic1\", \"Topic1\", \"Topic1\", \"Topic1\", \"Topic1\", \"Topic1\", \"Topic1\", \"Topic1\", \"Topic1\", \"Topic1\", \"Topic1\", \"Topic1\", \"Topic2\", \"Topic2\", \"Topic2\", \"Topic2\", \"Topic2\", \"Topic2\", \"Topic2\", \"Topic2\", \"Topic2\", \"Topic2\", \"Topic2\", \"Topic2\", \"Topic2\", \"Topic2\", \"Topic2\", \"Topic2\", \"Topic2\", \"Topic2\", \"Topic2\", \"Topic2\", \"Topic2\", \"Topic2\", \"Topic2\", \"Topic2\", \"Topic2\", \"Topic2\", \"Topic2\", \"Topic2\", \"Topic2\", \"Topic2\", \"Topic2\", \"Topic2\", \"Topic2\", \"Topic2\", \"Topic2\", \"Topic2\", \"Topic2\", \"Topic2\", \"Topic2\", \"Topic2\", \"Topic2\", \"Topic2\", \"Topic2\", \"Topic2\", \"Topic2\", \"Topic2\", \"Topic2\", \"Topic2\", \"Topic2\", \"Topic2\", \"Topic2\", \"Topic2\", \"Topic2\", \"Topic3\", \"Topic3\", \"Topic3\", \"Topic3\", \"Topic3\", \"Topic3\", \"Topic3\", \"Topic3\", \"Topic3\", \"Topic3\", \"Topic3\", \"Topic3\", \"Topic3\", \"Topic3\", \"Topic3\", \"Topic3\", \"Topic3\", \"Topic3\", \"Topic3\", \"Topic3\", \"Topic3\", \"Topic3\", \"Topic3\", \"Topic3\", \"Topic3\", \"Topic3\", \"Topic3\", \"Topic3\", \"Topic3\", \"Topic3\", \"Topic3\", \"Topic3\", \"Topic3\", \"Topic3\", \"Topic3\", \"Topic3\", \"Topic3\", \"Topic3\", \"Topic3\", \"Topic3\", \"Topic3\", \"Topic3\", \"Topic4\", \"Topic4\", \"Topic4\", \"Topic4\", \"Topic4\", \"Topic4\", \"Topic4\", \"Topic4\", \"Topic4\", \"Topic4\", \"Topic4\", \"Topic4\", \"Topic4\", \"Topic4\", \"Topic4\", \"Topic4\", \"Topic4\", \"Topic4\", \"Topic4\", \"Topic4\", \"Topic4\", \"Topic4\", \"Topic4\", \"Topic4\", \"Topic4\", \"Topic4\", \"Topic4\", \"Topic4\", \"Topic4\", \"Topic4\", \"Topic4\", \"Topic4\", \"Topic4\", \"Topic4\", \"Topic4\", \"Topic4\", \"Topic4\", \"Topic4\", \"Topic4\", \"Topic4\", \"Topic4\", \"Topic4\", \"Topic4\", \"Topic4\", \"Topic5\", \"Topic5\", \"Topic5\", \"Topic5\", \"Topic5\", \"Topic5\", \"Topic5\", \"Topic5\", \"Topic5\", \"Topic5\", \"Topic5\", \"Topic5\", \"Topic5\", \"Topic5\", \"Topic5\", \"Topic5\", \"Topic5\", \"Topic5\", \"Topic5\", \"Topic5\", \"Topic5\", \"Topic5\", \"Topic5\", \"Topic5\", \"Topic5\", \"Topic5\", \"Topic5\", \"Topic5\", \"Topic5\", \"Topic5\", \"Topic5\", \"Topic5\", \"Topic5\", \"Topic5\", \"Topic5\", \"Topic5\", \"Topic5\", \"Topic5\", \"Topic5\", \"Topic5\", \"Topic5\", \"Topic5\", \"Topic5\", \"Topic5\", \"Topic5\", \"Topic5\", \"Topic5\", \"Topic5\", \"Topic6\", \"Topic6\", \"Topic6\", \"Topic6\", \"Topic6\", \"Topic6\", \"Topic6\", \"Topic6\", \"Topic6\", \"Topic6\", \"Topic6\", \"Topic6\", \"Topic6\", \"Topic6\", \"Topic6\", \"Topic6\", \"Topic6\", \"Topic6\", \"Topic6\", \"Topic6\", \"Topic6\", \"Topic6\", \"Topic6\", \"Topic6\", \"Topic6\", \"Topic6\", \"Topic6\", \"Topic6\", \"Topic6\", \"Topic6\", \"Topic6\", \"Topic6\", \"Topic6\", \"Topic6\", \"Topic6\", \"Topic6\", \"Topic6\", \"Topic6\", \"Topic6\", \"Topic6\", \"Topic6\", \"Topic6\", \"Topic6\", \"Topic6\", \"Topic6\", \"Topic6\", \"Topic6\", \"Topic6\", \"Topic6\", \"Topic7\", \"Topic7\", \"Topic7\", \"Topic7\", \"Topic7\", \"Topic7\", \"Topic7\", \"Topic7\", \"Topic7\", \"Topic7\", \"Topic7\", \"Topic7\", \"Topic7\", \"Topic7\", \"Topic7\", \"Topic7\", \"Topic7\", \"Topic7\", \"Topic7\", \"Topic7\", \"Topic7\", \"Topic7\", \"Topic7\", \"Topic7\", \"Topic7\", \"Topic7\", \"Topic7\", \"Topic7\", \"Topic7\", \"Topic7\", \"Topic7\", \"Topic7\", \"Topic7\", \"Topic7\", \"Topic7\", \"Topic7\", \"Topic7\", \"Topic7\", \"Topic7\", \"Topic7\", \"Topic8\", \"Topic8\", \"Topic8\", \"Topic8\", \"Topic8\", \"Topic8\", \"Topic8\", \"Topic8\", \"Topic8\", \"Topic8\", \"Topic8\", \"Topic8\", \"Topic8\", \"Topic8\", \"Topic8\", \"Topic8\", \"Topic8\", \"Topic8\", \"Topic8\", \"Topic8\", \"Topic8\", \"Topic8\", \"Topic8\", \"Topic8\", \"Topic8\", \"Topic8\", \"Topic8\", \"Topic8\", \"Topic8\", \"Topic8\", \"Topic8\", \"Topic8\", \"Topic8\", \"Topic8\", \"Topic8\", \"Topic8\", \"Topic8\", \"Topic8\", \"Topic8\", \"Topic8\", \"Topic8\", \"Topic8\", \"Topic8\", \"Topic8\", \"Topic8\", \"Topic8\", \"Topic8\"], \"logprob\": [30.0, 29.0, 28.0, 27.0, 26.0, 25.0, 24.0, 23.0, 22.0, 21.0, 20.0, 19.0, 18.0, 17.0, 16.0, 15.0, 14.0, 13.0, 12.0, 11.0, 10.0, 9.0, 8.0, 7.0, 6.0, 5.0, 4.0, 3.0, 2.0, 1.0, -3.059, -3.784, -3.7989, -3.8987, -3.9459, -4.0963, -4.1368, -4.3432, -4.4372, -4.5828, -4.5837, -4.7638, -4.8348, -5.0154, -5.0903, -5.1094, -5.19, -5.1929, -5.3111, -5.3396, -5.3763, -5.4975, -5.5125, -5.5246, -5.5629, -5.6931, -5.7489, -5.7805, -5.8639, -5.9416, -3.582, -4.3017, -4.4287, -4.8968, -4.419, -5.081, -4.1908, -4.9209, -4.2496, -4.6156, -4.7074, -4.7536, -5.0466, -5.1837, -3.1754, -3.6846, -3.7532, -4.3015, -4.5177, -4.8022, -4.9426, -5.1489, -5.2255, -5.4112, -5.4191, -5.6479, -5.8242, -5.8752, -5.9078, -5.9179, -5.9708, -6.0333, -6.0886, -6.1029, -6.1242, -6.1477, -6.1564, -6.1601, -6.1959, -6.2005, -6.2065, -6.2343, -6.2621, -6.2799, -5.2975, -4.9225, -4.3288, -4.3696, -4.1428, -4.9984, -5.7955, -3.4091, -5.0452, -4.663, -5.2281, -5.188, -5.3847, -5.2396, -4.9428, -5.2855, -5.5016, -5.4158, -5.2359, -5.2507, -5.0573, -5.1392, -5.3683, -4.1514, -4.1729, -4.8471, -4.8623, -5.0155, -5.3699, -5.3799, -5.4091, -5.4433, -5.4747, -5.491, -5.5189, -5.5677, -5.6099, -5.6523, -5.682, -5.6829, -5.7384, -5.7827, -5.8026, -5.8619, -5.8749, -5.9186, -5.9287, -5.9541, -5.9781, -5.9957, -6.0063, -6.0063, -6.0158, -5.4897, -5.7018, -5.398, -5.1432, -5.6196, -4.11, -5.6283, -5.589, -4.8385, -5.6403, -5.2017, -5.5651, -2.9391, -3.6487, -4.0251, -4.3407, -4.5657, -4.646, -4.784, -4.8082, -4.8192, -4.9019, -4.97, -5.0733, -5.121, -5.2365, -5.259, -5.3632, -5.4299, -5.4473, -5.4709, -5.4764, -5.5667, -5.5784, -5.6081, -5.6146, -5.6338, -5.6918, -5.7423, -5.8058, -5.8369, -5.8766, -3.6702, -5.3023, -4.7629, -4.4702, -5.3165, -4.1721, -5.07, -5.0456, -4.9396, -5.1671, -4.9377, -5.3704, -4.9717, -5.0222, -3.0068, -3.8062, -4.1064, -4.1328, -4.6115, -5.0754, -5.0809, -5.095, -5.166, -5.1933, -5.4061, -5.449, -5.471, -5.5649, -5.6312, -5.7539, -5.7746, -5.8355, -5.8794, -5.8823, -5.9361, -5.9459, -5.9603, -5.9661, -6.0076, -6.0234, -6.0617, -6.0777, -6.1169, -6.1541, -4.7769, -4.2948, -4.718, -5.2126, -5.0374, -5.3259, -5.2842, -5.5531, -5.3246, -4.8312, -5.0907, -5.3363, -5.0939, -5.22, -5.2301, -4.962, -5.2031, -5.3564, -3.82, -4.0112, -4.4082, -4.4856, -4.6661, -4.6924, -4.9147, -5.0053, -5.0162, -5.052, -5.1044, -5.1666, -5.2064, -5.3584, -5.418, -5.4722, -5.4793, -5.5069, -5.5299, -5.6949, -5.7396, -5.78, -5.7802, -5.7866, -5.9031, -5.9251, -5.9834, -5.9844, -6.0165, -6.0357, -4.091, -5.9318, -4.4251, -4.6539, -4.0668, -4.91, -4.8387, -4.649, -5.2621, -5.079, -4.9556, -4.9775, -4.6438, -4.5885, -4.9405, -4.7713, -4.9096, -4.9572, -5.2292, -3.6069, -3.6604, -4.0816, -4.1152, -4.1894, -4.2361, -4.6704, -4.8323, -4.8346, -4.8875, -4.8962, -5.0836, -5.2141, -5.2942, -5.3412, -5.3671, -5.3703, -5.3912, -5.4052, -5.4303, -5.504, -5.565, -5.5834, -5.6174, -5.627, -5.6358, -5.6517, -5.6776, -5.6836, -5.6974, -5.0862, -5.4375, -5.1581, -5.1455, -4.3738, -4.4648, -4.5417, -5.0788, -5.0793, -5.3084, -3.8506, -4.2684, -5.1356, -5.1645, -5.2868, -5.307, -5.3122, -5.3865, -5.3889, -5.4043, -5.4157, -5.4204, -5.4593, -5.5261, -5.7739, -5.8278, -5.8351, -5.8954, -5.9726, -5.9741, -5.9749, -5.995, -6.022, -6.0739, -6.1139, -6.1245, -6.1603, -6.174, -6.1777, -6.1878, -5.581, -5.3372, -4.849, -5.2219, -5.2144, -5.1941, -5.235, -4.7861, -4.2687, -5.25, -4.2297, -4.8005, -5.146, -4.9856, -5.3639, -5.0479, -5.4219], \"loglift\": [30.0, 29.0, 28.0, 27.0, 26.0, 25.0, 24.0, 23.0, 22.0, 21.0, 20.0, 19.0, 18.0, 17.0, 16.0, 15.0, 14.0, 13.0, 12.0, 11.0, 10.0, 9.0, 8.0, 7.0, 6.0, 5.0, 4.0, 3.0, 2.0, 1.0, 1.9787, 1.9787, 1.9787, 1.9787, 1.9787, 1.9787, 1.9787, 1.9787, 1.9787, 1.9787, 1.9787, 1.9787, 1.9787, 1.9787, 1.9787, 1.9787, 1.9787, 1.9787, 1.9787, 1.9787, 1.9787, 1.9786, 1.9786, 1.9786, 1.9786, 1.9786, 1.9786, 1.9786, 1.9786, 1.9786, 1.8648, 1.7398, 1.7529, 1.7141, 1.5135, 1.7239, 1.2269, 1.4926, 0.4076, 0.5644, 0.1312, 0.0589, -0.0438, 1.4375, 2.0404, 2.0404, 2.0404, 2.0404, 2.0404, 2.0404, 2.0404, 2.0404, 2.0404, 2.0404, 2.0404, 2.0404, 2.0403, 2.0403, 2.0403, 2.0403, 2.0403, 2.0403, 2.0403, 2.0403, 2.0403, 2.0403, 2.0403, 2.0403, 2.0403, 2.0403, 2.0403, 2.0403, 2.0403, 2.0403, 2.0402, 1.9692, 1.7432, 1.6807, 1.6104, 1.7901, 1.9379, 1.2482, 1.7189, 1.5943, 1.7354, 1.7155, 1.74, 1.6238, 1.2948, 1.4772, 1.6472, 1.5273, 1.1099, 0.8792, 0.1227, -0.3267, 0.6527, 2.0831, 2.0831, 2.0831, 2.0831, 2.0831, 2.0831, 2.0831, 2.0831, 2.0831, 2.0831, 2.0831, 2.0831, 2.0831, 2.0831, 2.0831, 2.0831, 2.0831, 2.0831, 2.083, 2.083, 2.083, 2.083, 2.083, 2.083, 2.083, 2.083, 2.083, 2.083, 2.083, 2.083, 2.0139, 2.0128, 1.7392, 1.5627, 1.8361, 0.7285, 1.8286, 1.6432, 0.1643, 1.6466, -0.3892, 0.5032, 2.0832, 2.0832, 2.0832, 2.0831, 2.0831, 2.0831, 2.0831, 2.0831, 2.0831, 2.0831, 2.0831, 2.0831, 2.0831, 2.0831, 2.0831, 2.0831, 2.0831, 2.0831, 2.0831, 2.0831, 2.0831, 2.0831, 2.0831, 2.0831, 2.0831, 2.0831, 2.0831, 2.0831, 2.0831, 2.0831, 1.7924, 1.9309, 1.7679, 1.5508, 1.7497, 0.6404, 1.4045, 1.2787, 1.0203, 1.3391, 0.886, 1.7019, 0.0312, -0.1836, 2.089, 2.0889, 2.0889, 2.0889, 2.0889, 2.0889, 2.0889, 2.0889, 2.0889, 2.0889, 2.0889, 2.0889, 2.0889, 2.0889, 2.0889, 2.0889, 2.0888, 2.0888, 2.0888, 2.0888, 2.0888, 2.0888, 2.0888, 2.0888, 2.0888, 2.0888, 2.0888, 2.0888, 2.0888, 2.0888, 1.7923, 1.6651, 1.743, 1.8671, 1.8198, 1.8757, 1.8052, 1.9113, 1.7897, 1.5312, 1.5206, 1.5619, 0.3687, 0.6036, 0.5232, -0.3048, -0.3646, -0.3536, 2.1134, 2.1134, 2.1133, 2.1133, 2.1133, 2.1133, 2.1133, 2.1133, 2.1133, 2.1133, 2.1133, 2.1133, 2.1133, 2.1133, 2.1133, 2.1133, 2.1133, 2.1133, 2.1133, 2.1133, 2.1133, 2.1133, 2.1133, 2.1133, 2.1132, 2.1132, 2.1132, 2.1132, 2.1132, 2.1132, 2.1059, 2.113, 1.9974, 1.9986, 1.9364, 1.9778, 1.8864, 1.585, 1.8209, 1.5987, 1.4196, 1.2655, 0.5362, 0.4144, 0.7118, 0.0412, -0.071, -0.3, 1.0951, 2.1218, 2.1218, 2.1217, 2.1217, 2.1217, 2.1217, 2.1217, 2.1217, 2.1217, 2.1217, 2.1217, 2.1217, 2.1217, 2.1217, 2.1217, 2.1217, 2.1217, 2.1217, 2.1217, 2.1217, 2.1217, 2.1217, 2.1217, 2.1217, 2.1217, 2.1217, 2.1217, 2.1217, 2.1217, 2.1217, 2.0412, 2.028, 1.8948, 1.8797, 1.3991, 0.3477, 0.4612, 0.339, -0.422, 0.7636, 2.1349, 2.1349, 2.1349, 2.1349, 2.1349, 2.1349, 2.1349, 2.1349, 2.1349, 2.1349, 2.1349, 2.1349, 2.1349, 2.1349, 2.1348, 2.1348, 2.1348, 2.1348, 2.1348, 2.1348, 2.1348, 2.1348, 2.1348, 2.1348, 2.1348, 2.1348, 2.1348, 2.1348, 2.1348, 2.1348, 2.134, 2.0356, 1.8853, 1.9041, 1.8897, 1.8146, 1.6861, 1.3479, 0.9113, 1.5884, 0.6088, 0.012, 0.5063, 0.0172, 0.6864, -0.3906, 0.351]}, \"token.table\": {\"Topic\": [6, 4, 5, 8, 7, 6, 8, 4, 4, 4, 3, 3, 3, 5, 5, 2, 5, 1, 7, 6, 7, 7, 3, 8, 7, 7, 2, 4, 8, 8, 4, 2, 6, 8, 2, 1, 6, 8, 2, 4, 2, 2, 2, 4, 5, 2, 1, 2, 2, 1, 1, 7, 2, 4, 6, 7, 1, 3, 6, 6, 3, 8, 1, 7, 5, 5, 5, 7, 4, 5, 6, 5, 7, 2, 3, 8, 2, 2, 4, 2, 4, 5, 7, 3, 3, 5, 8, 5, 5, 8, 2, 7, 8, 4, 1, 7, 6, 7, 1, 2, 7, 3, 4, 5, 6, 8, 7, 7, 1, 2, 3, 4, 5, 6, 7, 8, 1, 2, 5, 6, 7, 8, 4, 5, 7, 8, 4, 4, 8, 5, 1, 7, 8, 2, 6, 4, 2, 1, 2, 6, 7, 8, 2, 6, 4, 4, 3, 3, 4, 5, 6, 6, 7, 8, 6, 2, 3, 1, 1, 6, 6, 6, 6, 1, 2, 5, 7, 8, 1, 1, 1, 2, 3, 4, 5, 6, 7, 8, 1, 2, 3, 4, 5, 6, 7, 8, 1, 3, 2, 2, 8, 5, 8, 8, 7, 7, 4, 1, 3, 5, 1, 5, 6, 8, 2, 7, 6, 1, 2, 5, 6, 7, 8, 3, 3, 6, 2, 2, 8, 1, 2, 3, 4, 6, 7, 8, 5, 5, 8, 2, 3, 3, 4, 5, 7, 8, 5, 1, 2, 3, 6, 7, 8, 1, 6, 7, 3, 6, 3, 5, 4, 7, 8, 5, 7, 8, 1, 3, 5, 1, 5, 8, 3, 6, 6, 6, 8, 2, 7, 4, 4, 8, 1, 2, 3, 4, 5, 6, 7, 8, 1, 3, 3, 8, 5, 1, 2, 3, 5, 7, 4, 5, 5, 3, 3, 5, 5, 5, 5, 1, 6, 2, 4, 5, 7, 8, 1, 2, 4, 7, 1, 2, 4, 8, 1, 6, 7, 8, 8, 2, 4, 7, 1, 1, 8, 6, 8, 8, 1, 2, 5, 6, 7, 8, 2, 3, 6, 1, 4, 6, 6, 3, 4, 5, 8, 2, 7, 1, 3, 6, 8, 2, 6, 4, 6, 1, 2, 3, 4, 6, 7, 8, 5, 5, 5, 4, 4, 1, 2, 6, 8, 4, 5, 7, 7, 8, 1, 3, 4, 5, 6, 8, 4, 1, 1, 2, 5, 4, 2, 6, 8, 2, 5, 6, 6, 1, 1, 6, 6, 3, 6, 7, 6, 6, 4, 4, 2, 3, 4, 5, 6, 7, 8, 1, 4, 6, 7, 5, 6, 6, 5, 1, 2, 8, 5, 8, 8, 3, 1, 4, 6, 5, 4, 1, 1, 2, 5, 6, 3, 3, 5, 7, 1, 2, 4, 1, 2, 5, 6, 7, 3, 4, 1, 3, 3, 5, 8, 2, 8, 7, 3, 1, 7, 7, 3, 4, 1, 1, 3, 7, 1, 4, 5, 7, 4, 5, 5, 4, 1, 4, 5, 6, 8, 1, 6, 7, 8, 3, 2, 5, 8, 8, 2, 3, 5, 3, 1, 2, 7, 1, 1, 4, 6, 8, 5, 7, 2, 3, 2, 3, 1, 2, 3, 4, 5, 6, 7, 8, 4, 4, 2, 4, 5, 7, 8, 2, 7, 3, 1, 3, 8, 2, 7, 2, 4, 8, 1, 2, 3, 4, 5, 6, 7, 8, 8, 2, 1, 3, 7, 8, 5, 3, 6, 8, 7], \"Freq\": [0.9998899285989947, 0.6830147327897766, 0.3169708339639788, 0.9999621072886831, 0.9999237067021133, 0.9998423812591092, 0.9999038385912264, 0.9999627421898941, 0.9998735582807775, 0.9999145981081231, 0.9999085447975566, 0.9999003463480343, 0.7810745048906648, 0.21879305168538868, 0.999976076021007, 0.7785325657322899, 0.22144745059855075, 0.8923130014792814, 0.10768008252822113, 0.9999628377799671, 0.9999357512003177, 0.9999249632948878, 0.9331148251771046, 0.06686544762259096, 0.9999809466499253, 0.9999891954165021, 0.9998638267782426, 0.9999737672863593, 0.9999146056361092, 0.9997665731678506, 0.9999586402417301, 0.697883207586592, 0.06718999571407375, 0.2349018388019445, 0.9999841366303949, 7.31524248419668e-05, 0.09443978047097915, 0.9054075622690232, 0.6748785507322842, 0.3251017797670681, 0.9998315066889618, 0.999915615984537, 0.9999202119956664, 0.9999548191887174, 0.9998731354722112, 0.9999612312928762, 0.3598879175633632, 0.6401070888697777, 0.9999464174141647, 0.9999518572715238, 0.9998796807197016, 0.9999774208478993, 0.9999221362411508, 0.7164130600323615, 0.1940834960108712, 0.08942376889710321, 0.9999066550892389, 0.9999310612728136, 0.9999328403495579, 0.9998851719060151, 0.9999036826895924, 0.999908641032164, 0.9999016424289431, 0.9999068986298477, 0.9999354673474641, 0.9999739259615951, 0.9998729984019372, 0.9999414273540591, 0.47519095940229045, 0.232044973768827, 0.29274690568237915, 0.9998974727698177, 0.9999521525315486, 0.23212320321822716, 0.5942384040976485, 0.17362304944695606, 0.9998748223526199, 0.9025695715917199, 0.09735959112369127, 0.5693468301191811, 0.11834402597158661, 0.036878192109345995, 0.2754339973166779, 0.9998771104677976, 0.9998705908128903, 0.2060808505205813, 0.7938627550142526, 0.9999751850533842, 0.9999691578420519, 0.9998656035154025, 0.20302824137507688, 0.7969203760096555, 0.999784446162938, 0.9998357079157032, 0.9999618346764505, 0.9999531126960223, 0.9998757665268081, 0.9999174621246147, 0.06957298852436444, 0.7404757613741627, 0.18988460444672725, 0.12191476943341722, 0.1354077181378722, 0.5664647300404477, 0.0033476176532571834, 0.17284638087225868, 0.9999551181918583, 0.9999354610947067, 0.052927246112414957, 0.06953888031504901, 0.08789092895238373, 0.3020396014935436, 0.22642481007163778, 0.08447225774136456, 0.077743691221495, 0.09897053155900494, 0.5820192947470519, 0.09482995740040574, 0.08675785480611875, 0.07806482124304044, 0.12887767218912907, 0.02945972485265424, 0.7477023838082714, 0.1790140604010388, 0.06987710797431801, 0.0033898845003040197, 0.9999735099822689, 0.9999249192436319, 0.9998615067729374, 0.9998713946078919, 0.9999640528813454, 0.0009269612310997574, 0.9990582157408496, 0.9999416464505136, 0.9999557588401299, 0.9998817109519278, 0.9998309476629708, 0.1640415408347236, 0.6592430411144653, 0.07336155724896937, 0.029406160455099167, 0.07393297740728969, 0.9998894928858915, 0.9999836419887638, 0.9998565596264869, 0.9999665998146317, 0.9999283670886993, 0.17876501641954043, 0.24979086344423487, 0.07172720366071496, 0.4997166031646275, 0.9999065931390488, 0.3616013316532967, 0.6383665023135073, 0.9998722820870464, 0.9999204258359546, 0.9999588477520555, 0.9999931423808276, 0.9999687110210501, 0.9999336777233535, 0.9997948771892241, 0.9998891488053446, 0.9999115436725636, 0.23239818596191808, 0.14027390049990296, 0.11475799534778282, 0.05738959398001771, 0.45517492596115966, 0.9999835361292336, 0.9999651781048089, 0.15762099817813024, 0.030908012121582115, 0.2580270709703169, 0.10364366820495989, 0.08598774913494404, 0.11254415451892778, 0.033896115414733, 0.21737726189883122, 0.14663899430633173, 0.09374742444126216, 0.0843856844138407, 0.23627087119930718, 0.02371527742453686, 0.12591427272388786, 0.1696476186490886, 0.11967876593026111, 0.06785042692298694, 0.9320939528585748, 0.9998509105081681, 0.9998009461171115, 0.9998852432664181, 0.27409350892635875, 0.7258675124209635, 0.9997893257872364, 0.9999226543747105, 0.9999257461312986, 0.9999672207916727, 0.05506320087705279, 0.7752612227530713, 0.1695660131054906, 0.16146828807008212, 0.5903513621322168, 0.1687953439830706, 0.07936885411336618, 0.7428528052121227, 0.2571191378992862, 0.9998585444475201, 0.2430805676291848, 0.14693737025650516, 0.028678870032285274, 0.20655643881493937, 0.08058329806111242, 0.2941604679400328, 0.9999503696310684, 0.999936548846971, 0.9999006171200164, 0.9999960540952854, 0.9999699408295218, 0.9998405522704273, 0.04240557280094405, 0.474406469106792, 0.060434993165868714, 0.09985525125189043, 0.15457818555377387, 0.11623922256134608, 0.05209021581313305, 0.9998341674388536, 0.8010324699497394, 0.19889396137376023, 0.9999151710154022, 0.9999488892219874, 0.1617339270816645, 0.5072767195333547, 0.06422883528975293, 0.05079321158118216, 0.21595307375483255, 0.9998739744568858, 0.18793434456096744, 0.0006430235329412664, 0.045954748487535835, 0.04012466845553502, 0.1463521560974322, 0.5789783890603162, 0.7978561082449676, 0.20202574642258003, 0.00011113749940729455, 0.9998434753709047, 0.9999046630325247, 0.25859058677554986, 0.7413156096204273, 0.9999294913340285, 0.999918763697052, 0.9999132420513905, 0.9998387073249874, 0.999894507169716, 0.9998910011552341, 0.2168653195751836, 0.6440493210009776, 0.13900482236545325, 0.9999823064745347, 0.9999324005415998, 0.9999450475719062, 0.9998461164531707, 0.9999813103121182, 0.9999181491311638, 0.8377743685501222, 0.16222545870932606, 0.9998944868534179, 0.9998581088030466, 0.9999888759902257, 0.99998200343075, 0.9999238960821979, 0.47150404969006293, 0.044835131218332144, 0.07967813734989973, 0.09122344250196447, 0.04560136671721357, 0.04886304485434397, 0.16816798293693588, 0.05012629797412146, 0.9999607130203195, 0.9998906199770572, 0.9999559863647551, 0.999906449716892, 0.9998458546084873, 0.1200811971824308, 0.3943504237313074, 0.0015979391422618408, 0.2031478368564029, 0.2807919617361422, 0.29244208344768124, 0.707533494958395, 0.9998373876987614, 0.99989041086462, 0.999846116294155, 0.9998316789942144, 0.9998133505209089, 0.9999919376578088, 0.9999442708337574, 0.7874823369707246, 0.2124967672302679, 0.6505103848122308, 0.08523329877813599, 0.20891934322423308, 0.05523870884278856, 8.689886026657875e-05, 0.10246507232582149, 0.2496414878686373, 0.5871913067701796, 0.06068779269842669, 0.9999792640552624, 0.9999549231092124, 0.858717070304065, 0.14123217484627532, 0.7675212822603956, 0.2324383755993466, 0.9999694127138182, 0.9999112434709249, 0.9999274924961403, 0.00011446297794801204, 0.07726251011490813, 0.9226288337499511, 0.9999609805783714, 0.9998238329187437, 0.9999739180648859, 0.21740017461193742, 0.7825399803739878, 0.999895795158884, 0.20781676418653264, 0.45280192087774407, 0.09128739193101212, 0.0895158550568472, 0.07856717634274596, 0.08000957521843215, 0.999822294968213, 0.00014125774158917957, 0.9999468166953407, 0.9998851317534838, 0.12677801621025783, 0.8732145493075272, 0.9999016533571112, 0.7089732377956106, 0.10952182975647526, 0.18147680497906718, 0.9999317721627754, 0.9999831139959453, 0.9999916134148807, 0.7750396527654221, 0.22496337356570284, 0.8904871827152572, 0.1095009645412054, 0.9312395781380453, 0.06872283142058691, 0.000286468293436161, 0.9996311099454838, 0.15812742608302133, 0.31308892665717275, 0.06361399655822561, 0.2070093159399724, 0.05206892153588009, 0.049705030489257236, 0.15637561396811334, 0.9999151626519114, 0.9998433893619032, 0.9998186161188005, 0.9998843908706718, 0.9999933492289517, 0.3640945416066081, 0.07946029528603807, 0.4283103721515711, 0.1281007734831429, 0.9999506894549485, 0.9998421215145795, 0.9999647955262677, 0.9999581027442922, 0.9998083783662386, 0.2873217444223651, 9.369696540758685e-05, 0.029701938034205032, 0.07451251174038344, 0.5895647305858883, 0.018786241564221165, 0.9999306280725451, 0.9999816013928395, 0.9999434865670894, 0.5986436081178975, 0.40133303594481506, 0.9999649737089192, 0.7249883359889934, 0.20392162450500093, 0.07103827083166016, 0.1920102590143985, 0.8079224606426071, 0.9999552871729624, 0.9999545837220037, 0.9999265067305332, 0.10838862055768625, 0.891598741454491, 0.9999121861993725, 0.0988626321229368, 0.7969484034315873, 0.10418276602347425, 0.9999199578366368, 0.9999188377965256, 0.9999326784772238, 0.999939371925841, 0.15878598714458073, 0.2059792226688668, 0.12764797766703453, 0.055647532552606474, 0.26001924804003207, 0.06946018685239752, 0.12246823230461289, 0.11345231924113859, 0.0653774465125094, 0.5977053652684695, 0.22343682306145732, 0.9999880751698692, 0.9999293912716104, 0.9999369589263729, 0.9999359730838991, 0.9999785171349591, 0.9998572931924142, 0.9999146159197563, 0.9999451530515536, 0.9999417034195466, 0.9999218034826863, 0.9999293675811989, 0.6280011764807638, 0.19186229519841896, 0.180131890263051, 0.999960620932143, 0.9999193081403246, 0.9999260125868443, 0.00019431073251074613, 0.7370691860963877, 0.26270811035452873, 0.9999622630189292, 0.9999435212170192, 0.9998663558220374, 0.7432873933333146, 0.2566707777727776, 0.9999547179885873, 0.9999299869385111, 0.9999666024934374, 0.6150230684444545, 0.17969706005821703, 0.12260098903363614, 0.00014014744974123928, 0.08251881840764169, 0.9998735499006576, 0.9999830888884654, 0.9999484192749589, 0.9998952164269489, 0.00034945630305014796, 0.7640425245812672, 0.23553354825579972, 0.22089069831385105, 0.7791052122409493, 0.9998394982492116, 0.9998889742831631, 0.9999536090919213, 0.999984291189986, 0.9998640906703345, 0.2704229583855158, 0.7295526729547478, 0.9999843648318627, 0.999936186110332, 0.999887129000638, 0.9998472057492942, 0.1486050378717095, 0.09840882374448394, 0.7529432119083835, 0.9998958185451942, 0.34547564734868536, 0.6545160795182258, 0.999926883795284, 0.9998566367001267, 0.10117418067106455, 0.32634598840306, 0.5724770170321674, 0.9999280531456646, 0.9999425137548636, 0.0005190705395955884, 0.9925305765597559, 0.00652223417144022, 0.0004287974022746165, 0.9998868489545835, 0.000881763739811106, 0.8371945907806537, 0.1619238867653122, 0.9998827110683658, 0.9999000653526002, 0.9999875346540161, 0.9998532880184108, 0.9998836604832345, 0.9999738253575133, 0.999779559275305, 0.999871468516594, 0.9999420983397026, 0.1212048484309799, 0.447340229509433, 0.36120480422853357, 0.07024138847311441, 0.08940422763079986, 0.9105748354569616, 0.9999856680963193, 0.999977744753228, 0.9998454850507328, 0.9999075912357877, 0.13233048418529267, 0.012274984192682565, 0.146780089533002, 0.12848044736051256, 0.08694381561324019, 0.1828664915300972, 0.19002632910655326, 0.12030852195089937, 0.9998791673491041, 0.9999826271235918, 0.11195073349312128, 0.13952487853687556, 0.09511381579098958, 0.48544969118540937, 0.16797040791784543, 0.9998282421284702, 0.9999612379679993, 0.9998379073314688, 0.163994242773644, 0.646243379116607, 0.18977147946012754, 0.7225704873109314, 0.2774260754117695, 0.9997981445801699, 0.9998604966395577, 0.9998816399733153, 0.9999827322845435, 0.106034905114733, 0.10435908490795615, 0.14134496056533616, 0.13267782793341207, 0.24621464694254463, 0.07317311824746793, 0.19618879530118213, 0.9998381339714919, 0.9998944023660316, 0.999928607703235, 0.2024393148051269, 0.7849561180498947, 0.012555577717622723, 0.9998718427646989, 0.253533497394041, 0.746421011330243, 0.9998937504605477, 0.9999807875825916], \"Term\": [\"ace\", \"adventure\", \"adventure\", \"android\", \"animal\", \"apex\", \"app\", \"ark\", \"ark_survival\", \"arma\", \"assassin\", \"auto\", \"baby\", \"baby\", \"ball\", \"base\", \"base\", \"battle\", \"battle\", \"battlefield\", \"battlefront\", \"beamng\", \"beat\", \"beat\", \"black\", \"black_op\", \"block\", \"boss\", \"box\", \"breath\", \"bro\", \"build\", \"build\", \"build\", \"car\", \"card\", \"card\", \"card\", \"career\", \"career\", \"career_mode\", \"change\", \"channel\", \"chapter\", \"christmas\", \"clan\", \"clash\", \"clash\", \"clash_clan\", \"clash_royale\", \"clip\", \"cod\", \"combat\", \"commentary\", \"commentary\", \"commentary\", \"compilation\", \"creed\", \"cs\", \"csgo\", \"cup\", \"daily\", \"dark_soul\", \"dash\", \"date\", \"day\", \"daylight\", \"de\", \"dead\", \"dead\", \"dead\", \"dead_daylight\", \"demon\", \"destiny\", \"destiny\", \"destiny\", \"diablo\", \"division\", \"division\", \"dlc\", \"dlc\", \"dlc\", \"dlc\", \"dog\", \"dota\", \"download\", \"download\", \"dragon\", \"dragon_ball\", \"draw\", \"drive\", \"drive\", \"duel\", \"dungeon\", \"duo\", \"duty\", \"early\", \"easter\", \"easy\", \"easy\", \"easy\", \"edition\", \"edition\", \"edition\", \"edition\", \"edition\", \"egg\", \"emblem\", \"ep\", \"ep\", \"ep\", \"ep\", \"ep\", \"ep\", \"ep\", \"ep\", \"epic\", \"epic\", \"epic\", \"epic\", \"epic\", \"epic\", \"episode\", \"episode\", \"episode\", \"episode\", \"evil\", \"evolve\", \"expose\", \"faction\", \"fail\", \"fall\", \"fall\", \"fallout\", \"fantasy\", \"far\", \"farming\", \"fast\", \"fast\", \"fast\", \"fast\", \"fast\", \"feature\", \"fifa\", \"fifa_ultimate\", \"fight\", \"fighter\", \"final\", \"final\", \"final\", \"final\", \"final_fantasy\", \"fire\", \"fire\", \"five nights\", \"fix\", \"fnaf\", \"fortnite\", \"fortnite_battle\", \"forza\", \"forza horizon\", \"forza_horizon\", \"freddy\", \"free\", \"free\", \"free\", \"free\", \"free\", \"funny\", \"funny_moment\", \"game\", \"game\", \"game\", \"game\", \"game\", \"game\", \"game\", \"game\", \"gameplay\", \"gameplay\", \"gameplay\", \"gameplay\", \"gameplay\", \"gameplay\", \"gameplay\", \"gameplay\", \"gamer\", \"gamer\", \"garry\", \"garry_mod\", \"gb\", \"gear\", \"gear\", \"gear_war\", \"geometry\", \"geometry_dash\", \"ghost\", \"girl\", \"girl\", \"girl\", \"giveaway\", \"giveaway\", \"giveaway\", \"giveaway\", \"glitch\", \"glitch\", \"goal\", \"good\", \"good\", \"good\", \"good\", \"good\", \"good\", \"grand\", \"grand_theft\", \"growtopia\", \"gta\", \"gta_online\", \"gtx\", \"guide\", \"guide\", \"guide\", \"guide\", \"guide\", \"guide\", \"guide\", \"guild\", \"hack\", \"hack\", \"hall\", \"halo\", \"hd\", \"hd\", \"hd\", \"hd\", \"hd\", \"heart\", \"high\", \"high\", \"high\", \"high\", \"high\", \"high\", \"highlight\", \"highlight\", \"highlight\", \"home\", \"horizon\", \"house\", \"house\", \"hunter\", \"infinite\", \"io\", \"jailbreak\", \"jam\", \"jumpshot\", \"kid\", \"kid\", \"kid\", \"kill\", \"kingdom\", \"kombat\", \"launch\", \"league\", \"league_legend\", \"legend\", \"legend\", \"legion\", \"lego\", \"let\", \"let_play\", \"link\", \"live\", \"live\", \"live\", \"live\", \"live\", \"live\", \"live\", \"live\", \"live_stream\", \"lore\", \"love\", \"madden\", \"maker\", \"map\", \"map\", \"map\", \"map\", \"map\", \"mario\", \"mario\", \"mcpe\", \"meet\", \"meme\", \"menu\", \"metal\", \"minecraft\", \"minecraft_pe\", \"mobile\", \"mobile\", \"mod\", \"mod\", \"mod\", \"mod\", \"mod\", \"mode\", \"mode\", \"mode\", \"mode\", \"moment\", \"money\", \"monster\", \"monster\", \"montage\", \"montage\", \"moon\", \"mortal\", \"mortal_kombat\", \"multiplayer\", \"multiplayer\", \"multiplayer\", \"music\", \"na\", \"nba\", \"need\", \"need\", \"need_speed\", \"new\", \"new\", \"new\", \"new\", \"new\", \"new\", \"news\", \"news\", \"night\", \"ninja\", \"nintendo\", \"nintendo\", \"nintendo_switch\", \"official\", \"official\", \"official\", \"oh\", \"online\", \"op\", \"overwatch\", \"overwatch\", \"pack\", \"pack\", \"patch\", \"patch\", \"path\", \"path\", \"pc\", \"pc\", \"pc\", \"pc\", \"pc\", \"pc\", \"pc\", \"pe\", \"pet\", \"phantom\", \"pixel\", \"play\", \"player\", \"player\", \"player\", \"player\", \"playthrough\", \"pocket\", \"pokemon\", \"pok\\u00e9mon\", \"pool\", \"pro\", \"pro\", \"pro\", \"pro\", \"pro\", \"pro\", \"pt\", \"pubg\", \"pubg_mobile\", \"pvp\", \"pvp\", \"quest\", \"race\", \"race\", \"race\", \"raid\", \"raid\", \"rainbow\", \"rainbow_siege\", \"random\", \"rank\", \"rank\", \"record\", \"red\", \"red\", \"red\", \"red_dead\", \"redemption\", \"resident\", \"resident_evil\", \"review\", \"review\", \"review\", \"review\", \"review\", \"review\", \"review\", \"road\", \"road\", \"road\", \"road\", \"roblox\", \"rocket\", \"rocket_league\", \"roleplay\", \"royale\", \"rp\", \"runescape\", \"rust\", \"save\", \"school\", \"sea\", \"season\", \"season\", \"season\", \"server\", \"shadow\", \"shop\", \"showcase\", \"showcase\", \"showcase\", \"siege\", \"sim\", \"sims\", \"simulator\", \"simulator\", \"skin\", \"sky\", \"smash\", \"solo\", \"solo\", \"solo\", \"solo\", \"solo\", \"song\", \"sonic\", \"soul\", \"space\", \"special\", \"special\", \"special\", \"speed\", \"speed\", \"spider\", \"splatoon\", \"squad\", \"star\", \"star_war\", \"story\", \"story\", \"stream\", \"stream_highlight\", \"street\", \"strike\", \"subscriber\", \"subscriber\", \"subscriber\", \"sun\", \"super\", \"super\", \"super_mario\", \"super_smash\", \"survival\", \"survival\", \"survival\", \"switch\", \"tank\", \"team\", \"team\", \"team\", \"team\", \"theft\", \"thing\", \"thing\", \"thing\", \"total\", \"town\", \"trailer\", \"train\", \"trial\", \"trick\", \"trophy\", \"truck\", \"twitch\", \"ultimate\", \"ultimate\", \"ultimate\", \"ultimate\", \"ultra\", \"ultra\", \"update\", \"video\", \"virtual\", \"vlog\", \"vs\", \"vs\", \"vs\", \"vs\", \"vs\", \"vs\", \"vs\", \"vs\", \"walk\", \"walkthrough\", \"war\", \"war\", \"war\", \"war\", \"war\", \"warcraft\", \"warfare\", \"warframe\", \"watch\", \"watch\", \"watch\", \"weapon\", \"weapon\", \"weekly\", \"wii\", \"wild\", \"win\", \"world\", \"world\", \"world\", \"world\", \"world\", \"world\", \"world\", \"world_tank\", \"wow\", \"wtf\", \"wwe\", \"wwe\", \"wwe\", \"xenoverse\", \"year\", \"year\", \"zelda\", \"zombie\"]}, \"R\": 30, \"lambda.step\": 0.01, \"plot.opts\": {\"xlab\": \"PC1\", \"ylab\": \"PC2\"}, \"topic.order\": [2, 8, 5, 4, 7, 3, 1, 6]};\n",
       "\n",
       "function LDAvis_load_lib(url, callback){\n",
       "  var s = document.createElement('script');\n",
       "  s.src = url;\n",
       "  s.async = true;\n",
       "  s.onreadystatechange = s.onload = callback;\n",
       "  s.onerror = function(){console.warn(\"failed to load library \" + url);};\n",
       "  document.getElementsByTagName(\"head\")[0].appendChild(s);\n",
       "}\n",
       "\n",
       "if(typeof(LDAvis) !== \"undefined\"){\n",
       "   // already loaded: just create the visualization\n",
       "   !function(LDAvis){\n",
       "       new LDAvis(\"#\" + \"ldavis_el1814016027375058882937326985\", ldavis_el1814016027375058882937326985_data);\n",
       "   }(LDAvis);\n",
       "}else if(typeof define === \"function\" && define.amd){\n",
       "   // require.js is available: use it to load d3/LDAvis\n",
       "   require.config({paths: {d3: \"https://d3js.org/d3.v5\"}});\n",
       "   require([\"d3\"], function(d3){\n",
       "      window.d3 = d3;\n",
       "      LDAvis_load_lib(\"https://cdn.jsdelivr.net/gh/bmabey/pyLDAvis@3.3.1/pyLDAvis/js/ldavis.v3.0.0.js\", function(){\n",
       "        new LDAvis(\"#\" + \"ldavis_el1814016027375058882937326985\", ldavis_el1814016027375058882937326985_data);\n",
       "      });\n",
       "    });\n",
       "}else{\n",
       "    // require.js not available: dynamically load d3 & LDAvis\n",
       "    LDAvis_load_lib(\"https://d3js.org/d3.v5.js\", function(){\n",
       "         LDAvis_load_lib(\"https://cdn.jsdelivr.net/gh/bmabey/pyLDAvis@3.3.1/pyLDAvis/js/ldavis.v3.0.0.js\", function(){\n",
       "                 new LDAvis(\"#\" + \"ldavis_el1814016027375058882937326985\", ldavis_el1814016027375058882937326985_data);\n",
       "            })\n",
       "         });\n",
       "}\n",
       "</script>"
      ],
      "text/plain": [
       "<IPython.core.display.HTML object>"
      ]
     },
     "execution_count": 106,
     "metadata": {},
     "output_type": "execute_result"
    }
   ],
   "source": [
    "data = pyLDAvis.gensim_models.prepare(model_title, corpus_title, dictionary_title)\n",
    "pyLDAvis.display(data, template_type='notebook')"
   ]
  },
  {
   "cell_type": "code",
   "execution_count": 108,
   "id": "9dfda984",
=======
   "execution_count": null,
   "id": "a3c7c640",
>>>>>>> Stashed changes
   "metadata": {},
   "outputs": [
    {
     "data": {
      "text/html": [
       "\n",
       "\n",
       "<link rel=\"stylesheet\" type=\"text/css\" href=\"https://cdn.jsdelivr.net/gh/bmabey/pyLDAvis@3.3.1/pyLDAvis/js/ldavis.v1.0.0.css\">\n",
       "\n",
       "<div id=\"ldavis_el1814016027375058885829756590\"></div>\n",
       "<script type=\"text/javascript\">\n",
       "\n",
       "var ldavis_el1814016027375058885829756590_data = {\"mdsDat\": {\"x\": [-0.18855797879929634, -0.0745099440464629, 0.1814322217508833, 0.2564866608148117, 0.13862690175989806, -0.19508895190148695, -0.04127944022390928, -0.07710946935443747], \"y\": [0.0940101298708936, -0.1946852917333995, 0.21069254229322082, -0.007629910208837309, -0.05519544910506513, 0.16854778171174706, -0.25540792843583093, 0.03966812560727163], \"topics\": [1, 2, 3, 4, 5, 6, 7, 8], \"cluster\": [1, 1, 1, 1, 1, 1, 1, 1], \"Freq\": [13.82455101722224, 12.997028601670364, 12.45362625360494, 12.453414989608637, 12.381583981119626, 12.082957918514142, 11.981957177370477, 11.82488006088957]}, \"tinfo\": {\"Term\": [\"play\", \"fortnite\", \"minecraft\", \"gta\", \"battle\", \"op\", \"let\", \"online\", \"black\", \"moment\", \"update\", \"stream\", \"roblox\", \"episode\", \"fifa\", \"funny\", \"nba\", \"royale\", \"new\", \"let_play\", \"league\", \"kill\", \"win\", \"black_op\", \"day\", \"team\", \"star\", \"dragon\", \"legend\", \"video\", \"fortnite\", \"moment\", \"stream\", \"funny\", \"royale\", \"kill\", \"win\", \"funny_moment\", \"pubg\", \"skin\", \"fortnite_battle\", \"squad\", \"fail\", \"pubg_mobile\", \"live_stream\", \"trick\", \"soul\", \"clash_royale\", \"compilation\", \"music\", \"random\", \"twitch\", \"duo\", \"ninja\", \"clip\", \"wtf\", \"dark_soul\", \"stream_highlight\", \"shop\", \"na\", \"battle\", \"mobile\", \"highlight\", \"montage\", \"season\", \"overwatch\", \"live\", \"solo\", \"new\", \"good\", \"game\", \"gameplay\", \"vs\", \"epic\", \"gta\", \"online\", \"update\", \"gta_online\", \"car\", \"clan\", \"fallout\", \"money\", \"clash_clan\", \"change\", \"channel\", \"town\", \"sky\", \"fix\", \"block\", \"wow\", \"hall\", \"feature\", \"virtual\", \"career_mode\", \"rp\", \"garry\", \"combat\", \"garry_mod\", \"trophy\", \"farming\", \"legion\", \"warcraft\", \"weekly\", \"diablo\", \"news\", \"patch\", \"glitch\", \"build\", \"mod\", \"base\", \"division\", \"new\", \"race\", \"clash\", \"showcase\", \"weapon\", \"easy\", \"fast\", \"guide\", \"dlc\", \"career\", \"pvp\", \"map\", \"pc\", \"good\", \"gameplay\", \"mode\", \"video\", \"trailer\", \"sim\", \"halo\", \"grand\", \"fnaf\", \"love\", \"meet\", \"assassin\", \"vlog\", \"space\", \"auto\", \"song\", \"street\", \"cup\", \"dota\", \"meme\", \"fighter\", \"sims\", \"trial\", \"warframe\", \"lore\", \"launch\", \"theft\", \"splatoon\", \"grand_theft\", \"dog\", \"creed\", \"home\", \"sea\", \"beat\", \"gamer\", \"official\", \"destiny\", \"baby\", \"game\", \"girl\", \"kid\", \"vs\", \"watch\", \"gameplay\", \"review\", \"play\", \"let\", \"let_play\", \"walkthrough\", \"sonic\", \"fight\", \"boss\", \"playthrough\", \"smash\", \"ark\", \"evil\", \"shadow\", \"bro\", \"hunter\", \"ghost\", \"quest\", \"resident\", \"resident_evil\", \"chapter\", \"evolve\", \"pixel\", \"wii\", \"pt\", \"super_smash\", \"walk\", \"fifa_ultimate\", \"ark_survival\", \"dungeon\", \"arma\", \"far\", \"episode\", \"monster\", \"story\", \"mode\", \"commentary\", \"gameplay\", \"hd\", \"ultimate\", \"super\", \"dead\", \"ep\", \"adventure\", \"vs\", \"game\", \"minecraft\", \"roblox\", \"day\", \"dragon\", \"ball\", \"pe\", \"super_mario\", \"dragon_ball\", \"server\", \"rust\", \"roleplay\", \"kingdom\", \"heart\", \"christmas\", \"minecraft_pe\", \"faction\", \"xenoverse\", \"train\", \"date\", \"pocket\", \"maker\", \"metal\", \"jailbreak\", \"menu\", \"pet\", \"guild\", \"mcpe\", \"phantom\", \"daylight\", \"dead_daylight\", \"simulator\", \"super\", \"mario\", \"hack\", \"special\", \"raid\", \"subscriber\", \"thing\", \"house\", \"survival\", \"edition\", \"giveaway\", \"episode\", \"ep\", \"mod\", \"new\", \"game\", \"vs\", \"fifa\", \"league\", \"rainbow\", \"siege\", \"rainbow_siege\", \"night\", \"switch\", \"cs\", \"league_legend\", \"forza\", \"rocket\", \"battlefield\", \"horizon\", \"fantasy\", \"forza_horizon\", \"growtopia\", \"rocket_league\", \"nintendo_switch\", \"record\", \"freddy\", \"redemption\", \"final_fantasy\", \"red_dead\", \"apex\", \"five nights\", \"csgo\", \"ace\", \"forza horizon\", \"early\", \"goal\", \"team\", \"path\", \"pack\", \"rank\", \"legend\", \"nintendo\", \"red\", \"pro\", \"year\", \"road\", \"final\", \"player\", \"good\", \"vs\", \"world\", \"gameplay\", \"game\", \"new\", \"ultimate\", \"op\", \"black\", \"black_op\", \"star\", \"pokemon\", \"zombie\", \"duty\", \"warfare\", \"de\", \"pok\\u00e9mon\", \"cod\", \"moon\", \"dash\", \"egg\", \"battlefront\", \"geometry\", \"sun\", \"infinite\", \"geometry_dash\", \"animal\", \"demon\", \"emblem\", \"jam\", \"beamng\", \"easter\", \"lego\", \"star_war\", \"strike\", \"truck\", \"spider\", \"multiplayer\", \"ultra\", \"drive\", \"wwe\", \"war\", \"gameplay\", \"vs\", \"live\", \"new\", \"glitch\", \"nba\", \"android\", \"tank\", \"box\", \"school\", \"zelda\", \"link\", \"mortal\", \"save\", \"wild\", \"io\", \"kombat\", \"mortal_kombat\", \"madden\", \"oh\", \"world_tank\", \"gtx\", \"runescape\", \"pool\", \"daily\", \"gear_war\", \"app\", \"gb\", \"draw\", \"total\", \"breath\", \"need_speed\", \"jumpshot\", \"expose\", \"duel\", \"fall\", \"card\", \"speed\", \"download\", \"need\", \"gear\", \"fire\", \"free\", \"good\", \"high\", \"game\", \"gameplay\", \"world\", \"vs\", \"build\", \"new\", \"war\"], \"Freq\": [143413.0, 141226.0, 133252.0, 118174.0, 93805.0, 70763.0, 70542.0, 71025.0, 67082.0, 68399.0, 66313.0, 67383.0, 59912.0, 92333.0, 57664.0, 60987.0, 54735.0, 58171.0, 206600.0, 48415.0, 47631.0, 50049.0, 48065.0, 44020.0, 44378.0, 44309.0, 42566.0, 43219.0, 53777.0, 42668.0, 141226.03559228897, 68398.48535203165, 67382.12032924256, 60986.07107000356, 58170.31682172904, 50048.952208006565, 48064.89671562894, 39101.428704902275, 35592.72199621846, 30768.460087965374, 30741.029161006227, 25674.2575703649, 23915.926465403063, 19963.195462526986, 18523.794769809996, 18172.542156419957, 16765.93163550933, 16716.871777123662, 14853.45323653424, 14435.629694928348, 13915.089395415518, 12327.780550464273, 12143.530413171971, 11997.445104740647, 11547.456286283128, 10136.790253160669, 9587.010193983398, 9288.659982506728, 8545.699112401566, 7906.459595904112, 83704.15236932861, 40757.23780621437, 35894.804063551484, 22476.951710054327, 36244.09512327196, 18696.53899372052, 45536.21864911524, 21941.893111167166, 42934.54556611785, 29776.286626361107, 27165.974300559035, 25938.548905143933, 19350.58123487439, 16871.723829348193, 118173.5252271714, 71024.2580420172, 66313.00906002439, 38326.21129505526, 30872.54848053525, 23227.959504649323, 20186.23693157261, 16423.799186224223, 15211.874353789735, 12634.124851306327, 12535.059116830625, 9971.055022876397, 8359.643964118317, 7943.690909618081, 7689.105789872305, 7611.862784970432, 7219.671438611821, 6781.808058019578, 6417.048911500394, 6326.124384251773, 6192.942769737599, 6048.961097290435, 5996.525689784827, 5974.24851210917, 5764.3297131890695, 5738.02902326115, 5703.66089159514, 5547.011972274872, 5395.147601122319, 5299.722391114516, 14155.503813508507, 20596.542974442313, 37293.48918020042, 35803.11806819248, 44914.7471857108, 19090.180558213557, 8602.73813309224, 93549.35098824922, 18217.432078647133, 26698.530920391167, 15172.826065295343, 15793.756289573637, 12973.866300509708, 14998.397028646197, 20182.488064042755, 14326.601547985128, 11541.991221272612, 12575.864604652083, 15054.217745200198, 14834.21612600347, 17999.38656214957, 16582.638677119387, 13187.762508251451, 42668.017621695384, 41763.58886634836, 21281.27040903039, 20960.139686802446, 17982.960727061407, 12615.587631616185, 12490.601506784713, 12131.397505530853, 11723.140631210088, 11361.11821019608, 11177.239355401098, 10870.151507446066, 10352.377631706446, 9924.18861011642, 9511.984307313853, 9234.263307795618, 9225.488089084274, 8727.693691890676, 8349.184209471861, 8185.020409156733, 7713.318798215506, 7613.901029089901, 7288.18990143895, 7214.8851132438, 7033.849290472881, 6867.504464924643, 6747.897697467891, 6676.529074034079, 6676.113189882279, 6613.535562252064, 11191.683598900936, 9052.597663501943, 12266.91389281594, 15826.142602136968, 9828.470884666083, 44471.4831533409, 9743.342743536232, 10133.490040284849, 21464.009526680984, 9626.827023993766, 14927.15883686844, 10379.254854985656, 143413.02193145695, 70541.8531515623, 48414.939937741816, 35310.68164950629, 28196.545410549024, 26018.93720337402, 22665.662744892994, 22124.159211316583, 21881.79941809644, 20144.818990087795, 18819.56698499799, 16972.43781614655, 16180.737825029744, 14416.084846655245, 14095.530062084319, 12700.512938569316, 11881.868655310653, 11675.776626503864, 11403.583489019293, 11341.920085567797, 10362.26636536177, 10241.497297264541, 9941.757824010998, 9877.484933769016, 9689.23901788802, 9143.378556427322, 8693.167933992876, 8158.4086774007255, 7908.743583313194, 7600.967395603342, 69037.81438355465, 13497.975888179646, 23150.031454753953, 31020.077011590874, 13307.42718697858, 41793.8206328237, 17027.655440135408, 17449.5302544974, 19399.760341101875, 15452.798923964572, 19436.90655910951, 12609.555127182066, 18787.874499721525, 17862.60286287301, 133251.14227326645, 59911.78236415075, 44377.224672099976, 43218.140139424875, 26776.708400547046, 16839.496547816063, 16746.29263497697, 16511.57749006657, 15380.67348180954, 14965.888839084677, 12097.842538222205, 11589.851472926368, 11337.496677495204, 10321.377139083086, 9658.60651669771, 8543.166848854184, 8368.140657253207, 7874.222913476212, 7535.554046650378, 7514.254579615153, 7120.165813408301, 7051.38410149651, 6950.189202350509, 6910.231133651115, 6629.10602681001, 6525.149795162697, 6280.089535441655, 6180.189030512925, 5942.822981303944, 5725.655254267704, 22695.166579844343, 36753.90655646108, 24072.69064618603, 14680.474600460122, 17491.226232226985, 13107.285562399726, 13664.999435708272, 10444.01267768258, 13124.396914359682, 21496.03927501889, 16583.01700803961, 12972.333514597607, 16529.478152702883, 14571.36275209768, 14425.293846931727, 18860.35399056309, 14819.784797672399, 12713.626587777377, 57664.00680510945, 47630.9539259755, 32023.495661841396, 29638.18231939896, 24743.18766994235, 24101.345224608667, 19296.45177211665, 17626.24749065966, 17434.49099222138, 16821.17928635276, 15962.190703069726, 15000.621020431832, 14414.437886602418, 12382.611564517363, 11665.357003680305, 11050.161862439667, 10971.755599026936, 10673.113530926488, 10430.979422388047, 8843.845907160445, 8457.7502280995, 8122.822638678793, 8120.713876838342, 8069.33576823432, 7181.981154236251, 7025.870323423901, 6627.793154324064, 6621.4221708891355, 6411.8599830430985, 6289.953465218925, 43978.612707124594, 6978.876896451548, 31487.899544775744, 25047.694349223933, 45052.52355408157, 19388.697244332478, 20821.882573004546, 25169.351048572233, 13633.580031648431, 16373.994417738446, 18524.632692507825, 18122.09430425307, 25302.234884130325, 26740.682320600543, 18806.474468105862, 22273.01686932789, 19396.760013181218, 18493.66499830264, 14090.089007494566, 70762.66661357803, 67081.35126571663, 44019.548958423846, 42565.74151185613, 39521.464521901325, 37719.79764756434, 24431.21874143478, 20779.878754765963, 20731.28719331889, 19662.897024583806, 19492.51325360479, 16161.567423918812, 14185.394012793022, 13092.660703138057, 12491.875968349406, 12172.014917166422, 12133.337423486977, 11882.038149875349, 11717.94357009777, 11426.94430831131, 10614.58093227401, 9986.717701635718, 9805.107135395587, 9476.784395799466, 9386.847990127679, 9304.393281113946, 9157.318012919332, 8923.436362285544, 8870.213216509008, 8748.477474903471, 16120.995522385681, 11345.515129702986, 15002.489765372513, 15192.447869808953, 32868.75102570768, 30009.404673192996, 27788.422764082472, 16240.707526370596, 16231.965319871433, 12908.117447816738, 54734.49657616472, 36042.4345182772, 15141.939153982223, 14711.324919952338, 13017.086554248026, 12757.42441301016, 12691.034191941075, 11782.114829839693, 11753.753644548073, 11574.438807155804, 11443.06174333906, 11389.695016906106, 10954.863457245914, 10247.027475517445, 7997.614563368944, 7578.295667237791, 7523.268496172616, 7082.673617684306, 6556.325252935418, 6546.666390782119, 6541.447165684084, 6411.685005614665, 6240.78504515141, 5924.864930511815, 5692.7364487492205, 5632.383990261975, 5434.635281263407, 5360.653514526469, 5340.808474710541, 5287.208650853577, 9699.784832933496, 12377.263487224174, 20167.598712985568, 13890.724913442162, 13994.800216763306, 14282.351356223075, 13710.00549928413, 21477.850718572565, 36032.51139914707, 13505.528124542068, 37464.549318502686, 21170.368251304433, 14985.069980622355, 17592.53611582815, 12051.151202700254, 16530.121201182275, 11372.789761054697], \"Total\": [143413.0, 141226.0, 133252.0, 118174.0, 93805.0, 70763.0, 70542.0, 71025.0, 67082.0, 68399.0, 66313.0, 67383.0, 59912.0, 92333.0, 57664.0, 60987.0, 54735.0, 58171.0, 206600.0, 48415.0, 47631.0, 50049.0, 48065.0, 44020.0, 44378.0, 44309.0, 42566.0, 43219.0, 53777.0, 42668.0, 141226.96848076672, 68399.4183265585, 67383.05354537179, 60987.00408215364, 58171.249685106246, 50049.885558924674, 48065.8299870754, 39102.361618338, 35593.654873673426, 30769.393300018575, 30741.961884598284, 25675.19109543001, 23916.859742195, 19964.12824142199, 18524.727780603902, 18173.475684228775, 16766.864847045475, 16717.804840739165, 14854.38658138985, 14436.56330635052, 13916.022734008697, 12328.71385300142, 12144.463497378712, 11998.378232668625, 11548.389493912513, 10137.723755382865, 9587.943046789514, 9289.592805050323, 8546.632343218267, 7907.393022349094, 93805.64875916304, 51756.08148467612, 44989.31527761028, 29285.181426896597, 57713.26767746937, 24123.926993008885, 96576.05280364506, 35676.71055899862, 206600.27196584732, 122494.36592324718, 172350.13300257895, 176890.19297154289, 146232.36753901857, 28988.72967318488, 118174.46630518374, 71025.1993318039, 66313.9504051499, 38327.15208239839, 30873.489757579024, 23228.900554442404, 20187.177993490033, 16424.740376228154, 15212.815141973142, 12635.066197621396, 12536.000222440074, 9971.996547958892, 8360.585350176205, 7944.632187464966, 7690.047178499763, 7612.80389407908, 7220.612517228011, 6782.749542077616, 6417.9916756581615, 6327.066068311007, 6193.883909399267, 6049.901976811356, 5997.466985323052, 5975.189384648009, 5765.270900495368, 5738.970186322139, 5704.601910497575, 5547.952904582238, 5396.089229856933, 5300.663524589561, 14158.516039542865, 22117.831419045142, 50202.40852338295, 51302.28039705001, 69045.78473864745, 24520.49000935997, 9531.675197988608, 206600.27196584732, 25127.300807052663, 41710.208282713764, 20585.58448272426, 21858.075132265454, 17521.16770969392, 22750.334951804027, 42541.578402163184, 25163.923362848855, 17102.336394416787, 21007.49064963418, 38174.169708150526, 47379.51021897043, 122494.36592324718, 176890.19297154289, 52827.75756784304, 42668.94960800303, 41764.520609199244, 21282.201992867707, 20961.071336663994, 17983.892547221945, 12616.519198126238, 12491.549798516475, 12132.329571507886, 11724.072227399018, 11362.049952995076, 11178.17128872781, 10871.08334315597, 10353.309176973951, 9925.120258242336, 9512.916258508152, 9235.195119093161, 9226.419795669839, 8728.6252568388, 8350.11594438128, 8185.952349740634, 7714.2504234368525, 7614.832910598467, 7289.121675896758, 7215.816477177927, 7034.781041607935, 6868.435810171661, 6748.829360483023, 6677.460335616375, 6677.045122011175, 6614.467195817121, 11994.236612708157, 9712.540213608272, 17302.48667515493, 26632.408627361932, 12582.666491432503, 172350.13300257895, 12567.376922840427, 15733.267111051919, 146232.36753901857, 14896.864418417386, 176890.19297154289, 50388.57737940554, 143413.95381337195, 70542.78471862672, 48415.871319581, 35311.61346429649, 28197.476850676016, 26019.869068450145, 22666.594606285515, 22125.09100029654, 21882.730828646458, 20145.750586549795, 18820.49855534044, 16973.369612759012, 16181.669269929407, 14417.016524602439, 14096.462070866899, 12701.44488450567, 11882.799968188703, 11676.707936314695, 11404.515265251968, 11342.851629879742, 10363.19808030712, 10242.428853244119, 9942.689743551597, 9878.41620234429, 9690.170889036157, 9144.31166348053, 8694.099296862187, 8159.340515059706, 7909.675501251939, 7601.899221422443, 92333.52934943028, 15718.797805219436, 31731.773260785427, 52827.75756784304, 18574.47992279608, 176890.19297154289, 33567.47775782832, 39008.34051776699, 56154.46457335895, 32519.558072900316, 64352.488560727645, 18462.2664704382, 146232.36753901857, 172350.13300257895, 133252.07432382088, 59912.714448942475, 44378.15711777303, 43219.07247897635, 26777.64062771186, 16840.428697311356, 16747.22449349449, 16512.509281419378, 15381.605713295134, 14966.820884453457, 12098.774647229262, 11590.783530689108, 11338.428931664175, 10322.309534924838, 9659.538318016752, 8544.098817178594, 8369.072557200965, 7875.155379651072, 7536.486349454931, 7515.186486260103, 7121.097684390561, 7052.316311165865, 6951.121164927028, 6911.163293956787, 6630.038334534178, 6526.082236931603, 6281.021371339322, 6181.1211557453935, 5943.754866366522, 5726.587131116951, 30533.277173211536, 56154.46457335895, 34023.83091618236, 18326.348245185483, 22892.704839414437, 16223.091495160224, 18148.77906311841, 12474.996989960659, 17703.66066717498, 37549.10565919216, 29274.549889127098, 21973.354907064233, 92333.52934943028, 64352.488560727645, 69045.78473864745, 206600.27196584732, 172350.13300257895, 146232.36753901857, 57664.94328379017, 47631.89022516153, 32024.43190288465, 29639.118490853445, 24744.12378600464, 24102.281838998028, 19297.38838639129, 17627.18383550467, 17435.427104857063, 16822.115681009975, 15963.127136108202, 15001.557491180323, 14415.374318072507, 12383.547862520745, 11666.293222540919, 11051.09828997504, 10972.691730267255, 10674.049756959625, 10431.9160661976, 8844.78237696604, 8458.68652563692, 8123.758814810016, 8121.650074442037, 8070.272026115403, 7182.917387217613, 7026.8068748402375, 6628.729633557651, 6622.358396768311, 6412.796684004928, 6290.88988130375, 44309.96992801684, 6981.575433742362, 35360.41911797918, 28093.35504347894, 53777.009289470254, 22204.16507647036, 26127.161947175453, 42690.81696082455, 18265.83093595129, 27394.768311382548, 37071.011614751355, 42310.43929421107, 122494.36592324718, 146232.36753901857, 76380.50876960407, 176890.19297154289, 172350.13300257895, 206600.27196584732, 39008.34051776699, 70763.59346489994, 67082.27814212925, 44020.47562290449, 42566.66867171109, 39522.391364988645, 37720.72470630801, 24432.14555743558, 20780.805506248034, 20732.214340650145, 19663.823860256467, 19493.440145350007, 16162.49436684061, 14186.320765900726, 13093.587663889417, 12492.802647574774, 12172.941523773768, 12134.264165293738, 11882.96532817132, 11718.870171447039, 11427.871870032792, 10615.507925180545, 9987.644591648404, 9806.034466329716, 9477.711176218669, 9387.774846990465, 9305.320343041509, 9158.244690896852, 8924.363591447982, 8871.140220812083, 8749.404294707656, 17472.898537624806, 12460.260879388501, 18824.96727605097, 19353.948138836393, 67708.35494763192, 176890.19297154289, 146232.36753901857, 96576.05280364506, 206600.27196584732, 50202.40852338295, 54735.42760587126, 36043.36578085442, 15142.87050676602, 14712.256343771875, 13018.017963667085, 12758.355569403417, 12691.965908330234, 11783.045822249116, 11754.685257954845, 11575.370061109319, 11443.992857344205, 11390.625942553052, 10955.794377303098, 10247.958699437611, 7998.545723475655, 7579.22681934441, 7524.199716561657, 7083.604827082971, 6557.256512205861, 6547.598181811695, 6542.378310400145, 6412.616646250628, 6241.71627897212, 5925.796406205434, 5693.6678042138365, 5633.314966867216, 5435.566412334372, 5361.584406506424, 5341.739794782308, 5288.139878841805, 9709.143918912658, 13670.08683800062, 25886.105859811345, 17497.986789606482, 17884.07027243717, 19675.766934885523, 21476.690819949854, 47186.254723162696, 122494.36592324718, 23327.29555229217, 172350.13300257895, 176890.19297154289, 76380.50876960407, 146232.36753901857, 51302.28039705001, 206600.27196584732, 67708.35494763192], \"Category\": [\"Default\", \"Default\", \"Default\", \"Default\", \"Default\", \"Default\", \"Default\", \"Default\", \"Default\", \"Default\", \"Default\", \"Default\", \"Default\", \"Default\", \"Default\", \"Default\", \"Default\", \"Default\", \"Default\", \"Default\", \"Default\", \"Default\", \"Default\", \"Default\", \"Default\", \"Default\", \"Default\", \"Default\", \"Default\", \"Default\", \"Topic1\", \"Topic1\", \"Topic1\", \"Topic1\", \"Topic1\", \"Topic1\", \"Topic1\", \"Topic1\", \"Topic1\", \"Topic1\", \"Topic1\", \"Topic1\", \"Topic1\", \"Topic1\", \"Topic1\", \"Topic1\", \"Topic1\", \"Topic1\", \"Topic1\", \"Topic1\", \"Topic1\", \"Topic1\", \"Topic1\", \"Topic1\", \"Topic1\", \"Topic1\", \"Topic1\", \"Topic1\", \"Topic1\", \"Topic1\", \"Topic1\", \"Topic1\", \"Topic1\", \"Topic1\", \"Topic1\", \"Topic1\", \"Topic1\", \"Topic1\", \"Topic1\", \"Topic1\", \"Topic1\", \"Topic1\", \"Topic1\", \"Topic1\", \"Topic2\", \"Topic2\", \"Topic2\", \"Topic2\", \"Topic2\", \"Topic2\", \"Topic2\", \"Topic2\", \"Topic2\", \"Topic2\", \"Topic2\", \"Topic2\", \"Topic2\", \"Topic2\", \"Topic2\", \"Topic2\", \"Topic2\", \"Topic2\", \"Topic2\", \"Topic2\", \"Topic2\", \"Topic2\", \"Topic2\", \"Topic2\", \"Topic2\", \"Topic2\", \"Topic2\", \"Topic2\", \"Topic2\", \"Topic2\", \"Topic2\", \"Topic2\", \"Topic2\", \"Topic2\", \"Topic2\", \"Topic2\", \"Topic2\", \"Topic2\", \"Topic2\", \"Topic2\", \"Topic2\", \"Topic2\", \"Topic2\", \"Topic2\", \"Topic2\", \"Topic2\", \"Topic2\", \"Topic2\", \"Topic2\", \"Topic2\", \"Topic2\", \"Topic2\", \"Topic2\", \"Topic3\", \"Topic3\", \"Topic3\", \"Topic3\", \"Topic3\", \"Topic3\", \"Topic3\", \"Topic3\", \"Topic3\", \"Topic3\", \"Topic3\", \"Topic3\", \"Topic3\", \"Topic3\", \"Topic3\", \"Topic3\", \"Topic3\", \"Topic3\", \"Topic3\", \"Topic3\", \"Topic3\", \"Topic3\", \"Topic3\", \"Topic3\", \"Topic3\", \"Topic3\", \"Topic3\", \"Topic3\", \"Topic3\", \"Topic3\", \"Topic3\", \"Topic3\", \"Topic3\", \"Topic3\", \"Topic3\", \"Topic3\", \"Topic3\", \"Topic3\", \"Topic3\", \"Topic3\", \"Topic3\", \"Topic3\", \"Topic4\", \"Topic4\", \"Topic4\", \"Topic4\", \"Topic4\", \"Topic4\", \"Topic4\", \"Topic4\", \"Topic4\", \"Topic4\", \"Topic4\", \"Topic4\", \"Topic4\", \"Topic4\", \"Topic4\", \"Topic4\", \"Topic4\", \"Topic4\", \"Topic4\", \"Topic4\", \"Topic4\", \"Topic4\", \"Topic4\", \"Topic4\", \"Topic4\", \"Topic4\", \"Topic4\", \"Topic4\", \"Topic4\", \"Topic4\", \"Topic4\", \"Topic4\", \"Topic4\", \"Topic4\", \"Topic4\", \"Topic4\", \"Topic4\", \"Topic4\", \"Topic4\", \"Topic4\", \"Topic4\", \"Topic4\", \"Topic4\", \"Topic4\", \"Topic5\", \"Topic5\", \"Topic5\", \"Topic5\", \"Topic5\", \"Topic5\", \"Topic5\", \"Topic5\", \"Topic5\", \"Topic5\", \"Topic5\", \"Topic5\", \"Topic5\", \"Topic5\", \"Topic5\", \"Topic5\", \"Topic5\", \"Topic5\", \"Topic5\", \"Topic5\", \"Topic5\", \"Topic5\", \"Topic5\", \"Topic5\", \"Topic5\", \"Topic5\", \"Topic5\", \"Topic5\", \"Topic5\", \"Topic5\", \"Topic5\", \"Topic5\", \"Topic5\", \"Topic5\", \"Topic5\", \"Topic5\", \"Topic5\", \"Topic5\", \"Topic5\", \"Topic5\", \"Topic5\", \"Topic5\", \"Topic5\", \"Topic5\", \"Topic5\", \"Topic5\", \"Topic5\", \"Topic5\", \"Topic6\", \"Topic6\", \"Topic6\", \"Topic6\", \"Topic6\", \"Topic6\", \"Topic6\", \"Topic6\", \"Topic6\", \"Topic6\", \"Topic6\", \"Topic6\", \"Topic6\", \"Topic6\", \"Topic6\", \"Topic6\", \"Topic6\", \"Topic6\", \"Topic6\", \"Topic6\", \"Topic6\", \"Topic6\", \"Topic6\", \"Topic6\", \"Topic6\", \"Topic6\", \"Topic6\", \"Topic6\", \"Topic6\", \"Topic6\", \"Topic6\", \"Topic6\", \"Topic6\", \"Topic6\", \"Topic6\", \"Topic6\", \"Topic6\", \"Topic6\", \"Topic6\", \"Topic6\", \"Topic6\", \"Topic6\", \"Topic6\", \"Topic6\", \"Topic6\", \"Topic6\", \"Topic6\", \"Topic6\", \"Topic6\", \"Topic7\", \"Topic7\", \"Topic7\", \"Topic7\", \"Topic7\", \"Topic7\", \"Topic7\", \"Topic7\", \"Topic7\", \"Topic7\", \"Topic7\", \"Topic7\", \"Topic7\", \"Topic7\", \"Topic7\", \"Topic7\", \"Topic7\", \"Topic7\", \"Topic7\", \"Topic7\", \"Topic7\", \"Topic7\", \"Topic7\", \"Topic7\", \"Topic7\", \"Topic7\", \"Topic7\", \"Topic7\", \"Topic7\", \"Topic7\", \"Topic7\", \"Topic7\", \"Topic7\", \"Topic7\", \"Topic7\", \"Topic7\", \"Topic7\", \"Topic7\", \"Topic7\", \"Topic7\", \"Topic8\", \"Topic8\", \"Topic8\", \"Topic8\", \"Topic8\", \"Topic8\", \"Topic8\", \"Topic8\", \"Topic8\", \"Topic8\", \"Topic8\", \"Topic8\", \"Topic8\", \"Topic8\", \"Topic8\", \"Topic8\", \"Topic8\", \"Topic8\", \"Topic8\", \"Topic8\", \"Topic8\", \"Topic8\", \"Topic8\", \"Topic8\", \"Topic8\", \"Topic8\", \"Topic8\", \"Topic8\", \"Topic8\", \"Topic8\", \"Topic8\", \"Topic8\", \"Topic8\", \"Topic8\", \"Topic8\", \"Topic8\", \"Topic8\", \"Topic8\", \"Topic8\", \"Topic8\", \"Topic8\", \"Topic8\", \"Topic8\", \"Topic8\", \"Topic8\", \"Topic8\", \"Topic8\"], \"logprob\": [30.0, 29.0, 28.0, 27.0, 26.0, 25.0, 24.0, 23.0, 22.0, 21.0, 20.0, 19.0, 18.0, 17.0, 16.0, 15.0, 14.0, 13.0, 12.0, 11.0, 10.0, 9.0, 8.0, 7.0, 6.0, 5.0, 4.0, 3.0, 2.0, 1.0, -3.059, -3.784, -3.7989, -3.8987, -3.9459, -4.0963, -4.1368, -4.3432, -4.4372, -4.5828, -4.5837, -4.7638, -4.8348, -5.0154, -5.0903, -5.1094, -5.19, -5.1929, -5.3111, -5.3396, -5.3763, -5.4975, -5.5125, -5.5246, -5.5629, -5.6931, -5.7489, -5.7805, -5.8639, -5.9416, -3.582, -4.3017, -4.4287, -4.8968, -4.419, -5.081, -4.1908, -4.9209, -4.2496, -4.6156, -4.7074, -4.7536, -5.0466, -5.1837, -3.1754, -3.6846, -3.7532, -4.3015, -4.5177, -4.8022, -4.9426, -5.1489, -5.2255, -5.4112, -5.4191, -5.6479, -5.8242, -5.8752, -5.9078, -5.9179, -5.9708, -6.0333, -6.0886, -6.1029, -6.1242, -6.1477, -6.1564, -6.1601, -6.1959, -6.2005, -6.2065, -6.2343, -6.2621, -6.2799, -5.2975, -4.9225, -4.3288, -4.3696, -4.1428, -4.9984, -5.7955, -3.4091, -5.0452, -4.663, -5.2281, -5.188, -5.3847, -5.2396, -4.9428, -5.2855, -5.5016, -5.4158, -5.2359, -5.2507, -5.0573, -5.1392, -5.3683, -4.1514, -4.1729, -4.8471, -4.8623, -5.0155, -5.3699, -5.3799, -5.4091, -5.4433, -5.4747, -5.491, -5.5189, -5.5677, -5.6099, -5.6523, -5.682, -5.6829, -5.7384, -5.7827, -5.8026, -5.8619, -5.8749, -5.9186, -5.9287, -5.9541, -5.9781, -5.9957, -6.0063, -6.0063, -6.0158, -5.4897, -5.7018, -5.398, -5.1432, -5.6196, -4.11, -5.6283, -5.589, -4.8385, -5.6403, -5.2017, -5.5651, -2.9391, -3.6487, -4.0251, -4.3407, -4.5657, -4.646, -4.784, -4.8082, -4.8192, -4.9019, -4.97, -5.0733, -5.121, -5.2365, -5.259, -5.3632, -5.4299, -5.4473, -5.4709, -5.4764, -5.5667, -5.5784, -5.6081, -5.6146, -5.6338, -5.6918, -5.7423, -5.8058, -5.8369, -5.8766, -3.6702, -5.3023, -4.7629, -4.4702, -5.3165, -4.1721, -5.07, -5.0456, -4.9396, -5.1671, -4.9377, -5.3704, -4.9717, -5.0222, -3.0068, -3.8062, -4.1064, -4.1328, -4.6115, -5.0754, -5.0809, -5.095, -5.166, -5.1933, -5.4061, -5.449, -5.471, -5.5649, -5.6312, -5.7539, -5.7746, -5.8355, -5.8794, -5.8823, -5.9361, -5.9459, -5.9603, -5.9661, -6.0076, -6.0234, -6.0617, -6.0777, -6.1169, -6.1541, -4.7769, -4.2948, -4.718, -5.2126, -5.0374, -5.3259, -5.2842, -5.5531, -5.3246, -4.8312, -5.0907, -5.3363, -5.0939, -5.22, -5.2301, -4.962, -5.2031, -5.3564, -3.82, -4.0112, -4.4082, -4.4856, -4.6661, -4.6924, -4.9147, -5.0053, -5.0162, -5.052, -5.1044, -5.1666, -5.2064, -5.3584, -5.418, -5.4722, -5.4793, -5.5069, -5.5299, -5.6949, -5.7396, -5.78, -5.7802, -5.7866, -5.9031, -5.9251, -5.9834, -5.9844, -6.0165, -6.0357, -4.091, -5.9318, -4.4251, -4.6539, -4.0668, -4.91, -4.8387, -4.649, -5.2621, -5.079, -4.9556, -4.9775, -4.6438, -4.5885, -4.9405, -4.7713, -4.9096, -4.9572, -5.2292, -3.6069, -3.6604, -4.0816, -4.1152, -4.1894, -4.2361, -4.6704, -4.8323, -4.8346, -4.8875, -4.8962, -5.0836, -5.2141, -5.2942, -5.3412, -5.3671, -5.3703, -5.3912, -5.4052, -5.4303, -5.504, -5.565, -5.5834, -5.6174, -5.627, -5.6358, -5.6517, -5.6776, -5.6836, -5.6974, -5.0862, -5.4375, -5.1581, -5.1455, -4.3738, -4.4648, -4.5417, -5.0788, -5.0793, -5.3084, -3.8506, -4.2684, -5.1356, -5.1645, -5.2868, -5.307, -5.3122, -5.3865, -5.3889, -5.4043, -5.4157, -5.4204, -5.4593, -5.5261, -5.7739, -5.8278, -5.8351, -5.8954, -5.9726, -5.9741, -5.9749, -5.995, -6.022, -6.0739, -6.1139, -6.1245, -6.1603, -6.174, -6.1777, -6.1878, -5.581, -5.3372, -4.849, -5.2219, -5.2144, -5.1941, -5.235, -4.7861, -4.2687, -5.25, -4.2297, -4.8005, -5.146, -4.9856, -5.3639, -5.0479, -5.4219], \"loglift\": [30.0, 29.0, 28.0, 27.0, 26.0, 25.0, 24.0, 23.0, 22.0, 21.0, 20.0, 19.0, 18.0, 17.0, 16.0, 15.0, 14.0, 13.0, 12.0, 11.0, 10.0, 9.0, 8.0, 7.0, 6.0, 5.0, 4.0, 3.0, 2.0, 1.0, 1.9787, 1.9787, 1.9787, 1.9787, 1.9787, 1.9787, 1.9787, 1.9787, 1.9787, 1.9787, 1.9787, 1.9787, 1.9787, 1.9787, 1.9787, 1.9787, 1.9787, 1.9787, 1.9787, 1.9787, 1.9787, 1.9786, 1.9786, 1.9786, 1.9786, 1.9786, 1.9786, 1.9786, 1.9786, 1.9786, 1.8648, 1.7398, 1.7529, 1.7141, 1.5135, 1.7239, 1.2269, 1.4926, 0.4076, 0.5644, 0.1312, 0.0589, -0.0438, 1.4375, 2.0404, 2.0404, 2.0404, 2.0404, 2.0404, 2.0404, 2.0404, 2.0404, 2.0404, 2.0404, 2.0404, 2.0404, 2.0403, 2.0403, 2.0403, 2.0403, 2.0403, 2.0403, 2.0403, 2.0403, 2.0403, 2.0403, 2.0403, 2.0403, 2.0403, 2.0403, 2.0403, 2.0403, 2.0403, 2.0403, 2.0402, 1.9692, 1.7432, 1.6807, 1.6104, 1.7901, 1.9379, 1.2482, 1.7189, 1.5943, 1.7354, 1.7155, 1.74, 1.6238, 1.2948, 1.4772, 1.6472, 1.5273, 1.1099, 0.8792, 0.1227, -0.3267, 0.6527, 2.0831, 2.0831, 2.0831, 2.0831, 2.0831, 2.0831, 2.0831, 2.0831, 2.0831, 2.0831, 2.0831, 2.0831, 2.0831, 2.0831, 2.0831, 2.0831, 2.0831, 2.0831, 2.083, 2.083, 2.083, 2.083, 2.083, 2.083, 2.083, 2.083, 2.083, 2.083, 2.083, 2.083, 2.0139, 2.0128, 1.7392, 1.5627, 1.8361, 0.7285, 1.8286, 1.6432, 0.1643, 1.6466, -0.3892, 0.5032, 2.0832, 2.0832, 2.0832, 2.0831, 2.0831, 2.0831, 2.0831, 2.0831, 2.0831, 2.0831, 2.0831, 2.0831, 2.0831, 2.0831, 2.0831, 2.0831, 2.0831, 2.0831, 2.0831, 2.0831, 2.0831, 2.0831, 2.0831, 2.0831, 2.0831, 2.0831, 2.0831, 2.0831, 2.0831, 2.0831, 1.7924, 1.9309, 1.7679, 1.5508, 1.7497, 0.6404, 1.4045, 1.2787, 1.0203, 1.3391, 0.886, 1.7019, 0.0312, -0.1836, 2.089, 2.0889, 2.0889, 2.0889, 2.0889, 2.0889, 2.0889, 2.0889, 2.0889, 2.0889, 2.0889, 2.0889, 2.0889, 2.0889, 2.0889, 2.0889, 2.0888, 2.0888, 2.0888, 2.0888, 2.0888, 2.0888, 2.0888, 2.0888, 2.0888, 2.0888, 2.0888, 2.0888, 2.0888, 2.0888, 1.7923, 1.6651, 1.743, 1.8671, 1.8198, 1.8757, 1.8052, 1.9113, 1.7897, 1.5312, 1.5206, 1.5619, 0.3687, 0.6036, 0.5232, -0.3048, -0.3646, -0.3536, 2.1134, 2.1134, 2.1133, 2.1133, 2.1133, 2.1133, 2.1133, 2.1133, 2.1133, 2.1133, 2.1133, 2.1133, 2.1133, 2.1133, 2.1133, 2.1133, 2.1133, 2.1133, 2.1133, 2.1133, 2.1133, 2.1133, 2.1133, 2.1133, 2.1132, 2.1132, 2.1132, 2.1132, 2.1132, 2.1132, 2.1059, 2.113, 1.9974, 1.9986, 1.9364, 1.9778, 1.8864, 1.585, 1.8209, 1.5987, 1.4196, 1.2655, 0.5362, 0.4144, 0.7118, 0.0412, -0.071, -0.3, 1.0951, 2.1218, 2.1218, 2.1217, 2.1217, 2.1217, 2.1217, 2.1217, 2.1217, 2.1217, 2.1217, 2.1217, 2.1217, 2.1217, 2.1217, 2.1217, 2.1217, 2.1217, 2.1217, 2.1217, 2.1217, 2.1217, 2.1217, 2.1217, 2.1217, 2.1217, 2.1217, 2.1217, 2.1217, 2.1217, 2.1217, 2.0412, 2.028, 1.8948, 1.8797, 1.3991, 0.3477, 0.4612, 0.339, -0.422, 0.7636, 2.1349, 2.1349, 2.1349, 2.1349, 2.1349, 2.1349, 2.1349, 2.1349, 2.1349, 2.1349, 2.1349, 2.1349, 2.1349, 2.1349, 2.1348, 2.1348, 2.1348, 2.1348, 2.1348, 2.1348, 2.1348, 2.1348, 2.1348, 2.1348, 2.1348, 2.1348, 2.1348, 2.1348, 2.1348, 2.1348, 2.134, 2.0356, 1.8853, 1.9041, 1.8897, 1.8146, 1.6861, 1.3479, 0.9113, 1.5884, 0.6088, 0.012, 0.5063, 0.0172, 0.6864, -0.3906, 0.351]}, \"token.table\": {\"Topic\": [6, 4, 5, 8, 7, 6, 8, 4, 4, 4, 3, 3, 3, 5, 5, 2, 5, 1, 7, 6, 7, 7, 3, 8, 7, 7, 2, 4, 8, 8, 4, 2, 6, 8, 2, 1, 6, 8, 2, 4, 2, 2, 2, 4, 5, 2, 1, 2, 2, 1, 1, 7, 2, 4, 6, 7, 1, 3, 6, 6, 3, 8, 1, 7, 5, 5, 5, 7, 4, 5, 6, 5, 7, 2, 3, 8, 2, 2, 4, 2, 4, 5, 7, 3, 3, 5, 8, 5, 5, 8, 2, 7, 8, 4, 1, 7, 6, 7, 1, 2, 7, 3, 4, 5, 6, 8, 7, 7, 1, 2, 3, 4, 5, 6, 7, 8, 1, 2, 5, 6, 7, 8, 4, 5, 7, 8, 4, 4, 8, 5, 1, 7, 8, 2, 6, 4, 2, 1, 2, 6, 7, 8, 2, 6, 4, 4, 3, 3, 4, 5, 6, 6, 7, 8, 6, 2, 3, 1, 1, 6, 6, 6, 6, 1, 2, 5, 7, 8, 1, 1, 1, 2, 3, 4, 5, 6, 7, 8, 1, 2, 3, 4, 5, 6, 7, 8, 1, 3, 2, 2, 8, 5, 8, 8, 7, 7, 4, 1, 3, 5, 1, 5, 6, 8, 2, 7, 6, 1, 2, 5, 6, 7, 8, 3, 3, 6, 2, 2, 8, 1, 2, 3, 4, 6, 7, 8, 5, 5, 8, 2, 3, 3, 4, 5, 7, 8, 5, 1, 2, 3, 6, 7, 8, 1, 6, 7, 3, 6, 3, 5, 4, 7, 8, 5, 7, 8, 1, 3, 5, 1, 5, 8, 3, 6, 6, 6, 8, 2, 7, 4, 4, 8, 1, 2, 3, 4, 5, 6, 7, 8, 1, 3, 3, 8, 5, 1, 2, 3, 5, 7, 4, 5, 5, 3, 3, 5, 5, 5, 5, 1, 6, 2, 4, 5, 7, 8, 1, 2, 4, 7, 1, 2, 4, 8, 1, 6, 7, 8, 8, 2, 4, 7, 1, 1, 8, 6, 8, 8, 1, 2, 5, 6, 7, 8, 2, 3, 6, 1, 4, 6, 6, 3, 4, 5, 8, 2, 7, 1, 3, 6, 8, 2, 6, 4, 6, 1, 2, 3, 4, 6, 7, 8, 5, 5, 5, 4, 4, 1, 2, 6, 8, 4, 5, 7, 7, 8, 1, 3, 4, 5, 6, 8, 4, 1, 1, 2, 5, 4, 2, 6, 8, 2, 5, 6, 6, 1, 1, 6, 6, 3, 6, 7, 6, 6, 4, 4, 2, 3, 4, 5, 6, 7, 8, 1, 4, 6, 7, 5, 6, 6, 5, 1, 2, 8, 5, 8, 8, 3, 1, 4, 6, 5, 4, 1, 1, 2, 5, 6, 3, 3, 5, 7, 1, 2, 4, 1, 2, 5, 6, 7, 3, 4, 1, 3, 3, 5, 8, 2, 8, 7, 3, 1, 7, 7, 3, 4, 1, 1, 3, 7, 1, 4, 5, 7, 4, 5, 5, 4, 1, 4, 5, 6, 8, 1, 6, 7, 8, 3, 2, 5, 8, 8, 2, 3, 5, 3, 1, 2, 7, 1, 1, 4, 6, 8, 5, 7, 2, 3, 2, 3, 1, 2, 3, 4, 5, 6, 7, 8, 4, 4, 2, 4, 5, 7, 8, 2, 7, 3, 1, 3, 8, 2, 7, 2, 4, 8, 1, 2, 3, 4, 5, 6, 7, 8, 8, 2, 1, 3, 7, 8, 5, 3, 6, 8, 7], \"Freq\": [0.9998899285989947, 0.6830147327897766, 0.3169708339639788, 0.9999621072886831, 0.9999237067021133, 0.9998423812591092, 0.9999038385912264, 0.9999627421898941, 0.9998735582807775, 0.9999145981081231, 0.9999085447975566, 0.9999003463480343, 0.7810745048906648, 0.21879305168538868, 0.999976076021007, 0.7785325657322899, 0.22144745059855075, 0.8923130014792814, 0.10768008252822113, 0.9999628377799671, 0.9999357512003177, 0.9999249632948878, 0.9331148251771046, 0.06686544762259096, 0.9999809466499253, 0.9999891954165021, 0.9998638267782426, 0.9999737672863593, 0.9999146056361092, 0.9997665731678506, 0.9999586402417301, 0.697883207586592, 0.06718999571407375, 0.2349018388019445, 0.9999841366303949, 7.31524248419668e-05, 0.09443978047097915, 0.9054075622690232, 0.6748785507322842, 0.3251017797670681, 0.9998315066889618, 0.999915615984537, 0.9999202119956664, 0.9999548191887174, 0.9998731354722112, 0.9999612312928762, 0.3598879175633632, 0.6401070888697777, 0.9999464174141647, 0.9999518572715238, 0.9998796807197016, 0.9999774208478993, 0.9999221362411508, 0.7164130600323615, 0.1940834960108712, 0.08942376889710321, 0.9999066550892389, 0.9999310612728136, 0.9999328403495579, 0.9998851719060151, 0.9999036826895924, 0.999908641032164, 0.9999016424289431, 0.9999068986298477, 0.9999354673474641, 0.9999739259615951, 0.9998729984019372, 0.9999414273540591, 0.47519095940229045, 0.232044973768827, 0.29274690568237915, 0.9998974727698177, 0.9999521525315486, 0.23212320321822716, 0.5942384040976485, 0.17362304944695606, 0.9998748223526199, 0.9025695715917199, 0.09735959112369127, 0.5693468301191811, 0.11834402597158661, 0.036878192109345995, 0.2754339973166779, 0.9998771104677976, 0.9998705908128903, 0.2060808505205813, 0.7938627550142526, 0.9999751850533842, 0.9999691578420519, 0.9998656035154025, 0.20302824137507688, 0.7969203760096555, 0.999784446162938, 0.9998357079157032, 0.9999618346764505, 0.9999531126960223, 0.9998757665268081, 0.9999174621246147, 0.06957298852436444, 0.7404757613741627, 0.18988460444672725, 0.12191476943341722, 0.1354077181378722, 0.5664647300404477, 0.0033476176532571834, 0.17284638087225868, 0.9999551181918583, 0.9999354610947067, 0.052927246112414957, 0.06953888031504901, 0.08789092895238373, 0.3020396014935436, 0.22642481007163778, 0.08447225774136456, 0.077743691221495, 0.09897053155900494, 0.5820192947470519, 0.09482995740040574, 0.08675785480611875, 0.07806482124304044, 0.12887767218912907, 0.02945972485265424, 0.7477023838082714, 0.1790140604010388, 0.06987710797431801, 0.0033898845003040197, 0.9999735099822689, 0.9999249192436319, 0.9998615067729374, 0.9998713946078919, 0.9999640528813454, 0.0009269612310997574, 0.9990582157408496, 0.9999416464505136, 0.9999557588401299, 0.9998817109519278, 0.9998309476629708, 0.1640415408347236, 0.6592430411144653, 0.07336155724896937, 0.029406160455099167, 0.07393297740728969, 0.9998894928858915, 0.9999836419887638, 0.9998565596264869, 0.9999665998146317, 0.9999283670886993, 0.17876501641954043, 0.24979086344423487, 0.07172720366071496, 0.4997166031646275, 0.9999065931390488, 0.3616013316532967, 0.6383665023135073, 0.9998722820870464, 0.9999204258359546, 0.9999588477520555, 0.9999931423808276, 0.9999687110210501, 0.9999336777233535, 0.9997948771892241, 0.9998891488053446, 0.9999115436725636, 0.23239818596191808, 0.14027390049990296, 0.11475799534778282, 0.05738959398001771, 0.45517492596115966, 0.9999835361292336, 0.9999651781048089, 0.15762099817813024, 0.030908012121582115, 0.2580270709703169, 0.10364366820495989, 0.08598774913494404, 0.11254415451892778, 0.033896115414733, 0.21737726189883122, 0.14663899430633173, 0.09374742444126216, 0.0843856844138407, 0.23627087119930718, 0.02371527742453686, 0.12591427272388786, 0.1696476186490886, 0.11967876593026111, 0.06785042692298694, 0.9320939528585748, 0.9998509105081681, 0.9998009461171115, 0.9998852432664181, 0.27409350892635875, 0.7258675124209635, 0.9997893257872364, 0.9999226543747105, 0.9999257461312986, 0.9999672207916727, 0.05506320087705279, 0.7752612227530713, 0.1695660131054906, 0.16146828807008212, 0.5903513621322168, 0.1687953439830706, 0.07936885411336618, 0.7428528052121227, 0.2571191378992862, 0.9998585444475201, 0.2430805676291848, 0.14693737025650516, 0.028678870032285274, 0.20655643881493937, 0.08058329806111242, 0.2941604679400328, 0.9999503696310684, 0.999936548846971, 0.9999006171200164, 0.9999960540952854, 0.9999699408295218, 0.9998405522704273, 0.04240557280094405, 0.474406469106792, 0.060434993165868714, 0.09985525125189043, 0.15457818555377387, 0.11623922256134608, 0.05209021581313305, 0.9998341674388536, 0.8010324699497394, 0.19889396137376023, 0.9999151710154022, 0.9999488892219874, 0.1617339270816645, 0.5072767195333547, 0.06422883528975293, 0.05079321158118216, 0.21595307375483255, 0.9998739744568858, 0.18793434456096744, 0.0006430235329412664, 0.045954748487535835, 0.04012466845553502, 0.1463521560974322, 0.5789783890603162, 0.7978561082449676, 0.20202574642258003, 0.00011113749940729455, 0.9998434753709047, 0.9999046630325247, 0.25859058677554986, 0.7413156096204273, 0.9999294913340285, 0.999918763697052, 0.9999132420513905, 0.9998387073249874, 0.999894507169716, 0.9998910011552341, 0.2168653195751836, 0.6440493210009776, 0.13900482236545325, 0.9999823064745347, 0.9999324005415998, 0.9999450475719062, 0.9998461164531707, 0.9999813103121182, 0.9999181491311638, 0.8377743685501222, 0.16222545870932606, 0.9998944868534179, 0.9998581088030466, 0.9999888759902257, 0.99998200343075, 0.9999238960821979, 0.47150404969006293, 0.044835131218332144, 0.07967813734989973, 0.09122344250196447, 0.04560136671721357, 0.04886304485434397, 0.16816798293693588, 0.05012629797412146, 0.9999607130203195, 0.9998906199770572, 0.9999559863647551, 0.999906449716892, 0.9998458546084873, 0.1200811971824308, 0.3943504237313074, 0.0015979391422618408, 0.2031478368564029, 0.2807919617361422, 0.29244208344768124, 0.707533494958395, 0.9998373876987614, 0.99989041086462, 0.999846116294155, 0.9998316789942144, 0.9998133505209089, 0.9999919376578088, 0.9999442708337574, 0.7874823369707246, 0.2124967672302679, 0.6505103848122308, 0.08523329877813599, 0.20891934322423308, 0.05523870884278856, 8.689886026657875e-05, 0.10246507232582149, 0.2496414878686373, 0.5871913067701796, 0.06068779269842669, 0.9999792640552624, 0.9999549231092124, 0.858717070304065, 0.14123217484627532, 0.7675212822603956, 0.2324383755993466, 0.9999694127138182, 0.9999112434709249, 0.9999274924961403, 0.00011446297794801204, 0.07726251011490813, 0.9226288337499511, 0.9999609805783714, 0.9998238329187437, 0.9999739180648859, 0.21740017461193742, 0.7825399803739878, 0.999895795158884, 0.20781676418653264, 0.45280192087774407, 0.09128739193101212, 0.0895158550568472, 0.07856717634274596, 0.08000957521843215, 0.999822294968213, 0.00014125774158917957, 0.9999468166953407, 0.9998851317534838, 0.12677801621025783, 0.8732145493075272, 0.9999016533571112, 0.7089732377956106, 0.10952182975647526, 0.18147680497906718, 0.9999317721627754, 0.9999831139959453, 0.9999916134148807, 0.7750396527654221, 0.22496337356570284, 0.8904871827152572, 0.1095009645412054, 0.9312395781380453, 0.06872283142058691, 0.000286468293436161, 0.9996311099454838, 0.15812742608302133, 0.31308892665717275, 0.06361399655822561, 0.2070093159399724, 0.05206892153588009, 0.049705030489257236, 0.15637561396811334, 0.9999151626519114, 0.9998433893619032, 0.9998186161188005, 0.9998843908706718, 0.9999933492289517, 0.3640945416066081, 0.07946029528603807, 0.4283103721515711, 0.1281007734831429, 0.9999506894549485, 0.9998421215145795, 0.9999647955262677, 0.9999581027442922, 0.9998083783662386, 0.2873217444223651, 9.369696540758685e-05, 0.029701938034205032, 0.07451251174038344, 0.5895647305858883, 0.018786241564221165, 0.9999306280725451, 0.9999816013928395, 0.9999434865670894, 0.5986436081178975, 0.40133303594481506, 0.9999649737089192, 0.7249883359889934, 0.20392162450500093, 0.07103827083166016, 0.1920102590143985, 0.8079224606426071, 0.9999552871729624, 0.9999545837220037, 0.9999265067305332, 0.10838862055768625, 0.891598741454491, 0.9999121861993725, 0.0988626321229368, 0.7969484034315873, 0.10418276602347425, 0.9999199578366368, 0.9999188377965256, 0.9999326784772238, 0.999939371925841, 0.15878598714458073, 0.2059792226688668, 0.12764797766703453, 0.055647532552606474, 0.26001924804003207, 0.06946018685239752, 0.12246823230461289, 0.11345231924113859, 0.0653774465125094, 0.5977053652684695, 0.22343682306145732, 0.9999880751698692, 0.9999293912716104, 0.9999369589263729, 0.9999359730838991, 0.9999785171349591, 0.9998572931924142, 0.9999146159197563, 0.9999451530515536, 0.9999417034195466, 0.9999218034826863, 0.9999293675811989, 0.6280011764807638, 0.19186229519841896, 0.180131890263051, 0.999960620932143, 0.9999193081403246, 0.9999260125868443, 0.00019431073251074613, 0.7370691860963877, 0.26270811035452873, 0.9999622630189292, 0.9999435212170192, 0.9998663558220374, 0.7432873933333146, 0.2566707777727776, 0.9999547179885873, 0.9999299869385111, 0.9999666024934374, 0.6150230684444545, 0.17969706005821703, 0.12260098903363614, 0.00014014744974123928, 0.08251881840764169, 0.9998735499006576, 0.9999830888884654, 0.9999484192749589, 0.9998952164269489, 0.00034945630305014796, 0.7640425245812672, 0.23553354825579972, 0.22089069831385105, 0.7791052122409493, 0.9998394982492116, 0.9998889742831631, 0.9999536090919213, 0.999984291189986, 0.9998640906703345, 0.2704229583855158, 0.7295526729547478, 0.9999843648318627, 0.999936186110332, 0.999887129000638, 0.9998472057492942, 0.1486050378717095, 0.09840882374448394, 0.7529432119083835, 0.9998958185451942, 0.34547564734868536, 0.6545160795182258, 0.999926883795284, 0.9998566367001267, 0.10117418067106455, 0.32634598840306, 0.5724770170321674, 0.9999280531456646, 0.9999425137548636, 0.0005190705395955884, 0.9925305765597559, 0.00652223417144022, 0.0004287974022746165, 0.9998868489545835, 0.000881763739811106, 0.8371945907806537, 0.1619238867653122, 0.9998827110683658, 0.9999000653526002, 0.9999875346540161, 0.9998532880184108, 0.9998836604832345, 0.9999738253575133, 0.999779559275305, 0.999871468516594, 0.9999420983397026, 0.1212048484309799, 0.447340229509433, 0.36120480422853357, 0.07024138847311441, 0.08940422763079986, 0.9105748354569616, 0.9999856680963193, 0.999977744753228, 0.9998454850507328, 0.9999075912357877, 0.13233048418529267, 0.012274984192682565, 0.146780089533002, 0.12848044736051256, 0.08694381561324019, 0.1828664915300972, 0.19002632910655326, 0.12030852195089937, 0.9998791673491041, 0.9999826271235918, 0.11195073349312128, 0.13952487853687556, 0.09511381579098958, 0.48544969118540937, 0.16797040791784543, 0.9998282421284702, 0.9999612379679993, 0.9998379073314688, 0.163994242773644, 0.646243379116607, 0.18977147946012754, 0.7225704873109314, 0.2774260754117695, 0.9997981445801699, 0.9998604966395577, 0.9998816399733153, 0.9999827322845435, 0.106034905114733, 0.10435908490795615, 0.14134496056533616, 0.13267782793341207, 0.24621464694254463, 0.07317311824746793, 0.19618879530118213, 0.9998381339714919, 0.9998944023660316, 0.999928607703235, 0.2024393148051269, 0.7849561180498947, 0.012555577717622723, 0.9998718427646989, 0.253533497394041, 0.746421011330243, 0.9998937504605477, 0.9999807875825916], \"Term\": [\"ace\", \"adventure\", \"adventure\", \"android\", \"animal\", \"apex\", \"app\", \"ark\", \"ark_survival\", \"arma\", \"assassin\", \"auto\", \"baby\", \"baby\", \"ball\", \"base\", \"base\", \"battle\", \"battle\", \"battlefield\", \"battlefront\", \"beamng\", \"beat\", \"beat\", \"black\", \"black_op\", \"block\", \"boss\", \"box\", \"breath\", \"bro\", \"build\", \"build\", \"build\", \"car\", \"card\", \"card\", \"card\", \"career\", \"career\", \"career_mode\", \"change\", \"channel\", \"chapter\", \"christmas\", \"clan\", \"clash\", \"clash\", \"clash_clan\", \"clash_royale\", \"clip\", \"cod\", \"combat\", \"commentary\", \"commentary\", \"commentary\", \"compilation\", \"creed\", \"cs\", \"csgo\", \"cup\", \"daily\", \"dark_soul\", \"dash\", \"date\", \"day\", \"daylight\", \"de\", \"dead\", \"dead\", \"dead\", \"dead_daylight\", \"demon\", \"destiny\", \"destiny\", \"destiny\", \"diablo\", \"division\", \"division\", \"dlc\", \"dlc\", \"dlc\", \"dlc\", \"dog\", \"dota\", \"download\", \"download\", \"dragon\", \"dragon_ball\", \"draw\", \"drive\", \"drive\", \"duel\", \"dungeon\", \"duo\", \"duty\", \"early\", \"easter\", \"easy\", \"easy\", \"easy\", \"edition\", \"edition\", \"edition\", \"edition\", \"edition\", \"egg\", \"emblem\", \"ep\", \"ep\", \"ep\", \"ep\", \"ep\", \"ep\", \"ep\", \"ep\", \"epic\", \"epic\", \"epic\", \"epic\", \"epic\", \"epic\", \"episode\", \"episode\", \"episode\", \"episode\", \"evil\", \"evolve\", \"expose\", \"faction\", \"fail\", \"fall\", \"fall\", \"fallout\", \"fantasy\", \"far\", \"farming\", \"fast\", \"fast\", \"fast\", \"fast\", \"fast\", \"feature\", \"fifa\", \"fifa_ultimate\", \"fight\", \"fighter\", \"final\", \"final\", \"final\", \"final\", \"final_fantasy\", \"fire\", \"fire\", \"five nights\", \"fix\", \"fnaf\", \"fortnite\", \"fortnite_battle\", \"forza\", \"forza horizon\", \"forza_horizon\", \"freddy\", \"free\", \"free\", \"free\", \"free\", \"free\", \"funny\", \"funny_moment\", \"game\", \"game\", \"game\", \"game\", \"game\", \"game\", \"game\", \"game\", \"gameplay\", \"gameplay\", \"gameplay\", \"gameplay\", \"gameplay\", \"gameplay\", \"gameplay\", \"gameplay\", \"gamer\", \"gamer\", \"garry\", \"garry_mod\", \"gb\", \"gear\", \"gear\", \"gear_war\", \"geometry\", \"geometry_dash\", \"ghost\", \"girl\", \"girl\", \"girl\", \"giveaway\", \"giveaway\", \"giveaway\", \"giveaway\", \"glitch\", \"glitch\", \"goal\", \"good\", \"good\", \"good\", \"good\", \"good\", \"good\", \"grand\", \"grand_theft\", \"growtopia\", \"gta\", \"gta_online\", \"gtx\", \"guide\", \"guide\", \"guide\", \"guide\", \"guide\", \"guide\", \"guide\", \"guild\", \"hack\", \"hack\", \"hall\", \"halo\", \"hd\", \"hd\", \"hd\", \"hd\", \"hd\", \"heart\", \"high\", \"high\", \"high\", \"high\", \"high\", \"high\", \"highlight\", \"highlight\", \"highlight\", \"home\", \"horizon\", \"house\", \"house\", \"hunter\", \"infinite\", \"io\", \"jailbreak\", \"jam\", \"jumpshot\", \"kid\", \"kid\", \"kid\", \"kill\", \"kingdom\", \"kombat\", \"launch\", \"league\", \"league_legend\", \"legend\", \"legend\", \"legion\", \"lego\", \"let\", \"let_play\", \"link\", \"live\", \"live\", \"live\", \"live\", \"live\", \"live\", \"live\", \"live\", \"live_stream\", \"lore\", \"love\", \"madden\", \"maker\", \"map\", \"map\", \"map\", \"map\", \"map\", \"mario\", \"mario\", \"mcpe\", \"meet\", \"meme\", \"menu\", \"metal\", \"minecraft\", \"minecraft_pe\", \"mobile\", \"mobile\", \"mod\", \"mod\", \"mod\", \"mod\", \"mod\", \"mode\", \"mode\", \"mode\", \"mode\", \"moment\", \"money\", \"monster\", \"monster\", \"montage\", \"montage\", \"moon\", \"mortal\", \"mortal_kombat\", \"multiplayer\", \"multiplayer\", \"multiplayer\", \"music\", \"na\", \"nba\", \"need\", \"need\", \"need_speed\", \"new\", \"new\", \"new\", \"new\", \"new\", \"new\", \"news\", \"news\", \"night\", \"ninja\", \"nintendo\", \"nintendo\", \"nintendo_switch\", \"official\", \"official\", \"official\", \"oh\", \"online\", \"op\", \"overwatch\", \"overwatch\", \"pack\", \"pack\", \"patch\", \"patch\", \"path\", \"path\", \"pc\", \"pc\", \"pc\", \"pc\", \"pc\", \"pc\", \"pc\", \"pe\", \"pet\", \"phantom\", \"pixel\", \"play\", \"player\", \"player\", \"player\", \"player\", \"playthrough\", \"pocket\", \"pokemon\", \"pok\\u00e9mon\", \"pool\", \"pro\", \"pro\", \"pro\", \"pro\", \"pro\", \"pro\", \"pt\", \"pubg\", \"pubg_mobile\", \"pvp\", \"pvp\", \"quest\", \"race\", \"race\", \"race\", \"raid\", \"raid\", \"rainbow\", \"rainbow_siege\", \"random\", \"rank\", \"rank\", \"record\", \"red\", \"red\", \"red\", \"red_dead\", \"redemption\", \"resident\", \"resident_evil\", \"review\", \"review\", \"review\", \"review\", \"review\", \"review\", \"review\", \"road\", \"road\", \"road\", \"road\", \"roblox\", \"rocket\", \"rocket_league\", \"roleplay\", \"royale\", \"rp\", \"runescape\", \"rust\", \"save\", \"school\", \"sea\", \"season\", \"season\", \"season\", \"server\", \"shadow\", \"shop\", \"showcase\", \"showcase\", \"showcase\", \"siege\", \"sim\", \"sims\", \"simulator\", \"simulator\", \"skin\", \"sky\", \"smash\", \"solo\", \"solo\", \"solo\", \"solo\", \"solo\", \"song\", \"sonic\", \"soul\", \"space\", \"special\", \"special\", \"special\", \"speed\", \"speed\", \"spider\", \"splatoon\", \"squad\", \"star\", \"star_war\", \"story\", \"story\", \"stream\", \"stream_highlight\", \"street\", \"strike\", \"subscriber\", \"subscriber\", \"subscriber\", \"sun\", \"super\", \"super\", \"super_mario\", \"super_smash\", \"survival\", \"survival\", \"survival\", \"switch\", \"tank\", \"team\", \"team\", \"team\", \"team\", \"theft\", \"thing\", \"thing\", \"thing\", \"total\", \"town\", \"trailer\", \"train\", \"trial\", \"trick\", \"trophy\", \"truck\", \"twitch\", \"ultimate\", \"ultimate\", \"ultimate\", \"ultimate\", \"ultra\", \"ultra\", \"update\", \"video\", \"virtual\", \"vlog\", \"vs\", \"vs\", \"vs\", \"vs\", \"vs\", \"vs\", \"vs\", \"vs\", \"walk\", \"walkthrough\", \"war\", \"war\", \"war\", \"war\", \"war\", \"warcraft\", \"warfare\", \"warframe\", \"watch\", \"watch\", \"watch\", \"weapon\", \"weapon\", \"weekly\", \"wii\", \"wild\", \"win\", \"world\", \"world\", \"world\", \"world\", \"world\", \"world\", \"world\", \"world_tank\", \"wow\", \"wtf\", \"wwe\", \"wwe\", \"wwe\", \"xenoverse\", \"year\", \"year\", \"zelda\", \"zombie\"]}, \"R\": 30, \"lambda.step\": 0.01, \"plot.opts\": {\"xlab\": \"PC1\", \"ylab\": \"PC2\"}, \"topic.order\": [2, 8, 5, 4, 7, 3, 1, 6]};\n",
       "if(typeof(window.LDAvis) !== \"undefined\"){\n",
       "   !function(LDAvis){\n",
       "       new LDAvis(\"#\" + \"ldavis_el1814016027375058885829756590\", ldavis_el1814016027375058885829756590_data);\n",
       "   }(LDAvis);\n",
       "}else{\n",
       "  require.config({paths: {d3: \"https://d3js.org/d3.v5\"}});\n",
       "  require([\"d3\"], function(d3){\n",
       "    window.d3 = d3;\n",
       "    $.getScript(\"https://cdn.jsdelivr.net/gh/bmabey/pyLDAvis@3.3.1/pyLDAvis/js/ldavis.v3.0.0.js\", function(){\n",
       "       new LDAvis(\"#\" + \"ldavis_el1814016027375058885829756590\", ldavis_el1814016027375058885829756590_data);\n",
       "    });\n",
       "  });\n",
       "}\n",
       "</script>"
      ],
      "text/plain": [
       "<IPython.core.display.HTML object>"
      ]
     },
     "execution_count": 108,
     "metadata": {},
     "output_type": "execute_result"
    }
   ],
   "source": [
    "pyLDAvis.display(data, template_type='notebook')"
   ]
  },
  {
   "cell_type": "code",
   "execution_count": 109,
   "id": "bca756ab",
   "metadata": {},
   "outputs": [
    {
     "ename": "OSError",
     "evalue": "[Errno 22] Invalid argument: 'https://cdn.jsdelivr.net/gh/bmabey/pyLDAvis@3.3.1/pyLDAvis/js/ldavis.v1.0.0.css'",
     "output_type": "error",
     "traceback": [
      "\u001b[1;31m---------------------------------------------------------------------------\u001b[0m",
      "\u001b[1;31mOSError\u001b[0m                                   Traceback (most recent call last)",
      "Input \u001b[1;32mIn [109]\u001b[0m, in \u001b[0;36m<cell line: 1>\u001b[1;34m()\u001b[0m\n\u001b[1;32m----> 1\u001b[0m \u001b[43mpyLDAvis\u001b[49m\u001b[38;5;241;43m.\u001b[39;49m\u001b[43mshow\u001b[49m\u001b[43m(\u001b[49m\u001b[43mdata\u001b[49m\u001b[43m)\u001b[49m\n",
      "File \u001b[1;32m~\\Anaconda3\\lib\\site-packages\\pyLDAvis\\_display.py:262\u001b[0m, in \u001b[0;36mshow\u001b[1;34m(data, ip, port, n_retries, local, open_browser, http_server, **kwargs)\u001b[0m\n\u001b[0;32m    259\u001b[0m     kwargs[\u001b[38;5;124m'\u001b[39m\u001b[38;5;124md3_url\u001b[39m\u001b[38;5;124m'\u001b[39m] \u001b[38;5;241m=\u001b[39m urls\u001b[38;5;241m.\u001b[39mD3_URL\n\u001b[0;32m    260\u001b[0m     kwargs[\u001b[38;5;124m'\u001b[39m\u001b[38;5;124mldavis_css_url\u001b[39m\u001b[38;5;124m'\u001b[39m] \u001b[38;5;241m=\u001b[39m urls\u001b[38;5;241m.\u001b[39mLDAVIS_CSS_URL\n\u001b[0;32m    261\u001b[0m     files \u001b[38;5;241m=\u001b[39m {\u001b[38;5;124m'\u001b[39m\u001b[38;5;124m/LDAvis.js\u001b[39m\u001b[38;5;124m'\u001b[39m: [\u001b[38;5;124m\"\u001b[39m\u001b[38;5;124mtext/javascript\u001b[39m\u001b[38;5;124m\"\u001b[39m, \u001b[38;5;28mopen\u001b[39m(urls\u001b[38;5;241m.\u001b[39mLDAVIS_LOCAL, \u001b[38;5;124m'\u001b[39m\u001b[38;5;124mr\u001b[39m\u001b[38;5;124m'\u001b[39m)\u001b[38;5;241m.\u001b[39mread()],\n\u001b[1;32m--> 262\u001b[0m              \u001b[38;5;124m'\u001b[39m\u001b[38;5;124m/LDAvis.css\u001b[39m\u001b[38;5;124m'\u001b[39m: [\u001b[38;5;124m\"\u001b[39m\u001b[38;5;124mtext/css\u001b[39m\u001b[38;5;124m\"\u001b[39m, \u001b[38;5;28;43mopen\u001b[39;49m\u001b[43m(\u001b[49m\u001b[43murls\u001b[49m\u001b[38;5;241;43m.\u001b[39;49m\u001b[43mLDAVIS_CSS_URL\u001b[49m\u001b[43m,\u001b[49m\u001b[43m \u001b[49m\u001b[38;5;124;43m'\u001b[39;49m\u001b[38;5;124;43mr\u001b[39;49m\u001b[38;5;124;43m'\u001b[39;49m\u001b[43m)\u001b[49m\u001b[38;5;241m.\u001b[39mread()],\n\u001b[0;32m    263\u001b[0m              \u001b[38;5;124m'\u001b[39m\u001b[38;5;124m/d3.js\u001b[39m\u001b[38;5;124m'\u001b[39m: [\u001b[38;5;124m\"\u001b[39m\u001b[38;5;124mtext/javascript\u001b[39m\u001b[38;5;124m\"\u001b[39m, \u001b[38;5;28mopen\u001b[39m(urls\u001b[38;5;241m.\u001b[39mD3_URL, \u001b[38;5;124m'\u001b[39m\u001b[38;5;124mr\u001b[39m\u001b[38;5;124m'\u001b[39m)\u001b[38;5;241m.\u001b[39mread()]}\n\u001b[0;32m    264\u001b[0m html \u001b[38;5;241m=\u001b[39m prepared_data_to_html(data, \u001b[38;5;241m*\u001b[39m\u001b[38;5;241m*\u001b[39mkwargs)\n\u001b[0;32m    265\u001b[0m serve(html, ip\u001b[38;5;241m=\u001b[39mip, port\u001b[38;5;241m=\u001b[39mport, n_retries\u001b[38;5;241m=\u001b[39mn_retries, files\u001b[38;5;241m=\u001b[39mfiles,\n\u001b[0;32m    266\u001b[0m       open_browser\u001b[38;5;241m=\u001b[39mopen_browser, http_server\u001b[38;5;241m=\u001b[39mhttp_server)\n",
      "\u001b[1;31mOSError\u001b[0m: [Errno 22] Invalid argument: 'https://cdn.jsdelivr.net/gh/bmabey/pyLDAvis@3.3.1/pyLDAvis/js/ldavis.v1.0.0.css'"
     ]
    }
   ],
   "source": [
    "pyLDAvis.show(data)"
   ]
  },
  {
   "cell_type": "code",
   "execution_count": 111,
   "id": "3d478de4",
   "metadata": {},
   "outputs": [],
   "source": [
    "pyLDAvis.enable_notebook(local=True)"
   ]
  },
  {
   "cell_type": "code",
   "execution_count": null,
   "id": "9cca5d37",
   "metadata": {},
   "outputs": [],
   "source": []
  },
  {
   "cell_type": "code",
<<<<<<< Updated upstream
   "execution_count": 56,
   "id": "7de4f7cb",
=======
   "execution_count": null,
   "id": "82e73e12",
>>>>>>> Stashed changes
   "metadata": {},
   "outputs": [],
   "source": [
    "corpus_tag, dictionary_tag = topic_detection(tag_metadatas.tags, \"tag\")"
   ]
  },
  {
   "cell_type": "code",
   "execution_count": null,
   "id": "a6d32816",
   "metadata": {},
   "outputs": [],
   "source": [
    "# models\n",
    "seed = 42\n",
    "params = {\"passes\": 10, \"random_state\": seed}\n",
    "base_models = dict()\n",
    "\n",
    "model_tag = LdaMulticore(\n",
    "    corpus=corpus_tag,\n",
    "    num_topics=8,\n",
    "    id2word=dictionary_tag,\n",
    "    workers=None,\n",
    "    passes=params[\"passes\"],\n",
    "    random_state=params[\"random_state\"],\n",
    ")\n",
    "\n",
    "data = pyLDAvis.gensim_models.prepare(model_tag, corpus_tag, dictionary_tag)\n",
    "pyLDAvis.prepare(data)\n"
   ]
  },
  {
   "cell_type": "code",
   "execution_count": null,
   "id": "0778d5fd",
   "metadata": {},
   "outputs": [],
   "source": [
    "pyLDAvis.enable_notebook()\n",
    "pyLDAvis.enable_notebook(data)\n"
   ]
  },
  {
   "cell_type": "code",
   "execution_count": null,
   "id": "feeaf07d",
   "metadata": {},
   "outputs": [],
   "source": []
  },
  {
   "cell_type": "code",
   "execution_count": null,
   "id": "4640ed6f",
   "metadata": {},
   "outputs": [],
   "source": []
  },
  {
   "cell_type": "markdown",
   "id": "2600e95a",
   "metadata": {},
   "source": [
    "### Sub-Question 5\n",
    "\n",
    "**Description:** Does a channel's success increase with a greater variety of categories?  \n",
    "**Method:** For this question, we will determine whether the filtered channels use multiple categories in their videos, and if they showed clear shifts from one category to another. Ultimately, we want to use this information and methods such as A/B testing and observational studies to determine whether a greater variety of categories can aid to a channels’ success.  \n",
    "**Timeline:** By 18/12/2022  \n",
    "**Organization:** Paul  \n"
   ]
  },
  {
   "cell_type": "code",
   "execution_count": 347,
   "id": "0e534ce3",
   "metadata": {},
   "outputs": [
    {
     "data": {
      "text/plain": [
       "Text(0, 0.5, 'Number of videos')"
      ]
     },
     "execution_count": 347,
     "metadata": {},
     "output_type": "execute_result"
    },
    {
     "data": {
      "image/png": "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",
      "text/plain": [
       "<Figure size 640x480 with 1 Axes>"
      ]
     },
     "metadata": {},
     "output_type": "display_data"
    }
   ],
   "source": [
    "video_metadatas.categories.value_counts().plot(kind=\"bar\")\n",
    "plt.title(\"Number of videos per categories for channels with Gaming topic\")\n",
    "plt.xlabel(\"Categories\")\n",
    "plt.ylabel(\"Number of videos\")\n"
   ]
  },
  {
   "cell_type": "markdown",
   "id": "63be44ea",
   "metadata": {},
   "source": [
    "Find channels with unique topic\n"
   ]
  },
  {
   "cell_type": "code",
   "execution_count": 348,
   "id": "530d6927",
   "metadata": {},
   "outputs": [
    {
     "name": "stdout",
     "output_type": "stream",
     "text": [
      "nb of channels with unique topic Gaming :  (5598,)\n",
      "nb of channels without unique topic Gaming :  (8782,)\n"
     ]
    },
    {
     "data": {
      "text/plain": [
       "[Gaming]              5576\n",
       "[Entertainment]          8\n",
       "[People & Blogs]         5\n",
       "[Film & Animation]       4\n",
       "[Education]              2\n",
       "[Music]                  2\n",
       "[Howto & Style]          1\n",
       "dtype: int64"
      ]
     },
     "execution_count": 348,
     "metadata": {},
     "output_type": "execute_result"
    }
   ],
   "source": [
    "gaming_channels_with_categories = video_metadatas.groupby(\"channel_id\").apply(\n",
    "    lambda group: group.categories.unique()\n",
    ")\n",
    "unique_topic_gaming = gaming_channels_with_categories.loc[\n",
    "    gaming_channels_with_categories.str.len() == 1\n",
    "]\n",
    "non_unique_topic_gaming = gaming_channels_with_categories.loc[\n",
    "    gaming_channels_with_categories.str.len() > 1\n",
    "]\n",
    "print(\"nb of channels with unique topic Gaming : \", unique_topic_gaming.shape)\n",
    "print(\"nb of channels without unique topic Gaming : \", non_unique_topic_gaming.shape)\n",
    "unique_topic_gaming.value_counts()\n"
   ]
  },
  {
   "cell_type": "code",
   "execution_count": 349,
   "id": "153bc452",
   "metadata": {},
   "outputs": [],
   "source": [
    "unique_topic_gaming_channels_descript = df_channels[\n",
    "    df_channels.channel.isin(unique_topic_gaming.index.values)\n",
    "]\n",
    "non_unique_topic_gaming_channels_descript = df_channels[\n",
    "    df_channels.channel.isin(non_unique_topic_gaming.index.values)\n",
    "]\n"
   ]
  },
  {
   "cell_type": "markdown",
   "id": "93b03f1f",
   "metadata": {},
   "source": [
    "### Now we have the dataset to check the differences between unique and non unique categories channels"
   ]
  },
  {
   "cell_type": "code",
   "execution_count": 350,
   "id": "52a7f632",
   "metadata": {},
   "outputs": [],
   "source": [
    "def get_confidence_interval(data):\n",
    "    rng = np.random.default_rng()\n",
    "    return bootstrap(\n",
    "        (data,),\n",
    "        np.mean,\n",
    "        confidence_level=0.95,\n",
    "        random_state=rng,\n",
    "    ).confidence_interval\n"
   ]
  },
  {
   "cell_type": "code",
   "execution_count": 351,
   "id": "0a1c47d2",
   "metadata": {},
   "outputs": [
    {
     "name": "stdout",
     "output_type": "stream",
     "text": [
      "95% confidence interval of number of subs for unique Gaming channels [137_250, 161_484]\n",
      "95% confidence interval of number of subs for non unique Gaming channels [131_238, 163_315]\n"
     ]
    }
   ],
   "source": [
    "conf1 = get_confidence_interval(unique_topic_gaming_channels_descript.subscribers_cc)\n",
    "print(\n",
    "    \"95% confidence interval of number of subs for unique Gaming channels [{:_}, {:_}]\".format(\n",
    "        int(conf1[0]), int(conf1[1])\n",
    "    )\n",
    ")\n",
    "conf2 = get_confidence_interval(\n",
    "    non_unique_topic_gaming_channels_descript.subscribers_cc\n",
    ")\n",
    "print(\n",
    "    \"95% confidence interval of number of subs for non unique Gaming channels [{:_}, {:_}]\".format(\n",
    "        int(conf2[0]), int(conf2[1])\n",
    "    )\n",
    ")\n"
   ]
  },
  {
   "cell_type": "markdown",
   "id": "15286dd9",
   "metadata": {},
   "source": [
    "From these statistics, we can notice that diverse channels have no more subs in general. \n"
   ]
  },
  {
   "cell_type": "code",
   "execution_count": 364,
   "id": "6872c1d5",
   "metadata": {},
   "outputs": [
    {
     "name": "stdout",
     "output_type": "stream",
     "text": [
      "(5598, 9)\n",
      "(8782, 9)\n"
     ]
    }
   ],
   "source": [
    "unique_topic_gaming_channels_descript[\"only_gaming\"] = 1\n",
    "print(unique_topic_gaming_channels_descript.shape)\n",
    "non_unique_topic_gaming_channels_descript[\"only_gaming\"] = 0\n",
    "print(non_unique_topic_gaming_channels_descript.shape)\n"
   ]
  },
  {
   "cell_type": "code",
   "execution_count": 365,
   "id": "be657b02",
   "metadata": {},
   "outputs": [
    {
     "data": {
      "text/html": [
       "<div>\n",
       "<style scoped>\n",
       "    .dataframe tbody tr th:only-of-type {\n",
       "        vertical-align: middle;\n",
       "    }\n",
       "\n",
       "    .dataframe tbody tr th {\n",
       "        vertical-align: top;\n",
       "    }\n",
       "\n",
       "    .dataframe thead th {\n",
       "        text-align: right;\n",
       "    }\n",
       "</style>\n",
       "<table border=\"1\" class=\"dataframe\">\n",
       "  <thead>\n",
       "    <tr style=\"text-align: right;\">\n",
       "      <th></th>\n",
       "      <th>category_cc</th>\n",
       "      <th>join_date</th>\n",
       "      <th>channel</th>\n",
       "      <th>name_cc</th>\n",
       "      <th>subscribers_cc</th>\n",
       "      <th>videos_cc</th>\n",
       "      <th>subscriber_rank_sb</th>\n",
       "      <th>weights</th>\n",
       "      <th>only_gaming</th>\n",
       "    </tr>\n",
       "  </thead>\n",
       "  <tbody>\n",
       "    <tr>\n",
       "      <th>152</th>\n",
       "      <td>Gaming</td>\n",
       "      <td>2013-01-31</td>\n",
       "      <td>UCD1Em4q90ZUK2R5HKesszJg</td>\n",
       "      <td>Clash of Clans</td>\n",
       "      <td>14600000</td>\n",
       "      <td>343</td>\n",
       "      <td>234.0</td>\n",
       "      <td>2.087</td>\n",
       "      <td>1</td>\n",
       "    </tr>\n",
       "    <tr>\n",
       "      <th>233</th>\n",
       "      <td>Gaming</td>\n",
       "      <td>2013-05-24</td>\n",
       "      <td>UCC-RHF_77zQdKcA75hr5oTQ</td>\n",
       "      <td>FGTeeV</td>\n",
       "      <td>12100000</td>\n",
       "      <td>1276</td>\n",
       "      <td>378.0</td>\n",
       "      <td>2.087</td>\n",
       "      <td>1</td>\n",
       "    </tr>\n",
       "  </tbody>\n",
       "</table>\n",
       "</div>"
      ],
      "text/plain": [
       "    category_cc  join_date                   channel         name_cc  \\\n",
       "152      Gaming 2013-01-31  UCD1Em4q90ZUK2R5HKesszJg  Clash of Clans   \n",
       "233      Gaming 2013-05-24  UCC-RHF_77zQdKcA75hr5oTQ          FGTeeV   \n",
       "\n",
       "     subscribers_cc  videos_cc  subscriber_rank_sb  weights  only_gaming  \n",
       "152        14600000        343               234.0    2.087            1  \n",
       "233        12100000       1276               378.0    2.087            1  "
      ]
     },
     "execution_count": 365,
     "metadata": {},
     "output_type": "execute_result"
    }
   ],
   "source": [
    "unique_and_non_unique = unique_topic_gaming_channels_descript.append(\n",
    "    non_unique_topic_gaming_channels_descript\n",
    ")\n",
    "unique_and_non_unique.head(2)\n"
   ]
  },
  {
   "cell_type": "code",
   "execution_count": 366,
   "id": "0566ac8c",
   "metadata": {},
   "outputs": [
    {
     "name": "stdout",
     "output_type": "stream",
     "text": [
      "                            OLS Regression Results                            \n",
      "==============================================================================\n",
      "Dep. Variable:     subscribers_cc_log   R-squared:                       0.003\n",
      "Model:                            OLS   Adj. R-squared:                  0.003\n",
      "Method:                 Least Squares   F-statistic:                     45.88\n",
      "Date:                Wed, 21 Dec 2022   Prob (F-statistic):           1.30e-11\n",
      "Time:                        00:34:16   Log-Likelihood:                -23569.\n",
      "No. Observations:               14380   AIC:                         4.714e+04\n",
      "Df Residuals:                   14378   BIC:                         4.716e+04\n",
      "Df Model:                           1                                         \n",
      "Covariance Type:            nonrobust                                         \n",
      "===============================================================================\n",
      "                  coef    std err          t      P>|t|      [0.025      0.975]\n",
      "-------------------------------------------------------------------------------\n",
      "Intercept      10.6935      0.013    804.093      0.000      10.667      10.720\n",
      "only_gaming     0.1444      0.021      6.774      0.000       0.103       0.186\n",
      "==============================================================================\n",
      "Omnibus:                     1926.234   Durbin-Watson:                   0.022\n",
      "Prob(Omnibus):                  0.000   Jarque-Bera (JB):             2803.400\n",
      "Skew:                           1.017   Prob(JB):                         0.00\n",
      "Kurtosis:                       3.734   Cond. No.                         2.44\n",
      "==============================================================================\n",
      "\n",
      "Notes:\n",
      "[1] Standard Errors assume that the covariance matrix of the errors is correctly specified.\n"
     ]
    }
   ],
   "source": [
    "unique_and_non_unique[\"subscribers_cc_log\"] = np.log(\n",
    "    unique_and_non_unique.subscribers_cc,\n",
    "    where=unique_and_non_unique.subscribers_cc != 0,\n",
    ")\n",
    "mod = smf.ols(\n",
    "    formula=\"subscribers_cc_log ~ only_gaming\",\n",
    "    data=unique_and_non_unique,\n",
    ")\n",
    "\n",
    "# Fits the model (find the optimal coefficients, adding a random seed ensures consistency)\n",
    "np.random.seed(2)\n",
    "res = mod.fit()\n",
    "\n",
    "# Print thes summary output provided by the library.\n",
    "print(res.summary())\n"
   ]
  },
  {
   "cell_type": "markdown",
   "id": "c7eb1b5a",
   "metadata": {},
   "source": [
    "Channel with only gaming have more subscribers than ones with diverse categories and the coefficient is meaningful\n"
   ]
  },
  {
   "cell_type": "markdown",
   "id": "7a568a99",
   "metadata": {},
   "source": []
  }
 ],
 "metadata": {
  "kernelspec": {
   "display_name": "Python 3 (ipykernel)",
   "language": "python",
   "name": "python3"
  },
  "language_info": {
   "codemirror_mode": {
    "name": "ipython",
    "version": 3
   },
   "file_extension": ".py",
   "mimetype": "text/x-python",
   "name": "python",
   "nbconvert_exporter": "python",
   "pygments_lexer": "ipython3",
   "version": "3.9.12"
  },
  "vscode": {
   "interpreter": {
    "hash": "e2552cbddfdf66195580a0cc7030164c04fc13f4bfb78773728a78bbf4f04323"
   }
  }
 },
 "nbformat": 4,
 "nbformat_minor": 5
}
