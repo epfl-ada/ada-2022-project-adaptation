{
 "cells": [
  {
   "cell_type": "markdown",
   "id": "e2af5202-cd4d-4fe2-9e7e-48869ec70229",
   "metadata": {},
   "source": [
    "# Part 0: Initialising"
   ]
  },
  {
   "cell_type": "code",
   "execution_count": 1,
   "id": "b347be5c-381b-4203-a676-ae35909a42cc",
   "metadata": {},
   "outputs": [],
   "source": [
    "# Initializing\n",
    "import matplotlib.font_manager as font_manager\n",
    "from matplotlib.lines import Line2D\n",
    "import matplotlib as mpl\n",
    "import matplotlib.ticker as mtick\n",
    "import matplotlib.pyplot as plt\n",
    "import pandas as pd\n",
    "import numpy as np\n",
    "import seaborn as sns\n",
    "import os\n",
    "import re\n",
    "from scipy.stats import bootstrap\n",
    "import statsmodels.api as sm\n",
    "import statsmodels.formula.api as smf\n",
    "import requests\n",
    "\n",
    "params = {\n",
    "    \"axes.titlesize\": 14,\n",
    "    \"axes.labelsize\": 12,\n",
    "    \"font.size\": 12,\n",
    "    \"legend.fontsize\": 12,\n",
    "    \"xtick.labelsize\": 12,\n",
    "    \"ytick.labelsize\": 12,\n",
    "    \"text.usetex\": False,\n",
    "}\n",
    "\n",
    "NUM_COLORS = 15\n",
    "cm = plt.get_cmap('nipy_spectral')\n",
    "\n",
    "mpl.rcParams.update(params)\n",
    "\n",
    "import warnings\n",
    "\n",
    "warnings.filterwarnings(\"ignore\")"
   ]
  },
  {
   "cell_type": "markdown",
   "id": "9c4e5555-b4fc-4cd9-acea-f54ff5aef1ad",
   "metadata": {},
   "source": [
    "To start with, we import three datasets that are available from YouNiverse:\n",
    "\n",
    "``df_channels_en.tsv.gz``   \n",
    "``df_timeseries_en.tsv.gz``   \n",
    "``yt_metadata_helper.feather``\n",
    "\n",
    "We will filter the channels that have been identified as Gaming."
   ]
  },
  {
   "cell_type": "code",
   "execution_count": 2,
   "id": "df97ef38",
   "metadata": {},
   "outputs": [],
   "source": [
    "df_channels = pd.read_csv(\"./data/df_channels_en.tsv.gz\", compression=\"infer\", sep=\"\\t\")\n",
    "df_channels[\"join_date\"] = pd.to_datetime(df_channels[\"join_date\"])\n",
    "\n",
    "df_channels = df_channels[df_channels['category_cc'] == \"Gaming\"]\n",
    "channel_id_gaming = df_channels.channel"
   ]
  },
  {
   "cell_type": "code",
   "execution_count": 3,
   "id": "4854def5",
   "metadata": {},
   "outputs": [
    {
     "data": {
      "text/html": [
       "<div>\n",
       "<style scoped>\n",
       "    .dataframe tbody tr th:only-of-type {\n",
       "        vertical-align: middle;\n",
       "    }\n",
       "\n",
       "    .dataframe tbody tr th {\n",
       "        vertical-align: top;\n",
       "    }\n",
       "\n",
       "    .dataframe thead th {\n",
       "        text-align: right;\n",
       "    }\n",
       "</style>\n",
       "<table border=\"1\" class=\"dataframe\">\n",
       "  <thead>\n",
       "    <tr style=\"text-align: right;\">\n",
       "      <th></th>\n",
       "      <th>category_cc</th>\n",
       "      <th>join_date</th>\n",
       "      <th>channel</th>\n",
       "      <th>name_cc</th>\n",
       "      <th>subscribers_cc</th>\n",
       "      <th>videos_cc</th>\n",
       "      <th>subscriber_rank_sb</th>\n",
       "      <th>weights</th>\n",
       "    </tr>\n",
       "  </thead>\n",
       "  <tbody>\n",
       "    <tr>\n",
       "      <th>0</th>\n",
       "      <td>Gaming</td>\n",
       "      <td>2010-04-29</td>\n",
       "      <td>UC-lHJZR3Gqxm24_Vd_AJ5Yw</td>\n",
       "      <td>PewDiePie</td>\n",
       "      <td>101000000</td>\n",
       "      <td>3956</td>\n",
       "      <td>3.0</td>\n",
       "      <td>2.087</td>\n",
       "    </tr>\n",
       "    <tr>\n",
       "      <th>10</th>\n",
       "      <td>Gaming</td>\n",
       "      <td>2015-04-06</td>\n",
       "      <td>UCEdvpU2pFRCVqU6yIPyTpMQ</td>\n",
       "      <td>Marshmello</td>\n",
       "      <td>39100000</td>\n",
       "      <td>366</td>\n",
       "      <td>18.0</td>\n",
       "      <td>2.087</td>\n",
       "    </tr>\n",
       "    <tr>\n",
       "      <th>41</th>\n",
       "      <td>Gaming</td>\n",
       "      <td>2012-05-26</td>\n",
       "      <td>UC7_YxT-KID8kRbqZo7MyscQ</td>\n",
       "      <td>Markiplier</td>\n",
       "      <td>24400000</td>\n",
       "      <td>4484</td>\n",
       "      <td>86.0</td>\n",
       "      <td>2.087</td>\n",
       "    </tr>\n",
       "    <tr>\n",
       "      <th>42</th>\n",
       "      <td>Gaming</td>\n",
       "      <td>2011-09-15</td>\n",
       "      <td>UCKqH_9mk1waLgBiL2vT5b9g</td>\n",
       "      <td>VanossGaming</td>\n",
       "      <td>24800000</td>\n",
       "      <td>1079</td>\n",
       "      <td>87.0</td>\n",
       "      <td>2.087</td>\n",
       "    </tr>\n",
       "    <tr>\n",
       "      <th>52</th>\n",
       "      <td>Gaming</td>\n",
       "      <td>2007-02-24</td>\n",
       "      <td>UCYzPXprvl5Y-Sf0g4vX-m6g</td>\n",
       "      <td>jacksepticeye</td>\n",
       "      <td>22833014</td>\n",
       "      <td>4255</td>\n",
       "      <td>99.0</td>\n",
       "      <td>2.087</td>\n",
       "    </tr>\n",
       "  </tbody>\n",
       "</table>\n",
       "</div>"
      ],
      "text/plain": [
       "   category_cc  join_date                   channel        name_cc  \\\n",
       "0       Gaming 2010-04-29  UC-lHJZR3Gqxm24_Vd_AJ5Yw      PewDiePie   \n",
       "10      Gaming 2015-04-06  UCEdvpU2pFRCVqU6yIPyTpMQ     Marshmello   \n",
       "41      Gaming 2012-05-26  UC7_YxT-KID8kRbqZo7MyscQ     Markiplier   \n",
       "42      Gaming 2011-09-15  UCKqH_9mk1waLgBiL2vT5b9g   VanossGaming   \n",
       "52      Gaming 2007-02-24  UCYzPXprvl5Y-Sf0g4vX-m6g  jacksepticeye   \n",
       "\n",
       "    subscribers_cc  videos_cc  subscriber_rank_sb  weights  \n",
       "0        101000000       3956                 3.0    2.087  \n",
       "10        39100000        366                18.0    2.087  \n",
       "41        24400000       4484                86.0    2.087  \n",
       "42        24800000       1079                87.0    2.087  \n",
       "52        22833014       4255                99.0    2.087  "
      ]
     },
     "execution_count": 3,
     "metadata": {},
     "output_type": "execute_result"
    }
   ],
   "source": [
    "df_channels.head()"
   ]
  },
  {
   "cell_type": "code",
   "execution_count": 4,
   "id": "2c93da3e-46e0-4e9b-98dc-c725a9d981fa",
   "metadata": {},
   "outputs": [],
   "source": [
    "df_time_series = pd.read_csv(\n",
    "    \"./data/df_timeseries_en.tsv.gz\", compression=\"infer\", sep=\"\\t\"\n",
    ")\n",
    "df_time_series[\"datetime\"] = pd.to_datetime(df_time_series[\"datetime\"])\n",
    "# round the total number of subscribers, it is easier to consider 1 person and instead half of a person...\n",
    "df_time_series.subs = df_time_series.subs.round(0)\n",
    "\n",
    "# we filter the channels being labeled as \"Gaming\" in df_channels_en.tsv.gz\n",
    "df_time_series = df_time_series[\n",
    "    df_time_series['channel'].isin(channel_id_gaming)\n",
    "]"
   ]
  },
  {
   "cell_type": "code",
   "execution_count": 5,
   "id": "b7e99c72",
   "metadata": {},
   "outputs": [
    {
     "data": {
      "text/html": [
       "<div>\n",
       "<style scoped>\n",
       "    .dataframe tbody tr th:only-of-type {\n",
       "        vertical-align: middle;\n",
       "    }\n",
       "\n",
       "    .dataframe tbody tr th {\n",
       "        vertical-align: top;\n",
       "    }\n",
       "\n",
       "    .dataframe thead th {\n",
       "        text-align: right;\n",
       "    }\n",
       "</style>\n",
       "<table border=\"1\" class=\"dataframe\">\n",
       "  <thead>\n",
       "    <tr style=\"text-align: right;\">\n",
       "      <th></th>\n",
       "      <th>channel</th>\n",
       "      <th>category</th>\n",
       "      <th>datetime</th>\n",
       "      <th>views</th>\n",
       "      <th>delta_views</th>\n",
       "      <th>subs</th>\n",
       "      <th>delta_subs</th>\n",
       "      <th>videos</th>\n",
       "      <th>delta_videos</th>\n",
       "      <th>activity</th>\n",
       "    </tr>\n",
       "  </thead>\n",
       "  <tbody>\n",
       "    <tr>\n",
       "      <th>435</th>\n",
       "      <td>UCNNLaOkE-rcthxNssSHET2A</td>\n",
       "      <td>Gaming</td>\n",
       "      <td>2017-05-15</td>\n",
       "      <td>21755.111111</td>\n",
       "      <td>19051.111111</td>\n",
       "      <td>4980.0</td>\n",
       "      <td>0.000000</td>\n",
       "      <td>4</td>\n",
       "      <td>0</td>\n",
       "      <td>4</td>\n",
       "    </tr>\n",
       "    <tr>\n",
       "      <th>436</th>\n",
       "      <td>UCNNLaOkE-rcthxNssSHET2A</td>\n",
       "      <td>Gaming</td>\n",
       "      <td>2017-05-22</td>\n",
       "      <td>63875.750000</td>\n",
       "      <td>42120.638889</td>\n",
       "      <td>7588.0</td>\n",
       "      <td>2607.805556</td>\n",
       "      <td>6</td>\n",
       "      <td>2</td>\n",
       "      <td>6</td>\n",
       "    </tr>\n",
       "    <tr>\n",
       "      <th>437</th>\n",
       "      <td>UCNNLaOkE-rcthxNssSHET2A</td>\n",
       "      <td>Gaming</td>\n",
       "      <td>2017-05-29</td>\n",
       "      <td>131038.375000</td>\n",
       "      <td>67162.625000</td>\n",
       "      <td>11309.0</td>\n",
       "      <td>3720.875000</td>\n",
       "      <td>9</td>\n",
       "      <td>3</td>\n",
       "      <td>6</td>\n",
       "    </tr>\n",
       "    <tr>\n",
       "      <th>438</th>\n",
       "      <td>UCNNLaOkE-rcthxNssSHET2A</td>\n",
       "      <td>Gaming</td>\n",
       "      <td>2017-06-05</td>\n",
       "      <td>216735.000000</td>\n",
       "      <td>85696.625000</td>\n",
       "      <td>19353.0</td>\n",
       "      <td>8043.875000</td>\n",
       "      <td>13</td>\n",
       "      <td>4</td>\n",
       "      <td>8</td>\n",
       "    </tr>\n",
       "    <tr>\n",
       "      <th>439</th>\n",
       "      <td>UCNNLaOkE-rcthxNssSHET2A</td>\n",
       "      <td>Gaming</td>\n",
       "      <td>2017-06-12</td>\n",
       "      <td>396499.666667</td>\n",
       "      <td>179764.666667</td>\n",
       "      <td>22547.0</td>\n",
       "      <td>3193.555556</td>\n",
       "      <td>16</td>\n",
       "      <td>3</td>\n",
       "      <td>7</td>\n",
       "    </tr>\n",
       "  </tbody>\n",
       "</table>\n",
       "</div>"
      ],
      "text/plain": [
       "                      channel category   datetime          views  \\\n",
       "435  UCNNLaOkE-rcthxNssSHET2A   Gaming 2017-05-15   21755.111111   \n",
       "436  UCNNLaOkE-rcthxNssSHET2A   Gaming 2017-05-22   63875.750000   \n",
       "437  UCNNLaOkE-rcthxNssSHET2A   Gaming 2017-05-29  131038.375000   \n",
       "438  UCNNLaOkE-rcthxNssSHET2A   Gaming 2017-06-05  216735.000000   \n",
       "439  UCNNLaOkE-rcthxNssSHET2A   Gaming 2017-06-12  396499.666667   \n",
       "\n",
       "       delta_views     subs   delta_subs  videos  delta_videos  activity  \n",
       "435   19051.111111   4980.0     0.000000       4             0         4  \n",
       "436   42120.638889   7588.0  2607.805556       6             2         6  \n",
       "437   67162.625000  11309.0  3720.875000       9             3         6  \n",
       "438   85696.625000  19353.0  8043.875000      13             4         8  \n",
       "439  179764.666667  22547.0  3193.555556      16             3         7  "
      ]
     },
     "execution_count": 5,
     "metadata": {},
     "output_type": "execute_result"
    }
   ],
   "source": [
    "df_time_series.head()"
   ]
  },
  {
   "cell_type": "code",
   "execution_count": 6,
   "id": "bfb8de83-f104-4db7-a03d-45eedff3600d",
   "metadata": {},
   "outputs": [],
   "source": [
    "video_metadatas = pd.read_feather(\n",
    "    \"./data/yt_metadata_helper.feather\",\n",
    "    columns=[\n",
    "        \"categories\",\n",
    "        \"upload_date\",\n",
    "        \"duration\",\n",
    "        \"like_count\",\n",
    "        \"dislike_count\",\n",
    "        \"view_count\",\n",
    "        \"channel_id\",\n",
    "        \"display_id\"\n",
    "    ],\n",
    ")\n",
    "\n",
    "video_metadatas[\"yearNumber\"] = video_metadatas[\"upload_date\"].dt.year\n",
    "video_metadatas[\"weekNumber\"] = video_metadatas[\"upload_date\"].dt.weekday\n",
    "\n",
    "# we filter the channels being labeled as \"Gaming\" in df_channels_en.tsv.gz\n",
    "video_metadatas = video_metadatas[\n",
    "    video_metadatas['channel_id'].isin(channel_id_gaming)\n",
    "]"
   ]
  },
  {
   "cell_type": "code",
   "execution_count": 7,
   "id": "2d574dee",
   "metadata": {},
   "outputs": [
    {
     "data": {
      "text/html": [
       "<div>\n",
       "<style scoped>\n",
       "    .dataframe tbody tr th:only-of-type {\n",
       "        vertical-align: middle;\n",
       "    }\n",
       "\n",
       "    .dataframe tbody tr th {\n",
       "        vertical-align: top;\n",
       "    }\n",
       "\n",
       "    .dataframe thead th {\n",
       "        text-align: right;\n",
       "    }\n",
       "</style>\n",
       "<table border=\"1\" class=\"dataframe\">\n",
       "  <thead>\n",
       "    <tr style=\"text-align: right;\">\n",
       "      <th></th>\n",
       "      <th>categories</th>\n",
       "      <th>upload_date</th>\n",
       "      <th>duration</th>\n",
       "      <th>like_count</th>\n",
       "      <th>dislike_count</th>\n",
       "      <th>view_count</th>\n",
       "      <th>channel_id</th>\n",
       "      <th>display_id</th>\n",
       "      <th>yearNumber</th>\n",
       "      <th>weekNumber</th>\n",
       "    </tr>\n",
       "  </thead>\n",
       "  <tbody>\n",
       "    <tr>\n",
       "      <th>0</th>\n",
       "      <td>Film &amp; Animation</td>\n",
       "      <td>2016-09-28</td>\n",
       "      <td>1159</td>\n",
       "      <td>8.0</td>\n",
       "      <td>1.0</td>\n",
       "      <td>1057.0</td>\n",
       "      <td>UCzWrhkg9eK5I8Bm3HfV-unA</td>\n",
       "      <td>SBqSc91Hn9g</td>\n",
       "      <td>2016</td>\n",
       "      <td>2</td>\n",
       "    </tr>\n",
       "    <tr>\n",
       "      <th>1</th>\n",
       "      <td>Film &amp; Animation</td>\n",
       "      <td>2016-09-28</td>\n",
       "      <td>2681</td>\n",
       "      <td>23.0</td>\n",
       "      <td>1.0</td>\n",
       "      <td>12894.0</td>\n",
       "      <td>UCzWrhkg9eK5I8Bm3HfV-unA</td>\n",
       "      <td>UuugEl86ESY</td>\n",
       "      <td>2016</td>\n",
       "      <td>2</td>\n",
       "    </tr>\n",
       "    <tr>\n",
       "      <th>2</th>\n",
       "      <td>Film &amp; Animation</td>\n",
       "      <td>2016-09-28</td>\n",
       "      <td>1394</td>\n",
       "      <td>1607.0</td>\n",
       "      <td>779.0</td>\n",
       "      <td>1800602.0</td>\n",
       "      <td>UCzWrhkg9eK5I8Bm3HfV-unA</td>\n",
       "      <td>oB4c-yvnbjs</td>\n",
       "      <td>2016</td>\n",
       "      <td>2</td>\n",
       "    </tr>\n",
       "    <tr>\n",
       "      <th>3</th>\n",
       "      <td>Film &amp; Animation</td>\n",
       "      <td>2016-09-28</td>\n",
       "      <td>5064</td>\n",
       "      <td>227.0</td>\n",
       "      <td>24.0</td>\n",
       "      <td>57640.0</td>\n",
       "      <td>UCzWrhkg9eK5I8Bm3HfV-unA</td>\n",
       "      <td>ZaV-gTCMV8E</td>\n",
       "      <td>2016</td>\n",
       "      <td>2</td>\n",
       "    </tr>\n",
       "    <tr>\n",
       "      <th>4</th>\n",
       "      <td>Film &amp; Animation</td>\n",
       "      <td>2016-09-28</td>\n",
       "      <td>3554</td>\n",
       "      <td>105.0</td>\n",
       "      <td>13.0</td>\n",
       "      <td>86368.0</td>\n",
       "      <td>UCzWrhkg9eK5I8Bm3HfV-unA</td>\n",
       "      <td>cGvL7AvMfM0</td>\n",
       "      <td>2016</td>\n",
       "      <td>2</td>\n",
       "    </tr>\n",
       "  </tbody>\n",
       "</table>\n",
       "</div>"
      ],
      "text/plain": [
       "         categories upload_date  duration  like_count  dislike_count  \\\n",
       "0  Film & Animation  2016-09-28      1159         8.0            1.0   \n",
       "1  Film & Animation  2016-09-28      2681        23.0            1.0   \n",
       "2  Film & Animation  2016-09-28      1394      1607.0          779.0   \n",
       "3  Film & Animation  2016-09-28      5064       227.0           24.0   \n",
       "4  Film & Animation  2016-09-28      3554       105.0           13.0   \n",
       "\n",
       "   view_count                channel_id   display_id  yearNumber  weekNumber  \n",
       "0      1057.0  UCzWrhkg9eK5I8Bm3HfV-unA  SBqSc91Hn9g        2016           2  \n",
       "1     12894.0  UCzWrhkg9eK5I8Bm3HfV-unA  UuugEl86ESY        2016           2  \n",
       "2   1800602.0  UCzWrhkg9eK5I8Bm3HfV-unA  oB4c-yvnbjs        2016           2  \n",
       "3     57640.0  UCzWrhkg9eK5I8Bm3HfV-unA  ZaV-gTCMV8E        2016           2  \n",
       "4     86368.0  UCzWrhkg9eK5I8Bm3HfV-unA  cGvL7AvMfM0        2016           2  "
      ]
     },
     "execution_count": 7,
     "metadata": {},
     "output_type": "execute_result"
    }
   ],
   "source": [
    "video_metadatas.head()"
   ]
  },
  {
   "cell_type": "code",
   "execution_count": 8,
   "id": "2a276434",
   "metadata": {},
   "outputs": [
    {
     "data": {
      "text/plain": [
       "20143"
      ]
     },
     "execution_count": 8,
     "metadata": {},
     "output_type": "execute_result"
    }
   ],
   "source": [
    "len(df_channels)"
   ]
  },
  {
   "cell_type": "code",
   "execution_count": 9,
   "id": "d16f9ec6",
   "metadata": {},
   "outputs": [
    {
     "data": {
      "text/plain": [
       "19698"
      ]
     },
     "execution_count": 9,
     "metadata": {},
     "output_type": "execute_result"
    }
   ],
   "source": [
    "len(df_time_series.groupby(\"channel\").count())"
   ]
  },
  {
   "cell_type": "code",
   "execution_count": 10,
   "id": "1380d431",
   "metadata": {},
   "outputs": [
    {
     "data": {
      "text/plain": [
       "20143"
      ]
     },
     "execution_count": 10,
     "metadata": {},
     "output_type": "execute_result"
    }
   ],
   "source": [
    "len(video_metadatas.groupby(\"channel_id\").count())"
   ]
  },
  {
   "cell_type": "markdown",
   "id": "a032b52c",
   "metadata": {},
   "source": [
    "Since the `df_time_series` only has data from early January 2015 to end September 2019, we will filter out the videos within this time frame for `video_metadatas` for consistency."
   ]
  },
  {
   "cell_type": "code",
   "execution_count": 11,
   "id": "e3c22581",
   "metadata": {},
   "outputs": [],
   "source": [
    "video_metadatas = video_metadatas[ (video_metadatas['upload_date'] > df_time_series.datetime.min()) & \n",
    "                                   (video_metadatas['upload_date'] < df_time_series.datetime.max()) ]"
   ]
  },
  {
   "cell_type": "markdown",
   "id": "81392b16",
   "metadata": {},
   "source": [
    "We will now start filtering out the channels we want, which are those with more than XX % of gaming videos and upload videos every XX days or more. Before the filtering, we have 20143 channels in `video_metadatas` labelled as \"Gaming\"."
   ]
  },
  {
   "cell_type": "code",
   "execution_count": 12,
   "id": "4c1e1626",
   "metadata": {},
   "outputs": [],
   "source": [
    "# we want to select the channels with more than 60% of gaming videos, therefore, we will filter these channels\n",
    "video_metadatas['is_gaming'] = (video_metadatas.categories == \"Gaming\")\n",
    "\n",
    "count_per_channel = pd.DataFrame(video_metadatas.groupby(\"channel_id\").count().categories).reset_index().rename(columns={\"categories\":\"nr_videos\"})\n",
    "game_video_count_per_channel = pd.DataFrame(video_metadatas.groupby(\"channel_id\").sum().is_gaming).reset_index()\n",
    "\n",
    "channel_selection = count_per_channel.merge(game_video_count_per_channel)\n",
    "channel_selection[\"pct_gaming\"] = channel_selection.is_gaming / channel_selection.nr_videos"
   ]
  },
  {
   "cell_type": "code",
   "execution_count": 13,
   "id": "609a1a0f",
   "metadata": {},
   "outputs": [],
   "source": [
    "pct_level = 0.6\n",
    "selected_channels = list(channel_selection[channel_selection['pct_gaming'] >= pct_level ].channel_id)"
   ]
  },
  {
   "cell_type": "code",
   "execution_count": 14,
   "id": "b7c0b007",
   "metadata": {},
   "outputs": [
    {
     "data": {
      "text/plain": [
       "18230"
      ]
     },
     "execution_count": 14,
     "metadata": {},
     "output_type": "execute_result"
    }
   ],
   "source": [
    "len(selected_channels)"
   ]
  },
  {
   "cell_type": "markdown",
   "id": "8760cb7c",
   "metadata": {},
   "source": [
    "After the filtering, we now have 18230 channels. We now want to filter out the channels that upload videos too frequently or too infrequent, as they are not of our interest."
   ]
  },
  {
   "cell_type": "code",
   "execution_count": 15,
   "id": "758656d4",
   "metadata": {},
   "outputs": [],
   "source": [
    "# we also want to filter out channels that upload too frequently, as we are interested in things that could be done by an individual\n",
    "last_vid_date = pd.DataFrame(video_metadatas.groupby(\"channel_id\").max().\n",
    "                             upload_date).reset_index().rename(columns={\"upload_date\":\"last_vid_date\"})\n",
    "first_vid_date = pd.DataFrame(video_metadatas.groupby(\"channel_id\").min().\n",
    "                              upload_date).reset_index().rename(columns={\"upload_date\":\"first_vid_date\"})\n",
    "total_vids = pd.DataFrame(video_metadatas.groupby(\"channel_id\").count().\n",
    "                          display_id).reset_index().rename(columns={\"display_id\":\"total_vids\"})"
   ]
  },
  {
   "cell_type": "code",
   "execution_count": 16,
   "id": "003b816e",
   "metadata": {},
   "outputs": [],
   "source": [
    "channel_selection = first_vid_date.merge(last_vid_date)\n",
    "channel_selection = channel_selection.merge(total_vids)\n",
    "channel_selection['active_days'] = (channel_selection.last_vid_date - channel_selection.first_vid_date).dt.days\n",
    "channel_selection['upload_interval'] = channel_selection.active_days / channel_selection.total_vids"
   ]
  },
  {
   "cell_type": "code",
   "execution_count": 17,
   "id": "0fb8882b",
   "metadata": {},
   "outputs": [],
   "source": [
    "min_upload_interval = 2 # in days, the channel upload videos on average every x days \n",
    "max_upload_interval = 90\n",
    "selected_channels = list(channel_selection[(channel_selection['upload_interval'] > min_upload_interval) & \n",
    "                                           (channel_selection['upload_interval'] < max_upload_interval) ].channel_id)"
   ]
  },
  {
   "cell_type": "code",
   "execution_count": 18,
   "id": "87ef1e9c",
   "metadata": {},
   "outputs": [
    {
     "data": {
      "text/plain": [
       "14730"
      ]
     },
     "execution_count": 18,
     "metadata": {},
     "output_type": "execute_result"
    }
   ],
   "source": [
    "len(selected_channels)"
   ]
  },
  {
   "cell_type": "markdown",
   "id": "c4e1889c",
   "metadata": {},
   "source": [
    "Here, we filtered out channels that uploaded videos every 2 days or less. Now we have 14730 channels.\n",
    "\n",
    "Note that `df_time_series` contains less channels than `df_channels` and `video_metadatas`. In order to keep consistency, we will take the channels that can be found across three dataframes."
   ]
  },
  {
   "cell_type": "code",
   "execution_count": 19,
   "id": "1e138332",
   "metadata": {},
   "outputs": [],
   "source": [
    "df_time_series = df_time_series[df_time_series['channel'].isin(selected_channels)]"
   ]
  },
  {
   "cell_type": "code",
   "execution_count": 20,
   "id": "f085ddf6",
   "metadata": {},
   "outputs": [],
   "source": [
    "selected_channels = list(df_time_series.groupby(\"channel\").count().reset_index().channel)"
   ]
  },
  {
   "cell_type": "code",
   "execution_count": 21,
   "id": "23165ef0",
   "metadata": {},
   "outputs": [
    {
     "data": {
      "text/plain": [
       "14380"
      ]
     },
     "execution_count": 21,
     "metadata": {},
     "output_type": "execute_result"
    }
   ],
   "source": [
    "len(selected_channels)"
   ]
  },
  {
   "cell_type": "code",
   "execution_count": 22,
   "id": "d99d6ade",
   "metadata": {},
   "outputs": [],
   "source": [
    "df_channels = df_channels[df_channels['channel'].isin(selected_channels)]"
   ]
  },
  {
   "cell_type": "code",
   "execution_count": 23,
   "id": "85fc232c",
   "metadata": {},
   "outputs": [
    {
     "data": {
      "text/plain": [
       "14380"
      ]
     },
     "execution_count": 23,
     "metadata": {},
     "output_type": "execute_result"
    }
   ],
   "source": [
    "len(df_channels)"
   ]
  },
  {
   "cell_type": "code",
   "execution_count": 24,
   "id": "8f80c1b3",
   "metadata": {},
   "outputs": [],
   "source": [
    "video_metadatas = video_metadatas[video_metadatas['channel_id'].isin(selected_channels)]"
   ]
  },
  {
   "cell_type": "code",
   "execution_count": 25,
   "id": "ee68de9b",
   "metadata": {},
   "outputs": [
    {
     "data": {
      "text/plain": [
       "14380"
      ]
     },
     "execution_count": 25,
     "metadata": {},
     "output_type": "execute_result"
    }
   ],
   "source": [
    "len(video_metadatas.groupby(\"channel_id\").count())"
   ]
  },
  {
   "cell_type": "markdown",
   "id": "c191d301",
   "metadata": {},
   "source": [
    "We also import a dataset that is created by us, .......  \n",
    "\n",
    "We will filter the channels that have been identified as Gaming, People & Blogs, or Comedy later on. Note that this does not necessarily mean that all the videos from those channels are in these categories."
   ]
  },
  {
   "cell_type": "code",
   "execution_count": 26,
   "id": "f6dc9dc4",
   "metadata": {},
   "outputs": [],
   "source": [
    "titles_metadata = pd.read_feather(\n",
    "    \"./data/yt_metadata_title_helper.feather\")\n",
    "\n",
    "titles_metadata = titles_metadata[\n",
    "    titles_metadata['display_id'].isin(video_metadatas.display_id)\n",
    "]"
   ]
  },
  {
   "cell_type": "code",
   "execution_count": 27,
   "id": "70ecc4d3",
   "metadata": {},
   "outputs": [
    {
     "data": {
      "text/html": [
       "<div>\n",
       "<style scoped>\n",
       "    .dataframe tbody tr th:only-of-type {\n",
       "        vertical-align: middle;\n",
       "    }\n",
       "\n",
       "    .dataframe tbody tr th {\n",
       "        vertical-align: top;\n",
       "    }\n",
       "\n",
       "    .dataframe thead th {\n",
       "        text-align: right;\n",
       "    }\n",
       "</style>\n",
       "<table border=\"1\" class=\"dataframe\">\n",
       "  <thead>\n",
       "    <tr style=\"text-align: right;\">\n",
       "      <th></th>\n",
       "      <th>categories</th>\n",
       "      <th>display_id</th>\n",
       "      <th>title</th>\n",
       "    </tr>\n",
       "  </thead>\n",
       "  <tbody>\n",
       "    <tr>\n",
       "      <th>1792</th>\n",
       "      <td>Gaming</td>\n",
       "      <td>M0x6TJmMwL4</td>\n",
       "      <td>Blasphemous is Amazing!</td>\n",
       "    </tr>\n",
       "    <tr>\n",
       "      <th>1793</th>\n",
       "      <td>Gaming</td>\n",
       "      <td>ofAIp6dad00</td>\n",
       "      <td>I review all 42 Genesis Mini games</td>\n",
       "    </tr>\n",
       "    <tr>\n",
       "      <th>1794</th>\n",
       "      <td>Gaming</td>\n",
       "      <td>cXHRNThI27A</td>\n",
       "      <td>Disenchantment Jester Season 2</td>\n",
       "    </tr>\n",
       "    <tr>\n",
       "      <th>1795</th>\n",
       "      <td>Gaming</td>\n",
       "      <td>cDSo3mUNEEM</td>\n",
       "      <td>💀 Death Stranding is boring as Hell</td>\n",
       "    </tr>\n",
       "    <tr>\n",
       "      <th>1796</th>\n",
       "      <td>Gaming</td>\n",
       "      <td>rJmT1Rq24qE</td>\n",
       "      <td>Happy Friday the 13th. I'm going to try and fi...</td>\n",
       "    </tr>\n",
       "  </tbody>\n",
       "</table>\n",
       "</div>"
      ],
      "text/plain": [
       "     categories   display_id  \\\n",
       "1792     Gaming  M0x6TJmMwL4   \n",
       "1793     Gaming  ofAIp6dad00   \n",
       "1794     Gaming  cXHRNThI27A   \n",
       "1795     Gaming  cDSo3mUNEEM   \n",
       "1796     Gaming  rJmT1Rq24qE   \n",
       "\n",
       "                                                  title  \n",
       "1792                            Blasphemous is Amazing!  \n",
       "1793                 I review all 42 Genesis Mini games  \n",
       "1794                     Disenchantment Jester Season 2  \n",
       "1795                💀 Death Stranding is boring as Hell  \n",
       "1796  Happy Friday the 13th. I'm going to try and fi...  "
      ]
     },
     "execution_count": 27,
     "metadata": {},
     "output_type": "execute_result"
    }
   ],
   "source": [
    "titles_metadata.head()"
   ]
  },
  {
   "cell_type": "code",
   "execution_count": 28,
   "id": "333d7f10",
   "metadata": {},
   "outputs": [],
   "source": [
    "tags_metadata = pd.read_feather(\n",
    "    \"./data/yt_metadata_tags_helper.feather\")\n",
    "\n",
    "tags_metadata = tags_metadata[\n",
    "    tags_metadata['display_id'].isin(video_metadatas.display_id)\n",
    "]"
   ]
  },
  {
   "cell_type": "code",
   "execution_count": 29,
   "id": "99b37b20",
   "metadata": {},
   "outputs": [
    {
     "data": {
      "text/html": [
       "<div>\n",
       "<style scoped>\n",
       "    .dataframe tbody tr th:only-of-type {\n",
       "        vertical-align: middle;\n",
       "    }\n",
       "\n",
       "    .dataframe tbody tr th {\n",
       "        vertical-align: top;\n",
       "    }\n",
       "\n",
       "    .dataframe thead th {\n",
       "        text-align: right;\n",
       "    }\n",
       "</style>\n",
       "<table border=\"1\" class=\"dataframe\">\n",
       "  <thead>\n",
       "    <tr style=\"text-align: right;\">\n",
       "      <th></th>\n",
       "      <th>categories</th>\n",
       "      <th>display_id</th>\n",
       "      <th>tags</th>\n",
       "    </tr>\n",
       "  </thead>\n",
       "  <tbody>\n",
       "    <tr>\n",
       "      <th>1792</th>\n",
       "      <td>Gaming</td>\n",
       "      <td>M0x6TJmMwL4</td>\n",
       "      <td>video,games,retrogamer3,ed,findlay,Blasphemous...</td>\n",
       "    </tr>\n",
       "    <tr>\n",
       "      <th>1793</th>\n",
       "      <td>Gaming</td>\n",
       "      <td>ofAIp6dad00</td>\n",
       "      <td>video,games,retrogamer3,ed,findlay,Sega,Genesi...</td>\n",
       "    </tr>\n",
       "    <tr>\n",
       "      <th>1794</th>\n",
       "      <td>Gaming</td>\n",
       "      <td>cXHRNThI27A</td>\n",
       "      <td>video,games,retrogamer3,ed,findlay,Disenchantm...</td>\n",
       "    </tr>\n",
       "    <tr>\n",
       "      <th>1795</th>\n",
       "      <td>Gaming</td>\n",
       "      <td>cDSo3mUNEEM</td>\n",
       "      <td>video,games,retrogamer3,ed,findlay,Death Stran...</td>\n",
       "    </tr>\n",
       "    <tr>\n",
       "      <th>1796</th>\n",
       "      <td>Gaming</td>\n",
       "      <td>rJmT1Rq24qE</td>\n",
       "      <td>video,games,retrogamer3,ed,findlay,Friday the ...</td>\n",
       "    </tr>\n",
       "  </tbody>\n",
       "</table>\n",
       "</div>"
      ],
      "text/plain": [
       "     categories   display_id  \\\n",
       "1792     Gaming  M0x6TJmMwL4   \n",
       "1793     Gaming  ofAIp6dad00   \n",
       "1794     Gaming  cXHRNThI27A   \n",
       "1795     Gaming  cDSo3mUNEEM   \n",
       "1796     Gaming  rJmT1Rq24qE   \n",
       "\n",
       "                                                   tags  \n",
       "1792  video,games,retrogamer3,ed,findlay,Blasphemous...  \n",
       "1793  video,games,retrogamer3,ed,findlay,Sega,Genesi...  \n",
       "1794  video,games,retrogamer3,ed,findlay,Disenchantm...  \n",
       "1795  video,games,retrogamer3,ed,findlay,Death Stran...  \n",
       "1796  video,games,retrogamer3,ed,findlay,Friday the ...  "
      ]
     },
     "execution_count": 29,
     "metadata": {},
     "output_type": "execute_result"
    }
   ],
   "source": [
    "tags_metadata.head()"
   ]
  },
  {
   "cell_type": "code",
   "execution_count": null,
   "id": "e9622b31",
   "metadata": {},
   "outputs": [],
   "source": []
  },
  {
   "cell_type": "markdown",
   "id": "38ee79b8",
   "metadata": {},
   "source": [
    "# Part 2: Further Analysis Milestone 3\n",
    "\n",
    "Given the results in Part 1 of our Analysis, we decided to focus on the categories of Gaming. The reason behind this choice is because we are trying to help our little brother to succeed, and since he is just a single person without a big team behind him it seems more reasonable than e.g. Movies or Film & Entertainment. Therefore, we decided to eliminate Music, How-to & Style, Education, Science & Technology, Entertainment, Film & Entertainment, People & Blogs, Comedy, Movies and Shows. We decided to investigate the three categories mentioned above also because videos uploaded can be addressed to audiences of all three categories.\n",
    "\n",
    "## Key Questions:\n",
    " - Which factors help a YouTuber in Gaming gain more subscribers?\n",
    " - How do sentiments in titles and tags affect views and how do these relationships change over time?"
   ]
  },
  {
   "cell_type": "markdown",
   "id": "ac192b0a",
   "metadata": {},
   "source": [
    "### Sub-Question 1 \n",
    "\n",
    "**Description:** How does the video upload frequency, time of the week, and video length affect the subscription rate of the channels?  \n",
    "**Method:** Model this using a linear regression model.  \n",
    "**Timeline:** By 13/12/2022  \n",
    "**Organization:** Wenxiu  "
   ]
  },
  {
   "cell_type": "code",
   "execution_count": 30,
   "id": "6555e2c3",
   "metadata": {},
   "outputs": [],
   "source": [
    "# we also want to filter out channels that upload too frequently, as we are interested in things that could be done by an individual\n",
    "avg_upload_weekday = pd.DataFrame(video_metadatas.groupby(\"channel_id\").mean().\n",
    "                             weekNumber).reset_index().rename(columns={\"weekNumber\":\"avg_upload_weekday\"})\n",
    "\n",
    "avg_video_duration = pd.DataFrame(video_metadatas.groupby(\"channel_id\").mean().\n",
    "                             duration).reset_index().rename(columns={\"duration\":\"avg_video_duration\"})"
   ]
  },
  {
   "cell_type": "code",
   "execution_count": null,
   "id": "be96957f",
   "metadata": {},
   "outputs": [],
   "source": []
  },
  {
   "cell_type": "code",
   "execution_count": 31,
   "id": "0974b1c0",
   "metadata": {},
   "outputs": [],
   "source": [
    "channel_selection = channel_selection[channel_selection['channel_id'].isin(selected_channels) ]\n",
    "channel_selection = channel_selection.merge(avg_upload_weekday)\n",
    "channel_selection = channel_selection.merge(avg_video_duration)\n",
    "channel_selection = channel_selection.merge(df_channels.loc[:,['channel', 'subscribers_cc']].rename(\n",
    "    columns={\"channel\":\"channel_id\"}))"
   ]
  },
  {
   "cell_type": "code",
   "execution_count": 32,
   "id": "2091ce77",
   "metadata": {},
   "outputs": [],
   "source": [
    "model_data = channel_selection.loc[:,['upload_interval', 'avg_upload_weekday', 'avg_video_duration', 'subscribers_cc']]"
   ]
  },
  {
   "cell_type": "code",
   "execution_count": 33,
   "id": "0845578a",
   "metadata": {},
   "outputs": [],
   "source": [
    "# normalise the data\n",
    "xmean = np.mean(model_data,axis=0)\n",
    "xstd = np.std(model_data,axis=0)\n",
    "Xbzs = (model_data-xmean)/xstd"
   ]
  },
  {
   "cell_type": "code",
   "execution_count": 34,
   "id": "aa6c9ecd",
   "metadata": {},
   "outputs": [
    {
     "data": {
      "text/html": [
       "<div>\n",
       "<style scoped>\n",
       "    .dataframe tbody tr th:only-of-type {\n",
       "        vertical-align: middle;\n",
       "    }\n",
       "\n",
       "    .dataframe tbody tr th {\n",
       "        vertical-align: top;\n",
       "    }\n",
       "\n",
       "    .dataframe thead th {\n",
       "        text-align: right;\n",
       "    }\n",
       "</style>\n",
       "<table border=\"1\" class=\"dataframe\">\n",
       "  <thead>\n",
       "    <tr style=\"text-align: right;\">\n",
       "      <th></th>\n",
       "      <th>upload_interval</th>\n",
       "      <th>avg_upload_weekday</th>\n",
       "      <th>avg_video_duration</th>\n",
       "      <th>subscribers_cc</th>\n",
       "    </tr>\n",
       "  </thead>\n",
       "  <tbody>\n",
       "    <tr>\n",
       "      <th>0</th>\n",
       "      <td>-0.447864</td>\n",
       "      <td>-0.698482</td>\n",
       "      <td>5.425201</td>\n",
       "      <td>-0.210988</td>\n",
       "    </tr>\n",
       "    <tr>\n",
       "      <th>1</th>\n",
       "      <td>-0.098164</td>\n",
       "      <td>0.932943</td>\n",
       "      <td>-0.485641</td>\n",
       "      <td>-0.211463</td>\n",
       "    </tr>\n",
       "    <tr>\n",
       "      <th>2</th>\n",
       "      <td>2.169822</td>\n",
       "      <td>1.192441</td>\n",
       "      <td>-0.457429</td>\n",
       "      <td>-0.176890</td>\n",
       "    </tr>\n",
       "    <tr>\n",
       "      <th>3</th>\n",
       "      <td>-0.384435</td>\n",
       "      <td>-0.226633</td>\n",
       "      <td>-0.208489</td>\n",
       "      <td>-0.177439</td>\n",
       "    </tr>\n",
       "    <tr>\n",
       "      <th>4</th>\n",
       "      <td>-0.204599</td>\n",
       "      <td>0.551936</td>\n",
       "      <td>-0.463959</td>\n",
       "      <td>-0.136927</td>\n",
       "    </tr>\n",
       "    <tr>\n",
       "      <th>5</th>\n",
       "      <td>-0.640058</td>\n",
       "      <td>-0.231730</td>\n",
       "      <td>0.222809</td>\n",
       "      <td>-0.097681</td>\n",
       "    </tr>\n",
       "    <tr>\n",
       "      <th>6</th>\n",
       "      <td>-0.476817</td>\n",
       "      <td>1.238126</td>\n",
       "      <td>-0.604184</td>\n",
       "      <td>-0.205291</td>\n",
       "    </tr>\n",
       "    <tr>\n",
       "      <th>7</th>\n",
       "      <td>0.165938</td>\n",
       "      <td>2.090297</td>\n",
       "      <td>-0.491045</td>\n",
       "      <td>-0.208773</td>\n",
       "    </tr>\n",
       "    <tr>\n",
       "      <th>8</th>\n",
       "      <td>-0.698218</td>\n",
       "      <td>0.220425</td>\n",
       "      <td>0.792583</td>\n",
       "      <td>-0.203824</td>\n",
       "    </tr>\n",
       "  </tbody>\n",
       "</table>\n",
       "</div>"
      ],
      "text/plain": [
       "   upload_interval  avg_upload_weekday  avg_video_duration  subscribers_cc\n",
       "0        -0.447864           -0.698482            5.425201       -0.210988\n",
       "1        -0.098164            0.932943           -0.485641       -0.211463\n",
       "2         2.169822            1.192441           -0.457429       -0.176890\n",
       "3        -0.384435           -0.226633           -0.208489       -0.177439\n",
       "4        -0.204599            0.551936           -0.463959       -0.136927\n",
       "5        -0.640058           -0.231730            0.222809       -0.097681\n",
       "6        -0.476817            1.238126           -0.604184       -0.205291\n",
       "7         0.165938            2.090297           -0.491045       -0.208773\n",
       "8        -0.698218            0.220425            0.792583       -0.203824"
      ]
     },
     "execution_count": 34,
     "metadata": {},
     "output_type": "execute_result"
    }
   ],
   "source": [
    "Xbzs.head(9)"
   ]
  },
  {
   "cell_type": "code",
   "execution_count": 35,
   "id": "970b5047",
   "metadata": {},
   "outputs": [],
   "source": [
    "import statsmodels.formula.api as smf\n",
    "# Declares the model\n",
    "mod = smf.ols(formula='subscribers_cc ~ upload_interval + avg_upload_weekday + avg_video_duration', data=Xbzs)"
   ]
  },
  {
   "cell_type": "code",
   "execution_count": 36,
   "id": "cf8cedb7",
   "metadata": {},
   "outputs": [],
   "source": [
    "# Fits the model (find the optimal coefficients, adding a random seed ensures consistency)\n",
    "np.random.seed(2)\n",
    "res = mod.fit()"
   ]
  },
  {
   "cell_type": "code",
   "execution_count": 37,
   "id": "9b13bd1e",
   "metadata": {},
   "outputs": [
    {
     "name": "stdout",
     "output_type": "stream",
     "text": [
      "                            OLS Regression Results                            \n",
      "==============================================================================\n",
      "Dep. Variable:         subscribers_cc   R-squared:                       0.003\n",
      "Model:                            OLS   Adj. R-squared:                  0.003\n",
      "Method:                 Least Squares   F-statistic:                     13.13\n",
      "Date:                Fri, 16 Dec 2022   Prob (F-statistic):           1.46e-08\n",
      "Time:                        17:23:55   Log-Likelihood:                -20385.\n",
      "No. Observations:               14380   AIC:                         4.078e+04\n",
      "Df Residuals:                   14376   BIC:                         4.081e+04\n",
      "Df Model:                           3                                         \n",
      "Covariance Type:            nonrobust                                         \n",
      "======================================================================================\n",
      "                         coef    std err          t      P>|t|      [0.025      0.975]\n",
      "--------------------------------------------------------------------------------------\n",
      "Intercept          -4.944e-17      0.008  -5.94e-15      1.000      -0.016       0.016\n",
      "upload_interval       -0.0483      0.008     -5.750      0.000      -0.065      -0.032\n",
      "avg_upload_weekday    -0.0011      0.008     -0.129      0.898      -0.017       0.015\n",
      "avg_video_duration    -0.0266      0.008     -3.164      0.002      -0.043      -0.010\n",
      "==============================================================================\n",
      "Omnibus:                    36896.737   Durbin-Watson:                   1.925\n",
      "Prob(Omnibus):                  0.000   Jarque-Bera (JB):       1101330382.728\n",
      "Skew:                          28.941   Prob(JB):                         0.00\n",
      "Kurtosis:                    1357.531   Cond. No.                         1.14\n",
      "==============================================================================\n",
      "\n",
      "Notes:\n",
      "[1] Standard Errors assume that the covariance matrix of the errors is correctly specified.\n"
     ]
    }
   ],
   "source": [
    "# Print thes summary output provided by the library.\n",
    "print(res.summary())"
   ]
  },
  {
   "cell_type": "markdown",
   "id": "3e8e3805",
   "metadata": {},
   "source": [
    "upload interval and average video duration are statistically significant  \n",
    "- higher upload interval - lower subcription rate  \n",
    "- higher average video duration - lower subscription rate\n",
    "\n",
    "time of upload during the week doesn't matter that much"
   ]
  },
  {
   "cell_type": "markdown",
   "id": "f180a346",
   "metadata": {},
   "source": [
    "### Sub-Question 2\n",
    "\n",
    "**Description:** How does the language used in titles affect subscription number?  \n",
    "**Method:** We will classify the sentiments of titles and tags using packages such as NLTK and try to see if this factor affects subscription number of the channels using relevant skills we learned in observational studies.  \n",
    "**Timeline:** By 15/12/2022  \n",
    "**Organization:** Wenxiu  "
   ]
  },
  {
   "cell_type": "code",
   "execution_count": 38,
   "id": "441cce77",
   "metadata": {},
   "outputs": [],
   "source": [
    "#NLP libraries\n",
    "import spacy, nltk, gensim, sklearn\n",
    "\n",
    "#Vader\n",
    "import vaderSentiment\n",
    "from vaderSentiment.vaderSentiment import SentimentIntensityAnalyzer\n",
    "from gensim.models.phrases import Phrases\n",
    "from gensim.corpora import Dictionary\n",
    "from gensim.models import LdaMulticore\n",
    "import pyLDAvis.gensim_models\n",
    "\n",
    "# Initialise the Spacy analyzer in English\n",
    "nlp = spacy.load('en_core_web_sm')"
   ]
  },
  {
   "cell_type": "code",
   "execution_count": 39,
   "id": "51fde3e2",
   "metadata": {},
   "outputs": [],
   "source": [
    "def topic_detection(dataset, datatype):\n",
    "    if (datatype == \"title\"):\n",
    "        new_list = []\n",
    "        # replace all underslash to space\n",
    "        for x in dataset:\n",
    "            new_list.append(x.replace(\"_\", \" \"))\n",
    "    \n",
    "    if (datatype == \"tag\"):\n",
    "        new_list = []\n",
    "        for x in dataset:\n",
    "            step1 = x.replace(\" \", \"_\")\n",
    "            step2 = step1.replace(\",\", \" \")\n",
    "            new_list.append(step2)\n",
    "        \n",
    "    STOPWORDS = spacy.lang.en.stop_words.STOP_WORDS\n",
    "\n",
    "    processed_docs = list()\n",
    "    for doc in nlp.pipe(new_list, n_process=5, batch_size=10):\n",
    "\n",
    "        # Process document using Spacy NLP pipeline.\n",
    "        ents = doc.ents  # Named entities\n",
    "\n",
    "        # Keep only words (no numbers, no punctuation).\n",
    "        # Lemmatize tokens, to lowercase, remove punctuation and remove stopwords.\n",
    "        doc = [token.lemma_.lower() for token in doc if token.is_alpha and not token.is_stop]\n",
    "\n",
    "        # Remove common words from a stopword list and keep only words of length 3 or more.\n",
    "        doc = [token for token in doc if token not in STOPWORDS and len(token) > 2]\n",
    "\n",
    "        # Add named entities, but only if they are a compound of more than word.\n",
    "        doc.extend([str(entity) for entity in ents if len(entity) > 1])\n",
    "\n",
    "        processed_docs.append(doc)\n",
    "    docs = processed_docs\n",
    "    del processed_docs\n",
    "\n",
    "    # Add bigrams to docs (only ones that appear 15 times or more).\n",
    "    bigram = Phrases(docs, min_count=15)\n",
    "\n",
    "    for idx in range(len(docs)):\n",
    "        for token in bigram[docs[idx]]:\n",
    "            if '_' in token:\n",
    "                # Token is a bigram, add to document.\n",
    "                docs[idx].append(token)\n",
    "\n",
    "    # Create a dictionary representation of the documents, and filter out frequent and rare words.\n",
    "    dictionary = Dictionary(docs)\n",
    "\n",
    "    # Remove rare and common tokens.\n",
    "    # Filter out words that occur too frequently or too rarely.\n",
    "    max_freq = 0.5\n",
    "    min_wordcount = 5\n",
    "    dictionary.filter_extremes(no_below=min_wordcount, no_above=max_freq)\n",
    "\n",
    "    # Bag-of-words representation of the documents.\n",
    "    corpus = [dictionary.doc2bow(doc) for doc in docs]\n",
    "\n",
    "    seed = 42\n",
    "    # models\n",
    "    params = {'passes': 10, 'random_state': seed}\n",
    "    base_models = dict()\n",
    "    model = LdaMulticore(corpus=corpus, num_topics=4, id2word=dictionary, workers=6,\n",
    "                    passes=params['passes'], random_state=params['random_state'])\n",
    "    return model, corpus, dictionary\n"
   ]
  },
  {
   "cell_type": "raw",
   "id": "5b68508e",
   "metadata": {},
   "source": [
    "# topic detection for videos in 2015 from titles\n",
    "video_display_id_2015 = video_metadatas[video_metadatas['yearNumber'] == 2015].display_id\n",
    "\n",
    "model, corpus, dictionary = topic_detection( titles_metadata[titles_metadata['display_id'].isin(video_display_id_2015)].title, \"title\" )\n",
    "data =  pyLDAvis.gensim_models.prepare(model, corpus, dictionary)\n",
    "pyLDAvis.display(data)"
   ]
  },
  {
   "cell_type": "raw",
   "id": "8d648027",
   "metadata": {},
   "source": [
    "# topic detection for videos in 2016 from titles\n",
    "video_display_id_2016 = video_metadatas[video_metadatas['yearNumber'] == 2016].display_id\n",
    "\n",
    "model, corpus, dictionary = topic_detection( titles_metadata[titles_metadata['display_id'].isin(video_display_id_2016)].title, \"title\" )\n",
    "data =  pyLDAvis.gensim_models.prepare(model, corpus, dictionary)\n",
    "pyLDAvis.display(data)"
   ]
  },
  {
   "cell_type": "raw",
   "id": "0a146e49",
   "metadata": {},
   "source": [
    "# topic detection for videos in 2017 from titles\n",
    "video_display_id_2017 = video_metadatas[video_metadatas['yearNumber'] == 2017].display_id\n",
    "\n",
    "model, corpus, dictionary = topic_detection( titles_metadata[titles_metadata['display_id'].isin(video_display_id_2017)].title, \"title\" )\n",
    "data =  pyLDAvis.gensim_models.prepare(model, corpus, dictionary)\n",
    "pyLDAvis.display(data)"
   ]
  },
  {
   "cell_type": "raw",
   "id": "2b205e68",
   "metadata": {},
   "source": [
    "# topic detection for videos in 2018 from titles\n",
    "video_display_id_2018 = video_metadatas[video_metadatas['yearNumber'] == 2018].display_id\n",
    "\n",
    "model, corpus, dictionary = topic_detection( titles_metadata[titles_metadata['display_id'].isin(video_display_id_2018)].title, \"title\" )\n",
    "data =  pyLDAvis.gensim_models.prepare(model, corpus, dictionary)\n",
    "pyLDAvis.display(data)"
   ]
  },
  {
   "cell_type": "raw",
   "id": "89ff4394",
   "metadata": {},
   "source": [
    "# topic detection for videos in 2019 from titles\n",
    "video_display_id_2019 = video_metadatas[video_metadatas['yearNumber'] == 2019].display_id\n",
    "\n",
    "model, corpus, dictionary = topic_detection( titles_metadata[titles_metadata['display_id'].isin(video_display_id_2019)].title, \"title\" )\n",
    "data =  pyLDAvis.gensim_models.prepare(model, corpus, dictionary)\n",
    "pyLDAvis.display(data)"
   ]
  },
  {
   "cell_type": "code",
   "execution_count": 40,
   "id": "40a902d0",
   "metadata": {},
   "outputs": [
    {
     "data": {
      "text/html": [
       "\n",
       "<link rel=\"stylesheet\" type=\"text/css\" href=\"https://cdn.jsdelivr.net/gh/bmabey/pyLDAvis@3.3.1/pyLDAvis/js/ldavis.v1.0.0.css\">\n",
       "\n",
       "\n",
       "<div id=\"ldavis_el2795625546863104327671926972\"></div>\n",
       "<script type=\"text/javascript\">\n",
       "\n",
       "var ldavis_el2795625546863104327671926972_data = {\"mdsDat\": {\"x\": [0.13475284663604936, -0.15915110976986446, -0.21349563433339938, 0.23789389746721457], \"y\": [-0.1798720235751786, -0.19803152201380733, 0.21528992094734056, 0.16261362464164525], \"topics\": [1, 2, 3, 4], \"cluster\": [1, 1, 1, 1], \"Freq\": [26.76524428797037, 24.707978802688977, 24.681219631011817, 23.845557278328847]}, \"tinfo\": {\"Term\": [\"fortnite\", \"minecraft\", \"gta\", \"battle\", \"play\", \"online\", \"black\", \"let\", \"fifa\", \"stream\", \"roblox\", \"mod\", \"royale\", \"nba\", \"ops\", \"let_play\", \"gta_online\", \"black_ops\", \"glitch\", \"win\", \"super\", \"funny\", \"android\", \"walkthrough\", \"dragon\", \"pokemon\", \"pack\", \"mario\", \"kill\", \"pubg\", \"fortnite\", \"battle\", \"stream\", \"royale\", \"pokemon\", \"dragon\", \"pubg\", \"kill\", \"moment\", \"win\", \"fortnite_battle\", \"highlights\", \"destiny\", \"ball\", \"skin\", \"pubg_mobile\", \"live_stream\", \"pok\\u00e9mon\", \"clash_royale\", \"rust\", \"dragon_ball\", \"moon\", \"funny_moment\", \"subscriber\", \"dash\", \"souls\", \"fantasy\", \"twitch\", \"geometry\", \"sun\", \"arena\", \"funny\", \"dark\", \"moments\", \"mobile\", \"live\", \"solo\", \"season\", \"new\", \"final\", \"best\", \"gameplay\", \"pro\", \"sonic\", \"game\", \"clash\", \"fifa\", \"let\", \"nba\", \"let_play\", \"android\", \"pack\", \"mario\", \"rainbow\", \"siege\", \"red\", \"rainbow_siege\", \"nintendo\", \"smash\", \"career\", \"switch\", \"wwe\", \"forza\", \"grand\", \"super_mario\", \"horizon\", \"zelda\", \"forza_horizon\", \"ios\", \"unboxing\", \"vlog\", \"nintendo_switch\", \"growtopia\", \"madden\", \"wii\", \"champion\", \"league_legend\", \"talk\", \"play\", \"super\", \"legend\", \"ultimate\", \"team\", \"games\", \"game\", \"league\", \"best\", \"opening\", \"dead\", \"gameplay\", \"review\", \"new\", \"mode\", \"episode\", \"pro\", \"minecraft\", \"walkthrough\", \"story\", \"edition\", \"speed\", \"overwatch\", \"wars\", \"sims\", \"drive\", \"house\", \"monster\", \"music\", \"ghost\", \"hunter\", \"school\", \"star_wars\", \"crash\", \"battlefront\", \"love\", \"baby\", \"mortal\", \"kombat\", \"assassin\", \"mortal_kombat\", \"chapter\", \"animal\", \"gameplay_walkthrough\", \"mega\", \"skyrim\", \"beamng\", \"animation\", \"star\", \"episode\", \"build\", \"world\", \"commentary\", \"gameplay\", \"video\", \"game\", \"war\", \"trailer\", \"play\", \"mode\", \"games\", \"survival\", \"challenge\", \"map\", \"new\", \"gta\", \"online\", \"black\", \"roblox\", \"mod\", \"ops\", \"gta_online\", \"black_ops\", \"glitch\", \"simulator\", \"dlc\", \"duty\", \"ark\", \"warfare\", \"zombie\", \"evil\", \"cod\", \"legends\", \"money\", \"clans\", \"gear\", \"gun\", \"zombies\", \"glitches\", \"clash_clans\", \"weapon\", \"rocket\", \"night\", \"modded\", \"battlefield\", \"base\", \"new\", \"war\", \"update\", \"clash\", \"gameplay\", \"league\", \"best\", \"car\"], \"Freq\": [137622.0, 128356.0, 122511.0, 85557.0, 121518.0, 72738.0, 61517.0, 62157.0, 60764.0, 64003.0, 56392.0, 54347.0, 57564.0, 52567.0, 49100.0, 43226.0, 40889.0, 39553.0, 38899.0, 40875.0, 53903.0, 58581.0, 35200.0, 34872.0, 36585.0, 36144.0, 33819.0, 32721.0, 34437.0, 34037.0, 137621.54088828395, 85556.93316142166, 64002.92212258047, 57563.50344131135, 36143.67837263203, 36584.98206388193, 34037.017576091275, 34436.87562641673, 32396.718464951453, 40874.18114280141, 29797.045151006154, 29577.52554762142, 26901.098687019214, 25175.37037238537, 21295.85582597696, 19215.940104346104, 18054.209126017573, 17941.860962814746, 16307.962405112588, 15972.743042210197, 15573.904408110402, 15292.152629824895, 15056.713939468382, 15071.632193322785, 12935.809190430826, 12480.246945670471, 12220.932943268479, 12173.28187154331, 11098.701688954478, 10930.829189257605, 14175.449850224266, 49521.557143846876, 23397.95977889442, 27798.25398857269, 37823.31792400112, 54995.94970266357, 26183.214631045223, 33158.686963225686, 68778.46769249141, 20825.453641889955, 28728.02264515799, 33694.86538643548, 20560.11738504029, 18397.396660277558, 19731.022717563195, 18666.985794193646, 60763.77242311552, 62157.00760984415, 52566.75305735386, 43225.99717312001, 35199.42494192444, 33818.580385271096, 32720.68625726336, 31605.772167651026, 29086.114505464826, 28955.993284247008, 24219.736204929966, 22114.26034993, 20459.804900077434, 20006.03115772877, 18874.381385208184, 17362.42430791743, 17789.930453655743, 17447.027853561023, 16155.350005763336, 14583.281462926378, 12425.734818265688, 12264.651725930158, 11680.776367791008, 11319.820845139013, 10814.153987314843, 10503.980197476338, 10582.927577333983, 9765.840147026767, 9700.386815201568, 9651.874410602024, 9679.139433328008, 10212.667441403044, 97565.1151709934, 45470.69116762092, 30418.362109113245, 31801.01281575976, 34700.49867508565, 32468.95257029081, 59326.75341579255, 26725.969050748998, 37595.6149747944, 17459.819169557453, 19935.24576233824, 39320.79210239866, 22882.668116835725, 33520.675916926244, 22367.54041498354, 24066.125231087222, 18934.561469750057, 128355.71041217638, 34871.70452581781, 28395.54684523914, 28429.78736097429, 26656.0052654694, 23808.911400541572, 22913.524484492937, 20117.583311103237, 16970.690927567925, 16864.848149393558, 14555.002591055221, 14153.94277173089, 13375.353542551467, 13065.994265081925, 12673.257728341385, 12254.525621672232, 12283.721983359173, 11916.048319293006, 12169.216871236937, 12143.636241425365, 11335.608296154354, 10983.100142560717, 10647.914208838525, 10352.828136988042, 10436.605648230347, 10396.369921010579, 10014.353282633107, 10104.384883928631, 9800.981037549007, 9172.541378156911, 9712.90173562424, 25015.72372655996, 52473.69930119638, 31287.99525617577, 39321.228578093134, 14850.782677791736, 52314.48469746558, 19578.14035073834, 29794.827736934865, 18382.453071102904, 16998.305865563947, 23952.634906569354, 18356.076833397296, 16953.500901008105, 14163.286880443342, 14579.485281973019, 13848.379155921986, 13397.69666024037, 122511.02526650055, 72738.14191857469, 61516.746913690375, 56391.79446623994, 54346.65445279416, 49099.88791071631, 40888.45333861876, 39553.04645910215, 38898.955574128486, 27966.34871350861, 24447.822004095684, 21682.01009103939, 19610.66670786743, 18777.711039318794, 19013.53781914661, 17497.225041507358, 17337.852547091905, 17447.727422441603, 17214.607543656446, 16500.230460232073, 16735.24481497631, 15962.416880597166, 15608.765994834786, 15511.037288383794, 15424.25917330677, 15689.690392060713, 15296.674140676661, 15172.43459649115, 14886.844119513442, 13780.513914472316, 22714.944134781876, 89702.68454847865, 28280.888486040833, 31592.96698382287, 25056.901937786843, 44749.26289547031, 20343.75085446079, 22752.533281370754, 16132.835754496877], \"Total\": [137622.0, 128356.0, 122511.0, 85557.0, 121518.0, 72738.0, 61517.0, 62157.0, 60764.0, 64003.0, 56392.0, 54347.0, 57564.0, 52567.0, 49100.0, 43226.0, 40889.0, 39553.0, 38899.0, 40875.0, 53903.0, 58581.0, 35200.0, 34872.0, 36585.0, 36144.0, 33819.0, 32721.0, 34437.0, 34037.0, 137622.32829951856, 85557.73316053803, 64003.72021312345, 57564.287729517535, 36144.47281150041, 36585.79155738103, 34037.80485714103, 34437.68518682202, 32397.51550763025, 40875.197512335304, 29797.825252119932, 29578.32971417423, 26901.895219782644, 25176.161285400554, 21296.659404714886, 19216.7234231635, 18055.004129937854, 17942.654283365446, 16308.750035319821, 15973.544423785514, 15574.68654163217, 15292.952458030008, 15057.509908801294, 15072.43690934488, 12936.597041031493, 12481.034816565296, 12221.728900755907, 12174.084052332666, 11099.483663525321, 10931.61618399383, 14176.536703646703, 58581.313504828206, 26675.839651915325, 33514.90203551139, 49160.8080653118, 92467.00953533685, 33996.44309357107, 55741.6330397843, 205399.52481813668, 33000.06985774118, 89081.97470671331, 170079.40508177003, 41160.292807327474, 26490.31355714919, 121253.95229481316, 43724.43051087776, 60764.55495254771, 62157.809781048934, 52567.53691117695, 43226.79099011763, 35200.22696616492, 33819.38240433964, 32721.4743577118, 31606.561473916187, 29086.899857616543, 28956.817236439507, 24220.519315242334, 22115.04880127045, 20460.58975166174, 20006.825559072804, 18875.18383893167, 17363.214695959767, 17790.743416054956, 17447.837139554013, 16156.132206137394, 14584.076115317352, 12426.521558926088, 12265.446655852787, 11681.570150986858, 11320.624910120057, 10814.960133074408, 10504.764390244402, 10583.723766032286, 9766.630237229223, 9701.17533005052, 9652.675726821615, 9680.427398169324, 10237.716312835679, 121518.2887497748, 53903.579139254136, 35730.7550459074, 38347.28426141362, 43018.148283285394, 49422.992507389245, 121253.95229481316, 47070.26393483661, 89081.97470671331, 23542.041836407214, 31644.3390022077, 170079.40508177003, 47311.40414647142, 205399.52481813668, 53977.09404288448, 88304.11378673052, 41160.292807327474, 128356.49668188076, 34872.50759904559, 28396.346294987346, 28430.59892166711, 26656.80697204762, 23809.713785910113, 22914.310525833313, 20118.375293561527, 16971.484135552673, 16865.645684544626, 14555.793363183942, 14154.739794390276, 13376.165141340578, 13066.792030071223, 12674.058383441425, 12255.305947710816, 12284.511889007164, 11916.831551444398, 12170.019752633838, 12144.448889633873, 11336.391807429365, 10983.880466983674, 10648.70887668977, 10353.607773288963, 10437.397436669278, 10397.189186542144, 10015.147725140036, 10105.207242744886, 9801.78813548806, 9173.319107964724, 9713.908520583684, 32672.978877443158, 88304.11378673052, 48481.66132495508, 69468.64677254927, 18094.374075775737, 170079.40508177003, 37492.51382836588, 121253.95229481316, 46663.87893532038, 39458.96525004825, 121518.2887497748, 53977.09404288448, 49422.992507389245, 35702.49132940352, 46556.68396291707, 35386.822774293716, 205399.52481813668, 122511.82646420223, 72738.95654302576, 61517.548023582734, 56392.61232756573, 54347.46620917466, 49100.68258836842, 40889.24345325975, 39553.837988516294, 38899.76163139359, 27967.148897144983, 24448.640581977128, 21682.807712947568, 19611.463937069828, 18778.503392542705, 19014.34362116684, 17498.030100707114, 17338.652235699636, 17448.544280150734, 17215.42038263702, 16501.02426070047, 16736.060208206047, 15963.223950424854, 15609.560423366847, 15511.833907445158, 15425.052069795902, 15690.50488271359, 15297.48079932414, 15173.25353416793, 14887.658876957445, 13781.320327714504, 25817.21359563434, 205399.52481813668, 46663.87893532038, 64278.51720451826, 43724.43051087776, 170079.40508177003, 47070.26393483661, 89081.97470671331, 24800.70686815284], \"Category\": [\"Default\", \"Default\", \"Default\", \"Default\", \"Default\", \"Default\", \"Default\", \"Default\", \"Default\", \"Default\", \"Default\", \"Default\", \"Default\", \"Default\", \"Default\", \"Default\", \"Default\", \"Default\", \"Default\", \"Default\", \"Default\", \"Default\", \"Default\", \"Default\", \"Default\", \"Default\", \"Default\", \"Default\", \"Default\", \"Default\", \"Topic1\", \"Topic1\", \"Topic1\", \"Topic1\", \"Topic1\", \"Topic1\", \"Topic1\", \"Topic1\", \"Topic1\", \"Topic1\", \"Topic1\", \"Topic1\", \"Topic1\", \"Topic1\", \"Topic1\", \"Topic1\", \"Topic1\", \"Topic1\", \"Topic1\", \"Topic1\", \"Topic1\", \"Topic1\", \"Topic1\", \"Topic1\", \"Topic1\", \"Topic1\", \"Topic1\", \"Topic1\", \"Topic1\", \"Topic1\", \"Topic1\", \"Topic1\", \"Topic1\", \"Topic1\", \"Topic1\", \"Topic1\", \"Topic1\", \"Topic1\", \"Topic1\", \"Topic1\", \"Topic1\", \"Topic1\", \"Topic1\", \"Topic1\", \"Topic1\", \"Topic1\", \"Topic2\", \"Topic2\", \"Topic2\", \"Topic2\", \"Topic2\", \"Topic2\", \"Topic2\", \"Topic2\", \"Topic2\", \"Topic2\", \"Topic2\", \"Topic2\", \"Topic2\", \"Topic2\", \"Topic2\", \"Topic2\", \"Topic2\", \"Topic2\", \"Topic2\", \"Topic2\", \"Topic2\", \"Topic2\", \"Topic2\", \"Topic2\", \"Topic2\", \"Topic2\", \"Topic2\", \"Topic2\", \"Topic2\", \"Topic2\", \"Topic2\", \"Topic2\", \"Topic2\", \"Topic2\", \"Topic2\", \"Topic2\", \"Topic2\", \"Topic2\", \"Topic2\", \"Topic2\", \"Topic2\", \"Topic2\", \"Topic2\", \"Topic2\", \"Topic2\", \"Topic2\", \"Topic2\", \"Topic2\", \"Topic2\", \"Topic3\", \"Topic3\", \"Topic3\", \"Topic3\", \"Topic3\", \"Topic3\", \"Topic3\", \"Topic3\", \"Topic3\", \"Topic3\", \"Topic3\", \"Topic3\", \"Topic3\", \"Topic3\", \"Topic3\", \"Topic3\", \"Topic3\", \"Topic3\", \"Topic3\", \"Topic3\", \"Topic3\", \"Topic3\", \"Topic3\", \"Topic3\", \"Topic3\", \"Topic3\", \"Topic3\", \"Topic3\", \"Topic3\", \"Topic3\", \"Topic3\", \"Topic3\", \"Topic3\", \"Topic3\", \"Topic3\", \"Topic3\", \"Topic3\", \"Topic3\", \"Topic3\", \"Topic3\", \"Topic3\", \"Topic3\", \"Topic3\", \"Topic3\", \"Topic3\", \"Topic3\", \"Topic3\", \"Topic3\", \"Topic4\", \"Topic4\", \"Topic4\", \"Topic4\", \"Topic4\", \"Topic4\", \"Topic4\", \"Topic4\", \"Topic4\", \"Topic4\", \"Topic4\", \"Topic4\", \"Topic4\", \"Topic4\", \"Topic4\", \"Topic4\", \"Topic4\", \"Topic4\", \"Topic4\", \"Topic4\", \"Topic4\", \"Topic4\", \"Topic4\", \"Topic4\", \"Topic4\", \"Topic4\", \"Topic4\", \"Topic4\", \"Topic4\", \"Topic4\", \"Topic4\", \"Topic4\", \"Topic4\", \"Topic4\", \"Topic4\", \"Topic4\", \"Topic4\", \"Topic4\", \"Topic4\"], \"logprob\": [30.0, 29.0, 28.0, 27.0, 26.0, 25.0, 24.0, 23.0, 22.0, 21.0, 20.0, 19.0, 18.0, 17.0, 16.0, 15.0, 14.0, 13.0, 12.0, 11.0, 10.0, 9.0, 8.0, 7.0, 6.0, 5.0, 4.0, 3.0, 2.0, 1.0, -3.7239, -4.1992, -4.4895, -4.5955, -5.0609, -5.0488, -5.1209, -5.1093, -5.1703, -4.9379, -5.254, -5.2614, -5.3562, -5.4225, -5.5899, -5.6927, -5.755, -5.7613, -5.8567, -5.8775, -5.9028, -5.9211, -5.9366, -5.9356, -6.0884, -6.1242, -6.1452, -6.1492, -6.2416, -6.2568, -5.9969, -4.746, -5.4957, -5.3234, -5.0155, -4.6411, -5.3833, -5.1471, -4.4175, -5.6122, -5.2905, -5.131, -5.625, -5.7362, -5.6662, -5.7216, -4.4614, -4.4388, -4.6063, -4.802, -5.0074, -5.0474, -5.0804, -5.1151, -5.1982, -5.2026, -5.3812, -5.4722, -5.55, -5.5724, -5.6306, -5.7141, -5.6898, -5.7092, -5.7862, -5.8885, -6.0486, -6.0617, -6.1105, -6.1419, -6.1876, -6.2167, -6.2092, -6.2895, -6.2963, -6.3013, -6.2984, -6.2448, -3.9879, -4.7513, -5.1534, -5.1089, -5.0217, -5.0881, -4.4854, -5.2828, -4.9415, -5.7085, -5.5759, -4.8967, -5.438, -5.0563, -5.4608, -5.3876, -5.6274, -3.7125, -5.0157, -5.2211, -5.2199, -5.2843, -5.3973, -5.4356, -5.5657, -5.7358, -5.7421, -5.8894, -5.9173, -5.9739, -5.9973, -6.0278, -6.0614, -6.0591, -6.0894, -6.0684, -6.0705, -6.1394, -6.171, -6.202, -6.2301, -6.222, -6.2259, -6.2633, -6.2544, -6.2849, -6.3511, -6.2939, -5.3478, -4.607, -5.1241, -4.8956, -5.8693, -4.6101, -5.5929, -5.173, -5.6559, -5.7342, -5.3913, -5.6574, -5.7369, -5.9167, -5.8877, -5.9392, -5.9723, -3.7247, -4.246, -4.4136, -4.5006, -4.5375, -4.639, -4.822, -4.8552, -4.8719, -5.2019, -5.3363, -5.4564, -5.5568, -5.6002, -5.5877, -5.6708, -5.68, -5.6737, -5.6871, -5.7295, -5.7154, -5.7627, -5.7851, -5.7913, -5.7969, -5.7799, -5.8053, -5.8134, -5.8324, -5.9096, -5.4099, -4.0364, -5.1907, -5.08, -5.3117, -4.7318, -5.5201, -5.4082, -5.752], \"loglift\": [30.0, 29.0, 28.0, 27.0, 26.0, 25.0, 24.0, 23.0, 22.0, 21.0, 20.0, 19.0, 18.0, 17.0, 16.0, 15.0, 14.0, 13.0, 12.0, 11.0, 10.0, 9.0, 8.0, 7.0, 6.0, 5.0, 4.0, 3.0, 2.0, 1.0, 1.3181, 1.3181, 1.3181, 1.3181, 1.318, 1.318, 1.318, 1.318, 1.318, 1.318, 1.318, 1.318, 1.318, 1.318, 1.318, 1.318, 1.318, 1.318, 1.318, 1.318, 1.318, 1.318, 1.318, 1.318, 1.318, 1.318, 1.318, 1.318, 1.318, 1.318, 1.318, 1.1501, 1.187, 1.131, 1.0559, 0.7985, 1.0569, 0.7986, 0.224, 0.8577, 0.1864, -0.3009, 0.6239, 0.9535, -0.4976, 0.4669, 1.398, 1.398, 1.398, 1.398, 1.398, 1.398, 1.398, 1.398, 1.398, 1.398, 1.398, 1.398, 1.398, 1.398, 1.398, 1.398, 1.398, 1.398, 1.398, 1.398, 1.398, 1.398, 1.398, 1.398, 1.398, 1.398, 1.398, 1.398, 1.398, 1.398, 1.3979, 1.3956, 1.1785, 1.2279, 1.2371, 1.2109, 1.1832, 0.9779, 0.6832, 0.832, 0.5354, 1.0992, 0.936, -0.0665, 0.6717, -0.4148, 0.5171, 0.0981, 0.6216, 1.3991, 1.3991, 1.3991, 1.3991, 1.3991, 1.3991, 1.3991, 1.3991, 1.3991, 1.3991, 1.3991, 1.3991, 1.3991, 1.3991, 1.3991, 1.3991, 1.3991, 1.3991, 1.3991, 1.3991, 1.3991, 1.3991, 1.3991, 1.3991, 1.3991, 1.399, 1.399, 1.399, 1.399, 1.399, 1.399, 1.1321, 0.8787, 0.9612, 0.83, 1.2016, 0.2201, 0.7494, -0.0044, 0.4676, 0.557, -0.2249, 0.3205, 0.3292, 0.4746, 0.2381, 0.461, -1.3307, 1.4336, 1.4336, 1.4336, 1.4336, 1.4336, 1.4336, 1.4336, 1.4336, 1.4336, 1.4335, 1.4335, 1.4335, 1.4335, 1.4335, 1.4335, 1.4335, 1.4335, 1.4335, 1.4335, 1.4335, 1.4335, 1.4335, 1.4335, 1.4335, 1.4335, 1.4335, 1.4335, 1.4335, 1.4335, 1.4335, 1.3056, 0.6051, 0.9328, 0.7233, 0.8768, 0.0984, 0.5947, 0.0687, 1.0036]}, \"token.table\": {\"Topic\": [2, 3, 3, 1, 3, 4, 3, 3, 1, 3, 4, 1, 4, 3, 3, 1, 2, 3, 4, 4, 4, 1, 2, 3, 3, 4, 2, 1, 2, 3, 4, 2, 3, 4, 1, 4, 4, 1, 4, 3, 4, 3, 1, 4, 1, 2, 3, 1, 4, 1, 1, 3, 4, 3, 1, 2, 3, 4, 4, 1, 2, 1, 2, 3, 1, 1, 2, 2, 1, 4, 1, 1, 2, 3, 4, 1, 2, 3, 4, 3, 2, 3, 4, 1, 3, 4, 4, 2, 2, 4, 4, 4, 1, 2, 3, 3, 2, 1, 3, 2, 4, 2, 4, 1, 2, 4, 2, 2, 1, 2, 3, 4, 1, 3, 2, 1, 3, 4, 2, 3, 3, 1, 2, 4, 4, 1, 2, 3, 4, 1, 1, 4, 4, 3, 1, 3, 3, 3, 2, 1, 2, 3, 4, 4, 2, 2, 4, 1, 2, 4, 4, 3, 2, 2, 3, 1, 1, 1, 2, 3, 1, 1, 2, 2, 2, 1, 2, 3, 4, 4, 4, 1, 1, 3, 1, 2, 3, 2, 3, 4, 1, 3, 2, 1, 4, 1, 4, 1, 3, 3, 4, 3, 3, 1, 1, 1, 1, 2, 2, 1, 3, 4, 2, 1, 2, 1, 2, 1, 2, 3, 4, 1, 2, 4, 2, 1, 2, 3, 4, 1, 2, 3, 2, 3, 3, 4, 4, 3, 4, 2, 1, 2, 3, 4, 2, 2, 4, 4], \"Freq\": [0.9999651432314315, 0.9998856242277785, 0.9999064721906987, 0.9998916023229913, 7.053909011096941e-05, 0.9999763435778524, 0.9999334307381318, 0.999963037463622, 0.9999538736113346, 0.1201523932282353, 0.8798393333911557, 0.9999914308092215, 0.9999767563842298, 0.9999302204247154, 0.9999652134673428, 0.32248948336161015, 0.42203824200999357, 6.735369326683587e-05, 0.2554164304833861, 0.9999910915893051, 0.9999788139771282, 0.1314311396486763, 0.22321842330162822, 0.6453574226816987, 0.3494658457146435, 0.6505056523496416, 0.9999587361288094, 0.3224886036118642, 0.22894671812300924, 0.31314515465947573, 0.13540483263415426, 0.9999299959057221, 0.9999619218611067, 0.9999379274471519, 0.4269237993930195, 0.5730663546038941, 0.9999317947329357, 0.9999540102510495, 0.9999623825606069, 0.8207523475422187, 0.17922697886199013, 0.9999583305375265, 0.877123281040566, 0.12284524283998353, 0.9999538486798654, 0.6299704979967891, 0.37001878911684993, 0.9999667227986976, 0.9999737988713532, 0.9999783643500021, 0.9999559193932838, 0.9999714735877661, 0.9999627486920393, 0.9999789339060791, 0.1279442091144994, 0.2725354342847887, 0.5942418506881078, 0.005277217334692576, 0.9999411304757629, 0.9999403602582069, 0.999990867166753, 0.6310592701704495, 0.2307267843014551, 0.1382118286313287, 0.9999976144894319, 0.999972304954709, 0.9999582133226492, 0.9999635842162687, 0.8453548928348705, 0.15463975554684972, 0.9999661359146113, 0.16272459269638195, 0.489278896705603, 0.2457239490846232, 0.10227295494540736, 0.19811334584454987, 0.23119201281951463, 0.3075857419353549, 0.26310651767911447, 0.9998854010772947, 0.6569614333884285, 0.3430387182132932, 0.9999366512672124, 0.9999564246824462, 0.9999128942168203, 0.9999804206668205, 0.9999462405638087, 0.9999520204397074, 0.99993161518117, 0.9999932540047269, 0.9999695897220214, 0.9999233268650083, 0.9999888528467491, 0.999926212993621, 0.9999617159902026, 0.9999393860352717, 0.9999511922644397, 0.9999801035749557, 0.9999198400796221, 0.5677894654892756, 0.43220492725861787, 0.9998525480218369, 0.00010330122409565419, 0.14866744330409656, 0.8513114251551221, 0.9999688065581864, 0.9999869721753101, 0.9999817013916714, 0.5947634759290331, 0.1497831504403431, 0.12117835384000321, 0.13427491666911914, 0.9999443849510846, 0.999916207807829, 0.9999354703501705, 0.1741608744958315, 0.3913321093652888, 0.43448376527233645, 0.9999855031681454, 0.999880532608992, 0.9999961304500076, 0.769373032879176, 0.23061052993552122, 0.9999914216943829, 0.9999557434138645, 0.12299661768981773, 0.4143980033869322, 0.34007017838745207, 0.12253345826185487, 0.9999840880505133, 0.8294220872418505, 0.17055099829751844, 0.9999755810414339, 0.9999454950228993, 0.9999377191531444, 0.9999654380832966, 0.9999412984051288, 0.9999477352179537, 0.999989786259572, 0.334849849632792, 0.16319901435838235, 0.06522897271482375, 0.4367244767456213, 0.99991738527501, 0.9999525752224254, 0.9999272339468069, 0.9999868496460326, 0.1992605413157273, 0.7416518975426558, 0.05908578404821502, 0.9999860981898329, 0.9999700212309761, 0.9999886927462168, 0.8028832614726958, 0.19711436234362203, 0.9999869188436397, 0.9999635347504827, 0.499510537892477, 0.46003074100165625, 0.0404516072758256, 0.9999763540232864, 0.9999623544999025, 0.9999822355267387, 0.9999785588725173, 0.9999717774079646, 0.0674256039859666, 0.48366774169619864, 0.24993973891349688, 0.19897950969400927, 0.9999891417059708, 0.999968570032514, 0.9999950015968427, 0.9999659171583294, 0.9999164921440785, 0.5948695470822237, 0.180457576347299, 0.22467945980451068, 0.9999690631307926, 0.9999813457321454, 0.999958919761567, 0.9999690371760962, 0.9999195926827672, 0.9999711762139363, 0.7701688064229096, 0.2298181600497343, 0.6944802657888898, 0.30547014789170496, 0.9999170888808095, 0.9999697273552506, 0.7656479714884705, 0.23435267499549164, 0.9999750354897607, 0.999987804945617, 0.9999887473240453, 0.999971012693733, 0.9999436328550638, 0.1564274605628103, 0.8435617954520336, 0.9999299209660488, 0.16287378789196533, 0.3966950056601728, 0.4404174446798388, 0.9999372806674748, 0.0024419508449023833, 0.9975857591595217, 0.19333700616843036, 0.8066363008349806, 0.09617586208739622, 0.14721622736908685, 0.4307766281321636, 0.3258068202886866, 0.9999109540949441, 0.8292894950060201, 0.17070309217664248, 0.9999447989731116, 0.26402289190963285, 0.10104464574586443, 0.14343828079705467, 0.49150169254027637, 0.14461553644604788, 0.33321318642944964, 0.5221842442900637, 0.9999112217647967, 0.9999854441483984, 0.3939235318495238, 0.606057632697007, 0.9999731931489863, 0.9999864483885316, 0.9999678224048643, 0.9998788466334713, 0.9999707032036984, 0.20450952566437405, 0.5660251325859683, 0.22945603146970664, 0.9999300419892838, 0.9999580285662714, 0.9999819283182376, 0.9999640974280091], \"Term\": [\"android\", \"animal\", \"animation\", \"arena\", \"arena\", \"ark\", \"assassin\", \"baby\", \"ball\", \"base\", \"base\", \"battle\", \"battlefield\", \"battlefront\", \"beamng\", \"best\", \"best\", \"best\", \"best\", \"black\", \"black_ops\", \"build\", \"build\", \"build\", \"car\", \"car\", \"career\", \"challenge\", \"challenge\", \"challenge\", \"challenge\", \"champion\", \"chapter\", \"clans\", \"clash\", \"clash\", \"clash_clans\", \"clash_royale\", \"cod\", \"commentary\", \"commentary\", \"crash\", \"dark\", \"dark\", \"dash\", \"dead\", \"dead\", \"destiny\", \"dlc\", \"dragon\", \"dragon_ball\", \"drive\", \"duty\", \"edition\", \"episode\", \"episode\", \"episode\", \"episode\", \"evil\", \"fantasy\", \"fifa\", \"final\", \"final\", \"final\", \"fortnite\", \"fortnite_battle\", \"forza\", \"forza_horizon\", \"funny\", \"funny\", \"funny_moment\", \"game\", \"game\", \"game\", \"game\", \"gameplay\", \"gameplay\", \"gameplay\", \"gameplay\", \"gameplay_walkthrough\", \"games\", \"games\", \"gear\", \"geometry\", \"ghost\", \"glitch\", \"glitches\", \"grand\", \"growtopia\", \"gta\", \"gta_online\", \"gun\", \"highlights\", \"horizon\", \"house\", \"hunter\", \"ios\", \"kill\", \"kombat\", \"league\", \"league\", \"league_legend\", \"league_legend\", \"legend\", \"legend\", \"legends\", \"let\", \"let_play\", \"live\", \"live\", \"live\", \"live\", \"live_stream\", \"love\", \"madden\", \"map\", \"map\", \"map\", \"mario\", \"mega\", \"minecraft\", \"mobile\", \"mobile\", \"mod\", \"modded\", \"mode\", \"mode\", \"mode\", \"mode\", \"moment\", \"moments\", \"moments\", \"money\", \"monster\", \"moon\", \"mortal\", \"mortal_kombat\", \"music\", \"nba\", \"new\", \"new\", \"new\", \"new\", \"night\", \"nintendo\", \"nintendo_switch\", \"online\", \"opening\", \"opening\", \"opening\", \"ops\", \"overwatch\", \"pack\", \"play\", \"play\", \"pokemon\", \"pok\\u00e9mon\", \"pro\", \"pro\", \"pro\", \"pubg\", \"pubg_mobile\", \"rainbow\", \"rainbow_siege\", \"red\", \"review\", \"review\", \"review\", \"review\", \"roblox\", \"rocket\", \"royale\", \"rust\", \"school\", \"season\", \"season\", \"season\", \"siege\", \"sims\", \"simulator\", \"skin\", \"skyrim\", \"smash\", \"solo\", \"solo\", \"sonic\", \"sonic\", \"souls\", \"speed\", \"star\", \"star\", \"star_wars\", \"story\", \"stream\", \"subscriber\", \"sun\", \"super\", \"super\", \"super_mario\", \"survival\", \"survival\", \"survival\", \"switch\", \"talk\", \"talk\", \"team\", \"team\", \"trailer\", \"trailer\", \"trailer\", \"trailer\", \"twitch\", \"ultimate\", \"ultimate\", \"unboxing\", \"update\", \"update\", \"update\", \"update\", \"video\", \"video\", \"video\", \"vlog\", \"walkthrough\", \"war\", \"war\", \"warfare\", \"wars\", \"weapon\", \"wii\", \"win\", \"world\", \"world\", \"world\", \"wwe\", \"zelda\", \"zombie\", \"zombies\"]}, \"R\": 30, \"lambda.step\": 0.01, \"plot.opts\": {\"xlab\": \"PC1\", \"ylab\": \"PC2\"}, \"topic.order\": [3, 2, 1, 4]};\n",
       "\n",
       "function LDAvis_load_lib(url, callback){\n",
       "  var s = document.createElement('script');\n",
       "  s.src = url;\n",
       "  s.async = true;\n",
       "  s.onreadystatechange = s.onload = callback;\n",
       "  s.onerror = function(){console.warn(\"failed to load library \" + url);};\n",
       "  document.getElementsByTagName(\"head\")[0].appendChild(s);\n",
       "}\n",
       "\n",
       "if(typeof(LDAvis) !== \"undefined\"){\n",
       "   // already loaded: just create the visualization\n",
       "   !function(LDAvis){\n",
       "       new LDAvis(\"#\" + \"ldavis_el2795625546863104327671926972\", ldavis_el2795625546863104327671926972_data);\n",
       "   }(LDAvis);\n",
       "}else if(typeof define === \"function\" && define.amd){\n",
       "   // require.js is available: use it to load d3/LDAvis\n",
       "   require.config({paths: {d3: \"https://d3js.org/d3.v5\"}});\n",
       "   require([\"d3\"], function(d3){\n",
       "      window.d3 = d3;\n",
       "      LDAvis_load_lib(\"https://cdn.jsdelivr.net/gh/bmabey/pyLDAvis@3.3.1/pyLDAvis/js/ldavis.v3.0.0.js\", function(){\n",
       "        new LDAvis(\"#\" + \"ldavis_el2795625546863104327671926972\", ldavis_el2795625546863104327671926972_data);\n",
       "      });\n",
       "    });\n",
       "}else{\n",
       "    // require.js not available: dynamically load d3 & LDAvis\n",
       "    LDAvis_load_lib(\"https://d3js.org/d3.v5.js\", function(){\n",
       "         LDAvis_load_lib(\"https://cdn.jsdelivr.net/gh/bmabey/pyLDAvis@3.3.1/pyLDAvis/js/ldavis.v3.0.0.js\", function(){\n",
       "                 new LDAvis(\"#\" + \"ldavis_el2795625546863104327671926972\", ldavis_el2795625546863104327671926972_data);\n",
       "            })\n",
       "         });\n",
       "}\n",
       "</script>"
      ],
      "text/plain": [
       "<IPython.core.display.HTML object>"
      ]
     },
     "execution_count": 40,
     "metadata": {},
     "output_type": "execute_result"
    }
   ],
   "source": [
    "# topic detection all videos from titles\n",
    "model, corpus, dictionary = topic_detection( titles_metadata.title, \"title\" )\n",
    "data =  pyLDAvis.gensim_models.prepare(model, corpus, dictionary)\n",
    "pyLDAvis.display(data)"
   ]
  },
  {
   "cell_type": "raw",
   "id": "cd8590f9",
   "metadata": {},
   "source": [
    "# topic detection for videos in 2015 from tags\n",
    "model, corpus, dictionary = topic_detection( tags_metadata[tags_metadata['display_id'].isin(video_display_id_2015)].tags, \"tag\" )\n",
    "data =  pyLDAvis.gensim_models.prepare(model, corpus, dictionary)\n",
    "pyLDAvis.display(data)"
   ]
  },
  {
   "cell_type": "raw",
   "id": "b4e1d115",
   "metadata": {},
   "source": [
    "# topic detection for videos in 2016 from tags\n",
    "model, corpus, dictionary = topic_detection( tags_metadata[tags_metadata['display_id'].isin(video_display_id_2016)].tags, \"tag\" )\n",
    "data =  pyLDAvis.gensim_models.prepare(model, corpus, dictionary)\n",
    "pyLDAvis.display(data)"
   ]
  },
  {
   "cell_type": "raw",
   "id": "c3e9ffc8",
   "metadata": {},
   "source": [
    "# topic detection for videos in 2017 from tags\n",
    "model, corpus, dictionary = topic_detection( tags_metadata[tags_metadata['display_id'].isin(video_display_id_2017)].tags, \"tag\" )\n",
    "data =  pyLDAvis.gensim_models.prepare(model, corpus, dictionary)\n",
    "pyLDAvis.display(data)"
   ]
  },
  {
   "cell_type": "raw",
   "id": "e1d0cf38",
   "metadata": {},
   "source": [
    "# topic detection for videos in 2018 from tags\n",
    "model, corpus, dictionary = topic_detection( tags_metadata[tags_metadata['display_id'].isin(video_display_id_2018)].tags, \"tag\" )\n",
    "data =  pyLDAvis.gensim_models.prepare(model, corpus, dictionary)\n",
    "pyLDAvis.display(data)"
   ]
  },
  {
   "cell_type": "raw",
   "id": "fc3fe78b",
   "metadata": {},
   "source": [
    "# topic detection for videos in 2019 from tags\n",
    "model, corpus, dictionary = topic_detection( tags_metadata[tags_metadata['display_id'].isin(video_display_id_2019)].tags, \"tag\" )\n",
    "data =  pyLDAvis.gensim_models.prepare(model, corpus, dictionary)\n",
    "pyLDAvis.display(data)"
   ]
  },
  {
   "cell_type": "code",
   "execution_count": 41,
   "id": "77012ed0",
   "metadata": {},
   "outputs": [
    {
     "data": {
      "text/html": [
       "\n",
       "<link rel=\"stylesheet\" type=\"text/css\" href=\"https://cdn.jsdelivr.net/gh/bmabey/pyLDAvis@3.3.1/pyLDAvis/js/ldavis.v1.0.0.css\">\n",
       "\n",
       "\n",
       "<div id=\"ldavis_el2795625624690656641728322355\"></div>\n",
       "<script type=\"text/javascript\">\n",
       "\n",
       "var ldavis_el2795625624690656641728322355_data = {\"mdsDat\": {\"x\": [-0.09127288006202161, -0.11371392288421497, -0.12839778692847192, 0.33338458987470854], \"y\": [-0.10311631228887402, -0.2138762444269866, 0.30190165343402436, 0.015090903281836085], \"topics\": [1, 2, 3, 4], \"cluster\": [1, 1, 1, 1], \"Freq\": [29.402855270119787, 26.429462323605673, 24.92764060891776, 19.24004179735678]}, \"tinfo\": {\"Term\": [\"fortnite\", \"twitch\", \"walkthrough\", \"playthrough\", \"minecraft\", \"nintendo\", \"gameplay\", \"roblox\", \"gta\", \"stream\", \"montage\", \"lol\", \"play\", \"highlight\", \"moment\", \"mod\", \"let\", \"overwatch\", \"funny\", \"fail\", \"survival\", \"playstation\", \"troll\", \"android\", \"cod\", \"race\", \"xbox\", \"league\", \"pvp\", \"mario\", \"walkthrough\", \"playthrough\", \"nintendo\", \"let\", \"survival\", \"mario\", \"switch\", \"let_play\", \"horror\", \"adventure\", \"walkthrough_playthrough\", \"scary\", \"role\", \"zelda\", \"ios\", \"sony\", \"videogame\", \"modde\", \"rust\", \"ark\", \"mcpe\", \"speedrun\", \"sonic\", \"wii\", \"android\", \"sega\", \"indie\", \"nintendo_switch\", \"letsplay\", \"microsoft\", \"rpg\", \"roleplay\", \"quality\", \"end\", \"pokemon\", \"playstation\", \"minecraft\", \"play\", \"gameplay\", \"commentary\", \"xbox\", \"game\", \"mod\", \"review\", \"gaming\", \"steam\", \"games\", \"trailer\", \"funny\", \"video\", \"tutorial\", \"guide\", \"gamer\", \"new\", \"roblox\", \"anime\", \"counter\", \"yugioh\", \"strike\", \"dbz\", \"wot\", \"growtopia\", \"warhammer\", \"song\", \"goku\", \"global\", \"plane\", \"PlayStation_4 Sony_Interactive_Entertainment\", \"vegeta\", \"batman\", \"trading\", \"trade\", \"miniature\", \"wargaming\", \"counter_strike\", \"offensive\", \"exploit\", \"tabletop\", \"espa\\u00f1ol\", \"japan\", \"technology\", \"paint\", \"code\", \"contest\", \"tcg\", \"toy\", \"csgo\", \"unbox\", \"channel\", \"card\", \"giveaway\", \"opening\", \"music\", \"news\", \"dragon\", \"deck\", \"tank\", \"vlog\", \"leak\", \"dark\", \"free\", \"tutorial\", \"youtube\", \"new\", \"update\", \"fast\", \"gaming\", \"game\", \"hack\", \"good\", \"review\", \"funny\", \"video\", \"guide\", \"gameplay\", \"fun\", \"fortnite\", \"twitch\", \"stream\", \"lol\", \"moment\", \"overwatch\", \"troll\", \"wow\", \"destiny\", \"ninja\", \"clash\", \"funny_moment\", \"royale\", \"spider\", \"warcraft\", \"esport\", \"clip\", \"competitive\", \"blizzard\", \"clutch\", \"faze\", \"streamer\", \"legion\", \"coc\", \"hypixel\", \"siege\", \"snipe\", \"highlights\", \"trolling\", \"pubg\", \"hilarious\", \"highlight\", \"montage\", \"fail\", \"league\", \"clan\", \"pvp\", \"pro\", \"rank\", \"funny\", \"raid\", \"win\", \"game\", \"epic\", \"gameplay\", \"gaming\", \"guide\", \"live\", \"minecraft\", \"good\", \"comedy\", \"new\", \"gta\", \"race\", \"sharefactory\", \"fifa\", \"car\", \"runescape\", \"mmorpg\", \"nba\", \"forza\", \"wwe\", \"crash\", \"osrs\", \"mtg\", \"fnaf\", \"football\", \"gtav\", \"racing\", \"soccer\", \"Action_Role-playing_Game_(Video_Game_Genre\", \"beamng\", \"prettyboyfredo\", \"nvidia\", \"motorsport\", \"fut\", \"undertale\", \"grand\", \"drift\", \"warfare\", \"goal\", \"police\", \"drive\", \"melee\", \"mmo\", \"duty\", \"cod\", \"glitch\", \"online\", \"zombie\", \"gameplay\", \"dlc\", \"mod\", \"multiplayer\", \"game\", \"gaming\", \"xbox\", \"guide\", \"tutorial\", \"funny\", \"new\"], \"Freq\": [146244.0, 146006.0, 125981.0, 119288.0, 185598.0, 91211.0, 438535.0, 69684.0, 56079.0, 60591.0, 77758.0, 54864.0, 111615.0, 57659.0, 47756.0, 104485.0, 50614.0, 43216.0, 278634.0, 54605.0, 44571.0, 63261.0, 37987.0, 42948.0, 56086.0, 31101.0, 97830.0, 45460.0, 68260.0, 37812.0, 125980.61520839816, 119287.23381400119, 91210.73385478226, 50613.53989912573, 44570.78856027447, 37811.584810907836, 33686.09819066921, 32225.358605969985, 28703.615132373896, 26869.548872463834, 25507.83859224884, 24700.974507203842, 23127.507550140162, 20884.376500787697, 21013.337129858617, 20610.061021569476, 20611.588171029096, 19518.118977122456, 19306.73251832459, 19131.15459567012, 18593.807239565092, 19179.707485801962, 17234.086881373238, 15657.441884030946, 42945.99811386169, 14359.150559537251, 14581.090244838022, 14112.790567264943, 14168.68242663784, 14578.36994698637, 33650.649812303505, 32561.49446351073, 20840.67467435433, 19637.763793284237, 45437.65815037114, 55708.81471553346, 145450.64004384304, 88860.71039147496, 255536.6031943406, 68385.05260673433, 68533.94464891063, 209544.33425919048, 71863.51678536809, 66787.05467969479, 125318.72167106728, 36357.070523215276, 41117.1853285749, 33746.82803538552, 80750.07796102199, 41449.90672941872, 45924.35806748074, 45241.05626895046, 36008.58266233777, 39925.55000161773, 69683.32270405036, 31245.69798321405, 28108.73504662188, 18349.98869268801, 18031.889583109358, 12935.309132772187, 12128.833671827582, 11579.463742793605, 11439.23069179405, 11472.251811189824, 10831.882998247509, 10649.97385102731, 9833.89661974246, 9168.808086135152, 8723.578209457846, 8837.776699514134, 8588.96352341628, 8259.898067170068, 7973.264695089919, 7851.345361638923, 7916.431763997092, 7539.660845948811, 7689.219406143484, 7477.590256746105, 7830.149666121409, 7415.584324407153, 7168.525022256831, 7045.034481802052, 7156.774202452132, 7121.713905045692, 16018.136640713134, 11093.297480588657, 33792.49477047371, 18535.25276248895, 14388.221204642065, 21186.990804640744, 21630.612850496338, 14844.092787230464, 28893.550006063393, 21698.955607628966, 16604.186453768674, 15157.006687623682, 16335.28443531741, 19910.866875523487, 14163.308460837734, 11360.43522573668, 23086.02167202805, 40714.92084847261, 22870.941292973155, 40081.44273905193, 30764.35069201524, 18003.398965635286, 42084.2392819904, 49919.82645470965, 21079.41986919207, 24478.03059540998, 24184.17374042553, 32157.654561255822, 20107.02947010693, 21380.81851779468, 19805.506029235818, 16201.60840416501, 146243.99353753505, 146005.35711354282, 60590.38440387296, 54863.379746523126, 47755.39659769222, 43215.39219377019, 37986.97281278989, 32708.382058057236, 30041.878962366754, 28122.16376668455, 27229.37020933963, 22838.51868785193, 22182.464690375324, 21591.95826558361, 20591.04857061466, 20919.770688175355, 20340.800677115694, 18860.223172624537, 16990.64011699428, 16634.091070968265, 16137.588592346303, 16170.268558970389, 16140.62664540808, 15604.168907456544, 15703.50863688134, 15006.832407168284, 15104.659080407906, 15386.131881989864, 15110.817065558389, 30191.574293354504, 24910.58687127104, 55804.29258450792, 68753.26623105585, 48510.49180730793, 41065.37176508605, 20165.922427907288, 52277.84136196353, 45300.53031686326, 24981.314998222417, 145127.99604696146, 29694.490132478713, 28484.248176093755, 116475.59052511994, 38248.3852527736, 90751.35641091176, 63151.724124348126, 41146.09425076227, 31615.337988033476, 40147.46352204291, 31260.10241806449, 27769.485210494113, 29773.38398655346, 56078.424956630275, 31100.156017981233, 27551.19353525643, 26893.716694686223, 24062.191984008055, 23383.817951738012, 24241.811456969357, 19101.539412446662, 18575.653525683378, 18069.03487073306, 17760.170638244646, 16557.8474486084, 15675.13464056932, 14743.860087403176, 13890.110007628522, 13750.040102552262, 13242.87768877054, 12685.42087460237, 12200.877774921151, 10703.515388169735, 10354.720429971361, 10253.89069005525, 9615.211710781314, 9507.03859342658, 9826.391578288782, 9989.60941531254, 9273.739064304124, 9928.076454672197, 8995.042255796197, 8716.335572733222, 8773.089907033182, 10390.068045530921, 19710.138522128214, 17895.956303036677, 33992.6159495674, 28317.993549692823, 29554.472166942294, 20530.23480168617, 72442.07413920201, 20487.260738109893, 29064.786398991193, 20928.229401267814, 41287.434276278575, 32629.756193755224, 22244.231101850834, 21229.02414736962, 20566.536299263527, 20598.736564976916, 17201.270822431878], \"Total\": [146244.0, 146006.0, 125981.0, 119288.0, 185598.0, 91211.0, 438535.0, 69684.0, 56079.0, 60591.0, 77758.0, 54864.0, 111615.0, 57659.0, 47756.0, 104485.0, 50614.0, 43216.0, 278634.0, 54605.0, 44571.0, 63261.0, 37987.0, 42948.0, 56086.0, 31101.0, 97830.0, 45460.0, 68260.0, 37812.0, 125981.53734512231, 119288.15494382844, 91211.64009959226, 50614.467213892756, 44571.71108585973, 37812.493976435995, 33687.00886598787, 32226.281082927275, 28704.53929070921, 26870.489155360145, 25508.750400366243, 24701.93809659865, 23128.425607343812, 20885.282069847577, 21014.279389904008, 20610.99432401421, 20612.533329393813, 19519.053792563, 19307.662060357656, 19132.079518014012, 18594.709640498382, 19180.64947742604, 17235.04647334976, 15658.34863301493, 42948.617907460575, 14360.054243273154, 14582.02061803725, 14113.695142279732, 14169.602464647398, 14579.33586451618, 33654.37104638161, 32623.27033332237, 21005.591590809956, 19922.546365876617, 50359.01529093963, 63261.532453574015, 185598.72875617744, 111615.56013491403, 438535.5397736902, 93953.53458437038, 97830.00172546585, 417227.1855152986, 104485.7960316927, 96589.24012054742, 263184.4412711611, 48175.67538506803, 66419.30806429997, 48317.77117384614, 278634.4651342162, 79652.61821212426, 122333.4771847534, 128996.99318487704, 66299.89769089868, 126981.64754965501, 69684.23172813837, 31246.622059560683, 28109.648632217737, 18350.88113734964, 18032.8041302244, 12936.20821237473, 12129.741227932824, 11580.358498197917, 11440.134015376612, 11473.182933493617, 10832.780601143097, 10650.881738126049, 9834.819971310668, 9169.708060218054, 8724.473881628772, 8838.700338257766, 8589.90939374733, 8260.8159840237, 7974.164303369734, 7852.242187439911, 7917.349083878367, 7540.574904505496, 7690.160095294903, 7478.505443320822, 7831.110703582354, 7416.518647381804, 7169.460395544259, 7045.95801920161, 7157.716397730623, 7122.674299741757, 16029.422849803233, 11142.310981911067, 35128.82277314561, 20268.92907283341, 15556.17178771729, 24095.135285200886, 24677.122642838836, 16567.64745928167, 38203.24300658124, 29021.447619294377, 21049.037865911265, 19095.852254295645, 21675.592672000614, 31125.953773792604, 18498.126080132497, 13299.136545229318, 45070.75783729913, 122333.4771847534, 44945.98965930505, 126981.64754965501, 78638.21281427985, 30731.63336768511, 263184.4412711611, 417227.1855152986, 51235.674098082694, 77260.46659166132, 96589.24012054742, 278634.4651342162, 79652.61821212426, 128996.99318487704, 438535.5397736902, 62140.35328750865, 146244.9042566421, 146006.30103596076, 60591.33528399386, 54864.300378512664, 47756.34137466176, 43216.305024736525, 37987.91494009314, 32709.311966428086, 30042.840306386377, 28123.10085820993, 27230.286955027135, 22839.464203600008, 22183.384067019706, 21592.8814893842, 20591.96201255071, 20920.717926515663, 20341.736672031286, 18861.158203806794, 16991.55415928308, 16635.009985116536, 16138.502765617848, 16171.191908493509, 16141.54976582898, 15605.074246331198, 15704.421846436011, 15007.742020503338, 15105.57771597242, 15387.089017319364, 15111.76733912782, 30193.59666345626, 24927.202866906096, 57659.24531624612, 77758.15649268198, 54605.60082535967, 45460.11372192945, 21005.579689065326, 68260.88472417976, 57493.98083531625, 28059.174017805195, 278634.4651342162, 36618.89461545166, 34634.01135154868, 417227.1855152986, 65607.52215582744, 438535.5397736902, 263184.4412711611, 128996.99318487704, 65443.94440910135, 185598.72875617744, 77260.46659166132, 56805.5783376741, 126981.64754965501, 56079.33901421615, 31101.080502265107, 27552.094389428563, 26894.611376655714, 24063.10405097878, 23384.712102128422, 24242.745618451023, 19102.438343381982, 18576.550301630992, 18069.93378729018, 17761.091944584517, 16558.738798720515, 15676.07926106954, 14744.778038854967, 13891.010490425306, 13750.942936286383, 13243.782620051135, 12686.317168515345, 12201.799635796495, 10704.407049367972, 10355.611322034722, 10254.805144646298, 9616.1056979526, 9507.931214116079, 9827.321732651571, 9990.556955895292, 9274.635164127829, 9929.045279476399, 8995.946888674618, 8717.241200409064, 8774.011972492293, 10424.447773702557, 24161.805668844947, 21569.7179597632, 56086.97206381659, 54470.05906469899, 60590.47471596385, 35012.41402927629, 438535.5397736902, 39201.45642512641, 104485.7960316927, 57488.84305012175, 417227.1855152986, 263184.4412711611, 97830.00172546585, 128996.99318487704, 122333.4771847534, 278634.4651342162, 126981.64754965501], \"Category\": [\"Default\", \"Default\", \"Default\", \"Default\", \"Default\", \"Default\", \"Default\", \"Default\", \"Default\", \"Default\", \"Default\", \"Default\", \"Default\", \"Default\", \"Default\", \"Default\", \"Default\", \"Default\", \"Default\", \"Default\", \"Default\", \"Default\", \"Default\", \"Default\", \"Default\", \"Default\", \"Default\", \"Default\", \"Default\", \"Default\", \"Topic1\", \"Topic1\", \"Topic1\", \"Topic1\", \"Topic1\", \"Topic1\", \"Topic1\", \"Topic1\", \"Topic1\", \"Topic1\", \"Topic1\", \"Topic1\", \"Topic1\", \"Topic1\", \"Topic1\", \"Topic1\", \"Topic1\", \"Topic1\", \"Topic1\", \"Topic1\", \"Topic1\", \"Topic1\", \"Topic1\", \"Topic1\", \"Topic1\", \"Topic1\", \"Topic1\", \"Topic1\", \"Topic1\", \"Topic1\", \"Topic1\", \"Topic1\", \"Topic1\", \"Topic1\", \"Topic1\", \"Topic1\", \"Topic1\", \"Topic1\", \"Topic1\", \"Topic1\", \"Topic1\", \"Topic1\", \"Topic1\", \"Topic1\", \"Topic1\", \"Topic1\", \"Topic1\", \"Topic1\", \"Topic1\", \"Topic1\", \"Topic1\", \"Topic1\", \"Topic1\", \"Topic1\", \"Topic2\", \"Topic2\", \"Topic2\", \"Topic2\", \"Topic2\", \"Topic2\", \"Topic2\", \"Topic2\", \"Topic2\", \"Topic2\", \"Topic2\", \"Topic2\", \"Topic2\", \"Topic2\", \"Topic2\", \"Topic2\", \"Topic2\", \"Topic2\", \"Topic2\", \"Topic2\", \"Topic2\", \"Topic2\", \"Topic2\", \"Topic2\", \"Topic2\", \"Topic2\", \"Topic2\", \"Topic2\", \"Topic2\", \"Topic2\", \"Topic2\", \"Topic2\", \"Topic2\", \"Topic2\", \"Topic2\", \"Topic2\", \"Topic2\", \"Topic2\", \"Topic2\", \"Topic2\", \"Topic2\", \"Topic2\", \"Topic2\", \"Topic2\", \"Topic2\", \"Topic2\", \"Topic2\", \"Topic2\", \"Topic2\", \"Topic2\", \"Topic2\", \"Topic2\", \"Topic2\", \"Topic2\", \"Topic2\", \"Topic2\", \"Topic2\", \"Topic2\", \"Topic2\", \"Topic2\", \"Topic2\", \"Topic2\", \"Topic3\", \"Topic3\", \"Topic3\", \"Topic3\", \"Topic3\", \"Topic3\", \"Topic3\", \"Topic3\", \"Topic3\", \"Topic3\", \"Topic3\", \"Topic3\", \"Topic3\", \"Topic3\", \"Topic3\", \"Topic3\", \"Topic3\", \"Topic3\", \"Topic3\", \"Topic3\", \"Topic3\", \"Topic3\", \"Topic3\", \"Topic3\", \"Topic3\", \"Topic3\", \"Topic3\", \"Topic3\", \"Topic3\", \"Topic3\", \"Topic3\", \"Topic3\", \"Topic3\", \"Topic3\", \"Topic3\", \"Topic3\", \"Topic3\", \"Topic3\", \"Topic3\", \"Topic3\", \"Topic3\", \"Topic3\", \"Topic3\", \"Topic3\", \"Topic3\", \"Topic3\", \"Topic3\", \"Topic3\", \"Topic3\", \"Topic3\", \"Topic3\", \"Topic3\", \"Topic4\", \"Topic4\", \"Topic4\", \"Topic4\", \"Topic4\", \"Topic4\", \"Topic4\", \"Topic4\", \"Topic4\", \"Topic4\", \"Topic4\", \"Topic4\", \"Topic4\", \"Topic4\", \"Topic4\", \"Topic4\", \"Topic4\", \"Topic4\", \"Topic4\", \"Topic4\", \"Topic4\", \"Topic4\", \"Topic4\", \"Topic4\", \"Topic4\", \"Topic4\", \"Topic4\", \"Topic4\", \"Topic4\", \"Topic4\", \"Topic4\", \"Topic4\", \"Topic4\", \"Topic4\", \"Topic4\", \"Topic4\", \"Topic4\", \"Topic4\", \"Topic4\", \"Topic4\", \"Topic4\", \"Topic4\", \"Topic4\", \"Topic4\", \"Topic4\", \"Topic4\", \"Topic4\", \"Topic4\", \"Topic4\"], \"logprob\": [30.0, 29.0, 28.0, 27.0, 26.0, 25.0, 24.0, 23.0, 22.0, 21.0, 20.0, 19.0, 18.0, 17.0, 16.0, 15.0, 14.0, 13.0, 12.0, 11.0, 10.0, 9.0, 8.0, 7.0, 6.0, 5.0, 4.0, 3.0, 2.0, 1.0, -4.2282, -4.2828, -4.5512, -5.1401, -5.2673, -5.4317, -5.5473, -5.5916, -5.7073, -5.7734, -5.8254, -5.8575, -5.9233, -6.0254, -6.0192, -6.0386, -6.0385, -6.093, -6.1039, -6.113, -6.1415, -6.1105, -6.2175, -6.3134, -5.3044, -6.4, -6.3846, -6.4173, -6.4133, -6.3848, -5.5483, -5.5812, -6.0274, -6.0869, -5.248, -5.0442, -4.0845, -4.5773, -3.521, -4.8392, -4.837, -3.7194, -4.7896, -4.8628, -4.2335, -5.471, -5.3479, -5.5455, -4.673, -5.3399, -5.2374, -5.2524, -5.4806, -5.3773, -4.7138, -5.5159, -5.6217, -6.0481, -6.0656, -6.3978, -6.4622, -6.5085, -6.5207, -6.5178, -6.5752, -6.5922, -6.6719, -6.7419, -6.7917, -6.7787, -6.8073, -6.8463, -6.8816, -6.8971, -6.8888, -6.9376, -6.9179, -6.9458, -6.8998, -6.9542, -6.988, -7.0054, -6.9897, -6.9946, -6.184, -6.5514, -5.4375, -6.0381, -6.2913, -5.9044, -5.8836, -6.2601, -5.5941, -5.8805, -6.1481, -6.2393, -6.1644, -5.9665, -6.3071, -6.5276, -5.8185, -5.2511, -5.8279, -5.2668, -5.5314, -6.0672, -5.2181, -5.0473, -5.9094, -5.76, -5.772, -5.4871, -5.9567, -5.8952, -5.9718, -6.1726, -3.914, -3.9156, -4.7951, -4.8944, -5.0331, -5.133, -5.262, -5.4116, -5.4966, -5.5627, -5.5949, -5.7708, -5.7999, -5.8269, -5.8744, -5.8585, -5.8866, -5.9622, -6.0666, -6.0878, -6.1181, -6.1161, -6.1179, -6.1517, -6.1454, -6.1907, -6.1842, -6.1658, -6.1838, -5.4917, -5.6839, -4.8774, -4.6687, -5.0175, -5.1841, -5.8952, -4.9427, -5.0859, -5.6811, -3.9216, -5.5083, -5.5499, -4.1416, -5.2551, -4.3911, -4.7537, -5.1821, -5.4456, -5.2067, -5.4569, -5.5753, -5.5056, -4.6135, -5.203, -5.3242, -5.3484, -5.4596, -5.4882, -5.4522, -5.6905, -5.7184, -5.7461, -5.7633, -5.8334, -5.8882, -5.9494, -6.0091, -6.0192, -6.0568, -6.0998, -6.1387, -6.2697, -6.3028, -6.3126, -6.3769, -6.3882, -6.3552, -6.3387, -6.4131, -6.3449, -6.4436, -6.4751, -6.4686, -6.2994, -5.6591, -5.7557, -5.1141, -5.2968, -5.254, -5.6184, -4.3575, -5.6205, -5.2707, -5.5992, -4.9197, -5.155, -5.5382, -5.5849, -5.6166, -5.615, -5.7953], \"loglift\": [30.0, 29.0, 28.0, 27.0, 26.0, 25.0, 24.0, 23.0, 22.0, 21.0, 20.0, 19.0, 18.0, 17.0, 16.0, 15.0, 14.0, 13.0, 12.0, 11.0, 10.0, 9.0, 8.0, 7.0, 6.0, 5.0, 4.0, 3.0, 2.0, 1.0, 1.2241, 1.2241, 1.2241, 1.2241, 1.2241, 1.2241, 1.2241, 1.224, 1.224, 1.224, 1.224, 1.224, 1.224, 1.224, 1.224, 1.224, 1.224, 1.224, 1.224, 1.224, 1.224, 1.224, 1.224, 1.224, 1.224, 1.224, 1.224, 1.224, 1.224, 1.224, 1.224, 1.2222, 1.2162, 1.2097, 1.1212, 1.0969, 0.9803, 0.9961, 0.684, 0.9064, 0.8682, 0.5354, 0.8498, 0.8551, 0.4821, 0.9426, 0.7445, 0.8652, -0.0145, 0.5709, 0.2443, 0.1763, 0.6136, 0.0671, 1.3307, 1.3307, 1.3307, 1.3306, 1.3306, 1.3306, 1.3306, 1.3306, 1.3306, 1.3306, 1.3306, 1.3306, 1.3306, 1.3306, 1.3306, 1.3306, 1.3306, 1.3306, 1.3306, 1.3306, 1.3306, 1.3306, 1.3306, 1.3306, 1.3306, 1.3306, 1.3306, 1.3306, 1.3306, 1.3306, 1.33, 1.3263, 1.2919, 1.2413, 1.2526, 1.2021, 1.1989, 1.2208, 1.0514, 1.0399, 1.0935, 1.0997, 1.0478, 0.8839, 1.0637, 1.1731, 0.6617, 0.2305, 0.6551, 0.1776, 0.3922, 0.796, -0.5025, -0.7925, 0.4426, 0.1813, -0.0541, -0.8286, -0.0459, -0.4666, -1.7668, -0.0136, 1.3892, 1.3892, 1.3892, 1.3892, 1.3892, 1.3892, 1.3892, 1.3892, 1.3892, 1.3892, 1.3892, 1.3892, 1.3892, 1.3892, 1.3891, 1.3891, 1.3891, 1.3891, 1.3891, 1.3891, 1.3891, 1.3891, 1.3891, 1.3891, 1.3891, 1.3891, 1.3891, 1.3891, 1.3891, 1.3891, 1.3885, 1.3565, 1.2661, 1.2708, 1.2875, 1.3484, 1.1224, 1.1508, 1.273, 0.7369, 1.1796, 1.1937, 0.1132, 0.8496, -0.1861, -0.0381, 0.2465, 0.6616, -0.1418, 0.4844, 0.6735, -0.0612, 1.6482, 1.6481, 1.6481, 1.6481, 1.6481, 1.6481, 1.6481, 1.6481, 1.6481, 1.6481, 1.6481, 1.6481, 1.6481, 1.6481, 1.6481, 1.6481, 1.6481, 1.6481, 1.6481, 1.6481, 1.6481, 1.6481, 1.6481, 1.6481, 1.6481, 1.6481, 1.6481, 1.6481, 1.6481, 1.6481, 1.6481, 1.6449, 1.4445, 1.4615, 1.1474, 0.994, 0.9303, 1.1144, -0.1525, 0.9993, 0.3687, 0.6377, -0.6649, -0.4395, 0.167, -0.1562, -0.1349, -0.9565, -0.3509]}, \"token.table\": {\"Topic\": [4, 2, 1, 1, 2, 2, 1, 2, 4, 3, 4, 2, 4, 1, 2, 2, 3, 4, 3, 3, 3, 3, 3, 4, 2, 1, 2, 3, 1, 3, 4, 3, 2, 2, 2, 4, 2, 3, 1, 2, 2, 2, 4, 3, 1, 2, 3, 4, 1, 2, 4, 4, 4, 3, 4, 1, 2, 1, 2, 3, 4, 2, 3, 2, 3, 4, 1, 2, 3, 4, 3, 4, 4, 4, 3, 4, 1, 2, 3, 4, 1, 2, 3, 4, 1, 2, 3, 4, 3, 4, 1, 2, 3, 4, 1, 2, 3, 4, 1, 2, 3, 4, 1, 2, 3, 4, 1, 2, 3, 4, 2, 3, 1, 2, 3, 4, 2, 4, 2, 1, 2, 3, 4, 4, 2, 4, 4, 1, 2, 3, 4, 1, 2, 3, 3, 4, 3, 1, 3, 1, 3, 1, 1, 2, 3, 4, 1, 2, 4, 3, 1, 1, 1, 1, 2, 3, 4, 3, 1, 1, 1, 4, 1, 1, 3, 2, 1, 2, 4, 4, 1, 2, 4, 1, 3, 3, 4, 4, 4, 1, 3, 4, 1, 2, 4, 1, 2, 3, 4, 1, 2, 3, 3, 1, 1, 4, 2, 1, 2, 4, 1, 2, 4, 4, 3, 2, 2, 1, 2, 3, 4, 1, 4, 1, 1, 2, 4, 4, 2, 3, 4, 2, 3, 1, 3, 4, 1, 2, 4, 4, 4, 1, 3, 2, 3, 1, 2, 4, 2, 1, 1, 4, 3, 1, 4, 4, 1, 1, 1, 4, 3, 3, 4, 2, 1, 1, 1, 3, 1, 2, 4, 3, 3, 2, 1, 1, 2, 2, 3, 4, 2, 4, 2, 1, 2, 4, 2, 2, 1, 2, 4, 3, 3, 1, 2, 3, 4, 3, 1, 2, 4, 1, 2, 3, 4, 2, 1, 2, 3, 4, 1, 1, 2, 3, 1, 1, 3, 4, 2, 2, 1, 2, 3, 4, 2, 3, 4, 1, 3, 4, 1, 2, 3, 4, 2, 1, 1, 4], \"Freq\": [0.9999344657492859, 0.9999227826869291, 0.9999817958148318, 0.9999390455947565, 4.6567272649129446e-05, 0.9999800919421147, 0.999943575500353, 0.999920764565947, 0.9999619736650434, 0.9999673861921113, 0.9999541185137029, 0.8793061233822145, 0.1206882619906301, 0.07501845672091574, 0.9249062170527298, 0.004236969477511249, 0.9600306346459756, 0.03570479896779142, 0.9999527381026406, 0.9999637851947863, 0.999939285571969, 0.9999311604472852, 0.3939239218487516, 0.6060765762381014, 0.999899912529246, 0.37434703813052833, 0.13679994513577876, 0.48884283573226617, 0.727859790507298, 0.1777261502067831, 0.09441901296468874, 0.9999385931768199, 0.999905330538309, 0.9999769249261624, 0.9998296040929767, 0.9999385204137266, 0.9619451303057172, 0.038031448096840614, 0.1457237463055601, 0.854190793617731, 0.9999066022782801, 0.793732575962427, 0.20622279370192237, 0.9999720297289535, 0.2076453464311244, 0.20111497681363447, 0.06859439023996235, 0.5226081341934208, 0.1589146269444077, 0.7888246534484141, 0.052258920669311947, 0.9999315159985716, 0.9998846625129455, 0.17028502676074508, 0.8296816876967857, 0.9857173696247992, 0.014255205875009825, 0.10634451310977128, 0.1436268234245915, 0.5829819316930674, 0.16702353083802116, 0.9998581678098554, 0.9999656834665911, 0.9998491454949536, 0.8883704101186489, 0.11160027374279625, 0.0009111133035135882, 0.5858133143983975, 0.24157518447445997, 0.17167977819063185, 0.9999688468239495, 0.9999772676895327, 0.9999472329218577, 0.9999272558014406, 0.9999938168331629, 0.9999703765434348, 0.2746570191849655, 0.5122168143552882, 0.07213102588014564, 0.14097832618961714, 0.3835510861955635, 0.2607323444885676, 0.27621342802134147, 0.07951354858153392, 0.28980621604403217, 0.11541285814915153, 0.5208544460933535, 0.07392839931010549, 0.9999796753725977, 0.9999020592287524, 0.5022299775150116, 0.11964704538211249, 0.27916685212193376, 0.09895568034237336, 0.582705338162266, 0.045163956404128715, 0.20694103845456352, 0.16519071644087108, 0.5431230100516903, 0.14791878029317465, 0.3053247547134429, 0.0036349980677735385, 0.6190519172556718, 0.15627985750696483, 0.06511660729456868, 0.159546979768912, 0.47616416606817125, 0.15990306948517716, 0.2399533942621402, 0.12398149313994228, 0.8765608662352373, 0.12343416386447843, 0.18467026055639155, 0.15268938831370002, 0.14275732638299043, 0.5198819403952576, 0.9999172145416945, 0.9998947427451123, 0.999927940833306, 0.12314189157416817, 0.31682438742405805, 0.40460537424936904, 0.15542230754914982, 0.9999442517671686, 0.999882689452306, 0.9999761228602246, 0.9999314275180435, 0.35071360101518884, 0.16574804940884932, 0.31896867503748727, 0.16456972737011658, 0.48591143647960006, 0.4114125630444043, 0.10266284366495407, 0.9678239750438881, 0.032154427097186015, 0.9999292252538385, 0.000641869049063742, 0.9993499925766799, 0.999981212354473, 0.9999731383657332, 0.9999300084628884, 0.9999391180691819, 0.9999300686202701, 0.9033193416801927, 0.0966561594385186, 0.15482649364553827, 0.7656451220327369, 0.0795215684890317, 0.9999659409513364, 0.9999907691630778, 0.9999602472614206, 0.999957481894859, 0.28610744919274816, 0.07985459995093473, 0.48308518512223525, 0.150953615177054, 0.9999762982758608, 0.9999869361582893, 0.999961836430248, 0.0032615636567119442, 0.9966954821540324, 0.9999083727456042, 0.783685324650473, 0.2163107488346078, 0.999853990546791, 0.06874486215000686, 0.11551288998234144, 0.8157502907746147, 0.999969243646625, 0.6877872661103348, 0.034042904730525174, 0.2781717812743082, 0.999946012108261, 0.9999719121142209, 0.8841902007601031, 0.11579492629621935, 0.9998850160358745, 0.999931152359492, 0.45154848528378977, 0.1844009974380159, 0.3640358526915194, 0.24367041296458386, 0.7563232261465985, 0.9999770530141701, 0.3144233892884978, 0.3156440381223333, 0.2344669530953876, 0.1354605199406765, 0.2451635112533023, 0.7476884090914134, 0.007132655914186026, 0.9999608557315397, 0.9999929822598129, 0.9999507469679113, 0.999921486109688, 0.9999237585313087, 0.2694152847708106, 0.2428104428784713, 0.48776643752245386, 0.00012071719928344702, 0.8959630530817437, 0.10387714998340615, 0.9999553831526968, 0.9999698024915417, 0.9998640327973854, 0.9999166256918723, 0.7961345164830986, 0.013179166042995669, 0.1886654510764125, 0.0020248072914459694, 0.880614140052383, 0.11937744324392102, 0.9999903180342676, 0.9022813440153784, 0.09771835234604685, 0.9998576154564812, 0.9999409670742063, 0.07771248285621382, 0.7879259592366478, 0.13436189124087997, 3.311960516483663e-05, 0.9999471191367475, 0.1473464640934722, 0.7658558808787573, 0.08679934378144988, 0.9921643915574382, 0.00014281911494996952, 0.007712232207298353, 0.9999652583689165, 0.9999409066070029, 0.18908271461253662, 0.8108928549544573, 0.10966110399570075, 0.8902970552215146, 0.691453829812172, 0.25037985566319143, 0.058163828527779085, 0.9999823241484074, 0.9999815980840617, 0.9980912295828673, 0.0018698309328508001, 0.9999376079404511, 0.999899833326941, 8.914146682062414e-05, 0.9999695483901914, 0.999965709967598, 0.9999620233604756, 0.9999265850075986, 0.9999602792654129, 0.9999505574854416, 0.9999617547912908, 0.9998961740828447, 0.9998968957872916, 0.999939282243806, 0.9999517575911876, 0.9999661389241901, 0.999959176852583, 0.7546754603728667, 0.18988836019173708, 0.05542216022211827, 0.9999779624596883, 0.9999262943325233, 0.9999554073665642, 0.9999840462517052, 0.9999700517789549, 0.9999324138593395, 0.7536126115296811, 0.2305357955196704, 0.015824250122723024, 0.9992873823399466, 0.0006862380575439764, 0.9999357837941967, 0.0018847077625182382, 0.9955744385530865, 0.002512943683357651, 0.9999012223459186, 0.9998941323236783, 0.6984386733936699, 0.13659570463739654, 0.16494966150909857, 0.9999759149694163, 0.9999492224098876, 0.3754001035272099, 0.33281977212591135, 0.12366197992682762, 0.16812241810913958, 0.9999910891793605, 0.0855003238588837, 0.9144538388484764, 0.9998655042861597, 0.31444000461197974, 0.3912092976051662, 0.19611330736142482, 0.09823468417630701, 0.9999456836440568, 0.5203846518844338, 0.25243363559566495, 0.15012689185124392, 0.07705961383031737, 0.9999741259657272, 0.15363384636349178, 0.6396912411006869, 0.20667639766966595, 0.9999957347311865, 0.9999705826293148, 0.9999532821326048, 0.9998947250770868, 0.9998418047469425, 0.9999008739429899, 0.9999138713125798, 0.15219143825118323, 0.822428557607039, 0.025350803032543896, 0.9999388916944809, 0.9999598901245789, 0.9999483237016155, 0.7005417437518057, 0.07208422647062383, 0.22737401214018102, 0.26227034023178, 0.5088551876010383, 0.19065104728928764, 0.03822365494725127, 0.999951983921478, 0.9999386137164301, 0.4136247214456736, 0.5863634533406766], \"Term\": [\"Action_Role-playing_Game_(Video_Game_Genre\", \"PlayStation_4 Sony_Interactive_Entertainment\", \"adventure\", \"android\", \"android\", \"anime\", \"ark\", \"batman\", \"beamng\", \"blizzard\", \"car\", \"card\", \"card\", \"channel\", \"channel\", \"clan\", \"clan\", \"clan\", \"clash\", \"clip\", \"clutch\", \"coc\", \"cod\", \"cod\", \"code\", \"comedy\", \"comedy\", \"comedy\", \"commentary\", \"commentary\", \"commentary\", \"competitive\", \"contest\", \"counter\", \"counter_strike\", \"crash\", \"csgo\", \"csgo\", \"dark\", \"dark\", \"dbz\", \"deck\", \"deck\", \"destiny\", \"dlc\", \"dlc\", \"dlc\", \"dlc\", \"dragon\", \"dragon\", \"dragon\", \"drift\", \"drive\", \"duty\", \"duty\", \"end\", \"end\", \"epic\", \"epic\", \"epic\", \"epic\", \"espa\\u00f1ol\", \"esport\", \"exploit\", \"fail\", \"fail\", \"fast\", \"fast\", \"fast\", \"fast\", \"faze\", \"fifa\", \"fnaf\", \"football\", \"fortnite\", \"forza\", \"free\", \"free\", \"free\", \"free\", \"fun\", \"fun\", \"fun\", \"fun\", \"funny\", \"funny\", \"funny\", \"funny\", \"funny_moment\", \"fut\", \"game\", \"game\", \"game\", \"game\", \"gameplay\", \"gameplay\", \"gameplay\", \"gameplay\", \"gamer\", \"gamer\", \"gamer\", \"gamer\", \"games\", \"games\", \"games\", \"games\", \"gaming\", \"gaming\", \"gaming\", \"gaming\", \"giveaway\", \"giveaway\", \"glitch\", \"glitch\", \"glitch\", \"glitch\", \"global\", \"goal\", \"goku\", \"good\", \"good\", \"good\", \"good\", \"grand\", \"growtopia\", \"gta\", \"gtav\", \"guide\", \"guide\", \"guide\", \"guide\", \"hack\", \"hack\", \"hack\", \"highlight\", \"highlight\", \"highlights\", \"hilarious\", \"hilarious\", \"horror\", \"hypixel\", \"indie\", \"ios\", \"japan\", \"league\", \"league\", \"leak\", \"leak\", \"leak\", \"legion\", \"let\", \"let_play\", \"letsplay\", \"live\", \"live\", \"live\", \"live\", \"lol\", \"mario\", \"mcpe\", \"melee\", \"melee\", \"microsoft\", \"minecraft\", \"minecraft\", \"miniature\", \"mmo\", \"mmo\", \"mmo\", \"mmorpg\", \"mod\", \"mod\", \"mod\", \"modde\", \"moment\", \"montage\", \"montage\", \"motorsport\", \"mtg\", \"multiplayer\", \"multiplayer\", \"multiplayer\", \"music\", \"music\", \"nba\", \"new\", \"new\", \"new\", \"new\", \"news\", \"news\", \"news\", \"ninja\", \"nintendo\", \"nintendo_switch\", \"nvidia\", \"offensive\", \"online\", \"online\", \"online\", \"opening\", \"opening\", \"opening\", \"osrs\", \"overwatch\", \"paint\", \"plane\", \"play\", \"play\", \"play\", \"play\", \"playstation\", \"playstation\", \"playthrough\", \"pokemon\", \"pokemon\", \"police\", \"prettyboyfredo\", \"pro\", \"pro\", \"pro\", \"pubg\", \"pubg\", \"pvp\", \"pvp\", \"pvp\", \"quality\", \"quality\", \"quality\", \"race\", \"racing\", \"raid\", \"raid\", \"rank\", \"rank\", \"review\", \"review\", \"review\", \"roblox\", \"role\", \"roleplay\", \"roleplay\", \"royale\", \"rpg\", \"rpg\", \"runescape\", \"rust\", \"scary\", \"sega\", \"sharefactory\", \"siege\", \"snipe\", \"soccer\", \"song\", \"sonic\", \"sony\", \"speedrun\", \"spider\", \"steam\", \"steam\", \"steam\", \"stream\", \"streamer\", \"strike\", \"survival\", \"switch\", \"tabletop\", \"tank\", \"tank\", \"tank\", \"tcg\", \"tcg\", \"technology\", \"toy\", \"toy\", \"toy\", \"trade\", \"trading\", \"trailer\", \"trailer\", \"trailer\", \"troll\", \"trolling\", \"tutorial\", \"tutorial\", \"tutorial\", \"tutorial\", \"twitch\", \"unbox\", \"unbox\", \"undertale\", \"update\", \"update\", \"update\", \"update\", \"vegeta\", \"video\", \"video\", \"video\", \"video\", \"videogame\", \"vlog\", \"vlog\", \"vlog\", \"walkthrough\", \"walkthrough_playthrough\", \"warcraft\", \"warfare\", \"wargaming\", \"warhammer\", \"wii\", \"win\", \"win\", \"win\", \"wot\", \"wow\", \"wwe\", \"xbox\", \"xbox\", \"xbox\", \"youtube\", \"youtube\", \"youtube\", \"youtube\", \"yugioh\", \"zelda\", \"zombie\", \"zombie\"]}, \"R\": 30, \"lambda.step\": 0.01, \"plot.opts\": {\"xlab\": \"PC1\", \"ylab\": \"PC2\"}, \"topic.order\": [2, 4, 3, 1]};\n",
       "\n",
       "function LDAvis_load_lib(url, callback){\n",
       "  var s = document.createElement('script');\n",
       "  s.src = url;\n",
       "  s.async = true;\n",
       "  s.onreadystatechange = s.onload = callback;\n",
       "  s.onerror = function(){console.warn(\"failed to load library \" + url);};\n",
       "  document.getElementsByTagName(\"head\")[0].appendChild(s);\n",
       "}\n",
       "\n",
       "if(typeof(LDAvis) !== \"undefined\"){\n",
       "   // already loaded: just create the visualization\n",
       "   !function(LDAvis){\n",
       "       new LDAvis(\"#\" + \"ldavis_el2795625624690656641728322355\", ldavis_el2795625624690656641728322355_data);\n",
       "   }(LDAvis);\n",
       "}else if(typeof define === \"function\" && define.amd){\n",
       "   // require.js is available: use it to load d3/LDAvis\n",
       "   require.config({paths: {d3: \"https://d3js.org/d3.v5\"}});\n",
       "   require([\"d3\"], function(d3){\n",
       "      window.d3 = d3;\n",
       "      LDAvis_load_lib(\"https://cdn.jsdelivr.net/gh/bmabey/pyLDAvis@3.3.1/pyLDAvis/js/ldavis.v3.0.0.js\", function(){\n",
       "        new LDAvis(\"#\" + \"ldavis_el2795625624690656641728322355\", ldavis_el2795625624690656641728322355_data);\n",
       "      });\n",
       "    });\n",
       "}else{\n",
       "    // require.js not available: dynamically load d3 & LDAvis\n",
       "    LDAvis_load_lib(\"https://d3js.org/d3.v5.js\", function(){\n",
       "         LDAvis_load_lib(\"https://cdn.jsdelivr.net/gh/bmabey/pyLDAvis@3.3.1/pyLDAvis/js/ldavis.v3.0.0.js\", function(){\n",
       "                 new LDAvis(\"#\" + \"ldavis_el2795625624690656641728322355\", ldavis_el2795625624690656641728322355_data);\n",
       "            })\n",
       "         });\n",
       "}\n",
       "</script>"
      ],
      "text/plain": [
       "<IPython.core.display.HTML object>"
      ]
     },
     "execution_count": 41,
     "metadata": {},
     "output_type": "execute_result"
    }
   ],
   "source": [
    "# topic detection for all videos from tags\n",
    "model, corpus, dictionary = topic_detection( tags_metadata.tags, \"tag\" )\n",
    "data =  pyLDAvis.gensim_models.prepare(model, corpus, dictionary)\n",
    "pyLDAvis.display(data)"
   ]
  },
  {
   "cell_type": "code",
   "execution_count": null,
   "id": "84ad1313",
   "metadata": {},
   "outputs": [],
   "source": []
  },
  {
   "cell_type": "code",
   "execution_count": null,
   "id": "2b85974e",
   "metadata": {},
   "outputs": [],
   "source": []
  },
  {
   "cell_type": "code",
   "execution_count": 42,
   "id": "2915df36",
   "metadata": {},
   "outputs": [],
   "source": [
    "positive_sent = []\n",
    "negative_sent = []\n",
    "neutral_sent = []\n",
    "compound_sent = []\n",
    "\n",
    "#iterate through the sentences, get polarity scores, choose a value\n",
    "analyzer = SentimentIntensityAnalyzer()\n",
    "for title in titles_metadata.title:\n",
    "    score = analyzer.polarity_scores(title)\n",
    "    positive_sent.append(score['pos'])\n",
    "    negative_sent.append(score['neg'])\n",
    "    neutral_sent.append(score['neu'])\n",
    "    compound_sent.append(score['compound'])\n",
    "\n",
    "video_metadatas['title_pos_scr'] = positive_sent\n",
    "video_metadatas['title_neg_scr'] = negative_sent\n",
    "video_metadatas['title_neu_scr'] = neutral_sent\n",
    "video_metadatas['title_com_scr'] = compound_sent"
   ]
  },
  {
   "cell_type": "raw",
   "id": "d1959d11",
   "metadata": {},
   "source": [
    "# Write your code to make 4x4 panel here\n",
    "\n",
    "fig, ax = plt.subplots(5,3,figsize= (12,12), sharey = True, sharex = True)\n",
    "\n",
    "year = [2015, 2016, 2017, 2018, 2019]\n",
    "\n",
    "for i in np.arange(5):\n",
    "    sbplt = ax[i, 0]\n",
    "    sbplt.hist(video_metadatas[video_metadatas['yearNumber'] == year[i] ].title_neg_scr,bins = 15)\n",
    "    sbplt.set_title('title negative score:' + str(year[i]) )\n",
    "\n",
    "    sbplt = ax[i, 1]\n",
    "    sbplt.hist(video_metadatas[video_metadatas['yearNumber'] == year[i] ].title_neu_scr,bins = 15)\n",
    "    sbplt.set_title('title neutral score:' + str(year[i]) )\n",
    "\n",
    "    sbplt = ax[i, 2]\n",
    "    sbplt.hist(video_metadatas[video_metadatas['yearNumber'] == year[i] ].title_pos_scr,bins = 15)\n",
    "    sbplt.set_title('title positive score:' + str(year[i]) )\n",
    "\n",
    "\n",
    "fig.tight_layout()\n",
    "\n",
    "fig.text(0.4,0, \"sentimental score\")\n",
    "fig.text(0,0.6, \"Number of videos\", rotation = 90)\n"
   ]
  },
  {
   "cell_type": "code",
   "execution_count": 43,
   "id": "8d60444d",
   "metadata": {},
   "outputs": [
    {
     "data": {
      "text/plain": [
       "Text(0, 0.6, 'Number of videos')"
      ]
     },
     "execution_count": 43,
     "metadata": {},
     "output_type": "execute_result"
    },
    {
     "data": {
      "image/png": "[encoded data removed]",
      "text/plain": [
       "<Figure size 864x864 with 5 Axes>"
      ]
     },
     "metadata": {
      "needs_background": "light"
     },
     "output_type": "display_data"
    }
   ],
   "source": [
    "# Write your code to make 4x4 panel here\n",
    "\n",
    "fig, ax = plt.subplots(5, 1,figsize= (12,12), sharey = True, sharex = True)\n",
    "\n",
    "year = [2015, 2016, 2017, 2018, 2019]\n",
    "\n",
    "for i in np.arange(5):\n",
    "    sbplt = ax[i]\n",
    "    sbplt.hist(video_metadatas[video_metadatas['yearNumber'] == year[i] ].title_com_scr,bins = 15)\n",
    "    sbplt.set_title('title compound score:' + str(year[i]) )\n",
    "\n",
    "\n",
    "fig.tight_layout()\n",
    "\n",
    "fig.text(0.4,0, \"sentimental score\")\n",
    "fig.text(0,0.6, \"Number of videos\", rotation = 90)"
   ]
  },
  {
   "cell_type": "code",
   "execution_count": null,
   "id": "cb7c1283",
   "metadata": {},
   "outputs": [],
   "source": []
  },
  {
   "cell_type": "markdown",
   "id": "5894abc1",
   "metadata": {},
   "source": [
    "### Sub-Question 3\n",
    "\n",
    "**Description:** Can we predict the channel's success based on channel information, including average video length, upload frequency, usual time of uploads, categories of videos uploaded, positive/negative sentiments of the title, person pronouns to address the viewers, the number of words in the title, and the number of tags used?  \n",
    "**Method:** We can implement kNN method or Random Forests to train the dataset.  \n",
    "**Timeline:** By 13/12/2022  \n",
    "**Organization:** Dorothee  "
   ]
  },
  {
   "cell_type": "code",
   "execution_count": null,
   "id": "fb350ea8",
   "metadata": {},
   "outputs": [],
   "source": []
  },
  {
   "cell_type": "code",
   "execution_count": null,
   "id": "d57be6ae",
   "metadata": {},
   "outputs": [],
   "source": []
  },
  {
   "cell_type": "markdown",
   "id": "5d89b4e0",
   "metadata": {},
   "source": [
    "### Sub-Question 4\n",
    "**Description:** What are the most common topics in each of the chosen categories?  \n",
    "**Method:** The yt_metadata_en.jsonl.gz dataset will be used to get a list of tags of each video according to its category. It is further split and classified according to the topics that occur most frequently. This way, we get the most used keywords in each video category and therefore the most popular topics.  \n",
    "**Timeline:** By 15/12/2022  \n",
    "**Organization:** Jules  "
   ]
  },
  {
   "cell_type": "code",
   "execution_count": null,
   "id": "272014e0",
   "metadata": {},
   "outputs": [],
   "source": []
  },
  {
   "cell_type": "code",
   "execution_count": null,
   "id": "4640ed6f",
   "metadata": {},
   "outputs": [],
   "source": []
  },
  {
   "cell_type": "markdown",
   "id": "2600e95a",
   "metadata": {},
   "source": [
    "### Sub-Question 5\n",
    "**Description:** Does a channel's success increase with a greater variety of categories?  \n",
    "**Method:** For this question, we will determine whether the filtered channels use multiple categories in their videos, and if they showed clear shifts from one category to another. Ultimately, we want to use this information and methods such as A/B testing and observational studies to determine whether a greater variety of categories can aid to a channels’ success.  \n",
    "**Timeline:** By 18/12/2022  \n",
    "**Organization:** Paul  "
   ]
  },
  {
   "cell_type": "code",
   "execution_count": null,
   "id": "15721c01",
   "metadata": {},
   "outputs": [],
   "source": []
  },
  {
   "cell_type": "code",
   "execution_count": null,
   "id": "0cad8f80",
   "metadata": {},
   "outputs": [],
   "source": []
  }
 ],
 "metadata": {
  "kernelspec": {
   "display_name": "Python 3 (ipykernel)",
   "language": "python",
   "name": "python3"
  },
  "language_info": {
   "codemirror_mode": {
    "name": "ipython",
    "version": 3
   },
   "file_extension": ".py",
   "mimetype": "text/x-python",
   "name": "python",
   "nbconvert_exporter": "python",
   "pygments_lexer": "ipython3",
   "version": "3.9.12"
  },
  "vscode": {
   "interpreter": {
    "hash": "51736a51b0947f81e88b81bb11ec09266575dbab6a2d06ed6812e586915eb5fe"
   }
  }
 },
 "nbformat": 4,
 "nbformat_minor": 5
}
