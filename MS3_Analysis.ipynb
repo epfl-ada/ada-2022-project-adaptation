{
   "cells": [
      {
         "cell_type": "markdown",
         "id": "e2af5202-cd4d-4fe2-9e7e-48869ec70229",
         "metadata": {},
         "source": [
            "# Part 0: Initialising"
         ]
      },
      {
         "cell_type": "code",
         "execution_count": 44,
         "id": "b347be5c-381b-4203-a676-ae35909a42cc",
         "metadata": {},
         "outputs": [],
         "source": [
            "# Initializing\n",
            "import matplotlib.font_manager as font_manager\n",
            "from matplotlib.lines import Line2D\n",
            "import matplotlib as mpl\n",
            "import matplotlib.ticker as mtick\n",
            "import matplotlib.pyplot as plt\n",
            "import pandas as pd\n",
            "import numpy as np\n",
            "import seaborn as sns\n",
            "import os\n",
            "import re\n",
            "from scipy.stats import bootstrap\n",
            "import statsmodels.api as sm\n",
            "import statsmodels.formula.api as smf\n",
            "import requests\n",
            "\n",
            "params = {\n",
            "    \"axes.titlesize\": 14,\n",
            "    \"axes.labelsize\": 12,\n",
            "    \"font.size\": 12,\n",
            "    \"legend.fontsize\": 12,\n",
            "    \"xtick.labelsize\": 12,\n",
            "    \"ytick.labelsize\": 12,\n",
            "    \"text.usetex\": False,\n",
            "}\n",
            "\n",
            "NUM_COLORS = 15\n",
            "cm = plt.get_cmap('nipy_spectral')\n",
            "\n",
            "mpl.rcParams.update(params)\n",
            "\n",
            "import warnings\n",
            "\n",
            "warnings.filterwarnings(\"ignore\")"
         ]
      },
      {
         "cell_type": "markdown",
         "id": "9c4e5555-b4fc-4cd9-acea-f54ff5aef1ad",
         "metadata": {},
         "source": [
            "To start with, we import three datasets that are available from YouNiverse:\n",
            "\n",
            "``df_channels_en.tsv.gz``   \n",
            "``df_timeseries_en.tsv.gz``   \n",
            "``yt_metadata_helper.feather``\n",
            "\n",
            "To start with, we will filter the channels that have been identified as Gaming, as it is our target category. We will do this by identifying the channel IDs with label ``Gaming`` in ``Category`` from ``df_channels_en.tsv.gz``."
         ]
      },
      {
         "cell_type": "code",
         "execution_count": 45,
         "id": "df97ef38",
         "metadata": {},
         "outputs": [],
         "source": [
            "df_channels = pd.read_csv(\"./data/df_channels_en.tsv.gz\", compression=\"infer\", sep=\"\\t\")\n",
            "df_channels[\"join_date\"] = pd.to_datetime(df_channels[\"join_date\"])\n",
            "\n",
            "df_channels = df_channels[df_channels['category_cc'] == \"Gaming\"]\n",
            "channel_id_gaming = df_channels.channel"
         ]
      },
      {
         "cell_type": "markdown",
         "id": "d5ca7894",
         "metadata": {},
         "source": [
            "``channel_id_gaming`` contains all channel IDs that are identified as Gaming.  we will then use this list to do initial filtering of both ``df_time_series`` and ``video_metadatas``."
         ]
      },
      {
         "cell_type": "code",
         "execution_count": 47,
         "id": "2c93da3e-46e0-4e9b-98dc-c725a9d981fa",
         "metadata": {},
         "outputs": [],
         "source": [
            "df_time_series = pd.read_csv(\n",
            "    \"./data/df_timeseries_en.tsv.gz\", compression=\"infer\", sep=\"\\t\"\n",
            ")\n",
            "df_time_series[\"datetime\"] = pd.to_datetime(df_time_series[\"datetime\"])\n",
            "# round the total number of subscribers, it is easier to consider 1 person and instead half of a person...\n",
            "df_time_series.subs = df_time_series.subs.round(0)\n",
            "\n",
            "# we filter the channels being labeled as \"Gaming\" in df_channels_en.tsv.gz\n",
            "df_time_series = df_time_series[\n",
            "    df_time_series['channel'].isin(channel_id_gaming)\n",
            "]"
         ]
      },
      {
         "cell_type": "code",
         "execution_count": 49,
         "id": "bfb8de83-f104-4db7-a03d-45eedff3600d",
         "metadata": {},
         "outputs": [],
         "source": [
            "video_metadatas = pd.read_feather(\n",
            "    \"./data/yt_metadata_helper.feather\",\n",
            "    columns=[\n",
            "        \"categories\",\n",
            "        \"upload_date\",\n",
            "        \"duration\",\n",
            "        \"like_count\",\n",
            "        \"dislike_count\",\n",
            "        \"view_count\",\n",
            "        \"channel_id\",\n",
            "        \"display_id\"\n",
            "    ],\n",
            ")\n",
            "\n",
            "# we added these two columns for analysis later on.\n",
            "video_metadatas[\"yearNumber\"] = video_metadatas[\"upload_date\"].dt.year\n",
            "video_metadatas[\"weekNumber\"] = video_metadatas[\"upload_date\"].dt.weekday\n",
            "\n",
            "# we filter the channels being labeled as \"Gaming\" in df_channels_en.tsv.gz\n",
            "video_metadatas = video_metadatas[\n",
            "    video_metadatas['channel_id'].isin(channel_id_gaming)\n",
            "]"
         ]
      },
      {
         "cell_type": "code",
         "execution_count": 50,
         "id": "2d574dee",
         "metadata": {},
         "outputs": [
            {
               "data": {
                  "text/html": [
                     "<div>\n",
                     "<style scoped>\n",
                     "    .dataframe tbody tr th:only-of-type {\n",
                     "        vertical-align: middle;\n",
                     "    }\n",
                     "\n",
                     "    .dataframe tbody tr th {\n",
                     "        vertical-align: top;\n",
                     "    }\n",
                     "\n",
                     "    .dataframe thead th {\n",
                     "        text-align: right;\n",
                     "    }\n",
                     "</style>\n",
                     "<table border=\"1\" class=\"dataframe\">\n",
                     "  <thead>\n",
                     "    <tr style=\"text-align: right;\">\n",
                     "      <th></th>\n",
                     "      <th>categories</th>\n",
                     "      <th>upload_date</th>\n",
                     "      <th>duration</th>\n",
                     "      <th>like_count</th>\n",
                     "      <th>dislike_count</th>\n",
                     "      <th>view_count</th>\n",
                     "      <th>channel_id</th>\n",
                     "      <th>display_id</th>\n",
                     "      <th>yearNumber</th>\n",
                     "      <th>weekNumber</th>\n",
                     "    </tr>\n",
                     "  </thead>\n",
                     "  <tbody>\n",
                     "    <tr>\n",
                     "      <th>0</th>\n",
                     "      <td>Film &amp; Animation</td>\n",
                     "      <td>2016-09-28</td>\n",
                     "      <td>1159</td>\n",
                     "      <td>8.0</td>\n",
                     "      <td>1.0</td>\n",
                     "      <td>1057.0</td>\n",
                     "      <td>UCzWrhkg9eK5I8Bm3HfV-unA</td>\n",
                     "      <td>SBqSc91Hn9g</td>\n",
                     "      <td>2016</td>\n",
                     "      <td>2</td>\n",
                     "    </tr>\n",
                     "    <tr>\n",
                     "      <th>1</th>\n",
                     "      <td>Film &amp; Animation</td>\n",
                     "      <td>2016-09-28</td>\n",
                     "      <td>2681</td>\n",
                     "      <td>23.0</td>\n",
                     "      <td>1.0</td>\n",
                     "      <td>12894.0</td>\n",
                     "      <td>UCzWrhkg9eK5I8Bm3HfV-unA</td>\n",
                     "      <td>UuugEl86ESY</td>\n",
                     "      <td>2016</td>\n",
                     "      <td>2</td>\n",
                     "    </tr>\n",
                     "    <tr>\n",
                     "      <th>2</th>\n",
                     "      <td>Film &amp; Animation</td>\n",
                     "      <td>2016-09-28</td>\n",
                     "      <td>1394</td>\n",
                     "      <td>1607.0</td>\n",
                     "      <td>779.0</td>\n",
                     "      <td>1800602.0</td>\n",
                     "      <td>UCzWrhkg9eK5I8Bm3HfV-unA</td>\n",
                     "      <td>oB4c-yvnbjs</td>\n",
                     "      <td>2016</td>\n",
                     "      <td>2</td>\n",
                     "    </tr>\n",
                     "    <tr>\n",
                     "      <th>3</th>\n",
                     "      <td>Film &amp; Animation</td>\n",
                     "      <td>2016-09-28</td>\n",
                     "      <td>5064</td>\n",
                     "      <td>227.0</td>\n",
                     "      <td>24.0</td>\n",
                     "      <td>57640.0</td>\n",
                     "      <td>UCzWrhkg9eK5I8Bm3HfV-unA</td>\n",
                     "      <td>ZaV-gTCMV8E</td>\n",
                     "      <td>2016</td>\n",
                     "      <td>2</td>\n",
                     "    </tr>\n",
                     "    <tr>\n",
                     "      <th>4</th>\n",
                     "      <td>Film &amp; Animation</td>\n",
                     "      <td>2016-09-28</td>\n",
                     "      <td>3554</td>\n",
                     "      <td>105.0</td>\n",
                     "      <td>13.0</td>\n",
                     "      <td>86368.0</td>\n",
                     "      <td>UCzWrhkg9eK5I8Bm3HfV-unA</td>\n",
                     "      <td>cGvL7AvMfM0</td>\n",
                     "      <td>2016</td>\n",
                     "      <td>2</td>\n",
                     "    </tr>\n",
                     "  </tbody>\n",
                     "</table>\n",
                     "</div>"
                  ],
                  "text/plain": [
                     "         categories upload_date  duration  like_count  dislike_count  \\\n",
                     "0  Film & Animation  2016-09-28      1159         8.0            1.0   \n",
                     "1  Film & Animation  2016-09-28      2681        23.0            1.0   \n",
                     "2  Film & Animation  2016-09-28      1394      1607.0          779.0   \n",
                     "3  Film & Animation  2016-09-28      5064       227.0           24.0   \n",
                     "4  Film & Animation  2016-09-28      3554       105.0           13.0   \n",
                     "\n",
                     "   view_count                channel_id   display_id  yearNumber  weekNumber  \n",
                     "0      1057.0  UCzWrhkg9eK5I8Bm3HfV-unA  SBqSc91Hn9g        2016           2  \n",
                     "1     12894.0  UCzWrhkg9eK5I8Bm3HfV-unA  UuugEl86ESY        2016           2  \n",
                     "2   1800602.0  UCzWrhkg9eK5I8Bm3HfV-unA  oB4c-yvnbjs        2016           2  \n",
                     "3     57640.0  UCzWrhkg9eK5I8Bm3HfV-unA  ZaV-gTCMV8E        2016           2  \n",
                     "4     86368.0  UCzWrhkg9eK5I8Bm3HfV-unA  cGvL7AvMfM0        2016           2  "
                  ]
               },
               "execution_count": 50,
               "metadata": {},
               "output_type": "execute_result"
            }
         ],
         "source": [
            "video_metadatas.head()"
         ]
      },
      {
         "cell_type": "markdown",
         "id": "3c27b9e8",
         "metadata": {},
         "source": [
            "We now have filtered ``df_channels``, ``df_time_series`` and ``video_metadatas``. However, they have different numbers of channels. ``df_channels`` and ``video_metadatas`` both have 20143 channels, whereas ``df_time_series`` has 19698 channels. \n",
            "\n",
            "When we look closer to the data, we can observe that `df_time_series` only has data from early January 2015 to end September 2019, which could be one reason causing the inconsistency. Therefore, we will then filter videos in  ``video_metadatas`` that are being uploaded from early January 2015 to end September 2019 to keep consistency across three dataframes."
         ]
      },
      {
         "cell_type": "code",
         "execution_count": 54,
         "id": "e3c22581",
         "metadata": {},
         "outputs": [],
         "source": [
            "video_metadatas = video_metadatas[ (video_metadatas['upload_date'] > df_time_series.datetime.min()) & \n",
            "                                   (video_metadatas['upload_date'] < df_time_series.datetime.max()) ]"
         ]
      },
      {
         "cell_type": "markdown",
         "id": "81392b16",
         "metadata": {},
         "source": [
            "We now have a list of Gaming channels and the information about their videos. Now, we will proceed to filter out the channels that fit the following conditions:\n",
            "\n",
            "- The channel has more than XX % of gaming videos\n",
            "- The YouTuber uploaded with an average frequency of \"every XX days or less\" AND \"every XX days or more\"\n",
            "\n",
            "The reasoning behind these filtering criteria is that we want to have channels that are mainly focusing on gaming, and upload videos not too often but also not too infrequent. Channels with high frequency of upload rate is not likely to be achieved by a single person, and channels that upload too infrequent is likely to be abandoned.\n",
            "\n",
            "We will achieve this filtering by looking at ``video_metadatas``, and calculate:\n",
            "\n",
            "- The number of videos being labelled as \"Gaming\" in each channel\n",
            "- The number of videos being uploaded to each channel\n",
            "- The time frame within which the YouTuber is active (corresponding to the number of days between the first and last uploads)\n"
         ]
      },
      {
         "cell_type": "code",
         "execution_count": 55,
         "id": "4c1e1626",
         "metadata": {},
         "outputs": [],
         "source": [
            "# The number of videos being labelled as \"Gaming\" in each channel\n",
            "video_metadatas['is_gaming'] = (video_metadatas.categories == \"Gaming\")\n",
            "\n",
            "# The number of videos being uploaded to each channel\n",
            "count_per_channel = pd.DataFrame(video_metadatas.groupby(\"channel_id\").count().categories).reset_index().rename(columns={\"categories\":\"nr_videos\"})\n",
            "game_video_count_per_channel = pd.DataFrame(video_metadatas.groupby(\"channel_id\").sum().is_gaming).reset_index()\n",
            "\n",
            "# merge these two datasets\n",
            "channel_selection = count_per_channel.merge(game_video_count_per_channel)\n",
            "\n",
            "# The percentage of gaming videos within each channel\n",
            "channel_selection[\"pct_gaming\"] = channel_selection.is_gaming / channel_selection.nr_videos"
         ]
      },
      {
         "cell_type": "code",
         "execution_count": 56,
         "id": "609a1a0f",
         "metadata": {},
         "outputs": [],
         "source": [
            "pct_level = 0.6  # adjust the percentage of videos being labelled as \"Gaming\" here\n",
            "selected_channels = list(channel_selection[channel_selection['pct_gaming'] >= pct_level ].channel_id)"
         ]
      },
      {
         "cell_type": "code",
         "execution_count": 57,
         "id": "b7c0b007",
         "metadata": {},
         "outputs": [
            {
               "data": {
                  "text/plain": [
                     "18230"
                  ]
               },
               "execution_count": 57,
               "metadata": {},
               "output_type": "execute_result"
            }
         ],
         "source": [
            "len(selected_channels)"
         ]
      },
      {
         "cell_type": "markdown",
         "id": "8760cb7c",
         "metadata": {},
         "source": [
            "After the filtering, we now have 18230 channels. \n",
            "\n",
            "We now want to filter out the channels that upload videos too frequently or too infrequent:"
         ]
      },
      {
         "cell_type": "code",
         "execution_count": 75,
         "id": "758656d4",
         "metadata": {},
         "outputs": [],
         "source": [
            "# The time frame within which the YouTuber is active\n",
            "last_vid_date = pd.DataFrame(video_metadatas.groupby(\"channel_id\").max().\n",
            "                             upload_date).reset_index().rename(columns={\"upload_date\":\"last_vid_date\"})\n",
            "first_vid_date = pd.DataFrame(video_metadatas.groupby(\"channel_id\").min().\n",
            "                              upload_date).reset_index().rename(columns={\"upload_date\":\"first_vid_date\"})\n",
            "total_vids = pd.DataFrame(video_metadatas.groupby(\"channel_id\").count().\n",
            "                          display_id).reset_index().rename(columns={\"display_id\":\"total_vids\"})"
         ]
      },
      {
         "cell_type": "code",
         "execution_count": 59,
         "id": "003b816e",
         "metadata": {},
         "outputs": [],
         "source": [
            "channel_selection = first_vid_date.merge(last_vid_date)\n",
            "channel_selection = channel_selection.merge(total_vids)\n",
            "channel_selection['active_days'] = (channel_selection.last_vid_date - channel_selection.first_vid_date).dt.days\n",
            "channel_selection['upload_interval'] = channel_selection.active_days / channel_selection.total_vids"
         ]
      },
      {
         "cell_type": "code",
         "execution_count": 60,
         "id": "0fb8882b",
         "metadata": {},
         "outputs": [],
         "source": [
            "min_upload_interval = 2 # in days, the channel upload videos on average every x days \n",
            "max_upload_interval = 90\n",
            "selected_channels = list(channel_selection[(channel_selection['upload_interval'] > min_upload_interval) & \n",
            "                                           (channel_selection['upload_interval'] < max_upload_interval) ].channel_id)"
         ]
      },
      {
         "cell_type": "code",
         "execution_count": 61,
         "id": "87ef1e9c",
         "metadata": {},
         "outputs": [
            {
               "data": {
                  "text/plain": [
                     "14730"
                  ]
               },
               "execution_count": 61,
               "metadata": {},
               "output_type": "execute_result"
            }
         ],
         "source": [
            "len(selected_channels)"
         ]
      },
      {
         "cell_type": "markdown",
         "id": "c4e1889c",
         "metadata": {},
         "source": [
            "Here, we filtered out channels that uploaded videos every 2 days or less. Now we have 14730 channels.\n",
            "\n",
            "Note that `df_time_series` contains less channels than `df_channels` and `video_metadatas`. In order to keep consistency, we will take the channels that can be found across three dataframes."
         ]
      },
      {
         "cell_type": "code",
         "execution_count": 62,
         "id": "1e138332",
         "metadata": {},
         "outputs": [],
         "source": [
            "df_time_series = df_time_series[df_time_series['channel'].isin(selected_channels)]"
         ]
      },
      {
         "cell_type": "code",
         "execution_count": 63,
         "id": "f085ddf6",
         "metadata": {},
         "outputs": [],
         "source": [
            "selected_channels = list(df_time_series.groupby(\"channel\").count().reset_index().channel)"
         ]
      },
      {
         "cell_type": "code",
         "execution_count": 64,
         "id": "23165ef0",
         "metadata": {},
         "outputs": [
            {
               "data": {
                  "text/plain": [
                     "14380"
                  ]
               },
               "execution_count": 64,
               "metadata": {},
               "output_type": "execute_result"
            }
         ],
         "source": [
            "len(selected_channels)"
         ]
      },
      {
         "cell_type": "code",
         "execution_count": 65,
         "id": "d99d6ade",
         "metadata": {},
         "outputs": [],
         "source": [
            "df_channels = df_channels[df_channels['channel'].isin(selected_channels)]"
         ]
      },
      {
         "cell_type": "code",
         "execution_count": 66,
         "id": "85fc232c",
         "metadata": {},
         "outputs": [
            {
               "data": {
                  "text/plain": [
                     "14380"
                  ]
               },
               "execution_count": 66,
               "metadata": {},
               "output_type": "execute_result"
            }
         ],
         "source": [
            "len(df_channels)"
         ]
      },
      {
         "cell_type": "code",
         "execution_count": 67,
         "id": "8f80c1b3",
         "metadata": {},
         "outputs": [],
         "source": [
            "video_metadatas = video_metadatas[video_metadatas['channel_id'].isin(selected_channels)]"
         ]
      },
      {
         "cell_type": "code",
         "execution_count": 68,
         "id": "ee68de9b",
         "metadata": {},
         "outputs": [
            {
               "data": {
                  "text/plain": [
                     "14380"
                  ]
               },
               "execution_count": 68,
               "metadata": {},
               "output_type": "execute_result"
            }
         ],
         "source": [
            "len(video_metadatas.groupby(\"channel_id\").count())"
         ]
      },
      {
         "cell_type": "markdown",
         "id": "c191d301",
         "metadata": {},
         "source": [
            "We also import a dataset that is created by us, .......  \n",
            "\n",
            "We will filter the channels and videos that we selected so far."
         ]
      },
      {
         "cell_type": "code",
         "execution_count": 69,
         "id": "f6dc9dc4",
         "metadata": {},
         "outputs": [],
         "source": [
            "title_metadatas = pd.read_feather(\n",
            "    \"./data/yt_metadata_title_helper.feather\")\n",
            "\n",
            "title_metadatas = title_metadatas[\n",
            "    title_metadatas['display_id'].isin(video_metadatas.display_id)\n",
            "]"
         ]
      },
      {
         "cell_type": "code",
         "execution_count": 70,
         "id": "e7c20891",
         "metadata": {},
         "outputs": [
            {
               "ename": "ValueError",
               "evalue": "feather does not support serializing a non-default index for the index; you can .reset_index() to make the index into column(s)",
               "output_type": "error",
               "traceback": [
                  "\u001b[1;31m---------------------------------------------------------------------------\u001b[0m",
                  "\u001b[1;31mValueError\u001b[0m                                Traceback (most recent call last)",
                  "Input \u001b[1;32mIn [70]\u001b[0m, in \u001b[0;36m<cell line: 2>\u001b[1;34m()\u001b[0m\n\u001b[0;32m      1\u001b[0m \u001b[38;5;66;03m# Save titles_metadatas in feather \u001b[39;00m\n\u001b[1;32m----> 2\u001b[0m \u001b[43mtitles_metadatas\u001b[49m\u001b[38;5;241;43m.\u001b[39;49m\u001b[43mto_feather\u001b[49m\u001b[43m(\u001b[49m\u001b[38;5;124;43m\"\u001b[39;49m\u001b[38;5;124;43m./data/yt_metadata_title_filtered.feather\u001b[39;49m\u001b[38;5;124;43m\"\u001b[39;49m\u001b[43m)\u001b[49m\n",
                  "File \u001b[1;32m~\\Anaconda3\\lib\\site-packages\\pandas\\util\\_decorators.py:207\u001b[0m, in \u001b[0;36mdeprecate_kwarg.<locals>._deprecate_kwarg.<locals>.wrapper\u001b[1;34m(*args, **kwargs)\u001b[0m\n\u001b[0;32m    205\u001b[0m     \u001b[38;5;28;01melse\u001b[39;00m:\n\u001b[0;32m    206\u001b[0m         kwargs[new_arg_name] \u001b[38;5;241m=\u001b[39m new_arg_value\n\u001b[1;32m--> 207\u001b[0m \u001b[38;5;28;01mreturn\u001b[39;00m func(\u001b[38;5;241m*\u001b[39margs, \u001b[38;5;241m*\u001b[39m\u001b[38;5;241m*\u001b[39mkwargs)\n",
                  "File \u001b[1;32m~\\Anaconda3\\lib\\site-packages\\pandas\\core\\frame.py:2681\u001b[0m, in \u001b[0;36mDataFrame.to_feather\u001b[1;34m(self, path, **kwargs)\u001b[0m\n\u001b[0;32m   2656\u001b[0m \u001b[38;5;124;03m\"\"\"\u001b[39;00m\n\u001b[0;32m   2657\u001b[0m \u001b[38;5;124;03mWrite a DataFrame to the binary Feather format.\u001b[39;00m\n\u001b[0;32m   2658\u001b[0m \n\u001b[1;32m   (...)\u001b[0m\n\u001b[0;32m   2677\u001b[0m \u001b[38;5;124;03msupports custom indices e.g. `to_parquet`.\u001b[39;00m\n\u001b[0;32m   2678\u001b[0m \u001b[38;5;124;03m\"\"\"\u001b[39;00m\n\u001b[0;32m   2679\u001b[0m \u001b[38;5;28;01mfrom\u001b[39;00m \u001b[38;5;21;01mpandas\u001b[39;00m\u001b[38;5;21;01m.\u001b[39;00m\u001b[38;5;21;01mio\u001b[39;00m\u001b[38;5;21;01m.\u001b[39;00m\u001b[38;5;21;01mfeather_format\u001b[39;00m \u001b[38;5;28;01mimport\u001b[39;00m to_feather\n\u001b[1;32m-> 2681\u001b[0m to_feather(\u001b[38;5;28mself\u001b[39m, path, \u001b[38;5;241m*\u001b[39m\u001b[38;5;241m*\u001b[39mkwargs)\n",
                  "File \u001b[1;32m~\\Anaconda3\\lib\\site-packages\\pandas\\io\\feather_format.py:73\u001b[0m, in \u001b[0;36mto_feather\u001b[1;34m(df, path, storage_options, **kwargs)\u001b[0m\n\u001b[0;32m     67\u001b[0m     \u001b[38;5;28;01mraise\u001b[39;00m \u001b[38;5;167;01mValueError\u001b[39;00m(\n\u001b[0;32m     68\u001b[0m         \u001b[38;5;124mf\u001b[39m\u001b[38;5;124m\"\u001b[39m\u001b[38;5;124mfeather does not support serializing \u001b[39m\u001b[38;5;132;01m{\u001b[39;00mtyp\u001b[38;5;132;01m}\u001b[39;00m\u001b[38;5;124m \u001b[39m\u001b[38;5;124m\"\u001b[39m\n\u001b[0;32m     69\u001b[0m         \u001b[38;5;124m\"\u001b[39m\u001b[38;5;124mfor the index; you can .reset_index() to make the index into column(s)\u001b[39m\u001b[38;5;124m\"\u001b[39m\n\u001b[0;32m     70\u001b[0m     )\n\u001b[0;32m     72\u001b[0m \u001b[38;5;28;01mif\u001b[39;00m \u001b[38;5;129;01mnot\u001b[39;00m df\u001b[38;5;241m.\u001b[39mindex\u001b[38;5;241m.\u001b[39mequals(RangeIndex\u001b[38;5;241m.\u001b[39mfrom_range(\u001b[38;5;28mrange\u001b[39m(\u001b[38;5;28mlen\u001b[39m(df)))):\n\u001b[1;32m---> 73\u001b[0m     \u001b[38;5;28;01mraise\u001b[39;00m \u001b[38;5;167;01mValueError\u001b[39;00m(\n\u001b[0;32m     74\u001b[0m         \u001b[38;5;124m\"\u001b[39m\u001b[38;5;124mfeather does not support serializing a non-default index for the index; \u001b[39m\u001b[38;5;124m\"\u001b[39m\n\u001b[0;32m     75\u001b[0m         \u001b[38;5;124m\"\u001b[39m\u001b[38;5;124myou can .reset_index() to make the index into column(s)\u001b[39m\u001b[38;5;124m\"\u001b[39m\n\u001b[0;32m     76\u001b[0m     )\n\u001b[0;32m     78\u001b[0m \u001b[38;5;28;01mif\u001b[39;00m df\u001b[38;5;241m.\u001b[39mindex\u001b[38;5;241m.\u001b[39mname \u001b[38;5;129;01mis\u001b[39;00m \u001b[38;5;129;01mnot\u001b[39;00m \u001b[38;5;28;01mNone\u001b[39;00m:\n\u001b[0;32m     79\u001b[0m     \u001b[38;5;28;01mraise\u001b[39;00m \u001b[38;5;167;01mValueError\u001b[39;00m(\n\u001b[0;32m     80\u001b[0m         \u001b[38;5;124m\"\u001b[39m\u001b[38;5;124mfeather does not serialize index meta-data on a default index\u001b[39m\u001b[38;5;124m\"\u001b[39m\n\u001b[0;32m     81\u001b[0m     )\n",
                  "\u001b[1;31mValueError\u001b[0m: feather does not support serializing a non-default index for the index; you can .reset_index() to make the index into column(s)"
               ]
            }
         ],
         "source": [
            "# Save title_metadatas in feather \n",
            "title_metadatas.to_feather(\"./data/yt_metadata_title_filtered.feather\")"
         ]
      },
      {
         "cell_type": "code",
         "execution_count": 71,
         "id": "8ce88e84",
         "metadata": {},
         "outputs": [
            {
               "data": {
                  "text/plain": [
                     "(3139186, 11)"
                  ]
               },
               "execution_count": 71,
               "metadata": {},
               "output_type": "execute_result"
            }
         ],
         "source": [
            "video_metadatas.shape"
         ]
      },
      {
         "cell_type": "code",
         "execution_count": 72,
         "id": "70ecc4d3",
         "metadata": {},
         "outputs": [
            {
               "data": {
                  "text/plain": [
                     "(3139186, 3)"
                  ]
               },
               "execution_count": 72,
               "metadata": {},
               "output_type": "execute_result"
            }
         ],
         "source": [
            "title_metadatas.shape"
         ]
      },
      {
         "cell_type": "code",
         "execution_count": 73,
         "id": "333d7f10",
         "metadata": {},
         "outputs": [],
         "source": [
            "tag_metadatas = pd.read_feather(\n",
            "    \"./data/yt_metadata_tags_helper.feather\")\n",
            "\n",
            "tag_metadatas = tag_metadatas[\n",
            "    tag_metadatas['display_id'].isin(video_metadatas.display_id)\n",
            "]"
         ]
      },
      {
         "cell_type": "code",
         "execution_count": 74,
         "id": "99b37b20",
         "metadata": {},
         "outputs": [
            {
               "data": {
                  "text/html": [
                     "<div>\n",
                     "<style scoped>\n",
                     "    .dataframe tbody tr th:only-of-type {\n",
                     "        vertical-align: middle;\n",
                     "    }\n",
                     "\n",
                     "    .dataframe tbody tr th {\n",
                     "        vertical-align: top;\n",
                     "    }\n",
                     "\n",
                     "    .dataframe thead th {\n",
                     "        text-align: right;\n",
                     "    }\n",
                     "</style>\n",
                     "<table border=\"1\" class=\"dataframe\">\n",
                     "  <thead>\n",
                     "    <tr style=\"text-align: right;\">\n",
                     "      <th></th>\n",
                     "      <th>categories</th>\n",
                     "      <th>display_id</th>\n",
                     "      <th>tags</th>\n",
                     "    </tr>\n",
                     "  </thead>\n",
                     "  <tbody>\n",
                     "    <tr>\n",
                     "      <th>1792</th>\n",
                     "      <td>Gaming</td>\n",
                     "      <td>M0x6TJmMwL4</td>\n",
                     "      <td>video,games,retrogamer3,ed,findlay,Blasphemous...</td>\n",
                     "    </tr>\n",
                     "    <tr>\n",
                     "      <th>1793</th>\n",
                     "      <td>Gaming</td>\n",
                     "      <td>ofAIp6dad00</td>\n",
                     "      <td>video,games,retrogamer3,ed,findlay,Sega,Genesi...</td>\n",
                     "    </tr>\n",
                     "    <tr>\n",
                     "      <th>1794</th>\n",
                     "      <td>Gaming</td>\n",
                     "      <td>cXHRNThI27A</td>\n",
                     "      <td>video,games,retrogamer3,ed,findlay,Disenchantm...</td>\n",
                     "    </tr>\n",
                     "    <tr>\n",
                     "      <th>1795</th>\n",
                     "      <td>Gaming</td>\n",
                     "      <td>cDSo3mUNEEM</td>\n",
                     "      <td>video,games,retrogamer3,ed,findlay,Death Stran...</td>\n",
                     "    </tr>\n",
                     "    <tr>\n",
                     "      <th>1796</th>\n",
                     "      <td>Gaming</td>\n",
                     "      <td>rJmT1Rq24qE</td>\n",
                     "      <td>video,games,retrogamer3,ed,findlay,Friday the ...</td>\n",
                     "    </tr>\n",
                     "  </tbody>\n",
                     "</table>\n",
                     "</div>"
                  ],
                  "text/plain": [
                     "     categories   display_id  \\\n",
                     "1792     Gaming  M0x6TJmMwL4   \n",
                     "1793     Gaming  ofAIp6dad00   \n",
                     "1794     Gaming  cXHRNThI27A   \n",
                     "1795     Gaming  cDSo3mUNEEM   \n",
                     "1796     Gaming  rJmT1Rq24qE   \n",
                     "\n",
                     "                                                   tags  \n",
                     "1792  video,games,retrogamer3,ed,findlay,Blasphemous...  \n",
                     "1793  video,games,retrogamer3,ed,findlay,Sega,Genesi...  \n",
                     "1794  video,games,retrogamer3,ed,findlay,Disenchantm...  \n",
                     "1795  video,games,retrogamer3,ed,findlay,Death Stran...  \n",
                     "1796  video,games,retrogamer3,ed,findlay,Friday the ...  "
                  ]
               },
               "execution_count": 74,
               "metadata": {},
               "output_type": "execute_result"
            }
         ],
         "source": [
            "tag_metadatas.head()"
         ]
      },
      {
         "cell_type": "markdown",
         "id": "38ee79b8",
         "metadata": {},
         "source": [
            "# Part 2: Further Analysis Milestone 3\n",
            "\n",
            "Given the results in Part 1 of our Analysis, we decided to focus on the categories of Gaming. The reason behind this choice is because we are trying to help our little brother to succeed, and since he is just a single person without a big team behind him it seems more reasonable than e.g. Movies or Film & Entertainment. Therefore, we decided to eliminate Music, How-to & Style, Education, Science & Technology, Entertainment, Film & Entertainment, People & Blogs, Comedy, Movies and Shows. We decided to investigate the three categories mentioned above also because videos uploaded can be addressed to audiences of all three categories.\n",
            "\n",
            "## Key Questions:\n",
            " - Which factors help a YouTuber in Gaming gain more subscribers?\n",
            " - How do sentiments in titles and tags affect views and how do these relationships change over time?"
         ]
      },
      {
         "cell_type": "markdown",
         "id": "ac192b0a",
         "metadata": {},
         "source": [
            "### Sub-Question 1 \n",
            "\n",
            "**Description:** How does the video upload frequency, time of the week, and video length affect the subscription rate of the channels?  \n",
            "**Method:** Model this using a linear regression model.  \n",
            "**Timeline:** By 13/12/2022  \n",
            "**Organization:** Wenxiu  "
         ]
      },
      {
         "cell_type": "code",
         "execution_count": 76,
         "id": "6555e2c3",
         "metadata": {},
         "outputs": [],
         "source": [
            "# we also want to filter out channels that upload too frequently, as we are interested in things that could be done by an individual\n",
            "avg_upload_weekday = pd.DataFrame(video_metadatas.groupby(\"channel_id\").mean().\n",
            "                             weekNumber).reset_index().rename(columns={\"weekNumber\":\"avg_upload_weekday\"})\n",
            "\n",
            "avg_video_duration = pd.DataFrame(video_metadatas.groupby(\"channel_id\").mean().\n",
            "                             duration).reset_index().rename(columns={\"duration\":\"avg_video_duration\"})"
         ]
      },
      {
         "cell_type": "code",
         "execution_count": null,
         "id": "be96957f",
         "metadata": {},
         "outputs": [],
         "source": []
      },
      {
         "cell_type": "code",
         "execution_count": 77,
         "id": "0974b1c0",
         "metadata": {},
         "outputs": [],
         "source": [
            "channel_selection = channel_selection[channel_selection['channel_id'].isin(selected_channels) ]\n",
            "channel_selection = channel_selection.merge(avg_upload_weekday)\n",
            "channel_selection = channel_selection.merge(avg_video_duration)\n",
            "channel_selection = channel_selection.merge(df_channels.loc[:,['channel', 'subscribers_cc']].rename(\n",
            "    columns={\"channel\":\"channel_id\"}))"
         ]
      },
      {
         "cell_type": "code",
         "execution_count": 78,
         "id": "2091ce77",
         "metadata": {},
         "outputs": [],
         "source": [
            "model_data = channel_selection.loc[:,['upload_interval', 'avg_upload_weekday', 'avg_video_duration', 'subscribers_cc']]"
         ]
      },
      {
         "cell_type": "code",
         "execution_count": 79,
         "id": "0845578a",
         "metadata": {},
         "outputs": [],
         "source": [
            "# normalise the data\n",
            "xmean = np.mean(model_data,axis=0)\n",
            "xstd = np.std(model_data,axis=0)\n",
            "Xbzs = (model_data-xmean)/xstd"
         ]
      },
      {
         "cell_type": "code",
         "execution_count": 80,
         "id": "aa6c9ecd",
         "metadata": {},
         "outputs": [
            {
               "data": {
                  "text/html": [
                     "<div>\n",
                     "<style scoped>\n",
                     "    .dataframe tbody tr th:only-of-type {\n",
                     "        vertical-align: middle;\n",
                     "    }\n",
                     "\n",
                     "    .dataframe tbody tr th {\n",
                     "        vertical-align: top;\n",
                     "    }\n",
                     "\n",
                     "    .dataframe thead th {\n",
                     "        text-align: right;\n",
                     "    }\n",
                     "</style>\n",
                     "<table border=\"1\" class=\"dataframe\">\n",
                     "  <thead>\n",
                     "    <tr style=\"text-align: right;\">\n",
                     "      <th></th>\n",
                     "      <th>upload_interval</th>\n",
                     "      <th>avg_upload_weekday</th>\n",
                     "      <th>avg_video_duration</th>\n",
                     "      <th>subscribers_cc</th>\n",
                     "    </tr>\n",
                     "  </thead>\n",
                     "  <tbody>\n",
                     "    <tr>\n",
                     "      <th>0</th>\n",
                     "      <td>-0.447864</td>\n",
                     "      <td>-0.698482</td>\n",
                     "      <td>5.425201</td>\n",
                     "      <td>-0.210988</td>\n",
                     "    </tr>\n",
                     "    <tr>\n",
                     "      <th>1</th>\n",
                     "      <td>-0.098164</td>\n",
                     "      <td>0.932943</td>\n",
                     "      <td>-0.485641</td>\n",
                     "      <td>-0.211463</td>\n",
                     "    </tr>\n",
                     "    <tr>\n",
                     "      <th>2</th>\n",
                     "      <td>2.169822</td>\n",
                     "      <td>1.192441</td>\n",
                     "      <td>-0.457429</td>\n",
                     "      <td>-0.176890</td>\n",
                     "    </tr>\n",
                     "    <tr>\n",
                     "      <th>3</th>\n",
                     "      <td>-0.384435</td>\n",
                     "      <td>-0.226633</td>\n",
                     "      <td>-0.208489</td>\n",
                     "      <td>-0.177439</td>\n",
                     "    </tr>\n",
                     "    <tr>\n",
                     "      <th>4</th>\n",
                     "      <td>-0.204599</td>\n",
                     "      <td>0.551936</td>\n",
                     "      <td>-0.463959</td>\n",
                     "      <td>-0.136927</td>\n",
                     "    </tr>\n",
                     "    <tr>\n",
                     "      <th>5</th>\n",
                     "      <td>-0.640058</td>\n",
                     "      <td>-0.231730</td>\n",
                     "      <td>0.222809</td>\n",
                     "      <td>-0.097681</td>\n",
                     "    </tr>\n",
                     "    <tr>\n",
                     "      <th>6</th>\n",
                     "      <td>-0.476817</td>\n",
                     "      <td>1.238126</td>\n",
                     "      <td>-0.604184</td>\n",
                     "      <td>-0.205291</td>\n",
                     "    </tr>\n",
                     "    <tr>\n",
                     "      <th>7</th>\n",
                     "      <td>0.165938</td>\n",
                     "      <td>2.090297</td>\n",
                     "      <td>-0.491045</td>\n",
                     "      <td>-0.208773</td>\n",
                     "    </tr>\n",
                     "    <tr>\n",
                     "      <th>8</th>\n",
                     "      <td>-0.698218</td>\n",
                     "      <td>0.220425</td>\n",
                     "      <td>0.792583</td>\n",
                     "      <td>-0.203824</td>\n",
                     "    </tr>\n",
                     "  </tbody>\n",
                     "</table>\n",
                     "</div>"
                  ],
                  "text/plain": [
                     "   upload_interval  avg_upload_weekday  avg_video_duration  subscribers_cc\n",
                     "0        -0.447864           -0.698482            5.425201       -0.210988\n",
                     "1        -0.098164            0.932943           -0.485641       -0.211463\n",
                     "2         2.169822            1.192441           -0.457429       -0.176890\n",
                     "3        -0.384435           -0.226633           -0.208489       -0.177439\n",
                     "4        -0.204599            0.551936           -0.463959       -0.136927\n",
                     "5        -0.640058           -0.231730            0.222809       -0.097681\n",
                     "6        -0.476817            1.238126           -0.604184       -0.205291\n",
                     "7         0.165938            2.090297           -0.491045       -0.208773\n",
                     "8        -0.698218            0.220425            0.792583       -0.203824"
                  ]
               },
               "execution_count": 80,
               "metadata": {},
               "output_type": "execute_result"
            }
         ],
         "source": [
            "Xbzs.head(9)"
         ]
      },
      {
         "cell_type": "code",
         "execution_count": 81,
         "id": "970b5047",
         "metadata": {},
         "outputs": [],
         "source": [
            "import statsmodels.formula.api as smf\n",
            "# Declares the model\n",
            "mod = smf.ols(formula='subscribers_cc ~ upload_interval + avg_upload_weekday + avg_video_duration', data=Xbzs)"
         ]
      },
      {
         "cell_type": "code",
         "execution_count": 82,
         "id": "cf8cedb7",
         "metadata": {},
         "outputs": [],
         "source": [
            "# Fits the model (find the optimal coefficients, adding a random seed ensures consistency)\n",
            "np.random.seed(2)\n",
            "res = mod.fit()"
         ]
      },
      {
         "cell_type": "code",
         "execution_count": 83,
         "id": "9b13bd1e",
         "metadata": {},
         "outputs": [
            {
               "name": "stdout",
               "output_type": "stream",
               "text": [
                  "                            OLS Regression Results                            \n",
                  "==============================================================================\n",
                  "Dep. Variable:         subscribers_cc   R-squared:                       0.003\n",
                  "Model:                            OLS   Adj. R-squared:                  0.003\n",
                  "Method:                 Least Squares   F-statistic:                     13.13\n",
                  "Date:                Sun, 18 Dec 2022   Prob (F-statistic):           1.46e-08\n",
                  "Time:                        13:19:49   Log-Likelihood:                -20385.\n",
                  "No. Observations:               14380   AIC:                         4.078e+04\n",
                  "Df Residuals:                   14376   BIC:                         4.081e+04\n",
                  "Df Model:                           3                                         \n",
                  "Covariance Type:            nonrobust                                         \n",
                  "======================================================================================\n",
                  "                         coef    std err          t      P>|t|      [0.025      0.975]\n",
                  "--------------------------------------------------------------------------------------\n",
                  "Intercept          -4.944e-17      0.008  -5.94e-15      1.000      -0.016       0.016\n",
                  "upload_interval       -0.0483      0.008     -5.750      0.000      -0.065      -0.032\n",
                  "avg_upload_weekday    -0.0011      0.008     -0.129      0.898      -0.017       0.015\n",
                  "avg_video_duration    -0.0266      0.008     -3.164      0.002      -0.043      -0.010\n",
                  "==============================================================================\n",
                  "Omnibus:                    36896.737   Durbin-Watson:                   1.925\n",
                  "Prob(Omnibus):                  0.000   Jarque-Bera (JB):       1101330382.728\n",
                  "Skew:                          28.941   Prob(JB):                         0.00\n",
                  "Kurtosis:                    1357.531   Cond. No.                         1.14\n",
                  "==============================================================================\n",
                  "\n",
                  "Notes:\n",
                  "[1] Standard Errors assume that the covariance matrix of the errors is correctly specified.\n"
               ]
            }
         ],
         "source": [
            "# Print thes summary output provided by the library.\n",
            "print(res.summary())"
         ]
      },
      {
         "cell_type": "markdown",
         "id": "3e8e3805",
         "metadata": {},
         "source": [
            "upload interval and average video duration are statistically significant  \n",
            "- higher upload interval - lower subcription rate  \n",
            "- higher average video duration - lower subscription rate\n",
            "\n",
            "time of upload during the week doesn't matter that much"
         ]
      },
      {
         "cell_type": "markdown",
         "id": "f180a346",
         "metadata": {},
         "source": [
            "### Sub-Question 2\n",
            "\n",
            "**Description:** How does the language used in titles affect subscription number?  \n",
            "**Method:** We will classify the sentiments of titles and tags using packages such as NLTK and try to see if this factor affects subscription number of the channels using relevant skills we learned in observational studies.  \n",
            "**Timeline:** By 15/12/2022  \n",
            "**Organization:** Wenxiu  "
         ]
      },
      {
         "cell_type": "code",
         "execution_count": null,
         "id": "174a536b",
         "metadata": {},
         "outputs": [],
         "source": []
      },
      {
         "cell_type": "code",
         "execution_count": 84,
         "id": "441cce77",
         "metadata": {},
         "outputs": [],
         "source": [
            "#NLP libraries\n",
            "import spacy, nltk, gensim, sklearn\n",
            "\n",
            "#Vader\n",
            "import vaderSentiment\n",
            "from vaderSentiment.vaderSentiment import SentimentIntensityAnalyzer\n",
            "from gensim.models.phrases import Phrases\n",
            "from gensim.corpora import Dictionary\n",
            "from gensim.models import LdaMulticore\n",
            "import pyLDAvis.gensim_models\n",
            "\n",
            "# Initialise the Spacy analyzer in English\n",
            "nlp = spacy.load('en_core_web_sm')"
         ]
      },
      {
         "cell_type": "markdown",
         "id": "d47115f2",
         "metadata": {},
         "source": [
            "To start with, we will try to determine the common topics across all videos. This is done by performining topic detection using titles and tags of all selected videos."
         ]
      },
      {
         "cell_type": "code",
         "execution_count": null,
         "id": "51fde3e2",
         "metadata": {},
         "outputs": [],
         "source": [
            "def topic_detection(dataset, datatype):\n",
            "    if (datatype == \"title\"):\n",
            "        new_list = []\n",
            "        # replace all underslash to space\n",
            "        for x in dataset:\n",
            "            new_text = x.replace(\"_\", \" \")\n",
            "            new_text = new_text.replace(\"-\", \" \")\n",
            "            new_text = new_text.replace(\"•\", \" \")\n",
            "            new_list.append(new_text.lower())\n",
            "    \n",
            "    if (datatype == \"tag\"):\n",
            "        new_list = []\n",
            "        for x in dataset:\n",
            "            step1 = x.replace(\" \", \"_\")\n",
            "            step2 = step1.replace(\",\", \" \")\n",
            "            new_list.append(step2.lower())\n",
            "        \n",
            "    STOPWORDS = spacy.lang.en.stop_words.STOP_WORDS\n",
            "\n",
            "    processed_docs = list()\n",
            "    for doc in nlp.pipe(new_list, n_process=5, batch_size=10):\n",
            "\n",
            "        # Process document using Spacy NLP pipeline.\n",
            "        ents = doc.ents  # Named entities\n",
            "\n",
            "        # Keep only words (no numbers, no punctuation).\n",
            "        # Lemmatize tokens, to lowercase, remove punctuation and remove stopwords.\n",
            "        doc = [token.lemma_ for token in doc if token.is_alpha and not token.is_stop]\n",
            "\n",
            "        # Remove common words from a stopword list and keep only words of length 3 or more.\n",
            "        doc = [token for token in doc if token not in STOPWORDS and len(token) > 2]\n",
            "\n",
            "        # Add named entities, but only if they are a compound of more than word.\n",
            "        doc.extend([str(entity) for entity in ents if len(entity) > 1])\n",
            "\n",
            "        processed_docs.append(doc)\n",
            "    docs = processed_docs\n",
            "    del processed_docs\n",
            "\n",
            "    # Add bigrams to docs (only ones that appear 15 times or more).\n",
            "    bigram = Phrases(docs, min_count=15)\n",
            "\n",
            "    for idx in range(len(docs)):\n",
            "        for token in bigram[docs[idx]]:\n",
            "            if '_' in token:\n",
            "                # Token is a bigram, add to document.\n",
            "                docs[idx].append(token)\n",
            "\n",
            "    # Create a dictionary representation of the documents, and filter out frequent and rare words.\n",
            "    dictionary = Dictionary(docs)\n",
            "\n",
            "    # Remove rare and common tokens.\n",
            "    # Filter out words that occur too frequently or too rarely.\n",
            "    max_freq = 0.5\n",
            "    min_wordcount = 5\n",
            "    dictionary.filter_extremes(no_below=min_wordcount, no_above=max_freq)\n",
            "\n",
            "    # Bag-of-words representation of the documents.\n",
            "    corpus = [dictionary.doc2bow(doc) for doc in docs]\n",
            "\n",
            "    seed = 42\n",
            "    # models\n",
            "    params = {'passes': 10, 'random_state': seed}\n",
            "    base_models = dict()\n",
            "    model = LdaMulticore(corpus=corpus, num_topics=4, id2word=dictionary, workers=6,\n",
            "                    passes=params['passes'], random_state=params['random_state'])\n",
            "    return model, corpus, dictionary\n"
         ]
      },
      {
         "cell_type": "code",
         "execution_count": null,
         "id": "3b9eb1fd",
         "metadata": {},
         "outputs": [],
         "source": []
      },
      {
         "cell_type": "raw",
         "id": "5b68508e",
         "metadata": {},
         "source": [
            "# topic detection for videos in 2015 from titles\n",
            "video_display_id_2015 = video_metadatas[video_metadatas['yearNumber'] == 2015].display_id\n",
            "\n",
            "model, corpus, dictionary = topic_detection( title_metadatas[title_metadatas['display_id'].isin(video_display_id_2015)].title, \"title\" )\n",
            "data =  pyLDAvis.gensim_models.prepare(model, corpus, dictionary)\n",
            "pyLDAvis.display(data)"
         ]
      },
      {
         "cell_type": "raw",
         "id": "8d648027",
         "metadata": {},
         "source": [
            "# topic detection for videos in 2016 from titles\n",
            "video_display_id_2016 = video_metadatas[video_metadatas['yearNumber'] == 2016].display_id\n",
            "\n",
            "model, corpus, dictionary = topic_detection( title_metadatas[title_metadatas['display_id'].isin(video_display_id_2016)].title, \"title\" )\n",
            "data =  pyLDAvis.gensim_models.prepare(model, corpus, dictionary)\n",
            "pyLDAvis.display(data)"
         ]
      },
      {
         "cell_type": "raw",
         "id": "0a146e49",
         "metadata": {},
         "source": [
            "# topic detection for videos in 2017 from titles\n",
            "video_display_id_2017 = video_metadatas[video_metadatas['yearNumber'] == 2017].display_id\n",
            "\n",
            "model, corpus, dictionary = topic_detection( title_metadatas[title_metadatas['display_id'].isin(video_display_id_2017)].title, \"title\" )\n",
            "data =  pyLDAvis.gensim_models.prepare(model, corpus, dictionary)\n",
            "pyLDAvis.display(data)"
         ]
      },
      {
         "cell_type": "raw",
         "id": "2b205e68",
         "metadata": {},
         "source": [
            "# topic detection for videos in 2018 from titles\n",
            "video_display_id_2018 = video_metadatas[video_metadatas['yearNumber'] == 2018].display_id\n",
            "\n",
            "model, corpus, dictionary = topic_detection( title_metadatas[title_metadatas['display_id'].isin(video_display_id_2018)].title, \"title\" )\n",
            "data =  pyLDAvis.gensim_models.prepare(model, corpus, dictionary)\n",
            "pyLDAvis.display(data)"
         ]
      },
      {
         "cell_type": "raw",
         "id": "89ff4394",
         "metadata": {},
         "source": [
            "# topic detection for videos in 2019 from titles\n",
            "video_display_id_2019 = video_metadatas[video_metadatas['yearNumber'] == 2019].display_id\n",
            "\n",
            "model, corpus, dictionary = topic_detection( title_metadatas[title_metadatas['display_id'].isin(video_display_id_2019)].title, \"title\" )\n",
            "data =  pyLDAvis.gensim_models.prepare(model, corpus, dictionary)\n",
            "pyLDAvis.display(data)"
         ]
      },
      {
         "cell_type": "code",
         "execution_count": null,
         "id": "40a902d0",
         "metadata": {},
         "outputs": [],
         "source": [
            "# topic detection all videos from titles\n",
            "model, corpus, dictionary = topic_detection( title_metadatas.title, \"title\" )\n",
            "data =  pyLDAvis.gensim_models.prepare(model, corpus, dictionary)\n",
            "pyLDAvis.display(data)"
         ]
      },
      {
         "cell_type": "raw",
         "id": "cd8590f9",
         "metadata": {},
         "source": [
            "# topic detection for videos in 2015 from tags\n",
            "model, corpus, dictionary = topic_detection( tag_metadatas[tag_metadatas['display_id'].isin(video_display_id_2015)].tags, \"tag\" )\n",
            "data =  pyLDAvis.gensim_models.prepare(model, corpus, dictionary)\n",
            "pyLDAvis.display(data)"
         ]
      },
      {
         "cell_type": "raw",
         "id": "b4e1d115",
         "metadata": {},
         "source": [
            "# topic detection for videos in 2016 from tags\n",
            "model, corpus, dictionary = topic_detection( tag_metadatas[tag_metadatas['display_id'].isin(video_display_id_2016)].tags, \"tag\" )\n",
            "data =  pyLDAvis.gensim_models.prepare(model, corpus, dictionary)\n",
            "pyLDAvis.display(data)"
         ]
      },
      {
         "cell_type": "raw",
         "id": "c3e9ffc8",
         "metadata": {},
         "source": [
            "# topic detection for videos in 2017 from tags\n",
            "model, corpus, dictionary = topic_detection( tag_metadatas[tag_metadatas['display_id'].isin(video_display_id_2017)].tags, \"tag\" )\n",
            "data =  pyLDAvis.gensim_models.prepare(model, corpus, dictionary)\n",
            "pyLDAvis.display(data)"
         ]
      },
      {
         "cell_type": "raw",
         "id": "e1d0cf38",
         "metadata": {},
         "source": [
            "# topic detection for videos in 2018 from tags\n",
            "model, corpus, dictionary = topic_detection( tag_metadatas[tag_metadatas['display_id'].isin(video_display_id_2018)].tags, \"tag\" )\n",
            "data =  pyLDAvis.gensim_models.prepare(model, corpus, dictionary)\n",
            "pyLDAvis.display(data)"
         ]
      },
      {
         "cell_type": "raw",
         "id": "fc3fe78b",
         "metadata": {},
         "source": [
            "# topic detection for videos in 2019 from tags\n",
            "model, corpus, dictionary = topic_detection( tag_metadatas[tag_metadatas['display_id'].isin(video_display_id_2019)].tags, \"tag\" )\n",
            "data =  pyLDAvis.gensim_models.prepare(model, corpus, dictionary)\n",
            "pyLDAvis.display(data)"
         ]
      },
      {
         "cell_type": "code",
         "execution_count": null,
         "id": "77012ed0",
         "metadata": {},
         "outputs": [],
         "source": [
            "# topic detection for all videos from tags\n",
            "model, corpus, dictionary = topic_detection( tag_metadatas.tags, \"tag\" )\n",
            "data =  pyLDAvis.gensim_models.prepare(model, corpus, dictionary)\n",
            "pyLDAvis.display(data)"
         ]
      },
      {
         "cell_type": "code",
         "execution_count": null,
         "id": "84ad1313",
         "metadata": {},
         "outputs": [],
         "source": []
      },
      {
         "cell_type": "markdown",
         "id": "77bb961f",
         "metadata": {},
         "source": [
            "We will then move on to determine the sentiments of titles, and their effect on the view counts."
         ]
      },
      {
         "cell_type": "code",
         "execution_count": 101,
         "id": "2915df36",
         "metadata": {},
         "outputs": [],
         "source": [
            "positive_sent = []\n",
            "negative_sent = []\n",
            "neutral_sent = []\n",
            "compound_sent = []\n",
            "\n",
            "#iterate through the sentences, get polarity scores, choose a value\n",
            "analyzer = SentimentIntensityAnalyzer()\n",
            "for title in title_metadatas.title:\n",
            "    score = analyzer.polarity_scores(title)\n",
            "    positive_sent.append(score['pos'])\n",
            "    negative_sent.append(score['neg'])\n",
            "    neutral_sent.append(score['neu'])\n",
            "    compound_sent.append(score['compound'])\n",
            "\n",
            "video_metadatas['title_pos_scr'] = positive_sent\n",
            "video_metadatas['title_neg_scr'] = negative_sent\n",
            "video_metadatas['title_neu_scr'] = neutral_sent\n",
            "video_metadatas['title_com_scr'] = compound_sent"
         ]
      },
      {
         "cell_type": "raw",
         "id": "d1959d11",
         "metadata": {},
         "source": [
            "# Write your code to make 4x4 panel here\n",
            "\n",
            "fig, ax = plt.subplots(5,3,figsize= (12,12), sharey = True, sharex = True)\n",
            "\n",
            "year = [2015, 2016, 2017, 2018, 2019]\n",
            "\n",
            "for i in np.arange(5):\n",
            "    sbplt = ax[i, 0]\n",
            "    sbplt.hist(video_metadatas[video_metadatas['yearNumber'] == year[i] ].title_neg_scr,bins = 15)\n",
            "    sbplt.set_title('title negative score:' + str(year[i]) )\n",
            "\n",
            "    sbplt = ax[i, 1]\n",
            "    sbplt.hist(video_metadatas[video_metadatas['yearNumber'] == year[i] ].title_neu_scr,bins = 15)\n",
            "    sbplt.set_title('title neutral score:' + str(year[i]) )\n",
            "\n",
            "    sbplt = ax[i, 2]\n",
            "    sbplt.hist(video_metadatas[video_metadatas['yearNumber'] == year[i] ].title_pos_scr,bins = 15)\n",
            "    sbplt.set_title('title positive score:' + str(year[i]) )\n",
            "\n",
            "\n",
            "fig.tight_layout()\n",
            "\n",
            "fig.text(0.4,0, \"sentimental score\")\n",
            "fig.text(0,0.6, \"Number of videos\", rotation = 90)\n"
         ]
      },
      {
         "cell_type": "code",
         "execution_count": 102,
         "id": "8d60444d",
         "metadata": {},
         "outputs": [
            {
               "data": {
                  "text/plain": [
                     "Text(0, 0.6, 'Number of videos')"
                  ]
               },
               "execution_count": 102,
               "metadata": {},
               "output_type": "execute_result"
            },
            {
               "data": {
                  "image/png": "[encoded data removed]",
                  "text/plain": [
                     "<Figure size 864x864 with 5 Axes>"
                  ]
               },
               "metadata": {
                  "needs_background": "light"
               },
               "output_type": "display_data"
            }
         ],
         "source": [
            "# Write your code to make 4x4 panel here\n",
            "\n",
            "fig, ax = plt.subplots(5, 1,figsize= (12,12), sharey = True, sharex = True)\n",
            "\n",
            "year = [2015, 2016, 2017, 2018, 2019]\n",
            "\n",
            "for i in np.arange(5):\n",
            "    sbplt = ax[i]\n",
            "    sbplt.hist(video_metadatas[video_metadatas['yearNumber'] == year[i] ].title_com_scr,bins = 15)\n",
            "    sbplt.set_title('title compound score:' + str(year[i]) )\n",
            "\n",
            "\n",
            "fig.tight_layout()\n",
            "\n",
            "fig.text(0.4,0, \"sentimental score\")\n",
            "fig.text(0,0.6, \"Number of videos\", rotation = 90)"
         ]
      },
      {
         "cell_type": "code",
         "execution_count": 114,
         "id": "3a42978f",
         "metadata": {},
         "outputs": [
            {
               "data": {
                  "text/html": [
                     "<div>\n",
                     "<style scoped>\n",
                     "    .dataframe tbody tr th:only-of-type {\n",
                     "        vertical-align: middle;\n",
                     "    }\n",
                     "\n",
                     "    .dataframe tbody tr th {\n",
                     "        vertical-align: top;\n",
                     "    }\n",
                     "\n",
                     "    .dataframe thead th {\n",
                     "        text-align: right;\n",
                     "    }\n",
                     "</style>\n",
                     "<table border=\"1\" class=\"dataframe\">\n",
                     "  <thead>\n",
                     "    <tr style=\"text-align: right;\">\n",
                     "      <th></th>\n",
                     "      <th>categories</th>\n",
                     "      <th>upload_date</th>\n",
                     "      <th>duration</th>\n",
                     "      <th>like_count</th>\n",
                     "      <th>dislike_count</th>\n",
                     "      <th>view_count</th>\n",
                     "      <th>channel_id</th>\n",
                     "      <th>display_id</th>\n",
                     "      <th>yearNumber</th>\n",
                     "      <th>weekNumber</th>\n",
                     "      <th>is_gaming</th>\n",
                     "      <th>title_pos_scr</th>\n",
                     "      <th>title_neg_scr</th>\n",
                     "      <th>title_neu_scr</th>\n",
                     "      <th>title_com_scr</th>\n",
                     "    </tr>\n",
                     "  </thead>\n",
                     "  <tbody>\n",
                     "    <tr>\n",
                     "      <th>1792</th>\n",
                     "      <td>Gaming</td>\n",
                     "      <td>2019-09-29</td>\n",
                     "      <td>892</td>\n",
                     "      <td>58.0</td>\n",
                     "      <td>3.0</td>\n",
                     "      <td>584.0</td>\n",
                     "      <td>UCzWm1-4XF7AHxVUTkHCM1uw</td>\n",
                     "      <td>M0x6TJmMwL4</td>\n",
                     "      <td>2019</td>\n",
                     "      <td>6</td>\n",
                     "      <td>True</td>\n",
                     "      <td>0.672</td>\n",
                     "      <td>0.00</td>\n",
                     "      <td>0.328</td>\n",
                     "      <td>0.6239</td>\n",
                     "    </tr>\n",
                     "    <tr>\n",
                     "      <th>1793</th>\n",
                     "      <td>Gaming</td>\n",
                     "      <td>2019-09-22</td>\n",
                     "      <td>2428</td>\n",
                     "      <td>60.0</td>\n",
                     "      <td>11.0</td>\n",
                     "      <td>1023.0</td>\n",
                     "      <td>UCzWm1-4XF7AHxVUTkHCM1uw</td>\n",
                     "      <td>ofAIp6dad00</td>\n",
                     "      <td>2019</td>\n",
                     "      <td>6</td>\n",
                     "      <td>True</td>\n",
                     "      <td>0.000</td>\n",
                     "      <td>0.00</td>\n",
                     "      <td>1.000</td>\n",
                     "      <td>0.0000</td>\n",
                     "    </tr>\n",
                     "    <tr>\n",
                     "      <th>1794</th>\n",
                     "      <td>Gaming</td>\n",
                     "      <td>2019-09-20</td>\n",
                     "      <td>18</td>\n",
                     "      <td>32.0</td>\n",
                     "      <td>0.0</td>\n",
                     "      <td>2000.0</td>\n",
                     "      <td>UCzWm1-4XF7AHxVUTkHCM1uw</td>\n",
                     "      <td>cXHRNThI27A</td>\n",
                     "      <td>2019</td>\n",
                     "      <td>4</td>\n",
                     "      <td>True</td>\n",
                     "      <td>0.000</td>\n",
                     "      <td>0.00</td>\n",
                     "      <td>1.000</td>\n",
                     "      <td>0.0000</td>\n",
                     "    </tr>\n",
                     "    <tr>\n",
                     "      <th>1795</th>\n",
                     "      <td>Gaming</td>\n",
                     "      <td>2019-09-17</td>\n",
                     "      <td>587</td>\n",
                     "      <td>311.0</td>\n",
                     "      <td>116.0</td>\n",
                     "      <td>5102.0</td>\n",
                     "      <td>UCzWm1-4XF7AHxVUTkHCM1uw</td>\n",
                     "      <td>cDSo3mUNEEM</td>\n",
                     "      <td>2019</td>\n",
                     "      <td>1</td>\n",
                     "      <td>True</td>\n",
                     "      <td>0.000</td>\n",
                     "      <td>0.73</td>\n",
                     "      <td>0.270</td>\n",
                     "      <td>-0.8957</td>\n",
                     "    </tr>\n",
                     "    <tr>\n",
                     "      <th>1796</th>\n",
                     "      <td>Gaming</td>\n",
                     "      <td>2019-09-13</td>\n",
                     "      <td>220</td>\n",
                     "      <td>35.0</td>\n",
                     "      <td>3.0</td>\n",
                     "      <td>300.0</td>\n",
                     "      <td>UCzWm1-4XF7AHxVUTkHCM1uw</td>\n",
                     "      <td>rJmT1Rq24qE</td>\n",
                     "      <td>2019</td>\n",
                     "      <td>4</td>\n",
                     "      <td>True</td>\n",
                     "      <td>0.198</td>\n",
                     "      <td>0.00</td>\n",
                     "      <td>0.802</td>\n",
                     "      <td>0.5719</td>\n",
                     "    </tr>\n",
                     "  </tbody>\n",
                     "</table>\n",
                     "</div>"
                  ],
                  "text/plain": [
                     "     categories upload_date  duration  like_count  dislike_count  view_count  \\\n",
                     "1792     Gaming  2019-09-29       892        58.0            3.0       584.0   \n",
                     "1793     Gaming  2019-09-22      2428        60.0           11.0      1023.0   \n",
                     "1794     Gaming  2019-09-20        18        32.0            0.0      2000.0   \n",
                     "1795     Gaming  2019-09-17       587       311.0          116.0      5102.0   \n",
                     "1796     Gaming  2019-09-13       220        35.0            3.0       300.0   \n",
                     "\n",
                     "                    channel_id   display_id  yearNumber  weekNumber  \\\n",
                     "1792  UCzWm1-4XF7AHxVUTkHCM1uw  M0x6TJmMwL4        2019           6   \n",
                     "1793  UCzWm1-4XF7AHxVUTkHCM1uw  ofAIp6dad00        2019           6   \n",
                     "1794  UCzWm1-4XF7AHxVUTkHCM1uw  cXHRNThI27A        2019           4   \n",
                     "1795  UCzWm1-4XF7AHxVUTkHCM1uw  cDSo3mUNEEM        2019           1   \n",
                     "1796  UCzWm1-4XF7AHxVUTkHCM1uw  rJmT1Rq24qE        2019           4   \n",
                     "\n",
                     "      is_gaming  title_pos_scr  title_neg_scr  title_neu_scr  title_com_scr  \n",
                     "1792       True          0.672           0.00          0.328         0.6239  \n",
                     "1793       True          0.000           0.00          1.000         0.0000  \n",
                     "1794       True          0.000           0.00          1.000         0.0000  \n",
                     "1795       True          0.000           0.73          0.270        -0.8957  \n",
                     "1796       True          0.198           0.00          0.802         0.5719  "
                  ]
               },
               "execution_count": 114,
               "metadata": {},
               "output_type": "execute_result"
            }
         ],
         "source": [
            "video_metadatas.head()"
         ]
      },
      {
         "cell_type": "code",
         "execution_count": 115,
         "id": "2ebf9915",
         "metadata": {},
         "outputs": [],
         "source": [
            "model_data = video_metadatas.loc[:,['title_com_scr', 'duration', 'weekNumber', 'view_count']]"
         ]
      },
      {
         "cell_type": "code",
         "execution_count": 117,
         "id": "65660539",
         "metadata": {},
         "outputs": [],
         "source": [
            "# normalise the data\n",
            "xmean = np.mean(model_data,axis=0)\n",
            "xstd = np.std(model_data,axis=0)\n",
            "Xbzs = (model_data-xmean)/xstd"
         ]
      },
      {
         "cell_type": "code",
         "execution_count": 119,
         "id": "fbb84400",
         "metadata": {},
         "outputs": [],
         "source": [
            "# Declares the model\n",
            "mod = smf.ols(formula='view_count ~ title_com_scr + duration + weekNumber', data=Xbzs)"
         ]
      },
      {
         "cell_type": "code",
         "execution_count": 120,
         "id": "2b0199a1",
         "metadata": {},
         "outputs": [
            {
               "name": "stdout",
               "output_type": "stream",
               "text": [
                  "                            OLS Regression Results                            \n",
                  "==============================================================================\n",
                  "Dep. Variable:             view_count   R-squared:                       0.000\n",
                  "Model:                            OLS   Adj. R-squared:                  0.000\n",
                  "Method:                 Least Squares   F-statistic:                     187.1\n",
                  "Date:                Sun, 18 Dec 2022   Prob (F-statistic):          2.36e-121\n",
                  "Time:                        13:57:20   Log-Likelihood:            -4.4540e+06\n",
                  "No. Observations:             3139185   AIC:                         8.908e+06\n",
                  "Df Residuals:                 3139181   BIC:                         8.908e+06\n",
                  "Df Model:                           3                                         \n",
                  "Covariance Type:            nonrobust                                         \n",
                  "=================================================================================\n",
                  "                    coef    std err          t      P>|t|      [0.025      0.975]\n",
                  "---------------------------------------------------------------------------------\n",
                  "Intercept      6.684e-10      0.001   1.18e-06      1.000      -0.001       0.001\n",
                  "title_com_scr     0.0006      0.001      1.006      0.314      -0.001       0.002\n",
                  "duration         -0.0129      0.001    -22.842      0.000      -0.014      -0.012\n",
                  "weekNumber        0.0037      0.001      6.564      0.000       0.003       0.005\n",
                  "=================================================================================\n",
                  "Omnibus:                 19059061.012   Durbin-Watson:                      1.712\n",
                  "Prob(Omnibus):                  0.000   Jarque-Bera (JB):   18441382888184132.000\n",
                  "Skew:                         442.071   Prob(JB):                            0.00\n",
                  "Kurtosis:                  375488.097   Cond. No.                            1.02\n",
                  "=================================================================================\n",
                  "\n",
                  "Notes:\n",
                  "[1] Standard Errors assume that the covariance matrix of the errors is correctly specified.\n"
               ]
            }
         ],
         "source": [
            "# Fits the model (find the optimal coefficients, adding a random seed ensures consistency)\n",
            "np.random.seed(2)\n",
            "res = mod.fit()\n",
            "\n",
            "# Print thes summary output provided by the library.\n",
            "print(res.summary())"
         ]
      },
      {
         "cell_type": "markdown",
         "id": "65e28dae",
         "metadata": {},
         "source": [
            "### Analyze the effect of the Capitalize words in title"
         ]
      },
      {
         "cell_type": "markdown",
         "id": "8e0c50ee",
         "metadata": {},
         "source": [
            "Lets implement the sub question 2, the goal is to find a relation btw the number of views and the titles (length, sentiment, casefold, etc...). For that an observational studies would be highly recommended to compare what is comparable. For that we will keep the channel id to see the number of subs of the channel and compare pairwise similar nb of subs. \n"
         ]
      },
      {
         "cell_type": "code",
         "execution_count": 126,
         "id": "67ed8e45",
         "metadata": {},
         "outputs": [],
         "source": [
            "# we need to improve the hw1 method a bit because we want to make sure that titles with a lot of spaces\n",
            "# don't have too many words and if there is a typo (e.g \"Welcome,in my video\" should be counted as 4 words and not 3)\n",
            "def count_words(x: str):\n",
            "    new_x = x.replace(\",\", \" \")\n",
            "    # change anything that isn’t an alphanumeric character or whitespace, and replaces it with a space\n",
            "    new_x = re.sub(r\"[^\\w\\s]\", \" \", new_x)\n",
            "    # Change many consecutive spaces into a single space\n",
            "    new_x = re.sub(\" +\", \" \", new_x)\n",
            "    # delete begin/end spaces\n",
            "    new_x = new_x.strip()\n",
            "    return len(new_x.split(\" \"))\n",
            "\n",
            "def get_freq_capital_words(sentence: str):\n",
            "    new_x = sentence.replace(\",\", \" \")\n",
            "    # change anything that isn’t an alphanumeric character or whitespace, and replaces it with a space\n",
            "    new_x = re.sub(r\"[^\\w\\s]\", \" \", new_x)\n",
            "    # Change many consecutive spaces into a single space\n",
            "    new_x = re.sub(\" +\", \" \", new_x)\n",
            "    # delete begin/end spaces\n",
            "    new_x = new_x.strip().split(\" \")\n",
            "    nb_capital_words = 0\n",
            "    for word in new_x:\n",
            "        if word.isupper():\n",
            "            nb_capital_words += 1\n",
            "    return nb_capital_words / len(new_x)\n"
         ]
      },
      {
         "cell_type": "code",
         "execution_count": 124,
         "id": "a5128965",
         "metadata": {},
         "outputs": [],
         "source": [
            "video_metadatas[\"title_nb_words\"] = title_metadatas.title.apply(\n",
            "    lambda title: count_words(title)\n",
            ")\n",
            "\n",
            "\n",
            "video_metadatas[\"freq_capitalize_words\"] = title_metadatas.title.apply(\n",
            "    lambda title: get_freq_capital_words(title)\n",
            ")\n"
         ]
      },
      {
         "cell_type": "code",
         "execution_count": null,
         "id": "bce87c54",
         "metadata": {},
         "outputs": [],
         "source": [
            "# distrib of the freq capitalize words.\n",
            "# process for the plot\n",
            "freq_capit_words = round(video_metadatas.freq_capitalize_words, 1)\n",
            "values_counts = freq_capit_words.value_counts().sort_index()\n",
            "values_counts.plot(kind=\"bar\")\n",
            "plt.title(\"distrib. of the freq. of capitalize words\")\n",
            "plt.xlabel(\"frequencies of upper word\")\n",
            "plt.ylabel(\"nb of titles\")"
         ]
      },
      {
         "cell_type": "code",
         "execution_count": null,
         "id": "873301e1",
         "metadata": {},
         "outputs": [],
         "source": [
            "binary_freq_df = video_metadatas[\n",
            "    (video_metadatas.freq_capitalize_words == 0)\n",
            "    | (video_metadatas.freq_capitalize_words == 1)\n",
            "]\n",
            "\n",
            "no_upper_word_df = binary_freq_df[binary_freq_df[\"freq_capitalize_words\"] == 0]\n",
            "full_upper_word_df = binary_freq_df[binary_freq_df[\"freq_capitalize_words\"] == 1]"
         ]
      },
      {
         "cell_type": "code",
         "execution_count": null,
         "id": "889f721e",
         "metadata": {},
         "outputs": [],
         "source": [
            "video_metadatas[\"view_count_log\"] = np.log(video_metadatas.view_count, where=video_metadatas.view_count != 0)\n",
            "mod = smf.ols(formula=\"view_count_log ~ title_nb_words + freq_capitalize_words\", data=video_metadatas)\n",
            "res = mod.fit()\n",
            "print(res.summary())"
         ]
      },
      {
         "cell_type": "code",
         "execution_count": null,
         "id": "dbe047f6",
         "metadata": {},
         "outputs": [],
         "source": []
      },
      {
         "cell_type": "code",
         "execution_count": null,
         "id": "db0903c4",
         "metadata": {},
         "outputs": [],
         "source": []
      },
      {
         "cell_type": "code",
         "execution_count": null,
         "id": "358111df",
         "metadata": {},
         "outputs": [],
         "source": []
      },
      {
         "cell_type": "code",
         "execution_count": null,
         "id": "ac12eaae",
         "metadata": {},
         "outputs": [],
         "source": []
      },
      {
         "cell_type": "code",
         "execution_count": null,
         "id": "8c3dc245",
         "metadata": {},
         "outputs": [],
         "source": []
      },
      {
         "cell_type": "code",
         "execution_count": null,
         "id": "8fc2806f",
         "metadata": {},
         "outputs": [],
         "source": []
      },
      {
         "cell_type": "code",
         "execution_count": 33,
         "id": "cb21aab4",
         "metadata": {},
         "outputs": [],
         "source": [
            "title_metadatas = pd.read_feather(\"./data/yt_metadata_title_filtered.feather\")\n"
         ]
      },
      {
         "cell_type": "code",
         "execution_count": 37,
         "id": "e14e378a",
         "metadata": {},
         "outputs": [
            {
               "data": {
                  "text/html": [
                     "<div>\n",
                     "<style scoped>\n",
                     "    .dataframe tbody tr th:only-of-type {\n",
                     "        vertical-align: middle;\n",
                     "    }\n",
                     "\n",
                     "    .dataframe tbody tr th {\n",
                     "        vertical-align: top;\n",
                     "    }\n",
                     "\n",
                     "    .dataframe thead th {\n",
                     "        text-align: right;\n",
                     "    }\n",
                     "</style>\n",
                     "<table border=\"1\" class=\"dataframe\">\n",
                     "  <thead>\n",
                     "    <tr style=\"text-align: right;\">\n",
                     "      <th></th>\n",
                     "      <th>display_id</th>\n",
                     "      <th>title</th>\n",
                     "    </tr>\n",
                     "  </thead>\n",
                     "  <tbody>\n",
                     "    <tr>\n",
                     "      <th>0</th>\n",
                     "      <td>M0x6TJmMwL4</td>\n",
                     "      <td>Blasphemous is Amazing!</td>\n",
                     "    </tr>\n",
                     "    <tr>\n",
                     "      <th>1</th>\n",
                     "      <td>ofAIp6dad00</td>\n",
                     "      <td>I review all 42 Genesis Mini games</td>\n",
                     "    </tr>\n",
                     "  </tbody>\n",
                     "</table>\n",
                     "</div>"
                  ],
                  "text/plain": [
                     "    display_id                               title\n",
                     "0  M0x6TJmMwL4             Blasphemous is Amazing!\n",
                     "1  ofAIp6dad00  I review all 42 Genesis Mini games"
                  ]
               },
               "execution_count": 37,
               "metadata": {},
               "output_type": "execute_result"
            }
         ],
         "source": [
            "title_metadatas.drop([\"index\", \"categories\"], axis=1, inplace=True)\n",
            "title_metadatas.head(2)"
         ]
      },
      {
         "cell_type": "code",
         "execution_count": 38,
         "id": "9b871896",
         "metadata": {},
         "outputs": [],
         "source": [
            "metadatas = pd.merge(video_metadatas, title_metadatas, on=\"display_id\")\n"
         ]
      },
      {
         "cell_type": "code",
         "execution_count": 41,
         "id": "bfe861c1",
         "metadata": {},
         "outputs": [
            {
               "data": {
                  "text/html": [
                     "<div>\n",
                     "<style scoped>\n",
                     "    .dataframe tbody tr th:only-of-type {\n",
                     "        vertical-align: middle;\n",
                     "    }\n",
                     "\n",
                     "    .dataframe tbody tr th {\n",
                     "        vertical-align: top;\n",
                     "    }\n",
                     "\n",
                     "    .dataframe thead th {\n",
                     "        text-align: right;\n",
                     "    }\n",
                     "</style>\n",
                     "<table border=\"1\" class=\"dataframe\">\n",
                     "  <thead>\n",
                     "    <tr style=\"text-align: right;\">\n",
                     "      <th></th>\n",
                     "      <th>categories</th>\n",
                     "      <th>upload_date</th>\n",
                     "      <th>duration</th>\n",
                     "      <th>like_count</th>\n",
                     "      <th>dislike_count</th>\n",
                     "      <th>view_count</th>\n",
                     "      <th>channel_id</th>\n",
                     "      <th>display_id</th>\n",
                     "      <th>yearNumber</th>\n",
                     "      <th>weekNumber</th>\n",
                     "      <th>is_gaming</th>\n",
                     "      <th>title</th>\n",
                     "    </tr>\n",
                     "  </thead>\n",
                     "  <tbody>\n",
                     "    <tr>\n",
                     "      <th>630558</th>\n",
                     "      <td>Gaming</td>\n",
                     "      <td>2015-05-18</td>\n",
                     "      <td>383</td>\n",
                     "      <td>8.0</td>\n",
                     "      <td>2.0</td>\n",
                     "      <td>310.0</td>\n",
                     "      <td>UCgJRhtnqA-67pKmQ3A2GsgA</td>\n",
                     "      <td>16spHPsCzkI</td>\n",
                     "      <td>2015</td>\n",
                     "      <td>0</td>\n",
                     "      <td>True</td>\n",
                     "      <td>DCS Terrain Tool: Vary House AO - RU</td>\n",
                     "    </tr>\n",
                     "  </tbody>\n",
                     "</table>\n",
                     "</div>"
                  ],
                  "text/plain": [
                     "       categories upload_date  duration  like_count  dislike_count  \\\n",
                     "630558     Gaming  2015-05-18       383         8.0            2.0   \n",
                     "\n",
                     "        view_count                channel_id   display_id  yearNumber  \\\n",
                     "630558       310.0  UCgJRhtnqA-67pKmQ3A2GsgA  16spHPsCzkI        2015   \n",
                     "\n",
                     "        weekNumber  is_gaming                                 title  \n",
                     "630558           0       True  DCS Terrain Tool: Vary House AO - RU  "
                  ]
               },
               "execution_count": 41,
               "metadata": {},
               "output_type": "execute_result"
            }
         ],
         "source": [
            "metadatas.sample()"
         ]
      },
      {
         "cell_type": "code",
         "execution_count": 42,
         "id": "e64a1231",
         "metadata": {},
         "outputs": [],
         "source": [
            "# we need to improve the hw1 method a bit because we want to make sure that titles with a lot of spaces\n",
            "# don't have too many words and if there is a typo (e.g \"Welcome,in my video\" should be counted as 4 words and not 3)\n",
            "def count_words(x: str):\n",
            "    new_x = x.replace(\",\", \" \")\n",
            "    # change anything that isn’t an alphanumeric character or whitespace, and replaces it with a space\n",
            "    new_x = re.sub(r\"[^\\w\\s]\", \" \", new_x)\n",
            "    # Change many consecutive spaces into a single space\n",
            "    new_x = re.sub(\" +\", \" \", new_x)\n",
            "    # delete begin/end spaces\n",
            "    new_x = new_x.strip()\n",
            "    return len(new_x.split(\" \"))\n"
         ]
      },
      {
         "cell_type": "code",
         "execution_count": 43,
         "id": "3ef63e39",
         "metadata": {},
         "outputs": [
            {
               "name": "stdout",
               "output_type": "stream",
               "text": [
                  "4\n",
                  "4\n",
                  "7\n",
                  "5\n",
                  "10\n",
                  "2\n"
               ]
            }
         ],
         "source": [
            "# test the function \n",
            "print(count_words(\"Salut     je suis la\"))\n",
            "print(count_words(\"Salut,je suis la\"))\n",
            "print(count_words(\"#FuckCancer | I'VE GOT SOME GREAT NEWS!\"))\n",
            "print(count_words(\"DISNEY CHRISTMAS VLOG! || Zak Longo\"))\n",
            "print(count_words(\"Sims 4 - SHOOTING SIMS WITH A GUN - The Sims 4\"))\n",
            "print(count_words(\"###ADA#ada##\"))\n"
         ]
      },
      {
         "cell_type": "code",
         "execution_count": 44,
         "id": "565a324c",
         "metadata": {},
         "outputs": [],
         "source": [
            "metadatas[\"title_nb_words\"] = metadatas.title.apply(\n",
            "    lambda title: count_words(title)\n",
            ")"
         ]
      },
      {
         "cell_type": "code",
         "execution_count": 45,
         "id": "321cc0a8",
         "metadata": {},
         "outputs": [
            {
               "name": "stdout",
               "output_type": "stream",
               "text": [
                  "0.5\n",
                  "0.5\n"
               ]
            }
         ],
         "source": [
            "def get_freq_capital_words(sentence: str):\n",
            "    new_x = sentence.replace(\",\", \" \")\n",
            "    # change anything that isn’t an alphanumeric character or whitespace, and replaces it with a space\n",
            "    new_x = re.sub(r\"[^\\w\\s]\", \" \", new_x)\n",
            "    # Change many consecutive spaces into a single space\n",
            "    new_x = re.sub(\" +\", \" \", new_x)\n",
            "    # delete begin/end spaces\n",
            "    new_x = new_x.strip().split(\" \")\n",
            "    nb_capital_words = 0\n",
            "    for word in new_x:\n",
            "        if word.isupper():\n",
            "            nb_capital_words += 1\n",
            "    return nb_capital_words / len(new_x)\n",
            "\n",
            "\n",
            "print(get_freq_capital_words(\"Sims 4 - SHOOTING SIMS WITH A GUN - The Sims 4\"))\n",
            "print(get_freq_capital_words(\"###ADA###salut|||test&SALUT\"))\n"
         ]
      },
      {
         "cell_type": "code",
         "execution_count": 46,
         "id": "46d08b7e",
         "metadata": {},
         "outputs": [],
         "source": [
            "metadatas[\"freq_capitalize_words\"] = metadatas.title.apply(\n",
            "    lambda title: get_freq_capital_words(title)\n",
            ")\n"
         ]
      },
      {
         "cell_type": "code",
         "execution_count": 47,
         "id": "66892f2f",
         "metadata": {},
         "outputs": [
            {
               "data": {
                  "text/html": [
                     "<div>\n",
                     "<style scoped>\n",
                     "    .dataframe tbody tr th:only-of-type {\n",
                     "        vertical-align: middle;\n",
                     "    }\n",
                     "\n",
                     "    .dataframe tbody tr th {\n",
                     "        vertical-align: top;\n",
                     "    }\n",
                     "\n",
                     "    .dataframe thead th {\n",
                     "        text-align: right;\n",
                     "    }\n",
                     "</style>\n",
                     "<table border=\"1\" class=\"dataframe\">\n",
                     "  <thead>\n",
                     "    <tr style=\"text-align: right;\">\n",
                     "      <th></th>\n",
                     "      <th>categories</th>\n",
                     "      <th>upload_date</th>\n",
                     "      <th>duration</th>\n",
                     "      <th>like_count</th>\n",
                     "      <th>dislike_count</th>\n",
                     "      <th>view_count</th>\n",
                     "      <th>channel_id</th>\n",
                     "      <th>display_id</th>\n",
                     "      <th>yearNumber</th>\n",
                     "      <th>weekNumber</th>\n",
                     "      <th>is_gaming</th>\n",
                     "      <th>title</th>\n",
                     "      <th>title_nb_words</th>\n",
                     "      <th>freq_capitalize_words</th>\n",
                     "    </tr>\n",
                     "  </thead>\n",
                     "  <tbody>\n",
                     "    <tr>\n",
                     "      <th>1984289</th>\n",
                     "      <td>Gaming</td>\n",
                     "      <td>2017-03-31</td>\n",
                     "      <td>10395</td>\n",
                     "      <td>251.0</td>\n",
                     "      <td>4.0</td>\n",
                     "      <td>20737.0</td>\n",
                     "      <td>UCJ2FGcjPBMrEx-bLC45nHLw</td>\n",
                     "      <td>C3ekhuh0erI</td>\n",
                     "      <td>2017</td>\n",
                     "      <td>4</td>\n",
                     "      <td>True</td>\n",
                     "      <td>Kona | Full Playthrough | Longplay Gameplay Wa...</td>\n",
                     "      <td>10</td>\n",
                     "      <td>0.1</td>\n",
                     "    </tr>\n",
                     "  </tbody>\n",
                     "</table>\n",
                     "</div>"
                  ],
                  "text/plain": [
                     "        categories upload_date  duration  like_count  dislike_count  \\\n",
                     "1984289     Gaming  2017-03-31     10395       251.0            4.0   \n",
                     "\n",
                     "         view_count                channel_id   display_id  yearNumber  \\\n",
                     "1984289     20737.0  UCJ2FGcjPBMrEx-bLC45nHLw  C3ekhuh0erI        2017   \n",
                     "\n",
                     "         weekNumber  is_gaming  \\\n",
                     "1984289           4       True   \n",
                     "\n",
                     "                                                     title  title_nb_words  \\\n",
                     "1984289  Kona | Full Playthrough | Longplay Gameplay Wa...              10   \n",
                     "\n",
                     "         freq_capitalize_words  \n",
                     "1984289                    0.1  "
                  ]
               },
               "execution_count": 47,
               "metadata": {},
               "output_type": "execute_result"
            }
         ],
         "source": [
            "metadatas.sample()"
         ]
      },
      {
         "cell_type": "code",
         "execution_count": 48,
         "id": "8ffd323a",
         "metadata": {},
         "outputs": [
            {
               "data": {
                  "text/plain": [
                     "Text(0, 0.5, 'nb of titles')"
                  ]
               },
               "execution_count": 48,
               "metadata": {},
               "output_type": "execute_result"
            },
            {
               "data": {
                  "image/png": "[encoded data removed]",
                  "text/plain": [
                     "<Figure size 640x480 with 1 Axes>"
                  ]
               },
               "metadata": {},
               "output_type": "display_data"
            }
         ],
         "source": [
            "# distrib of the freq capitalize words.\n",
            "# process for the plot\n",
            "freq_capit_words = round(metadatas.freq_capitalize_words, 1)\n",
            "values_counts = freq_capit_words.value_counts().sort_index()\n",
            "values_counts.plot(kind=\"bar\")\n",
            "plt.title(\"distrib. of the freq. of capitalize words\")\n",
            "plt.xlabel(\"frequencies of upper word\")\n",
            "plt.ylabel(\"nb of titles\")\n"
         ]
      },
      {
         "cell_type": "code",
         "execution_count": 54,
         "id": "62405130",
         "metadata": {},
         "outputs": [
            {
               "name": "stdout",
               "output_type": "stream",
               "text": [
                  "# of full upper words title (183480, 15)\n",
                  "# of full lower words title (1136521, 15)\n"
               ]
            }
         ],
         "source": [
            "binary_freq_df = metadatas[\n",
            "    (metadatas.freq_capitalize_words == 0)\n",
            "    | (metadatas.freq_capitalize_words == 1)\n",
            "]\n",
            "\n",
            "no_upper_word_df = binary_freq_df[binary_freq_df[\"freq_capitalize_words\"] == 0]\n",
            "full_upper_word_df = binary_freq_df[binary_freq_df[\"freq_capitalize_words\"] == 1]\n",
            "\n",
            "print(\"# of full upper words title\", full_upper_word_df.shape)\n",
            "print(\"# of full lower words title\", no_upper_word_df.shape)"
         ]
      },
      {
         "cell_type": "code",
         "execution_count": 51,
         "id": "28750684",
         "metadata": {},
         "outputs": [
            {
               "data": {
                  "text/html": [
                     "<div>\n",
                     "<style scoped>\n",
                     "    .dataframe tbody tr th:only-of-type {\n",
                     "        vertical-align: middle;\n",
                     "    }\n",
                     "\n",
                     "    .dataframe tbody tr th {\n",
                     "        vertical-align: top;\n",
                     "    }\n",
                     "\n",
                     "    .dataframe thead th {\n",
                     "        text-align: right;\n",
                     "    }\n",
                     "</style>\n",
                     "<table border=\"1\" class=\"dataframe\">\n",
                     "  <thead>\n",
                     "    <tr style=\"text-align: right;\">\n",
                     "      <th></th>\n",
                     "      <th>categories</th>\n",
                     "      <th>upload_date</th>\n",
                     "      <th>duration</th>\n",
                     "      <th>like_count</th>\n",
                     "      <th>dislike_count</th>\n",
                     "      <th>view_count</th>\n",
                     "      <th>channel_id</th>\n",
                     "      <th>display_id</th>\n",
                     "      <th>yearNumber</th>\n",
                     "      <th>weekNumber</th>\n",
                     "      <th>is_gaming</th>\n",
                     "    </tr>\n",
                     "  </thead>\n",
                     "  <tbody>\n",
                     "    <tr>\n",
                     "      <th>1792</th>\n",
                     "      <td>Gaming</td>\n",
                     "      <td>2019-09-29</td>\n",
                     "      <td>892</td>\n",
                     "      <td>58.0</td>\n",
                     "      <td>3.0</td>\n",
                     "      <td>584.0</td>\n",
                     "      <td>UCzWm1-4XF7AHxVUTkHCM1uw</td>\n",
                     "      <td>M0x6TJmMwL4</td>\n",
                     "      <td>2019</td>\n",
                     "      <td>6</td>\n",
                     "      <td>True</td>\n",
                     "    </tr>\n",
                     "    <tr>\n",
                     "      <th>1793</th>\n",
                     "      <td>Gaming</td>\n",
                     "      <td>2019-09-22</td>\n",
                     "      <td>2428</td>\n",
                     "      <td>60.0</td>\n",
                     "      <td>11.0</td>\n",
                     "      <td>1023.0</td>\n",
                     "      <td>UCzWm1-4XF7AHxVUTkHCM1uw</td>\n",
                     "      <td>ofAIp6dad00</td>\n",
                     "      <td>2019</td>\n",
                     "      <td>6</td>\n",
                     "      <td>True</td>\n",
                     "    </tr>\n",
                     "    <tr>\n",
                     "      <th>1794</th>\n",
                     "      <td>Gaming</td>\n",
                     "      <td>2019-09-20</td>\n",
                     "      <td>18</td>\n",
                     "      <td>32.0</td>\n",
                     "      <td>0.0</td>\n",
                     "      <td>2000.0</td>\n",
                     "      <td>UCzWm1-4XF7AHxVUTkHCM1uw</td>\n",
                     "      <td>cXHRNThI27A</td>\n",
                     "      <td>2019</td>\n",
                     "      <td>4</td>\n",
                     "      <td>True</td>\n",
                     "    </tr>\n",
                     "    <tr>\n",
                     "      <th>1795</th>\n",
                     "      <td>Gaming</td>\n",
                     "      <td>2019-09-17</td>\n",
                     "      <td>587</td>\n",
                     "      <td>311.0</td>\n",
                     "      <td>116.0</td>\n",
                     "      <td>5102.0</td>\n",
                     "      <td>UCzWm1-4XF7AHxVUTkHCM1uw</td>\n",
                     "      <td>cDSo3mUNEEM</td>\n",
                     "      <td>2019</td>\n",
                     "      <td>1</td>\n",
                     "      <td>True</td>\n",
                     "    </tr>\n",
                     "    <tr>\n",
                     "      <th>1796</th>\n",
                     "      <td>Gaming</td>\n",
                     "      <td>2019-09-13</td>\n",
                     "      <td>220</td>\n",
                     "      <td>35.0</td>\n",
                     "      <td>3.0</td>\n",
                     "      <td>300.0</td>\n",
                     "      <td>UCzWm1-4XF7AHxVUTkHCM1uw</td>\n",
                     "      <td>rJmT1Rq24qE</td>\n",
                     "      <td>2019</td>\n",
                     "      <td>4</td>\n",
                     "      <td>True</td>\n",
                     "    </tr>\n",
                     "  </tbody>\n",
                     "</table>\n",
                     "</div>"
                  ],
                  "text/plain": [
                     "     categories upload_date  duration  like_count  dislike_count  view_count  \\\n",
                     "1792     Gaming  2019-09-29       892        58.0            3.0       584.0   \n",
                     "1793     Gaming  2019-09-22      2428        60.0           11.0      1023.0   \n",
                     "1794     Gaming  2019-09-20        18        32.0            0.0      2000.0   \n",
                     "1795     Gaming  2019-09-17       587       311.0          116.0      5102.0   \n",
                     "1796     Gaming  2019-09-13       220        35.0            3.0       300.0   \n",
                     "\n",
                     "                    channel_id   display_id  yearNumber  weekNumber  is_gaming  \n",
                     "1792  UCzWm1-4XF7AHxVUTkHCM1uw  M0x6TJmMwL4        2019           6       True  \n",
                     "1793  UCzWm1-4XF7AHxVUTkHCM1uw  ofAIp6dad00        2019           6       True  \n",
                     "1794  UCzWm1-4XF7AHxVUTkHCM1uw  cXHRNThI27A        2019           4       True  \n",
                     "1795  UCzWm1-4XF7AHxVUTkHCM1uw  cDSo3mUNEEM        2019           1       True  \n",
                     "1796  UCzWm1-4XF7AHxVUTkHCM1uw  rJmT1Rq24qE        2019           4       True  "
                  ]
               },
               "execution_count": 51,
               "metadata": {},
               "output_type": "execute_result"
            }
         ],
         "source": [
            "# get the \n",
            "video_metadatas.head()"
         ]
      },
      {
         "cell_type": "code",
         "execution_count": 56,
         "id": "d1c5c5d9",
         "metadata": {},
         "outputs": [
            {
               "name": "stdout",
               "output_type": "stream",
               "text": [
                  "                            OLS Regression Results                            \n",
                  "==============================================================================\n",
                  "Dep. Variable:         view_count_log   R-squared:                       0.007\n",
                  "Model:                            OLS   Adj. R-squared:                  0.007\n",
                  "Method:                 Least Squares   F-statistic:                 1.040e+04\n",
                  "Date:                Sat, 17 Dec 2022   Prob (F-statistic):               0.00\n",
                  "Time:                        18:56:54   Log-Likelihood:            -7.2584e+06\n",
                  "No. Observations:             3139185   AIC:                         1.452e+07\n",
                  "Df Residuals:                 3139182   BIC:                         1.452e+07\n",
                  "Df Model:                           2                                         \n",
                  "Covariance Type:            nonrobust                                         \n",
                  "=========================================================================================\n",
                  "                            coef    std err          t      P>|t|      [0.025      0.975]\n",
                  "-----------------------------------------------------------------------------------------\n",
                  "Intercept                 8.2089      0.004   2142.871      0.000       8.201       8.216\n",
                  "title_nb_words            0.0360      0.000     91.747      0.000       0.035       0.037\n",
                  "freq_capitalize_words     0.4656      0.004    104.397      0.000       0.457       0.474\n",
                  "==============================================================================\n",
                  "Omnibus:                     2657.604   Durbin-Watson:                   0.432\n",
                  "Prob(Omnibus):                  0.000   Jarque-Bera (JB):             2408.839\n",
                  "Skew:                           0.032   Prob(JB):                         0.00\n",
                  "Kurtosis:                       2.880   Cond. No.                         32.6\n",
                  "==============================================================================\n",
                  "\n",
                  "Notes:\n",
                  "[1] Standard Errors assume that the covariance matrix of the errors is correctly specified.\n"
               ]
            }
         ],
         "source": [
            "metadatas[\"view_count_log\"] = np.log(metadatas.view_count, where=metadatas.view_count != 0)\n",
            "mod = smf.ols(formula=\"view_count_log ~ title_nb_words + freq_capitalize_words\", data=metadatas)\n",
            "res = mod.fit()\n",
            "print(res.summary())"
         ]
      },
      {
         "cell_type": "markdown",
         "id": "7e589c32",
         "metadata": {},
         "source": [
            "The frequence of capitalize words in the titles is significant and it increases the number of views on the video. \\\n",
            "The number of words in the title is significant, however it doesnt seem to have a real impact on the number of views. \n"
         ]
      },
      {
         "cell_type": "markdown",
         "id": "5894abc1",
         "metadata": {},
         "source": [
            "### Sub-Question 3\n",
            "\n",
            "**Description:** Can we predict the channel's success based on channel information, including average video length, upload frequency, usual time of uploads, categories of videos uploaded, positive/negative sentiments of the title, person pronouns to address the viewers, the number of words in the title, and the number of tags used?  \n",
            "**Method:** We can implement kNN method or Random Forests to train the dataset.  \n",
            "**Timeline:** By 13/12/2022  \n",
            "**Organization:** Dorothee  "
         ]
      },
      {
         "cell_type": "code",
         "execution_count": null,
         "id": "fb350ea8",
         "metadata": {},
         "outputs": [],
         "source": []
      },
      {
         "cell_type": "code",
         "execution_count": null,
         "id": "d57be6ae",
         "metadata": {},
         "outputs": [],
         "source": []
      },
      {
         "cell_type": "markdown",
         "id": "5d89b4e0",
         "metadata": {},
         "source": [
            "### Sub-Question 4\n",
            "**Description:** What are the most common topics in each of the chosen categories?  \n",
            "**Method:** The yt_metadata_en.jsonl.gz dataset will be used to get a list of tags of each video according to its category. It is further split and classified according to the topics that occur most frequently. This way, we get the most used keywords in each video category and therefore the most popular topics.  \n",
            "**Timeline:** By 15/12/2022  \n",
            "**Organization:** Jules  "
         ]
      },
      {
         "cell_type": "code",
         "execution_count": null,
         "id": "272014e0",
         "metadata": {},
         "outputs": [],
         "source": []
      },
      {
         "cell_type": "code",
         "execution_count": null,
         "id": "4640ed6f",
         "metadata": {},
         "outputs": [],
         "source": []
      },
      {
         "cell_type": "markdown",
         "id": "2600e95a",
         "metadata": {},
         "source": [
            "### Sub-Question 5\n",
            "**Description:** Does a channel's success increase with a greater variety of categories?  \n",
            "**Method:** For this question, we will determine whether the filtered channels use multiple categories in their videos, and if they showed clear shifts from one category to another. Ultimately, we want to use this information and methods such as A/B testing and observational studies to determine whether a greater variety of categories can aid to a channels’ success.  \n",
            "**Timeline:** By 18/12/2022  \n",
            "**Organization:** Paul  "
         ]
      },
      {
         "cell_type": "code",
         "execution_count": 66,
         "id": "0e534ce3",
         "metadata": {},
         "outputs": [
            {
               "data": {
                  "text/plain": [
                     "Text(0, 0.5, 'Number of videos')"
                  ]
               },
               "execution_count": 66,
               "metadata": {},
               "output_type": "execute_result"
            },
            {
               "data": {
                  "image/png": "[encoded data removed]",
                  "text/plain": [
                     "<Figure size 640x480 with 1 Axes>"
                  ]
               },
               "metadata": {},
               "output_type": "display_data"
            }
         ],
         "source": [
            "video_metadatas.categories.value_counts().plot(kind=\"bar\")\n",
            "plt.title(\"Number of videos per categories for channels with Gaming topic\")\n",
            "plt.xlabel(\"Categories\")\n",
            "plt.ylabel(\"Number of videos\")\n"
         ]
      },
      {
         "cell_type": "markdown",
         "id": "63be44ea",
         "metadata": {},
         "source": [
            "Find channels with unique topic\n"
         ]
      },
      {
         "cell_type": "code",
         "execution_count": 67,
         "id": "530d6927",
         "metadata": {},
         "outputs": [
            {
               "name": "stdout",
               "output_type": "stream",
               "text": [
                  "nb of channels with unique topic Gaming :  (5598,)\n",
                  "nb of channels without unique topic Gaming :  (8782,)\n"
               ]
            },
            {
               "data": {
                  "text/plain": [
                     "[Gaming]              5576\n",
                     "[Entertainment]          8\n",
                     "[People & Blogs]         5\n",
                     "[Film & Animation]       4\n",
                     "[Education]              2\n",
                     "[Music]                  2\n",
                     "[Howto & Style]          1\n",
                     "dtype: int64"
                  ]
               },
               "execution_count": 67,
               "metadata": {},
               "output_type": "execute_result"
            }
         ],
         "source": [
            "gaming_channels_with_categories = video_metadatas.groupby(\"channel_id\").apply(\n",
            "    lambda group: group.categories.unique()\n",
            ")\n",
            "unique_topic_gaming = gaming_channels_with_categories.loc[\n",
            "    gaming_channels_with_categories.str.len() == 1\n",
            "]\n",
            "non_unique_topic_gaming = gaming_channels_with_categories.loc[\n",
            "    gaming_channels_with_categories.str.len() > 1\n",
            "]\n",
            "print(\"nb of channels with unique topic Gaming : \", unique_topic_gaming.shape)\n",
            "print(\"nb of channels without unique topic Gaming : \", non_unique_topic_gaming.shape)\n",
            "unique_topic_gaming.value_counts()\n"
         ]
      },
      {
         "cell_type": "code",
         "execution_count": 72,
         "id": "153bc452",
         "metadata": {},
         "outputs": [],
         "source": [
            "unique_topic_gaming_channels_descript = df_channels[\n",
            "    df_channels.channel.isin(unique_topic_gaming.index.values)\n",
            "]\n",
            "non_unique_topic_gaming_channels_descript = df_channels[\n",
            "    df_channels.channel.isin(non_unique_topic_gaming.index.values)\n",
            "]\n"
         ]
      },
      {
         "cell_type": "markdown",
         "id": "93b03f1f",
         "metadata": {},
         "source": [
            "### Now we have the dataset to check the differences between unique and non unique categories channels\n"
         ]
      },
      {
         "cell_type": "code",
         "execution_count": 73,
         "id": "52a7f632",
         "metadata": {},
         "outputs": [],
         "source": [
            "def get_confidence_interval(data):\n",
            "    rng = np.random.default_rng()\n",
            "    return bootstrap(\n",
            "        (data,),\n",
            "        np.mean,\n",
            "        confidence_level=0.95,\n",
            "        random_state=rng,\n",
            "    ).confidence_interval\n"
         ]
      },
      {
         "cell_type": "code",
         "execution_count": 77,
         "id": "0a1c47d2",
         "metadata": {},
         "outputs": [
            {
               "name": "stdout",
               "output_type": "stream",
               "text": [
                  "95% confidence interval of number of subs for unique Gaming channels [136_834, 161_374]\n",
                  "95% confidence interval of number of subs for non unique Gaming channels [131_541, 163_050]\n"
               ]
            }
         ],
         "source": [
            "conf1 = get_confidence_interval(unique_topic_gaming_channels_descript.subscribers_cc)\n",
            "print(\n",
            "    \"95% confidence interval of number of subs for unique Gaming channels [{:_}, {:_}]\".format(\n",
            "        int(conf1[0]), int(conf1[1])\n",
            "    )\n",
            ")\n",
            "conf2 = get_confidence_interval(non_unique_topic_gaming_channels_descript.subscribers_cc)\n",
            "print(\n",
            "    \"95% confidence interval of number of subs for non unique Gaming channels [{:_}, {:_}]\".format(\n",
            "        int(conf2[0]), int(conf2[1])\n",
            "    )\n",
            ")\n"
         ]
      },
      {
         "cell_type": "markdown",
         "id": "15286dd9",
         "metadata": {},
         "source": [
            "From these statistics, we can notice that diverse channels have more subs in general. \n"
         ]
      },
      {
         "cell_type": "markdown",
         "id": "ccc6a9cf",
         "metadata": {},
         "source": []
      }
   ],
   "metadata": {
      "kernelspec": {
         "display_name": "Python 3 (ipykernel)",
         "language": "python",
         "name": "python3"
      },
      "language_info": {
         "codemirror_mode": {
            "name": "ipython",
            "version": 3
         },
         "file_extension": ".py",
         "mimetype": "text/x-python",
         "name": "python",
         "nbconvert_exporter": "python",
         "pygments_lexer": "ipython3",
         "version": "3.9.12"
      },
      "vscode": {
         "interpreter": {
            "hash": "e2552cbddfdf66195580a0cc7030164c04fc13f4bfb78773728a78bbf4f04323"
         }
      }
   },
   "nbformat": 4,
   "nbformat_minor": 5
}