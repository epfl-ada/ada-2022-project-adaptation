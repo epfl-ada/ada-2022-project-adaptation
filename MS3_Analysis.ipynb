{
 "cells": [
  {
   "cell_type": "markdown",
   "id": "e2af5202-cd4d-4fe2-9e7e-48869ec70229",
   "metadata": {},
   "source": [
    "# Part 0: Initialising"
   ]
  },
  {
   "cell_type": "code",
   "execution_count": 1,
   "id": "b347be5c-381b-4203-a676-ae35909a42cc",
   "metadata": {},
   "outputs": [],
   "source": [
    "# Initializing\n",
    "import matplotlib.font_manager as font_manager\n",
    "from matplotlib.lines import Line2D\n",
    "import matplotlib as mpl\n",
    "import matplotlib.ticker as mtick\n",
    "import matplotlib.pyplot as plt\n",
    "import pandas as pd\n",
    "import numpy as np\n",
    "import seaborn as sns\n",
    "import os\n",
    "import re\n",
    "from scipy.stats import bootstrap\n",
    "import statsmodels.api as sm\n",
    "import statsmodels.formula.api as smf\n",
    "import requests\n",
    "\n",
    "params = {\n",
    "    \"axes.titlesize\": 14,\n",
    "    \"axes.labelsize\": 12,\n",
    "    \"font.size\": 12,\n",
    "    \"legend.fontsize\": 12,\n",
    "    \"xtick.labelsize\": 12,\n",
    "    \"ytick.labelsize\": 12,\n",
    "    \"text.usetex\": False,\n",
    "}\n",
    "\n",
    "NUM_COLORS = 15\n",
    "cm = plt.get_cmap('nipy_spectral')\n",
    "\n",
    "mpl.rcParams.update(params)\n",
    "\n",
    "import warnings\n",
    "\n",
    "warnings.filterwarnings(\"ignore\")"
   ]
  },
  {
   "cell_type": "markdown",
   "id": "9c4e5555-b4fc-4cd9-acea-f54ff5aef1ad",
   "metadata": {},
   "source": [
    "To start with, we import three datasets that are available from YouNiverse:\n",
    "\n",
    "``df_channels_en.tsv.gz``   \n",
    "``df_timeseries_en.tsv.gz``   \n",
    "``yt_metadata_helper.feather``\n",
    "\n",
    "We will filter the channels that have been identified as Gaming."
   ]
  },
  {
   "cell_type": "code",
   "execution_count": 2,
   "id": "589296d7",
   "metadata": {},
   "outputs": [],
   "source": [
    "df_channels = pd.read_csv(\"./data/df_channels_en.tsv.gz\", compression=\"infer\", sep=\"\\t\")\n",
    "df_channels[\"join_date\"] = pd.to_datetime(df_channels[\"join_date\"])\n",
    "\n",
    "df_channels = df_channels[df_channels['category_cc'] == \"Gaming\"]\n",
    "channel_id_gaming = df_channels.channel"
   ]
  },
  {
   "cell_type": "code",
   "execution_count": 3,
   "id": "06b72120",
   "metadata": {},
   "outputs": [
    {
     "data": {
      "text/html": [
       "<div>\n",
       "<style scoped>\n",
       "    .dataframe tbody tr th:only-of-type {\n",
       "        vertical-align: middle;\n",
       "    }\n",
       "\n",
       "    .dataframe tbody tr th {\n",
       "        vertical-align: top;\n",
       "    }\n",
       "\n",
       "    .dataframe thead th {\n",
       "        text-align: right;\n",
       "    }\n",
       "</style>\n",
       "<table border=\"1\" class=\"dataframe\">\n",
       "  <thead>\n",
       "    <tr style=\"text-align: right;\">\n",
       "      <th></th>\n",
       "      <th>category_cc</th>\n",
       "      <th>join_date</th>\n",
       "      <th>channel</th>\n",
       "      <th>name_cc</th>\n",
       "      <th>subscribers_cc</th>\n",
       "      <th>videos_cc</th>\n",
       "      <th>subscriber_rank_sb</th>\n",
       "      <th>weights</th>\n",
       "    </tr>\n",
       "  </thead>\n",
       "  <tbody>\n",
       "    <tr>\n",
       "      <th>0</th>\n",
       "      <td>Gaming</td>\n",
       "      <td>2010-04-29</td>\n",
       "      <td>UC-lHJZR3Gqxm24_Vd_AJ5Yw</td>\n",
       "      <td>PewDiePie</td>\n",
       "      <td>101000000</td>\n",
       "      <td>3956</td>\n",
       "      <td>3.0</td>\n",
       "      <td>2.087</td>\n",
       "    </tr>\n",
       "    <tr>\n",
       "      <th>10</th>\n",
       "      <td>Gaming</td>\n",
       "      <td>2015-04-06</td>\n",
       "      <td>UCEdvpU2pFRCVqU6yIPyTpMQ</td>\n",
       "      <td>Marshmello</td>\n",
       "      <td>39100000</td>\n",
       "      <td>366</td>\n",
       "      <td>18.0</td>\n",
       "      <td>2.087</td>\n",
       "    </tr>\n",
       "    <tr>\n",
       "      <th>41</th>\n",
       "      <td>Gaming</td>\n",
       "      <td>2012-05-26</td>\n",
       "      <td>UC7_YxT-KID8kRbqZo7MyscQ</td>\n",
       "      <td>Markiplier</td>\n",
       "      <td>24400000</td>\n",
       "      <td>4484</td>\n",
       "      <td>86.0</td>\n",
       "      <td>2.087</td>\n",
       "    </tr>\n",
       "    <tr>\n",
       "      <th>42</th>\n",
       "      <td>Gaming</td>\n",
       "      <td>2011-09-15</td>\n",
       "      <td>UCKqH_9mk1waLgBiL2vT5b9g</td>\n",
       "      <td>VanossGaming</td>\n",
       "      <td>24800000</td>\n",
       "      <td>1079</td>\n",
       "      <td>87.0</td>\n",
       "      <td>2.087</td>\n",
       "    </tr>\n",
       "    <tr>\n",
       "      <th>52</th>\n",
       "      <td>Gaming</td>\n",
       "      <td>2007-02-24</td>\n",
       "      <td>UCYzPXprvl5Y-Sf0g4vX-m6g</td>\n",
       "      <td>jacksepticeye</td>\n",
       "      <td>22833014</td>\n",
       "      <td>4255</td>\n",
       "      <td>99.0</td>\n",
       "      <td>2.087</td>\n",
       "    </tr>\n",
       "  </tbody>\n",
       "</table>\n",
       "</div>"
      ],
      "text/plain": [
       "   category_cc  join_date                   channel        name_cc  \\\n",
       "0       Gaming 2010-04-29  UC-lHJZR3Gqxm24_Vd_AJ5Yw      PewDiePie   \n",
       "10      Gaming 2015-04-06  UCEdvpU2pFRCVqU6yIPyTpMQ     Marshmello   \n",
       "41      Gaming 2012-05-26  UC7_YxT-KID8kRbqZo7MyscQ     Markiplier   \n",
       "42      Gaming 2011-09-15  UCKqH_9mk1waLgBiL2vT5b9g   VanossGaming   \n",
       "52      Gaming 2007-02-24  UCYzPXprvl5Y-Sf0g4vX-m6g  jacksepticeye   \n",
       "\n",
       "    subscribers_cc  videos_cc  subscriber_rank_sb  weights  \n",
       "0        101000000       3956                 3.0    2.087  \n",
       "10        39100000        366                18.0    2.087  \n",
       "41        24400000       4484                86.0    2.087  \n",
       "42        24800000       1079                87.0    2.087  \n",
       "52        22833014       4255                99.0    2.087  "
      ]
     },
     "execution_count": 3,
     "metadata": {},
     "output_type": "execute_result"
    }
   ],
   "source": [
    "df_channels.head()"
   ]
  },
  {
   "cell_type": "code",
   "execution_count": 4,
   "id": "2c93da3e-46e0-4e9b-98dc-c725a9d981fa",
   "metadata": {},
   "outputs": [],
   "source": [
    "df_time_series = pd.read_csv(\n",
    "    \"./data/df_timeseries_en.tsv.gz\", compression=\"infer\", sep=\"\\t\"\n",
    ")\n",
    "df_time_series[\"datetime\"] = pd.to_datetime(df_time_series[\"datetime\"])\n",
    "# round the total number of subscribers, it is easier to consider 1 person and instead half of a person...\n",
    "df_time_series.subs = df_time_series.subs.round(0)\n",
    "\n",
    "# we filter the channels being labeled as \"Gaming\" in df_channels_en.tsv.gz\n",
    "df_time_series = df_time_series[\n",
    "    df_time_series['channel'].isin(channel_id_gaming)\n",
    "]"
   ]
  },
  {
   "cell_type": "code",
   "execution_count": 5,
   "id": "3cf5559e",
   "metadata": {},
   "outputs": [
    {
     "data": {
      "text/html": [
       "<div>\n",
       "<style scoped>\n",
       "    .dataframe tbody tr th:only-of-type {\n",
       "        vertical-align: middle;\n",
       "    }\n",
       "\n",
       "    .dataframe tbody tr th {\n",
       "        vertical-align: top;\n",
       "    }\n",
       "\n",
       "    .dataframe thead th {\n",
       "        text-align: right;\n",
       "    }\n",
       "</style>\n",
       "<table border=\"1\" class=\"dataframe\">\n",
       "  <thead>\n",
       "    <tr style=\"text-align: right;\">\n",
       "      <th></th>\n",
       "      <th>channel</th>\n",
       "      <th>category</th>\n",
       "      <th>datetime</th>\n",
       "      <th>views</th>\n",
       "      <th>delta_views</th>\n",
       "      <th>subs</th>\n",
       "      <th>delta_subs</th>\n",
       "      <th>videos</th>\n",
       "      <th>delta_videos</th>\n",
       "      <th>activity</th>\n",
       "    </tr>\n",
       "  </thead>\n",
       "  <tbody>\n",
       "    <tr>\n",
       "      <th>435</th>\n",
       "      <td>UCNNLaOkE-rcthxNssSHET2A</td>\n",
       "      <td>Gaming</td>\n",
       "      <td>2017-05-15</td>\n",
       "      <td>21755.111111</td>\n",
       "      <td>19051.111111</td>\n",
       "      <td>4980.0</td>\n",
       "      <td>0.000000</td>\n",
       "      <td>4</td>\n",
       "      <td>0</td>\n",
       "      <td>4</td>\n",
       "    </tr>\n",
       "    <tr>\n",
       "      <th>436</th>\n",
       "      <td>UCNNLaOkE-rcthxNssSHET2A</td>\n",
       "      <td>Gaming</td>\n",
       "      <td>2017-05-22</td>\n",
       "      <td>63875.750000</td>\n",
       "      <td>42120.638889</td>\n",
       "      <td>7588.0</td>\n",
       "      <td>2607.805556</td>\n",
       "      <td>6</td>\n",
       "      <td>2</td>\n",
       "      <td>6</td>\n",
       "    </tr>\n",
       "    <tr>\n",
       "      <th>437</th>\n",
       "      <td>UCNNLaOkE-rcthxNssSHET2A</td>\n",
       "      <td>Gaming</td>\n",
       "      <td>2017-05-29</td>\n",
       "      <td>131038.375000</td>\n",
       "      <td>67162.625000</td>\n",
       "      <td>11309.0</td>\n",
       "      <td>3720.875000</td>\n",
       "      <td>9</td>\n",
       "      <td>3</td>\n",
       "      <td>6</td>\n",
       "    </tr>\n",
       "    <tr>\n",
       "      <th>438</th>\n",
       "      <td>UCNNLaOkE-rcthxNssSHET2A</td>\n",
       "      <td>Gaming</td>\n",
       "      <td>2017-06-05</td>\n",
       "      <td>216735.000000</td>\n",
       "      <td>85696.625000</td>\n",
       "      <td>19353.0</td>\n",
       "      <td>8043.875000</td>\n",
       "      <td>13</td>\n",
       "      <td>4</td>\n",
       "      <td>8</td>\n",
       "    </tr>\n",
       "    <tr>\n",
       "      <th>439</th>\n",
       "      <td>UCNNLaOkE-rcthxNssSHET2A</td>\n",
       "      <td>Gaming</td>\n",
       "      <td>2017-06-12</td>\n",
       "      <td>396499.666667</td>\n",
       "      <td>179764.666667</td>\n",
       "      <td>22547.0</td>\n",
       "      <td>3193.555556</td>\n",
       "      <td>16</td>\n",
       "      <td>3</td>\n",
       "      <td>7</td>\n",
       "    </tr>\n",
       "  </tbody>\n",
       "</table>\n",
       "</div>"
      ],
      "text/plain": [
       "                      channel category   datetime          views  \\\n",
       "435  UCNNLaOkE-rcthxNssSHET2A   Gaming 2017-05-15   21755.111111   \n",
       "436  UCNNLaOkE-rcthxNssSHET2A   Gaming 2017-05-22   63875.750000   \n",
       "437  UCNNLaOkE-rcthxNssSHET2A   Gaming 2017-05-29  131038.375000   \n",
       "438  UCNNLaOkE-rcthxNssSHET2A   Gaming 2017-06-05  216735.000000   \n",
       "439  UCNNLaOkE-rcthxNssSHET2A   Gaming 2017-06-12  396499.666667   \n",
       "\n",
       "       delta_views     subs   delta_subs  videos  delta_videos  activity  \n",
       "435   19051.111111   4980.0     0.000000       4             0         4  \n",
       "436   42120.638889   7588.0  2607.805556       6             2         6  \n",
       "437   67162.625000  11309.0  3720.875000       9             3         6  \n",
       "438   85696.625000  19353.0  8043.875000      13             4         8  \n",
       "439  179764.666667  22547.0  3193.555556      16             3         7  "
      ]
     },
     "execution_count": 5,
     "metadata": {},
     "output_type": "execute_result"
    }
   ],
   "source": [
    "df_time_series.head()"
   ]
  },
  {
   "cell_type": "code",
   "execution_count": 6,
   "id": "bfb8de83-f104-4db7-a03d-45eedff3600d",
   "metadata": {},
   "outputs": [],
   "source": [
    "video_metadatas = pd.read_feather(\n",
    "    \"./data/yt_metadata_helper.feather\",\n",
    "    columns=[\n",
    "        \"categories\",\n",
    "        \"upload_date\",\n",
    "        \"duration\",\n",
    "        \"like_count\",\n",
    "        \"dislike_count\",\n",
    "        \"view_count\",\n",
    "        \"channel_id\",\n",
    "        \"display_id\"\n",
    "    ],\n",
    ")\n",
    "\n",
    "# we filter the channels being labeled as \"Gaming\" in df_channels_en.tsv.gz\n",
    "video_metadatas = video_metadatas[\n",
    "    video_metadatas['channel_id'].isin(channel_id_gaming)\n",
    "]"
   ]
  },
  {
   "cell_type": "code",
   "execution_count": 7,
   "id": "ef384604",
   "metadata": {},
   "outputs": [
    {
     "data": {
      "text/html": [
       "<div>\n",
       "<style scoped>\n",
       "    .dataframe tbody tr th:only-of-type {\n",
       "        vertical-align: middle;\n",
       "    }\n",
       "\n",
       "    .dataframe tbody tr th {\n",
       "        vertical-align: top;\n",
       "    }\n",
       "\n",
       "    .dataframe thead th {\n",
       "        text-align: right;\n",
       "    }\n",
       "</style>\n",
       "<table border=\"1\" class=\"dataframe\">\n",
       "  <thead>\n",
       "    <tr style=\"text-align: right;\">\n",
       "      <th></th>\n",
       "      <th>categories</th>\n",
       "      <th>upload_date</th>\n",
       "      <th>duration</th>\n",
       "      <th>like_count</th>\n",
       "      <th>dislike_count</th>\n",
       "      <th>view_count</th>\n",
       "      <th>channel_id</th>\n",
       "      <th>display_id</th>\n",
       "    </tr>\n",
       "  </thead>\n",
       "  <tbody>\n",
       "    <tr>\n",
       "      <th>0</th>\n",
       "      <td>Film &amp; Animation</td>\n",
       "      <td>2016-09-28</td>\n",
       "      <td>1159</td>\n",
       "      <td>8.0</td>\n",
       "      <td>1.0</td>\n",
       "      <td>1057.0</td>\n",
       "      <td>UCzWrhkg9eK5I8Bm3HfV-unA</td>\n",
       "      <td>SBqSc91Hn9g</td>\n",
       "    </tr>\n",
       "    <tr>\n",
       "      <th>1</th>\n",
       "      <td>Film &amp; Animation</td>\n",
       "      <td>2016-09-28</td>\n",
       "      <td>2681</td>\n",
       "      <td>23.0</td>\n",
       "      <td>1.0</td>\n",
       "      <td>12894.0</td>\n",
       "      <td>UCzWrhkg9eK5I8Bm3HfV-unA</td>\n",
       "      <td>UuugEl86ESY</td>\n",
       "    </tr>\n",
       "    <tr>\n",
       "      <th>2</th>\n",
       "      <td>Film &amp; Animation</td>\n",
       "      <td>2016-09-28</td>\n",
       "      <td>1394</td>\n",
       "      <td>1607.0</td>\n",
       "      <td>779.0</td>\n",
       "      <td>1800602.0</td>\n",
       "      <td>UCzWrhkg9eK5I8Bm3HfV-unA</td>\n",
       "      <td>oB4c-yvnbjs</td>\n",
       "    </tr>\n",
       "    <tr>\n",
       "      <th>3</th>\n",
       "      <td>Film &amp; Animation</td>\n",
       "      <td>2016-09-28</td>\n",
       "      <td>5064</td>\n",
       "      <td>227.0</td>\n",
       "      <td>24.0</td>\n",
       "      <td>57640.0</td>\n",
       "      <td>UCzWrhkg9eK5I8Bm3HfV-unA</td>\n",
       "      <td>ZaV-gTCMV8E</td>\n",
       "    </tr>\n",
       "    <tr>\n",
       "      <th>4</th>\n",
       "      <td>Film &amp; Animation</td>\n",
       "      <td>2016-09-28</td>\n",
       "      <td>3554</td>\n",
       "      <td>105.0</td>\n",
       "      <td>13.0</td>\n",
       "      <td>86368.0</td>\n",
       "      <td>UCzWrhkg9eK5I8Bm3HfV-unA</td>\n",
       "      <td>cGvL7AvMfM0</td>\n",
       "    </tr>\n",
       "  </tbody>\n",
       "</table>\n",
       "</div>"
      ],
      "text/plain": [
       "         categories upload_date  duration  like_count  dislike_count  \\\n",
       "0  Film & Animation  2016-09-28      1159         8.0            1.0   \n",
       "1  Film & Animation  2016-09-28      2681        23.0            1.0   \n",
       "2  Film & Animation  2016-09-28      1394      1607.0          779.0   \n",
       "3  Film & Animation  2016-09-28      5064       227.0           24.0   \n",
       "4  Film & Animation  2016-09-28      3554       105.0           13.0   \n",
       "\n",
       "   view_count                channel_id   display_id  \n",
       "0      1057.0  UCzWrhkg9eK5I8Bm3HfV-unA  SBqSc91Hn9g  \n",
       "1     12894.0  UCzWrhkg9eK5I8Bm3HfV-unA  UuugEl86ESY  \n",
       "2   1800602.0  UCzWrhkg9eK5I8Bm3HfV-unA  oB4c-yvnbjs  \n",
       "3     57640.0  UCzWrhkg9eK5I8Bm3HfV-unA  ZaV-gTCMV8E  \n",
       "4     86368.0  UCzWrhkg9eK5I8Bm3HfV-unA  cGvL7AvMfM0  "
      ]
     },
     "execution_count": 7,
     "metadata": {},
     "output_type": "execute_result"
    }
   ],
   "source": [
    "video_metadatas.head()"
   ]
  },
  {
   "cell_type": "code",
   "execution_count": 8,
   "id": "479ad8cd",
   "metadata": {},
   "outputs": [
    {
     "data": {
      "text/plain": [
       "20143"
      ]
     },
     "execution_count": 8,
     "metadata": {},
     "output_type": "execute_result"
    }
   ],
   "source": [
    "len(df_channels)"
   ]
  },
  {
   "cell_type": "code",
   "execution_count": 9,
   "id": "553baf48",
   "metadata": {},
   "outputs": [
    {
     "data": {
      "text/plain": [
       "19698"
      ]
     },
     "execution_count": 9,
     "metadata": {},
     "output_type": "execute_result"
    }
   ],
   "source": [
    "len(df_time_series.groupby(\"channel\").count())"
   ]
  },
  {
   "cell_type": "code",
   "execution_count": 10,
   "id": "07483700",
   "metadata": {},
   "outputs": [
    {
     "data": {
      "text/plain": [
       "20143"
      ]
     },
     "execution_count": 10,
     "metadata": {},
     "output_type": "execute_result"
    }
   ],
   "source": [
    "len(video_metadatas.groupby(\"channel_id\").count())"
   ]
  },
  {
   "cell_type": "markdown",
   "id": "1caa4af7",
   "metadata": {},
   "source": [
    "Since the `df_time_series` only has data from early January 2015 to end September 2019, we will filter out the videos within this time frame for `video_metadatas` for consistency."
   ]
  },
  {
   "cell_type": "code",
   "execution_count": 11,
   "id": "90f4b252",
   "metadata": {},
   "outputs": [],
   "source": [
    "video_metadatas = video_metadatas[ (video_metadatas['upload_date'] > df_time_series.datetime.min()) & \n",
    "                                   (video_metadatas['upload_date'] < df_time_series.datetime.max()) ]"
   ]
  },
  {
   "cell_type": "markdown",
   "id": "bc173514",
   "metadata": {},
   "source": [
    "We will now start filtering out the channels we want, which are those with more than XX % of gaming videos and upload videos every XX days or more. Before the filtering, we have 20143 channels in `video_metadatas` labelled as \"Gaming\"."
   ]
  },
  {
   "cell_type": "code",
   "execution_count": 12,
   "id": "4c1e1626",
   "metadata": {},
   "outputs": [],
   "source": [
    "# we want to select the channels with more than 60% of gaming videos, therefore, we will filter these channels\n",
    "video_metadatas['is_gaming'] = (video_metadatas.categories == \"Gaming\")\n",
    "\n",
    "count_per_channel = pd.DataFrame(video_metadatas.groupby(\"channel_id\").count().categories).reset_index().rename(columns={\"categories\":\"nr_videos\"})\n",
    "game_video_count_per_channel = pd.DataFrame(video_metadatas.groupby(\"channel_id\").sum().is_gaming).reset_index()\n",
    "\n",
    "channel_selection = count_per_channel.merge(game_video_count_per_channel)\n",
    "channel_selection[\"pct_gaming\"] = channel_selection.is_gaming / channel_selection.nr_videos"
   ]
  },
  {
   "cell_type": "code",
   "execution_count": 13,
   "id": "2c7f0bdf",
   "metadata": {},
   "outputs": [],
   "source": [
    "pct_level = 0.6\n",
    "selected_channels = list(channel_selection[channel_selection['pct_gaming'] >= pct_level ].channel_id)"
   ]
  },
  {
   "cell_type": "code",
   "execution_count": 14,
   "id": "4f41499a",
   "metadata": {},
   "outputs": [
    {
     "data": {
      "text/plain": [
       "18230"
      ]
     },
     "execution_count": 14,
     "metadata": {},
     "output_type": "execute_result"
    }
   ],
   "source": [
    "len(selected_channels)"
   ]
  },
  {
   "cell_type": "markdown",
   "id": "1a8c77b9",
   "metadata": {},
   "source": [
    "After the filtering, we now have 18230 channels. We now want to filter out the channels that upload videos too frequently or too infrequent, as they are not of our interest."
   ]
  },
  {
   "cell_type": "code",
   "execution_count": 15,
   "id": "4ffaa3c8",
   "metadata": {},
   "outputs": [],
   "source": [
    "# we also want to filter out channels that upload too frequently, as we are interested in things that could be done by an individual\n",
    "last_vid_date = pd.DataFrame(video_metadatas.groupby(\"channel_id\").max().\n",
    "                             upload_date).reset_index().rename(columns={\"upload_date\":\"last_vid_date\"})\n",
    "first_vid_date = pd.DataFrame(video_metadatas.groupby(\"channel_id\").min().\n",
    "                              upload_date).reset_index().rename(columns={\"upload_date\":\"first_vid_date\"})\n",
    "total_vids = pd.DataFrame(video_metadatas.groupby(\"channel_id\").count().\n",
    "                          display_id).reset_index().rename(columns={\"display_id\":\"total_vids\"})"
   ]
  },
  {
   "cell_type": "code",
   "execution_count": 16,
   "id": "ff3fec6f",
   "metadata": {},
   "outputs": [],
   "source": [
    "channel_selection = first_vid_date.merge(last_vid_date)\n",
    "channel_selection = channel_selection.merge(total_vids)\n",
    "channel_selection['active_days'] = (channel_selection.last_vid_date - channel_selection.first_vid_date).dt.days\n",
    "channel_selection['upload_interval'] = channel_selection.active_days / channel_selection.total_vids"
   ]
  },
  {
   "cell_type": "code",
   "execution_count": 25,
   "id": "7e227f03",
   "metadata": {},
   "outputs": [],
   "source": [
    "min_upload_interval = 2 # in days, the channel upload videos on average every x days \n",
    "max_upload_interval = 90\n",
    "selected_channels = list(channel_selection[(channel_selection['upload_interval'] > min_upload_interval) & \n",
    "                                           (channel_selection['upload_interval'] < max_upload_interval) ].channel_id)"
   ]
  },
  {
   "cell_type": "code",
   "execution_count": 27,
   "id": "d29804e0",
   "metadata": {},
   "outputs": [
    {
     "data": {
      "text/plain": [
       "14730"
      ]
     },
     "execution_count": 27,
     "metadata": {},
     "output_type": "execute_result"
    }
   ],
   "source": [
    "len(selected_channels)"
   ]
  },
  {
   "cell_type": "markdown",
   "id": "746cb686",
   "metadata": {},
   "source": [
    "Here, we filtered out channels that uploaded videos every 2 days or less. Now we have 14730 channels.\n",
    "\n",
    "Note that `df_time_series` contains less channels than `df_channels` and `video_metadatas`. In order to keep consistency, we will take the channels that can be found across three dataframes."
   ]
  },
  {
   "cell_type": "code",
   "execution_count": 28,
   "id": "7147a67b",
   "metadata": {},
   "outputs": [],
   "source": [
    "df_time_series = df_time_series[df_time_series['channel'].isin(selected_channels)]"
   ]
  },
  {
   "cell_type": "code",
   "execution_count": 36,
   "id": "af2d6536",
   "metadata": {},
   "outputs": [],
   "source": [
    "selected_channels = list(df_time_series.groupby(\"channel\").count().reset_index().channel)"
   ]
  },
  {
   "cell_type": "code",
   "execution_count": 37,
   "id": "7514d10d",
   "metadata": {},
   "outputs": [
    {
     "data": {
      "text/plain": [
       "14380"
      ]
     },
     "execution_count": 37,
     "metadata": {},
     "output_type": "execute_result"
    }
   ],
   "source": [
    "len(selected_channels)"
   ]
  },
  {
   "cell_type": "code",
   "execution_count": 38,
   "id": "560a1799",
   "metadata": {},
   "outputs": [],
   "source": [
    "df_channels = df_channels[df_channels['channel'].isin(selected_channels)]"
   ]
  },
  {
   "cell_type": "code",
   "execution_count": 39,
   "id": "aae77873",
   "metadata": {},
   "outputs": [
    {
     "data": {
      "text/plain": [
       "14380"
      ]
     },
     "execution_count": 39,
     "metadata": {},
     "output_type": "execute_result"
    }
   ],
   "source": [
    "len(df_channels)"
   ]
  },
  {
   "cell_type": "code",
   "execution_count": 40,
   "id": "67703867",
   "metadata": {},
   "outputs": [],
   "source": [
    "video_metadatas = video_metadatas[video_metadatas['channel_id'].isin(selected_channels)]"
   ]
  },
  {
   "cell_type": "code",
   "execution_count": 41,
   "id": "677dd7d1",
   "metadata": {},
   "outputs": [
    {
     "data": {
      "text/plain": [
       "14380"
      ]
     },
     "execution_count": 41,
     "metadata": {},
     "output_type": "execute_result"
    }
   ],
   "source": [
    "len(video_metadatas.groupby(\"channel_id\").count())"
   ]
  },
  {
   "cell_type": "markdown",
   "id": "c191d301",
   "metadata": {},
   "source": [
    "We also import a dataset that is created by us, .......  \n",
    "\n",
    "We will filter the channels that have been identified as Gaming, People & Blogs, or Comedy later on. Note that this does not necessarily mean that all the videos from those channels are in these categories."
   ]
  },
  {
   "cell_type": "code",
   "execution_count": 42,
   "id": "f6dc9dc4",
   "metadata": {},
   "outputs": [],
   "source": [
    "titles_metadata = pd.read_feather(\n",
    "    \"./data/yt_metadata_title_helper.feather\")\n",
    "\n",
    "titles_metadata = titles_metadata[\n",
    "    titles_metadata['display_id'].isin(video_metadatas.display_id)\n",
    "]"
   ]
  },
  {
   "cell_type": "code",
   "execution_count": 43,
   "id": "70ecc4d3",
   "metadata": {},
   "outputs": [
    {
     "data": {
      "text/html": [
       "<div>\n",
       "<style scoped>\n",
       "    .dataframe tbody tr th:only-of-type {\n",
       "        vertical-align: middle;\n",
       "    }\n",
       "\n",
       "    .dataframe tbody tr th {\n",
       "        vertical-align: top;\n",
       "    }\n",
       "\n",
       "    .dataframe thead th {\n",
       "        text-align: right;\n",
       "    }\n",
       "</style>\n",
       "<table border=\"1\" class=\"dataframe\">\n",
       "  <thead>\n",
       "    <tr style=\"text-align: right;\">\n",
       "      <th></th>\n",
       "      <th>categories</th>\n",
       "      <th>display_id</th>\n",
       "      <th>title</th>\n",
       "    </tr>\n",
       "  </thead>\n",
       "  <tbody>\n",
       "    <tr>\n",
       "      <th>1792</th>\n",
       "      <td>Gaming</td>\n",
       "      <td>M0x6TJmMwL4</td>\n",
       "      <td>Blasphemous is Amazing!</td>\n",
       "    </tr>\n",
       "    <tr>\n",
       "      <th>1793</th>\n",
       "      <td>Gaming</td>\n",
       "      <td>ofAIp6dad00</td>\n",
       "      <td>I review all 42 Genesis Mini games</td>\n",
       "    </tr>\n",
       "    <tr>\n",
       "      <th>1794</th>\n",
       "      <td>Gaming</td>\n",
       "      <td>cXHRNThI27A</td>\n",
       "      <td>Disenchantment Jester Season 2</td>\n",
       "    </tr>\n",
       "    <tr>\n",
       "      <th>1795</th>\n",
       "      <td>Gaming</td>\n",
       "      <td>cDSo3mUNEEM</td>\n",
       "      <td>💀 Death Stranding is boring as Hell</td>\n",
       "    </tr>\n",
       "    <tr>\n",
       "      <th>1796</th>\n",
       "      <td>Gaming</td>\n",
       "      <td>rJmT1Rq24qE</td>\n",
       "      <td>Happy Friday the 13th. I'm going to try and fi...</td>\n",
       "    </tr>\n",
       "  </tbody>\n",
       "</table>\n",
       "</div>"
      ],
      "text/plain": [
       "     categories   display_id  \\\n",
       "1792     Gaming  M0x6TJmMwL4   \n",
       "1793     Gaming  ofAIp6dad00   \n",
       "1794     Gaming  cXHRNThI27A   \n",
       "1795     Gaming  cDSo3mUNEEM   \n",
       "1796     Gaming  rJmT1Rq24qE   \n",
       "\n",
       "                                                  title  \n",
       "1792                            Blasphemous is Amazing!  \n",
       "1793                 I review all 42 Genesis Mini games  \n",
       "1794                     Disenchantment Jester Season 2  \n",
       "1795                💀 Death Stranding is boring as Hell  \n",
       "1796  Happy Friday the 13th. I'm going to try and fi...  "
      ]
     },
     "execution_count": 43,
     "metadata": {},
     "output_type": "execute_result"
    }
   ],
   "source": [
    "titles_metadata.head()"
   ]
  },
  {
   "cell_type": "code",
   "execution_count": 44,
   "id": "333d7f10",
   "metadata": {},
   "outputs": [],
   "source": [
    "tags_metadata = pd.read_feather(\n",
    "    \"./data/yt_metadata_tags_helper.feather\")\n",
    "\n",
    "tags_metadata = tags_metadata[\n",
    "    tags_metadata['display_id'].isin(video_metadatas.display_id)\n",
    "]"
   ]
  },
  {
   "cell_type": "code",
   "execution_count": 45,
   "id": "99b37b20",
   "metadata": {},
   "outputs": [
    {
     "data": {
      "text/html": [
       "<div>\n",
       "<style scoped>\n",
       "    .dataframe tbody tr th:only-of-type {\n",
       "        vertical-align: middle;\n",
       "    }\n",
       "\n",
       "    .dataframe tbody tr th {\n",
       "        vertical-align: top;\n",
       "    }\n",
       "\n",
       "    .dataframe thead th {\n",
       "        text-align: right;\n",
       "    }\n",
       "</style>\n",
       "<table border=\"1\" class=\"dataframe\">\n",
       "  <thead>\n",
       "    <tr style=\"text-align: right;\">\n",
       "      <th></th>\n",
       "      <th>categories</th>\n",
       "      <th>display_id</th>\n",
       "      <th>tags</th>\n",
       "    </tr>\n",
       "  </thead>\n",
       "  <tbody>\n",
       "    <tr>\n",
       "      <th>1792</th>\n",
       "      <td>Gaming</td>\n",
       "      <td>M0x6TJmMwL4</td>\n",
       "      <td>video,games,retrogamer3,ed,findlay,Blasphemous...</td>\n",
       "    </tr>\n",
       "    <tr>\n",
       "      <th>1793</th>\n",
       "      <td>Gaming</td>\n",
       "      <td>ofAIp6dad00</td>\n",
       "      <td>video,games,retrogamer3,ed,findlay,Sega,Genesi...</td>\n",
       "    </tr>\n",
       "    <tr>\n",
       "      <th>1794</th>\n",
       "      <td>Gaming</td>\n",
       "      <td>cXHRNThI27A</td>\n",
       "      <td>video,games,retrogamer3,ed,findlay,Disenchantm...</td>\n",
       "    </tr>\n",
       "    <tr>\n",
       "      <th>1795</th>\n",
       "      <td>Gaming</td>\n",
       "      <td>cDSo3mUNEEM</td>\n",
       "      <td>video,games,retrogamer3,ed,findlay,Death Stran...</td>\n",
       "    </tr>\n",
       "    <tr>\n",
       "      <th>1796</th>\n",
       "      <td>Gaming</td>\n",
       "      <td>rJmT1Rq24qE</td>\n",
       "      <td>video,games,retrogamer3,ed,findlay,Friday the ...</td>\n",
       "    </tr>\n",
       "  </tbody>\n",
       "</table>\n",
       "</div>"
      ],
      "text/plain": [
       "     categories   display_id  \\\n",
       "1792     Gaming  M0x6TJmMwL4   \n",
       "1793     Gaming  ofAIp6dad00   \n",
       "1794     Gaming  cXHRNThI27A   \n",
       "1795     Gaming  cDSo3mUNEEM   \n",
       "1796     Gaming  rJmT1Rq24qE   \n",
       "\n",
       "                                                   tags  \n",
       "1792  video,games,retrogamer3,ed,findlay,Blasphemous...  \n",
       "1793  video,games,retrogamer3,ed,findlay,Sega,Genesi...  \n",
       "1794  video,games,retrogamer3,ed,findlay,Disenchantm...  \n",
       "1795  video,games,retrogamer3,ed,findlay,Death Stran...  \n",
       "1796  video,games,retrogamer3,ed,findlay,Friday the ...  "
      ]
     },
     "execution_count": 45,
     "metadata": {},
     "output_type": "execute_result"
    }
   ],
   "source": [
    "tags_metadata.head()"
   ]
  },
  {
   "cell_type": "code",
   "execution_count": null,
   "id": "01f5ee81",
   "metadata": {},
   "outputs": [],
   "source": []
  },
  {
   "cell_type": "markdown",
   "id": "38ee79b8",
   "metadata": {},
   "source": [
    "# Part 2: Further Analysis Milestone 3\n",
    "\n",
    "Given the results in Part 1 of our Analysis, we decided to focus on the categories of Gaming. The reason behind this choice is because we are trying to help our little brother to succeed, and since he is just a single person without a big team behind him it seems more reasonable than e.g. Movies or Film & Entertainment. Therefore, we decided to eliminate Music, How-to & Style, Education, Science & Technology, Entertainment, Film & Entertainment, People & Blogs, Comedy, Movies and Shows. We decided to investigate the three categories mentioned above also because videos uploaded can be addressed to audiences of all three categories.\n",
    "\n",
    "## Key Questions:\n",
    " - Which factors help a YouTuber in Gaming gain more subscribers?\n",
    " - How do sentiments in titles and tags affect views and how do these relationships change over time?"
   ]
  },
  {
   "cell_type": "markdown",
   "id": "ac192b0a",
   "metadata": {},
   "source": [
    "### Sub-Question 1 \n",
    "\n",
    "**Description:** How does the video upload frequency, time of the week, and video length affect the subscription rate of the channels?  \n",
    "**Method:** Model this using a linear regression model.  \n",
    "**Timeline:** By 13/12/2022  \n",
    "**Organization:** Paul  "
   ]
  },
  {
   "cell_type": "code",
   "execution_count": null,
   "id": "cf8cedb7",
   "metadata": {},
   "outputs": [],
   "source": []
  },
  {
   "cell_type": "code",
   "execution_count": null,
   "id": "45a3edac",
   "metadata": {},
   "outputs": [],
   "source": []
  },
  {
   "cell_type": "markdown",
   "id": "f180a346",
   "metadata": {},
   "source": [
    "### Sub-Question 2\n",
    "\n",
    "**Description:** How does the language used in titles affect subscription number?  \n",
    "**Method:** We will classify the sentiments of titles and tags using packages such as NLTK and try to see if this factor affects subscription number of the channels using relevant skills we learned in observational studies.  \n",
    "**Timeline:** By 15/12/2022  \n",
    "**Organization:** Wenxiu  "
   ]
  },
  {
   "cell_type": "code",
   "execution_count": null,
   "id": "1e6efb59",
   "metadata": {},
   "outputs": [],
   "source": [
    "#NLP libraries\n",
    "import spacy, nltk, gensim, sklearn\n",
    "\n",
    "#Vader\n",
    "import vaderSentiment\n",
    "from vaderSentiment.vaderSentiment import SentimentIntensityAnalyzer\n",
    "\n",
    "# Initialise the Spacy analyzer in English\n",
    "nlp = spacy.load('en_core_web_sm')"
   ]
  },
  {
   "cell_type": "code",
   "execution_count": null,
   "id": "1623afe5",
   "metadata": {},
   "outputs": [],
   "source": [
    "titles_metadata.title[0:100]"
   ]
  },
  {
   "cell_type": "code",
   "execution_count": null,
   "id": "61aba233",
   "metadata": {},
   "outputs": [],
   "source": [
    "STOPWORDS = spacy.lang.en.stop_words.STOP_WORDS\n",
    "\n",
    "processed_docs = list()\n",
    "for doc in nlp.pipe(titles_metadata.title[0:100], n_process=5, batch_size=10):\n",
    "\n",
    "    # Process document using Spacy NLP pipeline.\n",
    "    ents = doc.ents  # Named entities\n",
    "\n",
    "    # Keep only words (no numbers, no punctuation).\n",
    "    # Lemmatize tokens, remove punctuation and remove stopwords.\n",
    "    doc = [token.lemma_ for token in doc if token.is_alpha and not token.is_stop]\n",
    "\n",
    "    # Remove common words from a stopword list and keep only words of length 3 or more.\n",
    "    doc = [token for token in doc if token not in STOPWORDS and len(token) > 2]\n",
    "\n",
    "    # Add named entities, but only if they are a compound of more than word.\n",
    "    doc.extend([str(entity) for entity in ents if len(entity) > 1])\n",
    "\n",
    "    processed_docs.append(doc)\n",
    "docs = processed_docs\n",
    "del processed_docs"
   ]
  },
  {
   "cell_type": "code",
   "execution_count": null,
   "id": "7fc7eb57",
   "metadata": {},
   "outputs": [],
   "source": [
    "# Add bigrams too\n",
    "from gensim.models.phrases import Phrases\n",
    "\n",
    "# Add bigrams to docs (only ones that appear 15 times or more).\n",
    "bigram = Phrases(docs, min_count=15)\n",
    "\n",
    "for idx in range(len(docs)):\n",
    "    for token in bigram[docs[idx]]:\n",
    "        if '_' in token:\n",
    "            # Token is a bigram, add to document.\n",
    "            docs[idx].append(token)"
   ]
  },
  {
   "cell_type": "code",
   "execution_count": null,
   "id": "7db4ea94",
   "metadata": {},
   "outputs": [],
   "source": [
    "# Create a dictionary representation of the documents, and filter out frequent and rare words.\n",
    "from gensim.corpora import Dictionary\n",
    "dictionary = Dictionary(docs)\n",
    "\n",
    "# Remove rare and common tokens.\n",
    "# Filter out words that occur too frequently or too rarely.\n",
    "max_freq = 0.5\n",
    "min_wordcount = 5\n",
    "dictionary.filter_extremes(no_below=min_wordcount, no_above=max_freq)\n",
    "\n",
    "# Bag-of-words representation of the documents.\n",
    "corpus = [dictionary.doc2bow(doc) for doc in docs]\n",
    "#MmCorpus.serialize(\"models/corpus.mm\", corpus)\n",
    "\n",
    "print('Number of unique tokens: %d' % len(dictionary))\n",
    "print('Number of chunks: %d' % len(corpus))"
   ]
  },
  {
   "cell_type": "code",
   "execution_count": null,
   "id": "8481958a",
   "metadata": {},
   "outputs": [],
   "source": [
    "seed = 42\n",
    "# models\n",
    "from gensim.models import LdaMulticore\n",
    "params = {'passes': 10, 'random_state': seed}\n",
    "base_models = dict()\n",
    "model = LdaMulticore(corpus=corpus, num_topics=4, id2word=dictionary, workers=6,\n",
    "                passes=params['passes'], random_state=params['random_state'])"
   ]
  },
  {
   "cell_type": "code",
   "execution_count": null,
   "id": "7bf57838",
   "metadata": {},
   "outputs": [],
   "source": [
    "model.show_topics(num_words=5)"
   ]
  },
  {
   "cell_type": "code",
   "execution_count": null,
   "id": "cef2884d",
   "metadata": {},
   "outputs": [],
   "source": [
    "model.show_topic(1,20)"
   ]
  },
  {
   "cell_type": "code",
   "execution_count": null,
   "id": "dc99cf02",
   "metadata": {},
   "outputs": [],
   "source": [
    "sorted(model[corpus[0]],key=lambda x:x[1],reverse=True)"
   ]
  },
  {
   "cell_type": "code",
   "execution_count": null,
   "id": "3796ac8b",
   "metadata": {},
   "outputs": [],
   "source": [
    "import pyLDAvis.gensim_models\n",
    "# plot topics\n",
    "data =  pyLDAvis.gensim_models.prepare(model, corpus, dictionary)\n",
    "pyLDAvis.display(data)"
   ]
  },
  {
   "cell_type": "code",
   "execution_count": null,
   "id": "78f876bf",
   "metadata": {},
   "outputs": [],
   "source": []
  },
  {
   "cell_type": "code",
   "execution_count": null,
   "id": "9e5836d4",
   "metadata": {},
   "outputs": [],
   "source": []
  },
  {
   "cell_type": "code",
   "execution_count": null,
   "id": "8e4272d2",
   "metadata": {},
   "outputs": [],
   "source": []
  },
  {
   "cell_type": "code",
   "execution_count": null,
   "id": "c7877563",
   "metadata": {},
   "outputs": [],
   "source": []
  },
  {
   "cell_type": "code",
   "execution_count": null,
   "id": "1cd9c485",
   "metadata": {},
   "outputs": [],
   "source": []
  },
  {
   "cell_type": "code",
   "execution_count": null,
   "id": "4f11153a",
   "metadata": {},
   "outputs": [],
   "source": []
  },
  {
   "cell_type": "code",
   "execution_count": null,
   "id": "2658ad24",
   "metadata": {},
   "outputs": [],
   "source": []
  },
  {
   "cell_type": "code",
   "execution_count": null,
   "id": "9df4e551",
   "metadata": {},
   "outputs": [],
   "source": []
  },
  {
   "cell_type": "code",
   "execution_count": null,
   "id": "dc3c122b",
   "metadata": {},
   "outputs": [],
   "source": [
    "sum(video_metadatas.display_id == titles_metadata.display_id) == titles_metadata.shape[0]"
   ]
  },
  {
   "cell_type": "code",
   "execution_count": null,
   "id": "2dec23b0",
   "metadata": {},
   "outputs": [],
   "source": [
    "sum(video_metadatas.display_id == tags_metadata.display_id) == tags_metadata.shape[0]\n",
    "# The video_metadatas corresponds 100% to title and tag metadata"
   ]
  },
  {
   "cell_type": "code",
   "execution_count": null,
   "id": "2915df36",
   "metadata": {},
   "outputs": [],
   "source": [
    "positive_sent = []\n",
    "negative_sent = []\n",
    "neutral_sent = []\n",
    "compound_sent = []\n",
    "\n",
    "#iterate through the sentences, get polarity scores, choose a value\n",
    "analyzer = SentimentIntensityAnalyzer()\n",
    "for title in titles_metadata.title:\n",
    "    score = analyzer.polarity_scores(title)\n",
    "    positive_sent.append(score['pos'])\n",
    "    negative_sent.append(score['neg'])\n",
    "    neutral_sent.append(score['neu'])\n",
    "    compound_sent.append(score['compound'])\n",
    "\n",
    "video_metadatas['title_pos_scr'] = positive_sent\n",
    "video_metadatas['title_neg_scr'] = negative_sent\n",
    "video_metadatas['title_neu_scr'] = neutral_sent\n",
    "video_metadatas['title_com_scr'] = compound_sent"
   ]
  },
  {
   "cell_type": "code",
   "execution_count": null,
   "id": "e8f6be8c",
   "metadata": {},
   "outputs": [],
   "source": [
    "positive_sent = []\n",
    "negative_sent = []\n",
    "neutral_sent = []\n",
    "compound_sent = []\n",
    "\n",
    "#iterate through the sentences, get polarity scores, choose a value\n",
    "analyzer = SentimentIntensityAnalyzer()\n",
    "for title in tags_metadata.title:\n",
    "    score = analyzer.polarity_scores(title)\n",
    "    positive_sent.append(score['pos'])\n",
    "    negative_sent.append(score['neg'])\n",
    "    neutral_sent.append(score['neu'])\n",
    "    compound_sent.append(score['compound'])\n",
    "\n",
    "video_metadatas['tag_pos_scr'] = positive_sent\n",
    "video_metadatas['tag_neg_scr'] = negative_sent\n",
    "video_metadatas['tag_neu_scr'] = neutral_sent\n",
    "video_metadatas['tag_com_scr'] = compound_sent"
   ]
  },
  {
   "cell_type": "code",
   "execution_count": null,
   "id": "478af735",
   "metadata": {},
   "outputs": [],
   "source": [
    "video_metadatas_gaming = video_metadatas[\n",
    "    video_metadatas['channel_id'].isin(channel_id_gaming)\n",
    "]\n",
    "\n",
    "video_metadatas_people_blogs = video_metadatas[\n",
    "    video_metadatas['channel_id'].isin(channel_id_people_blogs)\n",
    "]\n",
    "\n",
    "video_metadatas_comedy = video_metadatas[\n",
    "    video_metadatas['channel_id'].isin(channel_id_comedy)\n",
    "]"
   ]
  },
  {
   "cell_type": "code",
   "execution_count": null,
   "id": "06ffcfed",
   "metadata": {},
   "outputs": [],
   "source": [
    "# generate subplots for each category and for titles and tags"
   ]
  },
  {
   "cell_type": "markdown",
   "id": "e9034e4d",
   "metadata": {},
   "source": [
    "# Write your code to make 4x4 panel here\n",
    "\n",
    "fig, ax = plt.subplots(4,4,figsize= (8,6), sharey = True, sharex = True)\n",
    "\n",
    "\n",
    "sbplt = ax[0, 0]\n",
    "sbplt.hist(video_metadatas_gaming.tag_pos_scr.values,range = [0,200],bins = 20)\n",
    "sbplt.set_title('tag positive score')\n",
    "    \n",
    "fig.tight_layout()\n",
    "\n",
    "fig.text(0.4,0, \"Movie length in minutes\")\n",
    "fig.text(0,0.6, \"Number of movies\", rotation = 90)\n"
   ]
  },
  {
   "cell_type": "code",
   "execution_count": null,
   "id": "cb7c1283",
   "metadata": {},
   "outputs": [],
   "source": []
  },
  {
   "cell_type": "code",
   "execution_count": null,
   "id": "600801c1",
   "metadata": {},
   "outputs": [],
   "source": [
    "plt.hist(compound_sent,bins=15)\n",
    "plt.xlabel('Compoundd sentiment')\n",
    "plt.ylabel('Number of titles')"
   ]
  },
  {
   "cell_type": "code",
   "execution_count": null,
   "id": "c65bb5d2",
   "metadata": {},
   "outputs": [],
   "source": [
    "plt.hist(positive_sent,bins=15)\n",
    "plt.xlabel('Positive sentiment')\n",
    "plt.ylabel('Number of titles')"
   ]
  },
  {
   "cell_type": "code",
   "execution_count": null,
   "id": "a3d08869",
   "metadata": {},
   "outputs": [],
   "source": [
    "plt.hist(negative_sent,bins=15)\n",
    "plt.xlabel('Negative sentiment')\n",
    "plt.ylabel('Number of titles')"
   ]
  },
  {
   "cell_type": "code",
   "execution_count": null,
   "id": "75ea5941",
   "metadata": {},
   "outputs": [],
   "source": [
    "plt.hist(neutral_sent,bins=15)\n",
    "plt.xlabel('Neutral sentiment')\n",
    "plt.ylabel('Number of titles')"
   ]
  },
  {
   "cell_type": "markdown",
   "id": "5894abc1",
   "metadata": {},
   "source": [
    "### Sub-Question 3\n",
    "\n",
    "**Description:** Can we predict the channel's success based on channel information, including average video length, upload frequency, usual time of uploads, categories of videos uploaded, positive/negative sentiments of the title, person pronouns to address the viewers, the number of words in the title, and the number of tags used?  \n",
    "**Method:** We can implement kNN method or Random Forests to train the dataset.  \n",
    "**Timeline:** By 13/12/2022  \n",
    "**Organization:** Dorothee  "
   ]
  },
  {
   "cell_type": "code",
   "execution_count": null,
   "id": "fb350ea8",
   "metadata": {},
   "outputs": [],
   "source": []
  },
  {
   "cell_type": "code",
   "execution_count": null,
   "id": "d57be6ae",
   "metadata": {},
   "outputs": [],
   "source": []
  },
  {
   "cell_type": "markdown",
   "id": "5d89b4e0",
   "metadata": {},
   "source": [
    "### Sub-Question 4\n",
    "**Description:** What are the most common topics in each of the chosen categories?  \n",
    "**Method:** The yt_metadata_en.jsonl.gz dataset will be used to get a list of tags of each video according to its category. It is further split and classified according to the topics that occur most frequently. This way, we get the most used keywords in each video category and therefore the most popular topics.  \n",
    "**Timeline:** By 15/12/2022  \n",
    "**Organization:** Jules  "
   ]
  },
  {
   "cell_type": "code",
   "execution_count": null,
   "id": "272014e0",
   "metadata": {},
   "outputs": [],
   "source": []
  },
  {
   "cell_type": "code",
   "execution_count": null,
   "id": "4640ed6f",
   "metadata": {},
   "outputs": [],
   "source": []
  },
  {
   "cell_type": "markdown",
   "id": "2600e95a",
   "metadata": {},
   "source": [
    "### Sub-Question 5\n",
    "**Description:** Does a channel's success increase with a greater variety of categories?  \n",
    "**Method:** For this question, we will determine whether the filtered channels use multiple categories in their videos, and if they showed clear shifts from one category to another. Ultimately, we want to use this information and methods such as A/B testing and observational studies to determine whether a greater variety of categories can aid to a channels’ success.  \n",
    "**Timeline:** By 18/12/2022  \n",
    "**Organization:** Paul  "
   ]
  },
  {
   "cell_type": "code",
   "execution_count": null,
   "id": "15721c01",
   "metadata": {},
   "outputs": [],
   "source": []
  },
  {
   "cell_type": "code",
   "execution_count": null,
   "id": "0cad8f80",
   "metadata": {},
   "outputs": [],
   "source": []
  }
 ],
 "metadata": {
  "kernelspec": {
   "display_name": "Python 3 (ipykernel)",
   "language": "python",
   "name": "python3"
  },
  "language_info": {
   "codemirror_mode": {
    "name": "ipython",
    "version": 3
   },
   "file_extension": ".py",
   "mimetype": "text/x-python",
   "name": "python",
   "nbconvert_exporter": "python",
   "pygments_lexer": "ipython3",
   "version": "3.9.12"
  },
  "vscode": {
   "interpreter": {
    "hash": "51736a51b0947f81e88b81bb11ec09266575dbab6a2d06ed6812e586915eb5fe"
   }
  }
 },
 "nbformat": 4,
 "nbformat_minor": 5
}
