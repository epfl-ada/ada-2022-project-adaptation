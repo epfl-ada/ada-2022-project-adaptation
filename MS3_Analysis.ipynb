{
 "cells": [
  {
   "cell_type": "markdown",
   "id": "e2af5202-cd4d-4fe2-9e7e-48869ec70229",
   "metadata": {},
   "source": [
    "# Part 0: Initialising"
   ]
  },
  {
   "cell_type": "code",
   "execution_count": 34,
   "id": "b347be5c-381b-4203-a676-ae35909a42cc",
   "metadata": {},
   "outputs": [],
   "source": [
    "# Initializing\n",
    "import matplotlib.font_manager as font_manager\n",
    "from matplotlib.lines import Line2D\n",
    "import matplotlib as mpl\n",
    "import matplotlib.ticker as mtick\n",
    "import matplotlib.pyplot as plt\n",
    "import pandas as pd\n",
    "import numpy as np\n",
    "import seaborn as sns\n",
    "import os\n",
    "import re\n",
    "from scipy.stats import bootstrap\n",
    "import statsmodels.api as sm\n",
    "import statsmodels.formula.api as smf\n",
    "import requests\n",
    "\n",
    "params = {\n",
    "    \"axes.titlesize\": 14,\n",
    "    \"axes.labelsize\": 12,\n",
    "    \"font.size\": 12,\n",
    "    \"legend.fontsize\": 12,\n",
    "    \"xtick.labelsize\": 12,\n",
    "    \"ytick.labelsize\": 12,\n",
    "    \"text.usetex\": False,\n",
    "}\n",
    "\n",
    "NUM_COLORS = 15\n",
    "cm = plt.get_cmap('nipy_spectral')\n",
    "\n",
    "mpl.rcParams.update(params)\n",
    "\n",
    "import warnings\n",
    "\n",
    "warnings.filterwarnings(\"ignore\")"
   ]
  },
  {
   "cell_type": "markdown",
   "id": "9c4e5555-b4fc-4cd9-acea-f54ff5aef1ad",
   "metadata": {},
   "source": [
    "To start with, we import three datasets that are available from YouNiverse:\n",
    "\n",
    "``df_channels_en.tsv.gz``   \n",
    "``df_timeseries_en.tsv.gz``   \n",
    "``yt_metadata_helper.feather``\n",
    "\n",
    "We will filter the channels that have been identified as Gaming, as it is our target category. We will do this by identifying the channel IDs with label ``Gaming`` in ``Category`` from ``df_channels_en.tsv.gz``."
   ]
  },
  {
   "cell_type": "code",
   "execution_count": 35,
   "id": "df97ef38",
   "metadata": {},
   "outputs": [],
   "source": [
    "df_channels = pd.read_csv(\"./data/df_channels_en.tsv.gz\", compression=\"infer\", sep=\"\\t\")\n",
    "df_channels[\"join_date\"] = pd.to_datetime(df_channels[\"join_date\"])\n",
    "\n",
    "df_channels = df_channels[df_channels['category_cc'] == \"Gaming\"]\n",
    "channel_id_gaming = df_channels.channel"
   ]
  },
  {
   "cell_type": "markdown",
   "id": "d5ca7894",
   "metadata": {},
   "source": [
    "``channel_id_gaming`` contains all channel IDs that are identified as Gaming.  we will then use this list to do initial filtering of both ``df_time_series`` and ``video_metadatas``."
   ]
  },
  {
   "cell_type": "code",
   "execution_count": 36,
   "id": "2c93da3e-46e0-4e9b-98dc-c725a9d981fa",
   "metadata": {},
   "outputs": [],
   "source": [
    "df_time_series = pd.read_csv(\n",
    "    \"./data/df_timeseries_en.tsv.gz\", compression=\"infer\", sep=\"\\t\"\n",
    ")\n",
    "df_time_series[\"datetime\"] = pd.to_datetime(df_time_series[\"datetime\"])\n",
    "# round the total number of subscribers, it is easier to consider 1 person and instead half of a person...\n",
    "df_time_series.subs = df_time_series.subs.round(0)\n",
    "\n",
    "# we filter the channels being labeled as \"Gaming\" in df_channels_en.tsv.gz\n",
    "df_time_series = df_time_series[\n",
    "    df_time_series['channel'].isin(channel_id_gaming)\n",
    "]"
   ]
  },
  {
   "cell_type": "code",
   "execution_count": 37,
   "id": "bfb8de83-f104-4db7-a03d-45eedff3600d",
   "metadata": {},
   "outputs": [],
   "source": [
    "video_metadatas = pd.read_feather(\n",
    "    \"./data/yt_metadata_helper.feather\",\n",
    "    columns=[\n",
    "        \"categories\",\n",
    "        \"upload_date\",\n",
    "        \"duration\",\n",
    "        \"like_count\",\n",
    "        \"dislike_count\",\n",
    "        \"view_count\",\n",
    "        \"channel_id\",\n",
    "        \"display_id\"\n",
    "    ],\n",
    ")\n",
    "\n",
    "# we added these two columns for analysis later on.\n",
    "video_metadatas[\"yearNumber\"] = video_metadatas[\"upload_date\"].dt.year\n",
    "video_metadatas[\"weekNumber\"] = video_metadatas[\"upload_date\"].dt.weekday\n",
    "\n",
    "# we filter the channels being labeled as \"Gaming\" in df_channels_en.tsv.gz\n",
    "video_metadatas = video_metadatas[\n",
    "    video_metadatas['channel_id'].isin(channel_id_gaming)\n",
    "]"
   ]
  },
  {
   "cell_type": "code",
   "execution_count": 38,
   "id": "2d574dee",
   "metadata": {},
   "outputs": [
    {
     "data": {
      "text/html": [
       "<div>\n",
       "<style scoped>\n",
       "    .dataframe tbody tr th:only-of-type {\n",
       "        vertical-align: middle;\n",
       "    }\n",
       "\n",
       "    .dataframe tbody tr th {\n",
       "        vertical-align: top;\n",
       "    }\n",
       "\n",
       "    .dataframe thead th {\n",
       "        text-align: right;\n",
       "    }\n",
       "</style>\n",
       "<table border=\"1\" class=\"dataframe\">\n",
       "  <thead>\n",
       "    <tr style=\"text-align: right;\">\n",
       "      <th></th>\n",
       "      <th>categories</th>\n",
       "      <th>upload_date</th>\n",
       "      <th>duration</th>\n",
       "      <th>like_count</th>\n",
       "      <th>dislike_count</th>\n",
       "      <th>view_count</th>\n",
       "      <th>channel_id</th>\n",
       "      <th>display_id</th>\n",
       "      <th>yearNumber</th>\n",
       "      <th>weekNumber</th>\n",
       "    </tr>\n",
       "  </thead>\n",
       "  <tbody>\n",
       "    <tr>\n",
       "      <th>0</th>\n",
       "      <td>Film &amp; Animation</td>\n",
       "      <td>2016-09-28</td>\n",
       "      <td>1159</td>\n",
       "      <td>8.0</td>\n",
       "      <td>1.0</td>\n",
       "      <td>1057.0</td>\n",
       "      <td>UCzWrhkg9eK5I8Bm3HfV-unA</td>\n",
       "      <td>SBqSc91Hn9g</td>\n",
       "      <td>2016</td>\n",
       "      <td>2</td>\n",
       "    </tr>\n",
       "    <tr>\n",
       "      <th>1</th>\n",
       "      <td>Film &amp; Animation</td>\n",
       "      <td>2016-09-28</td>\n",
       "      <td>2681</td>\n",
       "      <td>23.0</td>\n",
       "      <td>1.0</td>\n",
       "      <td>12894.0</td>\n",
       "      <td>UCzWrhkg9eK5I8Bm3HfV-unA</td>\n",
       "      <td>UuugEl86ESY</td>\n",
       "      <td>2016</td>\n",
       "      <td>2</td>\n",
       "    </tr>\n",
       "    <tr>\n",
       "      <th>2</th>\n",
       "      <td>Film &amp; Animation</td>\n",
       "      <td>2016-09-28</td>\n",
       "      <td>1394</td>\n",
       "      <td>1607.0</td>\n",
       "      <td>779.0</td>\n",
       "      <td>1800602.0</td>\n",
       "      <td>UCzWrhkg9eK5I8Bm3HfV-unA</td>\n",
       "      <td>oB4c-yvnbjs</td>\n",
       "      <td>2016</td>\n",
       "      <td>2</td>\n",
       "    </tr>\n",
       "    <tr>\n",
       "      <th>3</th>\n",
       "      <td>Film &amp; Animation</td>\n",
       "      <td>2016-09-28</td>\n",
       "      <td>5064</td>\n",
       "      <td>227.0</td>\n",
       "      <td>24.0</td>\n",
       "      <td>57640.0</td>\n",
       "      <td>UCzWrhkg9eK5I8Bm3HfV-unA</td>\n",
       "      <td>ZaV-gTCMV8E</td>\n",
       "      <td>2016</td>\n",
       "      <td>2</td>\n",
       "    </tr>\n",
       "    <tr>\n",
       "      <th>4</th>\n",
       "      <td>Film &amp; Animation</td>\n",
       "      <td>2016-09-28</td>\n",
       "      <td>3554</td>\n",
       "      <td>105.0</td>\n",
       "      <td>13.0</td>\n",
       "      <td>86368.0</td>\n",
       "      <td>UCzWrhkg9eK5I8Bm3HfV-unA</td>\n",
       "      <td>cGvL7AvMfM0</td>\n",
       "      <td>2016</td>\n",
       "      <td>2</td>\n",
       "    </tr>\n",
       "  </tbody>\n",
       "</table>\n",
       "</div>"
      ],
      "text/plain": [
       "         categories upload_date  duration  like_count  dislike_count  \\\n",
       "0  Film & Animation  2016-09-28      1159         8.0            1.0   \n",
       "1  Film & Animation  2016-09-28      2681        23.0            1.0   \n",
       "2  Film & Animation  2016-09-28      1394      1607.0          779.0   \n",
       "3  Film & Animation  2016-09-28      5064       227.0           24.0   \n",
       "4  Film & Animation  2016-09-28      3554       105.0           13.0   \n",
       "\n",
       "   view_count                channel_id   display_id  yearNumber  weekNumber  \n",
       "0      1057.0  UCzWrhkg9eK5I8Bm3HfV-unA  SBqSc91Hn9g        2016           2  \n",
       "1     12894.0  UCzWrhkg9eK5I8Bm3HfV-unA  UuugEl86ESY        2016           2  \n",
       "2   1800602.0  UCzWrhkg9eK5I8Bm3HfV-unA  oB4c-yvnbjs        2016           2  \n",
       "3     57640.0  UCzWrhkg9eK5I8Bm3HfV-unA  ZaV-gTCMV8E        2016           2  \n",
       "4     86368.0  UCzWrhkg9eK5I8Bm3HfV-unA  cGvL7AvMfM0        2016           2  "
      ]
     },
     "execution_count": 38,
     "metadata": {},
     "output_type": "execute_result"
    }
   ],
   "source": [
    "video_metadatas.head()"
   ]
  },
  {
   "cell_type": "markdown",
   "id": "3c27b9e8",
   "metadata": {},
   "source": [
    "We now have filtered ``df_channels``, ``df_time_series`` and ``video_metadatas``. However, they have different numbers of channels. ``df_channels`` and ``video_metadatas`` both have 20143 channels, whereas ``df_time_series`` has 19698 channels. \n",
    "\n",
    "When we look closer to the data, we can observe that `df_time_series` only has data from early January 2015 to end September 2019, which could be one reason causing the inconsistency. Therefore, we will then filter videos in  ``video_metadatas`` that are being uploaded from early January 2015 to end September 2019 to keep consistency across three dataframes."
   ]
  },
  {
   "cell_type": "code",
   "execution_count": 39,
   "id": "e3c22581",
   "metadata": {},
   "outputs": [],
   "source": [
    "video_metadatas = video_metadatas[ (video_metadatas['upload_date'] > df_time_series.datetime.min()) & \n",
    "                                   (video_metadatas['upload_date'] < df_time_series.datetime.max()) ]"
   ]
  },
  {
   "cell_type": "markdown",
   "id": "81392b16",
   "metadata": {},
   "source": [
    "We now have a list of Gaming channels and the information about their videos. Now, we will proceed to filter out the channels that fit the following conditions:\n",
    "\n",
    "- The channel has more than XX % of gaming videos\n",
    "- The YouTuber uploaded with an average frequency of \"every XX days or less\" AND \"every XX days or more\"\n",
    "\n",
    "The reasoning behind these filtering criteria is that we want to have channels that are mainly focusing on gaming, and upload videos not too often but also not too infrequent. Channels with high frequency of upload rate is not likely to be achieved by a single person, and channels that upload too infrequent is likely to be abandoned.\n",
    "\n",
    "We will achieve this filtering by looking at ``video_metadatas``, and calculate:\n",
    "\n",
    "- The number of videos being labelled as \"Gaming\" in each channel\n",
    "- The number of videos being uploaded to each channel\n",
    "- The time frame within which the YouTuber is active (corresponding to the number of days between the first and last uploads)\n"
   ]
  },
  {
   "cell_type": "code",
   "execution_count": 40,
   "id": "4c1e1626",
   "metadata": {},
   "outputs": [],
   "source": [
    "# The number of videos being labelled as \"Gaming\" in each channel\n",
    "video_metadatas['is_gaming'] = (video_metadatas.categories == \"Gaming\")\n",
    "\n",
    "# The number of videos being uploaded to each channel\n",
    "count_per_channel = pd.DataFrame(video_metadatas.groupby(\"channel_id\").count().categories).reset_index().rename(columns={\"categories\":\"nr_videos\"})\n",
    "game_video_count_per_channel = pd.DataFrame(video_metadatas.groupby(\"channel_id\").sum().is_gaming).reset_index()\n",
    "\n",
    "# merge these two datasets\n",
    "channel_selection = count_per_channel.merge(game_video_count_per_channel)\n",
    "\n",
    "# The percentage of gaming videos within each channel\n",
    "channel_selection[\"pct_gaming\"] = channel_selection.is_gaming / channel_selection.nr_videos"
   ]
  },
  {
   "cell_type": "code",
   "execution_count": 41,
   "id": "609a1a0f",
   "metadata": {},
   "outputs": [],
   "source": [
    "pct_level = 0.6  # adjust the percentage of videos being labelled as \"Gaming\" here\n",
    "selected_channels = list(channel_selection[channel_selection['pct_gaming'] >= pct_level ].channel_id)\n",
    "channel_selection = channel_selection[channel_selection['channel_id'].isin(selected_channels)]"
   ]
  },
  {
   "cell_type": "code",
   "execution_count": 42,
   "id": "b7c0b007",
   "metadata": {},
   "outputs": [
    {
     "data": {
      "text/plain": [
       "18230"
      ]
     },
     "execution_count": 42,
     "metadata": {},
     "output_type": "execute_result"
    }
   ],
   "source": [
    "len(selected_channels)"
   ]
  },
  {
   "cell_type": "markdown",
   "id": "8760cb7c",
   "metadata": {},
   "source": [
    "After the filtering, we now have 18230 channels. \n",
    "\n",
    "We now want to filter out the channels that upload videos too frequently or too infrequent:"
   ]
  },
  {
   "cell_type": "code",
   "execution_count": 43,
   "id": "758656d4",
   "metadata": {},
   "outputs": [],
   "source": [
    "# The time frame within which the YouTuber is active\n",
    "last_vid_date = pd.DataFrame(video_metadatas.groupby(\"channel_id\").max().\n",
    "                             upload_date).reset_index().rename(columns={\"upload_date\":\"last_vid_date\"})\n",
    "first_vid_date = pd.DataFrame(video_metadatas.groupby(\"channel_id\").min().\n",
    "                              upload_date).reset_index().rename(columns={\"upload_date\":\"first_vid_date\"})\n",
    "total_vids = pd.DataFrame(video_metadatas.groupby(\"channel_id\").count().\n",
    "                          display_id).reset_index().rename(columns={\"display_id\":\"total_vids\"})"
   ]
  },
  {
   "cell_type": "code",
   "execution_count": null,
   "id": "400a27bd",
   "metadata": {},
   "outputs": [],
   "source": []
  },
  {
   "cell_type": "code",
   "execution_count": 44,
   "id": "003b816e",
   "metadata": {},
   "outputs": [],
   "source": [
    "channel_selection = first_vid_date.merge(last_vid_date)\n",
    "channel_selection = channel_selection.merge(total_vids)\n",
    "channel_selection['active_days'] = (channel_selection.last_vid_date - channel_selection.first_vid_date).dt.days\n",
    "channel_selection['upload_interval'] = channel_selection.active_days / channel_selection.total_vids"
   ]
  },
  {
   "cell_type": "code",
   "execution_count": 45,
   "id": "0fb8882b",
   "metadata": {},
   "outputs": [],
   "source": [
    "min_upload_interval = 2 # in days, the channel upload videos on average every x days \n",
    "max_upload_interval = 90\n",
    "selected_channels = list(channel_selection[(channel_selection['upload_interval'] > min_upload_interval) & \n",
    "                                           (channel_selection['upload_interval'] < max_upload_interval) ].channel_id)"
   ]
  },
  {
   "cell_type": "code",
   "execution_count": 46,
   "id": "87ef1e9c",
   "metadata": {},
   "outputs": [
    {
     "data": {
      "text/plain": [
       "14730"
      ]
     },
     "execution_count": 46,
     "metadata": {},
     "output_type": "execute_result"
    }
   ],
   "source": [
    "len(selected_channels)"
   ]
  },
  {
   "cell_type": "markdown",
   "id": "c4e1889c",
   "metadata": {},
   "source": [
    "Here, we filtered out channels that uploaded videos every 2 days or less. Now we have 14730 channels.\n",
    "\n",
    "Note that `df_time_series` contains less channels than `df_channels` and `video_metadatas`. In order to keep consistency, we will take the channels that can be found across three dataframes."
   ]
  },
  {
   "cell_type": "code",
   "execution_count": 47,
   "id": "1e138332",
   "metadata": {},
   "outputs": [],
   "source": [
    "df_time_series = df_time_series[df_time_series['channel'].isin(selected_channels)]"
   ]
  },
  {
   "cell_type": "code",
   "execution_count": 48,
   "id": "f085ddf6",
   "metadata": {},
   "outputs": [],
   "source": [
    "selected_channels = list(df_time_series.groupby(\"channel\").count().reset_index().channel)"
   ]
  },
  {
   "cell_type": "code",
   "execution_count": 49,
   "id": "23165ef0",
   "metadata": {},
   "outputs": [
    {
     "data": {
      "text/plain": [
       "14380"
      ]
     },
     "execution_count": 49,
     "metadata": {},
     "output_type": "execute_result"
    }
   ],
   "source": [
    "len(selected_channels)"
   ]
  },
  {
   "cell_type": "code",
   "execution_count": 50,
   "id": "d99d6ade",
   "metadata": {},
   "outputs": [],
   "source": [
    "df_channels = df_channels[df_channels['channel'].isin(selected_channels)]"
   ]
  },
  {
   "cell_type": "code",
   "execution_count": 51,
   "id": "85fc232c",
   "metadata": {},
   "outputs": [
    {
     "data": {
      "text/plain": [
       "14380"
      ]
     },
     "execution_count": 51,
     "metadata": {},
     "output_type": "execute_result"
    }
   ],
   "source": [
    "len(df_channels)"
   ]
  },
  {
   "cell_type": "code",
   "execution_count": 52,
   "id": "8f80c1b3",
   "metadata": {},
   "outputs": [],
   "source": [
    "video_metadatas = video_metadatas[video_metadatas['channel_id'].isin(selected_channels)]"
   ]
  },
  {
   "cell_type": "code",
   "execution_count": 53,
   "id": "ee68de9b",
   "metadata": {},
   "outputs": [
    {
     "data": {
      "text/plain": [
       "14380"
      ]
     },
     "execution_count": 53,
     "metadata": {},
     "output_type": "execute_result"
    }
   ],
   "source": [
    "len(video_metadatas.groupby(\"channel_id\").count())"
   ]
  },
  {
   "cell_type": "markdown",
   "id": "c191d301",
   "metadata": {},
   "source": [
    "We also import two datasets that are created by us, as a complementary to ``video_metadatas``:  \n",
    "- ``title_metadatas``: with three columns (``categories``, ``display_id``, ``title``), containing information about the title names of each video in ``video_metadatas``.\n",
    "- ``tag_metadatas``: with three columns (``categories``, ``display_id``, ``tags``), containing information about the tags of each video in ``video_metadatas``.\n",
    "\n",
    "We will filter videos that we selected so far."
   ]
  },
  {
   "cell_type": "code",
   "execution_count": 523,
   "id": "f6dc9dc4",
   "metadata": {},
   "outputs": [],
   "source": [
    "title_metadatas = pd.read_feather(\n",
    "    \"./data/yt_metadata_title_helper.feather\")\n",
    "\n",
    "title_metadatas = title_metadatas[\n",
    "    title_metadatas['display_id'].isin(video_metadatas.display_id)\n",
    "]"
   ]
  },
  {
   "cell_type": "code",
   "execution_count": 524,
   "id": "e7c20891",
   "metadata": {},
   "outputs": [],
   "source": [
    "# Save title_metadatas in feather \n",
    "title_metadatas.reset_index(inplace=True)\n",
    "title_metadatas.to_feather(\"./data/yt_metadata_title_filtered.feather\")"
   ]
  },
  {
   "cell_type": "code",
   "execution_count": 525,
   "id": "8ce88e84",
   "metadata": {},
   "outputs": [
    {
     "data": {
      "text/plain": [
       "(2880078, 11)"
      ]
     },
     "execution_count": 525,
     "metadata": {},
     "output_type": "execute_result"
    }
   ],
   "source": [
    "video_metadatas.shape"
   ]
  },
  {
   "cell_type": "code",
   "execution_count": 526,
   "id": "70ecc4d3",
   "metadata": {},
   "outputs": [
    {
     "data": {
      "text/plain": [
       "(2880078, 4)"
      ]
     },
     "execution_count": 526,
     "metadata": {},
     "output_type": "execute_result"
    }
   ],
   "source": [
    "title_metadatas.shape"
   ]
  },
  {
   "cell_type": "code",
   "execution_count": 527,
   "id": "333d7f10",
   "metadata": {},
   "outputs": [],
   "source": [
    "tag_metadatas = pd.read_feather(\n",
    "    \"./data/yt_metadata_tags_helper.feather\")\n",
    "\n",
    "tag_metadatas = tag_metadatas[\n",
    "    tag_metadatas['display_id'].isin(video_metadatas.display_id)\n",
    "]"
   ]
  },
  {
   "cell_type": "code",
   "execution_count": 528,
   "id": "99b37b20",
   "metadata": {},
   "outputs": [
    {
     "data": {
      "text/html": [
       "<div>\n",
       "<style scoped>\n",
       "    .dataframe tbody tr th:only-of-type {\n",
       "        vertical-align: middle;\n",
       "    }\n",
       "\n",
       "    .dataframe tbody tr th {\n",
       "        vertical-align: top;\n",
       "    }\n",
       "\n",
       "    .dataframe thead th {\n",
       "        text-align: right;\n",
       "    }\n",
       "</style>\n",
       "<table border=\"1\" class=\"dataframe\">\n",
       "  <thead>\n",
       "    <tr style=\"text-align: right;\">\n",
       "      <th></th>\n",
       "      <th>categories</th>\n",
       "      <th>display_id</th>\n",
       "      <th>tags</th>\n",
       "    </tr>\n",
       "  </thead>\n",
       "  <tbody>\n",
       "    <tr>\n",
       "      <th>1792</th>\n",
       "      <td>Gaming</td>\n",
       "      <td>M0x6TJmMwL4</td>\n",
       "      <td>video,games,retrogamer3,ed,findlay,Blasphemous...</td>\n",
       "    </tr>\n",
       "    <tr>\n",
       "      <th>1793</th>\n",
       "      <td>Gaming</td>\n",
       "      <td>ofAIp6dad00</td>\n",
       "      <td>video,games,retrogamer3,ed,findlay,Sega,Genesi...</td>\n",
       "    </tr>\n",
       "    <tr>\n",
       "      <th>1794</th>\n",
       "      <td>Gaming</td>\n",
       "      <td>cXHRNThI27A</td>\n",
       "      <td>video,games,retrogamer3,ed,findlay,Disenchantm...</td>\n",
       "    </tr>\n",
       "    <tr>\n",
       "      <th>1795</th>\n",
       "      <td>Gaming</td>\n",
       "      <td>cDSo3mUNEEM</td>\n",
       "      <td>video,games,retrogamer3,ed,findlay,Death Stran...</td>\n",
       "    </tr>\n",
       "    <tr>\n",
       "      <th>1796</th>\n",
       "      <td>Gaming</td>\n",
       "      <td>rJmT1Rq24qE</td>\n",
       "      <td>video,games,retrogamer3,ed,findlay,Friday the ...</td>\n",
       "    </tr>\n",
       "  </tbody>\n",
       "</table>\n",
       "</div>"
      ],
      "text/plain": [
       "     categories   display_id  \\\n",
       "1792     Gaming  M0x6TJmMwL4   \n",
       "1793     Gaming  ofAIp6dad00   \n",
       "1794     Gaming  cXHRNThI27A   \n",
       "1795     Gaming  cDSo3mUNEEM   \n",
       "1796     Gaming  rJmT1Rq24qE   \n",
       "\n",
       "                                                   tags  \n",
       "1792  video,games,retrogamer3,ed,findlay,Blasphemous...  \n",
       "1793  video,games,retrogamer3,ed,findlay,Sega,Genesi...  \n",
       "1794  video,games,retrogamer3,ed,findlay,Disenchantm...  \n",
       "1795  video,games,retrogamer3,ed,findlay,Death Stran...  \n",
       "1796  video,games,retrogamer3,ed,findlay,Friday the ...  "
      ]
     },
     "execution_count": 528,
     "metadata": {},
     "output_type": "execute_result"
    }
   ],
   "source": [
    "tag_metadatas.head()"
   ]
  },
  {
   "cell_type": "markdown",
   "id": "38ee79b8",
   "metadata": {},
   "source": [
    "# Part 2: Further Analysis Milestone 3\n",
    "\n",
    "Given the results in Part 1 of our Analysis, we decided to focus on the categories of Gaming. The reason behind this choice is because we are trying to help our little brother to succeed, and since he is just a single person without a big team behind him it seems more reasonable than e.g. Movies or Film & Entertainment. Therefore, we decided to eliminate Music, How-to & Style, Education, Science & Technology, Entertainment, Film & Entertainment, People & Blogs, Comedy, Movies and Shows. We decided to investigate the three categories mentioned above also because videos uploaded can be addressed to audiences of all three categories.\n",
    "\n",
    "## Key Questions:\n",
    " - Which factors help a YouTuber in Gaming gain more subscribers?\n",
    " - How do sentiments in titles and tags affect views and how do these relationships change over time?"
   ]
  },
  {
   "cell_type": "markdown",
   "id": "ac192b0a",
   "metadata": {},
   "source": [
    "### Sub-Question 1 \n",
    "\n",
    "**Description:** How does the video upload frequency, time of the week, and video length affect the subscription rate of the channels?  \n",
    "**Method:** Model this using a linear regression model.  \n",
    "**Timeline:** By 13/12/2022  \n",
    "**Organization:** Wenxiu  "
   ]
  },
  {
   "cell_type": "code",
   "execution_count": 54,
   "id": "6555e2c3",
   "metadata": {},
   "outputs": [],
   "source": [
    "# we also want to filter out channels that upload too frequently, as we are interested in things that could be done by an individual\n",
    "avg_upload_weekday = pd.DataFrame(video_metadatas.groupby(\"channel_id\").mean().\n",
    "                             weekNumber).reset_index().rename(columns={\"weekNumber\":\"avg_upload_weekday\"})\n",
    "\n",
    "avg_video_duration = pd.DataFrame(video_metadatas.groupby(\"channel_id\").mean().\n",
    "                             duration).reset_index().rename(columns={\"duration\":\"avg_video_duration\"})"
   ]
  },
  {
   "cell_type": "code",
   "execution_count": null,
   "id": "be96957f",
   "metadata": {},
   "outputs": [],
   "source": []
  },
  {
   "cell_type": "code",
   "execution_count": 55,
   "id": "0974b1c0",
   "metadata": {},
   "outputs": [],
   "source": [
    "channel_selection = channel_selection.merge(avg_upload_weekday)\n",
    "channel_selection = channel_selection.merge(avg_video_duration)\n",
    "channel_selection = channel_selection.merge(df_channels.loc[:,['channel', 'subscribers_cc']].rename(\n",
    "    columns={\"channel\":\"channel_id\"}))"
   ]
  },
  {
   "cell_type": "code",
   "execution_count": 56,
   "id": "2091ce77",
   "metadata": {},
   "outputs": [],
   "source": [
    "model_data = channel_selection.loc[:,['upload_interval', 'avg_upload_weekday', 'avg_video_duration', 'subscribers_cc']]"
   ]
  },
  {
   "cell_type": "code",
   "execution_count": 57,
   "id": "c382ef90",
   "metadata": {},
   "outputs": [
    {
     "data": {
      "text/html": [
       "<div>\n",
       "<style scoped>\n",
       "    .dataframe tbody tr th:only-of-type {\n",
       "        vertical-align: middle;\n",
       "    }\n",
       "\n",
       "    .dataframe tbody tr th {\n",
       "        vertical-align: top;\n",
       "    }\n",
       "\n",
       "    .dataframe thead th {\n",
       "        text-align: right;\n",
       "    }\n",
       "</style>\n",
       "<table border=\"1\" class=\"dataframe\">\n",
       "  <thead>\n",
       "    <tr style=\"text-align: right;\">\n",
       "      <th></th>\n",
       "      <th>upload_interval</th>\n",
       "      <th>avg_upload_weekday</th>\n",
       "      <th>avg_video_duration</th>\n",
       "      <th>subscribers_cc</th>\n",
       "    </tr>\n",
       "  </thead>\n",
       "  <tbody>\n",
       "    <tr>\n",
       "      <th>0</th>\n",
       "      <td>5.641791</td>\n",
       "      <td>2.706468</td>\n",
       "      <td>10231.452736</td>\n",
       "      <td>11700</td>\n",
       "    </tr>\n",
       "    <tr>\n",
       "      <th>1</th>\n",
       "      <td>10.342105</td>\n",
       "      <td>3.447368</td>\n",
       "      <td>341.447368</td>\n",
       "      <td>11400</td>\n",
       "    </tr>\n",
       "    <tr>\n",
       "      <th>2</th>\n",
       "      <td>40.826087</td>\n",
       "      <td>3.565217</td>\n",
       "      <td>388.652174</td>\n",
       "      <td>33247</td>\n",
       "    </tr>\n",
       "    <tr>\n",
       "      <th>3</th>\n",
       "      <td>6.494340</td>\n",
       "      <td>2.920755</td>\n",
       "      <td>805.177358</td>\n",
       "      <td>32900</td>\n",
       "    </tr>\n",
       "    <tr>\n",
       "      <th>4</th>\n",
       "      <td>8.911504</td>\n",
       "      <td>3.274336</td>\n",
       "      <td>377.725664</td>\n",
       "      <td>58500</td>\n",
       "    </tr>\n",
       "    <tr>\n",
       "      <th>...</th>\n",
       "      <td>...</td>\n",
       "      <td>...</td>\n",
       "      <td>...</td>\n",
       "      <td>...</td>\n",
       "    </tr>\n",
       "    <tr>\n",
       "      <th>14375</th>\n",
       "      <td>6.691176</td>\n",
       "      <td>3.372549</td>\n",
       "      <td>786.524510</td>\n",
       "      <td>33300</td>\n",
       "    </tr>\n",
       "    <tr>\n",
       "      <th>14376</th>\n",
       "      <td>8.600000</td>\n",
       "      <td>2.100000</td>\n",
       "      <td>2413.300000</td>\n",
       "      <td>20860</td>\n",
       "    </tr>\n",
       "    <tr>\n",
       "      <th>14377</th>\n",
       "      <td>2.637224</td>\n",
       "      <td>2.921136</td>\n",
       "      <td>829.479495</td>\n",
       "      <td>389000</td>\n",
       "    </tr>\n",
       "    <tr>\n",
       "      <th>14378</th>\n",
       "      <td>40.000000</td>\n",
       "      <td>2.697674</td>\n",
       "      <td>331.627907</td>\n",
       "      <td>39945</td>\n",
       "    </tr>\n",
       "    <tr>\n",
       "      <th>14379</th>\n",
       "      <td>2.544402</td>\n",
       "      <td>3.332046</td>\n",
       "      <td>2993.679537</td>\n",
       "      <td>40067</td>\n",
       "    </tr>\n",
       "  </tbody>\n",
       "</table>\n",
       "<p>14380 rows × 4 columns</p>\n",
       "</div>"
      ],
      "text/plain": [
       "       upload_interval  avg_upload_weekday  avg_video_duration  subscribers_cc\n",
       "0             5.641791            2.706468        10231.452736           11700\n",
       "1            10.342105            3.447368          341.447368           11400\n",
       "2            40.826087            3.565217          388.652174           33247\n",
       "3             6.494340            2.920755          805.177358           32900\n",
       "4             8.911504            3.274336          377.725664           58500\n",
       "...                ...                 ...                 ...             ...\n",
       "14375         6.691176            3.372549          786.524510           33300\n",
       "14376         8.600000            2.100000         2413.300000           20860\n",
       "14377         2.637224            2.921136          829.479495          389000\n",
       "14378        40.000000            2.697674          331.627907           39945\n",
       "14379         2.544402            3.332046         2993.679537           40067\n",
       "\n",
       "[14380 rows x 4 columns]"
      ]
     },
     "execution_count": 57,
     "metadata": {},
     "output_type": "execute_result"
    }
   ],
   "source": [
    "model_data"
   ]
  },
  {
   "cell_type": "code",
   "execution_count": 59,
   "id": "0845578a",
   "metadata": {},
   "outputs": [],
   "source": [
    "# normalise the data\n",
    "xmean = np.mean(model_data,axis=0)\n",
    "xstd = np.std(model_data,axis=0)\n",
    "Xbzs = (model_data-xmean)/xstd"
   ]
  },
  {
   "cell_type": "code",
   "execution_count": 60,
   "id": "970b5047",
   "metadata": {},
   "outputs": [
    {
     "name": "stdout",
     "output_type": "stream",
     "text": [
      "                            OLS Regression Results                            \n",
      "==============================================================================\n",
      "Dep. Variable:         subscribers_cc   R-squared:                       0.003\n",
      "Model:                            OLS   Adj. R-squared:                  0.003\n",
      "Method:                 Least Squares   F-statistic:                     13.13\n",
      "Date:                Tue, 20 Dec 2022   Prob (F-statistic):           1.46e-08\n",
      "Time:                        15:00:24   Log-Likelihood:                -20385.\n",
      "No. Observations:               14380   AIC:                         4.078e+04\n",
      "Df Residuals:                   14376   BIC:                         4.081e+04\n",
      "Df Model:                           3                                         \n",
      "Covariance Type:            nonrobust                                         \n",
      "======================================================================================\n",
      "                         coef    std err          t      P>|t|      [0.025      0.975]\n",
      "--------------------------------------------------------------------------------------\n",
      "Intercept          -4.944e-17      0.008  -5.94e-15      1.000      -0.016       0.016\n",
      "upload_interval       -0.0483      0.008     -5.750      0.000      -0.065      -0.032\n",
      "avg_upload_weekday    -0.0011      0.008     -0.129      0.898      -0.017       0.015\n",
      "avg_video_duration    -0.0266      0.008     -3.164      0.002      -0.043      -0.010\n",
      "==============================================================================\n",
      "Omnibus:                    36896.737   Durbin-Watson:                   1.925\n",
      "Prob(Omnibus):                  0.000   Jarque-Bera (JB):       1101330382.728\n",
      "Skew:                          28.941   Prob(JB):                         0.00\n",
      "Kurtosis:                    1357.531   Cond. No.                         1.14\n",
      "==============================================================================\n",
      "\n",
      "Notes:\n",
      "[1] Standard Errors assume that the covariance matrix of the errors is correctly specified.\n"
     ]
    }
   ],
   "source": [
    "import statsmodels.formula.api as smf\n",
    "# Declares the model\n",
    "mod = smf.ols(formula='subscribers_cc ~ upload_interval + avg_upload_weekday + avg_video_duration', data=Xbzs)\n",
    "\n",
    "# Fits the model (find the optimal coefficients, adding a random seed ensures consistency)\n",
    "np.random.seed(2)\n",
    "res = mod.fit()\n",
    "\n",
    "# Print thes summary output provided by the library.\n",
    "print(res.summary())"
   ]
  },
  {
   "cell_type": "markdown",
   "id": "3e8e3805",
   "metadata": {},
   "source": [
    "The results from the linear model indicate two statistically significant terms (with significance level of 0.005): upload interval and average video duration. The coefficients of these two terms suggest that:\n",
    "\n",
    "- the higher the upload interval, the lower the subcription rate  \n",
    "- the higher the average video duration, the lower the subscription rate\n",
    "\n",
    "On the other hand, it seems that time of upload during the week doesn't have a strong influence on the subscription rate of the channels."
   ]
  },
  {
   "cell_type": "markdown",
   "id": "f180a346",
   "metadata": {},
   "source": [
    "### Sub-Question 2\n",
    "\n",
    "**Description:** How does the language used in titles affect subscription number?  \n",
    "**Method:** We will classify the sentiments of titles and tags using packages such as NLTK and try to see if this factor affects subscription number of the channels using relevant skills we learned in observational studies.  \n",
    "**Timeline:** By 15/12/2022  \n",
    "**Organization:** Wenxiu  "
   ]
  },
  {
   "cell_type": "code",
   "execution_count": 534,
   "id": "441cce77",
   "metadata": {},
   "outputs": [],
   "source": [
    "#NLP libraries\n",
    "import spacy, nltk, sklearn\n",
    "\n",
    "#Vader\n",
    "import vaderSentiment\n",
    "from vaderSentiment.vaderSentiment import SentimentIntensityAnalyzer\n",
    "\n",
    "# Initialise the Spacy analyzer in English\n",
    "nlp = spacy.load('en_core_web_sm')"
   ]
  },
  {
   "cell_type": "markdown",
   "id": "77bb961f",
   "metadata": {},
   "source": [
    "We will then move on to determine the sentiments of titles, and their effect on the view counts."
   ]
  },
  {
   "cell_type": "code",
   "execution_count": 535,
   "id": "2915df36",
   "metadata": {},
   "outputs": [],
   "source": [
    "positive_sent = []\n",
    "negative_sent = []\n",
    "neutral_sent = []\n",
    "compound_sent = []\n",
    "\n",
    "#iterate through the sentences, get polarity scores, choose a value\n",
    "analyzer = SentimentIntensityAnalyzer()\n",
    "for title in title_metadatas.title:\n",
    "    score = analyzer.polarity_scores(title)\n",
    "    positive_sent.append(score['pos'])\n",
    "    negative_sent.append(score['neg'])\n",
    "    neutral_sent.append(score['neu'])\n",
    "    compound_sent.append(score['compound'])\n",
    "\n",
    "video_metadatas['title_pos_scr'] = positive_sent\n",
    "video_metadatas['title_neg_scr'] = negative_sent\n",
    "video_metadatas['title_neu_scr'] = neutral_sent\n",
    "video_metadatas['title_com_scr'] = compound_sent"
   ]
  },
  {
   "cell_type": "code",
   "execution_count": 536,
   "id": "8d60444d",
   "metadata": {},
   "outputs": [
    {
     "data": {
      "text/plain": [
       "Text(0, 0.6, 'Number of videos')"
      ]
     },
     "execution_count": 536,
     "metadata": {},
     "output_type": "execute_result"
    },
    {
     "data": {
      "image/png": "[encoded data removed]",
      "text/plain": [
       "<Figure size 864x864 with 5 Axes>"
      ]
     },
     "metadata": {
      "needs_background": "light"
     },
     "output_type": "display_data"
    }
   ],
   "source": [
    "# Write your code to make 4x4 panel here\n",
    "\n",
    "fig, ax = plt.subplots(5, 1,figsize= (12,12), sharey = True, sharex = True)\n",
    "\n",
    "year = [2015, 2016, 2017, 2018, 2019]\n",
    "\n",
    "for i in np.arange(5):\n",
    "    sbplt = ax[i]\n",
    "    sbplt.hist(video_metadatas[video_metadatas['yearNumber'] == year[i] ].title_com_scr,bins = 15)\n",
    "    sbplt.set_title('title compound score:' + str(year[i]) )\n",
    "\n",
    "fig.tight_layout()\n",
    "\n",
    "fig.text(0.4,0, \"sentimental score\")\n",
    "fig.text(0,0.6, \"Number of videos\", rotation = 90)"
   ]
  },
  {
   "cell_type": "code",
   "execution_count": 537,
   "id": "2ebf9915",
   "metadata": {},
   "outputs": [
    {
     "name": "stdout",
     "output_type": "stream",
     "text": [
      "                            OLS Regression Results                            \n",
      "==============================================================================\n",
      "Dep. Variable:             view_count   R-squared:                       0.001\n",
      "Model:                            OLS   Adj. R-squared:                  0.001\n",
      "Method:                 Least Squares   F-statistic:                     482.4\n",
      "Date:                Tue, 20 Dec 2022   Prob (F-statistic):               0.00\n",
      "Time:                        12:42:23   Log-Likelihood:            -4.0857e+06\n",
      "No. Observations:             2880077   AIC:                         8.171e+06\n",
      "Df Residuals:                 2880072   BIC:                         8.171e+06\n",
      "Df Model:                           4                                         \n",
      "Covariance Type:            nonrobust                                         \n",
      "=================================================================================\n",
      "                    coef    std err          t      P>|t|      [0.025      0.975]\n",
      "---------------------------------------------------------------------------------\n",
      "Intercept      -3.19e-09      0.001  -5.42e-06      1.000      -0.001       0.001\n",
      "title_pos_scr     0.0102      0.001     17.119      0.000       0.009       0.011\n",
      "title_neg_scr     0.0120      0.001     20.221      0.000       0.011       0.013\n",
      "duration         -0.0200      0.001    -34.007      0.000      -0.021      -0.019\n",
      "weekNumber        0.0066      0.001     11.240      0.000       0.005       0.008\n",
      "==============================================================================\n",
      "Omnibus:                 10880312.159   Durbin-Watson:                   1.390\n",
      "Prob(Omnibus):                  0.000   Jarque-Bera (JB):   32648101036177.375\n",
      "Skew:                          85.056   Prob(JB):                         0.00\n",
      "Kurtosis:                   16496.371   Cond. No.                         1.16\n",
      "==============================================================================\n",
      "\n",
      "Notes:\n",
      "[1] Standard Errors assume that the covariance matrix of the errors is correctly specified.\n"
     ]
    }
   ],
   "source": [
    "# select the data for the model\n",
    "model_data = video_metadatas.loc[:,['title_pos_scr', 'title_neg_scr', 'duration', 'weekNumber', 'view_count']]\n",
    "\n",
    "# normalise the data\n",
    "xmean = np.mean(model_data,axis=0)\n",
    "xstd = np.std(model_data,axis=0)\n",
    "Xbzs = (model_data-xmean)/xstd\n",
    "\n",
    "# Declares the model\n",
    "mod = smf.ols(formula='view_count ~ title_pos_scr + title_neg_scr + duration + weekNumber', data=Xbzs)\n",
    "\n",
    "# Fits the model (find the optimal coefficients, adding a random seed ensures consistency)\n",
    "np.random.seed(2)\n",
    "res = mod.fit()\n",
    "\n",
    "# Print thes summary output provided by the library.\n",
    "print(res.summary())"
   ]
  },
  {
   "cell_type": "markdown",
   "id": "884675cf",
   "metadata": {},
   "source": [
    "The result of the model suggest that the sentimental score, duration and weekNumber all have significant effect on the view count of videos. However, from previous histogram, we can see that the majority of the videos were classified as \"neutral\". This suggests that the result of the model might be biased. In order to gain a better and fairer idea over the effect of sentiments in titles, we select the videos such that the number of positive, neutral and negative videos are the same."
   ]
  },
  {
   "cell_type": "code",
   "execution_count": 538,
   "id": "40bd3cd9",
   "metadata": {},
   "outputs": [],
   "source": [
    "import random\n",
    "random.sample(range(1,100), 4)\n",
    "\n",
    "filtered_metadatas = video_metadatas\n",
    "filtered_metadatas['pos_vid'] = filtered_metadatas['title_pos_scr'] > 0.6\n",
    "filtered_metadatas['neg_vid'] = filtered_metadatas['title_neg_scr'] > 0.6\n",
    "filtered_metadatas['neu_vid'] = filtered_metadatas['title_neu_scr'] > 0.6\n",
    "\n",
    "pos_vid_ind = np.where(filtered_metadatas['title_pos_scr'] > 0.7)[0]\n",
    "neg_vid_ind = np.where(filtered_metadatas['title_neg_scr'] > 0.7)[0]\n",
    "neu_vid_ind = np.where(filtered_metadatas['title_neu_scr'] > 0.7)[0]\n",
    "\n",
    "sample_size = min([np.shape(neg_vid_ind), np.shape(neu_vid_ind), np.shape(pos_vid_ind)])[0]\n",
    "selected_index = list(random.choices(pos_vid_ind, k=sample_size))\n",
    "selected_index += list(random.choices(neg_vid_ind, k=sample_size))\n",
    "selected_index += list(random.choices(neu_vid_ind, k=sample_size))\n",
    "filtered_metadatas = filtered_metadatas.iloc[selected_index]"
   ]
  },
  {
   "cell_type": "code",
   "execution_count": 539,
   "id": "1bb89821",
   "metadata": {},
   "outputs": [
    {
     "data": {
      "text/plain": [
       "title_pos_scr   -7.321455e-07\n",
       "title_neg_scr    3.401642e-07\n",
       "duration         1.109868e-10\n",
       "weekNumber      -1.112994e-10\n",
       "view_count      -2.501110e-12\n",
       "dtype: float64"
      ]
     },
     "execution_count": 539,
     "metadata": {},
     "output_type": "execute_result"
    }
   ],
   "source": [
    "Xbzs.sum()"
   ]
  },
  {
   "cell_type": "code",
   "execution_count": 540,
   "id": "1035326b",
   "metadata": {},
   "outputs": [
    {
     "name": "stdout",
     "output_type": "stream",
     "text": [
      "                            OLS Regression Results                            \n",
      "==============================================================================\n",
      "Dep. Variable:             view_count   R-squared:                       0.003\n",
      "Model:                            OLS   Adj. R-squared:                  0.003\n",
      "Method:                 Least Squares   F-statistic:                     10.50\n",
      "Date:                Tue, 20 Dec 2022   Prob (F-statistic):           2.18e-16\n",
      "Time:                        12:42:23   Log-Likelihood:                -46435.\n",
      "No. Observations:               33451   AIC:                         9.289e+04\n",
      "Df Residuals:                   33441   BIC:                         9.297e+04\n",
      "Df Model:                           9                                         \n",
      "Covariance Type:            nonrobust                                         \n",
      "=================================================================================\n",
      "                    coef    std err          t      P>|t|      [0.025      0.975]\n",
      "---------------------------------------------------------------------------------\n",
      "Intercept        -0.0423      0.014     -2.954      0.003      -0.070      -0.014\n",
      "C(day_1)[T.1]     0.0427      0.020      2.127      0.033       0.003       0.082\n",
      "C(day_2)[T.1]     0.0374      0.020      1.841      0.066      -0.002       0.077\n",
      "C(day_3)[T.1]     0.0775      0.020      3.885      0.000       0.038       0.117\n",
      "C(day_4)[T.1]     0.0916      0.020      4.636      0.000       0.053       0.130\n",
      "C(day_5)[T.1]     0.0599      0.020      3.015      0.003       0.021       0.099\n",
      "C(day_6)[T.1]     0.0170      0.020      0.856      0.392      -0.022       0.056\n",
      "title_pos_scr    -0.0149      0.007     -2.103      0.035      -0.029      -0.001\n",
      "title_neg_scr     0.0204      0.007      2.860      0.004       0.006       0.034\n",
      "duration         -0.0239      0.006     -4.095      0.000      -0.035      -0.012\n",
      "==============================================================================\n",
      "Omnibus:                    69519.037   Durbin-Watson:                   0.789\n",
      "Prob(Omnibus):                  0.000   Jarque-Bera (JB):        499441218.203\n",
      "Skew:                          17.541   Prob(JB):                         0.00\n",
      "Kurtosis:                     600.580   Cond. No.                         10.2\n",
      "==============================================================================\n",
      "\n",
      "Notes:\n",
      "[1] Standard Errors assume that the covariance matrix of the errors is correctly specified.\n"
     ]
    }
   ],
   "source": [
    "# select the data for the model\n",
    "views_model_data = filtered_metadatas.loc[:,['title_pos_scr', 'title_neg_scr', 'title_neu_scr',\n",
    "                                             'duration', 'view_count']]\n",
    "# normalise the data\n",
    "xmean = np.mean(views_model_data,axis=0)\n",
    "xstd = np.std(views_model_data,axis=0)\n",
    "Xbzs = (views_model_data-xmean)/xstd\n",
    "\n",
    "Xbzs = Xbzs.join( pd.get_dummies(filtered_metadatas['weekNumber'], prefix='day') )\n",
    "\n",
    "# Declares the model\n",
    "mod = smf.ols(formula='view_count ~ title_pos_scr + title_neg_scr + duration + \\\n",
    "C(day_1) + C(day_2) + C(day_3) + C(day_4) + C(day_5) + C(day_6)', data=Xbzs)\n",
    "\n",
    "# Fits the model (find the optimal coefficients, adding a random seed ensures consistency)\n",
    "np.random.seed(2)\n",
    "res = mod.fit()\n",
    "\n",
    "# Print thes summary output provided by the library.\n",
    "print(res.summary())"
   ]
  },
  {
   "cell_type": "code",
   "execution_count": 541,
   "id": "57f03ed9",
   "metadata": {},
   "outputs": [
    {
     "name": "stdout",
     "output_type": "stream",
     "text": [
      "                            OLS Regression Results                            \n",
      "==============================================================================\n",
      "Dep. Variable:             like_count   R-squared:                       0.002\n",
      "Model:                            OLS   Adj. R-squared:                  0.002\n",
      "Method:                 Least Squares   F-statistic:                     7.347\n",
      "Date:                Tue, 20 Dec 2022   Prob (F-statistic):           8.96e-11\n",
      "Time:                        12:42:24   Log-Likelihood:                -48947.\n",
      "No. Observations:               33197   AIC:                         9.791e+04\n",
      "Df Residuals:                   33187   BIC:                         9.800e+04\n",
      "Df Model:                           9                                         \n",
      "Covariance Type:            nonrobust                                         \n",
      "=================================================================================\n",
      "                    coef    std err          t      P>|t|      [0.025      0.975]\n",
      "---------------------------------------------------------------------------------\n",
      "Intercept        -0.0310      0.016     -1.971      0.049      -0.062      -0.000\n",
      "C(day_1)[T.1]     0.0263      0.022      1.194      0.233      -0.017       0.069\n",
      "C(day_2)[T.1]     0.0683      0.022      3.063      0.002       0.025       0.112\n",
      "C(day_3)[T.1]     0.0468      0.022      2.143      0.032       0.004       0.090\n",
      "C(day_4)[T.1]     0.0399      0.022      1.842      0.066      -0.003       0.082\n",
      "C(day_5)[T.1]     0.0420      0.022      1.931      0.054      -0.001       0.085\n",
      "C(day_6)[T.1]     0.0053      0.022      0.245      0.806      -0.037       0.048\n",
      "title_pos_scr     0.0059      0.008      0.759      0.448      -0.009       0.021\n",
      "title_neg_scr     0.0402      0.008      5.140      0.000       0.025       0.055\n",
      "duration         -0.0156      0.006     -2.438      0.015      -0.028      -0.003\n",
      "==============================================================================\n",
      "Omnibus:                   106665.808   Durbin-Watson:                   0.492\n",
      "Prob(Omnibus):                  0.000   Jarque-Bera (JB):      20448536075.214\n",
      "Skew:                          53.084   Prob(JB):                         0.00\n",
      "Kurtosis:                    3846.454   Cond. No.                         10.2\n",
      "==============================================================================\n",
      "\n",
      "Notes:\n",
      "[1] Standard Errors assume that the covariance matrix of the errors is correctly specified.\n"
     ]
    }
   ],
   "source": [
    "# select the data for the model\n",
    "likes_model_data = filtered_metadatas.loc[:,['title_pos_scr', 'title_neg_scr', 'title_neu_scr',\n",
    "                                             'duration', 'like_count']]\n",
    "# normalise the data\n",
    "xmean = np.mean(likes_model_data,axis=0)\n",
    "xstd = np.std(likes_model_data,axis=0)\n",
    "Xbzs = (likes_model_data-xmean)/xstd\n",
    "\n",
    "Xbzs = Xbzs.join( pd.get_dummies(filtered_metadatas['weekNumber'], prefix='day') )\n",
    "\n",
    "# Declares the model\n",
    "mod = smf.ols(formula='like_count ~ title_pos_scr + title_neg_scr + duration + \\\n",
    "C(day_1) + C(day_2) + C(day_3) + C(day_4) + C(day_5) + C(day_6)', data=Xbzs)\n",
    "\n",
    "# Fits the model (find the optimal coefficients, adding a random seed ensures consistency)\n",
    "np.random.seed(2)\n",
    "res = mod.fit()\n",
    "\n",
    "# Print thes summary output provided by the library.\n",
    "print(res.summary())"
   ]
  },
  {
   "cell_type": "code",
   "execution_count": 542,
   "id": "0bf7ebbd",
   "metadata": {
    "scrolled": true
   },
   "outputs": [
    {
     "name": "stdout",
     "output_type": "stream",
     "text": [
      "                            OLS Regression Results                            \n",
      "==============================================================================\n",
      "Dep. Variable:          dislike_count   R-squared:                       0.003\n",
      "Model:                            OLS   Adj. R-squared:                  0.002\n",
      "Method:                 Least Squares   F-statistic:                     10.10\n",
      "Date:                Tue, 20 Dec 2022   Prob (F-statistic):           1.13e-15\n",
      "Time:                        12:42:24   Log-Likelihood:                -46783.\n",
      "No. Observations:               33197   AIC:                         9.359e+04\n",
      "Df Residuals:                   33187   BIC:                         9.367e+04\n",
      "Df Model:                           9                                         \n",
      "Covariance Type:            nonrobust                                         \n",
      "=================================================================================\n",
      "                    coef    std err          t      P>|t|      [0.025      0.975]\n",
      "---------------------------------------------------------------------------------\n",
      "Intercept        -0.0493      0.015     -3.345      0.001      -0.078      -0.020\n",
      "C(day_1)[T.1]     0.0366      0.021      1.776      0.076      -0.004       0.077\n",
      "C(day_2)[T.1]     0.0589      0.021      2.819      0.005       0.018       0.100\n",
      "C(day_3)[T.1]     0.0639      0.020      3.118      0.002       0.024       0.104\n",
      "C(day_4)[T.1]     0.1072      0.020      5.283      0.000       0.067       0.147\n",
      "C(day_5)[T.1]     0.0426      0.020      2.091      0.037       0.003       0.083\n",
      "C(day_6)[T.1]     0.0443      0.020      2.167      0.030       0.004       0.084\n",
      "title_pos_scr    -0.0173      0.007     -2.383      0.017      -0.032      -0.003\n",
      "title_neg_scr     0.0248      0.007      3.387      0.001       0.010       0.039\n",
      "duration         -0.0079      0.006     -1.319      0.187      -0.020       0.004\n",
      "==============================================================================\n",
      "Omnibus:                    85461.606   Durbin-Watson:                   0.772\n",
      "Prob(Omnibus):                  0.000   Jarque-Bera (JB):       2590769543.933\n",
      "Skew:                          29.322   Prob(JB):                         0.00\n",
      "Kurtosis:                    1370.324   Cond. No.                         10.2\n",
      "==============================================================================\n",
      "\n",
      "Notes:\n",
      "[1] Standard Errors assume that the covariance matrix of the errors is correctly specified.\n"
     ]
    }
   ],
   "source": [
    "# select the data for the model\n",
    "dislikes_model_data = filtered_metadatas.loc[:,['title_pos_scr', 'title_neg_scr', 'title_neu_scr',\n",
    "                                                'duration', 'dislike_count']]\n",
    "# normalise the data\n",
    "xmean = np.mean(dislikes_model_data,axis=0)\n",
    "xstd = np.std(dislikes_model_data,axis=0)\n",
    "Xbzs = (dislikes_model_data-xmean)/xstd\n",
    "\n",
    "Xbzs = Xbzs.join( pd.get_dummies(filtered_metadatas['weekNumber'], prefix='day') )\n",
    "\n",
    "# Declares the model\n",
    "mod = smf.ols(formula='dislike_count ~ title_pos_scr + title_neg_scr + duration + \\\n",
    "C(day_1) + C(day_2) + C(day_3) + C(day_4) + C(day_5) + C(day_6)', data=Xbzs)\n",
    "\n",
    "# Fits the model (find the optimal coefficients, adding a random seed ensures consistency)\n",
    "np.random.seed(2)\n",
    "res = mod.fit()\n",
    "\n",
    "# Print thes summary output provided by the library.\n",
    "print(res.summary())"
   ]
  },
  {
   "cell_type": "code",
   "execution_count": null,
   "id": "1bd0c873",
   "metadata": {},
   "outputs": [],
   "source": []
  },
  {
   "cell_type": "markdown",
   "id": "65e28dae",
   "metadata": {},
   "source": [
    "### Analyze the effect of the Capitalize words in title"
   ]
  },
  {
   "cell_type": "markdown",
   "id": "8e0c50ee",
   "metadata": {},
   "source": [
    "Lets implement the sub question 2, the goal is to find a relation btw the number of views and the titles (length, sentiment, casefold, etc...). For that an observational studies would be highly recommended to compare what is comparable. For that we will keep the channel id to see the number of subs of the channel and compare pairwise similar nb of subs. \n"
   ]
  },
  {
   "cell_type": "code",
   "execution_count": 543,
   "id": "cb21aab4",
   "metadata": {},
   "outputs": [],
   "source": [
    "title_metadatas = pd.read_feather(\"./data/yt_metadata_title_filtered.feather\")"
   ]
  },
  {
   "cell_type": "code",
   "execution_count": 544,
   "id": "e14e378a",
   "metadata": {},
   "outputs": [
    {
     "data": {
      "text/html": [
       "<div>\n",
       "<style scoped>\n",
       "    .dataframe tbody tr th:only-of-type {\n",
       "        vertical-align: middle;\n",
       "    }\n",
       "\n",
       "    .dataframe tbody tr th {\n",
       "        vertical-align: top;\n",
       "    }\n",
       "\n",
       "    .dataframe thead th {\n",
       "        text-align: right;\n",
       "    }\n",
       "</style>\n",
       "<table border=\"1\" class=\"dataframe\">\n",
       "  <thead>\n",
       "    <tr style=\"text-align: right;\">\n",
       "      <th></th>\n",
       "      <th>display_id</th>\n",
       "      <th>title</th>\n",
       "    </tr>\n",
       "  </thead>\n",
       "  <tbody>\n",
       "    <tr>\n",
       "      <th>0</th>\n",
       "      <td>M0x6TJmMwL4</td>\n",
       "      <td>Blasphemous is Amazing!</td>\n",
       "    </tr>\n",
       "    <tr>\n",
       "      <th>1</th>\n",
       "      <td>ofAIp6dad00</td>\n",
       "      <td>I review all 42 Genesis Mini games</td>\n",
       "    </tr>\n",
       "  </tbody>\n",
       "</table>\n",
       "</div>"
      ],
      "text/plain": [
       "    display_id                               title\n",
       "0  M0x6TJmMwL4             Blasphemous is Amazing!\n",
       "1  ofAIp6dad00  I review all 42 Genesis Mini games"
      ]
     },
     "execution_count": 544,
     "metadata": {},
     "output_type": "execute_result"
    }
   ],
   "source": [
    "title_metadatas.drop([\"index\", \"categories\"], axis=1, inplace=True)\n",
    "title_metadatas.head(2)"
   ]
  },
  {
   "cell_type": "code",
   "execution_count": null,
   "id": "fa1d0100",
   "metadata": {},
   "outputs": [],
   "source": [
    "metadatas = pd.merge(video_metadatas, title_metadatas, on=\"display_id\")"
   ]
  },
  {
   "cell_type": "markdown",
   "id": "e1391ead",
   "metadata": {},
   "source": [
    "Distribution of weekdays upload dates"
   ]
  },
  {
   "cell_type": "code",
   "execution_count": null,
   "id": "b9963906",
   "metadata": {},
   "outputs": [],
   "source": [
    "metadatas.weekNumber.value_counts().plot(kind='bar')\n",
    "plt.title(\"Distribution of the weekdays upload dates\")\n",
    "plt.xlabel(\"Week day\")\n",
    "plt.ylabel(\"Number of videos\")"
   ]
  },
  {
   "cell_type": "code",
   "execution_count": 545,
   "id": "67ed8e45",
   "metadata": {},
   "outputs": [],
   "source": [
    "# we need to improve the hw1 method a bit because we want to make sure that titles with a lot of spaces\n",
    "# don't have too many words and if there is a typo (e.g \"Welcome,in my video\" should be counted as 4 words and not 3)\n",
    "def count_words(x: str):\n",
    "    new_x = x.replace(\",\", \" \")\n",
    "    # change anything that isn’t an alphanumeric character or whitespace, and replaces it with a space\n",
    "    new_x = re.sub(r\"[^\\w\\s]\", \" \", new_x)\n",
    "    # Change many consecutive spaces into a single space\n",
    "    new_x = re.sub(\" +\", \" \", new_x)\n",
    "    # delete begin/end spaces\n",
    "    new_x = new_x.strip()\n",
    "    return len(new_x.split(\" \"))\n",
    "\n",
    "\n",
    "def get_freq_capital_words(sentence: str):\n",
    "    new_x = sentence.replace(\",\", \" \")\n",
    "    # change anything that isn’t an alphanumeric character or whitespace, and replaces it with a space\n",
    "    new_x = re.sub(r\"[^\\w\\s]\", \" \", new_x)\n",
    "    # Change many consecutive spaces into a single space\n",
    "    new_x = re.sub(\" +\", \" \", new_x)\n",
    "    # delete begin/end spaces\n",
    "    new_x = new_x.strip().split(\" \")\n",
    "    nb_capital_words = 0\n",
    "    for word in new_x:\n",
    "        if word.isupper():\n",
    "            nb_capital_words += 1\n",
    "    return nb_capital_words / len(new_x)"
   ]
  },
  {
   "cell_type": "code",
   "execution_count": null,
   "id": "c2df4c80",
   "metadata": {},
   "outputs": [],
   "source": [
    "# test the function\n",
    "print(count_words(\"Salut     je suis la\"))\n",
    "print(count_words(\"Salut,je suis la\"))\n",
    "print(count_words(\"#FuckCancer | I'VE GOT SOME GREAT NEWS!\"))\n",
    "print(count_words(\"DISNEY CHRISTMAS VLOG! || Zak Longo\"))\n",
    "print(count_words(\"Sims 4 - SHOOTING SIMS WITH A GUN - The Sims 4\"))\n",
    "print(count_words(\"###ADA#ada##\"))\n",
    "\n",
    "# test capitalize words function\n",
    "print(get_freq_capital_words(\"Sims 4 - SHOOTING SIMS WITH A GUN - The Sims 4\"))\n",
    "print(get_freq_capital_words(\"###ADA###salut|||test&SALUT\"))"
   ]
  },
  {
   "cell_type": "code",
   "execution_count": 546,
   "id": "a5128965",
   "metadata": {},
   "outputs": [],
   "source": [
    "video_metadatas[\"title_nb_words\"] = title_metadatas.title.apply(\n",
    "    lambda title: count_words(title)\n",
    ")\n",
    "\n",
    "\n",
    "video_metadatas[\"freq_capitalize_words\"] = title_metadatas.title.apply(\n",
    "    lambda title: get_freq_capital_words(title)\n",
    ")"
   ]
  },
  {
   "cell_type": "code",
   "execution_count": 547,
   "id": "bce87c54",
   "metadata": {},
   "outputs": [
    {
     "data": {
      "text/plain": [
       "Text(0, 0.5, 'nb of titles')"
      ]
     },
     "execution_count": 547,
     "metadata": {},
     "output_type": "execute_result"
    },
    {
     "data": {
      "image/png": "[encoded data removed]",
      "text/plain": [
       "<Figure size 432x288 with 1 Axes>"
      ]
     },
     "metadata": {
      "needs_background": "light"
     },
     "output_type": "display_data"
    }
   ],
   "source": [
    "# distrib of the freq capitalize words.\n",
    "# process for the plot\n",
    "freq_capit_words = round(video_metadatas.freq_capitalize_words, 1)\n",
    "values_counts = freq_capit_words.value_counts().sort_index()\n",
    "values_counts.plot(kind=\"bar\")\n",
    "plt.title(\"distrib. of the freq. of capitalize words\")\n",
    "plt.xlabel(\"frequencies of upper word\")\n",
    "plt.ylabel(\"nb of titles\")"
   ]
  },
  {
   "cell_type": "code",
   "execution_count": 548,
   "id": "873301e1",
   "metadata": {},
   "outputs": [],
   "source": [
    "binary_freq_df = video_metadatas[\n",
    "    (video_metadatas.freq_capitalize_words == 0)\n",
    "    | (video_metadatas.freq_capitalize_words == 1)\n",
    "]\n",
    "\n",
    "no_upper_word_df = binary_freq_df[binary_freq_df[\"freq_capitalize_words\"] == 0]\n",
    "full_upper_word_df = binary_freq_df[binary_freq_df[\"freq_capitalize_words\"] == 1]"
   ]
  },
  {
   "cell_type": "code",
   "execution_count": 549,
   "id": "889f721e",
   "metadata": {},
   "outputs": [
    {
     "name": "stdout",
     "output_type": "stream",
     "text": [
      "                            OLS Regression Results                            \n",
      "==============================================================================\n",
      "Dep. Variable:         view_count_log   R-squared:                       0.000\n",
      "Model:                            OLS   Adj. R-squared:                  0.000\n",
      "Method:                 Least Squares   F-statistic:                     4.451\n",
      "Date:                Tue, 20 Dec 2022   Prob (F-statistic):             0.0117\n",
      "Time:                        12:42:59   Log-Likelihood:            -2.4600e+05\n",
      "No. Observations:              105487   AIC:                         4.920e+05\n",
      "Df Residuals:                  105484   BIC:                         4.920e+05\n",
      "Df Model:                           2                                         \n",
      "Covariance Type:            nonrobust                                         \n",
      "=========================================================================================\n",
      "                            coef    std err          t      P>|t|      [0.025      0.975]\n",
      "-----------------------------------------------------------------------------------------\n",
      "Intercept                 8.8154      0.021    419.070      0.000       8.774       8.857\n",
      "title_nb_words           -0.0051      0.002     -2.389      0.017      -0.009      -0.001\n",
      "freq_capitalize_words     0.0499      0.026      1.955      0.051      -0.000       0.100\n",
      "==============================================================================\n",
      "Omnibus:                       32.605   Durbin-Watson:                   0.399\n",
      "Prob(Omnibus):                  0.000   Jarque-Bera (JB):               31.365\n",
      "Skew:                           0.026   Prob(JB):                     1.55e-07\n",
      "Kurtosis:                       2.934   Cond. No.                         33.3\n",
      "==============================================================================\n",
      "\n",
      "Notes:\n",
      "[1] Standard Errors assume that the covariance matrix of the errors is correctly specified.\n"
     ]
    }
   ],
   "source": [
    "video_metadatas[\"view_count_log\"] = np.log(\n",
    "    video_metadatas.view_count, where=video_metadatas.view_count != 0\n",
    ")\n",
    "mod = smf.ols(\n",
    "    formula=\"view_count_log ~ title_nb_words + freq_capitalize_words\",\n",
    "    data=video_metadatas,\n",
    ")\n",
    "res = mod.fit()\n",
    "print(res.summary())"
   ]
  },
  {
   "cell_type": "code",
   "execution_count": 550,
   "id": "9b871896",
   "metadata": {},
   "outputs": [],
   "source": [
    "metadatas[\"title_nb_words\"] = metadatas.title.apply(lambda title: count_words(title))"
   ]
  },
  {
   "cell_type": "code",
   "execution_count": null,
   "id": "b133f06b",
   "metadata": {},
   "outputs": [],
   "source": [
    "metadatas[\"freq_capitalize_words\"] = metadatas.title.apply(\n",
    "    lambda title: get_freq_capital_words(title)\n",
    ")"
   ]
  },
  {
   "cell_type": "code",
   "execution_count": 551,
   "id": "bfe861c1",
   "metadata": {},
   "outputs": [
    {
     "data": {
      "text/html": [
       "<div>\n",
       "<style scoped>\n",
       "    .dataframe tbody tr th:only-of-type {\n",
       "        vertical-align: middle;\n",
       "    }\n",
       "\n",
       "    .dataframe tbody tr th {\n",
       "        vertical-align: top;\n",
       "    }\n",
       "\n",
       "    .dataframe thead th {\n",
       "        text-align: right;\n",
       "    }\n",
       "</style>\n",
       "<table border=\"1\" class=\"dataframe\">\n",
       "  <thead>\n",
       "    <tr style=\"text-align: right;\">\n",
       "      <th></th>\n",
       "      <th>categories</th>\n",
       "      <th>upload_date</th>\n",
       "      <th>duration</th>\n",
       "      <th>like_count</th>\n",
       "      <th>dislike_count</th>\n",
       "      <th>view_count</th>\n",
       "      <th>channel_id</th>\n",
       "      <th>display_id</th>\n",
       "      <th>yearNumber</th>\n",
       "      <th>weekNumber</th>\n",
       "      <th>...</th>\n",
       "      <th>title_neg_scr</th>\n",
       "      <th>title_neu_scr</th>\n",
       "      <th>title_com_scr</th>\n",
       "      <th>pos_vid</th>\n",
       "      <th>neg_vid</th>\n",
       "      <th>neu_vid</th>\n",
       "      <th>title_nb_words</th>\n",
       "      <th>freq_capitalize_words</th>\n",
       "      <th>view_count_log</th>\n",
       "      <th>title</th>\n",
       "    </tr>\n",
       "  </thead>\n",
       "  <tbody>\n",
       "    <tr>\n",
       "      <th>1297464</th>\n",
       "      <td>Gaming</td>\n",
       "      <td>2018-02-27</td>\n",
       "      <td>939</td>\n",
       "      <td>859.0</td>\n",
       "      <td>20.0</td>\n",
       "      <td>69222.0</td>\n",
       "      <td>UCSaYdglie5rmyskw1kbusbg</td>\n",
       "      <td>x5bRVEpMnJY</td>\n",
       "      <td>2018</td>\n",
       "      <td>1</td>\n",
       "      <td>...</td>\n",
       "      <td>0.116</td>\n",
       "      <td>0.64</td>\n",
       "      <td>0.4939</td>\n",
       "      <td>False</td>\n",
       "      <td>False</td>\n",
       "      <td>True</td>\n",
       "      <td>NaN</td>\n",
       "      <td>NaN</td>\n",
       "      <td>11.145074</td>\n",
       "      <td>Best Twitch Dota 2 Stream Moments #174 ft canc...</td>\n",
       "    </tr>\n",
       "  </tbody>\n",
       "</table>\n",
       "<p>1 rows × 22 columns</p>\n",
       "</div>"
      ],
      "text/plain": [
       "        categories upload_date  duration  like_count  dislike_count  \\\n",
       "1297464     Gaming  2018-02-27       939       859.0           20.0   \n",
       "\n",
       "         view_count                channel_id   display_id  yearNumber  \\\n",
       "1297464     69222.0  UCSaYdglie5rmyskw1kbusbg  x5bRVEpMnJY        2018   \n",
       "\n",
       "         weekNumber  ...  title_neg_scr  title_neu_scr  title_com_scr  \\\n",
       "1297464           1  ...          0.116           0.64         0.4939   \n",
       "\n",
       "         pos_vid  neg_vid  neu_vid  title_nb_words  freq_capitalize_words  \\\n",
       "1297464    False    False     True             NaN                    NaN   \n",
       "\n",
       "         view_count_log                                              title  \n",
       "1297464       11.145074  Best Twitch Dota 2 Stream Moments #174 ft canc...  \n",
       "\n",
       "[1 rows x 22 columns]"
      ]
     },
     "execution_count": 551,
     "metadata": {},
     "output_type": "execute_result"
    }
   ],
   "source": [
    "metadatas.sample()"
   ]
  },
  {
   "cell_type": "code",
   "execution_count": null,
   "id": "837fcaf8",
   "metadata": {},
   "outputs": [],
   "source": [
    "# distrib of the freq capitalize words.\n",
    "# process for the plot\n",
    "freq_capit_words = round(metadatas.freq_capitalize_words, 1)\n",
    "values_counts = freq_capit_words.value_counts().sort_index()\n",
    "values_counts.plot(kind=\"bar\")\n",
    "plt.title(\"distrib. of the freq. of capitalize words\")\n",
    "plt.xlabel(\"frequencies of upper word\")\n",
    "plt.ylabel(\"nb of titles\")"
   ]
  },
  {
   "cell_type": "code",
   "execution_count": null,
   "id": "c2832571",
   "metadata": {},
   "outputs": [],
   "source": [
    "binary_freq_df = metadatas[\n",
    "    (metadatas.freq_capitalize_words == 0) | (metadatas.freq_capitalize_words == 1)\n",
    "]\n",
    "\n",
    "no_upper_word_df = binary_freq_df[binary_freq_df[\"freq_capitalize_words\"] == 0]\n",
    "full_upper_word_df = binary_freq_df[binary_freq_df[\"freq_capitalize_words\"] == 1]\n",
    "\n",
    "print(\"# of full upper words title\", full_upper_word_df.shape)\n",
    "print(\"# of full lower words title\", no_upper_word_df.shape)"
   ]
  },
  {
   "cell_type": "code",
   "execution_count": null,
   "id": "fb1815c5",
   "metadata": {},
   "outputs": [],
   "source": [
    "# get the\n",
    "video_metadatas.head(2)"
   ]
  },
  {
   "cell_type": "code",
   "execution_count": null,
   "id": "a7fbab32",
   "metadata": {},
   "outputs": [],
   "source": [
    "metadatas[\"view_count_log\"] = np.log(\n",
    "    metadatas.view_count, where=metadatas.view_count != 0\n",
    ")\n",
    "mod = smf.ols(\n",
    "    formula=\"view_count_log ~ title_nb_words + freq_capitalize_words\", data=metadatas\n",
    ")\n",
    "res = mod.fit()\n",
    "print(res.summary())"
   ]
  },
  {
   "cell_type": "markdown",
   "id": "b604283d",
   "metadata": {},
   "source": [
    "The frequence of capitalize words in the titles is significant and it increases the number of views on the video.\n",
    "The number of words in the title is significant, however it doesnt seem to have a real impact on the number of views.\n",
    "\n",
    "Now match and compare the channels with ~ the same nb of subscribers"
   ]
  },
  {
   "cell_type": "code",
   "execution_count": null,
   "id": "5adb5b0b",
   "metadata": {},
   "outputs": [],
   "source": [
    "sample_channels = df_channels[\n",
    "    (df_channels.subscribers_cc > 100_000) & (df_channels.subscribers_cc < 500_000)\n",
    "]\n",
    "sample_channels.shape"
   ]
  },
  {
   "cell_type": "code",
   "execution_count": null,
   "id": "1e28c4bc",
   "metadata": {},
   "outputs": [],
   "source": [
    "sample_metadatas = metadatas[metadatas.channel_id.isin(sample_channels.channel)]\n",
    "\n",
    "print(sample_metadatas.shape)\n",
    "len(sample_metadatas.groupby(\"channel_id\").count())"
   ]
  },
  {
   "cell_type": "code",
   "execution_count": null,
   "id": "71074029",
   "metadata": {},
   "outputs": [],
   "source": [
    "freq_capit_words = round(sample_metadatas.freq_capitalize_words, 1)\n",
    "values_counts = freq_capit_words.value_counts().sort_index()\n",
    "values_counts.plot(kind=\"bar\")\n",
    "plt.title(\"distrib. of the freq. of capitalize words\")\n",
    "plt.xlabel(\"frequencies of upper word\")\n",
    "plt.ylabel(\"nb of titles\")"
   ]
  },
  {
   "cell_type": "code",
   "execution_count": null,
   "id": "5f1e8b34",
   "metadata": {},
   "outputs": [],
   "source": [
    "binary_freq_df = sample_metadatas[\n",
    "    (sample_metadatas.freq_capitalize_words == 0)\n",
    "    | (sample_metadatas.freq_capitalize_words == 1)\n",
    "]\n",
    "\n",
    "full_upper_word_df = binary_freq_df[binary_freq_df[\"freq_capitalize_words\"] == 1]\n",
    "no_upper_word_df = binary_freq_df[binary_freq_df[\"freq_capitalize_words\"] == 0]\n",
    "\n",
    "print(\"# of full upper words title\", full_upper_word_df.shape)\n",
    "print(\"# of full lower words title\", no_upper_word_df.shape)"
   ]
  },
  {
   "cell_type": "code",
   "execution_count": null,
   "id": "fcafaea8",
   "metadata": {},
   "outputs": [],
   "source": [
    "# select random rows of full lower words title to get same size of dataset\n",
    "no_upper_word_df = no_upper_word_df.sample(n=full_upper_word_df.shape[0])\n",
    "\n",
    "no_upper_word_df.shape\n",
    "\n",
    "frames = [full_upper_word_df, no_upper_word_df]\n",
    "\n",
    "dffff = pd.concat(frames)\n",
    "\n",
    "dffff.shape"
   ]
  },
  {
   "cell_type": "code",
   "execution_count": null,
   "id": "8621870b",
   "metadata": {},
   "outputs": [],
   "source": [
    "mod = smf.ols(\n",
    "    formula=\"view_count_log ~ title_nb_words + freq_capitalize_words\", data=dffff\n",
    ")\n",
    "res = mod.fit()\n",
    "print(res.summary())"
   ]
  },
  {
   "cell_type": "markdown",
   "id": "0eb8862f",
   "metadata": {},
   "source": [
    "Lets plot the upper and lowers title for big channels (> 100 000 subs) and others."
   ]
  },
  {
   "cell_type": "code",
   "execution_count": null,
   "id": "72cecd9d",
   "metadata": {},
   "outputs": [],
   "source": [
    "big_channels = df_channels[df_channels.subscribers_cc > 100_000]\n",
    "little_channels = df_channels[df_channels.subscribers_cc <= 100_000]\n",
    "\n",
    "print(big_channels.shape)\n",
    "print(little_channels.shape)\n",
    "print(len(metadatas.groupby(\"channel_id\").count()))\n",
    "big_channels.sample()"
   ]
  },
  {
   "cell_type": "code",
   "execution_count": null,
   "id": "266fa5bd",
   "metadata": {},
   "outputs": [],
   "source": [
    "big_videos_meta = metadatas[metadatas.channel_id.isin(big_channels.channel)]\n",
    "little_videos_meta = metadatas[metadatas.channel_id.isin(little_channels.channel)]"
   ]
  },
  {
   "cell_type": "code",
   "execution_count": null,
   "id": "8091a84c",
   "metadata": {},
   "outputs": [],
   "source": [
    "print(big_videos_meta.freq_capitalize_words.mean())\n",
    "print(little_videos_meta.freq_capitalize_words.mean())"
   ]
  },
  {
   "cell_type": "code",
   "execution_count": null,
   "id": "468d0647",
   "metadata": {},
   "outputs": [],
   "source": []
  },
  {
   "cell_type": "markdown",
   "id": "5894abc1",
   "metadata": {},
   "source": [
    "### Sub-Question 3\n",
    "\n",
    "**Description:** Can we predict the channel's success based on channel information, including average video length, upload frequency, usual time of uploads, categories of videos uploaded, positive/negative sentiments of the title, person pronouns to address the viewers, the number of words in the title, and the number of tags used?  \n",
    "**Method:** We can implement kNN method or Random Forests to train the dataset.  \n",
    "**Timeline:** By 13/12/2022  \n",
    "**Organization:** Dorothee  "
   ]
  },
  {
   "cell_type": "code",
   "execution_count": null,
   "id": "94a8fe62",
   "metadata": {},
   "outputs": [],
   "source": [
    "video_metadatas[\"duration_min\"] = video_metadatas[\"duration\"] / 60\n"
   ]
  },
  {
   "cell_type": "markdown",
   "id": "93d004d2",
   "metadata": {},
   "source": [
    "Add a column to know the day of the week of the upload date for the video"
   ]
  },
  {
   "cell_type": "code",
   "execution_count": null,
   "id": "e28be94e",
   "metadata": {},
   "outputs": [],
   "source": [
    "video_metadatas[\"week_number_mean\"] = video_metadatas.groupby(\"channel_id\")[\n",
    "    \"weekNumber\"\n",
    "].transform(\"mean\")\n",
    "\n",
    "video_metadatas[\"week_number_mean\"] = video_metadatas[\"week_number_mean\"].astype(\"int\")\n",
    "video_metadatas[\"mean_duration_min\"] = video_metadatas.groupby(\"channel_id\")[\n",
    "    \"duration_min\"\n",
    "].transform(\"mean\")"
   ]
  },
  {
   "cell_type": "code",
   "execution_count": null,
   "id": "8c73f4b2",
   "metadata": {},
   "outputs": [],
   "source": [
    "def get_nb_unique_cat(x):\n",
    "    return x.nunique()\n",
    "\n",
    "\n",
    "def get_cat(x):\n",
    "    return list(x.unique())"
   ]
  },
  {
   "cell_type": "code",
   "execution_count": null,
   "id": "686f6e1e",
   "metadata": {},
   "outputs": [],
   "source": [
    "video_metadatas[\"nb_diff_cat\"] = video_metadatas.groupby(\"channel_id\")[\n",
    "    \"categories\"\n",
    "].transform(get_nb_unique_cat)\n",
    "\n",
    "cat_per_channels = (\n",
    "    video_metadatas.groupby(\"channel_id\")[\"categories\"].unique().to_frame()\n",
    ")"
   ]
  },
  {
   "cell_type": "code",
   "execution_count": null,
   "id": "66c3965b",
   "metadata": {},
   "outputs": [],
   "source": [
    "cat_per_channels = cat_per_channels.reset_index()\n",
    "cat_per_channels = cat_per_channels.rename({\"categories\": \"covered_categories\"}, axis=1)\n",
    "cat_per_channels.head(2)"
   ]
  },
  {
   "cell_type": "code",
   "execution_count": null,
   "id": "1c63970c",
   "metadata": {},
   "outputs": [],
   "source": [
    "video_metadatas = pd.merge(video_metadatas, cat_per_channels, on=\"channel_id\")"
   ]
  },
  {
   "cell_type": "code",
   "execution_count": null,
   "id": "e66582a5",
   "metadata": {},
   "outputs": [],
   "source": [
    "# group by channels and week of upload date to calculate the mean upload frequencies of the channels\n",
    "grouped = video_metadatas.groupby(\n",
    "    [\"channel_id\", pd.Grouper(key=\"upload_date\", freq=\"W\")]\n",
    ").size()"
   ]
  },
  {
   "cell_type": "code",
   "execution_count": null,
   "id": "91fb7042",
   "metadata": {},
   "outputs": [],
   "source": [
    "week_frequency_mean = (\n",
    "    grouped.groupby(level=\"channel_id\").mean().to_frame().reset_index()\n",
    ")\n",
    "week_frequency_mean = week_frequency_mean.rename(columns={0: \"week_frequency_mean\"})\n",
    "video_metadatas = pd.merge(video_metadatas, week_frequency_mean, on=\"channel_id\")\n",
    "week_frequency_mean"
   ]
  },
  {
   "cell_type": "code",
   "execution_count": null,
   "id": "8db8035c",
   "metadata": {},
   "outputs": [],
   "source": [
    "video_metadatas[\"title_com_scr_mean\"] = video_metadatas.groupby(\"channel_id\")[\n",
    "    \"title_com_scr\"\n",
    "].transform(\"mean\")"
   ]
  },
  {
   "cell_type": "code",
   "execution_count": null,
   "id": "10601643",
   "metadata": {},
   "outputs": [],
   "source": [
    "video_metadatas[\"title_nb_words_mean\"] = video_metadatas.groupby(\"channel_id\")[\n",
    "    \"title_nb_words\"\n",
    "].transform(\"mean\")"
   ]
  },
  {
   "cell_type": "code",
   "execution_count": null,
   "id": "5ac8d562",
   "metadata": {},
   "outputs": [],
   "source": [
    "video_metadatas = pd.read_feather(\"./data/videos_metadatas_sub_quest_3_v2\")\n",
    "\n",
    "print(video_metadatas.shape)\n",
    "video_metadatas.head()"
   ]
  },
  {
   "cell_type": "markdown",
   "id": "bb71b401",
   "metadata": {},
   "source": [
    "Now find the pronouns in the title"
   ]
  },
  {
   "cell_type": "code",
   "execution_count": null,
   "id": "1a6d8d63",
   "metadata": {},
   "outputs": [],
   "source": [
    "feature_wordsets = dict(\n",
    "    [\n",
    "        # https://en.wikipedia.org/wiki/English_personal_pronouns\n",
    "        (\n",
    "            \"first_person_singular\",\n",
    "            [\n",
    "                \"i\",\n",
    "                \"me\",\n",
    "                \"my\",\n",
    "                \"mine\",\n",
    "                \"myself\",\n",
    "                \"i'd\",\n",
    "                \"i'll\",\n",
    "                \"i'm\",\n",
    "                \"i've\",\n",
    "                \"id\",\n",
    "                \"im\",\n",
    "                \"ive\",\n",
    "            ],\n",
    "        ),\n",
    "        (\n",
    "            \"first_person_plural\",\n",
    "            [\n",
    "                \"we\",\n",
    "                \"us\",\n",
    "                \"our\",\n",
    "                \"ours\",\n",
    "                \"ourselves\",\n",
    "                \"we'd\",\n",
    "                \"we'll\",\n",
    "                \"we're\",\n",
    "                \"we've\",\n",
    "            ],\n",
    "        ),\n",
    "        (\n",
    "            \"second_person\",\n",
    "            [\n",
    "                \"you\",\n",
    "                \"your\",\n",
    "                \"yours\",\n",
    "                \"yourself\",\n",
    "                \"ya\",\n",
    "                \"you'd\",\n",
    "                \"you'll\",\n",
    "                \"you're\",\n",
    "                \"you've\",\n",
    "                \"youll\",\n",
    "                \"youre\",\n",
    "                \"youve\",\n",
    "                \"yourselves\",\n",
    "            ],\n",
    "        ),\n",
    "        (\n",
    "            \"third_person_singular\",\n",
    "            [\n",
    "                \"he\",\n",
    "                \"him\",\n",
    "                \"his\",\n",
    "                \"himself\",\n",
    "                \"he'd\",\n",
    "                \"he's\",\n",
    "                \"hes\",\n",
    "                \"she\",\n",
    "                \"her\",\n",
    "                \"hers\",\n",
    "                \"herself\",\n",
    "                \"she'll\",\n",
    "                \"she's\",\n",
    "                \"shes\",\n",
    "                \"it\",\n",
    "                \"its\",\n",
    "                \"itself\",\n",
    "                \"themself\",\n",
    "            ],\n",
    "        ),\n",
    "        (\n",
    "            \"third_person_plural\",\n",
    "            [\n",
    "                \"they\",\n",
    "                \"them\",\n",
    "                \"their\",\n",
    "                \"theirs\",\n",
    "                \"themselves\",\n",
    "                \"they'd\",\n",
    "                \"they'll\",\n",
    "                \"they've\",\n",
    "                \"theyll\",\n",
    "                \"theyve\",\n",
    "            ],\n",
    "        ),\n",
    "    ]\n",
    ")"
   ]
  },
  {
   "cell_type": "code",
   "execution_count": null,
   "id": "b70d6a75",
   "metadata": {},
   "outputs": [],
   "source": [
    "def get_new_columns_pronouns(feature_wordsets, df, colname):\n",
    "    dict_pronoun_list = dict(\n",
    "        [\n",
    "            (\"first_person_singular\", []),\n",
    "            (\"first_person_plural\", []),\n",
    "            (\"second_person\", []),\n",
    "            (\"third_person_singular\", []),\n",
    "            (\"third_person_plural\", []),\n",
    "        ]\n",
    "    )\n",
    "    for headline in df[colname]:\n",
    "        headline = headline.lower()\n",
    "        for key in feature_wordsets.keys():\n",
    "            # if a word corresponding to a pronoun is present in the headline,\n",
    "            # then add 1 to this pronoun list (column) otherwise add 0\n",
    "            if any(\n",
    "                re.search(r\"\\b\" + pronoun + r\"\\b\", headline)\n",
    "                for pronoun in feature_wordsets[key]\n",
    "            ):\n",
    "                dict_pronoun_list[key].append(1)\n",
    "            else:\n",
    "                dict_pronoun_list[key].append(0)\n",
    "    return dict_pronoun_list\n",
    "\n",
    "\n",
    "dict_pronoun_list = get_new_columns_pronouns(feature_wordsets, title_metadatas, \"title\")\n",
    "\n",
    "# create the new columns in our dataframe\n",
    "for col in dict_pronoun_list.keys():\n",
    "    title_metadatas[col] = dict_pronoun_list[col]\n",
    "title_metadatas.head(3)"
   ]
  },
  {
   "cell_type": "code",
   "execution_count": null,
   "id": "114c4e30",
   "metadata": {},
   "outputs": [],
   "source": [
    "title_metadatas_without_titles = title_metadatas.drop(\"title\", axis=1)\n",
    "title_metadatas_without_titles\n",
    "\n",
    "video_metadatas = pd.merge(\n",
    "    video_metadatas, title_metadatas_without_titles, on=\"display_id\"\n",
    ")"
   ]
  },
  {
   "cell_type": "code",
   "execution_count": null,
   "id": "1834a0d3",
   "metadata": {},
   "outputs": [],
   "source": []
  },
  {
   "cell_type": "code",
   "execution_count": null,
   "id": "582e8d60",
   "metadata": {},
   "outputs": [],
   "source": []
  },
  {
   "cell_type": "code",
   "execution_count": null,
   "id": "def225be",
   "metadata": {},
   "outputs": [],
   "source": []
  },
  {
   "cell_type": "code",
   "execution_count": null,
   "id": "c0c1531f",
   "metadata": {},
   "outputs": [],
   "source": []
  },
  {
   "cell_type": "code",
   "execution_count": null,
   "id": "aad9224a",
   "metadata": {},
   "outputs": [],
   "source": []
  },
  {
   "cell_type": "code",
   "execution_count": null,
   "id": "0e4b0e35",
   "metadata": {},
   "outputs": [],
   "source": [
    "df_channels_filtered = df_channels[[\"channel\", \"subscriber_rank_sb\", \"videos_cc\"]]\n",
    "\n",
    "df_channels_filtered = df_channels_filtered.rename({\"channel\": \"channel_id\"}, axis=1)\n",
    "df_channels_filtered"
   ]
  },
  {
   "cell_type": "code",
   "execution_count": null,
   "id": "01b13d21",
   "metadata": {},
   "outputs": [],
   "source": [
    "full_metadatas = pd.read_feather(\"./data/videos_metadatas_sub_quest_3_v2\")\n",
    "pd.options.display.max_columns = None\n",
    "full_metadatas.head()"
   ]
  },
  {
   "cell_type": "code",
   "execution_count": null,
   "id": "129f22af",
   "metadata": {},
   "outputs": [],
   "source": [
    "full_metadatas = pd.merge(df_channels_filtered, full_metadatas, on=\"channel_id\")"
   ]
  },
  {
   "cell_type": "code",
   "execution_count": null,
   "id": "5b2da33a",
   "metadata": {},
   "outputs": [],
   "source": [
    "full_metadatas.head(2)"
   ]
  },
  {
   "cell_type": "code",
   "execution_count": null,
   "id": "252ff80a",
   "metadata": {},
   "outputs": [],
   "source": [
    "dataset = full_metadatas.groupby(\"channel_id\").apply(\n",
    "    lambda group: pd.DataFrame(\n",
    "        {\n",
    "            \"subscriber_rank_sb\": group.subscriber_rank_sb.mean(),\n",
    "            \"videos_cc\": group.videos_cc.mean(),\n",
    "            \"week_number_mean\": group.week_number_mean.values[0],\n",
    "            \"mean_duration_min\": group.mean_duration_min.values[0],\n",
    "            \"nb_diff_cat\": group.nb_diff_cat.values[0],\n",
    "            \"covered_categories\": group.covered_categories.to_frame().values[0],\n",
    "            \"week_frequency_mean\": group.week_frequency_mean.values[0],\n",
    "            \"title_com_scr_mean\": group.title_com_scr_mean.values[0],\n",
    "            \"title_nb_words_mean\": group.title_nb_words_mean.values[0],\n",
    "            \"first_person_singular_mean\": group.first_person_singular.mean(),\n",
    "            \"first_person_plural_mean\": group.first_person_plural.mean(),\n",
    "            \"second_person_mean\": group.second_person.mean(),\n",
    "            \"third_person_singular_mean\": group.third_person_singular.mean(),\n",
    "            \"third_person_plural_mean\": group.third_person_plural.mean(),\n",
    "        }\n",
    "    )\n",
    ")"
   ]
  },
  {
   "cell_type": "code",
   "execution_count": null,
   "id": "98730f60",
   "metadata": {},
   "outputs": [],
   "source": [
    "dataset.to_feather(\"./data/videos_metadatas_sub_quest_3_v3\")"
   ]
  },
  {
   "cell_type": "code",
   "execution_count": null,
   "id": "42945369",
   "metadata": {},
   "outputs": [],
   "source": [
    "dataset = pd.read_feather(\"./data/videos_metadatas_sub_quest_3_v3\")\n",
    "dataset.drop(\"level_1\", axis=1, inplace=True)"
   ]
  },
  {
   "cell_type": "markdown",
   "id": "448092db",
   "metadata": {},
   "source": [
    "Most of the upload date are on Thursday or Wednesday in average"
   ]
  },
  {
   "cell_type": "code",
   "execution_count": null,
   "id": "3bcf78a2",
   "metadata": {},
   "outputs": [],
   "source": [
    "dataset.week_number_mean.value_counts().plot(kind=\"bar\")"
   ]
  },
  {
   "cell_type": "code",
   "execution_count": null,
   "id": "670aa199",
   "metadata": {},
   "outputs": [],
   "source": [
    "\n",
    "print(dataset.videos_cc.value_counts().head())\n",
    "print(dataset.nb_diff_cat.value_counts().head())\n",
    "print(dataset.week_frequency_mean.value_counts().head())\n",
    "print(dataset.title_nb_words_mean.value_counts().head())"
   ]
  },
  {
   "cell_type": "code",
   "execution_count": null,
   "id": "1760bbcd",
   "metadata": {},
   "outputs": [],
   "source": [
    "dataset.sample(4)"
   ]
  },
  {
   "cell_type": "code",
   "execution_count": null,
   "id": "9b43f85b",
   "metadata": {},
   "outputs": [],
   "source": []
  },
  {
   "cell_type": "code",
   "execution_count": null,
   "id": "94d6e780",
   "metadata": {},
   "outputs": [],
   "source": []
  },
  {
   "cell_type": "code",
   "execution_count": null,
   "id": "00902d38",
   "metadata": {},
   "outputs": [],
   "source": [
    "X = channel_selection.loc[:, ['nr_videos', 'pct_gaming', 'active_days', 'upload_interval', 'title_com_scr', \\\n",
    "                             'first_person_singular', 'first_person_plural', 'second_person', 'third_person_singular', \\\n",
    "                             'third_person_plural']]\n",
    "Y = channel_selection.loc[:, ['subscribers_cc']]"
   ]
  },
  {
   "cell_type": "code",
   "execution_count": null,
   "id": "47333714",
   "metadata": {},
   "outputs": [],
   "source": [
    "from sklearn.model_selection import train_test_split\n",
    "from sklearn.neighbors import KNeighborsClassifier\n",
    "\n",
    "X_train, X_test, Y_train, Y_test = train_test_split(X, Y, test_size=0.2, random_state=42)"
   ]
  },
  {
   "cell_type": "code",
   "execution_count": null,
   "id": "f3eb3b1b",
   "metadata": {},
   "outputs": [],
   "source": [
    "neigh = KNeighborsClassifier(n_neighbors=3)\n",
    "neigh.fit(X, y)"
   ]
  },
  {
   "cell_type": "code",
   "execution_count": null,
   "id": "47b37781",
   "metadata": {},
   "outputs": [],
   "source": [
    "get_params(deep=True)"
   ]
  },
  {
   "cell_type": "code",
   "execution_count": null,
   "id": "c2bf2162",
   "metadata": {},
   "outputs": [],
   "source": [
    "predict(X)"
   ]
  },
  {
   "cell_type": "code",
   "execution_count": null,
   "id": "c820708f",
   "metadata": {},
   "outputs": [],
   "source": []
  },
  {
   "cell_type": "code",
   "execution_count": null,
   "id": "c70186ec",
   "metadata": {},
   "outputs": [],
   "source": []
  },
  {
   "cell_type": "code",
   "execution_count": null,
   "id": "e3bd9531",
   "metadata": {},
   "outputs": [],
   "source": []
  },
  {
   "cell_type": "code",
   "execution_count": null,
   "id": "2959662e",
   "metadata": {},
   "outputs": [],
   "source": []
  },
  {
   "cell_type": "code",
   "execution_count": null,
   "id": "d57be6ae",
   "metadata": {},
   "outputs": [],
   "source": []
  },
  {
   "cell_type": "markdown",
   "id": "5d89b4e0",
   "metadata": {},
   "source": [
    "### Sub-Question 4\n",
    "**Description:** What are the most common topics in each of the chosen categories?  \n",
    "**Method:** The yt_metadata_en.jsonl.gz dataset will be used to get a list of tags of each video according to its category. It is further split and classified according to the topics that occur most frequently. This way, we get the most used keywords in each video category and therefore the most popular topics.  \n",
    "**Timeline:** By 15/12/2022  \n",
    "**Organization:** Jules  "
   ]
  },
  {
   "cell_type": "markdown",
   "id": "f11f1ee2",
   "metadata": {},
   "source": [
    "To start with, we will try to determine the common topics across all videos. This is done by performining topic detection using titles and tags of all selected videos."
   ]
  },
  {
   "cell_type": "code",
   "execution_count": 574,
   "id": "325361ec",
   "metadata": {},
   "outputs": [],
   "source": [
    "def topic_detection(dataset, datatype):\n",
    "    if (datatype == \"title\"):\n",
    "        new_list = []\n",
    "        # replace all underslash to space\n",
    "        for x in dataset:\n",
    "            new_text = x.replace(\"_\", \" \")\n",
    "            new_text = new_text.replace(\"__\", \" \")\n",
    "            new_text = new_text.replace(\"•\", \" \")\n",
    "            new_list.append(new_text.lower())\n",
    "    \n",
    "    if (datatype == \"tag\"):\n",
    "        new_list = []\n",
    "        for x in dataset:\n",
    "            step1 = x.replace(\",\", \", \")\n",
    "            new_list.append(step1.lower())\n",
    "        \n",
    "    STOPWORDS = spacy.lang.en.stop_words.STOP_WORDS\n",
    "\n",
    "    processed_docs = list()\n",
    "    for doc in nlp.pipe(new_list, n_process=5, batch_size=10):\n",
    "\n",
    "        # Process document using Spacy NLP pipeline.\n",
    "        ents = doc.ents  # Named entities\n",
    "\n",
    "        # Keep only words (no numbers, no punctuation).\n",
    "        # Lemmatize tokens, to lowercase, remove punctuation and remove stopwords.\n",
    "        doc = [token.lemma_ for token in doc if token.is_alpha and not token.is_stop]\n",
    "\n",
    "        # Remove common words from a stopword list and keep only words of length 2 or more.\n",
    "        doc = [token for token in doc if token not in STOPWORDS and len(token) > 1]\n",
    "\n",
    "        # Add named entities, but only if they are a compound of more than word.\n",
    "        doc.extend([str(entity) for entity in ents if len(entity) > 1])\n",
    "\n",
    "        processed_docs.append(doc)\n",
    "        \n",
    "    docs = processed_docs\n",
    "    del processed_docs\n",
    "\n",
    "    # Add bigrams to docs (only ones that appear 15 times or more).\n",
    "    bigram = Phrases(docs, min_count=15)\n",
    "\n",
    "    for idx in range(len(docs)):\n",
    "        for token in bigram[docs[idx]]:\n",
    "            if '_' in token:\n",
    "                # Token is a bigram, add to document.\n",
    "                docs[idx].append(token)\n",
    "\n",
    "    # Create a dictionary representation of the documents, and filter out frequent and rare words.\n",
    "    dictionary = Dictionary(docs)\n",
    "\n",
    "    # Remove rare and common tokens.\n",
    "    # Filter out words that occur too frequently or too rarely.\n",
    "    max_freq = 0.5\n",
    "    min_wordcount = 5\n",
    "    dictionary.filter_extremes(no_below=min_wordcount, no_above=max_freq)\n",
    "\n",
    "    # Bag-of-words representation of the documents.\n",
    "    corpus = [dictionary.doc2bow(doc) for doc in docs]\n",
    "\n",
    "    seed = 42\n",
    "    # models\n",
    "    params = {'passes': 10, 'random_state': seed}\n",
    "    base_models = dict()\n",
    "    model = LdaMulticore(corpus=corpus, num_topics=4, id2word=dictionary, workers=6,\n",
    "                    passes=params['passes'], random_state=params['random_state'])\n",
    "    return model, corpus, dictionary\n"
   ]
  },
  {
   "cell_type": "code",
   "execution_count": 26,
   "id": "144a58ec",
   "metadata": {},
   "outputs": [],
   "source": [
    "import gensim\n",
    "from gensim.models.phrases import Phrases\n",
    "from gensim.corpora import Dictionary\n",
    "from gensim.models import LdaMulticore\n",
    "import pyLDAvis.gensim_models"
   ]
  },
  {
   "cell_type": "code",
   "execution_count": 27,
   "id": "1644f7b1",
   "metadata": {},
   "outputs": [
    {
     "ename": "NameError",
     "evalue": "name 'model' is not defined",
     "output_type": "error",
     "traceback": [
      "\u001b[1;31m---------------------------------------------------------------------------\u001b[0m",
      "\u001b[1;31mNameError\u001b[0m                                 Traceback (most recent call last)",
      "Input \u001b[1;32mIn [27]\u001b[0m, in \u001b[0;36m<cell line: 1>\u001b[1;34m()\u001b[0m\n\u001b[1;32m----> 1\u001b[0m pyLDAvis\u001b[38;5;241m.\u001b[39mgensim_models\u001b[38;5;241m.\u001b[39mprepare(\u001b[43mmodel\u001b[49m, corpus, dictionary)\n\u001b[0;32m      2\u001b[0m pyLDAvis\u001b[38;5;241m.\u001b[39menable_notebook( )\n",
      "\u001b[1;31mNameError\u001b[0m: name 'model' is not defined"
     ]
    }
   ],
   "source": [
    "pyLDAvis.enable_notebook( )\n",
    "\n",
    "model, corpus, dictionary = topic_detection( title_metadatas.title, \"title\" )\n",
    "pyLDAvis.gensim_models.prepare(model, corpus, dictionary)\n",
    "pyLDAvis.prepare(data)"
   ]
  },
  {
   "cell_type": "code",
   "execution_count": 572,
   "id": "261688f9",
   "metadata": {},
   "outputs": [
    {
     "data": {
      "text/html": [
       "\n",
       "<link rel=\"stylesheet\" type=\"text/css\" href=\"https://cdn.jsdelivr.net/gh/bmabey/pyLDAvis@3.3.1/pyLDAvis/js/ldavis.v1.0.0.css\">\n",
       "\n",
       "\n",
       "<div id=\"ldavis_el2795625624431380966982440134\"></div>\n",
       "<script type=\"text/javascript\">\n",
       "\n",
       "var ldavis_el2795625624431380966982440134_data = {\"mdsDat\": {\"x\": [-0.016767510533392902, -0.11403000792967923, -0.18902204088577756, 0.3198195593488498], \"y\": [-0.3048793562560688, 0.1746532037017485, 0.05275754248006436, 0.077468610074256], \"topics\": [1, 2, 3, 4], \"cluster\": [1, 1, 1, 1], \"Freq\": [27.24704436909659, 25.549068651454082, 25.2712281559896, 21.93265882345973]}, \"tinfo\": {\"Term\": [\"fortnite\", \"gta\", \"minecraft\", \"battle\", \"online\", \"op\", \"world\", \"black\", \"moment\", \"stream\", \"let\", \"war\", \"fifa\", \"royale\", \"funny\", \"episode\", \"nba\", \"black_op\", \"mobile\", \"clash\", \"play\", \"gta_online\", \"let_play\", \"highlight\", \"glitch\", \"dragon\", \"zombie\", \"pokemon\", \"funny_moment\", \"mario\", \"minecraft\", \"let\", \"war\", \"let_play\", \"walkthrough\", \"rainbow\", \"siege\", \"story\", \"edition\", \"life\", \"rainbow_siege\", \"sonic\", \"man\", \"fight\", \"halo\", \"night\", \"playthrough\", \"smash\", \"gear\", \"evil\", \"adventure\", \"league_legend\", \"house\", \"pe\", \"bro\", \"shadow\", \"battlefield\", \"release\", \"fantasy\", \"battlefront\", \"boss\", \"escape\", \"episode\", \"play\", \"star\", \"final\", \"gameplay\", \"mod\", \"ep\", \"game\", \"legend\", \"vs\", \"hd\", \"mode\", \"super\", \"world\", \"moment\", \"fifa\", \"funny\", \"nba\", \"mobile\", \"dragon\", \"funny_moment\", \"pack\", \"android\", \"pubg\", \"ball\", \"fail\", \"nintendo\", \"tip\", \"switch\", \"pubg_mobile\", \"money\", \"subscriber\", \"rust\", \"trick\", \"dragon_ball\", \"hack\", \"tank\", \"hunter\", \"compilation\", \"channel\", \"dash\", \"assassin\", \"growtopia\", \"career\", \"year\", \"good\", \"player\", \"team\", \"game\", \"free\", \"new\", \"red\", \"gameplay\", \"ultimate\", \"dead\", \"pro\", \"win\", \"vs\", \"update\", \"fortnite\", \"battle\", \"stream\", \"royale\", \"clash\", \"highlight\", \"fortnite_battle\", \"skin\", \"dark\", \"clan\", \"week\", \"overwatch\", \"fallout\", \"fire\", \"come\", \"live_stream\", \"clash_royale\", \"clash_clan\", \"wwe\", \"soul\", \"item\", \"arena\", \"deck\", \"knight\", \"twitch\", \"talk\", \"dark_soul\", \"stream_highlight\", \"dance\", \"vlog\", \"join\", \"season\", \"live\", \"destiny\", \"new\", \"kill\", \"vs\", \"win\", \"update\", \"game\", \"roblox\", \"good\", \"gameplay\", \"day\", \"play\", \"base\", \"challenge\", \"gta\", \"online\", \"op\", \"black\", \"black_op\", \"gta_online\", \"zombie\", \"pokemon\", \"mario\", \"car\", \"race\", \"speed\", \"duty\", \"warfare\", \"ark\", \"cod\", \"de\", \"drive\", \"need\", \"forza\", \"pok\\u00e9mon\", \"rocket\", \"super_mario\", \"moon\", \"official\", \"crash\", \"horizon\", \"zelda\", \"forza_horizon\", \"egg\", \"glitch\", \"dlc\", \"trailer\", \"new\", \"gameplay\", \"league\", \"vs\", \"super\", \"live\", \"mod\"], \"Freq\": [130559.0, 116931.0, 119481.0, 86645.0, 70943.0, 63536.0, 69813.0, 59983.0, 63177.0, 61473.0, 65022.0, 62449.0, 57709.0, 56493.0, 56454.0, 82611.0, 48962.0, 40577.0, 44631.0, 44233.0, 129394.0, 39315.0, 44878.0, 40873.0, 51493.0, 39303.0, 34010.0, 32871.0, 36087.0, 30466.0, 119480.28230326521, 65021.56507424504, 62448.27676744042, 44877.60782031647, 33338.10881066204, 31442.27343500684, 29058.874927236226, 28247.34867004163, 26643.233109549063, 26244.813849051745, 24312.637154374475, 23808.620477257533, 24161.674597556703, 23875.07537163287, 22775.64026834375, 21205.929788049474, 20926.70774737282, 19955.732030825788, 18546.123257111813, 17495.454205892653, 16362.63532110978, 16013.995722814521, 15841.788358942205, 15401.607335859231, 14908.997937371852, 15068.897178211482, 14046.879592155032, 14233.191642151322, 11773.113720101383, 11586.233997173966, 21347.55072936404, 11865.91607076772, 70568.62917433544, 88567.88477731697, 30289.625721925397, 24668.123426419203, 60937.53891911774, 35714.246743200674, 33642.68135607119, 51114.74692462989, 25298.73757432128, 32563.077643938126, 20308.90788685511, 22465.898439403747, 22281.669992536154, 69812.61737469022, 63176.459877745976, 57708.40429076292, 56454.120764302475, 48962.08287261696, 44630.63356607528, 39302.48913052234, 36086.55609643595, 32795.14265432364, 29186.95613875011, 28971.24255775008, 22830.277294809443, 22283.16509470058, 20717.717437194537, 18791.614061419823, 17599.40739700278, 16084.630069759602, 16672.742341227946, 16378.147900823209, 15757.134159512372, 15801.103317570449, 14408.723014797191, 16226.219818566462, 14020.255689597898, 13069.508709252794, 13082.56980695157, 12204.895282489935, 10878.86703822855, 10766.847999115054, 10056.002863544147, 18676.639152909913, 16332.008702061914, 62691.66845898437, 27992.78970889179, 29268.53813409105, 57912.48424269952, 24583.86724096997, 49883.70853154278, 19856.45639889346, 37809.51073929123, 21042.97601865473, 19369.38079000073, 19625.88536867123, 19902.020044223504, 22444.12540063734, 18779.6920548543, 130558.50581340618, 86645.04104809565, 61472.91479664681, 56493.060040923636, 44232.53110872947, 40872.248840198445, 29036.85804244404, 26370.97709281087, 26682.232574243102, 24451.290180221687, 23238.84045224192, 22759.639553034816, 20157.353186965902, 19158.07034476647, 18990.30082589209, 17233.535515859006, 17097.52763358422, 16399.204244607834, 16099.252644544364, 16056.850312971104, 15436.264729963374, 14275.605343117564, 11910.023037324514, 11768.435118983456, 11556.876281935316, 10475.461726773188, 9249.474320239022, 8856.232717839433, 8861.597040051389, 8837.261189467145, 9292.708606071365, 38072.57538363182, 49190.05145811453, 19900.872385445567, 82537.79221356577, 27894.370913628758, 50343.81513265863, 24895.47769018227, 30656.247499699188, 46841.53966521176, 26912.97865351785, 29946.545353470723, 31232.195171188898, 20269.871434988538, 24158.846373093395, 18061.16242428806, 18757.763667948147, 116930.28504771512, 70942.49200535503, 63535.73174107215, 59982.423545734295, 40576.29534268222, 39314.82049332278, 34009.60372072233, 32870.527910231445, 30465.968868042684, 30088.852913411698, 24305.755684410597, 23914.409250432975, 21220.832019635087, 18606.63437484762, 18399.475481755246, 17296.40084480425, 17315.955891734775, 16789.4910769907, 17081.846145904725, 16201.32337416048, 15390.096311499086, 15370.945609879078, 15146.227609080277, 14339.082164770192, 14582.83018249173, 13695.884302970484, 13589.59924992051, 11598.271831641063, 11026.32023245019, 11178.44896657308, 42693.21220810938, 20466.472205223872, 24555.0572611929, 40848.361973043844, 32697.981800913763, 20650.141936553304, 26951.752199689374, 19674.96213391584, 18087.73762526492, 15962.156217469561], \"Total\": [130559.0, 116931.0, 119481.0, 86645.0, 70943.0, 63536.0, 69813.0, 59983.0, 63177.0, 61473.0, 65022.0, 62449.0, 57709.0, 56493.0, 56454.0, 82611.0, 48962.0, 40577.0, 44631.0, 44233.0, 129394.0, 39315.0, 44878.0, 40873.0, 51493.0, 39303.0, 34010.0, 32871.0, 36087.0, 30466.0, 119481.06863793769, 65022.35723391524, 62449.08406760643, 44878.3890580476, 33338.91671172554, 31443.060902263085, 29059.658944949926, 28248.14439668829, 26644.03822277502, 26245.617126782538, 24313.41865380108, 23809.402093124772, 24162.47258237077, 23875.881052302724, 22776.446888217677, 21206.73209741991, 20927.509874402236, 19956.514632705508, 18546.929587399354, 17496.244372674668, 16363.437238944147, 16014.797831744783, 15842.58729273019, 15402.400711698087, 14909.78596208769, 15069.696501197603, 14047.674407465278, 14234.006480886314, 11773.89721614364, 11587.01513713984, 21350.54691114299, 11866.716583327141, 82611.0240401267, 129394.03418884879, 37428.01443620053, 34266.237933628174, 162677.22663051164, 65659.01619902825, 62440.35267939993, 155870.54086469463, 49670.40340041439, 132302.77037692346, 28856.79927950365, 51509.387845496734, 49828.00627991384, 69813.4278050869, 63177.25067164507, 57709.1850666294, 56454.913175331516, 48962.86058862605, 44631.42555186111, 39303.29833429718, 36087.34280808756, 32795.94910965117, 29187.748962789687, 28972.02954823671, 22831.06017344888, 22283.964722685607, 20718.514356212683, 18792.415625524973, 17600.210406470036, 16085.40820328033, 16673.55460022253, 16378.947775399145, 15757.932053674855, 15801.904576670795, 14409.500114111814, 16227.106849549367, 14021.051499252908, 13070.310104886557, 13083.380700412396, 12205.684771708415, 10879.64912399196, 10767.641840374881, 10056.782869682856, 18678.092642509724, 16381.987155401626, 112482.07774999212, 39479.34015428508, 42484.73854057047, 155870.54086469463, 40006.24994468508, 193803.89328720485, 28273.93379152366, 162677.22663051164, 37145.98880830415, 29901.2008292072, 40660.91878476639, 44798.025361642154, 132302.77037692346, 65111.86532497644, 130559.28770893627, 86645.84691943812, 61473.70905908049, 56493.83724120282, 44233.312900927966, 40873.048613992396, 29037.63163192411, 26371.771770380023, 26683.03778087732, 24452.073248997003, 23239.63436626101, 22760.423841054246, 20158.148493702767, 19158.870559777304, 18991.104468422072, 17234.321114255003, 17098.309389085276, 16399.98106497881, 16100.040955589422, 16057.641111540572, 15437.076126671094, 14276.400102617068, 11910.805780005483, 11769.23360867793, 11557.67727138369, 10476.263380251605, 9250.251540166464, 8857.010229964348, 8862.39242587719, 8838.10533930112, 9336.00835875938, 51145.68852683287, 85480.74845634354, 26220.068933311588, 193803.89328720485, 46234.91217209875, 132302.77037692346, 44798.025361642154, 65111.86532497644, 155870.54086469463, 52912.561044515416, 112482.07774999212, 162677.22663051164, 39626.84349159054, 129394.03418884879, 25758.45931210167, 47291.772685693686, 116931.09236638932, 70943.29437397006, 63536.525086743764, 59983.21757778981, 40577.0810390601, 39315.60675318966, 34010.406547439685, 32871.31601183901, 30466.76439085667, 30089.642950292393, 24306.553657188033, 23915.216078480746, 21221.628377193174, 18607.42925775358, 18400.267951561367, 17297.196384131286, 17316.75429945439, 16790.284630142593, 17082.658473942713, 16202.10695706817, 15390.883339627753, 15371.741922583464, 15147.01639769601, 14339.875910195544, 14583.645243928197, 13696.676968577174, 13590.3868229991, 11599.072309343883, 11027.104125845251, 11179.244955238026, 51493.05578200141, 24125.230060355658, 36846.1675376487, 193803.89328720485, 162677.22663051164, 44390.97723188048, 132302.77037692346, 49828.00627991384, 85480.74845634354, 65659.01619902825], \"Category\": [\"Default\", \"Default\", \"Default\", \"Default\", \"Default\", \"Default\", \"Default\", \"Default\", \"Default\", \"Default\", \"Default\", \"Default\", \"Default\", \"Default\", \"Default\", \"Default\", \"Default\", \"Default\", \"Default\", \"Default\", \"Default\", \"Default\", \"Default\", \"Default\", \"Default\", \"Default\", \"Default\", \"Default\", \"Default\", \"Default\", \"Topic1\", \"Topic1\", \"Topic1\", \"Topic1\", \"Topic1\", \"Topic1\", \"Topic1\", \"Topic1\", \"Topic1\", \"Topic1\", \"Topic1\", \"Topic1\", \"Topic1\", \"Topic1\", \"Topic1\", \"Topic1\", \"Topic1\", \"Topic1\", \"Topic1\", \"Topic1\", \"Topic1\", \"Topic1\", \"Topic1\", \"Topic1\", \"Topic1\", \"Topic1\", \"Topic1\", \"Topic1\", \"Topic1\", \"Topic1\", \"Topic1\", \"Topic1\", \"Topic1\", \"Topic1\", \"Topic1\", \"Topic1\", \"Topic1\", \"Topic1\", \"Topic1\", \"Topic1\", \"Topic1\", \"Topic1\", \"Topic1\", \"Topic1\", \"Topic1\", \"Topic2\", \"Topic2\", \"Topic2\", \"Topic2\", \"Topic2\", \"Topic2\", \"Topic2\", \"Topic2\", \"Topic2\", \"Topic2\", \"Topic2\", \"Topic2\", \"Topic2\", \"Topic2\", \"Topic2\", \"Topic2\", \"Topic2\", \"Topic2\", \"Topic2\", \"Topic2\", \"Topic2\", \"Topic2\", \"Topic2\", \"Topic2\", \"Topic2\", \"Topic2\", \"Topic2\", \"Topic2\", \"Topic2\", \"Topic2\", \"Topic2\", \"Topic2\", \"Topic2\", \"Topic2\", \"Topic2\", \"Topic2\", \"Topic2\", \"Topic2\", \"Topic2\", \"Topic2\", \"Topic2\", \"Topic2\", \"Topic2\", \"Topic2\", \"Topic2\", \"Topic2\", \"Topic3\", \"Topic3\", \"Topic3\", \"Topic3\", \"Topic3\", \"Topic3\", \"Topic3\", \"Topic3\", \"Topic3\", \"Topic3\", \"Topic3\", \"Topic3\", \"Topic3\", \"Topic3\", \"Topic3\", \"Topic3\", \"Topic3\", \"Topic3\", \"Topic3\", \"Topic3\", \"Topic3\", \"Topic3\", \"Topic3\", \"Topic3\", \"Topic3\", \"Topic3\", \"Topic3\", \"Topic3\", \"Topic3\", \"Topic3\", \"Topic3\", \"Topic3\", \"Topic3\", \"Topic3\", \"Topic3\", \"Topic3\", \"Topic3\", \"Topic3\", \"Topic3\", \"Topic3\", \"Topic3\", \"Topic3\", \"Topic3\", \"Topic3\", \"Topic3\", \"Topic3\", \"Topic3\", \"Topic4\", \"Topic4\", \"Topic4\", \"Topic4\", \"Topic4\", \"Topic4\", \"Topic4\", \"Topic4\", \"Topic4\", \"Topic4\", \"Topic4\", \"Topic4\", \"Topic4\", \"Topic4\", \"Topic4\", \"Topic4\", \"Topic4\", \"Topic4\", \"Topic4\", \"Topic4\", \"Topic4\", \"Topic4\", \"Topic4\", \"Topic4\", \"Topic4\", \"Topic4\", \"Topic4\", \"Topic4\", \"Topic4\", \"Topic4\", \"Topic4\", \"Topic4\", \"Topic4\", \"Topic4\", \"Topic4\", \"Topic4\", \"Topic4\", \"Topic4\", \"Topic4\", \"Topic4\"], \"logprob\": [30.0, 29.0, 28.0, 27.0, 26.0, 25.0, 24.0, 23.0, 22.0, 21.0, 20.0, 19.0, 18.0, 17.0, 16.0, 15.0, 14.0, 13.0, 12.0, 11.0, 10.0, 9.0, 8.0, 7.0, 6.0, 5.0, 4.0, 3.0, 2.0, 1.0, -3.83, -4.4385, -4.4788, -4.8092, -5.1065, -5.165, -5.2439, -5.2722, -5.3306, -5.3457, -5.4222, -5.4431, -5.4284, -5.4403, -5.4875, -5.5589, -5.5721, -5.6197, -5.6929, -5.7512, -5.8182, -5.8397, -5.8505, -5.8787, -5.9112, -5.9005, -5.9708, -5.9576, -6.1474, -6.1634, -5.5522, -6.1395, -4.3566, -4.1294, -5.2024, -5.4077, -4.5033, -5.0376, -5.0974, -4.6791, -5.3824, -5.13, -5.6021, -5.5012, -5.5094, -4.303, -4.4029, -4.4934, -4.5154, -4.6578, -4.7504, -4.8775, -4.9629, -5.0586, -5.1751, -5.1825, -5.4207, -5.445, -5.5178, -5.6154, -5.681, -5.771, -5.7351, -5.7529, -5.7915, -5.7888, -5.881, -5.7622, -5.9083, -5.9785, -5.9775, -6.047, -6.162, -6.1724, -6.2407, -5.6216, -5.7557, -4.4106, -5.2169, -5.1723, -4.4899, -5.3467, -4.6391, -5.5603, -4.9163, -5.5023, -5.5851, -5.572, -5.558, -5.4378, -5.6161, -3.6661, -4.0761, -4.4193, -4.5038, -4.7484, -4.8274, -5.1693, -5.2656, -5.2539, -5.3412, -5.3921, -5.4129, -5.5343, -5.5852, -5.594, -5.691, -5.699, -5.7407, -5.7591, -5.7618, -5.8012, -5.8793, -6.0605, -6.0725, -6.0906, -6.1889, -6.3133, -6.3568, -6.3562, -6.3589, -6.3087, -4.8984, -4.6422, -5.5471, -4.1246, -5.2095, -4.619, -5.3232, -5.1151, -4.6911, -5.2453, -5.1385, -5.0964, -5.5288, -5.3532, -5.6441, -5.6063, -3.6346, -4.1343, -4.2446, -4.3022, -4.693, -4.7246, -4.8696, -4.9036, -4.9796, -4.9921, -5.2055, -5.2217, -5.3412, -5.4727, -5.4839, -5.5457, -5.5446, -5.5755, -5.5582, -5.6111, -5.6625, -5.6637, -5.6785, -5.7332, -5.7164, -5.7791, -5.7869, -5.9454, -5.9959, -5.9822, -4.6422, -5.3774, -5.1953, -4.6863, -4.9089, -5.3685, -5.1022, -5.4169, -5.501, -5.626], \"loglift\": [30.0, 29.0, 28.0, 27.0, 26.0, 25.0, 24.0, 23.0, 22.0, 21.0, 20.0, 19.0, 18.0, 17.0, 16.0, 15.0, 14.0, 13.0, 12.0, 11.0, 10.0, 9.0, 8.0, 7.0, 6.0, 5.0, 4.0, 3.0, 2.0, 1.0, 1.3002, 1.3002, 1.3002, 1.3002, 1.3002, 1.3002, 1.3002, 1.3002, 1.3002, 1.3002, 1.3002, 1.3002, 1.3002, 1.3002, 1.3002, 1.3002, 1.3002, 1.3002, 1.3002, 1.3002, 1.3002, 1.3002, 1.3002, 1.3002, 1.3002, 1.3002, 1.3002, 1.3002, 1.3002, 1.3002, 1.3001, 1.3002, 1.1427, 0.9211, 1.0886, 0.9716, 0.3183, 0.6913, 0.6818, 0.1853, 0.6256, -0.1017, 0.9489, 0.4705, 0.4954, 1.3646, 1.3646, 1.3646, 1.3646, 1.3646, 1.3646, 1.3645, 1.3645, 1.3645, 1.3645, 1.3645, 1.3645, 1.3645, 1.3645, 1.3645, 1.3645, 1.3645, 1.3645, 1.3645, 1.3645, 1.3645, 1.3645, 1.3645, 1.3645, 1.3645, 1.3645, 1.3645, 1.3645, 1.3645, 1.3645, 1.3645, 1.3615, 0.78, 1.0207, 0.9919, 0.3745, 0.8776, 0.0074, 1.0112, -0.0946, 0.7963, 0.9304, 0.6362, 0.5532, -0.4095, 0.1212, 1.3755, 1.3755, 1.3755, 1.3755, 1.3755, 1.3755, 1.3755, 1.3755, 1.3755, 1.3755, 1.3755, 1.3755, 1.3755, 1.3755, 1.3755, 1.3755, 1.3755, 1.3755, 1.3755, 1.3755, 1.3755, 1.3754, 1.3754, 1.3754, 1.3754, 1.3754, 1.3754, 1.3754, 1.3754, 1.3754, 1.3709, 1.0803, 0.8229, 1.0997, 0.5219, 0.8702, 0.4093, 0.788, 0.6222, 0.1732, 0.6995, 0.0521, -0.2748, 0.7051, -0.3027, 1.0205, 0.4508, 1.5172, 1.5172, 1.5172, 1.5172, 1.5172, 1.5172, 1.5172, 1.5172, 1.5172, 1.5172, 1.5172, 1.5172, 1.5172, 1.5172, 1.5172, 1.5171, 1.5171, 1.5171, 1.5171, 1.5171, 1.5171, 1.5171, 1.5171, 1.5171, 1.5171, 1.5171, 1.5171, 1.5171, 1.5171, 1.5171, 1.3298, 1.3527, 1.1114, -0.0398, -0.0873, 0.7519, -0.0739, 0.588, -0.0359, 0.1029]}, \"token.table\": {\"Topic\": [1, 2, 3, 4, 2, 2, 1, 2, 3, 4, 3, 1, 1, 4, 4, 1, 4, 1, 4, 2, 3, 1, 2, 3, 4, 2, 3, 3, 3, 3, 4, 3, 2, 4, 3, 3, 3, 2, 1, 2, 3, 4, 4, 1, 2, 3, 2, 3, 1, 4, 2, 2, 4, 4, 1, 4, 1, 2, 3, 4, 1, 3, 4, 1, 1, 2, 3, 1, 2, 1, 1, 2, 3, 4, 3, 3, 3, 4, 4, 2, 3, 4, 2, 2, 1, 2, 3, 4, 1, 2, 3, 4, 1, 2, 4, 1, 2, 3, 4, 2, 4, 4, 2, 1, 1, 2, 3, 4, 3, 4, 1, 2, 3, 2, 3, 2, 3, 4, 3, 1, 2, 4, 1, 1, 2, 4, 1, 1, 1, 1, 2, 3, 4, 3, 1, 4, 1, 2, 1, 2, 4, 1, 2, 3, 4, 2, 2, 4, 2, 4, 1, 2, 3, 4, 1, 2, 4, 4, 4, 3, 2, 1, 1, 2, 3, 2, 3, 1, 4, 4, 1, 2, 3, 2, 2, 4, 1, 1, 2, 3, 4, 1, 1, 2, 3, 4, 3, 2, 1, 3, 1, 1, 3, 1, 1, 3, 4, 1, 3, 1, 3, 3, 2, 1, 2, 4, 4, 2, 3, 2, 2, 3, 4, 2, 1, 4, 2, 3, 1, 2, 4, 1, 2, 3, 4, 3, 1, 2, 3, 4, 1, 1, 4, 3, 2, 3, 2, 3, 1, 2, 4, 4], \"Freq\": [0.9999732795171478, 0.9999743398235115, 0.9999719745444094, 0.9999310905925552, 0.9999403917418135, 0.9999535644231662, 0.1078092430277974, 0.06603655829682513, 0.7011677127565894, 0.12496865441356854, 0.9999902255045311, 0.9999519915221754, 0.9999123901084251, 0.9999797013591638, 0.999973358382801, 0.9998807097938246, 9.367441538259552e-05, 0.9999472854882231, 0.9999786321727561, 0.9999415013871793, 5.3538657246194746e-05, 0.12701997956226302, 0.27639056981160975, 0.3966440447193157, 0.19995021254216064, 0.9999438973133239, 0.9999561080573384, 0.9999929261249623, 0.9999401788956389, 0.9999819052820816, 0.9999308336388906, 0.999941842854695, 0.9999709019846542, 0.9999505742466784, 0.9999557200969748, 0.9999611070941082, 0.9998647020396116, 0.9999403359442421, 0.19040123651537302, 0.2124317573209291, 0.5115219435608497, 0.08567424757716255, 0.9999564410604119, 0.35219321324759045, 0.6477666268533453, 0.9999323488250614, 0.240998603629602, 0.7589987673417802, 0.15162549707706593, 0.8483235164514028, 0.9999669662763127, 0.999965292750765, 0.999923489674482, 0.9999703897749029, 0.9999610335803327, 0.9998886369121519, 0.5388022097303009, 0.16367620555371623, 0.1507358558387062, 0.14679609590072046, 0.854232238614092, 0.0001452590636592428, 0.1456222113183909, 0.999939614018578, 0.9999288777266616, 0.9999567077628415, 0.9999430258337899, 0.9999237961630573, 0.9999794648524662, 0.9999630986475099, 0.719892275533152, 0.08253021546974842, 0.15175287144366753, 0.04578851063367584, 0.999954561007415, 0.999997796334973, 0.9999782478153826, 0.9999316782026496, 0.999899871640582, 0.6145039846021869, 0.3853397911905025, 0.0001499765663689034, 0.9999838246969103, 0.999990500600463, 0.3279323964389847, 0.37153909698864285, 0.30051862103090915, 1.2831160967973576e-05, 0.3745945346019964, 0.23242343616957373, 0.19198753658947704, 0.200999246650958, 0.9999498791756892, 0.1708774099026291, 0.8291020867113245, 0.04100208755256855, 0.5573510131928942, 0.26623796963069607, 0.135417128707876, 0.9999221550576362, 0.999990658033144, 0.9999845671162225, 0.9999317900868202, 0.9999803793708532, 0.7037856071038702, 0.15691275931687054, 0.050109507502693204, 0.08919908182014682, 0.9999743446102516, 0.9999715370133214, 0.999962929493817, 0.9999762740987728, 0.9999302894756582, 0.004605822782887277, 0.9953932818923595, 0.29198714490360395, 0.6033103274030466, 0.10468279861729207, 0.9998951836016731, 0.33137364656697954, 0.2034422435177697, 0.46518462281496453, 0.999950181591228, 0.509337518281338, 0.20021983553926664, 0.29045465734791354, 0.9999945059833196, 0.9999913308374974, 0.9999764864823122, 0.05927650484468795, 0.15367202834809965, 0.5754512084685613, 0.21160320103231017, 0.9999813677456237, 0.999980441473067, 0.9999749106650492, 0.9999910560061952, 0.9999904651967566, 0.5439313908046123, 0.21294866736378137, 0.2431044649163695, 0.43615350404448877, 0.31301090295153977, 0.1874221458223758, 0.06340591757363573, 0.9999802037658845, 0.9999667377331452, 0.9999389178678373, 0.9999824236448667, 0.999961453661108, 0.1059524638628902, 0.25739420996086565, 0.4258841171868721, 0.21076975961192845, 0.9999654780653358, 0.999975174078419, 0.9999557556483716, 0.9999817548088021, 0.9999917356710483, 0.9999813781563469, 0.9999710601559968, 0.9999739838155371, 0.6844828709083778, 0.1288081023555904, 0.18670876251327226, 0.709054403913629, 0.2909369800790177, 0.9999756361647756, 0.9999903863952726, 0.9999426063073664, 0.128600143732095, 0.482674779285924, 0.3887024807201686, 0.9999644640623123, 0.9999746227590142, 0.9999772218967838, 0.9999662595742067, 0.9999827809570081, 0.7022722818270409, 0.09376127211540519, 0.20393341947092658, 0.999929290401289, 0.27955554802111104, 0.21182115888457362, 0.5086315889597189, 0.9999517346448308, 0.9999851799551296, 0.9999408517772713, 0.25560316766762137, 0.7444029222526848, 0.9999537813387585, 0.9999773244086871, 0.9999707349818305, 0.9999742122953341, 0.9999831120024266, 0.9999600743635931, 0.9999491504288837, 0.8092868525428212, 0.19071276175142482, 0.9999594877216634, 0.9999884656531818, 0.9998859400702813, 0.9999421345368371, 0.4471782369703621, 0.1579633741672076, 0.3948582628306199, 0.9999328978282374, 0.9999312277272782, 0.9998794054515672, 0.9999250056778578, 0.6889297429016727, 0.18759677648455128, 0.12347963481028307, 0.9999778833369134, 0.3335760764655183, 0.6664193765853715, 0.9999427552124236, 0.9999414007358236, 0.3256879245410056, 0.5664945442318052, 0.10781783251667444, 0.11447990259220388, 0.28842669314215036, 0.47082048482245803, 0.12627498780696275, 0.9998749348125321, 0.24612485367638007, 0.1696411944818559, 0.38052113237366575, 0.2037145550559161, 0.9999725032539759, 0.9999826407765203, 0.999976930840492, 0.9999727032598271, 0.4442606529938903, 0.5557164584606018, 0.9999938721661383, 0.9999353445378, 0.0029910901244873246, 0.9969486512883058, 0.9999075521459575, 0.9999880463810652], \"Term\": [\"adventure\", \"android\", \"arena\", \"ark\", \"assassin\", \"ball\", \"base\", \"base\", \"base\", \"base\", \"battle\", \"battlefield\", \"battlefront\", \"black\", \"black_op\", \"boss\", \"boss\", \"bro\", \"car\", \"career\", \"career\", \"challenge\", \"challenge\", \"challenge\", \"challenge\", \"channel\", \"clan\", \"clash\", \"clash_clan\", \"clash_royale\", \"cod\", \"come\", \"compilation\", \"crash\", \"dance\", \"dark\", \"dark_soul\", \"dash\", \"day\", \"day\", \"day\", \"day\", \"de\", \"dead\", \"dead\", \"deck\", \"destiny\", \"destiny\", \"dlc\", \"dlc\", \"dragon\", \"dragon_ball\", \"drive\", \"duty\", \"edition\", \"egg\", \"ep\", \"ep\", \"ep\", \"ep\", \"episode\", \"episode\", \"episode\", \"escape\", \"evil\", \"fail\", \"fallout\", \"fantasy\", \"fifa\", \"fight\", \"final\", \"final\", \"final\", \"final\", \"fire\", \"fortnite\", \"fortnite_battle\", \"forza\", \"forza_horizon\", \"free\", \"free\", \"free\", \"funny\", \"funny_moment\", \"game\", \"game\", \"game\", \"game\", \"gameplay\", \"gameplay\", \"gameplay\", \"gameplay\", \"gear\", \"glitch\", \"glitch\", \"good\", \"good\", \"good\", \"good\", \"growtopia\", \"gta\", \"gta_online\", \"hack\", \"halo\", \"hd\", \"hd\", \"hd\", \"hd\", \"highlight\", \"horizon\", \"house\", \"hunter\", \"item\", \"join\", \"join\", \"kill\", \"kill\", \"kill\", \"knight\", \"league\", \"league\", \"league\", \"league_legend\", \"legend\", \"legend\", \"legend\", \"let\", \"let_play\", \"life\", \"live\", \"live\", \"live\", \"live\", \"live_stream\", \"man\", \"mario\", \"minecraft\", \"mobile\", \"mod\", \"mod\", \"mod\", \"mode\", \"mode\", \"mode\", \"mode\", \"moment\", \"money\", \"moon\", \"nba\", \"need\", \"new\", \"new\", \"new\", \"new\", \"night\", \"nintendo\", \"official\", \"online\", \"op\", \"overwatch\", \"pack\", \"pe\", \"play\", \"play\", \"play\", \"player\", \"player\", \"playthrough\", \"pokemon\", \"pok\\u00e9mon\", \"pro\", \"pro\", \"pro\", \"pubg\", \"pubg_mobile\", \"race\", \"rainbow\", \"rainbow_siege\", \"red\", \"red\", \"red\", \"release\", \"roblox\", \"roblox\", \"roblox\", \"rocket\", \"royale\", \"rust\", \"season\", \"season\", \"shadow\", \"siege\", \"skin\", \"smash\", \"sonic\", \"soul\", \"speed\", \"star\", \"star\", \"story\", \"stream\", \"stream_highlight\", \"subscriber\", \"super\", \"super\", \"super\", \"super_mario\", \"switch\", \"talk\", \"tank\", \"team\", \"team\", \"team\", \"tip\", \"trailer\", \"trailer\", \"trick\", \"twitch\", \"ultimate\", \"ultimate\", \"ultimate\", \"update\", \"update\", \"update\", \"update\", \"vlog\", \"vs\", \"vs\", \"vs\", \"vs\", \"walkthrough\", \"war\", \"warfare\", \"week\", \"win\", \"win\", \"world\", \"wwe\", \"year\", \"year\", \"zelda\", \"zombie\"]}, \"R\": 30, \"lambda.step\": 0.01, \"plot.opts\": {\"xlab\": \"PC1\", \"ylab\": \"PC2\"}, \"topic.order\": [4, 3, 2, 1]};\n",
       "\n",
       "function LDAvis_load_lib(url, callback){\n",
       "  var s = document.createElement('script');\n",
       "  s.src = url;\n",
       "  s.async = true;\n",
       "  s.onreadystatechange = s.onload = callback;\n",
       "  s.onerror = function(){console.warn(\"failed to load library \" + url);};\n",
       "  document.getElementsByTagName(\"head\")[0].appendChild(s);\n",
       "}\n",
       "\n",
       "if(typeof(LDAvis) !== \"undefined\"){\n",
       "   // already loaded: just create the visualization\n",
       "   !function(LDAvis){\n",
       "       new LDAvis(\"#\" + \"ldavis_el2795625624431380966982440134\", ldavis_el2795625624431380966982440134_data);\n",
       "   }(LDAvis);\n",
       "}else if(typeof define === \"function\" && define.amd){\n",
       "   // require.js is available: use it to load d3/LDAvis\n",
       "   require.config({paths: {d3: \"https://d3js.org/d3.v5\"}});\n",
       "   require([\"d3\"], function(d3){\n",
       "      window.d3 = d3;\n",
       "      LDAvis_load_lib(\"https://cdn.jsdelivr.net/gh/bmabey/pyLDAvis@3.3.1/pyLDAvis/js/ldavis.v3.0.0.js\", function(){\n",
       "        new LDAvis(\"#\" + \"ldavis_el2795625624431380966982440134\", ldavis_el2795625624431380966982440134_data);\n",
       "      });\n",
       "    });\n",
       "}else{\n",
       "    // require.js not available: dynamically load d3 & LDAvis\n",
       "    LDAvis_load_lib(\"https://d3js.org/d3.v5.js\", function(){\n",
       "         LDAvis_load_lib(\"https://cdn.jsdelivr.net/gh/bmabey/pyLDAvis@3.3.1/pyLDAvis/js/ldavis.v3.0.0.js\", function(){\n",
       "                 new LDAvis(\"#\" + \"ldavis_el2795625624431380966982440134\", ldavis_el2795625624431380966982440134_data);\n",
       "            })\n",
       "         });\n",
       "}\n",
       "</script>"
      ],
      "text/plain": [
       "<IPython.core.display.HTML object>"
      ]
     },
     "execution_count": 572,
     "metadata": {},
     "output_type": "execute_result"
    }
   ],
   "source": [
    "# topic detection all videos from titles\n",
    "model, corpus, dictionary = topic_detection( title_metadatas.title, \"title\" )\n",
    "data =  pyLDAvis.gensim_models.prepare(model, corpus, dictionary)\n",
    "pyLDAvis.display(data)"
   ]
  },
  {
   "cell_type": "code",
   "execution_count": 573,
   "id": "c1595ec6",
   "metadata": {},
   "outputs": [
    {
     "ename": "UnboundLocalError",
     "evalue": "local variable 'step1' referenced before assignment",
     "output_type": "error",
     "traceback": [
      "\u001b[1;31m---------------------------------------------------------------------------\u001b[0m",
      "\u001b[1;31mUnboundLocalError\u001b[0m                         Traceback (most recent call last)",
      "Input \u001b[1;32mIn [573]\u001b[0m, in \u001b[0;36m<cell line: 2>\u001b[1;34m()\u001b[0m\n\u001b[0;32m      1\u001b[0m \u001b[38;5;66;03m# topic detection for all videos from tags\u001b[39;00m\n\u001b[1;32m----> 2\u001b[0m model, corpus, dictionary \u001b[38;5;241m=\u001b[39m \u001b[43mtopic_detection\u001b[49m\u001b[43m(\u001b[49m\u001b[43m \u001b[49m\u001b[43mtag_metadatas\u001b[49m\u001b[38;5;241;43m.\u001b[39;49m\u001b[43mtags\u001b[49m\u001b[43m,\u001b[49m\u001b[43m \u001b[49m\u001b[38;5;124;43m\"\u001b[39;49m\u001b[38;5;124;43mtag\u001b[39;49m\u001b[38;5;124;43m\"\u001b[39;49m\u001b[43m \u001b[49m\u001b[43m)\u001b[49m\n\u001b[0;32m      3\u001b[0m data \u001b[38;5;241m=\u001b[39m  pyLDAvis\u001b[38;5;241m.\u001b[39mgensim_models\u001b[38;5;241m.\u001b[39mprepare(model, corpus, dictionary)\n\u001b[0;32m      4\u001b[0m pyLDAvis\u001b[38;5;241m.\u001b[39mdisplay(data)\n",
      "Input \u001b[1;32mIn [571]\u001b[0m, in \u001b[0;36mtopic_detection\u001b[1;34m(dataset, datatype)\u001b[0m\n\u001b[0;32m     12\u001b[0m     new_list \u001b[38;5;241m=\u001b[39m []\n\u001b[0;32m     13\u001b[0m     \u001b[38;5;28;01mfor\u001b[39;00m x \u001b[38;5;129;01min\u001b[39;00m dataset:\n\u001b[1;32m---> 14\u001b[0m         step1 \u001b[38;5;241m=\u001b[39m \u001b[43mstep1\u001b[49m\u001b[38;5;241m.\u001b[39mreplace(\u001b[38;5;124m\"\u001b[39m\u001b[38;5;124m,\u001b[39m\u001b[38;5;124m\"\u001b[39m, \u001b[38;5;124m\"\u001b[39m\u001b[38;5;124m, \u001b[39m\u001b[38;5;124m\"\u001b[39m)\n\u001b[0;32m     15\u001b[0m         new_list\u001b[38;5;241m.\u001b[39mappend(step1\u001b[38;5;241m.\u001b[39mlower())\n\u001b[0;32m     17\u001b[0m STOPWORDS \u001b[38;5;241m=\u001b[39m spacy\u001b[38;5;241m.\u001b[39mlang\u001b[38;5;241m.\u001b[39men\u001b[38;5;241m.\u001b[39mstop_words\u001b[38;5;241m.\u001b[39mSTOP_WORDS\n",
      "\u001b[1;31mUnboundLocalError\u001b[0m: local variable 'step1' referenced before assignment"
     ]
    }
   ],
   "source": [
    "# topic detection for all videos from tags\n",
    "model, corpus, dictionary = topic_detection( tag_metadatas.tags, \"tag\" )\n",
    "data =  pyLDAvis.gensim_models.prepare(model, corpus, dictionary)\n",
    "pyLDAvis.enable_notebook(data)"
   ]
  },
  {
   "cell_type": "code",
   "execution_count": null,
   "id": "4640ed6f",
   "metadata": {},
   "outputs": [],
   "source": []
  },
  {
   "cell_type": "markdown",
   "id": "2600e95a",
   "metadata": {},
   "source": [
    "### Sub-Question 5\n",
    "**Description:** Does a channel's success increase with a greater variety of categories?  \n",
    "**Method:** For this question, we will determine whether the filtered channels use multiple categories in their videos, and if they showed clear shifts from one category to another. Ultimately, we want to use this information and methods such as A/B testing and observational studies to determine whether a greater variety of categories can aid to a channels’ success.  \n",
    "**Timeline:** By 18/12/2022  \n",
    "**Organization:** Paul  "
   ]
  },
  {
   "cell_type": "code",
   "execution_count": null,
   "id": "0e534ce3",
   "metadata": {},
   "outputs": [],
   "source": [
    "video_metadatas.categories.value_counts().plot(kind=\"bar\")\n",
    "plt.title(\"Number of videos per categories for channels with Gaming topic\")\n",
    "plt.xlabel(\"Categories\")\n",
    "plt.ylabel(\"Number of videos\")"
   ]
  },
  {
   "cell_type": "markdown",
   "id": "63be44ea",
   "metadata": {},
   "source": [
    "Find channels with unique topic\n"
   ]
  },
  {
   "cell_type": "code",
   "execution_count": null,
   "id": "530d6927",
   "metadata": {},
   "outputs": [],
   "source": [
    "gaming_channels_with_categories = video_metadatas.groupby(\"channel_id\").apply(\n",
    "    lambda group: group.categories.unique()\n",
    ")\n",
    "unique_topic_gaming = gaming_channels_with_categories.loc[\n",
    "    gaming_channels_with_categories.str.len() == 1\n",
    "]\n",
    "non_unique_topic_gaming = gaming_channels_with_categories.loc[\n",
    "    gaming_channels_with_categories.str.len() > 1\n",
    "]\n",
    "print(\"nb of channels with unique topic Gaming : \", unique_topic_gaming.shape)\n",
    "print(\"nb of channels without unique topic Gaming : \", non_unique_topic_gaming.shape)\n",
    "unique_topic_gaming.value_counts()"
   ]
  },
  {
   "cell_type": "code",
   "execution_count": null,
   "id": "153bc452",
   "metadata": {},
   "outputs": [],
   "source": [
    "unique_topic_gaming_channels_descript = df_channels[\n",
    "    df_channels.channel.isin(unique_topic_gaming.index.values)\n",
    "]\n",
    "non_unique_topic_gaming_channels_descript = df_channels[\n",
    "    df_channels.channel.isin(non_unique_topic_gaming.index.values)\n",
    "]"
   ]
  },
  {
   "cell_type": "markdown",
   "id": "93b03f1f",
   "metadata": {},
   "source": [
    "### Now we have the dataset to check the differences between unique and non unique categories channels\n"
   ]
  },
  {
   "cell_type": "code",
   "execution_count": null,
   "id": "52a7f632",
   "metadata": {},
   "outputs": [],
   "source": [
    "def get_confidence_interval(data):\n",
    "    rng = np.random.default_rng()\n",
    "    return bootstrap(\n",
    "        (data,),\n",
    "        np.mean,\n",
    "        confidence_level=0.95,\n",
    "        random_state=rng,\n",
    "    ).confidence_interval"
   ]
  },
  {
   "cell_type": "code",
   "execution_count": null,
   "id": "0a1c47d2",
   "metadata": {},
   "outputs": [],
   "source": [
    "conf1 = get_confidence_interval(unique_topic_gaming_channels_descript.subscribers_cc)\n",
    "print(\n",
    "    \"95% confidence interval of number of subs for unique Gaming channels [{:_}, {:_}]\".format(\n",
    "        int(conf1[0]), int(conf1[1])\n",
    "    )\n",
    ")\n",
    "conf2 = get_confidence_interval(\n",
    "    non_unique_topic_gaming_channels_descript.subscribers_cc\n",
    ")\n",
    "print(\n",
    "    \"95% confidence interval of number of subs for non unique Gaming channels [{:_}, {:_}]\".format(\n",
    "        int(conf2[0]), int(conf2[1])\n",
    "    )\n",
    ")\n"
   ]
  },
  {
   "cell_type": "markdown",
   "id": "15286dd9",
   "metadata": {},
   "source": [
    "From these statistics, we can notice that diverse channels have no more subs in general. \n"
   ]
  }
 ],
 "metadata": {
  "kernelspec": {
   "display_name": "Python 3 (ipykernel)",
   "language": "python",
   "name": "python3"
  },
  "language_info": {
   "codemirror_mode": {
    "name": "ipython",
    "version": 3
   },
   "file_extension": ".py",
   "mimetype": "text/x-python",
   "name": "python",
   "nbconvert_exporter": "python",
   "pygments_lexer": "ipython3",
   "version": "3.9.12"
  },
  "vscode": {
   "interpreter": {
    "hash": "e2552cbddfdf66195580a0cc7030164c04fc13f4bfb78773728a78bbf4f04323"
   }
  }
 },
 "nbformat": 4,
 "nbformat_minor": 5
}
