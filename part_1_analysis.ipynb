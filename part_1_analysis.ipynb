{
 "cells": [
  {
   "cell_type": "markdown",
   "id": "e2af5202-cd4d-4fe2-9e7e-48869ec70229",
   "metadata": {},
   "source": [
    "# Part 0: Initialising"
   ]
  },
  {
   "cell_type": "code",
   "execution_count": 12,
   "id": "b347be5c-381b-4203-a676-ae35909a42cc",
   "metadata": {},
   "outputs": [],
   "source": [
    "# Initializing\n",
    "import matplotlib.font_manager as font_manager\n",
    "from matplotlib.lines import Line2D\n",
    "import matplotlib as mpl\n",
    "import matplotlib.ticker as mtick\n",
    "import matplotlib.pyplot as plt\n",
    "import pandas as pd\n",
    "import numpy as np\n",
    "import seaborn as sns\n",
    "import os\n",
    "from scipy.stats import bootstrap\n",
    "import statsmodels.api as sm\n",
    "import statsmodels.formula.api as smf\n",
    "\n",
    "params = {\n",
    "    \"axes.titlesize\": 14,\n",
    "    \"axes.labelsize\": 12,\n",
    "    \"font.size\": 12,\n",
    "    \"legend.fontsize\": 12,\n",
    "    \"xtick.labelsize\": 12,\n",
    "    \"ytick.labelsize\": 12,\n",
    "    \"text.usetex\": False,\n",
    "}\n",
    "\n",
    "mpl.rcParams.update(params)\n",
    "\n",
    "import warnings\n",
    "warnings.filterwarnings(\"ignore\")"
   ]
  },
  {
   "cell_type": "markdown",
   "id": "9c4e5555-b4fc-4cd9-acea-f54ff5aef1ad",
   "metadata": {},
   "source": [
    "To start with, we will import three datasets that are available on YouNiverse:\n",
    "\n",
    "``df_timeseries_en.tsv.gz``  \n",
    "``df_channels_en.tsv.gz``  \n",
    "``yt_metadata_helper.feather``"
   ]
  },
  {
   "cell_type": "code",
   "execution_count": 2,
   "id": "2c93da3e-46e0-4e9b-98dc-c725a9d981fa",
   "metadata": {},
   "outputs": [],
   "source": [
    "df_time_series = pd.read_csv(\n",
    "    \"./data/df_timeseries_en.tsv.gz\", compression=\"infer\", sep=\"\\t\"\n",
    ")\n",
    "df_time_series[\"datetime\"] = pd.to_datetime(df_time_series[\"datetime\"])\n",
    "# round the total number of subscribers, it is easier to consider 1 person and instead half of a person...\n",
    "df_time_series.subs = df_time_series.subs.round(0)\n",
    "\n",
    "df_channels = pd.read_csv(\"./data/df_channels_en.tsv.gz\", compression=\"infer\", sep=\"\\t\")\n",
    "df_channels[\"join_date\"] = pd.to_datetime(df_channels[\"join_date\"])"
   ]
  },
  {
   "cell_type": "code",
   "execution_count": 3,
   "id": "bfb8de83-f104-4db7-a03d-45eedff3600d",
   "metadata": {},
   "outputs": [],
   "source": [
    "video_metadatas = pd.read_feather(\n",
    "    \"./data/yt_metadata_helper.feather\",\n",
    "    columns=[\n",
    "        \"categories\",\n",
    "        \"upload_date\",\n",
    "        \"duration\",\n",
    "        \"like_count\",\n",
    "        \"dislike_count\",\n",
    "        \"view_count\",\n",
    "        \"channel_id\",\n",
    "    ],\n",
    ")"
   ]
  },
  {
   "cell_type": "code",
   "execution_count": 4,
   "id": "970f1b94-0e05-4c45-affe-704a9e7daf0c",
   "metadata": {},
   "outputs": [
    {
     "data": {
      "text/html": [
       "<div>\n",
       "<style scoped>\n",
       "    .dataframe tbody tr th:only-of-type {\n",
       "        vertical-align: middle;\n",
       "    }\n",
       "\n",
       "    .dataframe tbody tr th {\n",
       "        vertical-align: top;\n",
       "    }\n",
       "\n",
       "    .dataframe thead th {\n",
       "        text-align: right;\n",
       "    }\n",
       "</style>\n",
       "<table border=\"1\" class=\"dataframe\">\n",
       "  <thead>\n",
       "    <tr style=\"text-align: right;\">\n",
       "      <th></th>\n",
       "      <th>channel</th>\n",
       "      <th>category</th>\n",
       "      <th>datetime</th>\n",
       "      <th>views</th>\n",
       "      <th>delta_views</th>\n",
       "      <th>subs</th>\n",
       "      <th>delta_subs</th>\n",
       "      <th>videos</th>\n",
       "      <th>delta_videos</th>\n",
       "      <th>activity</th>\n",
       "    </tr>\n",
       "  </thead>\n",
       "  <tbody>\n",
       "    <tr>\n",
       "      <th>0</th>\n",
       "      <td>UCBJuEqXfXTdcPSbGO9qqn1g</td>\n",
       "      <td>Film and Animation</td>\n",
       "      <td>2017-07-03</td>\n",
       "      <td>202494.555556</td>\n",
       "      <td>0.000000</td>\n",
       "      <td>650.0</td>\n",
       "      <td>0.000000</td>\n",
       "      <td>5</td>\n",
       "      <td>0</td>\n",
       "      <td>3</td>\n",
       "    </tr>\n",
       "    <tr>\n",
       "      <th>1</th>\n",
       "      <td>UCBJuEqXfXTdcPSbGO9qqn1g</td>\n",
       "      <td>Film and Animation</td>\n",
       "      <td>2017-07-10</td>\n",
       "      <td>394085.666667</td>\n",
       "      <td>191591.111111</td>\n",
       "      <td>1046.0</td>\n",
       "      <td>395.777778</td>\n",
       "      <td>6</td>\n",
       "      <td>1</td>\n",
       "      <td>1</td>\n",
       "    </tr>\n",
       "  </tbody>\n",
       "</table>\n",
       "</div>"
      ],
      "text/plain": [
       "                    channel            category   datetime          views  \\\n",
       "0  UCBJuEqXfXTdcPSbGO9qqn1g  Film and Animation 2017-07-03  202494.555556   \n",
       "1  UCBJuEqXfXTdcPSbGO9qqn1g  Film and Animation 2017-07-10  394085.666667   \n",
       "\n",
       "     delta_views    subs  delta_subs  videos  delta_videos  activity  \n",
       "0       0.000000   650.0    0.000000       5             0         3  \n",
       "1  191591.111111  1046.0  395.777778       6             1         1  "
      ]
     },
     "execution_count": 4,
     "metadata": {},
     "output_type": "execute_result"
    }
   ],
   "source": [
    "df_time_series.head(2)"
   ]
  },
  {
   "cell_type": "code",
   "execution_count": 5,
   "id": "885c9ac7-9adf-4040-a221-a0bd3d445cf8",
   "metadata": {},
   "outputs": [
    {
     "data": {
      "text/html": [
       "<div>\n",
       "<style scoped>\n",
       "    .dataframe tbody tr th:only-of-type {\n",
       "        vertical-align: middle;\n",
       "    }\n",
       "\n",
       "    .dataframe tbody tr th {\n",
       "        vertical-align: top;\n",
       "    }\n",
       "\n",
       "    .dataframe thead th {\n",
       "        text-align: right;\n",
       "    }\n",
       "</style>\n",
       "<table border=\"1\" class=\"dataframe\">\n",
       "  <thead>\n",
       "    <tr style=\"text-align: right;\">\n",
       "      <th></th>\n",
       "      <th>category_cc</th>\n",
       "      <th>join_date</th>\n",
       "      <th>channel</th>\n",
       "      <th>name_cc</th>\n",
       "      <th>subscribers_cc</th>\n",
       "      <th>videos_cc</th>\n",
       "      <th>subscriber_rank_sb</th>\n",
       "      <th>weights</th>\n",
       "    </tr>\n",
       "  </thead>\n",
       "  <tbody>\n",
       "    <tr>\n",
       "      <th>0</th>\n",
       "      <td>Gaming</td>\n",
       "      <td>2010-04-29</td>\n",
       "      <td>UC-lHJZR3Gqxm24_Vd_AJ5Yw</td>\n",
       "      <td>PewDiePie</td>\n",
       "      <td>101000000</td>\n",
       "      <td>3956</td>\n",
       "      <td>3.0</td>\n",
       "      <td>2.087</td>\n",
       "    </tr>\n",
       "    <tr>\n",
       "      <th>1</th>\n",
       "      <td>Education</td>\n",
       "      <td>2006-09-01</td>\n",
       "      <td>UCbCmjCuTUZos6Inko4u57UQ</td>\n",
       "      <td>Cocomelon - Nursery ...</td>\n",
       "      <td>60100000</td>\n",
       "      <td>458</td>\n",
       "      <td>7.0</td>\n",
       "      <td>2.087</td>\n",
       "    </tr>\n",
       "  </tbody>\n",
       "</table>\n",
       "</div>"
      ],
      "text/plain": [
       "  category_cc  join_date                   channel                  name_cc  \\\n",
       "0      Gaming 2010-04-29  UC-lHJZR3Gqxm24_Vd_AJ5Yw                PewDiePie   \n",
       "1   Education 2006-09-01  UCbCmjCuTUZos6Inko4u57UQ  Cocomelon - Nursery ...   \n",
       "\n",
       "   subscribers_cc  videos_cc  subscriber_rank_sb  weights  \n",
       "0       101000000       3956                 3.0    2.087  \n",
       "1        60100000        458                 7.0    2.087  "
      ]
     },
     "execution_count": 5,
     "metadata": {},
     "output_type": "execute_result"
    }
   ],
   "source": [
    "df_channels.head(2)"
   ]
  },
  {
   "cell_type": "code",
   "execution_count": 6,
   "id": "60a8cc75-ff4d-49f8-a7f7-4fd6b6600385",
   "metadata": {},
   "outputs": [
    {
     "data": {
      "text/html": [
       "<div>\n",
       "<style scoped>\n",
       "    .dataframe tbody tr th:only-of-type {\n",
       "        vertical-align: middle;\n",
       "    }\n",
       "\n",
       "    .dataframe tbody tr th {\n",
       "        vertical-align: top;\n",
       "    }\n",
       "\n",
       "    .dataframe thead th {\n",
       "        text-align: right;\n",
       "    }\n",
       "</style>\n",
       "<table border=\"1\" class=\"dataframe\">\n",
       "  <thead>\n",
       "    <tr style=\"text-align: right;\">\n",
       "      <th></th>\n",
       "      <th>categories</th>\n",
       "      <th>upload_date</th>\n",
       "      <th>duration</th>\n",
       "      <th>like_count</th>\n",
       "      <th>dislike_count</th>\n",
       "      <th>view_count</th>\n",
       "      <th>channel_id</th>\n",
       "    </tr>\n",
       "  </thead>\n",
       "  <tbody>\n",
       "    <tr>\n",
       "      <th>0</th>\n",
       "      <td>Film &amp; Animation</td>\n",
       "      <td>2016-09-28</td>\n",
       "      <td>1159</td>\n",
       "      <td>8.0</td>\n",
       "      <td>1.0</td>\n",
       "      <td>1057.0</td>\n",
       "      <td>UCzWrhkg9eK5I8Bm3HfV-unA</td>\n",
       "    </tr>\n",
       "    <tr>\n",
       "      <th>1</th>\n",
       "      <td>Film &amp; Animation</td>\n",
       "      <td>2016-09-28</td>\n",
       "      <td>2681</td>\n",
       "      <td>23.0</td>\n",
       "      <td>1.0</td>\n",
       "      <td>12894.0</td>\n",
       "      <td>UCzWrhkg9eK5I8Bm3HfV-unA</td>\n",
       "    </tr>\n",
       "  </tbody>\n",
       "</table>\n",
       "</div>"
      ],
      "text/plain": [
       "         categories upload_date  duration  like_count  dislike_count  \\\n",
       "0  Film & Animation  2016-09-28      1159         8.0            1.0   \n",
       "1  Film & Animation  2016-09-28      2681        23.0            1.0   \n",
       "\n",
       "   view_count                channel_id  \n",
       "0      1057.0  UCzWrhkg9eK5I8Bm3HfV-unA  \n",
       "1     12894.0  UCzWrhkg9eK5I8Bm3HfV-unA  "
      ]
     },
     "execution_count": 6,
     "metadata": {},
     "output_type": "execute_result"
    }
   ],
   "source": [
    "video_metadatas.head(2)"
   ]
  },
  {
   "cell_type": "markdown",
   "id": "e8b3e231-0688-4f96-bf22-90ab5e8389ab",
   "metadata": {},
   "source": [
    "# Part 1: Initial Analysis and Data Visualization\n",
    "\n",
    "In this section, we will analyze the YouNiverse data to determine the potential factors that could lead to success on Youtube. This initial analysis will help us narrow down to a subset of the dataset to focus on for Milestone 3 analysis.\n",
    "\n",
    "## Question 1: How is the weekly content creation pattern of Youtubers regarding the upload frequency, video lengths, upload time?\n",
    "\n",
    "### Section 1: Video Upload Frequency\n",
    "\n",
    "In this section, we will mainly consider the weekly video upload frequency. To do that, we will first group the `video_metadatas` by upload week for all channels, to have an idea on the upload trend. We will not use `df_time_series` for the purpose of this section, which has ready-to-use weekly information regarding each channel, as it only considers the data from 2015-01-05 to 2019-10-06."
   ]
  },
  {
   "cell_type": "code",
   "execution_count": 28,
   "id": "a178f754-ff2e-4d27-86f4-a92db2511de8",
   "metadata": {},
   "outputs": [],
   "source": [
    "video_count = (\n",
    "    video_metadatas.groupby(pd.Grouper(key=\"upload_date\", freq=\"W\")).count().channel_id\n",
    ")"
   ]
  },
  {
   "cell_type": "code",
   "execution_count": 29,
   "id": "16c9e4a5-8d26-45e5-855e-19b2199b229f",
   "metadata": {},
   "outputs": [
    {
     "data": {
      "text/plain": [
       "Text(0.5, 1.0, 'Number of videos uploaded each week')"
      ]
     },
     "execution_count": 29,
     "metadata": {},
     "output_type": "execute_result"
    },
    {
     "data": {
      "image/png": "[encoded data removed]",
      "text/plain": [
       "<Figure size 432x288 with 1 Axes>"
      ]
     },
     "metadata": {
      "needs_background": "light"
     },
     "output_type": "display_data"
    }
   ],
   "source": [
    "plt.plot(video_count, color=\"#7570b3\", ls=\"--\", label=\"\\% videos uploaded\")\n",
    "plt.yscale(\"log\")\n",
    "plt.ylabel(\"Number of Videos\")\n",
    "plt.xlabel(\"Time\")\n",
    "plt.title(\"Number of videos uploaded each week\")"
   ]
  },
  {
   "cell_type": "markdown",
   "id": "b82de2c2-6451-4d1d-a070-11dccbb95d4f",
   "metadata": {},
   "source": [
    "From the graph above, we can see that the number of videos being uploaded to YouTube has increased steadily. Now let's have a closer look at the number of videos uploaded by each channel. Here we will consider the number of videos uploaded by each channel per year, as this is a preliminary analysis."
   ]
  },
  {
   "cell_type": "code",
   "execution_count": 33,
   "id": "13f7372e-9087-4202-9573-fb6ae7a787df",
   "metadata": {},
   "outputs": [],
   "source": [
    "# The following graph shows how many videos each channel uploads to YouTube per year.\n",
    "video_metadatas[\"yearNumber\"] = video_metadatas[\"upload_date\"].dt.year\n",
    "vd_cnt_by_id_yr = (\n",
    "    video_metadatas.groupby([\"channel_id\", \"yearNumber\"])\n",
    "    .count()\n",
    "    .categories.unstack()\n",
    "    .reset_index()\n",
    ")\n",
    "vd_cnt_by_id_yr.columns.name = None\n",
    "vd_cnt_by_id_yr_summary = vd_cnt_by_id_yr.describe()"
   ]
  },
  {
   "cell_type": "code",
   "execution_count": 34,
   "id": "c392d276-ef9a-4099-8df5-548c8cc15ff6",
   "metadata": {},
   "outputs": [
    {
     "data": {
      "text/plain": [
       "Text(0.5, 1.0, 'The 2nd and 3rd quartiles of yearly video upload frequency')"
      ]
     },
     "execution_count": 34,
     "metadata": {},
     "output_type": "execute_result"
    },
    {
     "data": {
      "image/png": "[encoded data removed]",
      "text/plain": [
       "<Figure size 432x288 with 1 Axes>"
      ]
     },
     "metadata": {
      "needs_background": "light"
     },
     "output_type": "display_data"
    }
   ],
   "source": [
    "plt.fill_between(\n",
    "    x=list(vd_cnt_by_id_yr_summary.columns.values),\n",
    "    y1=list(vd_cnt_by_id_yr_summary.loc[\"25%\", :]),\n",
    "    y2=list(vd_cnt_by_id_yr_summary.loc[\"75%\", :]),\n",
    "    alpha=0.5,\n",
    "    color=\"gray\",\n",
    ")\n",
    "plt.plot(vd_cnt_by_id_yr_summary.loc[\"50%\", :], color=\"black\")\n",
    "plt.xlabel(\"Year\")\n",
    "plt.ylabel(\"Yearly Upload Frequency\")\n",
    "plt.title(\"The 2nd and 3rd quartiles of yearly video upload frequency\")\n",
    "# here we choose quartiles, since the mean would be significantly affected by extremely high yearly upload rates\n"
   ]
  },
  {
   "cell_type": "markdown",
   "id": "42db581f-04bf-4093-8c90-223d8f57b3d5",
   "metadata": {},
   "source": [
    "This graphs shows that YouTubers uploads more videos every year with time, and the variation of upload frequency between channels also increased significantly since the beginning of the study period."
   ]
  },
  {
   "cell_type": "markdown",
   "id": "f7d4cfb5-d4c3-44fd-b807-61652dd7b139",
   "metadata": {},
   "source": [
    "### Section 2: Video Lengths\n",
    "\n",
    "Firstly, we will take a look at the basic statistics of video lengths using `video_metadatas` . To make it easier to understand, we will first convert the duration into minutes for the subsequent analysis."
   ]
  },
  {
   "cell_type": "code",
   "execution_count": 7,
   "id": "7e1c73d9-4058-4796-be4d-91a0df613880",
   "metadata": {},
   "outputs": [
    {
     "data": {
      "text/plain": [
       "count    7.292479e+07\n",
       "mean     1.262794e+01\n",
       "std      3.033518e+01\n",
       "min      1.666667e-02\n",
       "25%      2.233333e+00\n",
       "50%      4.733333e+00\n",
       "75%      1.163333e+01\n",
       "max      6.002617e+03\n",
       "Name: duration_min, dtype: float64"
      ]
     },
     "execution_count": 7,
     "metadata": {},
     "output_type": "execute_result"
    }
   ],
   "source": [
    "# divide the video duration by 60 to convert duration to minutes\n",
    "video_metadatas[\"duration_min\"] = video_metadatas[\"duration\"] / 60\n",
    "video_metadatas.duration_min.describe()"
   ]
  },
  {
   "cell_type": "code",
   "execution_count": 10,
   "id": "cc875406-407a-4199-92e6-a0285e1d0526",
   "metadata": {},
   "outputs": [
    {
     "data": {
      "image/png": "[encoded data removed]",
      "text/plain": [
       "<Figure size 432x288 with 1 Axes>"
      ]
     },
     "metadata": {
      "needs_background": "light"
     },
     "output_type": "display_data"
    }
   ],
   "source": [
    "duration_min_cumul = plt.hist(\n",
    "    video_metadatas.duration_min, bins=100, log=True, cumulative=-1, histtype=\"step\"\n",
    ")\n",
    "plt.title(\"Histogram of Duration for YouTube Videos (cumulative)\")\n",
    "plt.ylabel(\"# of Videos (in log scale)\")\n",
    "plt.xlabel(\"Duration in Minutes\")\n",
    "plt.xticks(rotation=30, ha=\"right\")\n",
    "plt.show()"
   ]
  },
  {
   "cell_type": "code",
   "execution_count": 13,
   "id": "1eddf678-64a2-4271-aaa6-c3ecc37fc021",
   "metadata": {},
   "outputs": [
    {
     "data": {
      "image/png": "[encoded data removed]",
      "text/plain": [
       "<Figure size 432x288 with 1 Axes>"
      ]
     },
     "metadata": {
      "needs_background": "light"
     },
     "output_type": "display_data"
    }
   ],
   "source": [
    "plt.loglog(duration_min_cumul[1][1:], duration_min_cumul[0])\n",
    "plt.title(\"Histogram of Duration for YouTube Videos (cumulative)\")\n",
    "plt.ylabel(\"# of Videos (in log scale)\")\n",
    "plt.xlabel(\"Duration\")\n",
    "plt.xticks(rotation=30, ha=\"right\")\n",
    "plt.show()"
   ]
  },
  {
   "cell_type": "markdown",
   "id": "232a9f59-f9ae-4b05-9ced-1c07802ea518",
   "metadata": {},
   "source": [
    "From the basic statistics and histogram, we can observe a significant difference in mean (12.63 minutes) and median (4.73 minutes), and the max duration (100 hours) is much higher then both mean and median. The distribution of the duration resembles that of heavy tail distribution. This observation suggests that there are extremely long videos in the dataset that would increase the mean significantly. Therefore, quartiles are better to represent the dataset without considering outliers.\n",
    "\n",
    "Therefore, we will have a look at the quartiles of duration of videos in the dataset to have a better idea about the distribution: "
   ]
  },
  {
   "cell_type": "code",
   "execution_count": 11,
   "id": "9feec452-8f43-4c65-a91a-e27fa4477b9d",
   "metadata": {},
   "outputs": [
    {
     "data": {
      "text/plain": [
       "Text(0.5, 1.0, 'Duration of Videos in Minutes')"
      ]
     },
     "execution_count": 11,
     "metadata": {},
     "output_type": "execute_result"
    },
    {
     "data": {
      "image/png": "[encoded data removed]",
      "text/plain": [
       "<Figure size 432x288 with 1 Axes>"
      ]
     },
     "metadata": {
      "needs_background": "light"
     },
     "output_type": "display_data"
    }
   ],
   "source": [
    "plt.boxplot(video_metadatas[\"duration_min\"], showfliers=False, vert=False)\n",
    "plt.title(\"Duration of Videos in Minutes\")"
   ]
  },
  {
   "cell_type": "markdown",
   "id": "ea832414-588e-4423-b464-647ce0c5ae39",
   "metadata": {},
   "source": [
    "TO-DO: GET AVERAGE VIDEO LENGTH PER YOUTUBER"
   ]
  },
  {
   "cell_type": "markdown",
   "id": "c3312f3f-980c-4460-a60d-b587927dc576",
   "metadata": {},
   "source": [
    "### Section 3: Upload Time\n",
    "In this section, we want to investigate when the YouTubers upload videos during the week."
   ]
  },
  {
   "cell_type": "code",
   "execution_count": 35,
   "id": "b12d27ec-0065-4130-be2a-6a57ac6aa3b7",
   "metadata": {},
   "outputs": [],
   "source": [
    "video_metadatas[\"weekNumber\"] = video_metadatas[\"upload_date\"].dt.weekday\n",
    "vd_cnt_by_id_wk = (\n",
    "    video_metadatas.groupby([\"channel_id\", \"weekNumber\", \"yearNumber\"])\n",
    "    .count()\n",
    "    .categories.unstack()\n",
    "    .reset_index()\n",
    ")\n",
    "vd_cnt_by_id_wk.columns.name = None\n",
    "vd_cnt_by_id_wk[\"mean_upload\"] = vd_cnt_by_id_wk.iloc[:, 2:].mean(axis=1, skipna=True)"
   ]
  },
  {
   "cell_type": "code",
   "execution_count": 36,
   "id": "e12107ba-808c-46c3-a84a-79d6c30503d1",
   "metadata": {},
   "outputs": [
    {
     "data": {
      "image/png": "[encoded data removed]",
      "text/plain": [
       "<Figure size 432x288 with 1 Axes>"
      ]
     },
     "metadata": {
      "needs_background": "light"
     },
     "output_type": "display_data"
    }
   ],
   "source": [
    "labels = [\"MON\", \"TUE\", \"WED\", \"THU\", \"FRI\", \"SAT\", \"SUN\"]\n",
    "ax = sns.boxplot(\n",
    "    x=\"weekNumber\", y=\"mean_upload\", data=vd_cnt_by_id_wk, showfliers=False\n",
    ").set(\n",
    "    xlabel='Week Days', \n",
    "    ylabel='Mean Upload',\n",
    "    xticklabels= labels)"
   ]
  },
  {
   "cell_type": "markdown",
   "id": "9c6c9474-6628-4cb6-9c29-57290d54f692",
   "metadata": {},
   "source": [
    "This boxplot shows that the variation between upload rate during weekdays are not significantly different. However, during the weekend, it seems that mean upload rate is less than during the week. Let's try to visualize it better by counting the total number of videos uploaded each day of the week, regardless the channel ID:"
   ]
  },
  {
   "cell_type": "code",
   "execution_count": 37,
   "id": "c682e02f-4bb5-4a74-b6e3-6221a52c9bc9",
   "metadata": {},
   "outputs": [],
   "source": [
    "vd_cnt_by_wk = (\n",
    "    video_metadatas.groupby([\"weekNumber\", \"yearNumber\"])\n",
    "    .count()\n",
    "    .categories.unstack()\n",
    "    .reset_index()\n",
    ")\n",
    "vd_cnt_by_wk.columns.name = None\n"
   ]
  },
  {
   "cell_type": "code",
   "execution_count": 38,
   "id": "b35a9f95-6989-4ae6-ae56-20dbd856e679",
   "metadata": {},
   "outputs": [
    {
     "data": {
      "image/png": "[encoded data removed]",
      "text/plain": [
       "<Figure size 1080x720 with 1 Axes>"
      ]
     },
     "metadata": {
      "needs_background": "light"
     },
     "output_type": "display_data"
    }
   ],
   "source": [
    "vd_cnt_by_wk_norm = vd_cnt_by_wk.iloc[:, 2:] / vd_cnt_by_wk.iloc[:, 2:].sum(skipna=True)\n",
    "plt.rcParams[\"figure.figsize\"] = (15, 10)\n",
    "plt.plot(vd_cnt_by_wk_norm.T)\n",
    "plt.legend(\n",
    "    [\"Monday\", \"Tuesday\", \"Wednesday\", \"Thursday\", \"Friday\", \"Saturday\", \"Sunday\"]\n",
    ")\n",
    "plt.xlabel(\"year\")\n",
    "plt.ylabel(\"NORMALISED: video uploaded each weekday\")\n",
    "plt.title(\"NORMALISED: The evolution of video upload rate for each weekday\")\n",
    "plt.show()"
   ]
  },
  {
   "cell_type": "markdown",
   "id": "82aed595-2907-431f-be7c-bcf61f4c582c",
   "metadata": {},
   "source": [
    "This graph suggests that the number of video uploaded from Monday to Friday is not significantly different from each other throughout the study period. Generally speaking, YouTubers upload more during weekdays than during the weekends. However, we can also observe an increasing number of videos uploaded on Saturdays."
   ]
  },
  {
   "cell_type": "code",
   "execution_count": null,
   "id": "5cc405a3-ae43-42d4-8d59-6bb084019f6c",
   "metadata": {},
   "outputs": [],
   "source": []
  },
  {
   "cell_type": "markdown",
   "id": "a7ce46f7-27b4-42c1-b5a5-1ef56b569337",
   "metadata": {},
   "source": [
    "## Question 2: How are the subscription patterns for reaching key numbers of subscribers, aka, 1k, 10k, 100k, 1M?\n",
    "\n",
    "In this section, we will investigate the time frame for YouTubers to reach key milestones in their channel success - number of subscriptions."
   ]
  },
  {
   "cell_type": "code",
   "execution_count": null,
   "id": "7a3340c8-074a-41f7-967b-2b745a618d22",
   "metadata": {},
   "outputs": [],
   "source": [
    "def get_df_channel_ascension(start_subs, end_subs):\n",
    "    \"\"\"finds the channels in the time series that have less than the start_subs and more than end_subs.\n",
    "    It means that it begins with less than start_subs and have now at least end_subs\n",
    "\n",
    "    Args:\n",
    "        start_subs (float): low_threshold\n",
    "        end_subs (float): high_threshold\n",
    "\n",
    "    Returns:\n",
    "        dataframe containing all the channels with evolution from starts_subs to end_subs\n",
    "    \"\"\"\n",
    "    under_start_subs = df_time_series[df_time_series[\"subs\"] < start_subs]\n",
    "    more_end_subs = df_time_series[df_time_series[\"subs\"] > end_subs]\n",
    "    channel_start_to_end = df_time_series[\n",
    "        df_time_series.channel.isin(under_start_subs.channel)\n",
    "        & df_time_series.channel.isin(more_end_subs.channel)\n",
    "    ]\n",
    "    return channel_start_to_end"
   ]
  },
  {
   "cell_type": "code",
   "execution_count": null,
   "id": "fab24d2e-8ed5-4407-ba1a-587061d52dc6",
   "metadata": {},
   "outputs": [],
   "source": [
    "def get_mean_time_to_reach_X_subs(df, lower_bound, upper_bound):\n",
    "    time_to_reach_X_subs = df.groupby(\"channel\").apply(\n",
    "        lambda group: pd.Series(\n",
    "            {\n",
    "                \"from_zero_to_hero_duration\": group[group.subs > upper_bound][\n",
    "                    \"datetime\"\n",
    "                ].iloc[0]\n",
    "                - group[group.subs < lower_bound][\"datetime\"].iloc[-1]\n",
    "            }\n",
    "        )\n",
    "    )\n",
    "    return time_to_reach_X_subs"
   ]
  },
  {
   "cell_type": "code",
   "execution_count": null,
   "id": "81cacc53-9aee-4bf1-908e-45f5c011d5f8",
   "metadata": {},
   "outputs": [],
   "source": [
    "channel_10K_to_1M = get_df_channel_ascension(10_000, 1_000_000)\n",
    "print(\n",
    "    \"We have {} channels that begins with 10K subs and reach at least 1M\".format(\n",
    "        channel_10K_to_1M.channel.nunique()\n",
    "    )\n",
    ")"
   ]
  },
  {
   "cell_type": "code",
   "execution_count": null,
   "id": "e618fbfd-56b5-4d59-b133-ccfacd46d455",
   "metadata": {},
   "outputs": [],
   "source": [
    "first_channel = channel_10K_to_1M.iloc[0]\n",
    "test = channel_10K_to_1M[channel_10K_to_1M[\"channel\"] == first_channel.channel]\n",
    "# test = test[(test['datetime'] > np.datetime64('2018-07-20')) & (test['datetime'] < np.datetime64('2019-01-20'))]\n",
    "test.plot(x=\"datetime\", y=\"subs\")\n",
    "print(\"There are {} weeks for this channel\".format(test.shape[0]))\n",
    "print(\n",
    "    \"We should have approximately the same value : \\n{} and {}\".format(\n",
    "        7 * test.shape[0], test.iloc[-1].datetime - test.iloc[0].datetime\n",
    "    )\n",
    ")"
   ]
  },
  {
   "cell_type": "code",
   "execution_count": null,
   "id": "71f5fcfe-f363-4146-8ac4-36b111180e69",
   "metadata": {},
   "outputs": [],
   "source": [
    "# get the time it takes to go from less than 10K to 1M\n",
    "time_to_reach_1M = get_mean_time_to_reach_X_subs(channel_10K_to_1M, 10_000, 1_000_000)\n",
    "time_to_reach_1M.head()"
   ]
  },
  {
   "cell_type": "code",
   "execution_count": null,
   "id": "4f43d08f-1c45-4945-9910-93ca62e9e670",
   "metadata": {},
   "outputs": [],
   "source": [
    "print(\n",
    "    \"In average YTbers take {} days to reach 1M of subscribers\".format(\n",
    "        time_to_reach_1M[\"from_zero_to_hero_duration\"].mean().days\n",
    "    )\n",
    ")"
   ]
  },
  {
   "cell_type": "markdown",
   "id": "b9c5e96f-5187-4b0e-9539-0fcc7df016f2",
   "metadata": {},
   "source": [
    "We will then bootstrap this result for Milestone 3 to see the time it takes to reach 1M subscribers and its confidence interval."
   ]
  },
  {
   "cell_type": "code",
   "execution_count": null,
   "id": "37f29dd8-2445-451b-93e0-101733c4391b",
   "metadata": {},
   "outputs": [],
   "source": [
    "data = time_to_reach_1M[\"from_zero_to_hero_duration\"].apply(\n",
    "    lambda delta_time: delta_time.days\n",
    ")"
   ]
  },
  {
   "cell_type": "code",
   "execution_count": null,
   "id": "fcb5e9df-faff-4f84-bded-fd710e4794c9",
   "metadata": {},
   "outputs": [],
   "source": [
    "rng = np.random.default_rng()\n",
    "conf_interval_reach_1M = bootstrap(\n",
    "    (data,),\n",
    "    np.mean,\n",
    "    confidence_level=0.95,\n",
    "    random_state=rng,\n",
    ").confidence_interval\n",
    "conf_interval_reach_1M\n",
    "\n",
    "print(\n",
    "    \"The 95% interval of confidence, the time taken to reach 1M (from 10K) is [{}, {}]\".format(\n",
    "        conf_interval_reach_1M.low, conf_interval_reach_1M.high\n",
    "    )\n",
    ")"
   ]
  },
  {
   "cell_type": "code",
   "execution_count": null,
   "id": "9ba22494-2490-4db9-ab44-1682799d6109",
   "metadata": {},
   "outputs": [],
   "source": []
  },
  {
   "cell_type": "markdown",
   "id": "30a5be8a-c59d-44ff-83f7-96fe718ed1a2",
   "metadata": {},
   "source": [
    "## Question 3: Which categories are more popular during the study period? Which types of videos receive more positive feedback?\n",
    "\n",
    "In this question, we will use `video_metadatas` to determine the which categories are more popular and with good review. This will help us to decide three categories to look deeper into for Milestone 3.\n",
    "\n",
    "### Section 1: Number of Views"
   ]
  },
  {
   "cell_type": "code",
   "execution_count": null,
   "id": "f544d210-6dc8-427c-bc46-054f6906312f",
   "metadata": {},
   "outputs": [],
   "source": [
    "#  make a copy of the video_metadatas\n",
    "videos_with_cat = video_metadatas[:]\n",
    "# here I tried to use the same expression as the replace you used below but it doesnt seem to work...\n",
    "videos_with_cat[\"categories\"] = videos_with_cat[\"categories\"].apply(\n",
    "    lambda x: x.replace(\" & \", \"_\")\n",
    ")\n",
    "# delete the rows with empty categories\n",
    "videos_with_cat.categories.replace(\"\", np.nan, inplace=True)\n",
    "videos_with_cat.dropna(subset=[\"categories\"], inplace=True)"
   ]
  },
  {
   "cell_type": "code",
   "execution_count": null,
   "id": "6c60f1fe-8f4d-483e-a92e-f095a47f0a6d",
   "metadata": {},
   "outputs": [],
   "source": [
    "encoded_cat = pd.get_dummies(videos_with_cat.categories)\n",
    "video_metadatas_encoded = videos_with_cat.join(encoded_cat)\n",
    "video_metadatas_encoded[\"year\"] = video_metadatas_encoded[\"upload_date\"].dt.year\n"
   ]
  },
  {
   "cell_type": "code",
   "execution_count": null,
   "id": "5e21bc2b-b83b-4777-8636-a32f3e2ba447",
   "metadata": {},
   "outputs": [],
   "source": [
    "mean_views = video_metadatas_encoded.groupby([\"year\", \"categories\"]).apply(\n",
    "    lambda x: pd.Series({\"mean_view\": x.view_count.mean()})\n",
    ")\n"
   ]
  },
  {
   "cell_type": "code",
   "execution_count": null,
   "id": "b3feb2aa-80f1-46b9-a5d7-d5859d4802d4",
   "metadata": {},
   "outputs": [],
   "source": [
    "# see the top most viewed categories every year\n",
    "largest_cat_every_year = (\n",
    "    mean_views.groupby(\"year\")[\"mean_view\"].nlargest(2).droplevel(0)\n",
    ")\n",
    "largest_cat_every_year[:30]"
   ]
  },
  {
   "cell_type": "code",
   "execution_count": null,
   "id": "c8a3d4c6-f5dc-4760-b4f2-f910e4bce5ee",
   "metadata": {},
   "outputs": [],
   "source": [
    "# the following to determine which type of videos are more popular\n",
    "# now we will determine how many videos are uploaded to YouTube by each channel by year\n",
    "video_count_by_year = (\n",
    "    videos_with_cat.dropna(axis=0).groupby([\"categories\", \"yearNumber\"]).sum()\n",
    ")\n",
    "# NOTE THAT CATEGORIES::MOVIES AND SHOWS HAVE VERY FEW DATA!"
   ]
  },
  {
   "cell_type": "code",
   "execution_count": null,
   "id": "ebe56dc7-f9cf-43b6-949d-f38278bbd970",
   "metadata": {},
   "outputs": [],
   "source": [
    "video_view_count_by_year = video_count_by_year.view_count.unstack().reset_index()\n",
    "video_view_count_by_year.columns.name = None"
   ]
  },
  {
   "cell_type": "code",
   "execution_count": null,
   "id": "6a9d0286-8f29-418f-bde9-6f9ec3a1b9f9",
   "metadata": {},
   "outputs": [],
   "source": [
    "plt.rcParams[\"figure.figsize\"] = (15, 10)\n",
    "for i in np.arange(video_view_count_by_year.shape[0]):\n",
    "    plt.plot(\n",
    "        video_view_count_by_year.loc[\n",
    "            i,\n",
    "        ][2:],\n",
    "        label=video_view_count_by_year.loc[i,][\n",
    "            0:1\n",
    "        ][0],\n",
    "    )\n",
    "plt.legend(loc=\"upper left\")\n",
    "plt.xlabel(\"year\")\n",
    "plt.ylabel(\"video view count\")\n",
    "plt.title(\"video view counts per year for each category\")\n",
    "plt.show()\n"
   ]
  },
  {
   "cell_type": "code",
   "execution_count": null,
   "id": "9d8a977b-aca5-4b8d-86f0-7005f5a9b1ea",
   "metadata": {},
   "outputs": [],
   "source": [
    "# NORMALISATION:\n",
    "## 1. view count - normalise wrt. total video views per year, to see which categories is viewed more every year\n",
    "plt.rcParams[\"figure.figsize\"] = (15, 10)\n",
    "for i in np.arange(video_view_count_by_year.shape[0]):\n",
    "    plt.plot(\n",
    "        video_view_count_by_year.loc[\n",
    "            i,\n",
    "        ][2:]\n",
    "        / video_view_count_by_year.sum(axis=0)[2:],\n",
    "        label=video_view_count_by_year.loc[i,][\n",
    "            0:1\n",
    "        ][0],\n",
    "    )\n",
    "plt.legend(loc=\"upper left\")\n",
    "plt.xlabel(\"year\")\n",
    "plt.ylabel(\"NORMALISED: video view count\")\n",
    "plt.title(\"NORMALISED: video view counts per year for each category\")\n",
    "plt.show()\n",
    "# view on music videos decreases, whereas on entertainment and gaming increases\n"
   ]
  },
  {
   "cell_type": "code",
   "execution_count": null,
   "id": "fd3c1632-b37a-448a-8ac7-366083a5a5b6",
   "metadata": {},
   "outputs": [],
   "source": []
  },
  {
   "cell_type": "markdown",
   "id": "20df0e28-5a64-410c-a3fb-21764025b888",
   "metadata": {},
   "source": [
    "### Section 2: Number of Likes"
   ]
  },
  {
   "cell_type": "code",
   "execution_count": null,
   "id": "353bbd41-a97c-4228-8863-12b6e48d37c1",
   "metadata": {},
   "outputs": [],
   "source": [
    "video_like_count_by_year = video_count_by_year.like_count.unstack().reset_index()\n",
    "video_like_count_by_year.columns.name = None"
   ]
  },
  {
   "cell_type": "code",
   "execution_count": null,
   "id": "a42bbcdc-450d-4c5b-873d-164da3e95a77",
   "metadata": {},
   "outputs": [],
   "source": [
    "plt.rcParams[\"figure.figsize\"] = (15, 10)\n",
    "for i in np.arange(video_like_count_by_year.shape[0]):\n",
    "    plt.plot(\n",
    "        video_like_count_by_year.loc[\n",
    "            i,\n",
    "        ][2:],\n",
    "        label=video_like_count_by_year.loc[i,][\n",
    "            0:1\n",
    "        ][0],\n",
    "    )\n",
    "plt.legend(loc=\"upper left\")\n",
    "plt.xlabel(\"year\")\n",
    "plt.ylabel(\"video likes count\")\n",
    "plt.title(\"video likes counts per year for each category\")\n",
    "plt.show()"
   ]
  },
  {
   "cell_type": "code",
   "execution_count": null,
   "id": "dd9854fc-243c-4270-90b4-b5941d0fef40",
   "metadata": {},
   "outputs": [],
   "source": [
    "## 2. like count - normalise wrt. total likes+dislikes for that category for that year\n",
    "plt.rcParams[\"figure.figsize\"] = (15, 10)\n",
    "for i in np.arange(video_like_count_by_year.shape[0]):\n",
    "    plt.plot(\n",
    "        video_like_count_by_year.loc[\n",
    "            i,\n",
    "        ][2:]\n",
    "        / (\n",
    "            video_like_count_by_year.loc[\n",
    "                i,\n",
    "            ][2:]\n",
    "            + video_dislike_count_by_year.loc[\n",
    "                i,\n",
    "            ][2:]\n",
    "        ),\n",
    "        label=video_like_count_by_year.loc[i,][\n",
    "            0:1\n",
    "        ][0],\n",
    "    )\n",
    "plt.legend(loc=\"upper left\")\n",
    "plt.xlabel(\"year\")\n",
    "plt.ylabel(\"NORMALISED: video likes count\")\n",
    "plt.title(\"NORMALISED: likes per counts per year for each category\")\n",
    "plt.show()\n",
    "\n",
    "# now it is interesting to see that news_politics and education are consistantly less liked\n",
    "# whereas for nonprofits_activism is becoming more loved"
   ]
  },
  {
   "cell_type": "code",
   "execution_count": null,
   "id": "bba40afb-2f3d-476d-92bb-f3346f910849",
   "metadata": {},
   "outputs": [],
   "source": [
    "## 3. like count versus view count - normalise wrt. total like counts over view counts for each category for each year\n",
    "plt.rcParams[\"figure.figsize\"] = (15, 10)\n",
    "for i in np.arange(video_like_count_by_year.shape[0]):\n",
    "    plt.plot(\n",
    "        video_like_count_by_year.loc[\n",
    "            i,\n",
    "        ][2:]\n",
    "        / (\n",
    "            video_view_count_by_year.loc[\n",
    "                i][2:]\n",
    "        ),\n",
    "        label=video_like_count_by_year.loc[i,][\n",
    "            0:1\n",
    "        ][0],\n",
    "    )\n",
    "plt.legend(loc=\"upper left\")\n",
    "plt.xlabel(\"year\")\n",
    "plt.ylabel(\"NORMALISED: like over views\")\n",
    "plt.title(\"NORMALISED: video like counts over view counts per category per year\")\n",
    "plt.show()\n"
   ]
  },
  {
   "cell_type": "code",
   "execution_count": null,
   "id": "87fa99ab-dbdc-431b-83bc-d301184931a5",
   "metadata": {},
   "outputs": [],
   "source": []
  },
  {
   "cell_type": "code",
   "execution_count": null,
   "id": "1321fdb9-3907-4802-8242-287e03a6752f",
   "metadata": {},
   "outputs": [],
   "source": []
  },
  {
   "cell_type": "markdown",
   "id": "cb448321-10bf-435a-82e6-8840644c2925",
   "metadata": {},
   "source": [
    "### Section 3: Number of Dislikes"
   ]
  },
  {
   "cell_type": "code",
   "execution_count": null,
   "id": "85055c8d-3483-44b7-baee-049d62f56842",
   "metadata": {},
   "outputs": [],
   "source": [
    "video_dislike_count_by_year = video_count_by_year.dislike_count.unstack().reset_index()\n",
    "video_dislike_count_by_year.columns.name = None"
   ]
  },
  {
   "cell_type": "code",
   "execution_count": null,
   "id": "17e02c4a-2a91-482e-933c-a07eb1b325e3",
   "metadata": {},
   "outputs": [],
   "source": [
    "plt.rcParams[\"figure.figsize\"] = (15, 10)\n",
    "for i in np.arange(video_dislike_count_by_year.shape[0]):\n",
    "    plt.plot(\n",
    "        video_dislike_count_by_year.loc[\n",
    "            i,\n",
    "        ][2:],\n",
    "        label=video_dislike_count_by_year.loc[i,][\n",
    "            0:1\n",
    "        ][0],\n",
    "    )\n",
    "plt.legend(loc=\"upper left\")\n",
    "plt.xlabel(\"year\")\n",
    "plt.ylabel(\"video dislikes count\")\n",
    "plt.title(\"video dislikes counts per year for each category\")\n",
    "plt.show()\n"
   ]
  },
  {
   "cell_type": "markdown",
   "id": "52576ee3-8c3c-40e7-9c6c-ffb004d2672b",
   "metadata": {},
   "source": [
    "TO-DO: CHANGE THE LEGEND ORDER BY THE ORDER IN 2005"
   ]
  }
 ],
 "metadata": {
  "kernelspec": {
   "display_name": "Python 3 (ipykernel)",
   "language": "python",
   "name": "python3"
  },
  "language_info": {
   "codemirror_mode": {
    "name": "ipython",
    "version": 3
   },
   "file_extension": ".py",
   "mimetype": "text/x-python",
   "name": "python",
   "nbconvert_exporter": "python",
   "pygments_lexer": "ipython3",
   "version": "3.9.12"
  }
 },
 "nbformat": 4,
 "nbformat_minor": 5
}
