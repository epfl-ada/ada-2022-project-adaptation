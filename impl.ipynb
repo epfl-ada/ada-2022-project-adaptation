{
 "cells": [
  {
   "cell_type": "code",
   "execution_count": 1,
   "metadata": {},
   "outputs": [],
   "source": [
    "import matplotlib.font_manager as font_manager\n",
    "from matplotlib.lines import Line2D\n",
    "import matplotlib as mpl\n",
    "import matplotlib.ticker as mtick\n",
    "import matplotlib.pyplot as plt\n",
    "import pandas as pd\n",
    "import numpy as np\n",
    "import seaborn as sns\n",
    "import os\n",
    "from scipy.stats import bootstrap\n",
    "import statsmodels.api as sm\n",
    "import statsmodels.formula.api as smf\n",
    "\n",
    "params = {\n",
    "    \"axes.titlesize\": 14,\n",
    "    \"axes.labelsize\": 12,\n",
    "    \"font.size\": 12,\n",
    "    \"legend.fontsize\": 12,\n",
    "    \"xtick.labelsize\": 12,\n",
    "    \"ytick.labelsize\": 12,\n",
    "    \"text.usetex\": False,\n",
    "}\n",
    "\n",
    "mpl.rcParams.update(params)\n",
    "\n",
    "\n",
    "import warnings\n",
    "\n",
    "warnings.filterwarnings(\"ignore\")\n"
   ]
  },
  {
   "cell_type": "code",
   "execution_count": null,
   "metadata": {},
   "outputs": [],
   "source": [
    "df_time_series = pd.read_csv(\n",
    "    \"./data/df_timeseries_en.tsv.gz\", compression=\"infer\", sep=\"\\t\"\n",
    ")\n",
    "df_time_series[\"datetime\"] = pd.to_datetime(df_time_series[\"datetime\"])\n",
    "\n",
    "df_channels = pd.read_csv(\"./data/df_channels_en.tsv.gz\", compression=\"infer\", sep=\"\\t\")\n",
    "df_channels[\"join_date\"] = pd.to_datetime(df_channels[\"join_date\"])\n"
   ]
  },
  {
   "cell_type": "code",
   "execution_count": 2,
   "metadata": {},
   "outputs": [],
   "source": [
    "video_metadatas = pd.read_feather(\n",
    "    \"./data/yt_metadata_helper.feather\",\n",
    "    columns=[\n",
    "        \"categories\",\n",
    "        \"upload_date\",\n",
    "        \"duration\",\n",
    "        \"like_count\",\n",
    "        \"dislike_count\",\n",
    "        \"view_count\",\n",
    "        \"channel_id\",\n",
    "    ],\n",
    ")\n"
   ]
  },
  {
   "cell_type": "code",
   "execution_count": null,
   "metadata": {},
   "outputs": [],
   "source": [
    "# round the subs value, easier to consider 1 sub as a person and not half of a person...\n",
    "df_time_series.subs = df_time_series.subs.round(0)\n"
   ]
  },
  {
   "cell_type": "code",
   "execution_count": null,
   "metadata": {},
   "outputs": [],
   "source": [
    "df_time_series.head()\n"
   ]
  },
  {
   "cell_type": "code",
   "execution_count": null,
   "metadata": {},
   "outputs": [],
   "source": [
    "df_channels.head()\n"
   ]
  },
  {
   "cell_type": "code",
   "execution_count": null,
   "metadata": {},
   "outputs": [],
   "source": [
    "video_metadatas.head()\n"
   ]
  },
  {
   "cell_type": "markdown",
   "metadata": {},
   "source": [
    "# Check length of videos"
   ]
  },
  {
   "cell_type": "markdown",
   "metadata": {},
   "source": [
    "An idea would be to use cut to match length of videos into discrete intervals "
   ]
  },
  {
   "cell_type": "code",
   "execution_count": null,
   "metadata": {},
   "outputs": [],
   "source": [
    "video_metadatas.duration.describe()\n"
   ]
  },
  {
   "cell_type": "code",
   "execution_count": null,
   "metadata": {},
   "outputs": [],
   "source": [
    "# To make it easier to grasp the length of videos, we will convert the lengths to minutes at first...\n",
    "video_metadatas[\"duration_min\"] = video_metadatas[\"duration\"] / 60\n",
    "video_metadatas.duration_min.describe()\n"
   ]
  },
  {
   "cell_type": "code",
   "execution_count": null,
   "metadata": {},
   "outputs": [],
   "source": [
    "plt.boxplot(video_metadatas[\"duration_min\"], showfliers=False, vert=False)\n",
    "plt.title(\"Duration of Videos in Minutes\")\n"
   ]
  },
  {
   "cell_type": "code",
   "execution_count": null,
   "metadata": {},
   "outputs": [],
   "source": [
    "duration_min_cumul = plt.hist(\n",
    "    video_metadatas.duration_min, bins=100, log=True, cumulative=-1, histtype=\"step\"\n",
    ")\n",
    "plt.title(\"Histogram of Duration for YouTube Videos (cumulative)\")\n",
    "plt.ylabel(\"# of Videos (in log scale)\")\n",
    "plt.xlabel(\"Duration in Minutes\")\n",
    "plt.xticks(rotation=30, ha=\"right\")\n",
    "plt.show()\n"
   ]
  },
  {
   "cell_type": "code",
   "execution_count": null,
   "metadata": {},
   "outputs": [],
   "source": [
    "plt.loglog(duration_min_cumul[1][1:], duration_min_cumul[0])\n",
    "plt.title(\"Histogram of Duration for YouTube Videos (cumulative)\")\n",
    "plt.ylabel(\"# of Videos (in log scale)\")\n",
    "plt.xlabel(\"Duration\")\n",
    "plt.xticks(rotation=30, ha=\"right\")\n",
    "plt.show()\n"
   ]
  },
  {
   "cell_type": "code",
   "execution_count": null,
   "metadata": {},
   "outputs": [],
   "source": [
    "# long to compute\n",
    "\n",
    "# bucket_durations = pd.cut(video_metadatas['duration'], bins=100)\n",
    "# print(type(bucket_durations))\n"
   ]
  },
  {
   "cell_type": "markdown",
   "metadata": {},
   "source": [
    "---"
   ]
  },
  {
   "cell_type": "markdown",
   "metadata": {},
   "source": [
    "# Check frequency of videos"
   ]
  },
  {
   "cell_type": "code",
   "execution_count": null,
   "metadata": {},
   "outputs": [],
   "source": [
    "video_count = (\n",
    "    video_metadatas.groupby(pd.Grouper(key=\"upload_date\", freq=\"W\")).count().channel_id\n",
    ")\n"
   ]
  },
  {
   "cell_type": "code",
   "execution_count": null,
   "metadata": {},
   "outputs": [],
   "source": [
    "plt.plot(video_count, color=\"#7570b3\", ls=\"--\", label=\"\\% videos uploaded\")\n",
    "plt.yscale(\"log\")\n",
    "plt.ylabel(\"Number of Videos\")\n",
    "plt.xlabel(\"Time\")\n",
    "plt.title(\"Number of videos updated each week\")\n"
   ]
  },
  {
   "cell_type": "code",
   "execution_count": null,
   "metadata": {},
   "outputs": [],
   "source": [
    "# now we will determine how many videos are uploaded to YouTube by each channel by year\n",
    "video_metadatas[\"yearNumber\"] = video_metadatas[\"upload_date\"].dt.year\n",
    "vd_cnt_by_id_yr = (\n",
    "    video_metadatas.groupby([\"channel_id\", \"yearNumber\"])\n",
    "    .count().categories.unstack().reset_index()\n",
    ")\n",
    "vd_cnt_by_id_yr.columns.name = None"
   ]
  },
  {
   "cell_type": "code",
   "execution_count": null,
   "metadata": {},
   "outputs": [],
   "source": [
    "# we now remove the channels that uploaded less than 12 videos throughout the study period\n",
    "vd_cnt_by_id_yr_filtered = vd_cnt_by_id_yr[vd_cnt_by_id_yr.sum(axis=1)>12]"
   ]
  },
  {
   "cell_type": "code",
   "execution_count": null,
   "metadata": {},
   "outputs": [],
   "source": [
    "vd_cnt_by_id_yr_filtered_summary = vd_cnt_by_id_yr_filtered.describe()"
   ]
  },
  {
   "cell_type": "code",
   "execution_count": null,
   "metadata": {},
   "outputs": [],
   "source": [
    "plt.fill_between(x=list(vd_cnt_by_id_yr_filtered_summary.columns.values),\n",
    "                y1=list(vd_cnt_by_id_yr_filtered_summary.loc[\"25%\",:]),\n",
    "                y2=list(vd_cnt_by_id_yr_filtered_summary.loc[\"75%\",:]), \n",
    "                 alpha = 0.5, color = 'gray')\n",
    "plt.plot(vd_cnt_by_id_yr_filtered_summary.loc[\"50%\",:], color = 'black')\n",
    "\n",
    "plt.xlabel('Year')\n",
    "plt.ylabel('Yearly Upload Frequency')\n",
    "plt.title('The quantiles of yearly video upload frequency')\n",
    "# here we choose quantiles, since mean would be significantly affected by the extremely high yearly upload rates"
   ]
  },
  {
   "cell_type": "code",
   "execution_count": null,
   "metadata": {},
   "outputs": [],
   "source": []
  },
  {
   "cell_type": "code",
   "execution_count": null,
   "metadata": {},
   "outputs": [],
   "source": []
  },
  {
   "cell_type": "code",
   "execution_count": null,
   "metadata": {},
   "outputs": [],
   "source": []
  },
  {
   "cell_type": "markdown",
   "metadata": {},
   "source": [
    "---"
   ]
  },
  {
   "cell_type": "markdown",
   "metadata": {},
   "source": [
    "# How long to reach 1M subscribers "
   ]
  },
  {
   "cell_type": "markdown",
   "metadata": {},
   "source": [
    "Could be interesting to take all the videos with 10K, 20K, 30K, ... and see the evolution to reach 100K for example. And compare different evolution : from 50K to 100K or from 500K to 600K, etc.. which one is the fastest, easiest ?  "
   ]
  },
  {
   "cell_type": "code",
   "execution_count": null,
   "metadata": {},
   "outputs": [],
   "source": [
    "def get_df_channel_ascension(start_subs, end_subs):\n",
    "    \"\"\"finds the channels in the time series that have less than the start_subs and more than end_subs.\n",
    "    It means that it begins with less than start_subs and have now at least end_subs\n",
    "\n",
    "    Args:\n",
    "        start_subs (float): low_threshold\n",
    "        end_subs (float): high_threshold\n",
    "\n",
    "    Returns:\n",
    "        dataframe containing all the channels with evolution from starts_subs to end_subs\n",
    "    \"\"\"\n",
    "    under_start_subs = df_time_series[df_time_series[\"subs\"] < start_subs]\n",
    "    more_end_subs = df_time_series[df_time_series[\"subs\"] > end_subs]\n",
    "    channel_start_to_end = df_time_series[\n",
    "        df_time_series.channel.isin(under_start_subs.channel)\n",
    "        & df_time_series.channel.isin(more_end_subs.channel)\n",
    "    ]\n",
    "    return channel_start_to_end\n"
   ]
  },
  {
   "cell_type": "code",
   "execution_count": null,
   "metadata": {},
   "outputs": [],
   "source": [
    "def get_mean_time_to_reach_X_subs(df, lower_bound, upper_bound):\n",
    "    time_to_reach_X_subs = df.groupby(\"channel\").apply(\n",
    "        lambda group: pd.Series(\n",
    "            {\n",
    "                \"from_zero_to_hero_duration\": group[group.subs > upper_bound][\n",
    "                    \"datetime\"\n",
    "                ].iloc[0]\n",
    "                - group[group.subs < lower_bound][\"datetime\"].iloc[-1]\n",
    "            }\n",
    "        )\n",
    "    )\n",
    "    return time_to_reach_X_subs\n"
   ]
  },
  {
   "cell_type": "code",
   "execution_count": null,
   "metadata": {},
   "outputs": [],
   "source": [
    "channel_10K_to_1M = get_df_channel_ascension(10_000, 1_000_000)\n",
    "print(\n",
    "    \"We have {} channels that begins with 10K subs and reach at least 1M\".format(\n",
    "        channel_10K_to_1M.channel.nunique()\n",
    "    )\n",
    ")\n"
   ]
  },
  {
   "cell_type": "code",
   "execution_count": null,
   "metadata": {},
   "outputs": [],
   "source": [
    "first_channel = channel_10K_to_1M.iloc[0]\n",
    "test = channel_10K_to_1M[channel_10K_to_1M[\"channel\"] == first_channel.channel]\n",
    "# test = test[(test['datetime'] > np.datetime64('2018-07-20')) & (test['datetime'] < np.datetime64('2019-01-20'))]\n",
    "test.plot(x=\"datetime\", y=\"subs\")\n",
    "print(\"There are {} weeks for this channel\".format(test.shape[0]))\n",
    "print(\n",
    "    \"We should have approximately the same value : \\n{} and {}\".format(\n",
    "        7 * test.shape[0], test.iloc[-1].datetime - test.iloc[0].datetime\n",
    "    )\n",
    ")\n"
   ]
  },
  {
   "cell_type": "code",
   "execution_count": null,
   "metadata": {},
   "outputs": [],
   "source": [
    "# get the time it takes to go from less than 10K to 1M\n",
    "time_to_reach_1M = get_mean_time_to_reach_X_subs(channel_10K_to_1M, 10_000, 1_000_000)\n",
    "time_to_reach_1M.head()\n"
   ]
  },
  {
   "cell_type": "code",
   "execution_count": null,
   "metadata": {},
   "outputs": [],
   "source": [
    "print(\n",
    "    \"In average YTbers take {} days to reach 1M of subscribers\".format(\n",
    "        time_to_reach_1M[\"from_zero_to_hero_duration\"].mean().days\n",
    "    )\n",
    ")\n"
   ]
  },
  {
   "cell_type": "markdown",
   "metadata": {},
   "source": [
    "It would be nice to bootstrap this result to see with interval of confidence the time taken by Youtuber to reach 1M"
   ]
  },
  {
   "cell_type": "code",
   "execution_count": null,
   "metadata": {},
   "outputs": [],
   "source": [
    "data = time_to_reach_1M[\"from_zero_to_hero_duration\"].apply(\n",
    "    lambda delta_time: delta_time.days\n",
    ")\n"
   ]
  },
  {
   "cell_type": "code",
   "execution_count": null,
   "metadata": {},
   "outputs": [],
   "source": [
    "rng = np.random.default_rng()\n",
    "conf_interval_reach_1M = bootstrap(\n",
    "    (data,),\n",
    "    np.mean,\n",
    "    confidence_level=0.95,\n",
    "    random_state=rng,\n",
    ").confidence_interval\n",
    "conf_interval_reach_1M\n"
   ]
  },
  {
   "cell_type": "code",
   "execution_count": null,
   "metadata": {},
   "outputs": [],
   "source": [
    "print(\n",
    "    \"The 95% interval of confidence, the time taken to reach 1M (from 10K) is [{}, {}]\".format(\n",
    "        conf_interval_reach_1M.low, conf_interval_reach_1M.high\n",
    "    )\n",
    ")\n"
   ]
  },
  {
   "cell_type": "markdown",
   "metadata": {},
   "source": [
    "---"
   ]
  },
  {
   "cell_type": "markdown",
   "metadata": {},
   "source": [
    "# Check the number of views (maybe after we could add likes, dislike) given a certain categories and date of videos"
   ]
  },
  {
   "cell_type": "markdown",
   "metadata": {},
   "source": [
    "For this task lets analyze and after ploting and getting some intuition, use logistic regression to 'predict' the nb of views given category and date "
   ]
  },
  {
   "cell_type": "code",
   "execution_count": null,
   "metadata": {},
   "outputs": [],
   "source": [
    "video_metadatas.head()\n",
    "video_metadatas.shape\n"
   ]
  },
  {
   "cell_type": "code",
   "execution_count": null,
   "metadata": {},
   "outputs": [],
   "source": [
    "# I added this [:] to make a copy of the video_metadatas, so that the following operation wont affect the original video_metadatas\n",
    "videos_with_cat = video_metadatas[:]\n",
    "# here I tried to use the same expression as the replace you used below but it doesnt seem to work...\n",
    "videos_with_cat[\"categories\"] = videos_with_cat[\"categories\"].apply(lambda x: x.replace(\" & \", \"_\"))\n",
    "# delete the rows with empty categories\n",
    "videos_with_cat.categories.replace(\"\", np.nan, inplace=True)\n",
    "videos_with_cat.dropna(subset=[\"categories\"], inplace=True)\n",
    "videos_with_cat.shape"
   ]
  },
  {
   "cell_type": "code",
   "execution_count": null,
   "metadata": {},
   "outputs": [],
   "source": [
    "encoded_cat = pd.get_dummies(videos_with_cat.categories)\n",
    "video_metadatas_encoded = videos_with_cat.join(encoded_cat)"
   ]
  },
  {
   "cell_type": "code",
   "execution_count": null,
   "metadata": {},
   "outputs": [],
   "source": [
    "video_metadatas_encoded[\"year\"] = video_metadatas_encoded[\"upload_date\"].dt.year"
   ]
  },
  {
   "cell_type": "code",
   "execution_count": null,
   "metadata": {},
   "outputs": [],
   "source": [
    "mean_views = video_metadatas_encoded.groupby([\"year\", \"categories\"]).apply(\n",
    "    lambda x: pd.Series({\"mean_view\": x.view_count.mean()})\n",
    ")\n"
   ]
  },
  {
   "cell_type": "code",
   "execution_count": null,
   "metadata": {},
   "outputs": [],
   "source": [
    "mean_views[:10]\n"
   ]
  },
  {
   "cell_type": "code",
   "execution_count": null,
   "metadata": {},
   "outputs": [],
   "source": [
    "# see the top most viewed categories every year\n",
    "largest_cat_every_year = (\n",
    "    mean_views.groupby(\"year\")[\"mean_view\"].nlargest(2).droplevel(0)\n",
    ")\n",
    "largest_cat_every_year[:10]\n"
   ]
  },
  {
   "cell_type": "code",
   "execution_count": null,
   "metadata": {},
   "outputs": [],
   "source": [
    "# Wenxiu Comment: This prediction simply shows which categories have a higher view counts. Can't this be shown by simply comparing\n",
    "# the view count evolution across different categories across years? Also the number of like and dislikes are directly linked\n",
    "# to the view count, as one would have to view the video before rating like or dislike - does it still make it suitable to be considered?\n",
    "# also maybe we can add positiveness and negativeness of titles and so on for the model?\n",
    "\n",
    "# one reasonable prediction I can think of is to use the time series data to predict subscription.\n",
    "\n",
    "model = smf.ols(\n",
    "    formula='view_count ~ year + duration + C(Autos_Vehicles) + C(Comedy) + C(Education) + C(Entertainment) + C(Film_Animation) + \\\n",
    "                C(Gaming) + C(Movies) + C(Music) + C(News_Politics) + C(Nonprofits_Activism) + \\\n",
    "                C(People_Blogs) + C(Pets_Animals) + C(Science_Technology) + C(Shows) + C(Sports) + C(Travel_Events)',\n",
    "    data=video_metadatas_encoded\n",
    ")\n",
    "\n",
    "res = model.fit()\n",
    "print(res.summary())"
   ]
  },
  {
   "cell_type": "code",
   "execution_count": null,
   "metadata": {},
   "outputs": [],
   "source": [
    "# Alternatively, I suggest the following to determine which type of videos are more popular\n",
    "# now we will determine how many videos are uploaded to YouTube by each channel by year\n",
    "video_count_by_year = videos_with_cat.dropna(axis=0).groupby([\"categories\", \"yearNumber\"]).sum()\n",
    "# NOTE THAT CATEGORIES::MOVIES AND SHOWS HAVE VERY FEW DATA!"
   ]
  },
  {
   "cell_type": "code",
   "execution_count": null,
   "metadata": {},
   "outputs": [],
   "source": [
    "video_view_count_by_year = video_count_by_year.view_count.unstack().reset_index()\n",
    "video_view_count_by_year.columns.name = None\n",
    "\n",
    "video_like_count_by_year = video_count_by_year.like_count.unstack().reset_index()\n",
    "video_like_count_by_year.columns.name = None\n",
    "\n",
    "video_dislike_count_by_year = video_count_by_year.dislike_count.unstack().reset_index()\n",
    "video_dislike_count_by_year.columns.name = None"
   ]
  },
  {
   "cell_type": "code",
   "execution_count": null,
   "metadata": {},
   "outputs": [],
   "source": [
    "videos_with_cat.loc[videos_with_cat[\"categories\"]==\"Movies\", ]"
   ]
  },
  {
   "cell_type": "code",
   "execution_count": null,
   "metadata": {},
   "outputs": [],
   "source": [
    "plt.rcParams[\"figure.figsize\"] = (15,10)\n",
    "for i in np.arange(video_view_count_by_year.shape[0]) :\n",
    "    plt.plot(video_view_count_by_year.loc[i,][2:], label=video_view_count_by_year.loc[i,][0:1][0])\n",
    "plt.legend(loc=\"upper left\")\n",
    "plt.xlabel(\"year\")\n",
    "plt.ylabel(\"video view count\")\n",
    "plt.title(\"video view counts per year for each category\")\n",
    "plt.show()"
   ]
  },
  {
   "cell_type": "code",
   "execution_count": null,
   "metadata": {},
   "outputs": [],
   "source": [
    "plt.rcParams[\"figure.figsize\"] = (15,10)\n",
    "for i in np.arange(video_like_count_by_year.shape[0]) :\n",
    "    plt.plot(video_like_count_by_year.loc[i,][2:], label=video_like_count_by_year.loc[i,][0:1][0])\n",
    "plt.legend(loc=\"upper left\")\n",
    "plt.xlabel(\"year\")\n",
    "plt.ylabel(\"video likes count\")\n",
    "plt.title(\"video likes counts per year for each category\")\n",
    "plt.show()"
   ]
  },
  {
   "cell_type": "code",
   "execution_count": null,
   "metadata": {},
   "outputs": [],
   "source": [
    "plt.rcParams[\"figure.figsize\"] = (15,10)\n",
    "for i in np.arange(video_dislike_count_by_year.shape[0]) :\n",
    "    plt.plot(video_dislike_count_by_year.loc[i,][2:], label=video_dislike_count_by_year.loc[i,][0:1][0])\n",
    "plt.legend(loc=\"upper left\")\n",
    "plt.xlabel(\"year\")\n",
    "plt.ylabel(\"video dislikes count\")\n",
    "plt.title(\"video dislikes counts per year for each category\")\n",
    "plt.show()"
   ]
  },
  {
   "cell_type": "code",
   "execution_count": null,
   "metadata": {},
   "outputs": [],
   "source": [
    "# NORMALISATION:\n",
    "## 1. view count - normalise wrt. total video views per year, to see which categories is viewed more every year\n",
    "plt.rcParams[\"figure.figsize\"] = (15,10)\n",
    "for i in np.arange(video_view_count_by_year.shape[0]) :\n",
    "    plt.plot(video_view_count_by_year.loc[i,][2:]/video_view_count_by_year.sum(axis=0)[2:], \n",
    "             label=video_view_count_by_year.loc[i,][0:1][0])\n",
    "plt.legend(loc=\"upper left\")\n",
    "plt.xlabel(\"year\")\n",
    "plt.ylabel(\"NORMALISED: video view count\")\n",
    "plt.title(\"NORMALISED: video view counts per year for each category\")\n",
    "plt.show()\n",
    "# view on music videos decreases, whereas on entertainment and gaming increases"
   ]
  },
  {
   "cell_type": "code",
   "execution_count": null,
   "metadata": {},
   "outputs": [],
   "source": [
    "## 2. like count - normalise wrt. total likes+dislikes for that category for that year\n",
    "plt.rcParams[\"figure.figsize\"] = (15,10)\n",
    "for i in np.arange(video_like_count_by_year.shape[0]) :\n",
    "    plt.plot(video_like_count_by_year.loc[i,][2:]/(video_like_count_by_year.loc[i,][2:]+video_dislike_count_by_year.loc[i,][2:]), \n",
    "             label=video_like_count_by_year.loc[i,][0:1][0])\n",
    "plt.legend(loc=\"upper left\")\n",
    "plt.xlabel(\"year\")\n",
    "plt.ylabel(\"NORMALISED: video likes count\")\n",
    "plt.title(\"NORMALISED: video likes counts per year for each category\")\n",
    "plt.show()\n",
    "\n",
    "# now it is interesting to see that news_politics and education are consistantly less liked\n",
    "# whereas for nonprofits_activism is becoming more loved"
   ]
  },
  {
   "cell_type": "code",
   "execution_count": null,
   "metadata": {},
   "outputs": [],
   "source": []
  },
  {
   "cell_type": "code",
   "execution_count": null,
   "metadata": {},
   "outputs": [],
   "source": []
  },
  {
   "cell_type": "markdown",
   "metadata": {},
   "source": [
    "# Use Least Square to predict the number of views given the category and the date"
   ]
  },
  {
   "cell_type": "code",
   "execution_count": null,
   "metadata": {},
   "outputs": [],
   "source": [
    "def choose_video_metadata_year(year):\n",
    "    return video_metadatas[video_metadatas['year'] == year]"
   ]
  },
  {
   "cell_type": "code",
   "execution_count": null,
   "metadata": {},
   "outputs": [],
   "source": [
    "video_metadatas[\"year\"] = video_metadatas[\"upload_date\"].dt.year"
   ]
  },
  {
   "cell_type": "code",
   "execution_count": null,
   "metadata": {},
   "outputs": [],
   "source": [
    "video_metadatas.head()\n"
   ]
  },
  {
   "cell_type": "code",
   "execution_count": null,
   "metadata": {},
   "outputs": [],
   "source": [
    "video_metadatas.columns\n"
   ]
  },
  {
   "cell_type": "code",
   "execution_count": null,
   "metadata": {},
   "outputs": [],
   "source": [
    "video_metadatas_2005 = choose_video_metadata_year(2005)\n",
    "video_metadatas_2005.drop(['upload_date', 'channel_id'], axis=1, inplace=True)\n",
    "video_metadatas_2005.head() "
   ]
  },
  {
   "cell_type": "code",
   "execution_count": null,
   "metadata": {},
   "outputs": [],
   "source": [
    "model = smf.ols(\n",
    "    formula='view_count ~ duration + C(categories)',\n",
    "    data=video_metadatas_2005\n",
    ")\n",
    "\n",
    "res = model.fit()\n",
    "print(res.summary())\n",
    "\n",
    "# print(res.predict([120, 'Music']))\n"
   ]
  },
  {
   "cell_type": "markdown",
   "metadata": {},
   "source": [
    "# Load the metada with titles and count the number of words "
   ]
  },
  {
   "cell_type": "code",
   "execution_count": 3,
   "metadata": {},
   "outputs": [],
   "source": [
    "def count_words_simple(x):\n",
    "    return len(x.split(\" \"))"
   ]
  },
  {
   "cell_type": "code",
   "execution_count": 4,
   "metadata": {},
   "outputs": [],
   "source": [
    "titles_metadata = pd.read_feather(\n",
    "    \"./data/yt_metadata_title_helper.feather\"\n",
    ")"
   ]
  },
  {
   "cell_type": "code",
   "execution_count": 5,
   "metadata": {},
   "outputs": [
    {
     "data": {
      "text/html": [
       "<div>\n",
       "<style scoped>\n",
       "    .dataframe tbody tr th:only-of-type {\n",
       "        vertical-align: middle;\n",
       "    }\n",
       "\n",
       "    .dataframe tbody tr th {\n",
       "        vertical-align: top;\n",
       "    }\n",
       "\n",
       "    .dataframe thead th {\n",
       "        text-align: right;\n",
       "    }\n",
       "</style>\n",
       "<table border=\"1\" class=\"dataframe\">\n",
       "  <thead>\n",
       "    <tr style=\"text-align: right;\">\n",
       "      <th></th>\n",
       "      <th>title</th>\n",
       "    </tr>\n",
       "  </thead>\n",
       "  <tbody>\n",
       "    <tr>\n",
       "      <th>0</th>\n",
       "      <td>Lego City Police Lego Firetruck Cartoons about...</td>\n",
       "    </tr>\n",
       "    <tr>\n",
       "      <th>1</th>\n",
       "      <td>Lego Marvel SuperHeroes Lego Hulk Smash Iron-M...</td>\n",
       "    </tr>\n",
       "    <tr>\n",
       "      <th>2</th>\n",
       "      <td>Lego City Police Lego Fireman Cartoons about L...</td>\n",
       "    </tr>\n",
       "    <tr>\n",
       "      <th>3</th>\n",
       "      <td>Lego Harry Potter Complete Lego New Movie for ...</td>\n",
       "    </tr>\n",
       "    <tr>\n",
       "      <th>4</th>\n",
       "      <td>Lego City Police 1 HOUR LONG VIDEO for kids Le...</td>\n",
       "    </tr>\n",
       "    <tr>\n",
       "      <th>...</th>\n",
       "      <td>...</td>\n",
       "    </tr>\n",
       "    <tr>\n",
       "      <th>72924789</th>\n",
       "      <td>Shri Manoj Kumar Tiwari's speech during Motion...</td>\n",
       "    </tr>\n",
       "    <tr>\n",
       "      <th>72924790</th>\n",
       "      <td>Shri La Ganesan's speech during Motion of Than...</td>\n",
       "    </tr>\n",
       "    <tr>\n",
       "      <th>72924791</th>\n",
       "      <td>Shri Mukhtar Abbas Naqvi's speech during Motio...</td>\n",
       "    </tr>\n",
       "    <tr>\n",
       "      <th>72924792</th>\n",
       "      <td>BJP submitted complaint to EC against Chief Se...</td>\n",
       "    </tr>\n",
       "    <tr>\n",
       "      <th>72924793</th>\n",
       "      <td>Shri Amit Shah speech at public meeting in Noi...</td>\n",
       "    </tr>\n",
       "  </tbody>\n",
       "</table>\n",
       "<p>72924794 rows × 1 columns</p>\n",
       "</div>"
      ],
      "text/plain": [
       "                                                      title\n",
       "0         Lego City Police Lego Firetruck Cartoons about...\n",
       "1         Lego Marvel SuperHeroes Lego Hulk Smash Iron-M...\n",
       "2         Lego City Police Lego Fireman Cartoons about L...\n",
       "3         Lego Harry Potter Complete Lego New Movie for ...\n",
       "4         Lego City Police 1 HOUR LONG VIDEO for kids Le...\n",
       "...                                                     ...\n",
       "72924789  Shri Manoj Kumar Tiwari's speech during Motion...\n",
       "72924790  Shri La Ganesan's speech during Motion of Than...\n",
       "72924791  Shri Mukhtar Abbas Naqvi's speech during Motio...\n",
       "72924792  BJP submitted complaint to EC against Chief Se...\n",
       "72924793  Shri Amit Shah speech at public meeting in Noi...\n",
       "\n",
       "[72924794 rows x 1 columns]"
      ]
     },
     "execution_count": 5,
     "metadata": {},
     "output_type": "execute_result"
    }
   ],
   "source": [
    "titles_metadata.drop('categories', axis=1, inplace=True)\n",
    "titles_metadata"
   ]
  },
  {
   "cell_type": "code",
   "execution_count": 6,
   "metadata": {},
   "outputs": [],
   "source": [
    "titles_nb_words = titles_metadata\n",
    "titles_nb_words.title = titles_metadata['title'].apply(lambda x : count_words_simple(x))"
   ]
  },
  {
   "cell_type": "code",
   "execution_count": 9,
   "metadata": {},
   "outputs": [],
   "source": [
    "titles_nb_words.rename(columns={'title' : 'nb_words'}, inplace=True)"
   ]
  },
  {
   "cell_type": "code",
   "execution_count": 17,
   "metadata": {},
   "outputs": [
    {
     "data": {
      "text/html": [
       "<div>\n",
       "<style scoped>\n",
       "    .dataframe tbody tr th:only-of-type {\n",
       "        vertical-align: middle;\n",
       "    }\n",
       "\n",
       "    .dataframe tbody tr th {\n",
       "        vertical-align: top;\n",
       "    }\n",
       "\n",
       "    .dataframe thead th {\n",
       "        text-align: right;\n",
       "    }\n",
       "</style>\n",
       "<table border=\"1\" class=\"dataframe\">\n",
       "  <thead>\n",
       "    <tr style=\"text-align: right;\">\n",
       "      <th></th>\n",
       "      <th>nb_words</th>\n",
       "      <th>categories</th>\n",
       "      <th>upload_date</th>\n",
       "      <th>duration</th>\n",
       "      <th>like_count</th>\n",
       "      <th>view_count</th>\n",
       "      <th>channel_id</th>\n",
       "    </tr>\n",
       "  </thead>\n",
       "  <tbody>\n",
       "    <tr>\n",
       "      <th>0</th>\n",
       "      <td>13</td>\n",
       "      <td>Film &amp; Animation</td>\n",
       "      <td>2016-09-28</td>\n",
       "      <td>1159</td>\n",
       "      <td>8.0</td>\n",
       "      <td>1057.0</td>\n",
       "      <td>UCzWrhkg9eK5I8Bm3HfV-unA</td>\n",
       "    </tr>\n",
       "    <tr>\n",
       "      <th>1</th>\n",
       "      <td>12</td>\n",
       "      <td>Film &amp; Animation</td>\n",
       "      <td>2016-09-28</td>\n",
       "      <td>2681</td>\n",
       "      <td>23.0</td>\n",
       "      <td>12894.0</td>\n",
       "      <td>UCzWrhkg9eK5I8Bm3HfV-unA</td>\n",
       "    </tr>\n",
       "    <tr>\n",
       "      <th>2</th>\n",
       "      <td>13</td>\n",
       "      <td>Film &amp; Animation</td>\n",
       "      <td>2016-09-28</td>\n",
       "      <td>1394</td>\n",
       "      <td>1607.0</td>\n",
       "      <td>1800602.0</td>\n",
       "      <td>UCzWrhkg9eK5I8Bm3HfV-unA</td>\n",
       "    </tr>\n",
       "    <tr>\n",
       "      <th>3</th>\n",
       "      <td>12</td>\n",
       "      <td>Film &amp; Animation</td>\n",
       "      <td>2016-09-28</td>\n",
       "      <td>5064</td>\n",
       "      <td>227.0</td>\n",
       "      <td>57640.0</td>\n",
       "      <td>UCzWrhkg9eK5I8Bm3HfV-unA</td>\n",
       "    </tr>\n",
       "    <tr>\n",
       "      <th>4</th>\n",
       "      <td>14</td>\n",
       "      <td>Film &amp; Animation</td>\n",
       "      <td>2016-09-28</td>\n",
       "      <td>3554</td>\n",
       "      <td>105.0</td>\n",
       "      <td>86368.0</td>\n",
       "      <td>UCzWrhkg9eK5I8Bm3HfV-unA</td>\n",
       "    </tr>\n",
       "    <tr>\n",
       "      <th>...</th>\n",
       "      <td>...</td>\n",
       "      <td>...</td>\n",
       "      <td>...</td>\n",
       "      <td>...</td>\n",
       "      <td>...</td>\n",
       "      <td>...</td>\n",
       "      <td>...</td>\n",
       "    </tr>\n",
       "    <tr>\n",
       "      <th>72924789</th>\n",
       "      <td>14</td>\n",
       "      <td>News &amp; Politics</td>\n",
       "      <td>2017-02-06</td>\n",
       "      <td>270</td>\n",
       "      <td>67.0</td>\n",
       "      <td>4409.0</td>\n",
       "      <td>UCrwE8kVqtIUVUzKui2WVpuQ</td>\n",
       "    </tr>\n",
       "    <tr>\n",
       "      <th>72924790</th>\n",
       "      <td>15</td>\n",
       "      <td>News &amp; Politics</td>\n",
       "      <td>2017-02-06</td>\n",
       "      <td>878</td>\n",
       "      <td>21.0</td>\n",
       "      <td>1172.0</td>\n",
       "      <td>UCrwE8kVqtIUVUzKui2WVpuQ</td>\n",
       "    </tr>\n",
       "    <tr>\n",
       "      <th>72924791</th>\n",
       "      <td>15</td>\n",
       "      <td>News &amp; Politics</td>\n",
       "      <td>2017-02-06</td>\n",
       "      <td>1003</td>\n",
       "      <td>35.0</td>\n",
       "      <td>1898.0</td>\n",
       "      <td>UCrwE8kVqtIUVUzKui2WVpuQ</td>\n",
       "    </tr>\n",
       "    <tr>\n",
       "      <th>72924792</th>\n",
       "      <td>19</td>\n",
       "      <td>News &amp; Politics</td>\n",
       "      <td>2017-02-06</td>\n",
       "      <td>755</td>\n",
       "      <td>27.0</td>\n",
       "      <td>726.0</td>\n",
       "      <td>UCrwE8kVqtIUVUzKui2WVpuQ</td>\n",
       "    </tr>\n",
       "    <tr>\n",
       "      <th>72924793</th>\n",
       "      <td>13</td>\n",
       "      <td>News &amp; Politics</td>\n",
       "      <td>2017-02-06</td>\n",
       "      <td>1771</td>\n",
       "      <td>327.0</td>\n",
       "      <td>37572.0</td>\n",
       "      <td>UCrwE8kVqtIUVUzKui2WVpuQ</td>\n",
       "    </tr>\n",
       "  </tbody>\n",
       "</table>\n",
       "<p>72924794 rows × 7 columns</p>\n",
       "</div>"
      ],
      "text/plain": [
       "          nb_words        categories upload_date  duration  like_count  \\\n",
       "0               13  Film & Animation  2016-09-28      1159         8.0   \n",
       "1               12  Film & Animation  2016-09-28      2681        23.0   \n",
       "2               13  Film & Animation  2016-09-28      1394      1607.0   \n",
       "3               12  Film & Animation  2016-09-28      5064       227.0   \n",
       "4               14  Film & Animation  2016-09-28      3554       105.0   \n",
       "...            ...               ...         ...       ...         ...   \n",
       "72924789        14   News & Politics  2017-02-06       270        67.0   \n",
       "72924790        15   News & Politics  2017-02-06       878        21.0   \n",
       "72924791        15   News & Politics  2017-02-06      1003        35.0   \n",
       "72924792        19   News & Politics  2017-02-06       755        27.0   \n",
       "72924793        13   News & Politics  2017-02-06      1771       327.0   \n",
       "\n",
       "          view_count                channel_id  \n",
       "0             1057.0  UCzWrhkg9eK5I8Bm3HfV-unA  \n",
       "1            12894.0  UCzWrhkg9eK5I8Bm3HfV-unA  \n",
       "2          1800602.0  UCzWrhkg9eK5I8Bm3HfV-unA  \n",
       "3            57640.0  UCzWrhkg9eK5I8Bm3HfV-unA  \n",
       "4            86368.0  UCzWrhkg9eK5I8Bm3HfV-unA  \n",
       "...              ...                       ...  \n",
       "72924789      4409.0  UCrwE8kVqtIUVUzKui2WVpuQ  \n",
       "72924790      1172.0  UCrwE8kVqtIUVUzKui2WVpuQ  \n",
       "72924791      1898.0  UCrwE8kVqtIUVUzKui2WVpuQ  \n",
       "72924792       726.0  UCrwE8kVqtIUVUzKui2WVpuQ  \n",
       "72924793     37572.0  UCrwE8kVqtIUVUzKui2WVpuQ  \n",
       "\n",
       "[72924794 rows x 7 columns]"
      ]
     },
     "execution_count": 17,
     "metadata": {},
     "output_type": "execute_result"
    }
   ],
   "source": [
    "video_metadatas_titles = pd.concat([titles_nb_words, video_metadatas], axis=1, ignore_index=False)\n",
    "video_metadatas_titles"
   ]
  },
  {
   "cell_type": "code",
   "execution_count": 21,
   "metadata": {},
   "outputs": [
    {
     "data": {
      "text/plain": [
       "categories\n",
       "                          6.462549\n",
       "Autos & Vehicles          8.931436\n",
       "Comedy                    7.592700\n",
       "Education                 9.367915\n",
       "Entertainment             9.864067\n",
       "Film & Animation          8.902014\n",
       "Gaming                   10.129644\n",
       "Howto & Style             8.986118\n",
       "Movies                    7.000000\n",
       "Music                     8.789476\n",
       "News & Politics           9.470354\n",
       "Nonprofits & Activism     8.828331\n",
       "People & Blogs            8.540587\n",
       "Pets & Animals            8.382551\n",
       "Science & Technology      8.987627\n",
       "Shows                     9.365854\n",
       "Sports                    9.475904\n",
       "Travel & Events           8.964990\n",
       "Name: nb_words, dtype: float64"
      ]
     },
     "execution_count": 21,
     "metadata": {},
     "output_type": "execute_result"
    }
   ],
   "source": [
    "words_per_cat = video_metadatas_titles.groupby('categories').agg({'nb_words': 'mean'})\n",
    "\n",
    "words_per_cat.nb_words"
   ]
  },
  {
   "cell_type": "code",
   "execution_count": 37,
   "metadata": {},
   "outputs": [
    {
     "data": {
      "text/plain": [
       "Index(['', 'Autos & Vehicles', 'Comedy', 'Education', 'Entertainment',\n",
       "       'Film & Animation', 'Gaming', 'Howto & Style', 'Movies', 'Music',\n",
       "       'News & Politics', 'Nonprofits & Activism', 'People & Blogs',\n",
       "       'Pets & Animals', 'Science & Technology', 'Shows', 'Sports',\n",
       "       'Travel & Events'],\n",
       "      dtype='object', name='categories')"
      ]
     },
     "execution_count": 37,
     "metadata": {},
     "output_type": "execute_result"
    }
   ],
   "source": [
    "words_per_cat.index"
   ]
  },
  {
   "cell_type": "code",
   "execution_count": 41,
   "metadata": {},
   "outputs": [
    {
     "name": "stdout",
     "output_type": "stream",
     "text": [
      "The x axis is :\n",
      " ['Autos & Vehicles' 'Comedy' 'Education' 'Entertainment'\n",
      " 'Film & Animation' 'Gaming' 'Howto & Style' 'Movies' 'Music'\n",
      " 'News & Politics' 'Nonprofits & Activism' 'People & Blogs'\n",
      " 'Pets & Animals' 'Science & Technology' 'Shows' 'Sports'\n",
      " 'Travel & Events']\n"
     ]
    },
    {
     "data": {
      "text/plain": [
       "<BarContainer object of 17 artists>"
      ]
     },
     "execution_count": 41,
     "metadata": {},
     "output_type": "execute_result"
    },
    {
     "data": {
      "image/png": "[encoded data removed]",
      "text/plain": [
       "<Figure size 640x480 with 1 Axes>"
      ]
     },
     "metadata": {},
     "output_type": "display_data"
    }
   ],
   "source": [
    "print('The x axis is :\\n', words_per_cat.index.values[1:])\n",
    "plt.xticks(fontsize=6)\n",
    "plt.bar([index[:5] for index in words_per_cat.index[1:]], words_per_cat.nb_words[1:])"
   ]
  },
  {
   "cell_type": "markdown",
   "metadata": {},
   "source": [
    "---"
   ]
  },
  {
   "cell_type": "code",
   "execution_count": null,
   "metadata": {},
   "outputs": [],
   "source": [
    "top_ranked_channels = df_channels[df_channels.subscriber_rank_sb < 100]\n",
    "top_ranked_channels.head()\n"
   ]
  },
  {
   "cell_type": "code",
   "execution_count": null,
   "metadata": {},
   "outputs": [],
   "source": [
    "date = top_ranked_channels[\"join_date\"].apply(lambda d: d.to_pydatetime().year)\n",
    "np.mean(date, axis=0)\n"
   ]
  },
  {
   "cell_type": "code",
   "execution_count": null,
   "metadata": {},
   "outputs": [],
   "source": [
    "oldest_video = df_channels[\"join_date\"].apply(lambda d: d.to_pydatetime().year)\n",
    "oldest_video.nsmallest(5)\n"
   ]
  },
  {
   "cell_type": "code",
   "execution_count": null,
   "metadata": {},
   "outputs": [],
   "source": [
    "channels_with_largest_subscribers = df_channels.nlargest(53, \"subscribers_cc\")\n",
    "channels_with_largest_subscribers.sample(7)\n"
   ]
  },
  {
   "cell_type": "code",
   "execution_count": null,
   "metadata": {},
   "outputs": [],
   "source": []
  }
 ],
 "metadata": {
  "kernelspec": {
   "display_name": "Python 3 (ipykernel)",
   "language": "python",
   "name": "python3"
  },
  "language_info": {
   "codemirror_mode": {
    "name": "ipython",
    "version": 3
   },
   "file_extension": ".py",
   "mimetype": "text/x-python",
   "name": "python",
   "nbconvert_exporter": "python",
   "pygments_lexer": "ipython3",
   "version": "3.9.13"
  },
  "vscode": {
   "interpreter": {
    "hash": "e2552cbddfdf66195580a0cc7030164c04fc13f4bfb78773728a78bbf4f04323"
   }
  }
 },
 "nbformat": 4,
 "nbformat_minor": 2
}
