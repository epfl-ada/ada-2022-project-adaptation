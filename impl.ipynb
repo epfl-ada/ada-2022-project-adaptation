{
  "cells": [
    {
      "cell_type": "code",
      "execution_count": 1,
      "metadata": {},
      "outputs": [],
      "source": [
        "import matplotlib.font_manager as font_manager\n",
        "from matplotlib.lines import Line2D\n",
        "import matplotlib as mpl\n",
        "import matplotlib.ticker as mtick\n",
        "import matplotlib.pyplot as plt\n",
        "import pandas as pd\n",
        "import numpy as np\n",
        "import seaborn as sns\n",
        "import os\n",
        "from scipy.stats import bootstrap\n",
        "import statsmodels.api as sm\n",
        "import statsmodels.formula.api as smf\n",
        "\n",
        "params = {\n",
        "    \"axes.titlesize\": 14,\n",
        "    \"axes.labelsize\": 12,\n",
        "    \"font.size\": 12,\n",
        "    \"legend.fontsize\": 12,\n",
        "    \"xtick.labelsize\": 12,\n",
        "    \"ytick.labelsize\": 12,\n",
        "    \"text.usetex\": False,\n",
        "}\n",
        "\n",
        "mpl.rcParams.update(params)\n",
        "\n",
        "\n",
        "import warnings\n",
        "\n",
        "warnings.filterwarnings(\"ignore\")\n"
      ]
    },
    {
      "cell_type": "code",
      "execution_count": 2,
      "metadata": {},
      "outputs": [],
      "source": [
        "df_time_series = pd.read_csv(\n",
        "    \"./data/df_timeseries_en.tsv.gz\", compression=\"infer\", sep=\"\\t\"\n",
        ")\n",
        "df_time_series[\"datetime\"] = pd.to_datetime(df_time_series[\"datetime\"])\n",
        "\n",
        "df_channels = pd.read_csv(\"./data/df_channels_en.tsv.gz\", compression=\"infer\", sep=\"\\t\")\n",
        "df_channels[\"join_date\"] = pd.to_datetime(df_channels[\"join_date\"])\n"
      ]
    },
    {
      "cell_type": "code",
      "execution_count": null,
      "metadata": {},
      "outputs": [],
      "source": [
        "video_metadatas = pd.read_feather(\n",
        "    \"./data/yt_metadata_helper.feather\",\n",
        "    columns=[\n",
        "        \"categories\",\n",
        "        \"upload_date\",\n",
        "        \"duration\", \n",
        "        \"like_count\",\n",
        "        \"dislike_count\",\n",
        "        \"view_count\",\n",
        "        \"channel_id\",\n",
        "    ],\n",
        ")\n"
      ]
    },
    {
      "cell_type": "code",
      "execution_count": null,
      "metadata": {},
      "outputs": [],
      "source": [
        "# round the subs value, easier to consider 1 sub as a person and not half of a person...\n",
        "df_time_series.subs = df_time_series.subs.round(0)\n"
      ]
    },
    {
      "cell_type": "code",
      "execution_count": null,
      "metadata": {},
      "outputs": [],
      "source": [
        "df_time_series.head()\n"
      ]
    },
    {
      "cell_type": "code",
      "execution_count": null,
      "metadata": {},
      "outputs": [],
      "source": [
        "df_channels.head()\n"
      ]
    },
    {
      "cell_type": "code",
      "execution_count": null,
      "metadata": {},
      "outputs": [],
      "source": [
        "video_metadatas.head()\n"
      ]
    },
    {
      "cell_type": "markdown",
      "metadata": {},
      "source": [
        "# Check length of videos"
      ]
    },
    {
      "cell_type": "markdown",
      "metadata": {},
      "source": [
        "An idea would be to use cut to match length of videos into discrete intervals "
      ]
    },
    {
      "cell_type": "code",
      "execution_count": null,
      "metadata": {},
      "outputs": [],
      "source": [
        "video_metadatas.duration.describe()\n"
      ]
    },
    {
      "cell_type": "code",
      "execution_count": null,
      "metadata": {},
      "outputs": [],
      "source": [
        "# To make it easier to grasp the length of videos, we will convert the lengths to minutes at first...\n",
        "video_metadatas[\"duration_min\"] = video_metadatas[\"duration\"] / 60\n",
        "video_metadatas.duration_min.describe()\n"
      ]
    },
    {
      "cell_type": "code",
      "execution_count": null,
      "metadata": {},
      "outputs": [],
      "source": [
        "plt.boxplot(video_metadatas[\"duration_min\"], showfliers=False, vert=False)\n",
        "plt.title(\"Duration of Videos in Minutes\")\n"
      ]
    },
    {
      "cell_type": "code",
      "execution_count": null,
      "metadata": {},
      "outputs": [],
      "source": [
        "duration_min_cumul = plt.hist(\n",
        "    video_metadatas.duration_min, bins=100, log=True, cumulative=-1, histtype=\"step\"\n",
        ")\n",
        "plt.title(\"Histogram of Duration for YouTube Videos (cumulative)\")\n",
        "plt.ylabel(\"# of Videos (in log scale)\")\n",
        "plt.xlabel(\"Duration in Minutes\")\n",
        "plt.xticks(rotation=30, ha=\"right\")\n",
        "plt.show()\n"
      ]
    },
    {
      "cell_type": "code",
      "execution_count": null,
      "metadata": {},
      "outputs": [],
      "source": [
        "plt.loglog(duration_min_cumul[1][1:], duration_min_cumul[0])\n",
        "plt.title(\"Histogram of Duration for YouTube Videos (cumulative)\")\n",
        "plt.ylabel(\"# of Videos (in log scale)\")\n",
        "plt.xlabel(\"Duration\")\n",
        "plt.xticks(rotation=30, ha=\"right\")\n",
        "plt.show()\n"
      ]
    },
    {
      "cell_type": "code",
      "execution_count": null,
      "metadata": {},
      "outputs": [],
      "source": [
        "# long to compute\n",
        "\n",
        "# bucket_durations = pd.cut(video_metadatas['duration'], bins=100)\n",
        "# print(type(bucket_durations))\n"
      ]
    },
    {
      "cell_type": "markdown",
      "metadata": {},
      "source": [
        "---"
      ]
    },
    {
      "cell_type": "markdown",
      "metadata": {},
      "source": [
        "# Check frequency of videos"
      ]
    },
    {
      "cell_type": "code",
      "execution_count": null,
      "metadata": {},
      "outputs": [],
      "source": [
        "video_count = (\n",
        "    video_metadatas.groupby(pd.Grouper(key=\"upload_date\", freq=\"W\")).count().channel_id\n",
        ")\n"
      ]
    },
    {
      "cell_type": "code",
      "execution_count": null,
      "metadata": {},
      "outputs": [],
      "source": [
        "plt.plot(video_count, color=\"#7570b3\", ls=\"--\", label=\"\\% videos uploaded\")\n",
        "plt.yscale(\"log\")\n",
        "plt.ylabel(\"Number of Videos\")\n",
        "plt.xlabel(\"Time\")\n",
        "plt.title(\"Number of videos updated each week\")\n"
      ]
    },
    {
      "cell_type": "code",
      "execution_count": null,
      "metadata": {},
      "outputs": [],
      "source": [
        "# now we will determine how many videos are uploaded to YouTube by each channel by year\n",
        "video_metadatas[\"yearNumber\"] = video_metadatas[\"upload_date\"].dt.year\n",
        "vd_cnt_by_id_yr = (\n",
        "    video_metadatas.groupby([\"channel_id\", \"yearNumber\"])\n",
        "    .count()\n",
        "    .categories.unstack()\n",
        "    .reset_index()\n",
        ")\n",
        "vd_cnt_by_id_yr.columns.name = None\n"
      ]
    },
    {
      "cell_type": "code",
      "execution_count": null,
      "metadata": {},
      "outputs": [],
      "source": [
        "# we now remove the channels that uploaded less than 12 videos throughout the study period\n",
        "vd_cnt_by_id_yr_filtered = vd_cnt_by_id_yr[vd_cnt_by_id_yr.sum(axis=1) > 12]\n"
      ]
    },
    {
      "cell_type": "code",
      "execution_count": null,
      "metadata": {},
      "outputs": [],
      "source": [
        "vd_cnt_by_id_yr_filtered_summary = vd_cnt_by_id_yr_filtered.describe()\n"
      ]
    },
    {
      "cell_type": "code",
      "execution_count": null,
      "metadata": {},
      "outputs": [],
      "source": [
        "plt.fill_between(\n",
        "    x=list(vd_cnt_by_id_yr_filtered_summary.columns.values),\n",
        "    y1=list(vd_cnt_by_id_yr_filtered_summary.loc[\"25%\", :]),\n",
        "    y2=list(vd_cnt_by_id_yr_filtered_summary.loc[\"75%\", :]),\n",
        "    alpha=0.5,\n",
        "    color=\"gray\",\n",
        ")\n",
        "plt.plot(vd_cnt_by_id_yr_filtered_summary.loc[\"50%\", :], color=\"black\")\n",
        "\n",
        "plt.xlabel(\"Year\")\n",
        "plt.ylabel(\"Yearly Upload Frequency\")\n",
        "plt.title(\"The quantiles of yearly video upload frequency\")\n",
        "# here we choose quantiles, since mean would be significantly affected by the extremely high yearly upload rates\n"
      ]
    },
    {
      "cell_type": "markdown",
      "metadata": {},
      "source": [
        "# Weekday Analysis"
      ]
    },
    {
      "cell_type": "code",
      "execution_count": null,
      "metadata": {},
      "outputs": [],
      "source": [
        "video_metadatas[\"weekNumber\"] = video_metadatas[\"upload_date\"].dt.weekday\n",
        "vd_cnt_by_id_wk = (\n",
        "    video_metadatas.groupby([\"channel_id\", \"weekNumber\", \"yearNumber\"])\n",
        "    .count()\n",
        "    .categories.unstack()\n",
        "    .reset_index()\n",
        ")\n",
        "vd_cnt_by_id_wk.columns.name = None\n"
      ]
    },
    {
      "cell_type": "code",
      "execution_count": null,
      "metadata": {},
      "outputs": [],
      "source": [
        "vd_cnt_by_id_wk[\"mean_upload\"] = vd_cnt_by_id_wk.iloc[:, 2:].mean(axis=1, skipna=True)\n"
      ]
    },
    {
      "cell_type": "code",
      "execution_count": null,
      "metadata": {},
      "outputs": [],
      "source": [
        "ax = sns.boxplot(\n",
        "    x=\"weekNumber\", y=\"mean_upload\", data=vd_cnt_by_id_wk, showfliers=False\n",
        ")\n"
      ]
    },
    {
      "cell_type": "code",
      "execution_count": null,
      "metadata": {},
      "outputs": [],
      "source": [
        "vd_cnt_by_wk = (\n",
        "    video_metadatas.groupby([\"weekNumber\", \"yearNumber\"])\n",
        "    .count()\n",
        "    .categories.unstack()\n",
        "    .reset_index()\n",
        ")\n",
        "vd_cnt_by_wk.columns.name = None\n"
      ]
    },
    {
      "cell_type": "code",
      "execution_count": null,
      "metadata": {},
      "outputs": [],
      "source": [
        "vd_cnt_by_wk_norm = vd_cnt_by_wk.iloc[:, 2:] / vd_cnt_by_wk.iloc[:, 2:].sum(skipna=True)\n"
      ]
    },
    {
      "cell_type": "code",
      "execution_count": null,
      "metadata": {},
      "outputs": [],
      "source": [
        "plt.rcParams[\"figure.figsize\"] = (15, 10)\n",
        "plt.plot(vd_cnt_by_wk_norm.T)\n",
        "plt.legend(\n",
        "    [\"Monday\", \"Tuesday\", \"Wednesday\", \"Thursday\", \"Friday\", \"Saturday\", \"Sunday\"]\n",
        ")\n",
        "plt.xlabel(\"year\")\n",
        "plt.ylabel(\"NORMALISED: video uploaded each weekday\")\n",
        "plt.title(\"NORMALISED: The evolution of video upload rate for each weekday\")\n",
        "plt.show()\n"
      ]
    },
    {
      "cell_type": "code",
      "execution_count": null,
      "metadata": {},
      "outputs": [],
      "source": [
        "# it seems that weekday is definitely prefered over weekends, whereas which day of the week doesn't seem to matter too much.\n"
      ]
    },
    {
      "cell_type": "markdown",
      "metadata": {},
      "source": [
        "---"
      ]
    },
    {
      "cell_type": "markdown",
      "metadata": {},
      "source": [
        "# How long to reach 1M subscribers "
      ]
    },
    {
      "cell_type": "markdown",
      "metadata": {},
      "source": [
        "Could be interesting to take all the videos with 10K, 20K, 30K, ... and see the evolution to reach 100K for example. And compare different evolution : from 50K to 100K or from 500K to 600K, etc.. which one is the fastest, easiest ?  "
      ]
    },
    {
      "cell_type": "code",
      "execution_count": null,
      "metadata": {},
      "outputs": [],
      "source": [
        "def get_df_channel_ascension(start_subs, end_subs):\n",
        "    \"\"\"finds the channels in the time series that have less than the start_subs and more than end_subs.\n",
        "    It means that it begins with less than start_subs and have now at least end_subs\n",
        "\n",
        "    Args:\n",
        "        start_subs (float): low_threshold\n",
        "        end_subs (float): high_threshold\n",
        "\n",
        "    Returns:\n",
        "        dataframe containing all the channels with evolution from starts_subs to end_subs\n",
        "    \"\"\"\n",
        "    under_start_subs = df_time_series[df_time_series[\"subs\"] < start_subs]\n",
        "    more_end_subs = df_time_series[df_time_series[\"subs\"] > end_subs]\n",
        "    channel_start_to_end = df_time_series[\n",
        "        df_time_series.channel.isin(under_start_subs.channel)\n",
        "        & df_time_series.channel.isin(more_end_subs.channel)\n",
        "    ]\n",
        "    return channel_start_to_end\n"
      ]
    },
    {
      "cell_type": "code",
      "execution_count": null,
      "metadata": {},
      "outputs": [],
      "source": [
        "def get_mean_time_to_reach_X_subs(df, lower_bound, upper_bound):\n",
        "    time_to_reach_X_subs = df.groupby(\"channel\").apply(\n",
        "        lambda group: pd.Series(\n",
        "            {\n",
        "                \"from_zero_to_hero_duration\": group[group.subs > upper_bound][\n",
        "                    \"datetime\"\n",
        "                ].iloc[0]\n",
        "                - group[group.subs < lower_bound][\"datetime\"].iloc[-1]\n",
        "            }\n",
        "        )\n",
        "    )\n",
        "    return time_to_reach_X_subs\n"
      ]
    },
    {
      "cell_type": "code",
      "execution_count": null,
      "metadata": {},
      "outputs": [],
      "source": [
        "channel_10K_to_1M = get_df_channel_ascension(10_000, 1_000_000)\n",
        "print(\n",
        "    \"We have {} channels that begins with 10K subs and reach at least 1M\".format(\n",
        "        channel_10K_to_1M.channel.nunique()\n",
        "    )\n",
        ")\n"
      ]
    },
    {
      "cell_type": "code",
      "execution_count": null,
      "metadata": {},
      "outputs": [],
      "source": [
        "first_channel = channel_10K_to_1M.iloc[0]\n",
        "test = channel_10K_to_1M[channel_10K_to_1M[\"channel\"] == first_channel.channel]\n",
        "# test = test[(test['datetime'] > np.datetime64('2018-07-20')) & (test['datetime'] < np.datetime64('2019-01-20'))]\n",
        "test.plot(x=\"datetime\", y=\"subs\")\n",
        "print(\"There are {} weeks for this channel\".format(test.shape[0]))\n",
        "print(\n",
        "    \"We should have approximately the same value : \\n{} and {}\".format(\n",
        "        7 * test.shape[0], test.iloc[-1].datetime - test.iloc[0].datetime\n",
        "    )\n",
        ")\n"
      ]
    },
    {
      "cell_type": "code",
      "execution_count": null,
      "metadata": {},
      "outputs": [],
      "source": [
        "# get the time it takes to go from less than 10K to 1M\n",
        "time_to_reach_1M = get_mean_time_to_reach_X_subs(channel_10K_to_1M, 10_000, 1_000_000)\n",
        "time_to_reach_1M.head()\n"
      ]
    },
    {
      "cell_type": "code",
      "execution_count": null,
      "metadata": {},
      "outputs": [],
      "source": [
        "print(\n",
        "    \"In average YTbers take {} days to reach 1M of subscribers\".format(\n",
        "        time_to_reach_1M[\"from_zero_to_hero_duration\"].mean().days\n",
        "    )\n",
        ")\n"
      ]
    },
    {
      "cell_type": "markdown",
      "metadata": {},
      "source": [
        "It would be nice to bootstrap this result to see with interval of confidence the time taken by Youtuber to reach 1M"
      ]
    },
    {
      "cell_type": "code",
      "execution_count": null,
      "metadata": {},
      "outputs": [],
      "source": [
        "data = time_to_reach_1M[\"from_zero_to_hero_duration\"].apply(\n",
        "    lambda delta_time: delta_time.days\n",
        ")\n"
      ]
    },
    {
      "cell_type": "code",
      "execution_count": null,
      "metadata": {},
      "outputs": [],
      "source": [
        "rng = np.random.default_rng()\n",
        "conf_interval_reach_1M = bootstrap(\n",
        "    (data,),\n",
        "    np.mean,\n",
        "    confidence_level=0.95,\n",
        "    random_state=rng,\n",
        ").confidence_interval\n",
        "conf_interval_reach_1M\n"
      ]
    },
    {
      "cell_type": "code",
      "execution_count": null,
      "metadata": {},
      "outputs": [],
      "source": [
        "print(\n",
        "    \"The 95% interval of confidence, the time taken to reach 1M (from 10K) is [{}, {}]\".format(\n",
        "        conf_interval_reach_1M.low, conf_interval_reach_1M.high\n",
        "    )\n",
        ")\n"
      ]
    },
    {
      "cell_type": "markdown",
      "metadata": {},
      "source": [
        "---"
      ]
    },
    {
      "cell_type": "markdown",
      "metadata": {},
      "source": [
        "# Check the number of views (maybe after we could add likes, dislike) given a certain categories and date of videos"
      ]
    },
    {
      "cell_type": "markdown",
      "metadata": {},
      "source": [
        "For this task lets analyze and after ploting and getting some intuition, use logistic regression to 'predict' the nb of views given category and date "
      ]
    },
    {
      "cell_type": "code",
      "execution_count": null,
      "metadata": {},
      "outputs": [],
      "source": [
        "video_metadatas.head()\n",
        "video_metadatas.shape\n"
      ]
    },
    {
      "cell_type": "code",
      "execution_count": null,
      "metadata": {},
      "outputs": [],
      "source": [
        "# I added this [:] to make a copy of the video_metadatas, so that the following operation wont affect the original video_metadatas\n",
        "videos_with_cat = video_metadatas[:]\n",
        "# here I tried to use the same expression as the replace you used below but it doesnt seem to work...\n",
        "videos_with_cat[\"categories\"] = videos_with_cat[\"categories\"].apply(\n",
        "    lambda x: x.replace(\" & \", \"_\")\n",
        ")\n",
        "# delete the rows with empty categories\n",
        "videos_with_cat.categories.replace(\"\", np.nan, inplace=True)\n",
        "videos_with_cat.dropna(subset=[\"categories\"], inplace=True)\n",
        "videos_with_cat.shape\n"
      ]
    },
    {
      "cell_type": "code",
      "execution_count": null,
      "metadata": {},
      "outputs": [],
      "source": [
        "videos_with_cat['yearNumber'] = videos_with_cat.upload_date.dt.year"
      ]
    },
    {
      "cell_type": "code",
      "execution_count": null,
      "metadata": {},
      "outputs": [],
      "source": [
        "encoded_cat = pd.get_dummies(videos_with_cat.categories)\n",
        "video_metadatas_encoded = videos_with_cat.join(encoded_cat)\n"
      ]
    },
    {
      "cell_type": "code",
      "execution_count": null,
      "metadata": {},
      "outputs": [],
      "source": [
        "video_metadatas_encoded[\"year\"] = video_metadatas_encoded[\"upload_date\"].dt.year\n"
      ]
    },
    {
      "cell_type": "code",
      "execution_count": null,
      "metadata": {},
      "outputs": [],
      "source": [
        "mean_views = video_metadatas_encoded.groupby([\"year\", \"categories\"]).apply(\n",
        "    lambda x: pd.Series({\"mean_view\": x.view_count.mean()})\n",
        ")\n"
      ]
    },
    {
      "cell_type": "code",
      "execution_count": null,
      "metadata": {},
      "outputs": [],
      "source": [
        "mean_views[:10]\n"
      ]
    },
    {
      "cell_type": "code",
      "execution_count": null,
      "metadata": {},
      "outputs": [],
      "source": [
        "# see the top most viewed categories every year\n",
        "largest_cat_every_year = (\n",
        "    mean_views.groupby(\"year\")[\"mean_view\"].nlargest(2).droplevel(0)\n",
        ")\n",
        "largest_cat_every_year[:10]\n"
      ]
    },
    {
      "cell_type": "code",
      "execution_count": null,
      "metadata": {},
      "outputs": [],
      "source": [
        "# Alternatively, I suggest the following to determine which type of videos are more popular\n",
        "# now we will determine how many videos are uploaded to YouTube by each channel by year\n",
        "video_count_by_year = (\n",
        "    videos_with_cat.dropna(axis=0).groupby([\"categories\", \"yearNumber\"]).sum()\n",
        ")\n",
        "# NOTE THAT CATEGORIES::MOVIES AND SHOWS HAVE VERY FEW DATA!\n"
      ]
    },
    {
      "cell_type": "code",
      "execution_count": null,
      "metadata": {},
      "outputs": [],
      "source": [
        "video_view_count_by_year = video_count_by_year.view_count.unstack().reset_index()\n",
        "video_view_count_by_year.columns.name = None\n",
        "\n",
        "video_like_count_by_year = video_count_by_year.like_count.unstack().reset_index()\n",
        "video_like_count_by_year.columns.name = None\n",
        "\n",
        "video_dislike_count_by_year = video_count_by_year.dislike_count.unstack().reset_index()\n",
        "video_dislike_count_by_year.columns.name = None\n"
      ]
    },
    {
      "cell_type": "code",
      "execution_count": null,
      "metadata": {},
      "outputs": [],
      "source": [
        "videos_with_cat.loc[\n",
        "    videos_with_cat[\"categories\"] == \"Movies\",\n",
        "]\n"
      ]
    },
    {
      "cell_type": "code",
      "execution_count": null,
      "metadata": {},
      "outputs": [],
      "source": [
        "plt.rcParams[\"figure.figsize\"] = (15, 10)\n",
        "for i in np.arange(video_view_count_by_year.shape[0]):\n",
        "    plt.plot(\n",
        "        video_view_count_by_year.loc[\n",
        "            i,\n",
        "        ][2:],\n",
        "        label=video_view_count_by_year.loc[i,][\n",
        "            0:1\n",
        "        ][0],\n",
        "    )\n",
        "plt.legend(loc=\"upper left\")\n",
        "plt.xlabel(\"year\")\n",
        "plt.ylabel(\"video view count\")\n",
        "plt.title(\"video view counts per year for each category\")\n",
        "plt.show()\n"
      ]
    },
    {
      "cell_type": "code",
      "execution_count": null,
      "metadata": {},
      "outputs": [],
      "source": [
        "plt.rcParams[\"figure.figsize\"] = (15, 10)\n",
        "for i in np.arange(video_like_count_by_year.shape[0]):\n",
        "    plt.plot(\n",
        "        video_like_count_by_year.loc[\n",
        "            i,\n",
        "        ][2:],\n",
        "        label=video_like_count_by_year.loc[i,][\n",
        "            0:1\n",
        "        ][0],\n",
        "    )\n",
        "plt.legend(loc=\"upper left\")\n",
        "plt.xlabel(\"year\")\n",
        "plt.ylabel(\"video likes count\")\n",
        "plt.title(\"video likes counts per year for each category\")\n",
        "plt.show()\n"
      ]
    },
    {
      "cell_type": "code",
      "execution_count": null,
      "metadata": {},
      "outputs": [],
      "source": [
        "plt.rcParams[\"figure.figsize\"] = (15, 10)\n",
        "for i in np.arange(video_dislike_count_by_year.shape[0]):\n",
        "    plt.plot(\n",
        "        video_dislike_count_by_year.loc[\n",
        "            i,\n",
        "        ][2:],\n",
        "        label=video_dislike_count_by_year.loc[i,][\n",
        "            0:1\n",
        "        ][0],\n",
        "    )\n",
        "plt.legend(loc=\"upper left\")\n",
        "plt.xlabel(\"year\")\n",
        "plt.ylabel(\"video dislikes count\")\n",
        "plt.title(\"video dislikes counts per year for each category\")\n",
        "plt.show()\n"
      ]
    },
    {
      "cell_type": "code",
      "execution_count": null,
      "metadata": {},
      "outputs": [],
      "source": [
        "# NORMALISATION:\n",
        "## 1. view count - normalise wrt. total video views per year, to see which categories is viewed more every year\n",
        "plt.rcParams[\"figure.figsize\"] = (15, 10)\n",
        "for i in np.arange(video_view_count_by_year.shape[0]):\n",
        "    plt.plot(\n",
        "        video_view_count_by_year.loc[\n",
        "            i,\n",
        "        ][2:]\n",
        "        / video_view_count_by_year.sum(axis=0)[2:],\n",
        "        label=video_view_count_by_year.loc[i,][\n",
        "            0:1\n",
        "        ][0],\n",
        "    )\n",
        "plt.legend(loc=\"upper left\")\n",
        "plt.xlabel(\"year\")\n",
        "plt.ylabel(\"NORMALISED: video view count\")\n",
        "plt.title(\"NORMALISED: video view counts per year for each category\")\n",
        "plt.show()\n",
        "# view on music videos decreases, whereas on entertainment and gaming increases\n"
      ]
    },
    {
      "cell_type": "code",
      "execution_count": null,
      "metadata": {},
      "outputs": [],
      "source": [
        "## 2. like count - normalise wrt. total likes+dislikes for that category for that year\n",
        "plt.rcParams[\"figure.figsize\"] = (15, 10)\n",
        "for i in np.arange(video_like_count_by_year.shape[0]):\n",
        "    plt.plot(\n",
        "        video_like_count_by_year.loc[\n",
        "            i,\n",
        "        ][2:]\n",
        "        / (\n",
        "            video_like_count_by_year.loc[\n",
        "                i,\n",
        "            ][2:]\n",
        "            + video_dislike_count_by_year.loc[\n",
        "                i,\n",
        "            ][2:]\n",
        "        ),\n",
        "        label=video_like_count_by_year.loc[i,][\n",
        "            0:1\n",
        "        ][0],\n",
        "    )\n",
        "plt.legend(loc=\"upper left\")\n",
        "plt.xlabel(\"year\")\n",
        "plt.ylabel(\"NORMALISED: video likes count\")\n",
        "plt.title(\"NORMALISED: video likes counts per year for each category\")\n",
        "plt.show()\n",
        "\n",
        "# now it is interesting to see that news_politics and education are consistantly less liked\n",
        "# whereas for nonprofits_activism is becoming more loved\n"
      ]
    },
    {
      "cell_type": "markdown",
      "metadata": {},
      "source": [
        "---"
      ]
    },
    {
      "cell_type": "markdown",
      "metadata": {},
      "source": [
        "# Implement the # of views divided by the # of subs "
      ]
    },
    {
      "cell_type": "code",
      "execution_count": 55,
      "metadata": {},
      "outputs": [
        {
          "data": {
            "text/html": [
              "<div>\n",
              "<style scoped>\n",
              "    .dataframe tbody tr th:only-of-type {\n",
              "        vertical-align: middle;\n",
              "    }\n",
              "\n",
              "    .dataframe tbody tr th {\n",
              "        vertical-align: top;\n",
              "    }\n",
              "\n",
              "    .dataframe thead th {\n",
              "        text-align: right;\n",
              "    }\n",
              "</style>\n",
              "<table border=\"1\" class=\"dataframe\">\n",
              "  <thead>\n",
              "    <tr style=\"text-align: right;\">\n",
              "      <th></th>\n",
              "      <th>channel</th>\n",
              "      <th>category</th>\n",
              "      <th>datetime</th>\n",
              "      <th>views</th>\n",
              "      <th>delta_views</th>\n",
              "      <th>subs</th>\n",
              "      <th>delta_subs</th>\n",
              "      <th>videos</th>\n",
              "      <th>delta_videos</th>\n",
              "      <th>activity</th>\n",
              "      <th>year</th>\n",
              "      <th>views_over_subs</th>\n",
              "    </tr>\n",
              "  </thead>\n",
              "  <tbody>\n",
              "    <tr>\n",
              "      <th>1255565</th>\n",
              "      <td>UCj56GATzRKv5aiyqq5pI2FA</td>\n",
              "      <td>People &amp; Blogs</td>\n",
              "      <td>2016-08-08 00:00:00</td>\n",
              "      <td>1.242718e+07</td>\n",
              "      <td>896341.750</td>\n",
              "      <td>14049.500000</td>\n",
              "      <td>76.50</td>\n",
              "      <td>0</td>\n",
              "      <td>0</td>\n",
              "      <td>0</td>\n",
              "      <td>2016</td>\n",
              "      <td>11716.885621</td>\n",
              "    </tr>\n",
              "    <tr>\n",
              "      <th>8031961</th>\n",
              "      <td>UCb1lfdYKtYUlITz5sRZrjXg</td>\n",
              "      <td>Gaming</td>\n",
              "      <td>2019-06-24 01:00:00</td>\n",
              "      <td>1.356022e+07</td>\n",
              "      <td>0.000</td>\n",
              "      <td>188803.864583</td>\n",
              "      <td>1027.25</td>\n",
              "      <td>93</td>\n",
              "      <td>0</td>\n",
              "      <td>0</td>\n",
              "      <td>2019</td>\n",
              "      <td>0.000000</td>\n",
              "    </tr>\n",
              "    <tr>\n",
              "      <th>9345305</th>\n",
              "      <td>UCeJfZqIcyy1z3wySHq4iDDg</td>\n",
              "      <td>Entertainment</td>\n",
              "      <td>2016-08-08 00:00:00</td>\n",
              "      <td>3.965854e+05</td>\n",
              "      <td>7550.375</td>\n",
              "      <td>7220.750000</td>\n",
              "      <td>162.75</td>\n",
              "      <td>33</td>\n",
              "      <td>1</td>\n",
              "      <td>2</td>\n",
              "      <td>2016</td>\n",
              "      <td>46.392473</td>\n",
              "    </tr>\n",
              "    <tr>\n",
              "      <th>15564767</th>\n",
              "      <td>UCH1dpzjCEiGAt8CXkryhkZg</td>\n",
              "      <td>News &amp; Politics</td>\n",
              "      <td>2019-07-15 00:00:00</td>\n",
              "      <td>3.807654e+07</td>\n",
              "      <td>93307.375</td>\n",
              "      <td>193327.500000</td>\n",
              "      <td>1389.50</td>\n",
              "      <td>738</td>\n",
              "      <td>8</td>\n",
              "      <td>19</td>\n",
              "      <td>2019</td>\n",
              "      <td>67.151763</td>\n",
              "    </tr>\n",
              "  </tbody>\n",
              "</table>\n",
              "</div>"
            ],
            "text/plain": [
              "                           channel         category            datetime  \\\n",
              "1255565   UCj56GATzRKv5aiyqq5pI2FA   People & Blogs 2016-08-08 00:00:00   \n",
              "8031961   UCb1lfdYKtYUlITz5sRZrjXg           Gaming 2019-06-24 01:00:00   \n",
              "9345305   UCeJfZqIcyy1z3wySHq4iDDg    Entertainment 2016-08-08 00:00:00   \n",
              "15564767  UCH1dpzjCEiGAt8CXkryhkZg  News & Politics 2019-07-15 00:00:00   \n",
              "\n",
              "                 views  delta_views           subs  delta_subs  videos  \\\n",
              "1255565   1.242718e+07   896341.750   14049.500000       76.50       0   \n",
              "8031961   1.356022e+07        0.000  188803.864583     1027.25      93   \n",
              "9345305   3.965854e+05     7550.375    7220.750000      162.75      33   \n",
              "15564767  3.807654e+07    93307.375  193327.500000     1389.50     738   \n",
              "\n",
              "          delta_videos  activity  year  views_over_subs  \n",
              "1255565              0         0  2016     11716.885621  \n",
              "8031961              0         0  2019         0.000000  \n",
              "9345305              1         2  2016        46.392473  \n",
              "15564767             8        19  2019        67.151763  "
            ]
          },
          "execution_count": 55,
          "metadata": {},
          "output_type": "execute_result"
        }
      ],
      "source": [
        "# use the time series dataframe to implement this, it would be easier. \n",
        "df_time_series['year'] = df_time_series.datetime.dt.year\n",
        "df_time_series.sample(4)"
      ]
    },
    {
      "cell_type": "code",
      "execution_count": 59,
      "metadata": {},
      "outputs": [
        {
          "data": {
            "text/html": [
              "<div>\n",
              "<style scoped>\n",
              "    .dataframe tbody tr th:only-of-type {\n",
              "        vertical-align: middle;\n",
              "    }\n",
              "\n",
              "    .dataframe tbody tr th {\n",
              "        vertical-align: top;\n",
              "    }\n",
              "\n",
              "    .dataframe thead th {\n",
              "        text-align: right;\n",
              "    }\n",
              "</style>\n",
              "<table border=\"1\" class=\"dataframe\">\n",
              "  <thead>\n",
              "    <tr style=\"text-align: right;\">\n",
              "      <th></th>\n",
              "      <th>channel</th>\n",
              "      <th>category</th>\n",
              "      <th>datetime</th>\n",
              "      <th>views</th>\n",
              "      <th>delta_views</th>\n",
              "      <th>subs</th>\n",
              "      <th>delta_subs</th>\n",
              "      <th>videos</th>\n",
              "      <th>delta_videos</th>\n",
              "      <th>activity</th>\n",
              "      <th>year</th>\n",
              "      <th>views_over_subs</th>\n",
              "    </tr>\n",
              "  </thead>\n",
              "  <tbody>\n",
              "    <tr>\n",
              "      <th>18824863</th>\n",
              "      <td>UC1mfRlR2A51J6CdjnKSOMcA</td>\n",
              "      <td>Comedy</td>\n",
              "      <td>2019-06-10 00:00:00</td>\n",
              "      <td>8.787830e+05</td>\n",
              "      <td>0.000000</td>\n",
              "      <td>24298.076923</td>\n",
              "      <td>0.000000</td>\n",
              "      <td>3</td>\n",
              "      <td>1</td>\n",
              "      <td>1</td>\n",
              "      <td>2019</td>\n",
              "      <td>0.000000</td>\n",
              "    </tr>\n",
              "    <tr>\n",
              "      <th>7518558</th>\n",
              "      <td>UCZvMYyu8lODcgfU-3xuCm6g</td>\n",
              "      <td>Gaming</td>\n",
              "      <td>2017-07-17 00:00:00</td>\n",
              "      <td>6.680287e+05</td>\n",
              "      <td>22402.333333</td>\n",
              "      <td>974.000000</td>\n",
              "      <td>35.000000</td>\n",
              "      <td>29</td>\n",
              "      <td>1</td>\n",
              "      <td>1</td>\n",
              "      <td>2017</td>\n",
              "      <td>23.000342</td>\n",
              "    </tr>\n",
              "    <tr>\n",
              "      <th>11954571</th>\n",
              "      <td>UCjaexUe5ZKwG6qead0lh-3g</td>\n",
              "      <td>Gaming</td>\n",
              "      <td>2018-06-04 01:00:00</td>\n",
              "      <td>2.617512e+06</td>\n",
              "      <td>57120.515625</td>\n",
              "      <td>49836.979167</td>\n",
              "      <td>585.244792</td>\n",
              "      <td>260</td>\n",
              "      <td>10</td>\n",
              "      <td>17</td>\n",
              "      <td>2018</td>\n",
              "      <td>1.146147</td>\n",
              "    </tr>\n",
              "    <tr>\n",
              "      <th>15799056</th>\n",
              "      <td>UCWf3wmxbUr5TGmCjHaXV4bQ</td>\n",
              "      <td>Gaming</td>\n",
              "      <td>2018-03-26 00:00:00</td>\n",
              "      <td>2.980532e+07</td>\n",
              "      <td>21517.351085</td>\n",
              "      <td>139047.732984</td>\n",
              "      <td>0.000000</td>\n",
              "      <td>332</td>\n",
              "      <td>0</td>\n",
              "      <td>1</td>\n",
              "      <td>2018</td>\n",
              "      <td>0.154748</td>\n",
              "    </tr>\n",
              "    <tr>\n",
              "      <th>18539746</th>\n",
              "      <td>UC0jxua6gd8cCQPKuldKOqqA</td>\n",
              "      <td>Music</td>\n",
              "      <td>2017-11-13 00:00:00</td>\n",
              "      <td>3.191754e+06</td>\n",
              "      <td>11781.500000</td>\n",
              "      <td>19603.750000</td>\n",
              "      <td>73.250000</td>\n",
              "      <td>435</td>\n",
              "      <td>2</td>\n",
              "      <td>3</td>\n",
              "      <td>2017</td>\n",
              "      <td>0.600982</td>\n",
              "    </tr>\n",
              "  </tbody>\n",
              "</table>\n",
              "</div>"
            ],
            "text/plain": [
              "                           channel category            datetime         views  \\\n",
              "18824863  UC1mfRlR2A51J6CdjnKSOMcA   Comedy 2019-06-10 00:00:00  8.787830e+05   \n",
              "7518558   UCZvMYyu8lODcgfU-3xuCm6g   Gaming 2017-07-17 00:00:00  6.680287e+05   \n",
              "11954571  UCjaexUe5ZKwG6qead0lh-3g   Gaming 2018-06-04 01:00:00  2.617512e+06   \n",
              "15799056  UCWf3wmxbUr5TGmCjHaXV4bQ   Gaming 2018-03-26 00:00:00  2.980532e+07   \n",
              "18539746  UC0jxua6gd8cCQPKuldKOqqA    Music 2017-11-13 00:00:00  3.191754e+06   \n",
              "\n",
              "           delta_views           subs  delta_subs  videos  delta_videos  \\\n",
              "18824863      0.000000   24298.076923    0.000000       3             1   \n",
              "7518558   22402.333333     974.000000   35.000000      29             1   \n",
              "11954571  57120.515625   49836.979167  585.244792     260            10   \n",
              "15799056  21517.351085  139047.732984    0.000000     332             0   \n",
              "18539746  11781.500000   19603.750000   73.250000     435             2   \n",
              "\n",
              "          activity  year  views_over_subs  \n",
              "18824863         1  2019         0.000000  \n",
              "7518558          1  2017        23.000342  \n",
              "11954571        17  2018         1.146147  \n",
              "15799056         1  2018         0.154748  \n",
              "18539746         3  2017         0.600982  "
            ]
          },
          "execution_count": 59,
          "metadata": {},
          "output_type": "execute_result"
        }
      ],
      "source": [
        "# penalize the big channel (many subs) by dividing the number of delta views by nb of total subscribers\n",
        "df_time_series['views_over_subs'] = df_time_series.delta_views / df_time_series.subs\n",
        "df_time_series.sample(5)"
      ]
    },
    {
      "cell_type": "code",
      "execution_count": 60,
      "metadata": {},
      "outputs": [
        {
          "data": {
            "text/plain": [
              "Entertainment            94260\n",
              "Music                    85789\n",
              "Gaming                   78886\n",
              "People & Blogs           57165\n",
              "Howto & Style            34227\n",
              "Education                26488\n",
              "Film and Animation       25814\n",
              "Sports                   18834\n",
              "Science & Technology     16352\n",
              "Comedy                   15967\n",
              "Autos & Vehicles         11119\n",
              "News & Politics           9185\n",
              "Travel & Events           5851\n",
              "Pets & Animals            3835\n",
              "Nonprofits & Activism     3567\n",
              "Name: category, dtype: int64"
            ]
          },
          "execution_count": 60,
          "metadata": {},
          "output_type": "execute_result"
        }
      ],
      "source": [
        "df_time_series[df_time_series.delta_views == 0].category.value_counts()"
      ]
    },
    {
      "cell_type": "code",
      "execution_count": 61,
      "metadata": {},
      "outputs": [
        {
          "data": {
            "text/html": [
              "<div>\n",
              "<style scoped>\n",
              "    .dataframe tbody tr th:only-of-type {\n",
              "        vertical-align: middle;\n",
              "    }\n",
              "\n",
              "    .dataframe tbody tr th {\n",
              "        vertical-align: top;\n",
              "    }\n",
              "\n",
              "    .dataframe thead th {\n",
              "        text-align: right;\n",
              "    }\n",
              "</style>\n",
              "<table border=\"1\" class=\"dataframe\">\n",
              "  <thead>\n",
              "    <tr style=\"text-align: right;\">\n",
              "      <th></th>\n",
              "      <th></th>\n",
              "      <th>views</th>\n",
              "      <th>delta_views</th>\n",
              "      <th>subs</th>\n",
              "      <th>delta_subs</th>\n",
              "      <th>videos</th>\n",
              "      <th>delta_videos</th>\n",
              "      <th>activity</th>\n",
              "      <th>views_over_subs</th>\n",
              "    </tr>\n",
              "    <tr>\n",
              "      <th>category</th>\n",
              "      <th>year</th>\n",
              "      <th></th>\n",
              "      <th></th>\n",
              "      <th></th>\n",
              "      <th></th>\n",
              "      <th></th>\n",
              "      <th></th>\n",
              "      <th></th>\n",
              "      <th></th>\n",
              "    </tr>\n",
              "  </thead>\n",
              "  <tbody>\n",
              "    <tr>\n",
              "      <th rowspan=\"5\" valign=\"top\">Autos &amp; Vehicles</th>\n",
              "      <th>2015</th>\n",
              "      <td>2.996063e+08</td>\n",
              "      <td>5.147088e+06</td>\n",
              "      <td>4.757975e+05</td>\n",
              "      <td>6.147216e+03</td>\n",
              "      <td>6310</td>\n",
              "      <td>31</td>\n",
              "      <td>65</td>\n",
              "      <td>1.381529e+03</td>\n",
              "    </tr>\n",
              "    <tr>\n",
              "      <th>2016</th>\n",
              "      <td>6.912082e+11</td>\n",
              "      <td>5.204093e+09</td>\n",
              "      <td>1.604181e+09</td>\n",
              "      <td>1.262457e+07</td>\n",
              "      <td>29588894</td>\n",
              "      <td>129125</td>\n",
              "      <td>298930</td>\n",
              "      <td>7.464736e+05</td>\n",
              "    </tr>\n",
              "    <tr>\n",
              "      <th>2017</th>\n",
              "      <td>2.800755e+12</td>\n",
              "      <td>2.259653e+10</td>\n",
              "      <td>7.656504e+09</td>\n",
              "      <td>6.611185e+07</td>\n",
              "      <td>72898692</td>\n",
              "      <td>329971</td>\n",
              "      <td>731018</td>\n",
              "      <td>1.954820e+06</td>\n",
              "    </tr>\n",
              "    <tr>\n",
              "      <th>2018</th>\n",
              "      <td>4.059051e+12</td>\n",
              "      <td>3.080456e+10</td>\n",
              "      <td>1.228774e+10</td>\n",
              "      <td>1.149792e+08</td>\n",
              "      <td>90862518</td>\n",
              "      <td>363152</td>\n",
              "      <td>802144</td>\n",
              "      <td>1.210751e+06</td>\n",
              "    </tr>\n",
              "    <tr>\n",
              "      <th>2019</th>\n",
              "      <td>4.010183e+12</td>\n",
              "      <td>2.744996e+10</td>\n",
              "      <td>1.340572e+10</td>\n",
              "      <td>9.883009e+07</td>\n",
              "      <td>80806310</td>\n",
              "      <td>290835</td>\n",
              "      <td>637449</td>\n",
              "      <td>4.117277e+05</td>\n",
              "    </tr>\n",
              "    <tr>\n",
              "      <th rowspan=\"5\" valign=\"top\">Comedy</th>\n",
              "      <th>2015</th>\n",
              "      <td>5.407901e+07</td>\n",
              "      <td>1.893648e+06</td>\n",
              "      <td>1.312303e+05</td>\n",
              "      <td>3.011729e+03</td>\n",
              "      <td>8177</td>\n",
              "      <td>34</td>\n",
              "      <td>83</td>\n",
              "      <td>6.074186e+02</td>\n",
              "    </tr>\n",
              "    <tr>\n",
              "      <th>2016</th>\n",
              "      <td>1.598243e+12</td>\n",
              "      <td>1.084603e+10</td>\n",
              "      <td>7.149362e+09</td>\n",
              "      <td>4.491931e+07</td>\n",
              "      <td>8702971</td>\n",
              "      <td>49189</td>\n",
              "      <td>115875</td>\n",
              "      <td>5.124242e+05</td>\n",
              "    </tr>\n",
              "    <tr>\n",
              "      <th>2017</th>\n",
              "      <td>8.626162e+12</td>\n",
              "      <td>6.309105e+10</td>\n",
              "      <td>3.919384e+10</td>\n",
              "      <td>2.553993e+08</td>\n",
              "      <td>28914021</td>\n",
              "      <td>178175</td>\n",
              "      <td>398725</td>\n",
              "      <td>1.252861e+06</td>\n",
              "    </tr>\n",
              "    <tr>\n",
              "      <th>2018</th>\n",
              "      <td>1.181219e+13</td>\n",
              "      <td>7.909585e+10</td>\n",
              "      <td>5.546370e+10</td>\n",
              "      <td>3.971761e+08</td>\n",
              "      <td>38985639</td>\n",
              "      <td>193894</td>\n",
              "      <td>431397</td>\n",
              "      <td>7.384284e+05</td>\n",
              "    </tr>\n",
              "    <tr>\n",
              "      <th>2019</th>\n",
              "      <td>1.137787e+13</td>\n",
              "      <td>7.406437e+10</td>\n",
              "      <td>5.549048e+10</td>\n",
              "      <td>3.177507e+08</td>\n",
              "      <td>35910143</td>\n",
              "      <td>153924</td>\n",
              "      <td>340402</td>\n",
              "      <td>4.351579e+05</td>\n",
              "    </tr>\n",
              "  </tbody>\n",
              "</table>\n",
              "</div>"
            ],
            "text/plain": [
              "                              views   delta_views          subs    delta_subs  \\\n",
              "category         year                                                           \n",
              "Autos & Vehicles 2015  2.996063e+08  5.147088e+06  4.757975e+05  6.147216e+03   \n",
              "                 2016  6.912082e+11  5.204093e+09  1.604181e+09  1.262457e+07   \n",
              "                 2017  2.800755e+12  2.259653e+10  7.656504e+09  6.611185e+07   \n",
              "                 2018  4.059051e+12  3.080456e+10  1.228774e+10  1.149792e+08   \n",
              "                 2019  4.010183e+12  2.744996e+10  1.340572e+10  9.883009e+07   \n",
              "Comedy           2015  5.407901e+07  1.893648e+06  1.312303e+05  3.011729e+03   \n",
              "                 2016  1.598243e+12  1.084603e+10  7.149362e+09  4.491931e+07   \n",
              "                 2017  8.626162e+12  6.309105e+10  3.919384e+10  2.553993e+08   \n",
              "                 2018  1.181219e+13  7.909585e+10  5.546370e+10  3.971761e+08   \n",
              "                 2019  1.137787e+13  7.406437e+10  5.549048e+10  3.177507e+08   \n",
              "\n",
              "                         videos  delta_videos  activity  views_over_subs  \n",
              "category         year                                                     \n",
              "Autos & Vehicles 2015      6310            31        65     1.381529e+03  \n",
              "                 2016  29588894        129125    298930     7.464736e+05  \n",
              "                 2017  72898692        329971    731018     1.954820e+06  \n",
              "                 2018  90862518        363152    802144     1.210751e+06  \n",
              "                 2019  80806310        290835    637449     4.117277e+05  \n",
              "Comedy           2015      8177            34        83     6.074186e+02  \n",
              "                 2016   8702971         49189    115875     5.124242e+05  \n",
              "                 2017  28914021        178175    398725     1.252861e+06  \n",
              "                 2018  38985639        193894    431397     7.384284e+05  \n",
              "                 2019  35910143        153924    340402     4.351579e+05  "
            ]
          },
          "execution_count": 61,
          "metadata": {},
          "output_type": "execute_result"
        }
      ],
      "source": [
        "views_over_subs_per_year = (\n",
        "    df_time_series.groupby([\"category\", \"year\"]).sum()\n",
        ")\n",
        "views_over_subs_per_year.head(10)"
      ]
    },
    {
      "cell_type": "code",
      "execution_count": 62,
      "metadata": {},
      "outputs": [
        {
          "data": {
            "text/html": [
              "<div>\n",
              "<style scoped>\n",
              "    .dataframe tbody tr th:only-of-type {\n",
              "        vertical-align: middle;\n",
              "    }\n",
              "\n",
              "    .dataframe tbody tr th {\n",
              "        vertical-align: top;\n",
              "    }\n",
              "\n",
              "    .dataframe thead th {\n",
              "        text-align: right;\n",
              "    }\n",
              "</style>\n",
              "<table border=\"1\" class=\"dataframe\">\n",
              "  <thead>\n",
              "    <tr style=\"text-align: right;\">\n",
              "      <th></th>\n",
              "      <th>category</th>\n",
              "      <th>2015</th>\n",
              "      <th>2016</th>\n",
              "      <th>2017</th>\n",
              "      <th>2018</th>\n",
              "      <th>2019</th>\n",
              "    </tr>\n",
              "  </thead>\n",
              "  <tbody>\n",
              "    <tr>\n",
              "      <th>0</th>\n",
              "      <td>Autos &amp; Vehicles</td>\n",
              "      <td>1381.529223</td>\n",
              "      <td>7.464736e+05</td>\n",
              "      <td>1.954820e+06</td>\n",
              "      <td>1.210751e+06</td>\n",
              "      <td>4.117277e+05</td>\n",
              "    </tr>\n",
              "    <tr>\n",
              "      <th>1</th>\n",
              "      <td>Comedy</td>\n",
              "      <td>607.418633</td>\n",
              "      <td>5.124242e+05</td>\n",
              "      <td>1.252861e+06</td>\n",
              "      <td>7.384284e+05</td>\n",
              "      <td>4.351579e+05</td>\n",
              "    </tr>\n",
              "    <tr>\n",
              "      <th>2</th>\n",
              "      <td>Education</td>\n",
              "      <td>2400.654079</td>\n",
              "      <td>1.831725e+06</td>\n",
              "      <td>2.403674e+06</td>\n",
              "      <td>7.240738e+06</td>\n",
              "      <td>6.236384e+05</td>\n",
              "    </tr>\n",
              "    <tr>\n",
              "      <th>3</th>\n",
              "      <td>Entertainment</td>\n",
              "      <td>19505.687509</td>\n",
              "      <td>6.136368e+06</td>\n",
              "      <td>3.750412e+07</td>\n",
              "      <td>1.230867e+07</td>\n",
              "      <td>3.231113e+06</td>\n",
              "    </tr>\n",
              "    <tr>\n",
              "      <th>4</th>\n",
              "      <td>Film and Animation</td>\n",
              "      <td>1067.267887</td>\n",
              "      <td>1.055584e+06</td>\n",
              "      <td>9.495312e+06</td>\n",
              "      <td>2.550718e+06</td>\n",
              "      <td>9.445939e+05</td>\n",
              "    </tr>\n",
              "    <tr>\n",
              "      <th>5</th>\n",
              "      <td>Gaming</td>\n",
              "      <td>5281.516019</td>\n",
              "      <td>2.640167e+06</td>\n",
              "      <td>9.060244e+06</td>\n",
              "      <td>7.330692e+06</td>\n",
              "      <td>2.207970e+06</td>\n",
              "    </tr>\n",
              "    <tr>\n",
              "      <th>6</th>\n",
              "      <td>Howto &amp; Style</td>\n",
              "      <td>2709.301731</td>\n",
              "      <td>9.129834e+05</td>\n",
              "      <td>3.158939e+06</td>\n",
              "      <td>3.022023e+06</td>\n",
              "      <td>6.483650e+05</td>\n",
              "    </tr>\n",
              "    <tr>\n",
              "      <th>7</th>\n",
              "      <td>Music</td>\n",
              "      <td>2512.123685</td>\n",
              "      <td>4.298860e+06</td>\n",
              "      <td>8.706082e+06</td>\n",
              "      <td>8.025322e+06</td>\n",
              "      <td>3.682171e+06</td>\n",
              "    </tr>\n",
              "    <tr>\n",
              "      <th>8</th>\n",
              "      <td>News &amp; Politics</td>\n",
              "      <td>2018.770165</td>\n",
              "      <td>4.166610e+05</td>\n",
              "      <td>1.162869e+06</td>\n",
              "      <td>7.047117e+05</td>\n",
              "      <td>8.007037e+05</td>\n",
              "    </tr>\n",
              "    <tr>\n",
              "      <th>9</th>\n",
              "      <td>Nonprofits &amp; Activism</td>\n",
              "      <td>15.785679</td>\n",
              "      <td>8.921717e+04</td>\n",
              "      <td>1.717722e+05</td>\n",
              "      <td>1.290141e+05</td>\n",
              "      <td>7.548645e+04</td>\n",
              "    </tr>\n",
              "    <tr>\n",
              "      <th>10</th>\n",
              "      <td>People &amp; Blogs</td>\n",
              "      <td>1215.738033</td>\n",
              "      <td>2.414494e+06</td>\n",
              "      <td>7.577872e+06</td>\n",
              "      <td>1.552221e+07</td>\n",
              "      <td>3.221449e+06</td>\n",
              "    </tr>\n",
              "    <tr>\n",
              "      <th>11</th>\n",
              "      <td>Pets &amp; Animals</td>\n",
              "      <td>289.219472</td>\n",
              "      <td>1.759866e+05</td>\n",
              "      <td>5.954656e+05</td>\n",
              "      <td>5.689739e+05</td>\n",
              "      <td>2.121683e+05</td>\n",
              "    </tr>\n",
              "    <tr>\n",
              "      <th>12</th>\n",
              "      <td>Science &amp; Technology</td>\n",
              "      <td>36.679185</td>\n",
              "      <td>7.241028e+05</td>\n",
              "      <td>2.687974e+06</td>\n",
              "      <td>2.002191e+06</td>\n",
              "      <td>5.173761e+05</td>\n",
              "    </tr>\n",
              "    <tr>\n",
              "      <th>13</th>\n",
              "      <td>Sports</td>\n",
              "      <td>1022.409853</td>\n",
              "      <td>7.707879e+05</td>\n",
              "      <td>1.964053e+06</td>\n",
              "      <td>2.637246e+06</td>\n",
              "      <td>5.915017e+05</td>\n",
              "    </tr>\n",
              "    <tr>\n",
              "      <th>14</th>\n",
              "      <td>Travel &amp; Events</td>\n",
              "      <td>70.395868</td>\n",
              "      <td>6.159564e+05</td>\n",
              "      <td>1.214560e+06</td>\n",
              "      <td>9.399750e+05</td>\n",
              "      <td>2.545227e+05</td>\n",
              "    </tr>\n",
              "  </tbody>\n",
              "</table>\n",
              "</div>"
            ],
            "text/plain": [
              "                 category          2015          2016          2017  \\\n",
              "0        Autos & Vehicles   1381.529223  7.464736e+05  1.954820e+06   \n",
              "1                  Comedy    607.418633  5.124242e+05  1.252861e+06   \n",
              "2               Education   2400.654079  1.831725e+06  2.403674e+06   \n",
              "3           Entertainment  19505.687509  6.136368e+06  3.750412e+07   \n",
              "4      Film and Animation   1067.267887  1.055584e+06  9.495312e+06   \n",
              "5                  Gaming   5281.516019  2.640167e+06  9.060244e+06   \n",
              "6           Howto & Style   2709.301731  9.129834e+05  3.158939e+06   \n",
              "7                   Music   2512.123685  4.298860e+06  8.706082e+06   \n",
              "8         News & Politics   2018.770165  4.166610e+05  1.162869e+06   \n",
              "9   Nonprofits & Activism     15.785679  8.921717e+04  1.717722e+05   \n",
              "10         People & Blogs   1215.738033  2.414494e+06  7.577872e+06   \n",
              "11         Pets & Animals    289.219472  1.759866e+05  5.954656e+05   \n",
              "12   Science & Technology     36.679185  7.241028e+05  2.687974e+06   \n",
              "13                 Sports   1022.409853  7.707879e+05  1.964053e+06   \n",
              "14        Travel & Events     70.395868  6.159564e+05  1.214560e+06   \n",
              "\n",
              "            2018          2019  \n",
              "0   1.210751e+06  4.117277e+05  \n",
              "1   7.384284e+05  4.351579e+05  \n",
              "2   7.240738e+06  6.236384e+05  \n",
              "3   1.230867e+07  3.231113e+06  \n",
              "4   2.550718e+06  9.445939e+05  \n",
              "5   7.330692e+06  2.207970e+06  \n",
              "6   3.022023e+06  6.483650e+05  \n",
              "7   8.025322e+06  3.682171e+06  \n",
              "8   7.047117e+05  8.007037e+05  \n",
              "9   1.290141e+05  7.548645e+04  \n",
              "10  1.552221e+07  3.221449e+06  \n",
              "11  5.689739e+05  2.121683e+05  \n",
              "12  2.002191e+06  5.173761e+05  \n",
              "13  2.637246e+06  5.915017e+05  \n",
              "14  9.399750e+05  2.545227e+05  "
            ]
          },
          "execution_count": 62,
          "metadata": {},
          "output_type": "execute_result"
        }
      ],
      "source": [
        "views_over_subs_per_year = views_over_subs_per_year.views_over_subs.unstack().reset_index()\n",
        "views_over_subs_per_year.columns.name = None\n",
        "views_over_subs_per_year"
      ]
    },
    {
      "cell_type": "code",
      "execution_count": 63,
      "metadata": {},
      "outputs": [
        {
          "data": {
            "image/png": "[encoded data removed]",
            "text/plain": [
              "<Figure size 1500x1000 with 1 Axes>"
            ]
          },
          "metadata": {},
          "output_type": "display_data"
        }
      ],
      "source": [
        "NUM_COLORS = 15\n",
        "cm = plt.get_cmap('gist_rainbow')\n",
        "fig = plt.figure()\n",
        "ax = fig.add_subplot(111)\n",
        "ax.set_prop_cycle(color=[cm(1.*i/NUM_COLORS) for i in range(NUM_COLORS)])\n",
        "plt.rcParams[\"figure.figsize\"] = (15, 10)\n",
        "for i in np.arange(views_over_subs_per_year.shape[0]):\n",
        "    plt.plot(\n",
        "        views_over_subs_per_year.loc[\n",
        "            i,\n",
        "        ][2:],\n",
        "        label=views_over_subs_per_year.loc[i,][\n",
        "            0:1\n",
        "        ][0],\n",
        "    )\n",
        "    \n",
        "plt.legend(loc=\"upper left\")\n",
        "plt.xlabel(\"year\")\n",
        "plt.ylabel(\"video view count divided by number of subs\")\n",
        "plt.title(\"video view counts divided by nb of subs per year for each category\")\n",
        "plt.show()"
      ]
    },
    {
      "cell_type": "markdown",
      "metadata": {},
      "source": [
        "---"
      ]
    },
    {
      "cell_type": "markdown",
      "metadata": {},
      "source": [
        "# Use Least Square to predict the number of views given the category and the date"
      ]
    },
    {
      "cell_type": "code",
      "execution_count": null,
      "metadata": {},
      "outputs": [],
      "source": [
        "def choose_video_metadata_year(year):\n",
        "    return video_metadatas[video_metadatas[\"year\"] == year]\n"
      ]
    },
    {
      "cell_type": "code",
      "execution_count": null,
      "metadata": {},
      "outputs": [],
      "source": [
        "video_metadatas[\"year\"] = video_metadatas[\"upload_date\"].dt.year\n"
      ]
    },
    {
      "cell_type": "code",
      "execution_count": null,
      "metadata": {},
      "outputs": [],
      "source": [
        "video_metadatas.head()\n"
      ]
    },
    {
      "cell_type": "code",
      "execution_count": null,
      "metadata": {},
      "outputs": [],
      "source": [
        "video_metadatas.columns\n"
      ]
    },
    {
      "cell_type": "code",
      "execution_count": null,
      "metadata": {},
      "outputs": [],
      "source": [
        "video_metadatas_2005 = choose_video_metadata_year(2005)\n",
        "video_metadatas_2005.drop([\"upload_date\", \"channel_id\"], axis=1, inplace=True)\n",
        "video_metadatas_2005.head()\n"
      ]
    },
    {
      "cell_type": "code",
      "execution_count": null,
      "metadata": {},
      "outputs": [],
      "source": [
        "model = smf.ols(\n",
        "    formula=\"view_count ~ duration + C(categories)\", data=video_metadatas_2005\n",
        ")\n",
        "\n",
        "res = model.fit()\n",
        "print(res.summary())\n",
        "\n",
        "# print(res.predict([120, 'Music']))\n"
      ]
    },
    {
      "cell_type": "markdown",
      "metadata": {},
      "source": [
        "---"
      ]
    },
    {
      "cell_type": "code",
      "execution_count": null,
      "metadata": {},
      "outputs": [],
      "source": [
        "top_ranked_channels = df_channels[df_channels.subscriber_rank_sb < 100]\n",
        "top_ranked_channels.head()\n"
      ]
    },
    {
      "cell_type": "code",
      "execution_count": null,
      "metadata": {},
      "outputs": [],
      "source": [
        "date = top_ranked_channels[\"join_date\"].apply(lambda d: d.to_pydatetime().year)\n",
        "np.mean(date, axis=0)\n"
      ]
    },
    {
      "cell_type": "code",
      "execution_count": null,
      "metadata": {},
      "outputs": [],
      "source": [
        "oldest_video = df_channels[\"join_date\"].apply(lambda d: d.to_pydatetime().year)\n",
        "oldest_video.nsmallest(5)\n"
      ]
    },
    {
      "cell_type": "code",
      "execution_count": null,
      "metadata": {},
      "outputs": [],
      "source": [
        "channels_with_largest_subscribers = df_channels.nlargest(53, \"subscribers_cc\")\n",
        "channels_with_largest_subscribers.sample(7)\n"
      ]
    }
  ],
  "metadata": {
    "kernelspec": {
      "display_name": "Python 3 (ipykernel)",
      "language": "python",
      "name": "python3"
    },
    "language_info": {
      "codemirror_mode": {
        "name": "ipython",
        "version": 3
      },
      "file_extension": ".py",
      "mimetype": "text/x-python",
      "name": "python",
      "nbconvert_exporter": "python",
      "pygments_lexer": "ipython3",
      "version": "3.9.13"
    },
    "vscode": {
      "interpreter": {
        "hash": "e2552cbddfdf66195580a0cc7030164c04fc13f4bfb78773728a78bbf4f04323"
      }
    }
  },
  "nbformat": 4,
  "nbformat_minor": 2
}
